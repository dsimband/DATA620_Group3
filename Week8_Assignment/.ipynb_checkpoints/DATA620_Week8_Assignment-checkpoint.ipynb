{
 "cells": [
  {
   "cell_type": "markdown",
   "metadata": {},
   "source": [
    "# DATA620: Assignment 8 - High Frequency Words\n",
    "\n",
    "## Homework Team 3: David Simbandumwe, Eric Lehmphul and Lidiia Tronina"
   ]
  },
  {
   "cell_type": "markdown",
   "metadata": {},
   "source": [
    "1. Choose a corpus of interest.\n",
    "2. How many total unique words are in the corpus? (Please feel free to define unique words in any interesting, defensible way).\n",
    "3. Taking the most common words, how many unique words represent half of the total words in the corpus?\n",
    "4. Identify the 200 highest frequency words in this corpus.\n",
    "5. Create a graph that shows the relative frequency of these 200 words.\n",
    "6. Does the observed relative frequency of these words follow Zipf’s law? Explain.\n",
    "7. In what ways do you think the frequency of the words in this corpus differ from “all words in all corpora."
   ]
  },
  {
   "cell_type": "markdown",
   "metadata": {},
   "source": [
    "### Load Required Packages"
   ]
  },
  {
   "cell_type": "code",
   "execution_count": 91,
   "metadata": {},
   "outputs": [
    {
     "name": "stdout",
     "output_type": "stream",
     "text": [
      "[nltk_data] Error loading inagural: Package 'inagural' not found in\n",
      "[nltk_data]     index\n",
      "[nltk_data] Downloading package stopwords to\n",
      "[nltk_data]     /Users/lidiiatronina/nltk_data...\n",
      "[nltk_data]   Package stopwords is already up-to-date!\n"
     ]
    },
    {
     "data": {
      "text/plain": [
       "True"
      ]
     },
     "execution_count": 91,
     "metadata": {},
     "output_type": "execute_result"
    }
   ],
   "source": [
    "import numpy as np\n",
    "import pandas as pd\n",
    "import matplotlib.pyplot as plt\n",
    "import warnings\n",
    "import nltk\n",
    "from nltk.corpus import inaugural\n",
    "from operator import itemgetter\n",
    "warnings.filterwarnings(\"ignore\")\n",
    "nltk.download('inagural')\n",
    "nltk.download('stopwords')"
   ]
  },
  {
   "cell_type": "markdown",
   "metadata": {},
   "source": [
    "### 1. Choose a corpus of interest."
   ]
  },
  {
   "cell_type": "markdown",
   "metadata": {},
   "source": [
    "Presidents’ words matter. For better or worse, presidential rhetoric tells the American people who they are. That's why we decided to look at the inaugural speeches from the freely available library that can be downloaded from the NLTK package. The corpus is a collection of 55 texts, one for each presidential address."
   ]
  },
  {
   "cell_type": "code",
   "execution_count": 4,
   "metadata": {},
   "outputs": [
    {
     "data": {
      "text/plain": [
       "['1789-Washington.txt',\n",
       " '1793-Washington.txt',\n",
       " '1797-Adams.txt',\n",
       " '1801-Jefferson.txt',\n",
       " '1805-Jefferson.txt',\n",
       " '1809-Madison.txt',\n",
       " '1813-Madison.txt',\n",
       " '1817-Monroe.txt',\n",
       " '1821-Monroe.txt',\n",
       " '1825-Adams.txt',\n",
       " '1829-Jackson.txt',\n",
       " '1833-Jackson.txt',\n",
       " '1837-VanBuren.txt',\n",
       " '1841-Harrison.txt',\n",
       " '1845-Polk.txt',\n",
       " '1849-Taylor.txt',\n",
       " '1853-Pierce.txt',\n",
       " '1857-Buchanan.txt',\n",
       " '1861-Lincoln.txt',\n",
       " '1865-Lincoln.txt',\n",
       " '1869-Grant.txt',\n",
       " '1873-Grant.txt',\n",
       " '1877-Hayes.txt',\n",
       " '1881-Garfield.txt',\n",
       " '1885-Cleveland.txt',\n",
       " '1889-Harrison.txt',\n",
       " '1893-Cleveland.txt',\n",
       " '1897-McKinley.txt',\n",
       " '1901-McKinley.txt',\n",
       " '1905-Roosevelt.txt',\n",
       " '1909-Taft.txt',\n",
       " '1913-Wilson.txt',\n",
       " '1917-Wilson.txt',\n",
       " '1921-Harding.txt',\n",
       " '1925-Coolidge.txt',\n",
       " '1929-Hoover.txt',\n",
       " '1933-Roosevelt.txt',\n",
       " '1937-Roosevelt.txt',\n",
       " '1941-Roosevelt.txt',\n",
       " '1945-Roosevelt.txt',\n",
       " '1949-Truman.txt',\n",
       " '1953-Eisenhower.txt',\n",
       " '1957-Eisenhower.txt',\n",
       " '1961-Kennedy.txt',\n",
       " '1965-Johnson.txt',\n",
       " '1969-Nixon.txt',\n",
       " '1973-Nixon.txt',\n",
       " '1977-Carter.txt',\n",
       " '1981-Reagan.txt',\n",
       " '1985-Reagan.txt',\n",
       " '1989-Bush.txt',\n",
       " '1993-Clinton.txt',\n",
       " '1997-Clinton.txt',\n",
       " '2001-Bush.txt',\n",
       " '2005-Bush.txt',\n",
       " '2009-Obama.txt',\n",
       " '2013-Obama.txt',\n",
       " '2017-Trump.txt',\n",
       " '2021-Biden.txt']"
      ]
     },
     "execution_count": 4,
     "metadata": {},
     "output_type": "execute_result"
    }
   ],
   "source": [
    "inaugural.fileids()"
   ]
  },
  {
   "cell_type": "markdown",
   "metadata": {},
   "source": [
    "An interesting property of this collection is its time dimension. To get the year out of the filename, we extracted the first four characters."
   ]
  },
  {
   "cell_type": "code",
   "execution_count": 5,
   "metadata": {},
   "outputs": [
    {
     "data": {
      "text/plain": [
       "['1789',\n",
       " '1793',\n",
       " '1797',\n",
       " '1801',\n",
       " '1805',\n",
       " '1809',\n",
       " '1813',\n",
       " '1817',\n",
       " '1821',\n",
       " '1825',\n",
       " '1829',\n",
       " '1833',\n",
       " '1837',\n",
       " '1841',\n",
       " '1845',\n",
       " '1849',\n",
       " '1853',\n",
       " '1857',\n",
       " '1861',\n",
       " '1865',\n",
       " '1869',\n",
       " '1873',\n",
       " '1877',\n",
       " '1881',\n",
       " '1885',\n",
       " '1889',\n",
       " '1893',\n",
       " '1897',\n",
       " '1901',\n",
       " '1905',\n",
       " '1909',\n",
       " '1913',\n",
       " '1917',\n",
       " '1921',\n",
       " '1925',\n",
       " '1929',\n",
       " '1933',\n",
       " '1937',\n",
       " '1941',\n",
       " '1945',\n",
       " '1949',\n",
       " '1953',\n",
       " '1957',\n",
       " '1961',\n",
       " '1965',\n",
       " '1969',\n",
       " '1973',\n",
       " '1977',\n",
       " '1981',\n",
       " '1985',\n",
       " '1989',\n",
       " '1993',\n",
       " '1997',\n",
       " '2001',\n",
       " '2005',\n",
       " '2009',\n",
       " '2013',\n",
       " '2017',\n",
       " '2021']"
      ]
     },
     "execution_count": 5,
     "metadata": {},
     "output_type": "execute_result"
    }
   ],
   "source": [
    "[fileid[:4] for fileid in inaugural.fileids()]"
   ]
  },
  {
   "cell_type": "markdown",
   "metadata": {},
   "source": [
    "### 2. How many total unique words are in the corpus? (Please feel free to define unique words in any interesting, defensible way)."
   ]
  },
  {
   "cell_type": "markdown",
   "metadata": {},
   "source": [
    "There are a total of 152901 words in the corpus."
   ]
  },
  {
   "cell_type": "code",
   "execution_count": 6,
   "metadata": {},
   "outputs": [
    {
     "data": {
      "text/plain": [
       "152901"
      ]
     },
     "execution_count": 6,
     "metadata": {},
     "output_type": "execute_result"
    }
   ],
   "source": [
    "# Count ALL words\n",
    "all_words = inaugural.words()\n",
    "len(all_words)"
   ]
  },
  {
   "cell_type": "code",
   "execution_count": 7,
   "metadata": {},
   "outputs": [
    {
     "data": {
      "text/plain": [
       "['Fellow', '-', 'Citizens', 'of', 'the', 'Senate', ...]"
      ]
     },
     "execution_count": 7,
     "metadata": {},
     "output_type": "execute_result"
    }
   ],
   "source": [
    "#Washington's speech\n",
    "inaugural.words('1789-Washington.txt')"
   ]
  },
  {
   "cell_type": "code",
   "execution_count": 8,
   "metadata": {},
   "outputs": [
    {
     "data": {
      "text/plain": [
       "[('the', 9555),\n",
       " (',', 7275),\n",
       " ('of', 7169),\n",
       " ('and', 5226),\n",
       " ('.', 5011),\n",
       " ('to', 4477),\n",
       " ('in', 2604),\n",
       " ('a', 2229),\n",
       " ('our', 2062),\n",
       " ('that', 1769),\n",
       " ('be', 1505),\n",
       " ('is', 1477),\n",
       " ('we', 1281),\n",
       " ('for', 1141),\n",
       " ('by', 1063),\n",
       " ('it', 1036),\n",
       " ('have', 1029),\n",
       " ('which', 1007),\n",
       " ('not', 972),\n",
       " ('will', 935)]"
      ]
     },
     "execution_count": 8,
     "metadata": {},
     "output_type": "execute_result"
    }
   ],
   "source": [
    "nltk.FreqDist(all_words).most_common(20)"
   ]
  },
  {
   "cell_type": "markdown",
   "metadata": {},
   "source": [
    "There are 10025 unique words in this data. Looking at the sample of our words above, we can see that it includes punctuation as well as stopwords, such as 'the' and 'of'. These words are meaningless for research. We also know that python will see capital letters as distinct from lowercase letters, so we need to convert all words to lowercase and remove punctuation, some common words, and numbers to get only the unique words."
   ]
  },
  {
   "cell_type": "code",
   "execution_count": 9,
   "metadata": {},
   "outputs": [
    {
     "data": {
      "text/plain": [
       "10025"
      ]
     },
     "execution_count": 9,
     "metadata": {},
     "output_type": "execute_result"
    }
   ],
   "source": [
    "len(set(all_words))"
   ]
  },
  {
   "cell_type": "markdown",
   "metadata": {},
   "source": [
    "Removing stopwords can be done by calling the stopwords corpus in NLTK, which contain the common\n",
    "high-frequency words with no practical meaning."
   ]
  },
  {
   "cell_type": "code",
   "execution_count": 17,
   "metadata": {},
   "outputs": [
    {
     "name": "stdout",
     "output_type": "stream",
     "text": [
      "['i', 'me', 'my', 'myself', 'we', 'our', 'ours', 'ourselves', 'you', \"you're\", \"you've\", \"you'll\", \"you'd\", 'your', 'yours', 'yourself', 'yourselves', 'he', 'him', 'his', 'himself', 'she', \"she's\", 'her', 'hers', 'herself', 'it', \"it's\", 'its', 'itself', 'they', 'them', 'their', 'theirs', 'themselves', 'what', 'which', 'who', 'whom', 'this', 'that', \"that'll\", 'these', 'those', 'am', 'is', 'are', 'was', 'were', 'be', 'been', 'being', 'have', 'has', 'had', 'having', 'do', 'does', 'did', 'doing', 'a', 'an', 'the', 'and', 'but', 'if', 'or', 'because', 'as', 'until', 'while', 'of', 'at', 'by', 'for', 'with', 'about', 'against', 'between', 'into', 'through', 'during', 'before', 'after', 'above', 'below', 'to', 'from', 'up', 'down', 'in', 'out', 'on', 'off', 'over', 'under', 'again', 'further', 'then', 'once', 'here', 'there', 'when', 'where', 'why', 'how', 'all', 'any', 'both', 'each', 'few', 'more', 'most', 'other', 'some', 'such', 'no', 'nor', 'not', 'only', 'own', 'same', 'so', 'than', 'too', 'very', 's', 't', 'can', 'will', 'just', 'don', \"don't\", 'should', \"should've\", 'now', 'd', 'll', 'm', 'o', 're', 've', 'y', 'ain', 'aren', \"aren't\", 'couldn', \"couldn't\", 'didn', \"didn't\", 'doesn', \"doesn't\", 'hadn', \"hadn't\", 'hasn', \"hasn't\", 'haven', \"haven't\", 'isn', \"isn't\", 'ma', 'mightn', \"mightn't\", 'mustn', \"mustn't\", 'needn', \"needn't\", 'shan', \"shan't\", 'shouldn', \"shouldn't\", 'wasn', \"wasn't\", 'weren', \"weren't\", 'won', \"won't\", 'wouldn', \"wouldn't\"]\n"
     ]
    }
   ],
   "source": [
    "#remove stopwords \n",
    "from nltk.corpus import stopwords\n",
    "print(stopwords.words('english'))\n",
    "stop_words = set(stopwords.words('english')) "
   ]
  },
  {
   "cell_type": "code",
   "execution_count": 44,
   "metadata": {},
   "outputs": [],
   "source": [
    "filtered_words = [word.lower() for word in all_words if word.lower() not in stop_words] "
   ]
  },
  {
   "cell_type": "code",
   "execution_count": 45,
   "metadata": {},
   "outputs": [
    {
     "data": {
      "text/plain": [
       "80124"
      ]
     },
     "execution_count": 45,
     "metadata": {},
     "output_type": "execute_result"
    }
   ],
   "source": [
    "len(filtered_words)"
   ]
  },
  {
   "cell_type": "code",
   "execution_count": 46,
   "metadata": {},
   "outputs": [
    {
     "data": {
      "text/plain": [
       "9173"
      ]
     },
     "execution_count": 46,
     "metadata": {},
     "output_type": "execute_result"
    }
   ],
   "source": [
    "len(set(filtered_words))"
   ]
  },
  {
   "cell_type": "code",
   "execution_count": 47,
   "metadata": {},
   "outputs": [],
   "source": [
    "#remove punctuation\n",
    "custom_stopwords = set((',',' ','.', ';', '?', '-', '!', '(', ')','--','\"',\"'\", ':', '¡¦', '¡','', '9', '/', '11','ii', '400','1863','','us',',\"'))"
   ]
  },
  {
   "cell_type": "code",
   "execution_count": 51,
   "metadata": {},
   "outputs": [],
   "source": [
    "filtered_words2 = [ word.lower() for word in filtered_words if word.lower() not in custom_stopwords ] "
   ]
  },
  {
   "cell_type": "code",
   "execution_count": 52,
   "metadata": {},
   "outputs": [
    {
     "data": {
      "text/plain": [
       "65255"
      ]
     },
     "execution_count": 52,
     "metadata": {},
     "output_type": "execute_result"
    }
   ],
   "source": [
    "len(filtered_words2)"
   ]
  },
  {
   "cell_type": "code",
   "execution_count": 53,
   "metadata": {},
   "outputs": [
    {
     "data": {
      "text/plain": [
       "9150"
      ]
     },
     "execution_count": 53,
     "metadata": {},
     "output_type": "execute_result"
    }
   ],
   "source": [
    "len(set(filtered_words2))"
   ]
  },
  {
   "cell_type": "markdown",
   "metadata": {},
   "source": [
    "After we filtered out all unnecessary words, we got 9150 unique words in the corpus."
   ]
  },
  {
   "cell_type": "markdown",
   "metadata": {},
   "source": [
    "### 3. Taking the most common words, how many unique words represent half of the total words in the corpus?"
   ]
  },
  {
   "cell_type": "markdown",
   "metadata": {},
   "source": [
    "There is a total of 65255 words in the corpus. That is excluding filtered out words.The following 496 unique words represent half of the these words."
   ]
  },
  {
   "cell_type": "code",
   "execution_count": 54,
   "metadata": {},
   "outputs": [
    {
     "name": "stdout",
     "output_type": "stream",
     "text": [
      "496\n"
     ]
    }
   ],
   "source": [
    "half_words = nltk.FreqDist(filtered_words2)     \n",
    "#print(*[w for w,n in fdist.most_common()[:332]], sep = \", \")    \n",
    "tw=len(filtered_words2)\n",
    "tcount=0\n",
    "wcount=0\n",
    "for word, count in half_words.most_common():\n",
    "    tcount=tcount+count\n",
    "    wcount=wcount+1\n",
    "    if tcount>(tw/2):\n",
    "        print(wcount)\n",
    "        break"
   ]
  },
  {
   "cell_type": "code",
   "execution_count": 55,
   "metadata": {},
   "outputs": [
    {
     "name": "stdout",
     "output_type": "stream",
     "text": [
      "government, people, must, upon, great, world, may, states, nation, country, shall, every, one, peace, new, citizens, power, america, public, time, would, constitution, united, nations, union, freedom, war, free, american, let, fellow, national, made, good, men, make, years, well, justice, life, without, spirit, rights, never, law, congress, laws, work, liberty, right, best, duty, hope, interests, know, god, today, much, many, state, among, political, history, foreign, long, first, man, powers, day, future, executive, policy, president, principles, progress, part, human, within, whole, ever, common, duties, support, administration, faith, system, far, together, confidence, service, purpose, present, way, less, still, yet, americans, necessary, party, always, come, better, force, strength, high, believe, need, old, equal, institutions, interest, others, office, general, .\", things, land, could, means, even, home, place, federal, democracy, prosperity, give, change, might, secure, action, another, like, find, republic, security, order, whose, given, take, full, stand, responsibility, self, called, important, proper, found, commerce, see, true, business, subject, respect, honor, cause, earth, seek, revenue, century, trust, ought, character, since, question, children, principle, toward, civil, oath, beyond, done, act, influence, course, become, protection, cannot, love, meet, citizen, strong, also, help, past, however, authority, live, countrymen, greater, use, constitutional, economy, happiness, experience, sense, individual, promise, hand, governments, times, resources, continue, trade, domestic, lives, look, whether, nothing, purposes, defense, opinion, labor, control, opportunity, go, effort, condition, two, alone, economic, success, relations, maintain, preserve, ask, end, hands, regard, therefore, say, wisdom, fear, last, care, independence, moral, heart, moment, form, parties, taken, importance, ago, either, desire, bring, affairs, mind, measures, circumstances, local, exercise, welfare, mankind, legislation, generation, task, thought, race, knowledge, protect, greatest, aid, millions, blessings, call, danger, body, fair, period, increase, face, making, forward, essential, possible, favor, throughout, example, safety, peoples, hopes, share, occasion, society, highest, passed, efforts, reason, courage, territory, hold, civilization, words, little, large, judgment, require, chief, friends, certain, wealth, effect, limits, countries, pledge, questions, unity, nature, faithful, rule, object, view, sufficient, revolution, abroad, necessity, already, carry, money, four, international, objects, attention, patriotism, destiny, permanent, thus, solemn, promote, obligations, existence, year, social, different, military, population, conditions, members, problems, instrument, none, truth, produce, result, speak, industry, education, powerful, fail, community, back, women, independent, degree, wise, single, expect, lead, sound, dangers, small, south, clear, industrial, placed, equally, wish, advance, conduct, fact, generations, fathers, arms, discharge, dignity, rather, set, mr, tariff, established, due, sacred, personal, happy, seen, portion, think, enough, want, property, extent, extended, almighty, consideration, remain, light, presence, hearts, feel, often, whatever, election, position, humanity, reach, religious, ready, turn, ability, defend, away, days, responsibilities, citizenship, across, ideals, honorable, determined, constant, opinions, peaceful, left, keep, several, devotion, growth, enterprise, put, beginning, neither, views, endeavor, provide, mere, preserved, departments, longer, sovereignty, feeling, expression, vast, measure, came, demands, sacrifice, practical, cost, serve, private, honest, preservation, harmony, perfect, secured, demand, supreme, though, legislative, needs, equality, complete, differences, forces, case, patriotic, prevent, evil, obligation, popular, cooperation, accept, material, merely, distinguished, return, parts, number, something, doubt, bear, intercourse, safe, conscience, mutual, pay, family, debt, capacity, known, slavery, created, remember, washington, build, thank\n"
     ]
    }
   ],
   "source": [
    "print(*[w for w,n in half_words.most_common()[:496]], sep = \", \")"
   ]
  },
  {
   "cell_type": "code",
   "execution_count": 56,
   "metadata": {},
   "outputs": [
    {
     "data": {
      "image/png": "[encoded data removed]",
      "text/plain": [
       "<Figure size 1080x504 with 1 Axes>"
      ]
     },
     "metadata": {
      "needs_background": "light"
     },
     "output_type": "display_data"
    }
   ],
   "source": [
    "plt.figure(figsize=(15,7))\n",
    "half_words.plot(496, cumulative = True)"
   ]
  },
  {
   "cell_type": "markdown",
   "metadata": {},
   "source": [
    "The cumulative word count for the first 496 words in the plot below matches to the expected value of 32 627"
   ]
  },
  {
   "cell_type": "markdown",
   "metadata": {},
   "source": [
    "### 4. Identify the 200 highest frequency words in this corpus."
   ]
  },
  {
   "cell_type": "markdown",
   "metadata": {},
   "source": [
    "#### 200 highest frequency words:"
   ]
  },
  {
   "cell_type": "code",
   "execution_count": 57,
   "metadata": {},
   "outputs": [
    {
     "data": {
      "text/plain": [
       "[('government', 600),\n",
       " ('people', 594),\n",
       " ('must', 374),\n",
       " ('upon', 371),\n",
       " ('great', 346),\n",
       " ('world', 346),\n",
       " ('may', 343),\n",
       " ('states', 335),\n",
       " ('nation', 330),\n",
       " ('country', 322),\n",
       " ('shall', 316),\n",
       " ('every', 301),\n",
       " ('one', 272),\n",
       " ('peace', 259),\n",
       " ('new', 255),\n",
       " ('citizens', 248),\n",
       " ('power', 241),\n",
       " ('america', 240),\n",
       " ('public', 227),\n",
       " ('time', 223),\n",
       " ('would', 213),\n",
       " ('constitution', 209),\n",
       " ('united', 204),\n",
       " ('nations', 199),\n",
       " ('union', 191),\n",
       " ('freedom', 189),\n",
       " ('war', 185),\n",
       " ('free', 184),\n",
       " ('american', 171),\n",
       " ('let', 160),\n",
       " ('fellow', 158),\n",
       " ('national', 158),\n",
       " ('made', 156),\n",
       " ('good', 150),\n",
       " ('men', 149),\n",
       " ('make', 147),\n",
       " ('years', 143),\n",
       " ('well', 142),\n",
       " ('justice', 142),\n",
       " ('life', 140),\n",
       " ('without', 140),\n",
       " ('spirit', 140),\n",
       " ('rights', 138),\n",
       " ('never', 137),\n",
       " ('law', 136),\n",
       " ('congress', 130),\n",
       " ('laws', 130),\n",
       " ('work', 124),\n",
       " ('liberty', 123),\n",
       " ('right', 122),\n",
       " ('best', 122),\n",
       " ('duty', 120),\n",
       " ('hope', 120),\n",
       " ('interests', 115),\n",
       " ('know', 112),\n",
       " ('god', 112),\n",
       " ('today', 112),\n",
       " ('much', 111),\n",
       " ('many', 110),\n",
       " ('state', 110),\n",
       " ('among', 108),\n",
       " ('political', 107),\n",
       " ('history', 106),\n",
       " ('foreign', 104),\n",
       " ('long', 103),\n",
       " ('first', 102),\n",
       " ('man', 102),\n",
       " ('powers', 101),\n",
       " ('day', 98),\n",
       " ('future', 97),\n",
       " ('executive', 97),\n",
       " ('policy', 97),\n",
       " ('president', 96),\n",
       " ('principles', 96),\n",
       " ('progress', 96),\n",
       " ('part', 96),\n",
       " ('human', 94),\n",
       " ('within', 94),\n",
       " ('whole', 93),\n",
       " ('ever', 93),\n",
       " ('common', 93),\n",
       " ('duties', 92),\n",
       " ('support', 92),\n",
       " ('administration', 91),\n",
       " ('faith', 91),\n",
       " ('system', 90),\n",
       " ('far', 89),\n",
       " ('together', 89),\n",
       " ('confidence', 88),\n",
       " ('service', 87),\n",
       " ('purpose', 87),\n",
       " ('present', 86),\n",
       " ('way', 86),\n",
       " ('less', 85),\n",
       " ('still', 84),\n",
       " ('yet', 84),\n",
       " ('americans', 84),\n",
       " ('necessary', 82),\n",
       " ('party', 82),\n",
       " ('always', 81),\n",
       " ('come', 81),\n",
       " ('better', 80),\n",
       " ('force', 80),\n",
       " ('strength', 80),\n",
       " ('high', 78),\n",
       " ('believe', 78),\n",
       " ('need', 78),\n",
       " ('old', 78),\n",
       " ('equal', 77),\n",
       " ('institutions', 77),\n",
       " ('interest', 77),\n",
       " ('others', 76),\n",
       " ('office', 75),\n",
       " ('general', 75),\n",
       " ('.\"', 74),\n",
       " ('things', 74),\n",
       " ('land', 73),\n",
       " ('could', 72),\n",
       " ('means', 72),\n",
       " ('even', 72),\n",
       " ('home', 72),\n",
       " ('place', 71),\n",
       " ('federal', 71),\n",
       " ('democracy', 71),\n",
       " ('prosperity', 70),\n",
       " ('give', 70),\n",
       " ('change', 70),\n",
       " ('might', 69),\n",
       " ('secure', 69),\n",
       " ('action', 69),\n",
       " ('another', 68),\n",
       " ('like', 68),\n",
       " ('find', 68),\n",
       " ('republic', 68),\n",
       " ('security', 67),\n",
       " ('order', 66),\n",
       " ('whose', 66),\n",
       " ('given', 66),\n",
       " ('take', 66),\n",
       " ('full', 66),\n",
       " ('stand', 65),\n",
       " ('responsibility', 65),\n",
       " ('self', 65),\n",
       " ('called', 64),\n",
       " ('important', 64),\n",
       " ('proper', 64),\n",
       " ('found', 64),\n",
       " ('commerce', 64),\n",
       " ('see', 63),\n",
       " ('true', 63),\n",
       " ('business', 63),\n",
       " ('subject', 62),\n",
       " ('respect', 62),\n",
       " ('honor', 62),\n",
       " ('cause', 62),\n",
       " ('earth', 62),\n",
       " ('seek', 62),\n",
       " ('revenue', 61),\n",
       " ('century', 61),\n",
       " ('trust', 60),\n",
       " ('ought', 60),\n",
       " ('character', 60),\n",
       " ('since', 60),\n",
       " ('question', 60),\n",
       " ('children', 60),\n",
       " ('principle', 59),\n",
       " ('toward', 59),\n",
       " ('civil', 58),\n",
       " ('oath', 58),\n",
       " ('beyond', 58),\n",
       " ('done', 58),\n",
       " ('act', 57),\n",
       " ('influence', 57),\n",
       " ('course', 57),\n",
       " ('become', 57),\n",
       " ('protection', 57),\n",
       " ('cannot', 57),\n",
       " ('love', 56),\n",
       " ('meet', 56),\n",
       " ('citizen', 56),\n",
       " ('strong', 56),\n",
       " ('also', 56),\n",
       " ('help', 56),\n",
       " ('past', 55),\n",
       " ('however', 55),\n",
       " ('authority', 55),\n",
       " ('live', 55),\n",
       " ('countrymen', 55),\n",
       " ('greater', 54),\n",
       " ('use', 54),\n",
       " ('constitutional', 53),\n",
       " ('economy', 53),\n",
       " ('happiness', 52),\n",
       " ('experience', 52),\n",
       " ('sense', 52),\n",
       " ('individual', 52),\n",
       " ('promise', 52),\n",
       " ('hand', 51),\n",
       " ('governments', 51),\n",
       " ('times', 51)]"
      ]
     },
     "execution_count": 57,
     "metadata": {},
     "output_type": "execute_result"
    }
   ],
   "source": [
    "fdist = nltk.FreqDist(filtered_words2)\n",
    "fdist.most_common(200) "
   ]
  },
  {
   "cell_type": "code",
   "execution_count": 58,
   "metadata": {},
   "outputs": [
    {
     "data": {
      "image/png": "[encoded data removed]",
      "text/plain": [
       "<Figure size 432x288 with 1 Axes>"
      ]
     },
     "metadata": {
      "needs_background": "light"
     },
     "output_type": "display_data"
    }
   ],
   "source": [
    "fdist.plot(20) "
   ]
  },
  {
   "cell_type": "markdown",
   "metadata": {},
   "source": [
    "### 5. Create a graph that shows the relative frequency of these 200 words."
   ]
  },
  {
   "cell_type": "code",
   "execution_count": 61,
   "metadata": {},
   "outputs": [],
   "source": [
    "counts = [(word, filtered_words2.count(word) / len(filtered_words2)) for word in set(filtered_words2)] \n",
    "def takeSecond(elem):\n",
    "    return elem[1]\n",
    "counts.sort(key=takeSecond, reverse=True)\n",
    "relative_frequency = counts[:200]"
   ]
  },
  {
   "cell_type": "code",
   "execution_count": 62,
   "metadata": {},
   "outputs": [
    {
     "data": {
      "text/plain": [
       "[('government', 0.009194697724312313),\n",
       " ('people', 0.009102750747069191),\n",
       " ('must', 0.005731361581488009),\n",
       " ('upon', 0.005685388092866447),\n",
       " ('world', 0.005302275687686767),\n",
       " ('great', 0.005302275687686767),\n",
       " ('may', 0.005256302199065205),\n",
       " ('states', 0.005133706229407708),\n",
       " ('nation', 0.005057083748371772),\n",
       " ('country', 0.004934487778714275),\n",
       " ('shall', 0.004842540801471152),\n",
       " ('every', 0.004612673358363344),\n",
       " ('one', 0.004168262968354915),\n",
       " ('peace', 0.003969044517661482),\n",
       " ('new', 0.003907746532832733),\n",
       " ('citizens', 0.003800475059382423),\n",
       " ('power', 0.0036932035859321127),\n",
       " ('america', 0.003677879089724925),\n",
       " ('public', 0.003478660639031492),\n",
       " ('time', 0.003417362654202743),\n",
       " ('would', 0.0032641176921308713),\n",
       " ('constitution', 0.0032028197073021222),\n",
       " ('united', 0.0031261972262661866),\n",
       " ('nations', 0.0030495747452302505),\n",
       " ('union', 0.002926978775572753),\n",
       " ('freedom', 0.002896329783158379),\n",
       " ('war', 0.00283503179832963),\n",
       " ('free', 0.002819707302122443),\n",
       " ('american', 0.002620488851429009),\n",
       " ('let', 0.00245191939314995),\n",
       " ('fellow', 0.002421270400735576),\n",
       " ('national', 0.002421270400735576),\n",
       " ('made', 0.0023906214083212014),\n",
       " ('good', 0.0022986744310780783),\n",
       " ('men', 0.0022833499348708913),\n",
       " ('make', 0.0022527009424565167),\n",
       " ('years', 0.002191402957627768),\n",
       " ('justice', 0.0021760784614205807),\n",
       " ('well', 0.0021760784614205807),\n",
       " ('spirit', 0.0021454294690062066),\n",
       " ('life', 0.0021454294690062066),\n",
       " ('without', 0.0021454294690062066),\n",
       " ('rights', 0.002114780476591832),\n",
       " ('never', 0.002099455980384645),\n",
       " ('law', 0.0020841314841774576),\n",
       " ('congress', 0.0019921845069343345),\n",
       " ('laws', 0.0019921845069343345),\n",
       " ('work', 0.0019002375296912114),\n",
       " ('liberty', 0.0018849130334840241),\n",
       " ('right', 0.001869588537276837),\n",
       " ('best', 0.001869588537276837),\n",
       " ('hope', 0.0018389395448624626),\n",
       " ('duty', 0.0018389395448624626),\n",
       " ('interests', 0.0017623170638265268),\n",
       " ('know', 0.0017163435752049652),\n",
       " ('today', 0.0017163435752049652),\n",
       " ('god', 0.0017163435752049652),\n",
       " ('much', 0.001701019078997778),\n",
       " ('state', 0.0016856945827905907),\n",
       " ('many', 0.0016856945827905907),\n",
       " ('among', 0.0016550455903762164),\n",
       " ('political', 0.0016397210941690291),\n",
       " ('history', 0.001624396597961842),\n",
       " ('foreign', 0.0015937476055474676),\n",
       " ('long', 0.0015784231093402803),\n",
       " ('man', 0.0015630986131330933),\n",
       " ('first', 0.0015630986131330933),\n",
       " ('powers', 0.001547774116925906),\n",
       " ('day', 0.0015018006283043445),\n",
       " ('policy', 0.0014864761320971572),\n",
       " ('executive', 0.0014864761320971572),\n",
       " ('future', 0.0014864761320971572),\n",
       " ('principles', 0.0014711516358899702),\n",
       " ('president', 0.0014711516358899702),\n",
       " ('progress', 0.0014711516358899702),\n",
       " ('part', 0.0014711516358899702),\n",
       " ('within', 0.0014405026434755957),\n",
       " ('human', 0.0014405026434755957),\n",
       " ('common', 0.0014251781472684087),\n",
       " ('ever', 0.0014251781472684087),\n",
       " ('whole', 0.0014251781472684087),\n",
       " ('support', 0.0014098536510612214),\n",
       " ('duties', 0.0014098536510612214),\n",
       " ('faith', 0.0013945291548540341),\n",
       " ('administration', 0.0013945291548540341),\n",
       " ('system', 0.001379204658646847),\n",
       " ('together', 0.0013638801624396599),\n",
       " ('far', 0.0013638801624396599),\n",
       " ('confidence', 0.0013485556662324726),\n",
       " ('purpose', 0.0013332311700252853),\n",
       " ('service', 0.0013332311700252853),\n",
       " ('way', 0.0013179066738180983),\n",
       " ('present', 0.0013179066738180983),\n",
       " ('less', 0.001302582177610911),\n",
       " ('yet', 0.0012872576814037238),\n",
       " ('still', 0.0012872576814037238),\n",
       " ('americans', 0.0012872576814037238),\n",
       " ('necessary', 0.0012566086889893495),\n",
       " ('party', 0.0012566086889893495),\n",
       " ('come', 0.0012412841927821622),\n",
       " ('always', 0.0012412841927821622),\n",
       " ('better', 0.001225959696574975),\n",
       " ('force', 0.001225959696574975),\n",
       " ('strength', 0.001225959696574975),\n",
       " ('need', 0.0011953107041606007),\n",
       " ('old', 0.0011953107041606007),\n",
       " ('high', 0.0011953107041606007),\n",
       " ('believe', 0.0011953107041606007),\n",
       " ('interest', 0.0011799862079534134),\n",
       " ('institutions', 0.0011799862079534134),\n",
       " ('equal', 0.0011799862079534134),\n",
       " ('others', 0.0011646617117462264),\n",
       " ('general', 0.0011493372155390391),\n",
       " ('office', 0.0011493372155390391),\n",
       " ('.\"', 0.001134012719331852),\n",
       " ('things', 0.001134012719331852),\n",
       " ('land', 0.0011186882231246649),\n",
       " ('could', 0.0011033637269174776),\n",
       " ('home', 0.0011033637269174776),\n",
       " ('means', 0.0011033637269174776),\n",
       " ('even', 0.0011033637269174776),\n",
       " ('place', 0.0010880392307102903),\n",
       " ('democracy', 0.0010880392307102903),\n",
       " ('federal', 0.0010880392307102903),\n",
       " ('give', 0.0010727147345031033),\n",
       " ('prosperity', 0.0010727147345031033),\n",
       " ('change', 0.0010727147345031033),\n",
       " ('secure', 0.001057390238295916),\n",
       " ('action', 0.001057390238295916),\n",
       " ('might', 0.001057390238295916),\n",
       " ('another', 0.0010420657420887288),\n",
       " ('find', 0.0010420657420887288),\n",
       " ('like', 0.0010420657420887288),\n",
       " ('republic', 0.0010420657420887288),\n",
       " ('security', 0.0010267412458815415),\n",
       " ('given', 0.0010114167496743545),\n",
       " ('full', 0.0010114167496743545),\n",
       " ('whose', 0.0010114167496743545),\n",
       " ('order', 0.0010114167496743545),\n",
       " ('take', 0.0010114167496743545),\n",
       " ('self', 0.0009960922534671672),\n",
       " ('responsibility', 0.0009960922534671672),\n",
       " ('stand', 0.0009960922534671672),\n",
       " ('commerce', 0.00098076775725998),\n",
       " ('proper', 0.00098076775725998),\n",
       " ('called', 0.00098076775725998),\n",
       " ('important', 0.00098076775725998),\n",
       " ('found', 0.00098076775725998),\n",
       " ('true', 0.0009654432610527928),\n",
       " ('see', 0.0009654432610527928),\n",
       " ('business', 0.0009654432610527928),\n",
       " ('subject', 0.0009501187648456057),\n",
       " ('respect', 0.0009501187648456057),\n",
       " ('cause', 0.0009501187648456057),\n",
       " ('honor', 0.0009501187648456057),\n",
       " ('earth', 0.0009501187648456057),\n",
       " ('seek', 0.0009501187648456057),\n",
       " ('revenue', 0.0009347942686384186),\n",
       " ('century', 0.0009347942686384186),\n",
       " ('since', 0.0009194697724312313),\n",
       " ('children', 0.0009194697724312313),\n",
       " ('ought', 0.0009194697724312313),\n",
       " ('question', 0.0009194697724312313),\n",
       " ('character', 0.0009194697724312313),\n",
       " ('trust', 0.0009194697724312313),\n",
       " ('principle', 0.0009041452762240442),\n",
       " ('toward', 0.0009041452762240442),\n",
       " ('done', 0.0008888207800168569),\n",
       " ('civil', 0.0008888207800168569),\n",
       " ('beyond', 0.0008888207800168569),\n",
       " ('oath', 0.0008888207800168569),\n",
       " ('protection', 0.0008734962838096697),\n",
       " ('become', 0.0008734962838096697),\n",
       " ('course', 0.0008734962838096697),\n",
       " ('act', 0.0008734962838096697),\n",
       " ('cannot', 0.0008734962838096697),\n",
       " ('influence', 0.0008734962838096697),\n",
       " ('meet', 0.0008581717876024826),\n",
       " ('help', 0.0008581717876024826),\n",
       " ('strong', 0.0008581717876024826),\n",
       " ('also', 0.0008581717876024826),\n",
       " ('love', 0.0008581717876024826),\n",
       " ('citizen', 0.0008581717876024826),\n",
       " ('live', 0.0008428472913952953),\n",
       " ('however', 0.0008428472913952953),\n",
       " ('authority', 0.0008428472913952953),\n",
       " ('countrymen', 0.0008428472913952953),\n",
       " ('past', 0.0008428472913952953),\n",
       " ('greater', 0.0008275227951881082),\n",
       " ('use', 0.0008275227951881082),\n",
       " ('economy', 0.000812198298980921),\n",
       " ('constitutional', 0.000812198298980921),\n",
       " ('sense', 0.0007968738027737338),\n",
       " ('promise', 0.0007968738027737338),\n",
       " ('individual', 0.0007968738027737338),\n",
       " ('experience', 0.0007968738027737338),\n",
       " ('happiness', 0.0007968738027737338),\n",
       " ('times', 0.0007815493065665467),\n",
       " ('trade', 0.0007815493065665467),\n",
       " ('continue', 0.0007815493065665467)]"
      ]
     },
     "execution_count": 62,
     "metadata": {},
     "output_type": "execute_result"
    }
   ],
   "source": [
    "relative_frequency"
   ]
  },
  {
   "cell_type": "code",
   "execution_count": 63,
   "metadata": {},
   "outputs": [
    {
     "data": {
      "text/plain": [
       "<BarContainer object of 200 artists>"
      ]
     },
     "execution_count": 63,
     "metadata": {},
     "output_type": "execute_result"
    },
    {
     "data": {
      "image/png": "[encoded data removed]",
      "text/plain": [
       "<Figure size 1800x360 with 1 Axes>"
      ]
     },
     "metadata": {
      "needs_background": "light"
     },
     "output_type": "display_data"
    }
   ],
   "source": [
    "my_dict = {}\n",
    "wcount=0\n",
    "for word, count in fdist.most_common():       \n",
    "    wcount=wcount+1\n",
    "    my_dict[word]=count/tw\n",
    "    if wcount>199:\n",
    "        break\n",
    "        \n",
    "plt.figure(figsize=(25,5))\n",
    "plt.xticks(rotation=90)\n",
    "plt.bar(my_dict.keys(), my_dict.values(), width=.5)"
   ]
  },
  {
   "cell_type": "markdown",
   "metadata": {},
   "source": [
    "### 6. Does the observed relative frequency of these words follow Zipf’s law? Explain."
   ]
  },
  {
   "cell_type": "markdown",
   "metadata": {},
   "source": [
    "Zipf's law states that the relationship between the frequency of a word in a text and its rank is approximately linear. Wikipedia says- Zipf’s law states that given some corpus of natural language utterances, the frequency of any word is inversely proportional to its rank in the frequency table. Thus the most frequent word will occur approximately twice as often as the second most frequent word, three times as often as the third most frequent word, etc."
   ]
  },
  {
   "cell_type": "code",
   "execution_count": 128,
   "metadata": {},
   "outputs": [],
   "source": [
    "frequency = {}\n",
    "\n",
    "for word in filtered_words2 :\n",
    "    count = frequency.get(word , 0)\n",
    "    frequency[ word ] = count + 1\n",
    "\n",
    "rank = 1\n",
    "column_header = ['Rank', 'Frequency', 'Frequency * Rank']\n",
    "df = pd.DataFrame( columns = column_header )\n",
    "collection = sorted(frequency.items(), key=itemgetter(1), reverse = True)"
   ]
  },
  {
   "cell_type": "code",
   "execution_count": 129,
   "metadata": {},
   "outputs": [
    {
     "data": {
      "text/html": [
       "<div>\n",
       "<style>\n",
       "    .dataframe thead tr:only-child th {\n",
       "        text-align: right;\n",
       "    }\n",
       "\n",
       "    .dataframe thead th {\n",
       "        text-align: left;\n",
       "    }\n",
       "\n",
       "    .dataframe tbody tr th {\n",
       "        vertical-align: top;\n",
       "    }\n",
       "</style>\n",
       "<table border=\"1\" class=\"dataframe\">\n",
       "  <thead>\n",
       "    <tr style=\"text-align: right;\">\n",
       "      <th></th>\n",
       "      <th>Rank</th>\n",
       "      <th>Frequency</th>\n",
       "      <th>Frequency * Rank</th>\n",
       "    </tr>\n",
       "  </thead>\n",
       "  <tbody>\n",
       "    <tr>\n",
       "      <th>government</th>\n",
       "      <td>1</td>\n",
       "      <td>600</td>\n",
       "      <td>600</td>\n",
       "    </tr>\n",
       "    <tr>\n",
       "      <th>people</th>\n",
       "      <td>2</td>\n",
       "      <td>594</td>\n",
       "      <td>1188</td>\n",
       "    </tr>\n",
       "    <tr>\n",
       "      <th>must</th>\n",
       "      <td>3</td>\n",
       "      <td>374</td>\n",
       "      <td>1122</td>\n",
       "    </tr>\n",
       "    <tr>\n",
       "      <th>upon</th>\n",
       "      <td>4</td>\n",
       "      <td>371</td>\n",
       "      <td>1484</td>\n",
       "    </tr>\n",
       "    <tr>\n",
       "      <th>great</th>\n",
       "      <td>5</td>\n",
       "      <td>346</td>\n",
       "      <td>1730</td>\n",
       "    </tr>\n",
       "  </tbody>\n",
       "</table>\n",
       "</div>"
      ],
      "text/plain": [
       "           Rank Frequency Frequency * Rank\n",
       "government    1       600              600\n",
       "people        2       594             1188\n",
       "must          3       374             1122\n",
       "upon          4       371             1484\n",
       "great         5       346             1730"
      ]
     },
     "execution_count": 129,
     "metadata": {},
     "output_type": "execute_result"
    }
   ],
   "source": [
    "for word , freq in collection:\n",
    "    df.loc[word] = [rank, freq, rank*freq]\n",
    "    rank = rank + 1\n",
    "\n",
    "df.head()"
   ]
  },
  {
   "cell_type": "code",
   "execution_count": 125,
   "metadata": {},
   "outputs": [],
   "source": [
    "mostf = fdist.most_common()[0][1]\n",
    "expected_counts = []\n",
    "rank = 0\n",
    "for i in range(len(fdist)):\n",
    "    rank += 1\n",
    "    expected_counts.append(round(mostf * (1/rank)))\n"
   ]
  },
  {
   "cell_type": "code",
   "execution_count": 130,
   "metadata": {},
   "outputs": [
    {
     "data": {
      "text/html": [
       "<div>\n",
       "<style>\n",
       "    .dataframe thead tr:only-child th {\n",
       "        text-align: right;\n",
       "    }\n",
       "\n",
       "    .dataframe thead th {\n",
       "        text-align: left;\n",
       "    }\n",
       "\n",
       "    .dataframe tbody tr th {\n",
       "        vertical-align: top;\n",
       "    }\n",
       "</style>\n",
       "<table border=\"1\" class=\"dataframe\">\n",
       "  <thead>\n",
       "    <tr style=\"text-align: right;\">\n",
       "      <th></th>\n",
       "      <th>Rank</th>\n",
       "      <th>Frequency</th>\n",
       "      <th>Frequency * Rank</th>\n",
       "      <th>Zipf expected frequency</th>\n",
       "    </tr>\n",
       "  </thead>\n",
       "  <tbody>\n",
       "    <tr>\n",
       "      <th>government</th>\n",
       "      <td>1</td>\n",
       "      <td>600</td>\n",
       "      <td>600</td>\n",
       "      <td>600</td>\n",
       "    </tr>\n",
       "    <tr>\n",
       "      <th>people</th>\n",
       "      <td>2</td>\n",
       "      <td>594</td>\n",
       "      <td>1188</td>\n",
       "      <td>300</td>\n",
       "    </tr>\n",
       "    <tr>\n",
       "      <th>must</th>\n",
       "      <td>3</td>\n",
       "      <td>374</td>\n",
       "      <td>1122</td>\n",
       "      <td>200</td>\n",
       "    </tr>\n",
       "    <tr>\n",
       "      <th>upon</th>\n",
       "      <td>4</td>\n",
       "      <td>371</td>\n",
       "      <td>1484</td>\n",
       "      <td>150</td>\n",
       "    </tr>\n",
       "    <tr>\n",
       "      <th>great</th>\n",
       "      <td>5</td>\n",
       "      <td>346</td>\n",
       "      <td>1730</td>\n",
       "      <td>120</td>\n",
       "    </tr>\n",
       "  </tbody>\n",
       "</table>\n",
       "</div>"
      ],
      "text/plain": [
       "           Rank Frequency Frequency * Rank  Zipf expected frequency\n",
       "government    1       600              600                      600\n",
       "people        2       594             1188                      300\n",
       "must          3       374             1122                      200\n",
       "upon          4       371             1484                      150\n",
       "great         5       346             1730                      120"
      ]
     },
     "execution_count": 130,
     "metadata": {},
     "output_type": "execute_result"
    }
   ],
   "source": [
    "df['Zipf expected frequency'] = expected_counts\n",
    "df.head()"
   ]
  },
  {
   "cell_type": "markdown",
   "metadata": {},
   "source": [
    "Compute the proportion that each word appear inside the corpus:"
   ]
  },
  {
   "cell_type": "code",
   "execution_count": 131,
   "metadata": {},
   "outputs": [
    {
     "data": {
      "text/html": [
       "<div>\n",
       "<style>\n",
       "    .dataframe thead tr:only-child th {\n",
       "        text-align: right;\n",
       "    }\n",
       "\n",
       "    .dataframe thead th {\n",
       "        text-align: left;\n",
       "    }\n",
       "\n",
       "    .dataframe tbody tr th {\n",
       "        vertical-align: top;\n",
       "    }\n",
       "</style>\n",
       "<table border=\"1\" class=\"dataframe\">\n",
       "  <thead>\n",
       "    <tr style=\"text-align: right;\">\n",
       "      <th></th>\n",
       "      <th>Rank</th>\n",
       "      <th>Frequency</th>\n",
       "      <th>Frequency * Rank</th>\n",
       "      <th>Zipf expected frequency</th>\n",
       "      <th>proportion</th>\n",
       "    </tr>\n",
       "  </thead>\n",
       "  <tbody>\n",
       "    <tr>\n",
       "      <th>government</th>\n",
       "      <td>1</td>\n",
       "      <td>600</td>\n",
       "      <td>600</td>\n",
       "      <td>600</td>\n",
       "      <td>0.0091947</td>\n",
       "    </tr>\n",
       "    <tr>\n",
       "      <th>people</th>\n",
       "      <td>2</td>\n",
       "      <td>594</td>\n",
       "      <td>1188</td>\n",
       "      <td>300</td>\n",
       "      <td>0.00910275</td>\n",
       "    </tr>\n",
       "    <tr>\n",
       "      <th>must</th>\n",
       "      <td>3</td>\n",
       "      <td>374</td>\n",
       "      <td>1122</td>\n",
       "      <td>200</td>\n",
       "      <td>0.00573136</td>\n",
       "    </tr>\n",
       "    <tr>\n",
       "      <th>upon</th>\n",
       "      <td>4</td>\n",
       "      <td>371</td>\n",
       "      <td>1484</td>\n",
       "      <td>150</td>\n",
       "      <td>0.00568539</td>\n",
       "    </tr>\n",
       "    <tr>\n",
       "      <th>great</th>\n",
       "      <td>5</td>\n",
       "      <td>346</td>\n",
       "      <td>1730</td>\n",
       "      <td>120</td>\n",
       "      <td>0.00530228</td>\n",
       "    </tr>\n",
       "  </tbody>\n",
       "</table>\n",
       "</div>"
      ],
      "text/plain": [
       "           Rank Frequency Frequency * Rank  Zipf expected frequency  \\\n",
       "government    1       600              600                      600   \n",
       "people        2       594             1188                      300   \n",
       "must          3       374             1122                      200   \n",
       "upon          4       371             1484                      150   \n",
       "great         5       346             1730                      120   \n",
       "\n",
       "            proportion  \n",
       "government   0.0091947  \n",
       "people      0.00910275  \n",
       "must        0.00573136  \n",
       "upon        0.00568539  \n",
       "great       0.00530228  "
      ]
     },
     "execution_count": 131,
     "metadata": {},
     "output_type": "execute_result"
    }
   ],
   "source": [
    "df['proportion'] = df['Frequency']/df['Frequency'].sum()\n",
    "df.head()"
   ]
  },
  {
   "cell_type": "markdown",
   "metadata": {},
   "source": [
    "Compute the predicted proprotion using classic zipf's law:"
   ]
  },
  {
   "cell_type": "code",
   "execution_count": 132,
   "metadata": {},
   "outputs": [
    {
     "data": {
      "text/html": [
       "<div>\n",
       "<style>\n",
       "    .dataframe thead tr:only-child th {\n",
       "        text-align: right;\n",
       "    }\n",
       "\n",
       "    .dataframe thead th {\n",
       "        text-align: left;\n",
       "    }\n",
       "\n",
       "    .dataframe tbody tr th {\n",
       "        vertical-align: top;\n",
       "    }\n",
       "</style>\n",
       "<table border=\"1\" class=\"dataframe\">\n",
       "  <thead>\n",
       "    <tr style=\"text-align: right;\">\n",
       "      <th></th>\n",
       "      <th>Rank</th>\n",
       "      <th>Frequency</th>\n",
       "      <th>Frequency * Rank</th>\n",
       "      <th>Zipf expected frequency</th>\n",
       "      <th>proportion</th>\n",
       "      <th>Zipf expected proportion</th>\n",
       "    </tr>\n",
       "  </thead>\n",
       "  <tbody>\n",
       "    <tr>\n",
       "      <th>government</th>\n",
       "      <td>1</td>\n",
       "      <td>600</td>\n",
       "      <td>600</td>\n",
       "      <td>600</td>\n",
       "      <td>0.0091947</td>\n",
       "      <td>0.125918</td>\n",
       "    </tr>\n",
       "    <tr>\n",
       "      <th>people</th>\n",
       "      <td>2</td>\n",
       "      <td>594</td>\n",
       "      <td>1188</td>\n",
       "      <td>300</td>\n",
       "      <td>0.00910275</td>\n",
       "      <td>0.062959</td>\n",
       "    </tr>\n",
       "    <tr>\n",
       "      <th>must</th>\n",
       "      <td>3</td>\n",
       "      <td>374</td>\n",
       "      <td>1122</td>\n",
       "      <td>200</td>\n",
       "      <td>0.00573136</td>\n",
       "      <td>0.041973</td>\n",
       "    </tr>\n",
       "    <tr>\n",
       "      <th>upon</th>\n",
       "      <td>4</td>\n",
       "      <td>371</td>\n",
       "      <td>1484</td>\n",
       "      <td>150</td>\n",
       "      <td>0.00568539</td>\n",
       "      <td>0.031480</td>\n",
       "    </tr>\n",
       "    <tr>\n",
       "      <th>great</th>\n",
       "      <td>5</td>\n",
       "      <td>346</td>\n",
       "      <td>1730</td>\n",
       "      <td>120</td>\n",
       "      <td>0.00530228</td>\n",
       "      <td>0.025184</td>\n",
       "    </tr>\n",
       "  </tbody>\n",
       "</table>\n",
       "</div>"
      ],
      "text/plain": [
       "           Rank Frequency Frequency * Rank  Zipf expected frequency  \\\n",
       "government    1       600              600                      600   \n",
       "people        2       594             1188                      300   \n",
       "must          3       374             1122                      200   \n",
       "upon          4       371             1484                      150   \n",
       "great         5       346             1730                      120   \n",
       "\n",
       "            proportion  Zipf expected proportion  \n",
       "government   0.0091947                  0.125918  \n",
       "people      0.00910275                  0.062959  \n",
       "must        0.00573136                  0.041973  \n",
       "upon        0.00568539                  0.031480  \n",
       "great       0.00530228                  0.025184  "
      ]
     },
     "execution_count": 132,
     "metadata": {},
     "output_type": "execute_result"
    }
   ],
   "source": [
    "df['Zipf expected proportion'] = df['Zipf expected frequency']/df['Zipf expected frequency'].sum()\n",
    "df.head()"
   ]
  },
  {
   "cell_type": "code",
   "execution_count": 146,
   "metadata": {},
   "outputs": [
    {
     "data": {
      "image/png": "[encoded data removed]",
      "text/plain": [
       "<Figure size 1224x360 with 1 Axes>"
      ]
     },
     "metadata": {
      "needs_background": "light"
     },
     "output_type": "display_data"
    }
   ],
   "source": [
    "plt.figure(figsize=(17,5))\n",
    "\n",
    "# gca stands for 'get current axis'\n",
    "ax = plt.gca()\n",
    "\n",
    "df[:100].plot(kind='line',y=\"Frequency\",use_index=True, ax=ax)\n",
    "df[:100].plot(kind='line',y='Zipf expected frequency',use_index=True, color='red', ax=ax)\n",
    "plt.ylim((0,600))\n",
    "plt.show()"
   ]
  },
  {
   "cell_type": "code",
   "execution_count": 147,
   "metadata": {},
   "outputs": [
    {
     "data": {
      "image/png": "[encoded data removed]",
      "text/plain": [
       "<Figure size 1224x360 with 1 Axes>"
      ]
     },
     "metadata": {
      "needs_background": "light"
     },
     "output_type": "display_data"
    }
   ],
   "source": [
    "plt.figure(figsize=(17,5))\n",
    "\n",
    "# gca stands for 'get current axis'\n",
    "ax = plt.gca()\n",
    "\n",
    "df[:100].plot(kind='line',y=\"proportion\",use_index=True, ax=ax)\n",
    "df[:100].plot(kind='line',y='Zipf expected proportion',use_index=True, color='red', ax=ax)\n",
    "\n",
    "plt.ylim((0,0.125))\n",
    "plt.show()"
   ]
  },
  {
   "cell_type": "markdown",
   "metadata": {},
   "source": [
    "Looking at the plot above, it looks like the observed relative frequency of these words doesn't follow Zipf's law. The shape of the plots are similar; however, you can see that there's quite a bit of difference in the frequencies and proportions to expected by Zipf's law."
   ]
  },
  {
   "cell_type": "markdown",
   "metadata": {},
   "source": [
    "### 7. In what ways do you think the frequency of the words in this corpus differ from “all words in all corpora."
   ]
  }
 ],
 "metadata": {
  "kernelspec": {
   "display_name": "Python 3",
   "language": "python",
   "name": "python3"
  },
  "language_info": {
   "codemirror_mode": {
    "name": "ipython",
    "version": 3
   },
   "file_extension": ".py",
   "mimetype": "text/x-python",
   "name": "python",
   "nbconvert_exporter": "python",
   "pygments_lexer": "ipython3",
   "version": "3.6.5"
  }
 },
 "nbformat": 4,
 "nbformat_minor": 5
}
