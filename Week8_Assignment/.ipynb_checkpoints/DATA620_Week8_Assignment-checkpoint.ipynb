{
 "cells": [
  {
   "cell_type": "markdown",
   "metadata": {},
   "source": [
    "# DATA620: Assignment 8 - High Frequency Words\n",
    "\n",
    "## Homework Team 3: David Simbandumwe, Eric Lehmphul and Lidiia Tronina"
   ]
  },
  {
   "cell_type": "markdown",
   "metadata": {},
   "source": [
    "1. Choose a corpus of interest.\n",
    "2. How many total unique words are in the corpus? (Please feel free to define unique words in any interesting, defensible way).\n",
    "3. Taking the most common words, how many unique words represent half of the total words in the corpus?\n",
    "4. Identify the 200 highest frequency words in this corpus.\n",
    "5. Create a graph that shows the relative frequency of these 200 words.\n",
    "6. Does the observed relative frequency of these words follow Zipf’s law? Explain.\n",
    "7. In what ways do you think the frequency of the words in this corpus differ from “all words in all corpora."
   ]
  },
  {
   "cell_type": "markdown",
   "metadata": {},
   "source": [
    "### Load Required Packages"
   ]
  },
  {
   "cell_type": "code",
   "execution_count": 62,
   "metadata": {},
   "outputs": [
    {
     "name": "stdout",
     "output_type": "stream",
     "text": [
      "[nltk_data] Downloading package stopwords to\n",
      "[nltk_data]     /Users/lidiiatronina/nltk_data...\n",
      "[nltk_data]   Unzipping corpora/stopwords.zip.\n"
     ]
    },
    {
     "data": {
      "text/plain": [
       "True"
      ]
     },
     "execution_count": 62,
     "metadata": {},
     "output_type": "execute_result"
    }
   ],
   "source": [
    "import numpy as np\n",
    "import pandas as pd\n",
    "import matplotlib.pyplot as plt\n",
    "import warnings\n",
    "import nltk\n",
    "from nltk.corpus import inaugural\n",
    "warnings.filterwarnings(\"ignore\")\n",
    "nltk.download('inagural')\n",
    "nltk.download('stopwords')"
   ]
  },
  {
   "cell_type": "markdown",
   "metadata": {},
   "source": [
    "### 1. Choose a corpus of interest."
   ]
  },
  {
   "cell_type": "markdown",
   "metadata": {},
   "source": [
    "Presidents’ words matter. For better or worse, presidential rhetoric tells the American people who they are. That's why we decided to look at the inaugural speeches from the freely available library that can be downloaded from the NLTK package. The corpus is a collection of 55 texts, one for each presidential address."
   ]
  },
  {
   "cell_type": "code",
   "execution_count": 42,
   "metadata": {},
   "outputs": [
    {
     "data": {
      "text/plain": [
       "['1789-Washington.txt',\n",
       " '1793-Washington.txt',\n",
       " '1797-Adams.txt',\n",
       " '1801-Jefferson.txt',\n",
       " '1805-Jefferson.txt',\n",
       " '1809-Madison.txt',\n",
       " '1813-Madison.txt',\n",
       " '1817-Monroe.txt',\n",
       " '1821-Monroe.txt',\n",
       " '1825-Adams.txt',\n",
       " '1829-Jackson.txt',\n",
       " '1833-Jackson.txt',\n",
       " '1837-VanBuren.txt',\n",
       " '1841-Harrison.txt',\n",
       " '1845-Polk.txt',\n",
       " '1849-Taylor.txt',\n",
       " '1853-Pierce.txt',\n",
       " '1857-Buchanan.txt',\n",
       " '1861-Lincoln.txt',\n",
       " '1865-Lincoln.txt',\n",
       " '1869-Grant.txt',\n",
       " '1873-Grant.txt',\n",
       " '1877-Hayes.txt',\n",
       " '1881-Garfield.txt',\n",
       " '1885-Cleveland.txt',\n",
       " '1889-Harrison.txt',\n",
       " '1893-Cleveland.txt',\n",
       " '1897-McKinley.txt',\n",
       " '1901-McKinley.txt',\n",
       " '1905-Roosevelt.txt',\n",
       " '1909-Taft.txt',\n",
       " '1913-Wilson.txt',\n",
       " '1917-Wilson.txt',\n",
       " '1921-Harding.txt',\n",
       " '1925-Coolidge.txt',\n",
       " '1929-Hoover.txt',\n",
       " '1933-Roosevelt.txt',\n",
       " '1937-Roosevelt.txt',\n",
       " '1941-Roosevelt.txt',\n",
       " '1945-Roosevelt.txt',\n",
       " '1949-Truman.txt',\n",
       " '1953-Eisenhower.txt',\n",
       " '1957-Eisenhower.txt',\n",
       " '1961-Kennedy.txt',\n",
       " '1965-Johnson.txt',\n",
       " '1969-Nixon.txt',\n",
       " '1973-Nixon.txt',\n",
       " '1977-Carter.txt',\n",
       " '1981-Reagan.txt',\n",
       " '1985-Reagan.txt',\n",
       " '1989-Bush.txt',\n",
       " '1993-Clinton.txt',\n",
       " '1997-Clinton.txt',\n",
       " '2001-Bush.txt',\n",
       " '2005-Bush.txt',\n",
       " '2009-Obama.txt',\n",
       " '2013-Obama.txt',\n",
       " '2017-Trump.txt',\n",
       " '2021-Biden.txt']"
      ]
     },
     "execution_count": 42,
     "metadata": {},
     "output_type": "execute_result"
    }
   ],
   "source": [
    "inaugural.fileids()"
   ]
  },
  {
   "cell_type": "markdown",
   "metadata": {},
   "source": [
    "An interesting property of this collection is its time dimension. To get the year out of the filename, we extracted the first four characters."
   ]
  },
  {
   "cell_type": "code",
   "execution_count": 43,
   "metadata": {},
   "outputs": [
    {
     "data": {
      "text/plain": [
       "['1789',\n",
       " '1793',\n",
       " '1797',\n",
       " '1801',\n",
       " '1805',\n",
       " '1809',\n",
       " '1813',\n",
       " '1817',\n",
       " '1821',\n",
       " '1825',\n",
       " '1829',\n",
       " '1833',\n",
       " '1837',\n",
       " '1841',\n",
       " '1845',\n",
       " '1849',\n",
       " '1853',\n",
       " '1857',\n",
       " '1861',\n",
       " '1865',\n",
       " '1869',\n",
       " '1873',\n",
       " '1877',\n",
       " '1881',\n",
       " '1885',\n",
       " '1889',\n",
       " '1893',\n",
       " '1897',\n",
       " '1901',\n",
       " '1905',\n",
       " '1909',\n",
       " '1913',\n",
       " '1917',\n",
       " '1921',\n",
       " '1925',\n",
       " '1929',\n",
       " '1933',\n",
       " '1937',\n",
       " '1941',\n",
       " '1945',\n",
       " '1949',\n",
       " '1953',\n",
       " '1957',\n",
       " '1961',\n",
       " '1965',\n",
       " '1969',\n",
       " '1973',\n",
       " '1977',\n",
       " '1981',\n",
       " '1985',\n",
       " '1989',\n",
       " '1993',\n",
       " '1997',\n",
       " '2001',\n",
       " '2005',\n",
       " '2009',\n",
       " '2013',\n",
       " '2017',\n",
       " '2021']"
      ]
     },
     "execution_count": 43,
     "metadata": {},
     "output_type": "execute_result"
    }
   ],
   "source": [
    "[fileid[:4] for fileid in inaugural.fileids()]"
   ]
  },
  {
   "cell_type": "markdown",
   "metadata": {},
   "source": [
    "### 2. How many total unique words are in the corpus? (Please feel free to define unique words in any interesting, defensible way)."
   ]
  },
  {
   "cell_type": "markdown",
   "metadata": {},
   "source": [
    "There are a total of 152901 words in the corpus."
   ]
  },
  {
   "cell_type": "code",
   "execution_count": 48,
   "metadata": {},
   "outputs": [
    {
     "data": {
      "text/plain": [
       "152901"
      ]
     },
     "execution_count": 48,
     "metadata": {},
     "output_type": "execute_result"
    }
   ],
   "source": [
    "# Count ALL words\n",
    "all_words = inaugural.words()\n",
    "len(all_words)"
   ]
  },
  {
   "cell_type": "code",
   "execution_count": 45,
   "metadata": {},
   "outputs": [
    {
     "data": {
      "text/plain": [
       "['Fellow', '-', 'Citizens', 'of', 'the', 'Senate', ...]"
      ]
     },
     "execution_count": 45,
     "metadata": {},
     "output_type": "execute_result"
    }
   ],
   "source": [
    "#Washington's speech\n",
    "inaugural.words('1789-Washington.txt')"
   ]
  },
  {
   "cell_type": "code",
   "execution_count": 52,
   "metadata": {},
   "outputs": [
    {
     "data": {
      "text/plain": [
       "[('the', 9555),\n",
       " (',', 7275),\n",
       " ('of', 7169),\n",
       " ('and', 5226),\n",
       " ('.', 5011),\n",
       " ('to', 4477),\n",
       " ('in', 2604),\n",
       " ('a', 2229),\n",
       " ('our', 2062),\n",
       " ('that', 1769),\n",
       " ('be', 1505),\n",
       " ('is', 1477),\n",
       " ('we', 1281),\n",
       " ('for', 1141),\n",
       " ('by', 1063),\n",
       " ('it', 1036),\n",
       " ('have', 1029),\n",
       " ('which', 1007),\n",
       " ('not', 972),\n",
       " ('will', 935)]"
      ]
     },
     "execution_count": 52,
     "metadata": {},
     "output_type": "execute_result"
    }
   ],
   "source": [
    "nltk.FreqDist(all_words).most_common(20)"
   ]
  },
  {
   "cell_type": "code",
   "execution_count": 50,
   "metadata": {},
   "outputs": [
    {
     "data": {
      "text/plain": [
       "10025"
      ]
     },
     "execution_count": 50,
     "metadata": {},
     "output_type": "execute_result"
    }
   ],
   "source": [
    "len(set(all_words))"
   ]
  },
  {
   "cell_type": "markdown",
   "metadata": {},
   "source": [
    "There are 10025 unique words in this data. Looking at the sample of our words above, we can see that it includes punctuation as well as words such as 'the' and 'of'. We also know that python will see capital letters as distinct from lowercase letters, so we need to convert all words to lowercase and remove punctuation, some common words, and numbers to get only the unique words."
   ]
  },
  {
   "cell_type": "code",
   "execution_count": 120,
   "metadata": {},
   "outputs": [],
   "source": [
    "text_data = pd.DataFrame(columns = ['filename','year','length','unique'])\n",
    "for file in inaugural.fileids():\n",
    "    word_list = inaugural.words(file)\n",
    "    word_list = [w.lower() for w in word_list]  # handle the case sensitivity\n",
    "    this_file = pd.DataFrame(data = {\"filename\":[file], \\\n",
    "                                     \"year\" : [int(file[:4])], \\\n",
    "                                     \"length\" : [len(word_list)], \\\n",
    "                                     \"unique\" : [len(set(word_list))]})\n",
    "    text_data = text_data.append(this_file, ignore_index=True)"
   ]
  },
  {
   "cell_type": "code",
   "execution_count": 121,
   "metadata": {},
   "outputs": [
    {
     "name": "stdout",
     "output_type": "stream",
     "text": [
      "['i', 'me', 'my', 'myself', 'we', 'our', 'ours', 'ourselves', 'you', \"you're\", \"you've\", \"you'll\", \"you'd\", 'your', 'yours', 'yourself', 'yourselves', 'he', 'him', 'his', 'himself', 'she', \"she's\", 'her', 'hers', 'herself', 'it', \"it's\", 'its', 'itself', 'they', 'them', 'their', 'theirs', 'themselves', 'what', 'which', 'who', 'whom', 'this', 'that', \"that'll\", 'these', 'those', 'am', 'is', 'are', 'was', 'were', 'be', 'been', 'being', 'have', 'has', 'had', 'having', 'do', 'does', 'did', 'doing', 'a', 'an', 'the', 'and', 'but', 'if', 'or', 'because', 'as', 'until', 'while', 'of', 'at', 'by', 'for', 'with', 'about', 'against', 'between', 'into', 'through', 'during', 'before', 'after', 'above', 'below', 'to', 'from', 'up', 'down', 'in', 'out', 'on', 'off', 'over', 'under', 'again', 'further', 'then', 'once', 'here', 'there', 'when', 'where', 'why', 'how', 'all', 'any', 'both', 'each', 'few', 'more', 'most', 'other', 'some', 'such', 'no', 'nor', 'not', 'only', 'own', 'same', 'so', 'than', 'too', 'very', 's', 't', 'can', 'will', 'just', 'don', \"don't\", 'should', \"should've\", 'now', 'd', 'll', 'm', 'o', 're', 've', 'y', 'ain', 'aren', \"aren't\", 'couldn', \"couldn't\", 'didn', \"didn't\", 'doesn', \"doesn't\", 'hadn', \"hadn't\", 'hasn', \"hasn't\", 'haven', \"haven't\", 'isn', \"isn't\", 'ma', 'mightn', \"mightn't\", 'mustn', \"mustn't\", 'needn', \"needn't\", 'shan', \"shan't\", 'shouldn', \"shouldn't\", 'wasn', \"wasn't\", 'weren', \"weren't\", 'won', \"won't\", 'wouldn', \"wouldn't\"]\n"
     ]
    }
   ],
   "source": [
    "#remove stopwords \n",
    "print(stopwords.words('english'))"
   ]
  },
  {
   "cell_type": "code",
   "execution_count": 137,
   "metadata": {},
   "outputs": [],
   "source": [
    "#remove punctuation\n",
    "custom_stopwords = set((',', '.', ';', '?', '-', '!', '(', ')','--','\"',\"'\", ':', '¡¦', '¡','', '9', '/', '11','ii', '400','1863'))"
   ]
  },
  {
   "cell_type": "code",
   "execution_count": 138,
   "metadata": {},
   "outputs": [
    {
     "name": "stdout",
     "output_type": "stream",
     "text": [
      "1789-Washington.txt\n",
      "[('every', 9), ('government', 8), ('public', 6), ('may', 6), ('citizens', 5), ('present', 5), ('country', 5), ('one', 4), ('ought', 4), ('duty', 4), ('people', 4), ('united', 4), ('since', 4), ('fellow', 3), ('could', 3)]\n",
      "1793-Washington.txt\n",
      "[('shall', 3), ('oath', 2), ('fellow', 1), ('citizens', 1), ('called', 1), ('upon', 1), ('voice', 1), ('country', 1), ('execute', 1), ('functions', 1), ('chief', 1), ('magistrate', 1), ('occasion', 1), ('proper', 1), ('arrive', 1)]\n",
      "1797-Adams.txt\n",
      "[('people', 20), ('government', 16), ('may', 13), ('nations', 11), ('country', 10), ('nation', 9), ('states', 9), ('foreign', 8), ('constitution', 8), ('honor', 7), ('justice', 6), ('ever', 6), ('congress', 6), ('public', 6), ('good', 6)]\n",
      "1801-Jefferson.txt\n",
      "[('government', 12), ('us', 10), ('may', 8), ('fellow', 7), ('citizens', 7), ('let', 7), ('shall', 6), ('principle', 6), ('would', 6), ('one', 6), ('man', 6), ('safety', 5), ('good', 5), ('others', 5), ('peace', 5)]\n",
      "1805-Jefferson.txt\n",
      "[('public', 14), ('citizens', 10), ('may', 10), ('fellow', 8), ('state', 8), ('us', 7), ('among', 7), ('shall', 7), ('constitution', 6), ('time', 6), ('limits', 5), ('reason', 5), ('false', 5), ('duty', 4), ('every', 4)]\n",
      "1809-Madison.txt\n",
      "[('nations', 6), ('public', 6), ('well', 5), ('country', 4), ('peace', 4), ('rights', 4), ('states', 4), ('confidence', 3), ('full', 3), ('improvements', 3), ('united', 3), ('best', 3), ('examples', 2), ('avail', 2), ('made', 2)]\n",
      "1813-Madison.txt\n",
      "[('war', 15), ('country', 5), ('united', 5), ('every', 5), ('british', 5), ('nation', 4), ('without', 4), ('states', 4), ('spirit', 4), ('citizens', 4), ('sense', 3), ('people', 3), ('justice', 3), ('part', 3), ('long', 3)]\n",
      "1817-Monroe.txt\n",
      "[('government', 22), ('great', 21), ('states', 21), ('people', 15), ('us', 14), ('every', 14), ('united', 13), ('may', 10), ('union', 10), ('war', 10), ('citizens', 9), ('best', 9), ('principles', 9), ('foreign', 9), ('country', 9)]\n",
      "1821-Monroe.txt\n",
      "[('great', 29), ('states', 20), ('would', 18), ('united', 16), ('war', 16), ('citizens', 15), ('may', 15), ('made', 15), ('government', 13), ('every', 13), ('people', 11), ('commerce', 11), ('force', 11), ('power', 11), ('fellow', 10)]\n",
      "1825-Adams.txt\n",
      "[('union', 20), ('government', 17), ('upon', 16), ('country', 10), ('rights', 10), ('peace', 9), ('great', 9), ('public', 9), ('constitution', 8), ('first', 8), ('general', 8), ('nation', 8), ('people', 7), ('nations', 7), ('duties', 6)]\n",
      "1829-Jackson.txt\n",
      "[('public', 8), ('shall', 6), ('government', 6), ('power', 5), ('people', 4), ('may', 4), ('national', 4), ('duties', 3), ('interests', 3), ('service', 3), ('federal', 3), ('foreign', 3), ('revenue', 3), ('generally', 3), ('proper', 3)]\n",
      "1833-Jackson.txt\n",
      "[('government', 13), ('people', 9), ('union', 9), ('states', 8), ('upon', 5), ('general', 5), ('powers', 5), ('united', 4), ('liberty', 4), ('preservation', 4), ('exercise', 4), ('may', 4), ('must', 4), ('us', 4), ('fellow', 3)]\n",
      "1837-VanBuren.txt\n",
      "[('people', 20), ('every', 20), ('institutions', 16), ('government', 16), ('country', 15), ('upon', 13), ('us', 12), ('may', 11), ('never', 8), ('yet', 8), ('experience', 8), ('power', 8), ('states', 8), ('principles', 7), ('confidence', 7)]\n",
      "1841-Harrison.txt\n",
      "[('power', 47), ('people', 38), ('constitution', 36), ('government', 36), ('upon', 34), ('may', 34), ('one', 28), ('citizens', 27), ('executive', 25), ('country', 24), ('states', 24), ('would', 22), ('great', 21), ('spirit', 20), ('however', 17)]\n",
      "1845-Polk.txt\n",
      "[('government', 47), ('states', 36), ('union', 32), ('would', 21), ('one', 19), ('people', 16), ('powers', 16), ('country', 15), ('constitution', 15), ('upon', 14), ('interests', 14), ('united', 13), ('may', 13), ('within', 13), ('revenue', 13)]\n",
      "1849-Taylor.txt\n",
      "[('shall', 15), ('government', 7), ('country', 6), ('duties', 5), ('constitution', 4), ('interests', 4), ('congress', 4), ('may', 4), ('us', 4), ('people', 3), ('office', 3), ('day', 3), ('measures', 3), ('care', 3), ('public', 3)]\n",
      "1853-Pierce.txt\n",
      "[('upon', 24), ('power', 11), ('government', 10), ('must', 9), ('may', 9), ('us', 9), ('shall', 9), ('every', 9), ('nation', 8), ('great', 8), ('states', 8), ('rights', 8), ('right', 7), ('future', 7), ('like', 6)]\n",
      "1857-Buchanan.txt\n",
      "[('states', 22), ('shall', 18), ('constitution', 17), ('may', 15), ('government', 14), ('people', 13), ('great', 11), ('question', 11), ('union', 10), ('free', 9), ('country', 9), ('congress', 9), ('public', 9), ('united', 8), ('ever', 8)]\n",
      "1861-Lincoln.txt\n",
      "[('constitution', 24), ('people', 20), ('union', 20), ('states', 19), ('government', 18), ('shall', 17), ('upon', 15), ('one', 14), ('law', 14), ('may', 13), ('right', 11), ('would', 10), ('case', 9), ('national', 9), ('state', 8)]\n",
      "1865-Lincoln.txt\n",
      "[('war', 12), ('god', 6), ('shall', 5), ('years', 4), ('union', 4), ('let', 4), ('nation', 3), ('one', 3), ('would', 3), ('interest', 3), ('right', 3), ('neither', 3), ('may', 3), ('us', 3), ('woe', 3)]\n",
      "1869-Grant.txt\n",
      "[('country', 8), ('every', 6), ('without', 5), ('best', 5), ('public', 5), ('laws', 5), ('us', 5), ('dollar', 5), ('may', 5), ('office', 4), ('years', 4), ('debt', 4), ('one', 4), ('toward', 4), ('upon', 4)]\n",
      "1873-Grant.txt\n",
      "[('country', 8), ('people', 7), ('best', 6), ('made', 6), ('great', 5), ('office', 5), ('executive', 4), ('commerce', 4), ('government', 4), ('support', 4), ('territory', 4), ('subject', 4), ('upon', 4), ('good', 4), ('one', 4)]\n",
      "1877-Hayes.txt\n",
      "[('country', 20), ('government', 18), ('upon', 15), ('public', 11), ('states', 11), ('political', 10), ('great', 9), ('people', 9), ('party', 8), ('citizens', 7), ('interests', 7), ('united', 7), ('principles', 6), ('regard', 6), ('every', 6)]\n",
      "1881-Garfield.txt\n",
      "[('government', 23), ('people', 21), ('constitution', 15), ('states', 15), ('upon', 13), ('union', 11), ('great', 11), ('law', 10), ('nation', 9), ('authority', 9), ('made', 9), ('power', 9), ('congress', 9), ('national', 8), ('shall', 8)]\n",
      "1885-Cleveland.txt\n",
      "[('people', 18), ('government', 17), ('public', 11), ('shall', 10), ('constitution', 8), ('interests', 7), ('citizens', 6), ('every', 5), ('citizen', 5), ('upon', 5), ('partisan', 5), ('policy', 5), ('right', 4), ('may', 4), ('needs', 4)]\n",
      "1889-Harrison.txt\n",
      "[('people', 29), ('upon', 21), ('states', 20), ('shall', 18), ('public', 17), ('laws', 17), ('may', 12), ('great', 12), ('constitution', 11), ('nation', 10), ('government', 10), ('would', 9), ('law', 9), ('congress', 8), ('policy', 8)]\n",
      "1893-Cleveland.txt\n",
      "[('people', 22), ('government', 14), ('us', 10), ('every', 9), ('public', 8), ('american', 8), ('service', 7), ('support', 7), ('national', 6), ('upon', 6), ('countrymen', 5), ('confidence', 5), ('interests', 5), ('laws', 5), ('power', 5)]\n",
      "1897-McKinley.txt\n",
      "[('upon', 31), ('people', 25), ('must', 23), ('government', 23), ('congress', 18), ('great', 16), ('country', 14), ('public', 13), ('united', 12), ('states', 12), ('every', 12), ('revenue', 12), ('shall', 12), ('may', 11), ('years', 10)]\n",
      "1901-McKinley.txt\n",
      "[('government', 15), ('people', 12), ('upon', 11), ('congress', 9), ('executive', 9), ('united', 9), ('states', 9), ('us', 8), ('american', 7), ('war', 7), ('peace', 7), ('shall', 7), ('islands', 7), ('public', 6), ('without', 6)]\n",
      "1905-Roosevelt.txt\n",
      "[('us', 12), ('people', 6), ('life', 6), ('must', 6), ('great', 5), ('nation', 5), ('problems', 5), ('cause', 4), ('yet', 4), ('ever', 4), ('power', 4), ('men', 4), ('republic', 4), ('spirit', 3), ('good', 3)]\n",
      "1909-Taft.txt\n",
      "[('government', 26), ('business', 22), ('must', 19), ('may', 18), ('upon', 16), ('proper', 15), ('law', 14), ('congress', 14), ('tariff', 13), ('race', 13), ('make', 12), ('shall', 12), ('policy', 12), ('states', 12), ('south', 12)]\n",
      "1913-Wilson.txt\n",
      "[('great', 14), ('men', 11), ('government', 9), ('upon', 8), ('life', 8), ('every', 8), ('justice', 8), ('things', 7), ('nation', 6), ('shall', 6), ('party', 5), ('new', 5), ('look', 5), ('without', 5), ('well', 5)]\n",
      "1917-Wilson.txt\n",
      "[('upon', 13), ('shall', 9), ('purpose', 8), ('us', 8), ('action', 7), ('life', 6), ('people', 6), ('world', 6), ('peace', 6), ('stand', 6), ('counsel', 5), ('national', 5), ('nation', 5), ('thought', 5), ('principles', 5)]\n",
      "1921-Harding.txt\n",
      "[('world', 28), ('must', 23), ('america', 15), ('war', 15), ('new', 13), ('civilization', 12), ('never', 12), ('government', 11), ('republic', 10), ('may', 10), ('order', 10), ('would', 10), ('us', 9), ('american', 8), ('shall', 8)]\n",
      "1925-Coolidge.txt\n"
     ]
    },
    {
     "name": "stdout",
     "output_type": "stream",
     "text": [
      "[('country', 17), ('must', 17), ('great', 16), ('people', 15), ('government', 14), ('world', 13), ('peace', 13), ('much', 12), ('upon', 12), ('one', 10), ('law', 10), ('party', 10), ('ought', 9), ('nations', 9), ('old', 9)]\n",
      "1929-Hoover.txt\n",
      "[('government', 30), ('upon', 17), ('progress', 16), ('people', 15), ('world', 15), ('must', 15), ('peace', 15), ('justice', 14), ('nation', 12), ('system', 11), ('law', 11), ('laws', 10), ('enforcement', 10), ('public', 10), ('federal', 9)]\n",
      "1933-Roosevelt.txt\n",
      "[('national', 9), ('must', 9), ('people', 8), ('may', 8), ('leadership', 7), ('helped', 7), ('shall', 7), ('nation', 6), ('us', 6), ('action', 6), ('world', 6), ('time', 5), ('money', 5), ('great', 4), ('first', 4)]\n",
      "1937-Roosevelt.txt\n",
      "[('government', 16), ('people', 11), ('nation', 9), ('men', 8), ('democracy', 8), ('good', 8), ('see', 8), ('power', 7), ('progress', 7), ('purpose', 6), ('new', 6), ('upon', 6), ('millions', 6), ('united', 5), ('us', 5)]\n",
      "1941-Roosevelt.txt\n",
      "[('nation', 12), ('know', 10), ('spirit', 9), ('life', 9), ('democracy', 9), ('us', 8), ('people', 7), ('america', 7), ('years', 6), ('freedom', 6), ('human', 5), ('men', 5), ('new', 5), ('body', 5), ('mind', 5)]\n",
      "1945-Roosevelt.txt\n",
      "[('shall', 7), ('peace', 6), ('learned', 5), ('today', 4), ('men', 4), ('test', 3), ('way', 3), ('simple', 2), ('courage', 2), ('democracy', 2), ('presence', 2), ('fellow', 2), ('god', 2), ('days', 2), ('work', 2)]\n",
      "1949-Truman.txt\n",
      "[('world', 23), ('nations', 22), ('peace', 15), ('freedom', 13), ('people', 12), ('free', 11), ('united', 10), ('peoples', 9), ('security', 9), ('democracy', 9), ('must', 9), ('new', 8), ('believe', 8), ('countries', 8), ('program', 7)]\n",
      "1953-Eisenhower.txt\n",
      "[('free', 21), ('world', 16), ('faith', 13), ('peace', 12), ('people', 11), ('us', 11), ('shall', 11), ('upon', 10), ('freedom', 10), ('must', 10), ('strength', 10), ('country', 7), ('nations', 7), ('know', 7), ('life', 7)]\n",
      "1957-Eisenhower.txt\n",
      "[('world', 16), ('may', 15), ('nations', 14), ('peace', 11), ('freedom', 11), ('people', 10), ('seek', 10), ('must', 9), ('justice', 6), ('upon', 6), ('help', 6), ('without', 5), ('know', 5), ('peoples', 5), ('earth', 5)]\n",
      "1961-Kennedy.txt\n",
      "[('let', 16), ('us', 12), ('world', 8), ('sides', 8), ('new', 7), ('pledge', 7), ('citizens', 5), ('power', 5), ('shall', 5), ('free', 5), ('nations', 5), ('ask', 5), ('president', 4), ('fellow', 4), ('freedom', 4)]\n",
      "1965-Johnson.txt\n",
      "[('nation', 12), ('us', 12), ('change', 12), ('must', 10), ('man', 10), ('people', 9), ('union', 9), ('world', 7), ('old', 7), ('every', 6), ('american', 6), ('covenant', 6), ('land', 6), ('justice', 6), ('liberty', 6)]\n",
      "1969-Nixon.txt\n",
      "[('us', 20), ('people', 14), ('world', 13), ('peace', 12), ('let', 11), ('man', 10), ('know', 10), ('make', 9), ('earth', 9), ('new', 8), ('voices', 8), ('together', 8), ('need', 7), ('moment', 6), ('america', 6)]\n",
      "1973-Nixon.txt\n",
      "[('us', 26), ('let', 22), ('america', 21), ('peace', 19), ('world', 18), ('new', 15), ('nation', 11), ('responsibility', 11), ('government', 10), ('great', 9), ('home', 9), ('abroad', 8), ('together', 7), ('years', 7), ('shall', 7)]\n",
      "1977-Carter.txt\n",
      "[('nation', 13), ('new', 9), ('must', 8), ('us', 8), ('strength', 7), ('people', 7), ('together', 7), ('spirit', 6), ('world', 6), ('dream', 5), ('human', 5), ('government', 4), ('freedom', 4), ('let', 4), ('say', 3)]\n",
      "1981-Reagan.txt\n",
      "[('us', 25), ('government', 16), ('must', 10), ('believe', 10), ('world', 9), ('people', 9), ('americans', 9), ('one', 8), ('time', 8), ('freedom', 8), ('work', 7), ('today', 6), ('nation', 6), ('let', 6), ('man', 6)]\n",
      "1985-Reagan.txt\n",
      "[('us', 27), ('government', 18), ('people', 17), ('world', 16), ('one', 14), ('freedom', 14), ('must', 12), ('time', 10), ('new', 9), ('history', 9), ('human', 9), ('god', 8), ('peace', 8), ('americans', 7), ('together', 7)]\n",
      "1989-Bush.txt\n",
      "[('new', 14), ('us', 13), ('nation', 10), ('great', 10), ('world', 10), ('free', 9), ('must', 9), ('friends', 8), ('things', 8), ('hand', 8), ('good', 8), ('america', 7), ('today', 7), ('day', 7), ('work', 7)]\n",
      "1993-Clinton.txt\n",
      "[('world', 20), ('america', 19), ('must', 18), ('us', 13), ('people', 12), ('today', 10), ('change', 9), ('new', 9), ('americans', 9), ('let', 9), ('time', 7), ('work', 6), ('fellow', 5), ('american', 5), ('nation', 5)]\n",
      "1997-Clinton.txt\n",
      "[('new', 29), ('us', 27), ('century', 20), ('america', 15), ('world', 15), ('nation', 13), ('time', 12), ('land', 11), ('people', 11), ('every', 11), ('must', 10), ('promise', 10), ('government', 10), ('one', 10), ('let', 9)]\n",
      "2001-Bush.txt\n",
      "[('nation', 11), ('america', 11), ('us', 11), ('story', 10), ('citizens', 9), ('country', 9), ('must', 6), ('every', 6), ('common', 5), ('new', 5), ('many', 5), ('freedom', 5), ('promise', 5), ('americans', 5), ('know', 5)]\n",
      "2005-Bush.txt\n",
      "[('freedom', 27), ('america', 20), ('liberty', 15), ('every', 10), ('nation', 10), ('one', 9), ('country', 8), ('world', 8), ('americans', 8), ('history', 7), ('time', 7), ('free', 7), ('justice', 6), ('citizens', 6), ('day', 6)]\n",
      "2009-Obama.txt\n",
      "[('us', 23), ('nation', 12), ('new', 11), ('america', 10), ('every', 8), ('must', 8), ('people', 7), ('less', 7), ('world', 7), ('let', 7), ('today', 6), ('time', 6), ('work', 6), ('cannot', 6), ('common', 6)]\n",
      "2013-Obama.txt\n",
      "[('us', 21), ('must', 17), ('people', 11), ('time', 9), ('america', 8), ('together', 7), ('country', 7), ('make', 7), ('every', 7), ('citizens', 6), ('nation', 6), ('today', 6), ('journey', 6), ('freedom', 6), ('generation', 6)]\n",
      "2017-Trump.txt\n",
      "[('america', 20), ('american', 11), ('people', 10), ('country', 9), ('one', 8), ('nation', 8), ('every', 7), ('world', 6), ('great', 6), ('back', 6), ('never', 6), ('new', 6), ('president', 5), ('many', 5), ('today', 5)]\n",
      "2021-Biden.txt\n",
      "[('us', 24), ('america', 20), ('one', 15), ('nation', 14), ('democracy', 11), ('americans', 10), ('today', 10), ('people', 10), ('much', 10), ('know', 9), ('story', 9), ('another', 9), ('history', 8), ('american', 8), ('must', 8)]\n"
     ]
    }
   ],
   "source": [
    "for text in text_data['filename']:\n",
    "    print (text)\n",
    "    word_list = inaugural.words(text)\n",
    "    word_list = [w.lower() for w in word_list]  # handle the case sensitivity\n",
    "    filtered_words = [word for word in word_list if word not in stopwords.words('english') and \\\n",
    "                      word not in custom_stopwords]\n",
    "    print(nltk.FreqDist(filtered_words).most_common(15))\n"
   ]
  },
  {
   "cell_type": "code",
   "execution_count": 139,
   "metadata": {},
   "outputs": [
    {
     "data": {
      "text/plain": [
       "663"
      ]
     },
     "execution_count": 139,
     "metadata": {},
     "output_type": "execute_result"
    }
   ],
   "source": [
    "len(set(filtered_words))"
   ]
  },
  {
   "cell_type": "markdown",
   "metadata": {},
   "source": [
    "There is a total of 663 unique words in the corpus."
   ]
  },
  {
   "cell_type": "markdown",
   "metadata": {},
   "source": [
    "### 3. Taking the most common words, how many unique words represent half of the total words in the corpus?"
   ]
  },
  {
   "cell_type": "markdown",
   "metadata": {},
   "source": [
    "The following 332 unique words represent half of the total words in the corpus."
   ]
  },
  {
   "cell_type": "code",
   "execution_count": 140,
   "metadata": {},
   "outputs": [
    {
     "name": "stdout",
     "output_type": "stream",
     "text": [
      "us, america, one, nation, democracy, americans, today, people, much, know, story, another, history, american, must, world, unity, president, days, war, let, stand, fellow, day, together, look, great, time, work, children, like, moment, justice, come, power, ever, say, truth, may, cause, god, centuries, strength, good, peace, forward, virus, country, lost, soul, things, .\", face, better, way, promise, love, defend, understand, vice, hope, resolve, tested, challenge, prevailed, ago, violence, thank, heart, constitution, night, taken, sacred, oath, first, still, many, year, jobs, cry, future, new, whole, uniting, ask, join, right, fear, never, enough, faith, show, dignity, respect, meet, hear, believe, yet, gave, common, objects, honor, lies, get, need, going, harris, leader, ages, hour, friends, ground, capitol, carry, ahead, set, spoke, last, service, ,\", union, far, winter, possibilities, repair, restore, difficult, lives, thousands, racial, years, dream, comes, rise, extremism, defeat, overcome, secure, requires, january, put, goes, act, every, fight, make, health, care, sound, forces, struggle, racism, civil, always, usâ, see, neighbors, stop, progress, crisis, path, united, states, politics, raging, everything, disagreement, measure, silence, happen, tomorrow, support, disagree, lead, saint, defined, security, liberty, duty, protect, keep, thinking, next, turn, versus, hearts, shoes, would, hand, called, stronger, pandemic, folks, watching, challenges, example, silent, prayer, write, prayers, shall, best, give, chief, roberts, speaker, pelosi, schumer, mcconnell, pence, distinguished, guests, renewal, crucible, anew, risen, celebrate, triumph, candidate, peopleâ, heard, heeded, learned, precious, fragile, hallowed, sought, shake, foundation, indivisible, peaceful, transfer, two, uniquely, wayâ, restless, bold, optimisticâ, sights, predecessors, parties, presence, bottom, resilience, carter, cannot, salute, lifetime, patriots, sworn, george, washington, depends, seek, perfect, storm, strife, go, press, speed, urgency, peril, significant, heal, build, gain, challenged, found, challenging, century, silently, stalks, millions, hundreds, businesses, closed, making, moves, deferred, longer, survival, planet, desperate, clear, political, white, supremacy, domestic, terrorism, confront, challengesâ, americaâ, words, elusive, abraham, lincoln, signed, emancipation, proclamation, pen, paper, said, quote, name, bringing, foes, anger, resentment, hatred, lawlessness, disease, joblessness, hopelessness, important, wrongs, teach, safe, schools, deadly, reward, rebuild, middle, class, deliver, leading, force, speaking, foolish, fantasy, divide, deep, real\n"
     ]
    }
   ],
   "source": [
    "fdist = nltk.FreqDist(filtered_words)     \n",
    "print(*[w for w,n in fdist.most_common()[:332]], sep = \", \")    "
   ]
  },
  {
   "cell_type": "markdown",
   "metadata": {},
   "source": [
    "### 4. Identify the 200 highest frequency words in this corpus."
   ]
  },
  {
   "cell_type": "markdown",
   "metadata": {},
   "source": [
    "### 5. Create a graph that shows the relative frequency of these 200 words."
   ]
  },
  {
   "cell_type": "markdown",
   "metadata": {},
   "source": [
    "### 6. Does the observed relative frequency of these words follow Zipf’s law? Explain."
   ]
  },
  {
   "cell_type": "markdown",
   "metadata": {},
   "source": [
    "### 7. In what ways do you think the frequency of the words in this corpus differ from “all words in all corpora."
   ]
  }
 ],
 "metadata": {
  "kernelspec": {
   "display_name": "Python 3",
   "language": "python",
   "name": "python3"
  },
  "language_info": {
   "codemirror_mode": {
    "name": "ipython",
    "version": 3
   },
   "file_extension": ".py",
   "mimetype": "text/x-python",
   "name": "python",
   "nbconvert_exporter": "python",
   "pygments_lexer": "ipython3",
   "version": "3.6.5"
  }
 },
 "nbformat": 4,
 "nbformat_minor": 5
}
