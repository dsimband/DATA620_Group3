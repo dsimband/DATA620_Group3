{
 "cells": [
  {
   "cell_type": "markdown",
   "metadata": {},
   "source": [
    "# DATA620: Assignment 8 - High Frequency Words\n",
    "\n",
    "## Homework Team 3: David Simbandumwe, Eric Lehmphul and Lidiia Tronina"
   ]
  },
  {
   "cell_type": "markdown",
   "metadata": {},
   "source": [
    "1. Choose a corpus of interest.\n",
    "2. How many total unique words are in the corpus? (Please feel free to define unique words in any interesting, defensible way).\n",
    "3. Taking the most common words, how many unique words represent half of the total words in the corpus?\n",
    "4. Identify the 200 highest frequency words in this corpus.\n",
    "5. Create a graph that shows the relative frequency of these 200 words.\n",
    "6. Does the observed relative frequency of these words follow Zipf’s law? Explain.\n",
    "7. In what ways do you think the frequency of the words in this corpus differ from “all words in all corpora."
   ]
  },
  {
   "cell_type": "markdown",
   "metadata": {},
   "source": [
    "### Load Required Packages"
   ]
  },
  {
   "cell_type": "code",
   "execution_count": 62,
   "metadata": {},
   "outputs": [
    {
     "name": "stdout",
     "output_type": "stream",
     "text": [
      "[nltk_data] Downloading package stopwords to\n",
      "[nltk_data]     /Users/lidiiatronina/nltk_data...\n",
      "[nltk_data]   Unzipping corpora/stopwords.zip.\n"
     ]
    },
    {
     "data": {
      "text/plain": [
       "True"
      ]
     },
     "execution_count": 62,
     "metadata": {},
     "output_type": "execute_result"
    }
   ],
   "source": [
    "import numpy as np\n",
    "import pandas as pd\n",
    "import matplotlib.pyplot as plt\n",
    "import warnings\n",
    "import nltk\n",
    "from nltk.corpus import inaugural\n",
    "warnings.filterwarnings(\"ignore\")\n",
    "nltk.download('inagural')\n",
    "nltk.download('stopwords')"
   ]
  },
  {
   "cell_type": "markdown",
   "metadata": {},
   "source": [
    "### 1. Choose a corpus of interest."
   ]
  },
  {
   "cell_type": "markdown",
   "metadata": {},
   "source": [
    "Presidents’ words matter. For better or worse, presidential rhetoric tells the American people who they are. That's why we decided to look at the inaugural speeches from the freely available library that can be downloaded from the NLTK package. The corpus is a collection of 55 texts, one for each presidential address."
   ]
  },
  {
   "cell_type": "code",
   "execution_count": 42,
   "metadata": {},
   "outputs": [
    {
     "data": {
      "text/plain": [
       "['1789-Washington.txt',\n",
       " '1793-Washington.txt',\n",
       " '1797-Adams.txt',\n",
       " '1801-Jefferson.txt',\n",
       " '1805-Jefferson.txt',\n",
       " '1809-Madison.txt',\n",
       " '1813-Madison.txt',\n",
       " '1817-Monroe.txt',\n",
       " '1821-Monroe.txt',\n",
       " '1825-Adams.txt',\n",
       " '1829-Jackson.txt',\n",
       " '1833-Jackson.txt',\n",
       " '1837-VanBuren.txt',\n",
       " '1841-Harrison.txt',\n",
       " '1845-Polk.txt',\n",
       " '1849-Taylor.txt',\n",
       " '1853-Pierce.txt',\n",
       " '1857-Buchanan.txt',\n",
       " '1861-Lincoln.txt',\n",
       " '1865-Lincoln.txt',\n",
       " '1869-Grant.txt',\n",
       " '1873-Grant.txt',\n",
       " '1877-Hayes.txt',\n",
       " '1881-Garfield.txt',\n",
       " '1885-Cleveland.txt',\n",
       " '1889-Harrison.txt',\n",
       " '1893-Cleveland.txt',\n",
       " '1897-McKinley.txt',\n",
       " '1901-McKinley.txt',\n",
       " '1905-Roosevelt.txt',\n",
       " '1909-Taft.txt',\n",
       " '1913-Wilson.txt',\n",
       " '1917-Wilson.txt',\n",
       " '1921-Harding.txt',\n",
       " '1925-Coolidge.txt',\n",
       " '1929-Hoover.txt',\n",
       " '1933-Roosevelt.txt',\n",
       " '1937-Roosevelt.txt',\n",
       " '1941-Roosevelt.txt',\n",
       " '1945-Roosevelt.txt',\n",
       " '1949-Truman.txt',\n",
       " '1953-Eisenhower.txt',\n",
       " '1957-Eisenhower.txt',\n",
       " '1961-Kennedy.txt',\n",
       " '1965-Johnson.txt',\n",
       " '1969-Nixon.txt',\n",
       " '1973-Nixon.txt',\n",
       " '1977-Carter.txt',\n",
       " '1981-Reagan.txt',\n",
       " '1985-Reagan.txt',\n",
       " '1989-Bush.txt',\n",
       " '1993-Clinton.txt',\n",
       " '1997-Clinton.txt',\n",
       " '2001-Bush.txt',\n",
       " '2005-Bush.txt',\n",
       " '2009-Obama.txt',\n",
       " '2013-Obama.txt',\n",
       " '2017-Trump.txt',\n",
       " '2021-Biden.txt']"
      ]
     },
     "execution_count": 42,
     "metadata": {},
     "output_type": "execute_result"
    }
   ],
   "source": [
    "inaugural.fileids()"
   ]
  },
  {
   "cell_type": "markdown",
   "metadata": {},
   "source": [
    "An interesting property of this collection is its time dimension. To get the year out of the filename, we extracted the first four characters."
   ]
  },
  {
   "cell_type": "code",
   "execution_count": 43,
   "metadata": {},
   "outputs": [
    {
     "data": {
      "text/plain": [
       "['1789',\n",
       " '1793',\n",
       " '1797',\n",
       " '1801',\n",
       " '1805',\n",
       " '1809',\n",
       " '1813',\n",
       " '1817',\n",
       " '1821',\n",
       " '1825',\n",
       " '1829',\n",
       " '1833',\n",
       " '1837',\n",
       " '1841',\n",
       " '1845',\n",
       " '1849',\n",
       " '1853',\n",
       " '1857',\n",
       " '1861',\n",
       " '1865',\n",
       " '1869',\n",
       " '1873',\n",
       " '1877',\n",
       " '1881',\n",
       " '1885',\n",
       " '1889',\n",
       " '1893',\n",
       " '1897',\n",
       " '1901',\n",
       " '1905',\n",
       " '1909',\n",
       " '1913',\n",
       " '1917',\n",
       " '1921',\n",
       " '1925',\n",
       " '1929',\n",
       " '1933',\n",
       " '1937',\n",
       " '1941',\n",
       " '1945',\n",
       " '1949',\n",
       " '1953',\n",
       " '1957',\n",
       " '1961',\n",
       " '1965',\n",
       " '1969',\n",
       " '1973',\n",
       " '1977',\n",
       " '1981',\n",
       " '1985',\n",
       " '1989',\n",
       " '1993',\n",
       " '1997',\n",
       " '2001',\n",
       " '2005',\n",
       " '2009',\n",
       " '2013',\n",
       " '2017',\n",
       " '2021']"
      ]
     },
     "execution_count": 43,
     "metadata": {},
     "output_type": "execute_result"
    }
   ],
   "source": [
    "[fileid[:4] for fileid in inaugural.fileids()]"
   ]
  },
  {
   "cell_type": "markdown",
   "metadata": {},
   "source": [
    "### 2. How many total unique words are in the corpus? (Please feel free to define unique words in any interesting, defensible way)."
   ]
  },
  {
   "cell_type": "markdown",
   "metadata": {},
   "source": [
    "There are a total of 152901 words in the corpus."
   ]
  },
  {
   "cell_type": "code",
   "execution_count": 48,
   "metadata": {},
   "outputs": [
    {
     "data": {
      "text/plain": [
       "152901"
      ]
     },
     "execution_count": 48,
     "metadata": {},
     "output_type": "execute_result"
    }
   ],
   "source": [
    "# Count ALL words\n",
    "all_words = inaugural.words()\n",
    "len(all_words)"
   ]
  },
  {
   "cell_type": "code",
   "execution_count": 45,
   "metadata": {},
   "outputs": [
    {
     "data": {
      "text/plain": [
       "['Fellow', '-', 'Citizens', 'of', 'the', 'Senate', ...]"
      ]
     },
     "execution_count": 45,
     "metadata": {},
     "output_type": "execute_result"
    }
   ],
   "source": [
    "#Washington's speech\n",
    "inaugural.words('1789-Washington.txt')"
   ]
  },
  {
   "cell_type": "code",
   "execution_count": 52,
   "metadata": {},
   "outputs": [
    {
     "data": {
      "text/plain": [
       "[('the', 9555),\n",
       " (',', 7275),\n",
       " ('of', 7169),\n",
       " ('and', 5226),\n",
       " ('.', 5011),\n",
       " ('to', 4477),\n",
       " ('in', 2604),\n",
       " ('a', 2229),\n",
       " ('our', 2062),\n",
       " ('that', 1769),\n",
       " ('be', 1505),\n",
       " ('is', 1477),\n",
       " ('we', 1281),\n",
       " ('for', 1141),\n",
       " ('by', 1063),\n",
       " ('it', 1036),\n",
       " ('have', 1029),\n",
       " ('which', 1007),\n",
       " ('not', 972),\n",
       " ('will', 935)]"
      ]
     },
     "execution_count": 52,
     "metadata": {},
     "output_type": "execute_result"
    }
   ],
   "source": [
    "nltk.FreqDist(all_words).most_common(20)"
   ]
  },
  {
   "cell_type": "markdown",
   "metadata": {},
   "source": [
    "There are 10025 unique words in this data. Looking at the sample of our words above, we can see that it includes punctuation as well as stopwords, such as 'the' and 'of'. These words are meaningless for research. We also know that python will see capital letters as distinct from lowercase letters, so we need to convert all words to lowercase and remove punctuation, some common words, and numbers to get only the unique words."
   ]
  },
  {
   "cell_type": "code",
   "execution_count": 221,
   "metadata": {},
   "outputs": [
    {
     "data": {
      "text/plain": [
       "10025"
      ]
     },
     "execution_count": 221,
     "metadata": {},
     "output_type": "execute_result"
    }
   ],
   "source": [
    "len(set(all_words))"
   ]
  },
  {
   "cell_type": "markdown",
   "metadata": {},
   "source": [
    "Removing stopwords can be done by calling the stopwords corpus in NLTK, which contain the common\n",
    "high-frequency words with no practical meaning."
   ]
  },
  {
   "cell_type": "code",
   "execution_count": 121,
   "metadata": {},
   "outputs": [
    {
     "name": "stdout",
     "output_type": "stream",
     "text": [
      "['i', 'me', 'my', 'myself', 'we', 'our', 'ours', 'ourselves', 'you', \"you're\", \"you've\", \"you'll\", \"you'd\", 'your', 'yours', 'yourself', 'yourselves', 'he', 'him', 'his', 'himself', 'she', \"she's\", 'her', 'hers', 'herself', 'it', \"it's\", 'its', 'itself', 'they', 'them', 'their', 'theirs', 'themselves', 'what', 'which', 'who', 'whom', 'this', 'that', \"that'll\", 'these', 'those', 'am', 'is', 'are', 'was', 'were', 'be', 'been', 'being', 'have', 'has', 'had', 'having', 'do', 'does', 'did', 'doing', 'a', 'an', 'the', 'and', 'but', 'if', 'or', 'because', 'as', 'until', 'while', 'of', 'at', 'by', 'for', 'with', 'about', 'against', 'between', 'into', 'through', 'during', 'before', 'after', 'above', 'below', 'to', 'from', 'up', 'down', 'in', 'out', 'on', 'off', 'over', 'under', 'again', 'further', 'then', 'once', 'here', 'there', 'when', 'where', 'why', 'how', 'all', 'any', 'both', 'each', 'few', 'more', 'most', 'other', 'some', 'such', 'no', 'nor', 'not', 'only', 'own', 'same', 'so', 'than', 'too', 'very', 's', 't', 'can', 'will', 'just', 'don', \"don't\", 'should', \"should've\", 'now', 'd', 'll', 'm', 'o', 're', 've', 'y', 'ain', 'aren', \"aren't\", 'couldn', \"couldn't\", 'didn', \"didn't\", 'doesn', \"doesn't\", 'hadn', \"hadn't\", 'hasn', \"hasn't\", 'haven', \"haven't\", 'isn', \"isn't\", 'ma', 'mightn', \"mightn't\", 'mustn', \"mustn't\", 'needn', \"needn't\", 'shan', \"shan't\", 'shouldn', \"shouldn't\", 'wasn', \"wasn't\", 'weren', \"weren't\", 'won', \"won't\", 'wouldn', \"wouldn't\"]\n"
     ]
    }
   ],
   "source": [
    "#remove stopwords \n",
    "stop_words = set( stopwords.words( 'english' ) ) \n",
    "print(stopwords.words('english'))"
   ]
  },
  {
   "cell_type": "code",
   "execution_count": 213,
   "metadata": {},
   "outputs": [],
   "source": [
    "filtered_words = [ word for word in text if word not in stop_words ] "
   ]
  },
  {
   "cell_type": "code",
   "execution_count": 216,
   "metadata": {},
   "outputs": [
    {
     "data": {
      "text/plain": [
       "65522"
      ]
     },
     "execution_count": 216,
     "metadata": {},
     "output_type": "execute_result"
    }
   ],
   "source": [
    "len(filtered_words)"
   ]
  },
  {
   "cell_type": "code",
   "execution_count": 222,
   "metadata": {},
   "outputs": [
    {
     "data": {
      "text/plain": [
       "9062"
      ]
     },
     "execution_count": 222,
     "metadata": {},
     "output_type": "execute_result"
    }
   ],
   "source": [
    "len(set(filtered_words))"
   ]
  },
  {
   "cell_type": "code",
   "execution_count": 162,
   "metadata": {},
   "outputs": [],
   "source": [
    "#remove punctuation\n",
    "custom_stopwords = set((',', '.', ';', '?', '-', '!', '(', ')','--','\"',\"'\", ':', '¡¦', '¡','', '9', '/', '11','ii', '400','1863','','us',',\"'))"
   ]
  },
  {
   "cell_type": "code",
   "execution_count": 215,
   "metadata": {},
   "outputs": [],
   "source": [
    "filtered_words2 = [ word for word in filtered_words if word not in custom_stopwords ] "
   ]
  },
  {
   "cell_type": "code",
   "execution_count": 217,
   "metadata": {},
   "outputs": [
    {
     "data": {
      "text/plain": [
       "65018"
      ]
     },
     "execution_count": 217,
     "metadata": {},
     "output_type": "execute_result"
    }
   ],
   "source": [
    "len(filtered_words2)"
   ]
  },
  {
   "cell_type": "code",
   "execution_count": 223,
   "metadata": {},
   "outputs": [
    {
     "data": {
      "text/plain": [
       "9060"
      ]
     },
     "execution_count": 223,
     "metadata": {},
     "output_type": "execute_result"
    }
   ],
   "source": [
    "len(set(filtered_words2))"
   ]
  },
  {
   "cell_type": "markdown",
   "metadata": {},
   "source": [
    "After we filtered out all unnecessary words, we got 9060 unique words in the corpus."
   ]
  },
  {
   "cell_type": "markdown",
   "metadata": {},
   "source": [
    "### 3. Taking the most common words, how many unique words represent half of the total words in the corpus?"
   ]
  },
  {
   "cell_type": "markdown",
   "metadata": {},
   "source": [
    "There is a total of 65018 words in the corpus. That is excluding filtered out words.The following 493 unique words represent half of the these words."
   ]
  },
  {
   "cell_type": "code",
   "execution_count": 225,
   "metadata": {},
   "outputs": [
    {
     "name": "stdout",
     "output_type": "stream",
     "text": [
      "493\n"
     ]
    }
   ],
   "source": [
    "half_words = nltk.FreqDist(filtered_words2)     \n",
    "#print(*[w for w,n in fdist.most_common()[:332]], sep = \", \")    \n",
    "tw=len(filtered_words2)\n",
    "tcount=0\n",
    "wcount=0\n",
    "for word, count in half_words.most_common():\n",
    "    tcount=tcount+count\n",
    "    wcount=wcount+1\n",
    "    if tcount>(tw/2):\n",
    "        print(wcount)\n",
    "        break"
   ]
  },
  {
   "cell_type": "code",
   "execution_count": 226,
   "metadata": {},
   "outputs": [
    {
     "name": "stdout",
     "output_type": "stream",
     "text": [
      "government, people, must, upon, great, world, may, states, nation, country, shall, every, one, peace, new, citizens, power, america, public, time, would, constitution, united, nations, union, freedom, war, free, american, let, fellow, national, made, good, men, make, years, well, justice, life, without, spirit, rights, never, law, congress, laws, work, liberty, right, best, duty, hope, interests, know, god, today, much, many, state, among, political, history, foreign, long, first, man, powers, day, future, executive, policy, president, principles, progress, part, human, within, whole, ever, common, duties, support, administration, faith, system, far, together, confidence, service, purpose, present, way, less, still, yet, americans, necessary, party, always, come, better, force, strength, high, believe, need, old, equal, institutions, interest, others, office, general, things, land, could, means, even, home, place, federal, democracy, prosperity, give, change, might, secure, action, another, like, find, republic, security, order, whose, given, take, full, stand, responsibility, self, called, important, proper, found, commerce, see, true, business, subject, respect, honor, cause, earth, seek, revenue, century, trust, ought, character, since, question, children, principle, toward, civil, oath, beyond, done, act, influence, course, become, protection, cannot, love, meet, citizen, strong, also, help, past, however, authority, live, countrymen, greater, use, constitutional, economy, happiness, experience, sense, individual, promise, hand, governments, times, resources, continue, trade, domestic, lives, look, whether, nothing, purposes, defense, opinion, labor, control, opportunity, go, effort, condition, two, alone, economic, success, relations, maintain, preserve, ask, end, hands, regard, therefore, say, wisdom, fear, last, care, independence, moral, heart, moment, form, parties, taken, importance, ago, either, desire, bring, affairs, mind, measures, circumstances, local, exercise, welfare, mankind, legislation, generation, task, thought, race, knowledge, protect, greatest, aid, millions, blessings, call, danger, body, fair, period, increase, face, making, forward, essential, possible, favor, throughout, example, safety, peoples, hopes, share, occasion, society, highest, passed, efforts, reason, courage, territory, hold, civilization, words, little, large, judgment, require, chief, friends, certain, wealth, effect, limits, countries, pledge, questions, unity, nature, faithful, rule, object, view, sufficient, revolution, abroad, necessity, already, carry, money, four, international, objects, attention, patriotism, destiny, permanent, thus, solemn, promote, obligations, existence, year, social, different, military, population, conditions, members, problems, instrument, none, truth, produce, result, speak, industry, education, powerful, fail, community, back, women, independent, degree, wise, single, expect, lead, sound, dangers, small, south, clear, industrial, placed, equally, wish, advance, conduct, fact, generations, fathers, arms, discharge, dignity, rather, set, mr, tariff, established, due, sacred, personal, happy, seen, portion, think, enough, want, property, extent, extended, almighty, consideration, remain, light, presence, hearts, feel, often, whatever, election, position, humanity, reach, religious, ready, turn, ability, defend, away, days, responsibilities, citizenship, across, ideals, honorable, determined, constant, opinions, peaceful, left, keep, several, devotion, growth, enterprise, put, beginning, neither, views, endeavor, provide, mere, preserved, departments, longer, sovereignty, feeling, expression, vast, measure, came, demands, sacrifice, practical, cost, serve, private, honest, preservation, harmony, perfect, secured, demand, supreme, though, legislative, needs, equality, complete, differences, forces, case, patriotic, prevent, evil, obligation, popular, cooperation, accept, material, merely, distinguished, return, parts, number, something, doubt, bear, intercourse, safe, conscience, mutual, pay, family, debt, capacity, known, slavery, created, remember, washington\n"
     ]
    }
   ],
   "source": [
    "print(*[w for w,n in half_words.most_common()[:493]], sep = \", \")"
   ]
  },
  {
   "cell_type": "code",
   "execution_count": 228,
   "metadata": {},
   "outputs": [
    {
     "data": {
      "image/png": "[encoded data removed]",
      "text/plain": [
       "<Figure size 1080x504 with 1 Axes>"
      ]
     },
     "metadata": {
      "needs_background": "light"
     },
     "output_type": "display_data"
    }
   ],
   "source": [
    "plt.figure(figsize=(15,7))\n",
    "half_words.plot(493, cumulative = True)"
   ]
  },
  {
   "cell_type": "markdown",
   "metadata": {},
   "source": [
    "The cumulative word count for the first 493 words in the plot below matches to the expected value of 32 609"
   ]
  },
  {
   "cell_type": "markdown",
   "metadata": {},
   "source": [
    "### 4. Identify the 200 highest frequency words in this corpus."
   ]
  },
  {
   "cell_type": "markdown",
   "metadata": {},
   "source": [
    "#### 200 highest frequency words:"
   ]
  },
  {
   "cell_type": "code",
   "execution_count": 235,
   "metadata": {},
   "outputs": [
    {
     "data": {
      "text/plain": [
       "[('government', 600),\n",
       " ('people', 594),\n",
       " ('must', 374),\n",
       " ('upon', 371),\n",
       " ('great', 346),\n",
       " ('world', 346),\n",
       " ('may', 343),\n",
       " ('states', 335),\n",
       " ('nation', 330),\n",
       " ('country', 322),\n",
       " ('shall', 316),\n",
       " ('every', 301),\n",
       " ('one', 272),\n",
       " ('peace', 259),\n",
       " ('new', 255),\n",
       " ('citizens', 248),\n",
       " ('power', 241),\n",
       " ('america', 240),\n",
       " ('public', 227),\n",
       " ('time', 223),\n",
       " ('would', 213),\n",
       " ('constitution', 209),\n",
       " ('united', 204),\n",
       " ('nations', 199),\n",
       " ('union', 191),\n",
       " ('freedom', 189),\n",
       " ('war', 185),\n",
       " ('free', 184),\n",
       " ('american', 171),\n",
       " ('let', 160),\n",
       " ('fellow', 158),\n",
       " ('national', 158),\n",
       " ('made', 156),\n",
       " ('good', 150),\n",
       " ('men', 149),\n",
       " ('make', 147),\n",
       " ('years', 143),\n",
       " ('well', 142),\n",
       " ('justice', 142),\n",
       " ('life', 140),\n",
       " ('without', 140),\n",
       " ('spirit', 140),\n",
       " ('rights', 138),\n",
       " ('never', 137),\n",
       " ('law', 136),\n",
       " ('congress', 130),\n",
       " ('laws', 130),\n",
       " ('work', 124),\n",
       " ('liberty', 123),\n",
       " ('right', 122),\n",
       " ('best', 122),\n",
       " ('duty', 120),\n",
       " ('hope', 120),\n",
       " ('interests', 115),\n",
       " ('know', 112),\n",
       " ('god', 112),\n",
       " ('today', 112),\n",
       " ('much', 111),\n",
       " ('many', 110),\n",
       " ('state', 110),\n",
       " ('among', 108),\n",
       " ('political', 107),\n",
       " ('history', 106),\n",
       " ('foreign', 104),\n",
       " ('long', 103),\n",
       " ('first', 102),\n",
       " ('man', 102),\n",
       " ('powers', 101),\n",
       " ('day', 98),\n",
       " ('future', 97),\n",
       " ('executive', 97),\n",
       " ('policy', 97),\n",
       " ('president', 96),\n",
       " ('principles', 96),\n",
       " ('progress', 96),\n",
       " ('part', 96),\n",
       " ('human', 94),\n",
       " ('within', 94),\n",
       " ('whole', 93),\n",
       " ('ever', 93),\n",
       " ('common', 93),\n",
       " ('duties', 92),\n",
       " ('support', 92),\n",
       " ('administration', 91),\n",
       " ('faith', 91),\n",
       " ('system', 90),\n",
       " ('far', 89),\n",
       " ('together', 89),\n",
       " ('confidence', 88),\n",
       " ('service', 87),\n",
       " ('purpose', 87),\n",
       " ('present', 86),\n",
       " ('way', 86),\n",
       " ('less', 85),\n",
       " ('still', 84),\n",
       " ('yet', 84),\n",
       " ('americans', 84),\n",
       " ('necessary', 82),\n",
       " ('party', 82),\n",
       " ('always', 81),\n",
       " ('come', 81),\n",
       " ('better', 80),\n",
       " ('force', 80),\n",
       " ('strength', 80),\n",
       " ('high', 78),\n",
       " ('believe', 78),\n",
       " ('need', 78),\n",
       " ('old', 78),\n",
       " ('equal', 77),\n",
       " ('institutions', 77),\n",
       " ('interest', 77),\n",
       " ('others', 76),\n",
       " ('office', 75),\n",
       " ('general', 75),\n",
       " ('things', 74),\n",
       " ('land', 73),\n",
       " ('could', 72),\n",
       " ('means', 72),\n",
       " ('even', 72),\n",
       " ('home', 72),\n",
       " ('place', 71),\n",
       " ('federal', 71),\n",
       " ('democracy', 71),\n",
       " ('prosperity', 70),\n",
       " ('give', 70),\n",
       " ('change', 70),\n",
       " ('might', 69),\n",
       " ('secure', 69),\n",
       " ('action', 69),\n",
       " ('another', 68),\n",
       " ('like', 68),\n",
       " ('find', 68),\n",
       " ('republic', 68),\n",
       " ('security', 67),\n",
       " ('order', 66),\n",
       " ('whose', 66),\n",
       " ('given', 66),\n",
       " ('take', 66),\n",
       " ('full', 66),\n",
       " ('stand', 65),\n",
       " ('responsibility', 65),\n",
       " ('self', 65),\n",
       " ('called', 64),\n",
       " ('important', 64),\n",
       " ('proper', 64),\n",
       " ('found', 64),\n",
       " ('commerce', 64),\n",
       " ('see', 63),\n",
       " ('true', 63),\n",
       " ('business', 63),\n",
       " ('subject', 62),\n",
       " ('respect', 62),\n",
       " ('honor', 62),\n",
       " ('cause', 62),\n",
       " ('earth', 62),\n",
       " ('seek', 62),\n",
       " ('revenue', 61),\n",
       " ('century', 61),\n",
       " ('trust', 60),\n",
       " ('ought', 60),\n",
       " ('character', 60),\n",
       " ('since', 60),\n",
       " ('question', 60),\n",
       " ('children', 60),\n",
       " ('principle', 59),\n",
       " ('toward', 59),\n",
       " ('civil', 58),\n",
       " ('oath', 58),\n",
       " ('beyond', 58),\n",
       " ('done', 58),\n",
       " ('act', 57),\n",
       " ('influence', 57),\n",
       " ('course', 57),\n",
       " ('become', 57),\n",
       " ('protection', 57),\n",
       " ('cannot', 57),\n",
       " ('love', 56),\n",
       " ('meet', 56),\n",
       " ('citizen', 56),\n",
       " ('strong', 56),\n",
       " ('also', 56),\n",
       " ('help', 56),\n",
       " ('past', 55),\n",
       " ('however', 55),\n",
       " ('authority', 55),\n",
       " ('live', 55),\n",
       " ('countrymen', 55),\n",
       " ('greater', 54),\n",
       " ('use', 54),\n",
       " ('constitutional', 53),\n",
       " ('economy', 53),\n",
       " ('happiness', 52),\n",
       " ('experience', 52),\n",
       " ('sense', 52),\n",
       " ('individual', 52),\n",
       " ('promise', 52),\n",
       " ('hand', 51),\n",
       " ('governments', 51),\n",
       " ('times', 51),\n",
       " ('resources', 51)]"
      ]
     },
     "execution_count": 235,
     "metadata": {},
     "output_type": "execute_result"
    }
   ],
   "source": [
    "fdist = nltk.FreqDist(filtered_words2)\n",
    "fdist.most_common(200) "
   ]
  },
  {
   "cell_type": "code",
   "execution_count": 236,
   "metadata": {},
   "outputs": [
    {
     "data": {
      "image/png": "[encoded data removed]",
      "text/plain": [
       "<Figure size 1800x576 with 1 Axes>"
      ]
     },
     "metadata": {
      "needs_background": "light"
     },
     "output_type": "display_data"
    }
   ],
   "source": [
    "fdist.plot(20) "
   ]
  },
  {
   "cell_type": "markdown",
   "metadata": {},
   "source": [
    "#### Top 10 words for each inaguaral speech"
   ]
  },
  {
   "cell_type": "code",
   "execution_count": 234,
   "metadata": {},
   "outputs": [
    {
     "name": "stdout",
     "output_type": "stream",
     "text": [
      "1789-Washington.txt\n",
      "[('every', 9), ('government', 8), ('public', 6), ('may', 6), ('citizens', 5), ('present', 5), ('country', 5), ('one', 4), ('ought', 4), ('duty', 4)]\n",
      "1793-Washington.txt\n",
      "[('shall', 3), ('oath', 2), ('fellow', 1), ('citizens', 1), ('called', 1), ('upon', 1), ('voice', 1), ('country', 1), ('execute', 1), ('functions', 1)]\n",
      "1797-Adams.txt\n",
      "[('people', 20), ('government', 16), ('may', 13), ('nations', 11), ('country', 10), ('nation', 9), ('states', 9), ('foreign', 8), ('constitution', 8), ('honor', 7)]\n",
      "1801-Jefferson.txt\n",
      "[('government', 12), ('may', 8), ('fellow', 7), ('citizens', 7), ('let', 7), ('shall', 6), ('principle', 6), ('would', 6), ('one', 6), ('man', 6)]\n",
      "1805-Jefferson.txt\n",
      "[('public', 14), ('citizens', 10), ('may', 10), ('fellow', 8), ('state', 8), ('among', 7), ('shall', 7), ('constitution', 6), ('time', 6), ('limits', 5)]\n",
      "1809-Madison.txt\n",
      "[('nations', 6), ('public', 6), ('well', 5), ('country', 4), ('peace', 4), ('rights', 4), ('states', 4), ('confidence', 3), ('full', 3), ('improvements', 3)]\n",
      "1813-Madison.txt\n",
      "[('war', 15), ('country', 5), ('united', 5), ('every', 5), ('british', 5), ('nation', 4), ('without', 4), ('states', 4), ('spirit', 4), ('citizens', 4)]\n",
      "1817-Monroe.txt\n",
      "[('government', 22), ('great', 21), ('states', 21), ('people', 15), ('every', 14), ('united', 13), ('may', 10), ('union', 10), ('war', 10), ('citizens', 9)]\n",
      "1821-Monroe.txt\n",
      "[('great', 29), ('states', 20), ('would', 18), ('united', 16), ('war', 16), ('citizens', 15), ('may', 15), ('made', 15), ('government', 13), ('every', 13)]\n",
      "1825-Adams.txt\n",
      "[('union', 20), ('government', 17), ('upon', 16), ('country', 10), ('rights', 10), ('peace', 9), ('great', 9), ('public', 9), ('constitution', 8), ('first', 8)]\n",
      "1829-Jackson.txt\n",
      "[('public', 8), ('shall', 6), ('government', 6), ('power', 5), ('people', 4), ('may', 4), ('national', 4), ('duties', 3), ('interests', 3), ('service', 3)]\n",
      "1833-Jackson.txt\n",
      "[('government', 13), ('people', 9), ('union', 9), ('states', 8), ('upon', 5), ('general', 5), ('powers', 5), ('united', 4), ('liberty', 4), ('preservation', 4)]\n",
      "1837-VanBuren.txt\n",
      "[('people', 20), ('every', 20), ('institutions', 16), ('government', 16), ('country', 15), ('upon', 13), ('may', 11), ('never', 8), ('yet', 8), ('experience', 8)]\n",
      "1841-Harrison.txt\n",
      "[('power', 47), ('people', 38), ('constitution', 36), ('government', 36), ('upon', 34), ('may', 34), ('one', 28), ('citizens', 27), ('executive', 25), ('country', 24)]\n",
      "1845-Polk.txt\n",
      "[('government', 47), ('states', 36), ('union', 32), ('would', 21), ('one', 19), ('people', 16), ('powers', 16), ('country', 15), ('constitution', 15), ('upon', 14)]\n",
      "1849-Taylor.txt\n",
      "[('shall', 15), ('government', 7), ('country', 6), ('duties', 5), ('constitution', 4), ('interests', 4), ('congress', 4), ('may', 4), ('people', 3), ('office', 3)]\n",
      "1853-Pierce.txt\n",
      "[('upon', 24), ('power', 11), ('government', 10), ('must', 9), ('may', 9), ('shall', 9), ('every', 9), ('nation', 8), ('great', 8), ('states', 8)]\n",
      "1857-Buchanan.txt\n",
      "[('states', 22), ('shall', 18), ('constitution', 17), ('may', 15), ('government', 14), ('people', 13), ('great', 11), ('question', 11), ('union', 10), ('free', 9)]\n",
      "1861-Lincoln.txt\n",
      "[('constitution', 24), ('people', 20), ('union', 20), ('states', 19), ('government', 18), ('shall', 17), ('upon', 15), ('one', 14), ('law', 14), ('may', 13)]\n",
      "1865-Lincoln.txt\n",
      "[('war', 12), ('god', 6), ('shall', 5), ('years', 4), ('union', 4), ('let', 4), ('nation', 3), ('one', 3), ('would', 3), ('interest', 3)]\n",
      "1869-Grant.txt\n",
      "[('country', 8), ('every', 6), ('without', 5), ('best', 5), ('public', 5), ('laws', 5), ('dollar', 5), ('may', 5), ('office', 4), ('years', 4)]\n",
      "1873-Grant.txt\n",
      "[('country', 8), ('people', 7), ('best', 6), ('made', 6), ('great', 5), ('office', 5), ('executive', 4), ('commerce', 4), ('government', 4), ('support', 4)]\n",
      "1877-Hayes.txt\n",
      "[('country', 20), ('government', 18), ('upon', 15), ('public', 11), ('states', 11), ('political', 10), ('great', 9), ('people', 9), ('party', 8), ('citizens', 7)]\n",
      "1881-Garfield.txt\n",
      "[('government', 23), ('people', 21), ('constitution', 15), ('states', 15), ('upon', 13), ('union', 11), ('great', 11), ('law', 10), ('nation', 9), ('authority', 9)]\n",
      "1885-Cleveland.txt\n",
      "[('people', 18), ('government', 17), ('public', 11), ('shall', 10), ('constitution', 8), ('interests', 7), ('citizens', 6), ('every', 5), ('citizen', 5), ('upon', 5)]\n",
      "1889-Harrison.txt\n",
      "[('people', 29), ('upon', 21), ('states', 20), ('shall', 18), ('public', 17), ('laws', 17), ('may', 12), ('great', 12), ('constitution', 11), ('nation', 10)]\n",
      "1893-Cleveland.txt\n",
      "[('people', 22), ('government', 14), ('every', 9), ('public', 8), ('american', 8), ('service', 7), ('support', 7), ('national', 6), ('upon', 6), ('countrymen', 5)]\n",
      "1897-McKinley.txt\n",
      "[('upon', 31), ('people', 25), ('must', 23), ('government', 23), ('congress', 18), ('great', 16), ('country', 14), ('public', 13), ('united', 12), ('states', 12)]\n",
      "1901-McKinley.txt\n",
      "[('government', 15), ('people', 12), ('upon', 11), ('congress', 9), ('executive', 9), ('united', 9), ('states', 9), ('american', 7), ('war', 7), ('peace', 7)]\n",
      "1905-Roosevelt.txt\n",
      "[('people', 6), ('life', 6), ('must', 6), ('great', 5), ('nation', 5), ('problems', 5), ('cause', 4), ('yet', 4), ('ever', 4), ('power', 4)]\n",
      "1909-Taft.txt\n",
      "[('government', 26), ('business', 22), ('must', 19), ('may', 18), ('upon', 16), ('proper', 15), ('law', 14), ('congress', 14), ('tariff', 13), ('race', 13)]\n",
      "1913-Wilson.txt\n",
      "[('great', 14), ('men', 11), ('government', 9), ('upon', 8), ('life', 8), ('every', 8), ('justice', 8), ('things', 7), ('nation', 6), ('shall', 6)]\n",
      "1917-Wilson.txt\n",
      "[('upon', 13), ('shall', 9), ('purpose', 8), ('action', 7), ('life', 6), ('people', 6), ('world', 6), ('peace', 6), ('stand', 6), ('counsel', 5)]\n",
      "1921-Harding.txt\n",
      "[('world', 28), ('must', 23), ('america', 15), ('war', 15), ('new', 13), ('civilization', 12), ('never', 12), ('government', 11), ('republic', 10), ('may', 10)]\n",
      "1925-Coolidge.txt\n",
      "[('country', 17), ('must', 17), ('great', 16), ('people', 15), ('government', 14), ('world', 13), ('peace', 13), ('much', 12), ('upon', 12), ('one', 10)]\n",
      "1929-Hoover.txt\n",
      "[('government', 30), ('upon', 17), ('progress', 16), ('people', 15), ('world', 15), ('must', 15), ('peace', 15), ('justice', 14), ('nation', 12), ('system', 11)]\n",
      "1933-Roosevelt.txt\n",
      "[('national', 9), ('must', 9), ('people', 8), ('may', 8), ('leadership', 7), ('helped', 7), ('shall', 7), ('nation', 6), ('action', 6), ('world', 6)]\n",
      "1937-Roosevelt.txt\n",
      "[('government', 16), ('people', 11), ('nation', 9), ('men', 8), ('democracy', 8), ('good', 8), ('see', 8), ('power', 7), ('progress', 7), ('purpose', 6)]\n",
      "1941-Roosevelt.txt\n",
      "[('nation', 12), ('know', 10), ('spirit', 9), ('life', 9), ('democracy', 9), ('people', 7), ('america', 7), ('years', 6), ('freedom', 6), ('human', 5)]\n",
      "1945-Roosevelt.txt\n",
      "[('shall', 7), ('peace', 6), ('learned', 5), ('today', 4), ('men', 4), ('test', 3), ('way', 3), ('simple', 2), ('courage', 2), ('democracy', 2)]\n",
      "1949-Truman.txt\n",
      "[('world', 23), ('nations', 22), ('peace', 15), ('freedom', 13), ('people', 12), ('free', 11), ('united', 10), ('peoples', 9), ('security', 9), ('democracy', 9)]\n",
      "1953-Eisenhower.txt\n",
      "[('free', 21), ('world', 16), ('faith', 13), ('peace', 12), ('people', 11), ('shall', 11), ('upon', 10), ('freedom', 10), ('must', 10), ('strength', 10)]\n",
      "1957-Eisenhower.txt\n",
      "[('world', 16), ('may', 15), ('nations', 14), ('peace', 11), ('freedom', 11), ('people', 10), ('seek', 10), ('must', 9), ('justice', 6), ('upon', 6)]\n",
      "1961-Kennedy.txt\n",
      "[('let', 16), ('world', 8), ('sides', 8), ('new', 7), ('pledge', 7), ('citizens', 5), ('power', 5), ('shall', 5), ('free', 5), ('nations', 5)]\n",
      "1965-Johnson.txt\n",
      "[('nation', 12), ('change', 12), ('must', 10), ('man', 10), ('people', 9), ('union', 9), ('world', 7), ('old', 7), ('every', 6), ('american', 6)]\n",
      "1969-Nixon.txt\n",
      "[('people', 14), ('world', 13), ('peace', 12), ('let', 11), ('man', 10), ('know', 10), ('make', 9), ('earth', 9), ('new', 8), ('voices', 8)]\n",
      "1973-Nixon.txt\n",
      "[('let', 22), ('america', 21), ('peace', 19), ('world', 18), ('new', 15), ('nation', 11), ('responsibility', 11), ('government', 10), ('great', 9), ('home', 9)]\n",
      "1977-Carter.txt\n",
      "[('nation', 13), ('new', 9), ('must', 8), ('strength', 7), ('people', 7), ('together', 7), ('spirit', 6), ('world', 6), ('dream', 5), ('human', 5)]\n",
      "1981-Reagan.txt\n"
     ]
    },
    {
     "name": "stdout",
     "output_type": "stream",
     "text": [
      "[('government', 16), ('must', 10), ('believe', 10), ('world', 9), ('people', 9), ('americans', 9), ('one', 8), ('time', 8), ('freedom', 8), ('work', 7)]\n",
      "1985-Reagan.txt\n",
      "[('government', 18), ('people', 17), ('world', 16), ('one', 14), ('freedom', 14), ('must', 12), ('time', 10), ('new', 9), ('history', 9), ('human', 9)]\n",
      "1989-Bush.txt\n",
      "[('new', 14), ('nation', 10), ('great', 10), ('world', 10), ('free', 9), ('must', 9), ('friends', 8), ('things', 8), ('hand', 8), ('good', 8)]\n",
      "1993-Clinton.txt\n",
      "[('world', 20), ('america', 19), ('must', 18), ('people', 12), ('today', 10), ('change', 9), ('new', 9), ('americans', 9), ('let', 9), ('time', 7)]\n",
      "1997-Clinton.txt\n",
      "[('new', 29), ('century', 20), ('america', 15), ('world', 15), ('nation', 13), ('time', 12), ('land', 11), ('people', 11), ('every', 11), ('must', 10)]\n",
      "2001-Bush.txt\n",
      "[('nation', 11), ('america', 11), ('story', 10), ('citizens', 9), ('country', 9), ('must', 6), ('every', 6), ('common', 5), ('new', 5), ('many', 5)]\n",
      "2005-Bush.txt\n",
      "[('freedom', 27), ('america', 20), ('liberty', 15), ('every', 10), ('nation', 10), ('one', 9), ('country', 8), ('world', 8), ('americans', 8), ('history', 7)]\n",
      "2009-Obama.txt\n",
      "[('nation', 12), ('new', 11), ('america', 10), ('every', 8), ('must', 8), ('people', 7), ('less', 7), ('world', 7), ('let', 7), ('today', 6)]\n",
      "2013-Obama.txt\n",
      "[('must', 17), ('people', 11), ('time', 9), ('america', 8), ('together', 7), ('country', 7), ('make', 7), ('every', 7), ('citizens', 6), ('nation', 6)]\n",
      "2017-Trump.txt\n",
      "[('america', 20), ('american', 11), ('people', 10), ('country', 9), ('one', 8), ('nation', 8), ('every', 7), ('world', 6), ('great', 6), ('back', 6)]\n",
      "2021-Biden.txt\n",
      "[('america', 20), ('one', 15), ('nation', 14), ('democracy', 11), ('americans', 10), ('today', 10), ('people', 10), ('much', 10), ('know', 9), ('story', 9)]\n"
     ]
    }
   ],
   "source": [
    "for text in text_data['filename']:\n",
    "    print (text)\n",
    "    word_list = inaugural.words(text)\n",
    "    word_list = [w.lower() for w in word_list]  # handle the case sensitivity\n",
    "    filtered_words = [word for word in word_list if word not in stopwords.words('english') and \\\n",
    "                      word not in custom_stopwords]\n",
    "    print(nltk.FreqDist(filtered_words).most_common(10))\n"
   ]
  },
  {
   "cell_type": "markdown",
   "metadata": {},
   "source": [
    "### 5. Create a graph that shows the relative frequency of these 200 words."
   ]
  },
  {
   "cell_type": "code",
   "execution_count": 250,
   "metadata": {},
   "outputs": [],
   "source": [
    "counts = [(word, filtered_words2.count(word) / len(filtered_words2)) for word in set(filtered_words2)] \n",
    "def takeSecond(elem):\n",
    "    return elem[1]\n",
    "counts.sort(key=takeSecond, reverse=True)\n",
    "relative_frequency = counts[:200]"
   ]
  },
  {
   "cell_type": "code",
   "execution_count": 251,
   "metadata": {},
   "outputs": [
    {
     "data": {
      "text/plain": [
       "[('government', 0.00922821372542988),\n",
       " ('people', 0.009135931588175583),\n",
       " ('must', 0.0057522532221846254),\n",
       " ('upon', 0.005706112153557477),\n",
       " ('world', 0.005321603248331232),\n",
       " ('great', 0.005321603248331232),\n",
       " ('may', 0.005275462179704082),\n",
       " ('states', 0.0051524193300316835),\n",
       " ('nation', 0.005075517548986434),\n",
       " ('country', 0.0049524746993140365),\n",
       " ('shall', 0.0048601925620597375),\n",
       " ('every', 0.00462948721892399),\n",
       " ('one', 0.004183456888861546),\n",
       " ('peace', 0.0039835122581438984),\n",
       " ('new', 0.003921990833307699),\n",
       " ('citizens', 0.0038143283398443507),\n",
       " ('power', 0.0037066658463810022),\n",
       " ('america', 0.0036912854901719524),\n",
       " ('public', 0.003491340859454305),\n",
       " ('time', 0.0034298194346181056),\n",
       " ('would', 0.0032760158725276076),\n",
       " ('constitution', 0.0032144944476914087),\n",
       " ('united', 0.0031375926666461595),\n",
       " ('nations', 0.0030606908856009103),\n",
       " ('union', 0.002937648035928512),\n",
       " ('freedom', 0.0029068873235104124),\n",
       " ('war', 0.0028453658986742135),\n",
       " ('free', 0.0028299855424651636),\n",
       " ('american', 0.002630040911747516),\n",
       " ('let', 0.0024608569934479684),\n",
       " ('fellow', 0.0024300962810298687),\n",
       " ('national', 0.0024300962810298687),\n",
       " ('made', 0.002399335568611769),\n",
       " ('good', 0.00230705343135747),\n",
       " ('men', 0.0022916730751484206),\n",
       " ('make', 0.002260912362730321),\n",
       " ('years', 0.0021993909378941216),\n",
       " ('well', 0.0021840105816850718),\n",
       " ('justice', 0.0021840105816850718),\n",
       " ('without', 0.002153249869266972),\n",
       " ('spirit', 0.002153249869266972),\n",
       " ('life', 0.002153249869266972),\n",
       " ('rights', 0.0021224891568488724),\n",
       " ('never', 0.002107108800639823),\n",
       " ('law', 0.002091728444430773),\n",
       " ('laws', 0.001999446307176474),\n",
       " ('congress', 0.001999446307176474),\n",
       " ('work', 0.0019071641699221753),\n",
       " ('liberty', 0.0018917838137131255),\n",
       " ('right', 0.0018764034575040759),\n",
       " ('best', 0.0018764034575040759),\n",
       " ('hope', 0.0018456427450859762),\n",
       " ('duty', 0.0018456427450859762),\n",
       " ('interests', 0.0017687409640407272),\n",
       " ('today', 0.0017225998954135777),\n",
       " ('god', 0.0017225998954135777),\n",
       " ('know', 0.0017225998954135777),\n",
       " ('much', 0.0017072195392045279),\n",
       " ('many', 0.0016918391829954782),\n",
       " ('state', 0.0016918391829954782),\n",
       " ('among', 0.0016610784705773786),\n",
       " ('political', 0.0016456981143683287),\n",
       " ('history', 0.001630317758159279),\n",
       " ('foreign', 0.0015995570457411794),\n",
       " ('long', 0.0015841766895321296),\n",
       " ('man', 0.0015687963333230798),\n",
       " ('first', 0.0015687963333230798),\n",
       " ('powers', 0.00155341597711403),\n",
       " ('day', 0.0015072749084868806),\n",
       " ('policy', 0.0014918945522778308),\n",
       " ('executive', 0.0014918945522778308),\n",
       " ('future', 0.0014918945522778308),\n",
       " ('part', 0.001476514196068781),\n",
       " ('progress', 0.001476514196068781),\n",
       " ('principles', 0.001476514196068781),\n",
       " ('president', 0.001476514196068781),\n",
       " ('human', 0.0014457534836506813),\n",
       " ('within', 0.0014457534836506813),\n",
       " ('common', 0.0014303731274416314),\n",
       " ('ever', 0.0014303731274416314),\n",
       " ('whole', 0.0014303731274416314),\n",
       " ('duties', 0.0014149927712325818),\n",
       " ('support', 0.0014149927712325818),\n",
       " ('administration', 0.001399612415023532),\n",
       " ('faith', 0.001399612415023532),\n",
       " ('system', 0.0013842320588144821),\n",
       " ('together', 0.0013688517026054323),\n",
       " ('far', 0.0013688517026054323),\n",
       " ('confidence', 0.0013534713463963825),\n",
       " ('purpose', 0.0013380909901873326),\n",
       " ('service', 0.0013380909901873326),\n",
       " ('present', 0.001322710633978283),\n",
       " ('way', 0.001322710633978283),\n",
       " ('less', 0.0013073302777692332),\n",
       " ('yet', 0.0012919499215601833),\n",
       " ('americans', 0.0012919499215601833),\n",
       " ('still', 0.0012919499215601833),\n",
       " ('necessary', 0.0012611892091420837),\n",
       " ('party', 0.0012611892091420837),\n",
       " ('always', 0.0012458088529330338),\n",
       " ('come', 0.0012458088529330338),\n",
       " ('force', 0.0012304284967239842),\n",
       " ('strength', 0.0012304284967239842),\n",
       " ('better', 0.0012304284967239842),\n",
       " ('believe', 0.0011996677843058845),\n",
       " ('old', 0.0011996677843058845),\n",
       " ('need', 0.0011996677843058845),\n",
       " ('high', 0.0011996677843058845),\n",
       " ('institutions', 0.0011842874280968347),\n",
       " ('interest', 0.0011842874280968347),\n",
       " ('equal', 0.0011842874280968347),\n",
       " ('others', 0.0011689070718877848),\n",
       " ('general', 0.001153526715678735),\n",
       " ('office', 0.001153526715678735),\n",
       " ('things', 0.0011381463594696854),\n",
       " ('land', 0.0011227660032606356),\n",
       " ('home', 0.0011073856470515857),\n",
       " ('could', 0.0011073856470515857),\n",
       " ('means', 0.0011073856470515857),\n",
       " ('even', 0.0011073856470515857),\n",
       " ('place', 0.0010920052908425359),\n",
       " ('federal', 0.0010920052908425359),\n",
       " ('democracy', 0.0010920052908425359),\n",
       " ('change', 0.001076624934633486),\n",
       " ('prosperity', 0.001076624934633486),\n",
       " ('give', 0.001076624934633486),\n",
       " ('action', 0.0010612445784244362),\n",
       " ('might', 0.0010612445784244362),\n",
       " ('secure', 0.0010612445784244362),\n",
       " ('republic', 0.0010458642222153866),\n",
       " ('find', 0.0010458642222153866),\n",
       " ('another', 0.0010458642222153866),\n",
       " ('like', 0.0010458642222153866),\n",
       " ('security', 0.0010304838660063367),\n",
       " ('given', 0.001015103509797287),\n",
       " ('order', 0.001015103509797287),\n",
       " ('take', 0.001015103509797287),\n",
       " ('full', 0.001015103509797287),\n",
       " ('whose', 0.001015103509797287),\n",
       " ('stand', 0.000999723153588237),\n",
       " ('responsibility', 0.000999723153588237),\n",
       " ('self', 0.000999723153588237),\n",
       " ('important', 0.0009843427973791872),\n",
       " ('found', 0.0009843427973791872),\n",
       " ('called', 0.0009843427973791872),\n",
       " ('commerce', 0.0009843427973791872),\n",
       " ('proper', 0.0009843427973791872),\n",
       " ('business', 0.0009689624411701375),\n",
       " ('true', 0.0009689624411701375),\n",
       " ('see', 0.0009689624411701375),\n",
       " ('honor', 0.0009535820849610877),\n",
       " ('respect', 0.0009535820849610877),\n",
       " ('cause', 0.0009535820849610877),\n",
       " ('subject', 0.0009535820849610877),\n",
       " ('earth', 0.0009535820849610877),\n",
       " ('seek', 0.0009535820849610877),\n",
       " ('revenue', 0.0009382017287520379),\n",
       " ('century', 0.0009382017287520379),\n",
       " ('character', 0.0009228213725429881),\n",
       " ('question', 0.0009228213725429881),\n",
       " ('since', 0.0009228213725429881),\n",
       " ('ought', 0.0009228213725429881),\n",
       " ('children', 0.0009228213725429881),\n",
       " ('trust', 0.0009228213725429881),\n",
       " ('toward', 0.0009074410163339383),\n",
       " ('principle', 0.0009074410163339383),\n",
       " ('oath', 0.0008920606601248885),\n",
       " ('beyond', 0.0008920606601248885),\n",
       " ('done', 0.0008920606601248885),\n",
       " ('civil', 0.0008920606601248885),\n",
       " ('become', 0.0008766803039158387),\n",
       " ('cannot', 0.0008766803039158387),\n",
       " ('course', 0.0008766803039158387),\n",
       " ('influence', 0.0008766803039158387),\n",
       " ('act', 0.0008766803039158387),\n",
       " ('protection', 0.0008766803039158387),\n",
       " ('love', 0.0008612999477067889),\n",
       " ('help', 0.0008612999477067889),\n",
       " ('meet', 0.0008612999477067889),\n",
       " ('also', 0.0008612999477067889),\n",
       " ('strong', 0.0008612999477067889),\n",
       " ('citizen', 0.0008612999477067889),\n",
       " ('authority', 0.0008459195914977391),\n",
       " ('live', 0.0008459195914977391),\n",
       " ('however', 0.0008459195914977391),\n",
       " ('countrymen', 0.0008459195914977391),\n",
       " ('past', 0.0008459195914977391),\n",
       " ('use', 0.0008305392352886893),\n",
       " ('greater', 0.0008305392352886893),\n",
       " ('economy', 0.0008151588790796394),\n",
       " ('constitutional', 0.0008151588790796394),\n",
       " ('experience', 0.0007997785228705897),\n",
       " ('individual', 0.0007997785228705897),\n",
       " ('promise', 0.0007997785228705897),\n",
       " ('happiness', 0.0007997785228705897),\n",
       " ('sense', 0.0007997785228705897),\n",
       " ('hand', 0.0007843981666615399),\n",
       " ('trade', 0.0007843981666615399),\n",
       " ('times', 0.0007843981666615399),\n",
       " ('continue', 0.0007843981666615399)]"
      ]
     },
     "execution_count": 251,
     "metadata": {},
     "output_type": "execute_result"
    }
   ],
   "source": [
    "relative_frequency"
   ]
  },
  {
   "cell_type": "code",
   "execution_count": 275,
   "metadata": {},
   "outputs": [
    {
     "data": {
      "text/plain": [
       "<BarContainer object of 200 artists>"
      ]
     },
     "execution_count": 275,
     "metadata": {},
     "output_type": "execute_result"
    },
    {
     "data": {
      "image/png": "[encoded data removed]",
      "text/plain": [
       "<Figure size 1800x360 with 1 Axes>"
      ]
     },
     "metadata": {
      "needs_background": "light"
     },
     "output_type": "display_data"
    }
   ],
   "source": [
    "my_dict = {}\n",
    "wcount=0\n",
    "for word, count in fdist.most_common():       \n",
    "    wcount=wcount+1\n",
    "    my_dict[word]=count/tw\n",
    "    if wcount>199:\n",
    "        break\n",
    "        \n",
    "plt.figure(figsize=(25,5))\n",
    "plt.xticks(rotation=90)\n",
    "plt.bar(my_dict.keys(), my_dict.values(), width=.5)"
   ]
  },
  {
   "cell_type": "markdown",
   "metadata": {},
   "source": [
    "### 6. Does the observed relative frequency of these words follow Zipf’s law? Explain."
   ]
  },
  {
   "cell_type": "markdown",
   "metadata": {},
   "source": [
    "In NLP, Zipf’s Law is a discrete probability distribution that tells you the probability of encountering a word in a given corpus. The input is the rank of a word (in terms of is frequency) so you can use this distribution to ask questions like:\n",
    "* What is the probability of encountering the most common word in a corpus with 100,000 words?\n",
    "* What is the probability of encountering the 10th most common word in a corpus of 100,000 words?\n",
    "* What is the probability of encountering the least common word in a corpus of 100,000 words?\n",
    "Source: https://medium.com/@_init_/using-zipfs-law-to-improve-neural-language-models-4c3d66e6d2f6"
   ]
  },
  {
   "cell_type": "code",
   "execution_count": null,
   "metadata": {},
   "outputs": [],
   "source": []
  },
  {
   "cell_type": "markdown",
   "metadata": {},
   "source": [
    "### 7. In what ways do you think the frequency of the words in this corpus differ from “all words in all corpora."
   ]
  }
 ],
 "metadata": {
  "kernelspec": {
   "display_name": "Python 3",
   "language": "python",
   "name": "python3"
  },
  "language_info": {
   "codemirror_mode": {
    "name": "ipython",
    "version": 3
   },
   "file_extension": ".py",
   "mimetype": "text/x-python",
   "name": "python",
   "nbconvert_exporter": "python",
   "pygments_lexer": "ipython3",
   "version": "3.6.5"
  }
 },
 "nbformat": 4,
 "nbformat_minor": 5
}
