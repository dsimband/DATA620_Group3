{
 "cells": [
  {
   "cell_type": "code",
   "execution_count": 1,
   "id": "3af728fa",
   "metadata": {},
   "outputs": [
    {
     "name": "stderr",
     "output_type": "stream",
     "text": [
      "[nltk_data] Downloading package punkt to\n",
      "[nltk_data]     C:\\Users\\ericl\\AppData\\Roaming\\nltk_data...\n",
      "[nltk_data]   Package punkt is already up-to-date!\n",
      "[nltk_data] Downloading package stopwords to\n",
      "[nltk_data]     C:\\Users\\ericl\\AppData\\Roaming\\nltk_data...\n",
      "[nltk_data]   Package stopwords is already up-to-date!\n",
      "[nltk_data] Downloading package wordnet to\n",
      "[nltk_data]     C:\\Users\\ericl\\AppData\\Roaming\\nltk_data...\n",
      "[nltk_data]   Package wordnet is already up-to-date!\n"
     ]
    }
   ],
   "source": [
    "import pandas as pd\n",
    "import re\n",
    "from nltk.tokenize import word_tokenize\n",
    "import nltk\n",
    "nltk.download('punkt')\n",
    "from nltk.tokenize import word_tokenize\n",
    "from nltk import pos_tag\n",
    "nltk.download('stopwords')\n",
    "from nltk.corpus import stopwords\n",
    "nltk.download('wordnet')\n",
    "from nltk.corpus import wordnet\n",
    "import seaborn as sns\n",
    "import matplotlib.pyplot as plt\n",
    "from textblob import TextBlob"
   ]
  },
  {
   "cell_type": "markdown",
   "id": "a69ba019",
   "metadata": {},
   "source": [
    "## Rule Based Approach Sentiment Analysis\n",
    "\n",
    "Rule based sentiment analysis uses predefined lexicons to generate a sentiment score. The TextBlob library has predetermined rules stored in word and weight dictionaries that can be leveraged to generate polarity and subjectivity scores.\n",
    "   * Polarity: Defines the sentiment of the text (-1 is extremely negative, 1 is extremely positive)\n",
    "   * Subjectivity: Quantifies the amount of personal opinion and factual information contained in the text (closer to 0 indicates more factual information, closer to 1 indicates the text contains more personal opinion) \n",
    "   \n",
    "We applied this approach to the filtered text to try to understand the sentiment of the speeches across several federal chair members. We also wanted to see if different language was used in different voting actions made by the Federal Open Market Committee. Lastly, we check to see the subjectivity of each speech and if there were any patterns under a particular federal chair member."
   ]
  },
  {
   "cell_type": "code",
   "execution_count": 2,
   "id": "82b1ed0e",
   "metadata": {},
   "outputs": [
    {
     "data": {
      "text/html": [
       "<div>\n",
       "<style scoped>\n",
       "    .dataframe tbody tr th:only-of-type {\n",
       "        vertical-align: middle;\n",
       "    }\n",
       "\n",
       "    .dataframe tbody tr th {\n",
       "        vertical-align: top;\n",
       "    }\n",
       "\n",
       "    .dataframe thead th {\n",
       "        text-align: right;\n",
       "    }\n",
       "</style>\n",
       "<table border=\"1\" class=\"dataframe\">\n",
       "  <thead>\n",
       "    <tr style=\"text-align: right;\">\n",
       "      <th></th>\n",
       "      <th>event_date</th>\n",
       "      <th>fed_rate</th>\n",
       "      <th>action</th>\n",
       "      <th>rate_change</th>\n",
       "      <th>fed_chair</th>\n",
       "      <th>notes</th>\n",
       "      <th>date_diff</th>\n",
       "      <th>start_date</th>\n",
       "      <th>end_date</th>\n",
       "      <th>event_id</th>\n",
       "      <th>...</th>\n",
       "      <th>event</th>\n",
       "      <th>year</th>\n",
       "      <th>text</th>\n",
       "      <th>speech_date</th>\n",
       "      <th>text_len</th>\n",
       "      <th>location</th>\n",
       "      <th>speech_id</th>\n",
       "      <th>filter_text</th>\n",
       "      <th>filter_text_len</th>\n",
       "      <th>avg_word_length_filter</th>\n",
       "    </tr>\n",
       "  </thead>\n",
       "  <tbody>\n",
       "    <tr>\n",
       "      <th>0</th>\n",
       "      <td>1996-07-03</td>\n",
       "      <td>0.0525</td>\n",
       "      <td>no change</td>\n",
       "      <td>0.0</td>\n",
       "      <td>Alan Greenspan</td>\n",
       "      <td>- no change -</td>\n",
       "      <td>43 days</td>\n",
       "      <td>1996-05-21</td>\n",
       "      <td>1996-07-03</td>\n",
       "      <td>E84</td>\n",
       "      <td>...</td>\n",
       "      <td>At the CyberPayments '96 Conference, Dallas, T...</td>\n",
       "      <td>1996</td>\n",
       "      <td>remarks by governor edward w. kelley, jr. deve...</td>\n",
       "      <td>1996-06-18</td>\n",
       "      <td>2635</td>\n",
       "      <td>Texas</td>\n",
       "      <td>S17</td>\n",
       "      <td>remark governor edward w. kelley, jr. developm...</td>\n",
       "      <td>1536</td>\n",
       "      <td>7.205078</td>\n",
       "    </tr>\n",
       "    <tr>\n",
       "      <th>1</th>\n",
       "      <td>1996-07-03</td>\n",
       "      <td>0.0525</td>\n",
       "      <td>no change</td>\n",
       "      <td>0.0</td>\n",
       "      <td>Alan Greenspan</td>\n",
       "      <td>- no change -</td>\n",
       "      <td>43 days</td>\n",
       "      <td>1996-05-21</td>\n",
       "      <td>1996-07-03</td>\n",
       "      <td>E84</td>\n",
       "      <td>...</td>\n",
       "      <td>At the International Conference of Banking Sup...</td>\n",
       "      <td>1996</td>\n",
       "      <td>remarks by chairman alan greenspan bank superv...</td>\n",
       "      <td>1996-06-13</td>\n",
       "      <td>3164</td>\n",
       "      <td>Sweden</td>\n",
       "      <td>S18</td>\n",
       "      <td>remark bank supervision world economy internat...</td>\n",
       "      <td>1837</td>\n",
       "      <td>7.357104</td>\n",
       "    </tr>\n",
       "    <tr>\n",
       "      <th>2</th>\n",
       "      <td>1996-09-24</td>\n",
       "      <td>0.0525</td>\n",
       "      <td>no change</td>\n",
       "      <td>0.0</td>\n",
       "      <td>Alan Greenspan</td>\n",
       "      <td>- no change -</td>\n",
       "      <td>35 days</td>\n",
       "      <td>1996-08-20</td>\n",
       "      <td>1996-09-24</td>\n",
       "      <td>E86</td>\n",
       "      <td>...</td>\n",
       "      <td>At the U.S. Treasury Conference on Electronic ...</td>\n",
       "      <td>1996</td>\n",
       "      <td>remarks by chairman alan greenspan regulation ...</td>\n",
       "      <td>1996-09-19</td>\n",
       "      <td>1948</td>\n",
       "      <td>D.C.</td>\n",
       "      <td>S15</td>\n",
       "      <td>remark regulation electronic payment system u....</td>\n",
       "      <td>1132</td>\n",
       "      <td>7.118375</td>\n",
       "    </tr>\n",
       "    <tr>\n",
       "      <th>3</th>\n",
       "      <td>1996-09-24</td>\n",
       "      <td>0.0525</td>\n",
       "      <td>no change</td>\n",
       "      <td>0.0</td>\n",
       "      <td>Alan Greenspan</td>\n",
       "      <td>- no change -</td>\n",
       "      <td>35 days</td>\n",
       "      <td>1996-08-20</td>\n",
       "      <td>1996-09-24</td>\n",
       "      <td>E86</td>\n",
       "      <td>...</td>\n",
       "      <td>At the National Association of Business Econom...</td>\n",
       "      <td>1996</td>\n",
       "      <td>monetary policy objectives and strategy  i wan...</td>\n",
       "      <td>1996-09-08</td>\n",
       "      <td>2633</td>\n",
       "      <td>Massachusetts</td>\n",
       "      <td>S16</td>\n",
       "      <td>monetary policy objective strategy want share ...</td>\n",
       "      <td>1441</td>\n",
       "      <td>6.927828</td>\n",
       "    </tr>\n",
       "    <tr>\n",
       "      <th>4</th>\n",
       "      <td>1996-11-13</td>\n",
       "      <td>0.0525</td>\n",
       "      <td>no change</td>\n",
       "      <td>0.0</td>\n",
       "      <td>Alan Greenspan</td>\n",
       "      <td>- no change -</td>\n",
       "      <td>50 days</td>\n",
       "      <td>1996-09-24</td>\n",
       "      <td>1996-11-13</td>\n",
       "      <td>E87</td>\n",
       "      <td>...</td>\n",
       "      <td>At the BAI Money Transfer '96 Conference, New ...</td>\n",
       "      <td>1996</td>\n",
       "      <td>the future of electronic payments     i am del...</td>\n",
       "      <td>1996-10-31</td>\n",
       "      <td>2449</td>\n",
       "      <td>New York</td>\n",
       "      <td>S7</td>\n",
       "      <td>future electronic payment delighted morning di...</td>\n",
       "      <td>1423</td>\n",
       "      <td>6.907238</td>\n",
       "    </tr>\n",
       "  </tbody>\n",
       "</table>\n",
       "<p>5 rows × 23 columns</p>\n",
       "</div>"
      ],
      "text/plain": [
       "   event_date  fed_rate     action  rate_change       fed_chair  \\\n",
       "0  1996-07-03    0.0525  no change          0.0  Alan Greenspan   \n",
       "1  1996-07-03    0.0525  no change          0.0  Alan Greenspan   \n",
       "2  1996-09-24    0.0525  no change          0.0  Alan Greenspan   \n",
       "3  1996-09-24    0.0525  no change          0.0  Alan Greenspan   \n",
       "4  1996-11-13    0.0525  no change          0.0  Alan Greenspan   \n",
       "\n",
       "           notes date_diff  start_date    end_date event_id  ...  \\\n",
       "0  - no change -   43 days  1996-05-21  1996-07-03      E84  ...   \n",
       "1  - no change -   43 days  1996-05-21  1996-07-03      E84  ...   \n",
       "2  - no change -   35 days  1996-08-20  1996-09-24      E86  ...   \n",
       "3  - no change -   35 days  1996-08-20  1996-09-24      E86  ...   \n",
       "4  - no change -   50 days  1996-09-24  1996-11-13      E87  ...   \n",
       "\n",
       "                                               event  year  \\\n",
       "0  At the CyberPayments '96 Conference, Dallas, T...  1996   \n",
       "1  At the International Conference of Banking Sup...  1996   \n",
       "2  At the U.S. Treasury Conference on Electronic ...  1996   \n",
       "3  At the National Association of Business Econom...  1996   \n",
       "4  At the BAI Money Transfer '96 Conference, New ...  1996   \n",
       "\n",
       "                                                text speech_date  text_len  \\\n",
       "0  remarks by governor edward w. kelley, jr. deve...  1996-06-18      2635   \n",
       "1  remarks by chairman alan greenspan bank superv...  1996-06-13      3164   \n",
       "2  remarks by chairman alan greenspan regulation ...  1996-09-19      1948   \n",
       "3  monetary policy objectives and strategy  i wan...  1996-09-08      2633   \n",
       "4  the future of electronic payments     i am del...  1996-10-31      2449   \n",
       "\n",
       "        location speech_id                                        filter_text  \\\n",
       "0          Texas       S17  remark governor edward w. kelley, jr. developm...   \n",
       "1         Sweden       S18  remark bank supervision world economy internat...   \n",
       "2           D.C.       S15  remark regulation electronic payment system u....   \n",
       "3  Massachusetts       S16  monetary policy objective strategy want share ...   \n",
       "4       New York        S7  future electronic payment delighted morning di...   \n",
       "\n",
       "  filter_text_len avg_word_length_filter  \n",
       "0            1536               7.205078  \n",
       "1            1837               7.357104  \n",
       "2            1132               7.118375  \n",
       "3            1441               6.927828  \n",
       "4            1423               6.907238  \n",
       "\n",
       "[5 rows x 23 columns]"
      ]
     },
     "execution_count": 2,
     "metadata": {},
     "output_type": "execute_result"
    }
   ],
   "source": [
    "sentiment_df = pd.read_csv('C:\\\\Users\\\\ericl\\\\OneDrive\\\\Documents\\\\CUNY MS in Data Science\\\\Semester2\\\\DATA620\\\\Assignments_and_Projects\\\\Final Project\\\\df_merge.csv')\n",
    "sentiment_df.head()"
   ]
  },
  {
   "cell_type": "code",
   "execution_count": 3,
   "id": "5a063267",
   "metadata": {},
   "outputs": [],
   "source": [
    "def remove_punctuation(text):\n",
    "# Removes all special characters and numericals leaving the alphabets\n",
    "    text = re.sub('[^A-Za-z]+', '', text)\n",
    "    return text"
   ]
  },
  {
   "cell_type": "code",
   "execution_count": 4,
   "id": "b3f9beb3",
   "metadata": {},
   "outputs": [],
   "source": [
    "sentiment_df['text_clean'] = sentiment_df['text'].apply(remove_punctuation)"
   ]
  },
  {
   "cell_type": "code",
   "execution_count": 7,
   "id": "3dfdb576",
   "metadata": {},
   "outputs": [],
   "source": [
    "from textblob import TextBlob\n",
    "# function to calculate subjectivity\n",
    "def getSubjectivity(speech):\n",
    "    return TextBlob(speech).sentiment.subjectivity\n",
    "    # function to calculate polarity\n",
    "def getPolarity(speech):\n",
    "    return TextBlob(speech).sentiment.polarity\n",
    "\n",
    "# function to analyze the reviews\n",
    "def analysis_polarity(score):\n",
    "    if score < -0.05:\n",
    "        return 'Negative'\n",
    "    if score > 0.05:\n",
    "        return 'Positive'\n",
    "    elif score >= -0.05 and score <= 0.05 :\n",
    "        return 'Neutral'\n",
    "    \n",
    "def analysis_subjectivity(score):\n",
    "    if score < 0.4:\n",
    "        return 'Objective'\n",
    "    if score > 0.6:\n",
    "        return 'Subjective'\n",
    "    else:\n",
    "        return 'Balanced'"
   ]
  },
  {
   "cell_type": "code",
   "execution_count": 9,
   "id": "c369471d",
   "metadata": {},
   "outputs": [
    {
     "data": {
      "text/html": [
       "<div>\n",
       "<style scoped>\n",
       "    .dataframe tbody tr th:only-of-type {\n",
       "        vertical-align: middle;\n",
       "    }\n",
       "\n",
       "    .dataframe tbody tr th {\n",
       "        vertical-align: top;\n",
       "    }\n",
       "\n",
       "    .dataframe thead th {\n",
       "        text-align: right;\n",
       "    }\n",
       "</style>\n",
       "<table border=\"1\" class=\"dataframe\">\n",
       "  <thead>\n",
       "    <tr style=\"text-align: right;\">\n",
       "      <th></th>\n",
       "      <th>text</th>\n",
       "      <th>filter_text</th>\n",
       "      <th>Polarity</th>\n",
       "      <th>Subjectivity</th>\n",
       "      <th>AnalysisPol</th>\n",
       "      <th>AnalysisSub</th>\n",
       "    </tr>\n",
       "  </thead>\n",
       "  <tbody>\n",
       "    <tr>\n",
       "      <th>0</th>\n",
       "      <td>remarks by governor edward w. kelley, jr. deve...</td>\n",
       "      <td>remark governor edward w. kelley, jr. developm...</td>\n",
       "      <td>0.123308</td>\n",
       "      <td>0.444044</td>\n",
       "      <td>Positive</td>\n",
       "      <td>Balanced</td>\n",
       "    </tr>\n",
       "    <tr>\n",
       "      <th>1</th>\n",
       "      <td>remarks by chairman alan greenspan bank superv...</td>\n",
       "      <td>remark bank supervision world economy internat...</td>\n",
       "      <td>0.115051</td>\n",
       "      <td>0.445730</td>\n",
       "      <td>Positive</td>\n",
       "      <td>Balanced</td>\n",
       "    </tr>\n",
       "    <tr>\n",
       "      <th>2</th>\n",
       "      <td>remarks by chairman alan greenspan regulation ...</td>\n",
       "      <td>remark regulation electronic payment system u....</td>\n",
       "      <td>0.127887</td>\n",
       "      <td>0.490485</td>\n",
       "      <td>Positive</td>\n",
       "      <td>Balanced</td>\n",
       "    </tr>\n",
       "    <tr>\n",
       "      <th>3</th>\n",
       "      <td>monetary policy objectives and strategy  i wan...</td>\n",
       "      <td>monetary policy objective strategy want share ...</td>\n",
       "      <td>0.094618</td>\n",
       "      <td>0.377058</td>\n",
       "      <td>Positive</td>\n",
       "      <td>Objective</td>\n",
       "    </tr>\n",
       "    <tr>\n",
       "      <th>4</th>\n",
       "      <td>the future of electronic payments     i am del...</td>\n",
       "      <td>future electronic payment delighted morning di...</td>\n",
       "      <td>0.086364</td>\n",
       "      <td>0.397455</td>\n",
       "      <td>Positive</td>\n",
       "      <td>Objective</td>\n",
       "    </tr>\n",
       "  </tbody>\n",
       "</table>\n",
       "</div>"
      ],
      "text/plain": [
       "                                                text  \\\n",
       "0  remarks by governor edward w. kelley, jr. deve...   \n",
       "1  remarks by chairman alan greenspan bank superv...   \n",
       "2  remarks by chairman alan greenspan regulation ...   \n",
       "3  monetary policy objectives and strategy  i wan...   \n",
       "4  the future of electronic payments     i am del...   \n",
       "\n",
       "                                         filter_text  Polarity  Subjectivity  \\\n",
       "0  remark governor edward w. kelley, jr. developm...  0.123308      0.444044   \n",
       "1  remark bank supervision world economy internat...  0.115051      0.445730   \n",
       "2  remark regulation electronic payment system u....  0.127887      0.490485   \n",
       "3  monetary policy objective strategy want share ...  0.094618      0.377058   \n",
       "4  future electronic payment delighted morning di...  0.086364      0.397455   \n",
       "\n",
       "  AnalysisPol AnalysisSub  \n",
       "0    Positive    Balanced  \n",
       "1    Positive    Balanced  \n",
       "2    Positive    Balanced  \n",
       "3    Positive   Objective  \n",
       "4    Positive   Objective  "
      ]
     },
     "execution_count": 9,
     "metadata": {},
     "output_type": "execute_result"
    }
   ],
   "source": [
    "fin_data = pd.DataFrame(sentiment_df[['text', 'filter_text']])\n",
    "\n",
    "# fin_data['Subjectivity'] = fin_data['Lemma'].apply(getSubjectivity) \n",
    "fin_data['Polarity'] = fin_data['filter_text'].apply(getPolarity) \n",
    "fin_data['Subjectivity'] = fin_data['filter_text'].apply(getSubjectivity) \n",
    "fin_data['AnalysisPol'] = fin_data['Polarity'].apply(analysis_polarity)\n",
    "fin_data['AnalysisSub'] = fin_data['Subjectivity'].apply(analysis_subjectivity)\n",
    "fin_data.head()"
   ]
  },
  {
   "cell_type": "markdown",
   "id": "86c16e22",
   "metadata": {},
   "source": [
    "#### Polarity and Subjectivity Counts\n",
    "\n",
    "The following thresholds were create to determine polarity and subjectivity labels:\n",
    "* Polarity\n",
    "    - Positive: score > 0.05\n",
    "    - Negative: score < -0.05\n",
    "    - Neutral: score is between -0.05 and 0.05\n",
    "* Subjectivity\n",
    "    - Objective: score < 0.4\n",
    "    - Subjective: score > 0.6\n",
    "    - Balanced: score is between 0.4 and 0.6\n",
    "    \n",
    "We found that most of the sentiment was positive (94.3 %). And only 1 speech had an overall negative tone. \n",
    "\n",
    "The subjectiveness of the speeches was also fairly skewed as there were only 2 subjective speeches out of the 1466 speeches in the dataset. Most were balanced, incorporating both opinion and factual information."
   ]
  },
  {
   "cell_type": "code",
   "execution_count": 15,
   "id": "068140a7",
   "metadata": {},
   "outputs": [
    {
     "data": {
      "text/plain": [
       "Positive    1366\n",
       "Neutral       80\n",
       "Negative       1\n",
       "Name: AnalysisPol, dtype: int64"
      ]
     },
     "execution_count": 15,
     "metadata": {},
     "output_type": "execute_result"
    }
   ],
   "source": [
    "pol_counts = fin_data.AnalysisPol.value_counts()\n",
    "\n",
    "pol_counts"
   ]
  },
  {
   "cell_type": "code",
   "execution_count": 16,
   "id": "fb9db805",
   "metadata": {},
   "outputs": [
    {
     "data": {
      "text/plain": [
       "Balanced      753\n",
       "Objective     692\n",
       "Subjective      2\n",
       "Name: AnalysisSub, dtype: int64"
      ]
     },
     "execution_count": 16,
     "metadata": {},
     "output_type": "execute_result"
    }
   ],
   "source": [
    "sub_counts = fin_data.AnalysisSub.value_counts()\n",
    "\n",
    "sub_counts"
   ]
  },
  {
   "cell_type": "markdown",
   "id": "dc39563f",
   "metadata": {},
   "source": [
    "### Visualizations "
   ]
  },
  {
   "cell_type": "code",
   "execution_count": 17,
   "id": "8ce39d5c",
   "metadata": {},
   "outputs": [],
   "source": [
    "sentiment_df1 = sentiment_df.merge(fin_data, how='inner')"
   ]
  },
  {
   "cell_type": "markdown",
   "id": "9dcfe997",
   "metadata": {},
   "source": [
    "#### Data Distributions\n",
    "\n",
    "The polarity score distribution apears to be near normal with a mean around 0.1, indicating that most of the speeches are positive in sentiment."
   ]
  },
  {
   "cell_type": "code",
   "execution_count": 29,
   "id": "7a51bdee",
   "metadata": {},
   "outputs": [
    {
     "data": {
      "image/png": "[encoded data removed]",
      "text/plain": [
       "<Figure size 360x360 with 1 Axes>"
      ]
     },
     "metadata": {},
     "output_type": "display_data"
    }
   ],
   "source": [
    "sns.set(rc = {'figure.figsize':(12,8)})\n",
    "\n",
    "sns.displot(data=sentiment_df1, x='Polarity', kind=\"kde\")\n",
    "plt.title('Polarity Distribution')\n",
    "plt.show()"
   ]
  },
  {
   "cell_type": "markdown",
   "id": "16563486",
   "metadata": {},
   "source": [
    "The subjectivity score distribution also appears to be near normal with a mean close to 0.4, showing that most data values are both Balanced and Objective."
   ]
  },
  {
   "cell_type": "code",
   "execution_count": 30,
   "id": "b9c91a1a",
   "metadata": {},
   "outputs": [
    {
     "data": {
      "image/png": "[encoded data removed]",
      "text/plain": [
       "<Figure size 360x360 with 1 Axes>"
      ]
     },
     "metadata": {},
     "output_type": "display_data"
    }
   ],
   "source": [
    "sns.displot(data=sentiment_df1, x='Subjectivity', kind=\"kde\")\n",
    "plt.title('Subjectivity Distribution')\n",
    "plt.show()"
   ]
  },
  {
   "cell_type": "markdown",
   "id": "89115f85",
   "metadata": {},
   "source": [
    "#### Polarity\n",
    "\n",
    "#### Polarity vs. Voting Action\n",
    "\n",
    "We found that polarity score is about equal across all the group in `action`. Though it should be noted that 'increase' and 'no change' have a fair amount of variablity."
   ]
  },
  {
   "cell_type": "code",
   "execution_count": 31,
   "id": "e479ce44",
   "metadata": {},
   "outputs": [
    {
     "data": {
      "text/plain": [
       "<AxesSubplot:xlabel='action', ylabel='Polarity'>"
      ]
     },
     "execution_count": 31,
     "metadata": {},
     "output_type": "execute_result"
    },
    {
     "data": {
      "image/png": "[encoded data removed]",
      "text/plain": [
       "<Figure size 864x576 with 1 Axes>"
      ]
     },
     "metadata": {},
     "output_type": "display_data"
    }
   ],
   "source": [
    "sns.boxplot(x=\"action\", y=\"Polarity\", data=sentiment_df1)"
   ]
  },
  {
   "cell_type": "code",
   "execution_count": 32,
   "id": "c00f87a5",
   "metadata": {},
   "outputs": [
    {
     "data": {
      "text/plain": [
       "action\n",
       "decrease     0.098589\n",
       "increase     0.102266\n",
       "no change    0.096899\n",
       "Name: Polarity, dtype: float64"
      ]
     },
     "execution_count": 32,
     "metadata": {},
     "output_type": "execute_result"
    }
   ],
   "source": [
    "sentiment_df1.groupby('action')['Polarity'].mean()"
   ]
  },
  {
   "cell_type": "markdown",
   "id": "ec569e0b",
   "metadata": {},
   "source": [
    "#### Polarity vs. Federal Chair Member\n",
    "\n",
    "The speeches under the federal chairs' sentiment score is displayed below. Alan Greenspan and Ben Bernanke display similar sentiment scores throughout their terms. Janet Yellen has a tightest spread of sentiment score compared to her counterparts. Jerome Powell has the highest general sentiment score across all speeches."
   ]
  },
  {
   "cell_type": "code",
   "execution_count": 33,
   "id": "167b651b",
   "metadata": {},
   "outputs": [
    {
     "data": {
      "text/plain": [
       "fed_chair\n",
       "Alan Greenspan    0.097449\n",
       "Ben Bernanke      0.096672\n",
       "Janet Yellen      0.093155\n",
       "Jerome Powell     0.112795\n",
       "Name: Polarity, dtype: float64"
      ]
     },
     "execution_count": 33,
     "metadata": {},
     "output_type": "execute_result"
    }
   ],
   "source": [
    "sentiment_df1.groupby('fed_chair')['Polarity'].mean()"
   ]
  },
  {
   "cell_type": "code",
   "execution_count": 34,
   "id": "27a787c0",
   "metadata": {},
   "outputs": [
    {
     "data": {
      "text/plain": [
       "<AxesSubplot:xlabel='fed_chair', ylabel='Polarity'>"
      ]
     },
     "execution_count": 34,
     "metadata": {},
     "output_type": "execute_result"
    },
    {
     "data": {
      "image/png": "[encoded data removed]",
      "text/plain": [
       "<Figure size 864x576 with 1 Axes>"
      ]
     },
     "metadata": {},
     "output_type": "display_data"
    }
   ],
   "source": [
    "sns.boxplot(x=\"fed_chair\", y=\"Polarity\", data=sentiment_df1)"
   ]
  },
  {
   "cell_type": "markdown",
   "id": "477869b3",
   "metadata": {},
   "source": [
    "#### Subjectivity\n",
    "\n",
    "#### Subjectivity vs.  Voting Action\n",
    "\n",
    "The subjectivity score appears to be equal across the voting decision actions. Interestingly the `action`, 'decrease', contributed to 100% of the subjective speeches. "
   ]
  },
  {
   "cell_type": "code",
   "execution_count": 35,
   "id": "2a041197",
   "metadata": {},
   "outputs": [
    {
     "data": {
      "text/plain": [
       "<AxesSubplot:xlabel='action', ylabel='Subjectivity'>"
      ]
     },
     "execution_count": 35,
     "metadata": {},
     "output_type": "execute_result"
    },
    {
     "data": {
      "image/png": "[encoded data removed]",
      "text/plain": [
       "<Figure size 864x576 with 1 Axes>"
      ]
     },
     "metadata": {},
     "output_type": "display_data"
    }
   ],
   "source": [
    "sns.boxplot(x=\"action\", y=\"Subjectivity\", data=sentiment_df1)"
   ]
  },
  {
   "cell_type": "code",
   "execution_count": 36,
   "id": "20772742",
   "metadata": {},
   "outputs": [
    {
     "data": {
      "text/plain": [
       "action\n",
       "decrease     0.404198\n",
       "increase     0.408159\n",
       "no change    0.400725\n",
       "Name: Subjectivity, dtype: float64"
      ]
     },
     "execution_count": 36,
     "metadata": {},
     "output_type": "execute_result"
    }
   ],
   "source": [
    "sentiment_df1.groupby('action')['Subjectivity'].mean()"
   ]
  },
  {
   "cell_type": "markdown",
   "id": "61180ed8",
   "metadata": {},
   "source": [
    "#### Subjectivity vs. Federal Chair Member\n",
    "\n",
    "The federal chair members' subjectivity score appears to be slightly different between the chair members. Alan Greenspan had the most subjective speeches, followed by Ben Bernanke, then Janet Yellen, and finally Jerme Powell with the most objective speeches. Greenspan also had the only two extremely subjective speeches.  "
   ]
  },
  {
   "cell_type": "code",
   "execution_count": 37,
   "id": "49fded74",
   "metadata": {},
   "outputs": [
    {
     "data": {
      "text/plain": [
       "<AxesSubplot:xlabel='fed_chair', ylabel='Subjectivity'>"
      ]
     },
     "execution_count": 37,
     "metadata": {},
     "output_type": "execute_result"
    },
    {
     "data": {
      "image/png": "[encoded data removed]",
      "text/plain": [
       "<Figure size 864x576 with 1 Axes>"
      ]
     },
     "metadata": {},
     "output_type": "display_data"
    }
   ],
   "source": [
    "sns.boxplot(x=\"fed_chair\", y=\"Subjectivity\", data=sentiment_df1)"
   ]
  },
  {
   "cell_type": "code",
   "execution_count": 38,
   "id": "578dab42",
   "metadata": {},
   "outputs": [
    {
     "data": {
      "text/plain": [
       "fed_chair\n",
       "Alan Greenspan    0.408625\n",
       "Ben Bernanke      0.399342\n",
       "Janet Yellen      0.398146\n",
       "Jerome Powell     0.393967\n",
       "Name: Subjectivity, dtype: float64"
      ]
     },
     "execution_count": 38,
     "metadata": {},
     "output_type": "execute_result"
    }
   ],
   "source": [
    "sentiment_df1.groupby('fed_chair')['Subjectivity'].mean()"
   ]
  },
  {
   "cell_type": "code",
   "execution_count": null,
   "id": "d58a481a",
   "metadata": {},
   "outputs": [],
   "source": []
  },
  {
   "cell_type": "code",
   "execution_count": null,
   "id": "5e0b839f",
   "metadata": {},
   "outputs": [],
   "source": []
  },
  {
   "cell_type": "code",
   "execution_count": null,
   "id": "9c35961b",
   "metadata": {},
   "outputs": [],
   "source": []
  },
  {
   "cell_type": "code",
   "execution_count": 15,
   "id": "7004a351",
   "metadata": {},
   "outputs": [
    {
     "name": "stderr",
     "output_type": "stream",
     "text": [
      "[nltk_data] Downloading package vader_lexicon to\n",
      "[nltk_data]     C:\\Users\\ericl\\AppData\\Roaming\\nltk_data...\n",
      "[nltk_data]   Package vader_lexicon is already up-to-date!\n"
     ]
    },
    {
     "data": {
      "text/html": [
       "<div>\n",
       "<style scoped>\n",
       "    .dataframe tbody tr th:only-of-type {\n",
       "        vertical-align: middle;\n",
       "    }\n",
       "\n",
       "    .dataframe tbody tr th {\n",
       "        vertical-align: top;\n",
       "    }\n",
       "\n",
       "    .dataframe thead th {\n",
       "        text-align: right;\n",
       "    }\n",
       "</style>\n",
       "<table border=\"1\" class=\"dataframe\">\n",
       "  <thead>\n",
       "    <tr style=\"text-align: right;\">\n",
       "      <th></th>\n",
       "      <th>text</th>\n",
       "      <th>filter_text</th>\n",
       "      <th>VaderSentiment</th>\n",
       "      <th>VaderAnalysis</th>\n",
       "    </tr>\n",
       "  </thead>\n",
       "  <tbody>\n",
       "    <tr>\n",
       "      <th>0</th>\n",
       "      <td>remarks by governor edward w. kelley, jr. deve...</td>\n",
       "      <td>remark governor edward w. kelley, jr. developm...</td>\n",
       "      <td>0.9997</td>\n",
       "      <td>Positive</td>\n",
       "    </tr>\n",
       "    <tr>\n",
       "      <th>1</th>\n",
       "      <td>remarks by chairman alan greenspan bank superv...</td>\n",
       "      <td>remark bank supervision world economy internat...</td>\n",
       "      <td>0.9995</td>\n",
       "      <td>Positive</td>\n",
       "    </tr>\n",
       "    <tr>\n",
       "      <th>2</th>\n",
       "      <td>remarks by chairman alan greenspan regulation ...</td>\n",
       "      <td>remark regulation electronic payment system u....</td>\n",
       "      <td>0.9993</td>\n",
       "      <td>Positive</td>\n",
       "    </tr>\n",
       "    <tr>\n",
       "      <th>3</th>\n",
       "      <td>monetary policy objectives and strategy  i wan...</td>\n",
       "      <td>monetary policy objective strategy want share ...</td>\n",
       "      <td>0.9980</td>\n",
       "      <td>Positive</td>\n",
       "    </tr>\n",
       "    <tr>\n",
       "      <th>4</th>\n",
       "      <td>the future of electronic payments     i am del...</td>\n",
       "      <td>future electronic payment delighted morning di...</td>\n",
       "      <td>0.9995</td>\n",
       "      <td>Positive</td>\n",
       "    </tr>\n",
       "  </tbody>\n",
       "</table>\n",
       "</div>"
      ],
      "text/plain": [
       "                                                text  \\\n",
       "0  remarks by governor edward w. kelley, jr. deve...   \n",
       "1  remarks by chairman alan greenspan bank superv...   \n",
       "2  remarks by chairman alan greenspan regulation ...   \n",
       "3  monetary policy objectives and strategy  i wan...   \n",
       "4  the future of electronic payments     i am del...   \n",
       "\n",
       "                                         filter_text  VaderSentiment  \\\n",
       "0  remark governor edward w. kelley, jr. developm...          0.9997   \n",
       "1  remark bank supervision world economy internat...          0.9995   \n",
       "2  remark regulation electronic payment system u....          0.9993   \n",
       "3  monetary policy objective strategy want share ...          0.9980   \n",
       "4  future electronic payment delighted morning di...          0.9995   \n",
       "\n",
       "  VaderAnalysis  \n",
       "0      Positive  \n",
       "1      Positive  \n",
       "2      Positive  \n",
       "3      Positive  \n",
       "4      Positive  "
      ]
     },
     "execution_count": 15,
     "metadata": {},
     "output_type": "execute_result"
    }
   ],
   "source": [
    "from vaderSentiment.vaderSentiment import SentimentIntensityAnalyzer\n",
    "nltk.download(\"vader_lexicon\")\n",
    "\n",
    "fin_data = pd.DataFrame(sentiment_df[['text', 'filter_text']])\n",
    "analyzer = SentimentIntensityAnalyzer()\n",
    "# function to calculate vader sentiment\n",
    "def vadersentimentanalysis(review):\n",
    "    vs = analyzer.polarity_scores(review)\n",
    "    return vs['compound']\n",
    "fin_data['VaderSentiment'] = fin_data['filter_text'].apply(vadersentimentanalysis)\n",
    "# function to analyse\n",
    "def vader_analysis(compound):\n",
    "    if compound >= 0.5:\n",
    "        return 'Positive'\n",
    "    elif compound <= -0.5 :\n",
    "        return 'Negative'\n",
    "    else:\n",
    "        return 'Neutral'\n",
    "    \n",
    "\n",
    "fin_data['VaderAnalysis'] = fin_data['VaderSentiment'].apply(vader_analysis)\n",
    "fin_data.head()"
   ]
  },
  {
   "cell_type": "code",
   "execution_count": 16,
   "id": "f7df8cdb",
   "metadata": {},
   "outputs": [
    {
     "data": {
      "text/plain": [
       "Positive    1382\n",
       "Negative      60\n",
       "Neutral        5\n",
       "Name: VaderAnalysis, dtype: int64"
      ]
     },
     "execution_count": 16,
     "metadata": {},
     "output_type": "execute_result"
    }
   ],
   "source": [
    "vader_counts = fin_data['VaderAnalysis'].value_counts()\n",
    "vader_counts"
   ]
  },
  {
   "cell_type": "code",
   "execution_count": 17,
   "id": "b114acf1",
   "metadata": {},
   "outputs": [],
   "source": [
    "sentiment_df = sentiment_df.merge(fin_data, how='inner')"
   ]
  },
  {
   "cell_type": "code",
   "execution_count": 18,
   "id": "4a7eab4e",
   "metadata": {},
   "outputs": [],
   "source": [
    "greenspan_sentiment = sentiment_df[sentiment_df['fed_chair'] == 'Alan Greenspan']\n",
    "ben_sentiment = sentiment_df[sentiment_df['fed_chair'] == 'Ben Bernanke']\n",
    "yellen_sentiment = sentiment_df[sentiment_df['fed_chair'] == 'Janet Yellen']\n",
    "powell_sentiment = sentiment_df[sentiment_df['fed_chair'] == 'Jerome Powell']"
   ]
  },
  {
   "cell_type": "code",
   "execution_count": 19,
   "id": "59483f53",
   "metadata": {},
   "outputs": [
    {
     "data": {
      "image/png": "[encoded data removed]",
      "text/plain": [
       "<Figure size 444.425x360 with 1 Axes>"
      ]
     },
     "metadata": {},
     "output_type": "display_data"
    }
   ],
   "source": [
    "import matplotlib.pyplot as plt\n",
    "import seaborn as sns\n",
    "\n",
    "sns.set(rc = {'figure.figsize':(12,8)})\n",
    "fig = (sentiment_df\n",
    ".groupby('fed_chair')['VaderAnalysis']\n",
    ".value_counts(normalize=True)\n",
    ".mul(100)\n",
    ".rename('percent')\n",
    ".reset_index()\n",
    ".pipe((sns.catplot,'data'), x='fed_chair',y='percent',hue='VaderAnalysis',kind='bar'))\n",
    "\n",
    "plt.title(\"Speech Sentiment by Federal Chair Member\", fontsize=20)\n",
    "fig._legend.set_title(\"Sentiment\")\n",
    "plt.xlabel(\"Federal Chair\", fontsize=15)\n",
    "plt.ylabel(\"Percentage (%)\", fontsize=15)\n",
    "plt.show()"
   ]
  },
  {
   "cell_type": "code",
   "execution_count": 20,
   "id": "ae2b10f4",
   "metadata": {},
   "outputs": [
    {
     "data": {
      "image/png": "[encoded data removed]",
      "text/plain": [
       "<Figure size 360x360 with 1 Axes>"
      ]
     },
     "metadata": {},
     "output_type": "display_data"
    }
   ],
   "source": [
    "sns.displot(data=sentiment_df, x='VaderSentiment', kind=\"kde\")\n",
    "plt.show()"
   ]
  },
  {
   "cell_type": "code",
   "execution_count": 21,
   "id": "53996b36",
   "metadata": {},
   "outputs": [
    {
     "data": {
      "text/plain": [
       "<AxesSubplot:xlabel='action', ylabel='VaderSentiment'>"
      ]
     },
     "execution_count": 21,
     "metadata": {},
     "output_type": "execute_result"
    },
    {
     "data": {
      "image/png": "[encoded data removed]",
      "text/plain": [
       "<Figure size 864x576 with 1 Axes>"
      ]
     },
     "metadata": {},
     "output_type": "display_data"
    }
   ],
   "source": [
    "# polarity vs decision boxplot\n",
    "\n",
    "sns.boxplot(x=\"action\", y=\"VaderSentiment\", data=sentiment_df)"
   ]
  },
  {
   "cell_type": "code",
   "execution_count": 25,
   "id": "16837163",
   "metadata": {},
   "outputs": [
    {
     "data": {
      "text/plain": [
       "fed_chair\n",
       "Alan Greenspan    0.917838\n",
       "Ben Bernanke      0.904435\n",
       "Janet Yellen      0.909794\n",
       "Jerome Powell     0.868940\n",
       "Name: VaderSentiment, dtype: float64"
      ]
     },
     "execution_count": 25,
     "metadata": {},
     "output_type": "execute_result"
    }
   ],
   "source": [
    "sentiment_df.groupby('fed_chair')['VaderSentiment'].mean()"
   ]
  },
  {
   "cell_type": "code",
   "execution_count": 26,
   "id": "f39b2d1f",
   "metadata": {},
   "outputs": [
    {
     "data": {
      "text/plain": [
       "action\n",
       "decrease     0.968814\n",
       "increase     0.916279\n",
       "no change    0.890633\n",
       "Name: VaderSentiment, dtype: float64"
      ]
     },
     "execution_count": 26,
     "metadata": {},
     "output_type": "execute_result"
    }
   ],
   "source": [
    "sentiment_df.groupby('action')['VaderSentiment'].mean()"
   ]
  },
  {
   "cell_type": "code",
   "execution_count": null,
   "id": "78455bf4",
   "metadata": {},
   "outputs": [],
   "source": []
  }
 ],
 "metadata": {
  "kernelspec": {
   "display_name": "Python 3 (ipykernel)",
   "language": "python",
   "name": "python3"
  },
  "language_info": {
   "codemirror_mode": {
    "name": "ipython",
    "version": 3
   },
   "file_extension": ".py",
   "mimetype": "text/x-python",
   "name": "python",
   "nbconvert_exporter": "python",
   "pygments_lexer": "ipython3",
   "version": "3.9.7"
  }
 },
 "nbformat": 4,
 "nbformat_minor": 5
}
