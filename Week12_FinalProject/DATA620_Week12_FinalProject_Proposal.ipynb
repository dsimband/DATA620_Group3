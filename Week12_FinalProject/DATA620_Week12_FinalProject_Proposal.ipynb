{
 "cells": [
  {
   "cell_type": "markdown",
   "id": "6a875d80-f10b-4faa-8ba5-1b02d81bfb70",
   "metadata": {},
   "source": [
    "# DATA620: Final Project Proposal - Federal Reserve Sentiment\n",
    "\n",
    "## Homework Team 3: David Simbandumwe, Eric Lehmphul and Lidiia Tronina"
   ]
  },
  {
   "cell_type": "markdown",
   "id": "0d2fedad-9faf-4d1c-8455-466d832db9d5",
   "metadata": {},
   "source": [
    "Your proposal should describe at a high level what you’re seeking to accomplish, and your motivation for performing this analysis.  A guiding question or hypothesis to test is one good way to start.  If you are going to work in a small group (encouraged!), you should also list your partners’ names. \n",
    "You should briefly describe your data sources, plan for doing the work, and up front concerns.  If you are working in a group, please describe the roles and responsibilities of each group member.\n",
    "We’ll treat this proposal as a planning document, not a blue print containing “firm, fixed requirements.”\n",
    "Your final project proposal is due on Monday 12/9. "
   ]
  },
  {
   "cell_type": "code",
   "execution_count": 213,
   "id": "65c444a0-66d7-436f-b570-2375fe45759a",
   "metadata": {},
   "outputs": [],
   "source": [
    "import sys\n",
    "\n",
    "import pandas as pd\n",
    "import numpy as np\n",
    "import matplotlib.pyplot as plt\n",
    "import matplotlib.pyplot as plt\n",
    "import plotly.express as px\n",
    "import plotly.graph_objects as go\n",
    "\n",
    "import nltk\n",
    "from nltk.corpus import stopwords\n",
    "from textblob import Word\n",
    "\n",
    "import spacy\n",
    "import spacy.cli\n",
    "from spacy.lang.en import English\n",
    "\n",
    "from textatistic import Textatistic\n"
   ]
  },
  {
   "cell_type": "markdown",
   "id": "5f18377e-e6c8-4646-9e2a-a3d31254421f",
   "metadata": {},
   "source": [
    "## Functions"
   ]
  },
  {
   "cell_type": "code",
   "execution_count": 336,
   "id": "faf703c6-9736-43c5-bc59-a7252da73928",
   "metadata": {},
   "outputs": [],
   "source": [
    "def filter_propn(s):\n",
    "    \n",
    "    stopwords = spacy.lang.en.stop_words.STOP_WORDS\n",
    "    \n",
    "    \n",
    "    # Load model and create Doc object\n",
    "    nlp = spacy.load('en_core_web_sm')\n",
    "    doc = nlp(s)\n",
    "\n",
    "    # Generate lemmatized tokens\n",
    "    lemmas = [token.lemma_ for token in doc]\n",
    "\n",
    "    # Remove stopwords and non-alphabetic tokens\n",
    "    a_lemmas = [lemma for lemma in lemmas \n",
    "                if lemma.isalpha() and lemma not in stopwords]\n",
    "\n",
    "    a_lemmas = ' '.join(a_lemmas)\n",
    "    doc_lemmas = nlp(a_lemmas)\n",
    "\n",
    "    # Generate list of tokens and pos tags\n",
    "    pos = [(token.text, token.pos_) for token in doc_lemmas]\n",
    "    \n",
    "    l = list(zip(*pos))[0]\n",
    "    l = sorted(set(l))\n",
    "    \n",
    "    return ' '.join(l)\n",
    "\n",
    "\n",
    "def get_city_name(n):\n",
    "    nlp = spacy.load('en_core_web_sm')\n",
    "\n",
    "    doc = nlp(n)\n",
    "    places = [str(ent) for ent in doc.ents if ent.label_ in ['GPE', 'LOC']]\n",
    "\n",
    "    return ' '.join(places)\n",
    "   \n",
    "\n",
    "\n"
   ]
  },
  {
   "cell_type": "markdown",
   "id": "9c4a3c79-2027-4f81-8d79-6a79b656c749",
   "metadata": {},
   "source": [
    "## Introduction\n",
    "\n",
    "During the Alan Greenspan era the communications from the Federal Reserve were intentinally opaque. \n",
    "\n",
    "Ben Bernanke\n",
    "Janet Yellen\n",
    "Jerome Powell\n",
    "\n",
    "How consistent is the messaging leading up to a decision by Federal Reserve Open Market Committee (FOMC)? We will analyze the speeches from Federal Reserve Chairman to determine if the communication leading up to decision by the FOMC provides visibility into decision. \n"
   ]
  },
  {
   "cell_type": "markdown",
   "id": "a3601908-2dc0-4d40-903a-a06b5b29b580",
   "metadata": {
    "tags": []
   },
   "source": [
    "\n",
    "#### Federal Reserve System\n",
    "\n",
    "Federal Reserve Act, created The Federal Reserve System on December 23, 1913. The Federal Reserve acts as the central banking system of the United States of America. The Federal Reserve's system has 3 primary components \n",
    "- 12 Federal Reserve Banks \n",
    "- Federal Reserve Board of Governors\n",
    "- Federal Open Market Committee\n",
    "\n",
    "This a unique structure among central banks in that it includes both public and private characteristics. \n",
    "\n",
    "The Fed has many key functions however its activities can be categorized by the Dual Mandate setup by the Congress in the Federal Reserve Act. \n",
    "- maximum employment\n",
    "- stable prices\n",
    "he dual mandate is the long-run goal for monetary policy, and the Congress also established the Federal Reserve as an independent agency to help ensure that this monetary policy goal can be achieved.\n",
    "\n",
    "To support these objectives the federal reserve employs monetary policy through 3 primary mechanisms\n",
    "- open market operations\n",
    "- the discount rate\n",
    "- reserve requirements\n",
    "\n",
    "\n",
    "The Fed has evolved from days of Alen Greenspan when being opaque was a primary focus. How well does the Fed achieve these goals\n",
    "\n",
    "For this analysis we will focus on the Feds Open Market Operations as carried out by the Federal Open Market Committee and the official communications by FOMC members leading up to official FOMC meetings. At each FOMC meeting the members of the committee will reach consensus on the appropriate monitory policy course. This consensus takes the form a formal communication and directive to the Federal Reserve Bank of New York to execute the transactions on behalf of the Federal Reserve System. \n"
   ]
  },
  {
   "cell_type": "markdown",
   "id": "03483576-7b6d-4d21-ae25-53f6099d36c8",
   "metadata": {},
   "source": [
    "## Hypothesis\n",
    "We can categorize the periods between FOMC meeting by their outcome. In each meeting the interest rate target will either be increased, decreased or remain the same. For each type of FOMC meeting outcome we would like to understand if the communication by the representatives of the Fed is consistent. \n",
    "\n",
    "- H0 - Communications by Federal Reserve Board Governs do not telegraph the outcome of the upcoming FOMC Meeting. There is no decipherable difference in speeches by FOMC members during periods of increase, decreasing or stable interest rates. \n",
    "\n",
    "- H1 - Federal Reserve Board Governs will telegraph the outcome of the upcoming FOMC Meeting through their communications. The speeches by FOMC members differ during periods of increase, decreasing or stable interest rates.  "
   ]
  },
  {
   "cell_type": "markdown",
   "id": "8337933d-8674-47df-bee5-b7194db9faad",
   "metadata": {},
   "source": [
    "## Data Source\n",
    "There are several sources of prepossessed data from the fed however it might be necessary to augment these data set to get the latest\n",
    "\n",
    "1. Aggregate FOMC Decisions - the outcome of each FOMC meeting is captured in a broader write-up however the decision can be distilled into meeting date, meeting location, decision to increase, decrease or leave interested unchanged, and a magnitude of the change, and the new target range for interest rates\n",
    "2. Aggregate Speeches by FOMC Members - Each member of the FOMC maintains a detailed calendar of speeches that includes, location, audience, speech title, speech text.\n",
    "\n",
    "<br>\n",
    "<b>Potential Sources</b>\n",
    "\n",
    "Meeting calendars, statements, and minutes (2017-2022)\n",
    "https://www.federalreserve.gov/monetarypolicy/fomccalendars.htm\n",
    "https://www.thebalance.com/fomc-meetings-schedule-and-statement-summaries-3305975\n",
    "\n",
    "Federal Funds Effective Rate (FEDFUNDS)\n",
    "https://fred.stlouisfed.org/series/FEDFUNDS\n",
    "\n",
    "List of Governors and their terms\n",
    "https://en.wikipedia.org/wiki/Federal_Reserve_Board_of_Governors\n",
    "\n",
    "History of FOMC decisions \n",
    "https://www.federalreserve.gov/monetarypolicy/fomc.htm\n",
    "https://en.wikipedia.org/wiki/History_of_Federal_Open_Market_Committee_actions"
   ]
  },
  {
   "cell_type": "code",
   "execution_count": 214,
   "id": "131d7950-6188-4f7e-8bff-7af8d3c1bfe5",
   "metadata": {},
   "outputs": [
    {
     "data": {
      "text/html": [
       "<div>\n",
       "<style scoped>\n",
       "    .dataframe tbody tr th:only-of-type {\n",
       "        vertical-align: middle;\n",
       "    }\n",
       "\n",
       "    .dataframe tbody tr th {\n",
       "        vertical-align: top;\n",
       "    }\n",
       "\n",
       "    .dataframe thead th {\n",
       "        text-align: right;\n",
       "    }\n",
       "</style>\n",
       "<table border=\"1\" class=\"dataframe\">\n",
       "  <thead>\n",
       "    <tr style=\"text-align: right;\">\n",
       "      <th></th>\n",
       "      <th>id</th>\n",
       "      <th>event_date</th>\n",
       "      <th>fed_rate</th>\n",
       "      <th>action</th>\n",
       "      <th>rate_change</th>\n",
       "      <th>fed_chair</th>\n",
       "      <th>notes</th>\n",
       "    </tr>\n",
       "  </thead>\n",
       "  <tbody>\n",
       "    <tr>\n",
       "      <th>0</th>\n",
       "      <td>1</td>\n",
       "      <td>1987-05-19</td>\n",
       "      <td>0.0650</td>\n",
       "      <td>increase</td>\n",
       "      <td>0.0062</td>\n",
       "      <td>Paul Volcker</td>\n",
       "      <td>Continued raising rates to fight inflation</td>\n",
       "    </tr>\n",
       "    <tr>\n",
       "      <th>1</th>\n",
       "      <td>2</td>\n",
       "      <td>1987-07-07</td>\n",
       "      <td>0.0650</td>\n",
       "      <td>no change</td>\n",
       "      <td>0.0000</td>\n",
       "      <td>Alan Greenspan</td>\n",
       "      <td>- no change -</td>\n",
       "    </tr>\n",
       "    <tr>\n",
       "      <th>2</th>\n",
       "      <td>3</td>\n",
       "      <td>1987-08-18</td>\n",
       "      <td>0.0650</td>\n",
       "      <td>no change</td>\n",
       "      <td>0.0000</td>\n",
       "      <td>Alan Greenspan</td>\n",
       "      <td>- no change -</td>\n",
       "    </tr>\n",
       "    <tr>\n",
       "      <th>3</th>\n",
       "      <td>4</td>\n",
       "      <td>1987-09-22</td>\n",
       "      <td>0.0725</td>\n",
       "      <td>increase</td>\n",
       "      <td>0.0075</td>\n",
       "      <td>Alan Greenspan</td>\n",
       "      <td>No notable event</td>\n",
       "    </tr>\n",
       "    <tr>\n",
       "      <th>4</th>\n",
       "      <td>5</td>\n",
       "      <td>1987-11-04</td>\n",
       "      <td>0.0681</td>\n",
       "      <td>decrease</td>\n",
       "      <td>-0.0044</td>\n",
       "      <td>Alan Greenspan</td>\n",
       "      <td>Lowered after Black Monday stock market crash</td>\n",
       "    </tr>\n",
       "  </tbody>\n",
       "</table>\n",
       "</div>"
      ],
      "text/plain": [
       "   id event_date  fed_rate     action  rate_change       fed_chair  \\\n",
       "0   1 1987-05-19    0.0650   increase       0.0062    Paul Volcker   \n",
       "1   2 1987-07-07    0.0650  no change       0.0000  Alan Greenspan   \n",
       "2   3 1987-08-18    0.0650  no change       0.0000  Alan Greenspan   \n",
       "3   4 1987-09-22    0.0725   increase       0.0075  Alan Greenspan   \n",
       "4   5 1987-11-04    0.0681   decrease      -0.0044  Alan Greenspan   \n",
       "\n",
       "                                           notes  \n",
       "0     Continued raising rates to fight inflation  \n",
       "1                                  - no change -  \n",
       "2                                  - no change -  \n",
       "3                               No notable event  \n",
       "4  Lowered after Black Monday stock market crash  "
      ]
     },
     "execution_count": 214,
     "metadata": {},
     "output_type": "execute_result"
    }
   ],
   "source": [
    "decision_df = pd.read_csv('data/Manual_Event.csv')\n",
    "decision_df['event_date']  = pd.to_datetime(decision_df['event_date'])\n",
    "decision_df.head()"
   ]
  },
  {
   "cell_type": "code",
   "execution_count": 215,
   "id": "4e4587bb-d424-49d9-a362-580ea92d612b",
   "metadata": {},
   "outputs": [
    {
     "name": "stdout",
     "output_type": "stream",
     "text": [
      "<class 'pandas.core.frame.DataFrame'>\n",
      "RangeIndex: 302 entries, 0 to 301\n",
      "Data columns (total 7 columns):\n",
      " #   Column       Non-Null Count  Dtype         \n",
      "---  ------       --------------  -----         \n",
      " 0   id           302 non-null    int64         \n",
      " 1   event_date   302 non-null    datetime64[ns]\n",
      " 2   fed_rate     302 non-null    float64       \n",
      " 3   action       302 non-null    object        \n",
      " 4   rate_change  302 non-null    float64       \n",
      " 5   fed_chair    302 non-null    object        \n",
      " 6   notes        302 non-null    object        \n",
      "dtypes: datetime64[ns](1), float64(2), int64(1), object(3)\n",
      "memory usage: 16.6+ KB\n"
     ]
    }
   ],
   "source": [
    "decision_df.info()"
   ]
  },
  {
   "cell_type": "code",
   "execution_count": 216,
   "id": "9d38ecd4-25c8-4eb5-b32a-1e93cf4cd35b",
   "metadata": {},
   "outputs": [
    {
     "data": {
      "application/vnd.plotly.v1+json": {
       "config": {
        "plotlyServerURL": "https://plotly.com"
       },
       "data": [
        {
         "hovertemplate": "fed_chair=Paul Volcker<br>event_date=%{x}<br>fed_rate=%{y}<extra></extra>",
         "legendgroup": "Paul Volcker",
         "marker": {
          "color": "#636efa",
          "symbol": "circle"
         },
         "mode": "markers",
         "name": "Paul Volcker",
         "orientation": "v",
         "showlegend": true,
         "type": "scatter",
         "x": [
          "1987-05-19T00:00:00"
         ],
         "xaxis": "x",
         "y": [
          0.065
         ],
         "yaxis": "y"
        },
        {
         "hovertemplate": "fed_chair=Alan Greenspan<br>event_date=%{x}<br>fed_rate=%{y}<extra></extra>",
         "legendgroup": "Alan Greenspan",
         "marker": {
          "color": "#EF553B",
          "symbol": "circle"
         },
         "mode": "markers",
         "name": "Alan Greenspan",
         "orientation": "v",
         "showlegend": true,
         "type": "scatter",
         "x": [
          "1987-07-07T00:00:00",
          "1987-08-18T00:00:00",
          "1987-09-22T00:00:00",
          "1987-11-04T00:00:00",
          "1987-12-15T00:00:00",
          "1988-02-10T00:00:00",
          "1988-03-29T00:00:00",
          "1988-05-17T00:00:00",
          "1988-06-30T00:00:00",
          "1988-08-16T00:00:00",
          "1988-09-20T00:00:00",
          "1988-11-01T00:00:00",
          "1988-12-14T00:00:00",
          "1989-02-08T00:00:00",
          "1989-03-28T00:00:00",
          "1989-05-16T00:00:00",
          "1989-07-06T00:00:00",
          "1989-08-22T00:00:00",
          "1989-10-03T00:00:00",
          "1989-11-14T00:00:00",
          "1989-12-19T00:00:00",
          "1990-02-07T00:00:00",
          "1990-03-27T00:00:00",
          "1990-05-15T00:00:00",
          "1990-07-03T00:00:00",
          "1990-08-21T00:00:00",
          "1990-10-02T00:00:00",
          "1990-11-13T00:00:00",
          "1990-12-18T00:00:00",
          "1991-01-09T00:00:00",
          "1991-02-01T00:00:00",
          "1991-02-06T00:00:00",
          "1991-03-08T00:00:00",
          "1991-04-30T00:00:00",
          "1991-05-14T00:00:00",
          "1991-07-03T00:00:00",
          "1991-08-06T00:00:00",
          "1991-08-20T00:00:00",
          "1991-09-13T00:00:00",
          "1991-10-01T00:00:00",
          "1991-10-31T00:00:00",
          "1991-11-06T00:00:00",
          "1991-12-02T00:00:00",
          "1991-12-17T00:00:00",
          "1992-02-05T00:00:00",
          "1992-03-31T00:00:00",
          "1992-04-09T00:00:00",
          "1992-05-19T00:00:00",
          "1992-07-02T00:00:00",
          "1992-08-18T00:00:00",
          "1992-09-04T00:00:00",
          "1992-10-06T00:00:00",
          "1992-11-17T00:00:00",
          "1992-12-22T00:00:00",
          "1993-02-03T00:00:00",
          "1993-03-23T00:00:00",
          "1993-05-18T00:00:00",
          "1993-07-07T00:00:00",
          "1993-08-17T00:00:00",
          "1993-09-21T00:00:00",
          "1993-11-01T00:00:00",
          "1993-12-21T00:00:00",
          "1994-02-04T00:00:00",
          "1994-03-22T00:00:00",
          "1994-04-18T00:00:00",
          "1994-05-17T00:00:00",
          "1994-07-06T00:00:00",
          "1994-08-16T00:00:00",
          "1994-09-27T00:00:00",
          "1994-11-15T00:00:00",
          "1994-12-20T00:00:00",
          "1995-01-31T00:00:00",
          "1995-02-01T00:00:00",
          "1995-03-28T00:00:00",
          "1995-05-23T00:00:00",
          "1995-07-06T00:00:00",
          "1995-08-22T00:00:00",
          "1995-09-26T00:00:00",
          "1995-11-15T00:00:00",
          "1995-12-19T00:00:00",
          "1996-01-31T00:00:00",
          "1996-03-26T00:00:00",
          "1996-05-21T00:00:00",
          "1996-07-03T00:00:00",
          "1996-08-20T00:00:00",
          "1996-09-24T00:00:00",
          "1996-11-13T00:00:00",
          "1996-12-17T00:00:00",
          "1997-02-05T00:00:00",
          "1997-03-25T00:00:00",
          "1997-05-20T00:00:00",
          "1997-07-02T00:00:00",
          "1997-08-19T00:00:00",
          "1997-09-30T00:00:00",
          "1997-11-12T00:00:00",
          "1997-12-16T00:00:00",
          "1998-02-04T00:00:00",
          "1998-03-31T00:00:00",
          "1998-05-19T00:00:00",
          "1998-07-01T00:00:00",
          "1998-08-18T00:00:00",
          "1998-09-29T00:00:00",
          "1998-10-15T00:00:00",
          "1998-11-17T00:00:00",
          "1998-12-22T00:00:00",
          "1999-02-03T00:00:00",
          "1999-03-30T00:00:00",
          "1999-05-18T00:00:00",
          "1999-06-30T00:00:00",
          "1999-08-24T00:00:00",
          "1999-10-05T00:00:00",
          "1999-11-16T00:00:00",
          "1999-12-21T00:00:00",
          "2000-02-02T00:00:00",
          "2000-03-21T00:00:00",
          "2000-05-16T00:00:00",
          "2000-06-28T00:00:00",
          "2000-08-22T00:00:00",
          "2000-10-03T00:00:00",
          "2000-11-15T00:00:00",
          "2000-12-19T00:00:00",
          "2001-01-03T00:00:00",
          "2001-01-31T00:00:00",
          "2001-03-20T00:00:00",
          "2001-04-18T00:00:00",
          "2001-05-15T00:00:00",
          "2001-06-27T00:00:00",
          "2001-08-21T00:00:00",
          "2001-09-17T00:00:00",
          "2001-10-02T00:00:00",
          "2001-11-06T00:00:00",
          "2001-12-11T00:00:00",
          "2002-01-30T00:00:00",
          "2002-03-19T00:00:00",
          "2002-05-07T00:00:00",
          "2002-06-26T00:00:00",
          "2002-08-13T00:00:00",
          "2002-09-24T00:00:00",
          "2002-11-06T00:00:00",
          "2002-12-10T00:00:00",
          "2003-03-18T00:00:00",
          "2003-03-25T00:00:00",
          "2003-05-06T00:00:00",
          "2003-06-25T00:00:00",
          "2003-06-29T00:00:00",
          "2003-08-12T00:00:00",
          "2003-09-16T00:00:00",
          "2003-10-28T00:00:00",
          "2003-12-09T00:00:00",
          "2004-01-28T00:00:00",
          "2004-03-16T00:00:00",
          "2004-05-04T00:00:00",
          "2004-06-30T00:00:00",
          "2004-08-10T00:00:00",
          "2004-09-21T00:00:00",
          "2004-11-10T00:00:00",
          "2004-12-14T00:00:00",
          "2005-02-02T00:00:00",
          "2005-03-22T00:00:00",
          "2005-05-03T00:00:00",
          "2005-06-30T00:00:00",
          "2005-08-09T00:00:00",
          "2005-09-20T00:00:00",
          "2005-11-01T00:00:00",
          "2005-12-13T00:00:00",
          "2006-01-31T00:00:00"
         ],
         "xaxis": "x",
         "y": [
          0.065,
          0.065,
          0.0725,
          0.0681,
          0.0681,
          0.0625,
          0.065,
          0.065,
          0.065,
          0.0813,
          0.0813,
          0.0813,
          0.0838,
          0.0838,
          0.0838,
          0.0838,
          0.0838,
          0.0838,
          0.0838,
          0.0838,
          0.085,
          0.085,
          0.085,
          0.085,
          0.0825,
          0.0825,
          0.0775,
          0.075,
          0.0725,
          0.0675,
          0.0625,
          0.0625,
          0.06,
          0.0575,
          0.0575,
          0.0575,
          0.055,
          0.055,
          0.0525,
          0.0525,
          0.05,
          0.0475,
          0.045,
          0.04,
          0.04,
          0.04,
          0.0375,
          0.0375,
          0.0325,
          0.0375,
          0.03,
          0.03,
          0.03,
          0.03,
          0.03,
          0.03,
          0.03,
          0.03,
          0.03,
          0.03,
          0.03,
          0.03,
          0.0325,
          0.035,
          0.0375,
          0.0425,
          0.0425,
          0.0475,
          0.0475,
          0.055,
          0.055,
          0.055,
          0.06,
          0.06,
          0.06,
          0.0575,
          0.0575,
          0.0575,
          0.0575,
          0.055,
          0.0525,
          0.0525,
          0.0525,
          0.0525,
          0.0525,
          0.0525,
          0.0525,
          0.0525,
          0.0525,
          0.055,
          0.055,
          0.055,
          0.055,
          0.055,
          0.055,
          0.055,
          0.055,
          0.055,
          0.055,
          0.055,
          0.055,
          0.0525,
          0.05,
          0.0475,
          0.0475,
          0.0475,
          0.0475,
          0.0475,
          0.05,
          0.0525,
          0.0525,
          0.055,
          0.055,
          0.0575,
          0.06,
          0.065,
          0.065,
          0.065,
          0.065,
          0.065,
          0.065,
          0.06,
          0.055,
          0.05,
          0.045,
          0.04,
          0.0375,
          0.035,
          0.03,
          0.025,
          0.02,
          0.0175,
          0.0175,
          0.0175,
          0.0175,
          0.0175,
          0.0175,
          0.0175,
          0.0125,
          0.0125,
          0.0125,
          0.0125,
          0.0125,
          0.01,
          0.01,
          0.01,
          0.01,
          0.01,
          0.01,
          0.01,
          0.01,
          0.01,
          0.0103,
          0.015,
          0.0175,
          0.02,
          0.0225,
          0.025,
          0.0275,
          0.03,
          0.0325,
          0.035,
          0.0375,
          0.04,
          0.0425,
          0.045
         ],
         "yaxis": "y"
        },
        {
         "hovertemplate": "fed_chair=Ben Bernanke<br>event_date=%{x}<br>fed_rate=%{y}<extra></extra>",
         "legendgroup": "Ben Bernanke",
         "marker": {
          "color": "#00cc96",
          "symbol": "circle"
         },
         "mode": "markers",
         "name": "Ben Bernanke",
         "orientation": "v",
         "showlegend": true,
         "type": "scatter",
         "x": [
          "2006-03-28T00:00:00",
          "2006-05-10T00:00:00",
          "2006-06-29T00:00:00",
          "2006-08-08T00:00:00",
          "2006-09-20T00:00:00",
          "2006-10-25T00:00:00",
          "2006-12-12T00:00:00",
          "2007-01-31T00:00:00",
          "2007-03-21T00:00:00",
          "2007-05-09T00:00:00",
          "2007-06-28T00:00:00",
          "2007-08-07T00:00:00",
          "2007-09-18T00:00:00",
          "2007-10-31T00:00:00",
          "2007-12-11T00:00:00",
          "2008-01-22T00:00:00",
          "2008-01-30T00:00:00",
          "2008-03-18T00:00:00",
          "2008-04-30T00:00:00",
          "2008-06-25T00:00:00",
          "2008-08-05T00:00:00",
          "2008-09-16T00:00:00",
          "2008-10-08T00:00:00",
          "2008-11-29T00:00:00",
          "2008-12-16T00:00:00",
          "2009-01-28T00:00:00",
          "2009-03-18T00:00:00",
          "2009-04-29T00:00:00",
          "2009-06-24T00:00:00",
          "2009-08-12T00:00:00",
          "2009-09-23T00:00:00",
          "2009-11-04T00:00:00",
          "2009-12-16T00:00:00",
          "2010-01-27T00:00:00",
          "2010-03-16T00:00:00",
          "2010-04-28T00:00:00",
          "2010-06-23T00:00:00",
          "2010-08-10T00:00:00",
          "2010-09-21T00:00:00",
          "2010-11-03T00:00:00",
          "2010-12-14T00:00:00",
          "2011-01-26T00:00:00",
          "2011-03-15T00:00:00",
          "2011-04-27T00:00:00",
          "2011-06-22T00:00:00",
          "2011-08-09T00:00:00",
          "2011-09-21T00:00:00",
          "2011-11-02T00:00:00",
          "2011-12-13T00:00:00",
          "2012-01-25T00:00:00",
          "2012-03-13T00:00:00",
          "2012-04-25T00:00:00",
          "2012-06-20T00:00:00",
          "2012-08-01T00:00:00",
          "2012-09-13T00:00:00",
          "2012-10-24T00:00:00",
          "2012-12-12T00:00:00",
          "2013-01-30T00:00:00",
          "2013-03-20T00:00:00",
          "2013-05-01T00:00:00",
          "2013-06-19T00:00:00",
          "2013-07-31T00:00:00",
          "2013-09-18T00:00:00",
          "2013-10-30T00:00:00",
          "2013-12-18T00:00:00",
          "2014-01-29T00:00:00",
          "2014-03-04T00:00:00",
          "2014-03-19T00:00:00",
          "2014-04-30T00:00:00",
          "2014-06-18T00:00:00",
          "2014-07-30T00:00:00",
          "2014-09-17T00:00:00",
          "2014-10-29T00:00:00",
          "2014-12-17T00:00:00",
          "2015-01-28T00:00:00",
          "2015-03-16T00:00:00",
          "2015-03-18T00:00:00",
          "2015-04-29T00:00:00",
          "2015-06-17T00:00:00",
          "2015-07-29T00:00:00",
          "2015-09-17T00:00:00",
          "2015-10-28T00:00:00"
         ],
         "xaxis": "x",
         "y": [
          0.0475,
          0.05,
          0.0525,
          0.0525,
          0.0525,
          0.0525,
          0.0525,
          0.0525,
          0.0525,
          0.0525,
          0.0525,
          0.0525,
          0.0475,
          0.045,
          0.0425,
          0.035,
          0.03,
          0.0225,
          0.02,
          0.02,
          0.02,
          0.02,
          0.015,
          0.01,
          0.0025,
          0.0025,
          0.0025,
          0.0025,
          0.0025,
          0.0025,
          0.0025,
          0.0025,
          0.0025,
          0.0025,
          0.0025,
          0.0025,
          0.0025,
          0.0025,
          0.0025,
          0.0025,
          0.0025,
          0.0025,
          0.0025,
          0.0025,
          0.0025,
          0.0025,
          0.0025,
          0.0025,
          0.0025,
          0.0025,
          0.0025,
          0.0025,
          0.0025,
          0.0025,
          0.0025,
          0.0025,
          0.0025,
          0.0025,
          0.0025,
          0.0025,
          0.0025,
          0.0025,
          0.0025,
          0.0025,
          0.0025,
          0.0025,
          0.0025,
          0.0025,
          0.0025,
          0.0025,
          0.0025,
          0.0025,
          0.0025,
          0.0025,
          0.0025,
          0.0025,
          0.0025,
          0.0025,
          0.0025,
          0.0025,
          0.0025,
          0.0025
         ],
         "yaxis": "y"
        },
        {
         "hovertemplate": "fed_chair=Janet Yellen<br>event_date=%{x}<br>fed_rate=%{y}<extra></extra>",
         "legendgroup": "Janet Yellen",
         "marker": {
          "color": "#ab63fa",
          "symbol": "circle"
         },
         "mode": "markers",
         "name": "Janet Yellen",
         "orientation": "v",
         "showlegend": true,
         "type": "scatter",
         "x": [
          "2015-12-17T00:00:00",
          "2016-01-27T00:00:00",
          "2016-04-16T00:00:00",
          "2016-06-15T00:00:00",
          "2016-07-27T00:00:00",
          "2016-09-21T00:00:00",
          "2016-09-21T00:00:00",
          "2016-11-02T00:00:00",
          "2016-12-15T00:00:00",
          "2017-02-01T00:00:00",
          "2017-03-16T00:00:00",
          "2017-05-03T00:00:00",
          "2017-06-15T00:00:00",
          "2017-07-26T00:00:00",
          "2017-09-20T00:00:00",
          "2017-11-01T00:00:00",
          "2017-12-14T00:00:00",
          "2018-01-31T00:00:00"
         ],
         "xaxis": "x",
         "y": [
          0.005,
          0.005,
          0.005,
          0.005,
          0.005,
          0.005,
          0.005,
          0.005,
          0.0075,
          0.0075,
          0.01,
          0.01,
          0.0125,
          0.0125,
          0.0125,
          0.0125,
          0.015,
          0.015
         ],
         "yaxis": "y"
        },
        {
         "hovertemplate": "fed_chair=Jerome Powell<br>event_date=%{x}<br>fed_rate=%{y}<extra></extra>",
         "legendgroup": "Jerome Powell",
         "marker": {
          "color": "#FFA15A",
          "symbol": "circle"
         },
         "mode": "markers",
         "name": "Jerome Powell",
         "orientation": "v",
         "showlegend": true,
         "type": "scatter",
         "x": [
          "2018-03-22T00:00:00",
          "2018-05-02T00:00:00",
          "2018-06-14T00:00:00",
          "2018-08-01T00:00:00",
          "2018-09-27T00:00:00",
          "2018-11-08T00:00:00",
          "2018-12-20T00:00:00",
          "2019-01-30T00:00:00",
          "2019-03-20T00:00:00",
          "2019-05-01T00:00:00",
          "2019-06-19T00:00:00",
          "2019-08-01T00:00:00",
          "2019-09-19T00:00:00",
          "2019-10-04T00:00:00",
          "2019-10-31T00:00:00",
          "2019-12-11T00:00:00",
          "2020-01-29T00:00:00",
          "2020-03-03T00:00:00",
          "2020-04-29T00:00:00",
          "2020-06-10T00:00:00",
          "2020-07-29T00:00:00",
          "2020-08-27T00:00:00",
          "2020-09-16T00:00:00",
          "2020-11-05T00:00:00",
          "2020-12-16T00:00:00",
          "2021-01-27T00:00:00",
          "2021-03-17T00:00:00",
          "2021-04-28T00:00:00",
          "2021-06-16T00:00:00",
          "2021-07-28T00:00:00",
          "2021-09-22T00:00:00",
          "2021-11-04T00:00:00",
          "2021-12-15T00:00:00",
          "2022-01-26T00:00:00",
          "2022-03-16T00:00:00"
         ],
         "xaxis": "x",
         "y": [
          0.0175,
          0.0175,
          0.02,
          0.02,
          0.0225,
          0.0225,
          0.025,
          0.025,
          0.025,
          0.025,
          0.025,
          0.0225,
          0.02,
          0.02,
          0.0175,
          0.0175,
          0.0175,
          0.0125,
          0.0025,
          0.0025,
          0.0025,
          0.0025,
          0.0025,
          0.0025,
          0.0025,
          0.0025,
          0.0025,
          0.0025,
          0.0025,
          0.0025,
          0.0025,
          0.0025,
          0.0025,
          0.0025,
          0.005
         ],
         "yaxis": "y"
        }
       ],
       "layout": {
        "autosize": true,
        "legend": {
         "title": {
          "text": "fed_chair"
         },
         "tracegroupgap": 0
        },
        "template": {
         "data": {
          "bar": [
           {
            "error_x": {
             "color": "#2a3f5f"
            },
            "error_y": {
             "color": "#2a3f5f"
            },
            "marker": {
             "line": {
              "color": "#E5ECF6",
              "width": 0.5
             },
             "pattern": {
              "fillmode": "overlay",
              "size": 10,
              "solidity": 0.2
             }
            },
            "type": "bar"
           }
          ],
          "barpolar": [
           {
            "marker": {
             "line": {
              "color": "#E5ECF6",
              "width": 0.5
             },
             "pattern": {
              "fillmode": "overlay",
              "size": 10,
              "solidity": 0.2
             }
            },
            "type": "barpolar"
           }
          ],
          "carpet": [
           {
            "aaxis": {
             "endlinecolor": "#2a3f5f",
             "gridcolor": "white",
             "linecolor": "white",
             "minorgridcolor": "white",
             "startlinecolor": "#2a3f5f"
            },
            "baxis": {
             "endlinecolor": "#2a3f5f",
             "gridcolor": "white",
             "linecolor": "white",
             "minorgridcolor": "white",
             "startlinecolor": "#2a3f5f"
            },
            "type": "carpet"
           }
          ],
          "choropleth": [
           {
            "colorbar": {
             "outlinewidth": 0,
             "ticks": ""
            },
            "type": "choropleth"
           }
          ],
          "contour": [
           {
            "colorbar": {
             "outlinewidth": 0,
             "ticks": ""
            },
            "colorscale": [
             [
              0,
              "#0d0887"
             ],
             [
              0.1111111111111111,
              "#46039f"
             ],
             [
              0.2222222222222222,
              "#7201a8"
             ],
             [
              0.3333333333333333,
              "#9c179e"
             ],
             [
              0.4444444444444444,
              "#bd3786"
             ],
             [
              0.5555555555555556,
              "#d8576b"
             ],
             [
              0.6666666666666666,
              "#ed7953"
             ],
             [
              0.7777777777777778,
              "#fb9f3a"
             ],
             [
              0.8888888888888888,
              "#fdca26"
             ],
             [
              1,
              "#f0f921"
             ]
            ],
            "type": "contour"
           }
          ],
          "contourcarpet": [
           {
            "colorbar": {
             "outlinewidth": 0,
             "ticks": ""
            },
            "type": "contourcarpet"
           }
          ],
          "heatmap": [
           {
            "colorbar": {
             "outlinewidth": 0,
             "ticks": ""
            },
            "colorscale": [
             [
              0,
              "#0d0887"
             ],
             [
              0.1111111111111111,
              "#46039f"
             ],
             [
              0.2222222222222222,
              "#7201a8"
             ],
             [
              0.3333333333333333,
              "#9c179e"
             ],
             [
              0.4444444444444444,
              "#bd3786"
             ],
             [
              0.5555555555555556,
              "#d8576b"
             ],
             [
              0.6666666666666666,
              "#ed7953"
             ],
             [
              0.7777777777777778,
              "#fb9f3a"
             ],
             [
              0.8888888888888888,
              "#fdca26"
             ],
             [
              1,
              "#f0f921"
             ]
            ],
            "type": "heatmap"
           }
          ],
          "heatmapgl": [
           {
            "colorbar": {
             "outlinewidth": 0,
             "ticks": ""
            },
            "colorscale": [
             [
              0,
              "#0d0887"
             ],
             [
              0.1111111111111111,
              "#46039f"
             ],
             [
              0.2222222222222222,
              "#7201a8"
             ],
             [
              0.3333333333333333,
              "#9c179e"
             ],
             [
              0.4444444444444444,
              "#bd3786"
             ],
             [
              0.5555555555555556,
              "#d8576b"
             ],
             [
              0.6666666666666666,
              "#ed7953"
             ],
             [
              0.7777777777777778,
              "#fb9f3a"
             ],
             [
              0.8888888888888888,
              "#fdca26"
             ],
             [
              1,
              "#f0f921"
             ]
            ],
            "type": "heatmapgl"
           }
          ],
          "histogram": [
           {
            "marker": {
             "pattern": {
              "fillmode": "overlay",
              "size": 10,
              "solidity": 0.2
             }
            },
            "type": "histogram"
           }
          ],
          "histogram2d": [
           {
            "colorbar": {
             "outlinewidth": 0,
             "ticks": ""
            },
            "colorscale": [
             [
              0,
              "#0d0887"
             ],
             [
              0.1111111111111111,
              "#46039f"
             ],
             [
              0.2222222222222222,
              "#7201a8"
             ],
             [
              0.3333333333333333,
              "#9c179e"
             ],
             [
              0.4444444444444444,
              "#bd3786"
             ],
             [
              0.5555555555555556,
              "#d8576b"
             ],
             [
              0.6666666666666666,
              "#ed7953"
             ],
             [
              0.7777777777777778,
              "#fb9f3a"
             ],
             [
              0.8888888888888888,
              "#fdca26"
             ],
             [
              1,
              "#f0f921"
             ]
            ],
            "type": "histogram2d"
           }
          ],
          "histogram2dcontour": [
           {
            "colorbar": {
             "outlinewidth": 0,
             "ticks": ""
            },
            "colorscale": [
             [
              0,
              "#0d0887"
             ],
             [
              0.1111111111111111,
              "#46039f"
             ],
             [
              0.2222222222222222,
              "#7201a8"
             ],
             [
              0.3333333333333333,
              "#9c179e"
             ],
             [
              0.4444444444444444,
              "#bd3786"
             ],
             [
              0.5555555555555556,
              "#d8576b"
             ],
             [
              0.6666666666666666,
              "#ed7953"
             ],
             [
              0.7777777777777778,
              "#fb9f3a"
             ],
             [
              0.8888888888888888,
              "#fdca26"
             ],
             [
              1,
              "#f0f921"
             ]
            ],
            "type": "histogram2dcontour"
           }
          ],
          "mesh3d": [
           {
            "colorbar": {
             "outlinewidth": 0,
             "ticks": ""
            },
            "type": "mesh3d"
           }
          ],
          "parcoords": [
           {
            "line": {
             "colorbar": {
              "outlinewidth": 0,
              "ticks": ""
             }
            },
            "type": "parcoords"
           }
          ],
          "pie": [
           {
            "automargin": true,
            "type": "pie"
           }
          ],
          "scatter": [
           {
            "marker": {
             "colorbar": {
              "outlinewidth": 0,
              "ticks": ""
             }
            },
            "type": "scatter"
           }
          ],
          "scatter3d": [
           {
            "line": {
             "colorbar": {
              "outlinewidth": 0,
              "ticks": ""
             }
            },
            "marker": {
             "colorbar": {
              "outlinewidth": 0,
              "ticks": ""
             }
            },
            "type": "scatter3d"
           }
          ],
          "scattercarpet": [
           {
            "marker": {
             "colorbar": {
              "outlinewidth": 0,
              "ticks": ""
             }
            },
            "type": "scattercarpet"
           }
          ],
          "scattergeo": [
           {
            "marker": {
             "colorbar": {
              "outlinewidth": 0,
              "ticks": ""
             }
            },
            "type": "scattergeo"
           }
          ],
          "scattergl": [
           {
            "marker": {
             "colorbar": {
              "outlinewidth": 0,
              "ticks": ""
             }
            },
            "type": "scattergl"
           }
          ],
          "scattermapbox": [
           {
            "marker": {
             "colorbar": {
              "outlinewidth": 0,
              "ticks": ""
             }
            },
            "type": "scattermapbox"
           }
          ],
          "scatterpolar": [
           {
            "marker": {
             "colorbar": {
              "outlinewidth": 0,
              "ticks": ""
             }
            },
            "type": "scatterpolar"
           }
          ],
          "scatterpolargl": [
           {
            "marker": {
             "colorbar": {
              "outlinewidth": 0,
              "ticks": ""
             }
            },
            "type": "scatterpolargl"
           }
          ],
          "scatterternary": [
           {
            "marker": {
             "colorbar": {
              "outlinewidth": 0,
              "ticks": ""
             }
            },
            "type": "scatterternary"
           }
          ],
          "surface": [
           {
            "colorbar": {
             "outlinewidth": 0,
             "ticks": ""
            },
            "colorscale": [
             [
              0,
              "#0d0887"
             ],
             [
              0.1111111111111111,
              "#46039f"
             ],
             [
              0.2222222222222222,
              "#7201a8"
             ],
             [
              0.3333333333333333,
              "#9c179e"
             ],
             [
              0.4444444444444444,
              "#bd3786"
             ],
             [
              0.5555555555555556,
              "#d8576b"
             ],
             [
              0.6666666666666666,
              "#ed7953"
             ],
             [
              0.7777777777777778,
              "#fb9f3a"
             ],
             [
              0.8888888888888888,
              "#fdca26"
             ],
             [
              1,
              "#f0f921"
             ]
            ],
            "type": "surface"
           }
          ],
          "table": [
           {
            "cells": {
             "fill": {
              "color": "#EBF0F8"
             },
             "line": {
              "color": "white"
             }
            },
            "header": {
             "fill": {
              "color": "#C8D4E3"
             },
             "line": {
              "color": "white"
             }
            },
            "type": "table"
           }
          ]
         },
         "layout": {
          "annotationdefaults": {
           "arrowcolor": "#2a3f5f",
           "arrowhead": 0,
           "arrowwidth": 1
          },
          "autotypenumbers": "strict",
          "coloraxis": {
           "colorbar": {
            "outlinewidth": 0,
            "ticks": ""
           }
          },
          "colorscale": {
           "diverging": [
            [
             0,
             "#8e0152"
            ],
            [
             0.1,
             "#c51b7d"
            ],
            [
             0.2,
             "#de77ae"
            ],
            [
             0.3,
             "#f1b6da"
            ],
            [
             0.4,
             "#fde0ef"
            ],
            [
             0.5,
             "#f7f7f7"
            ],
            [
             0.6,
             "#e6f5d0"
            ],
            [
             0.7,
             "#b8e186"
            ],
            [
             0.8,
             "#7fbc41"
            ],
            [
             0.9,
             "#4d9221"
            ],
            [
             1,
             "#276419"
            ]
           ],
           "sequential": [
            [
             0,
             "#0d0887"
            ],
            [
             0.1111111111111111,
             "#46039f"
            ],
            [
             0.2222222222222222,
             "#7201a8"
            ],
            [
             0.3333333333333333,
             "#9c179e"
            ],
            [
             0.4444444444444444,
             "#bd3786"
            ],
            [
             0.5555555555555556,
             "#d8576b"
            ],
            [
             0.6666666666666666,
             "#ed7953"
            ],
            [
             0.7777777777777778,
             "#fb9f3a"
            ],
            [
             0.8888888888888888,
             "#fdca26"
            ],
            [
             1,
             "#f0f921"
            ]
           ],
           "sequentialminus": [
            [
             0,
             "#0d0887"
            ],
            [
             0.1111111111111111,
             "#46039f"
            ],
            [
             0.2222222222222222,
             "#7201a8"
            ],
            [
             0.3333333333333333,
             "#9c179e"
            ],
            [
             0.4444444444444444,
             "#bd3786"
            ],
            [
             0.5555555555555556,
             "#d8576b"
            ],
            [
             0.6666666666666666,
             "#ed7953"
            ],
            [
             0.7777777777777778,
             "#fb9f3a"
            ],
            [
             0.8888888888888888,
             "#fdca26"
            ],
            [
             1,
             "#f0f921"
            ]
           ]
          },
          "colorway": [
           "#636efa",
           "#EF553B",
           "#00cc96",
           "#ab63fa",
           "#FFA15A",
           "#19d3f3",
           "#FF6692",
           "#B6E880",
           "#FF97FF",
           "#FECB52"
          ],
          "font": {
           "color": "#2a3f5f"
          },
          "geo": {
           "bgcolor": "white",
           "lakecolor": "white",
           "landcolor": "#E5ECF6",
           "showlakes": true,
           "showland": true,
           "subunitcolor": "white"
          },
          "hoverlabel": {
           "align": "left"
          },
          "hovermode": "closest",
          "mapbox": {
           "style": "light"
          },
          "paper_bgcolor": "white",
          "plot_bgcolor": "#E5ECF6",
          "polar": {
           "angularaxis": {
            "gridcolor": "white",
            "linecolor": "white",
            "ticks": ""
           },
           "bgcolor": "#E5ECF6",
           "radialaxis": {
            "gridcolor": "white",
            "linecolor": "white",
            "ticks": ""
           }
          },
          "scene": {
           "xaxis": {
            "backgroundcolor": "#E5ECF6",
            "gridcolor": "white",
            "gridwidth": 2,
            "linecolor": "white",
            "showbackground": true,
            "ticks": "",
            "zerolinecolor": "white"
           },
           "yaxis": {
            "backgroundcolor": "#E5ECF6",
            "gridcolor": "white",
            "gridwidth": 2,
            "linecolor": "white",
            "showbackground": true,
            "ticks": "",
            "zerolinecolor": "white"
           },
           "zaxis": {
            "backgroundcolor": "#E5ECF6",
            "gridcolor": "white",
            "gridwidth": 2,
            "linecolor": "white",
            "showbackground": true,
            "ticks": "",
            "zerolinecolor": "white"
           }
          },
          "shapedefaults": {
           "line": {
            "color": "#2a3f5f"
           }
          },
          "ternary": {
           "aaxis": {
            "gridcolor": "white",
            "linecolor": "white",
            "ticks": ""
           },
           "baxis": {
            "gridcolor": "white",
            "linecolor": "white",
            "ticks": ""
           },
           "bgcolor": "#E5ECF6",
           "caxis": {
            "gridcolor": "white",
            "linecolor": "white",
            "ticks": ""
           }
          },
          "title": {
           "x": 0.05
          },
          "xaxis": {
           "automargin": true,
           "gridcolor": "white",
           "linecolor": "white",
           "ticks": "",
           "title": {
            "standoff": 15
           },
           "zerolinecolor": "white",
           "zerolinewidth": 2
          },
          "yaxis": {
           "automargin": true,
           "gridcolor": "white",
           "linecolor": "white",
           "ticks": "",
           "title": {
            "standoff": 15
           },
           "zerolinecolor": "white",
           "zerolinewidth": 2
          }
         }
        },
        "title": {
         "text": "fed rate"
        },
        "xaxis": {
         "anchor": "y",
         "autorange": true,
         "domain": [
          0,
          1
         ],
         "range": [
          "1985-04-13 14:25:31.9149",
          "2024-04-19 09:34:28.0851"
         ],
         "title": {
          "text": "event_date"
         },
         "type": "date"
        },
        "yaxis": {
         "anchor": "x",
         "autorange": true,
         "domain": [
          0,
          1
         ],
         "range": [
          -0.004308252427184467,
          0.09180825242718448
         ],
         "title": {
          "text": "fed_rate"
         },
         "type": "linear"
        }
       }
      },
      "image/png": "[encoded data removed]",
      "text/html": [
       "<div>                            <div id=\"379d7a8b-85ba-4753-9ae7-1d61e312d5ae\" class=\"plotly-graph-div\" style=\"height:525px; width:100%;\"></div>            <script type=\"text/javascript\">                require([\"plotly\"], function(Plotly) {                    window.PLOTLYENV=window.PLOTLYENV || {};                                    if (document.getElementById(\"379d7a8b-85ba-4753-9ae7-1d61e312d5ae\")) {                    Plotly.newPlot(                        \"379d7a8b-85ba-4753-9ae7-1d61e312d5ae\",                        [{\"hovertemplate\":\"fed_chair=Paul Volcker<br>event_date=%{x}<br>fed_rate=%{y}<extra></extra>\",\"legendgroup\":\"Paul Volcker\",\"marker\":{\"color\":\"#636efa\",\"symbol\":\"circle\"},\"mode\":\"markers\",\"name\":\"Paul Volcker\",\"orientation\":\"v\",\"showlegend\":true,\"x\":[\"1987-05-19T00:00:00\"],\"xaxis\":\"x\",\"y\":[0.065],\"yaxis\":\"y\",\"type\":\"scatter\"},{\"hovertemplate\":\"fed_chair=Alan\\u00a0Greenspan<br>event_date=%{x}<br>fed_rate=%{y}<extra></extra>\",\"legendgroup\":\"Alan\\u00a0Greenspan\",\"marker\":{\"color\":\"#EF553B\",\"symbol\":\"circle\"},\"mode\":\"markers\",\"name\":\"Alan\\u00a0Greenspan\",\"orientation\":\"v\",\"showlegend\":true,\"x\":[\"1987-07-07T00:00:00\",\"1987-08-18T00:00:00\",\"1987-09-22T00:00:00\",\"1987-11-04T00:00:00\",\"1987-12-15T00:00:00\",\"1988-02-10T00:00:00\",\"1988-03-29T00:00:00\",\"1988-05-17T00:00:00\",\"1988-06-30T00:00:00\",\"1988-08-16T00:00:00\",\"1988-09-20T00:00:00\",\"1988-11-01T00:00:00\",\"1988-12-14T00:00:00\",\"1989-02-08T00:00:00\",\"1989-03-28T00:00:00\",\"1989-05-16T00:00:00\",\"1989-07-06T00:00:00\",\"1989-08-22T00:00:00\",\"1989-10-03T00:00:00\",\"1989-11-14T00:00:00\",\"1989-12-19T00:00:00\",\"1990-02-07T00:00:00\",\"1990-03-27T00:00:00\",\"1990-05-15T00:00:00\",\"1990-07-03T00:00:00\",\"1990-08-21T00:00:00\",\"1990-10-02T00:00:00\",\"1990-11-13T00:00:00\",\"1990-12-18T00:00:00\",\"1991-01-09T00:00:00\",\"1991-02-01T00:00:00\",\"1991-02-06T00:00:00\",\"1991-03-08T00:00:00\",\"1991-04-30T00:00:00\",\"1991-05-14T00:00:00\",\"1991-07-03T00:00:00\",\"1991-08-06T00:00:00\",\"1991-08-20T00:00:00\",\"1991-09-13T00:00:00\",\"1991-10-01T00:00:00\",\"1991-10-31T00:00:00\",\"1991-11-06T00:00:00\",\"1991-12-02T00:00:00\",\"1991-12-17T00:00:00\",\"1992-02-05T00:00:00\",\"1992-03-31T00:00:00\",\"1992-04-09T00:00:00\",\"1992-05-19T00:00:00\",\"1992-07-02T00:00:00\",\"1992-08-18T00:00:00\",\"1992-09-04T00:00:00\",\"1992-10-06T00:00:00\",\"1992-11-17T00:00:00\",\"1992-12-22T00:00:00\",\"1993-02-03T00:00:00\",\"1993-03-23T00:00:00\",\"1993-05-18T00:00:00\",\"1993-07-07T00:00:00\",\"1993-08-17T00:00:00\",\"1993-09-21T00:00:00\",\"1993-11-01T00:00:00\",\"1993-12-21T00:00:00\",\"1994-02-04T00:00:00\",\"1994-03-22T00:00:00\",\"1994-04-18T00:00:00\",\"1994-05-17T00:00:00\",\"1994-07-06T00:00:00\",\"1994-08-16T00:00:00\",\"1994-09-27T00:00:00\",\"1994-11-15T00:00:00\",\"1994-12-20T00:00:00\",\"1995-01-31T00:00:00\",\"1995-02-01T00:00:00\",\"1995-03-28T00:00:00\",\"1995-05-23T00:00:00\",\"1995-07-06T00:00:00\",\"1995-08-22T00:00:00\",\"1995-09-26T00:00:00\",\"1995-11-15T00:00:00\",\"1995-12-19T00:00:00\",\"1996-01-31T00:00:00\",\"1996-03-26T00:00:00\",\"1996-05-21T00:00:00\",\"1996-07-03T00:00:00\",\"1996-08-20T00:00:00\",\"1996-09-24T00:00:00\",\"1996-11-13T00:00:00\",\"1996-12-17T00:00:00\",\"1997-02-05T00:00:00\",\"1997-03-25T00:00:00\",\"1997-05-20T00:00:00\",\"1997-07-02T00:00:00\",\"1997-08-19T00:00:00\",\"1997-09-30T00:00:00\",\"1997-11-12T00:00:00\",\"1997-12-16T00:00:00\",\"1998-02-04T00:00:00\",\"1998-03-31T00:00:00\",\"1998-05-19T00:00:00\",\"1998-07-01T00:00:00\",\"1998-08-18T00:00:00\",\"1998-09-29T00:00:00\",\"1998-10-15T00:00:00\",\"1998-11-17T00:00:00\",\"1998-12-22T00:00:00\",\"1999-02-03T00:00:00\",\"1999-03-30T00:00:00\",\"1999-05-18T00:00:00\",\"1999-06-30T00:00:00\",\"1999-08-24T00:00:00\",\"1999-10-05T00:00:00\",\"1999-11-16T00:00:00\",\"1999-12-21T00:00:00\",\"2000-02-02T00:00:00\",\"2000-03-21T00:00:00\",\"2000-05-16T00:00:00\",\"2000-06-28T00:00:00\",\"2000-08-22T00:00:00\",\"2000-10-03T00:00:00\",\"2000-11-15T00:00:00\",\"2000-12-19T00:00:00\",\"2001-01-03T00:00:00\",\"2001-01-31T00:00:00\",\"2001-03-20T00:00:00\",\"2001-04-18T00:00:00\",\"2001-05-15T00:00:00\",\"2001-06-27T00:00:00\",\"2001-08-21T00:00:00\",\"2001-09-17T00:00:00\",\"2001-10-02T00:00:00\",\"2001-11-06T00:00:00\",\"2001-12-11T00:00:00\",\"2002-01-30T00:00:00\",\"2002-03-19T00:00:00\",\"2002-05-07T00:00:00\",\"2002-06-26T00:00:00\",\"2002-08-13T00:00:00\",\"2002-09-24T00:00:00\",\"2002-11-06T00:00:00\",\"2002-12-10T00:00:00\",\"2003-03-18T00:00:00\",\"2003-03-25T00:00:00\",\"2003-05-06T00:00:00\",\"2003-06-25T00:00:00\",\"2003-06-29T00:00:00\",\"2003-08-12T00:00:00\",\"2003-09-16T00:00:00\",\"2003-10-28T00:00:00\",\"2003-12-09T00:00:00\",\"2004-01-28T00:00:00\",\"2004-03-16T00:00:00\",\"2004-05-04T00:00:00\",\"2004-06-30T00:00:00\",\"2004-08-10T00:00:00\",\"2004-09-21T00:00:00\",\"2004-11-10T00:00:00\",\"2004-12-14T00:00:00\",\"2005-02-02T00:00:00\",\"2005-03-22T00:00:00\",\"2005-05-03T00:00:00\",\"2005-06-30T00:00:00\",\"2005-08-09T00:00:00\",\"2005-09-20T00:00:00\",\"2005-11-01T00:00:00\",\"2005-12-13T00:00:00\",\"2006-01-31T00:00:00\"],\"xaxis\":\"x\",\"y\":[0.065,0.065,0.0725,0.0681,0.0681,0.0625,0.065,0.065,0.065,0.0813,0.0813,0.0813,0.0838,0.0838,0.0838,0.0838,0.0838,0.0838,0.0838,0.0838,0.085,0.085,0.085,0.085,0.0825,0.0825,0.0775,0.075,0.0725,0.0675,0.0625,0.0625,0.06,0.0575,0.0575,0.0575,0.055,0.055,0.0525,0.0525,0.05,0.0475,0.045,0.04,0.04,0.04,0.0375,0.0375,0.0325,0.0375,0.03,0.03,0.03,0.03,0.03,0.03,0.03,0.03,0.03,0.03,0.03,0.03,0.0325,0.035,0.0375,0.0425,0.0425,0.0475,0.0475,0.055,0.055,0.055,0.06,0.06,0.06,0.0575,0.0575,0.0575,0.0575,0.055,0.0525,0.0525,0.0525,0.0525,0.0525,0.0525,0.0525,0.0525,0.0525,0.055,0.055,0.055,0.055,0.055,0.055,0.055,0.055,0.055,0.055,0.055,0.055,0.0525,0.05,0.0475,0.0475,0.0475,0.0475,0.0475,0.05,0.0525,0.0525,0.055,0.055,0.0575,0.06,0.065,0.065,0.065,0.065,0.065,0.065,0.06,0.055,0.05,0.045,0.04,0.0375,0.035,0.03,0.025,0.02,0.0175,0.0175,0.0175,0.0175,0.0175,0.0175,0.0175,0.0125,0.0125,0.0125,0.0125,0.0125,0.01,0.01,0.01,0.01,0.01,0.01,0.01,0.01,0.01,0.0103,0.015,0.0175,0.02,0.0225,0.025,0.0275,0.03,0.0325,0.035,0.0375,0.04,0.0425,0.045],\"yaxis\":\"y\",\"type\":\"scatter\"},{\"hovertemplate\":\"fed_chair=Ben Bernanke<br>event_date=%{x}<br>fed_rate=%{y}<extra></extra>\",\"legendgroup\":\"Ben Bernanke\",\"marker\":{\"color\":\"#00cc96\",\"symbol\":\"circle\"},\"mode\":\"markers\",\"name\":\"Ben Bernanke\",\"orientation\":\"v\",\"showlegend\":true,\"x\":[\"2006-03-28T00:00:00\",\"2006-05-10T00:00:00\",\"2006-06-29T00:00:00\",\"2006-08-08T00:00:00\",\"2006-09-20T00:00:00\",\"2006-10-25T00:00:00\",\"2006-12-12T00:00:00\",\"2007-01-31T00:00:00\",\"2007-03-21T00:00:00\",\"2007-05-09T00:00:00\",\"2007-06-28T00:00:00\",\"2007-08-07T00:00:00\",\"2007-09-18T00:00:00\",\"2007-10-31T00:00:00\",\"2007-12-11T00:00:00\",\"2008-01-22T00:00:00\",\"2008-01-30T00:00:00\",\"2008-03-18T00:00:00\",\"2008-04-30T00:00:00\",\"2008-06-25T00:00:00\",\"2008-08-05T00:00:00\",\"2008-09-16T00:00:00\",\"2008-10-08T00:00:00\",\"2008-11-29T00:00:00\",\"2008-12-16T00:00:00\",\"2009-01-28T00:00:00\",\"2009-03-18T00:00:00\",\"2009-04-29T00:00:00\",\"2009-06-24T00:00:00\",\"2009-08-12T00:00:00\",\"2009-09-23T00:00:00\",\"2009-11-04T00:00:00\",\"2009-12-16T00:00:00\",\"2010-01-27T00:00:00\",\"2010-03-16T00:00:00\",\"2010-04-28T00:00:00\",\"2010-06-23T00:00:00\",\"2010-08-10T00:00:00\",\"2010-09-21T00:00:00\",\"2010-11-03T00:00:00\",\"2010-12-14T00:00:00\",\"2011-01-26T00:00:00\",\"2011-03-15T00:00:00\",\"2011-04-27T00:00:00\",\"2011-06-22T00:00:00\",\"2011-08-09T00:00:00\",\"2011-09-21T00:00:00\",\"2011-11-02T00:00:00\",\"2011-12-13T00:00:00\",\"2012-01-25T00:00:00\",\"2012-03-13T00:00:00\",\"2012-04-25T00:00:00\",\"2012-06-20T00:00:00\",\"2012-08-01T00:00:00\",\"2012-09-13T00:00:00\",\"2012-10-24T00:00:00\",\"2012-12-12T00:00:00\",\"2013-01-30T00:00:00\",\"2013-03-20T00:00:00\",\"2013-05-01T00:00:00\",\"2013-06-19T00:00:00\",\"2013-07-31T00:00:00\",\"2013-09-18T00:00:00\",\"2013-10-30T00:00:00\",\"2013-12-18T00:00:00\",\"2014-01-29T00:00:00\",\"2014-03-04T00:00:00\",\"2014-03-19T00:00:00\",\"2014-04-30T00:00:00\",\"2014-06-18T00:00:00\",\"2014-07-30T00:00:00\",\"2014-09-17T00:00:00\",\"2014-10-29T00:00:00\",\"2014-12-17T00:00:00\",\"2015-01-28T00:00:00\",\"2015-03-16T00:00:00\",\"2015-03-18T00:00:00\",\"2015-04-29T00:00:00\",\"2015-06-17T00:00:00\",\"2015-07-29T00:00:00\",\"2015-09-17T00:00:00\",\"2015-10-28T00:00:00\"],\"xaxis\":\"x\",\"y\":[0.0475,0.05,0.0525,0.0525,0.0525,0.0525,0.0525,0.0525,0.0525,0.0525,0.0525,0.0525,0.0475,0.045,0.0425,0.035,0.03,0.0225,0.02,0.02,0.02,0.02,0.015,0.01,0.0025,0.0025,0.0025,0.0025,0.0025,0.0025,0.0025,0.0025,0.0025,0.0025,0.0025,0.0025,0.0025,0.0025,0.0025,0.0025,0.0025,0.0025,0.0025,0.0025,0.0025,0.0025,0.0025,0.0025,0.0025,0.0025,0.0025,0.0025,0.0025,0.0025,0.0025,0.0025,0.0025,0.0025,0.0025,0.0025,0.0025,0.0025,0.0025,0.0025,0.0025,0.0025,0.0025,0.0025,0.0025,0.0025,0.0025,0.0025,0.0025,0.0025,0.0025,0.0025,0.0025,0.0025,0.0025,0.0025,0.0025,0.0025],\"yaxis\":\"y\",\"type\":\"scatter\"},{\"hovertemplate\":\"fed_chair=Janet Yellen<br>event_date=%{x}<br>fed_rate=%{y}<extra></extra>\",\"legendgroup\":\"Janet Yellen\",\"marker\":{\"color\":\"#ab63fa\",\"symbol\":\"circle\"},\"mode\":\"markers\",\"name\":\"Janet Yellen\",\"orientation\":\"v\",\"showlegend\":true,\"x\":[\"2015-12-17T00:00:00\",\"2016-01-27T00:00:00\",\"2016-04-16T00:00:00\",\"2016-06-15T00:00:00\",\"2016-07-27T00:00:00\",\"2016-09-21T00:00:00\",\"2016-09-21T00:00:00\",\"2016-11-02T00:00:00\",\"2016-12-15T00:00:00\",\"2017-02-01T00:00:00\",\"2017-03-16T00:00:00\",\"2017-05-03T00:00:00\",\"2017-06-15T00:00:00\",\"2017-07-26T00:00:00\",\"2017-09-20T00:00:00\",\"2017-11-01T00:00:00\",\"2017-12-14T00:00:00\",\"2018-01-31T00:00:00\"],\"xaxis\":\"x\",\"y\":[0.005,0.005,0.005,0.005,0.005,0.005,0.005,0.005,0.0075,0.0075,0.01,0.01,0.0125,0.0125,0.0125,0.0125,0.015,0.015],\"yaxis\":\"y\",\"type\":\"scatter\"},{\"hovertemplate\":\"fed_chair=Jerome Powell<br>event_date=%{x}<br>fed_rate=%{y}<extra></extra>\",\"legendgroup\":\"Jerome Powell\",\"marker\":{\"color\":\"#FFA15A\",\"symbol\":\"circle\"},\"mode\":\"markers\",\"name\":\"Jerome Powell\",\"orientation\":\"v\",\"showlegend\":true,\"x\":[\"2018-03-22T00:00:00\",\"2018-05-02T00:00:00\",\"2018-06-14T00:00:00\",\"2018-08-01T00:00:00\",\"2018-09-27T00:00:00\",\"2018-11-08T00:00:00\",\"2018-12-20T00:00:00\",\"2019-01-30T00:00:00\",\"2019-03-20T00:00:00\",\"2019-05-01T00:00:00\",\"2019-06-19T00:00:00\",\"2019-08-01T00:00:00\",\"2019-09-19T00:00:00\",\"2019-10-04T00:00:00\",\"2019-10-31T00:00:00\",\"2019-12-11T00:00:00\",\"2020-01-29T00:00:00\",\"2020-03-03T00:00:00\",\"2020-04-29T00:00:00\",\"2020-06-10T00:00:00\",\"2020-07-29T00:00:00\",\"2020-08-27T00:00:00\",\"2020-09-16T00:00:00\",\"2020-11-05T00:00:00\",\"2020-12-16T00:00:00\",\"2021-01-27T00:00:00\",\"2021-03-17T00:00:00\",\"2021-04-28T00:00:00\",\"2021-06-16T00:00:00\",\"2021-07-28T00:00:00\",\"2021-09-22T00:00:00\",\"2021-11-04T00:00:00\",\"2021-12-15T00:00:00\",\"2022-01-26T00:00:00\",\"2022-03-16T00:00:00\"],\"xaxis\":\"x\",\"y\":[0.0175,0.0175,0.02,0.02,0.0225,0.0225,0.025,0.025,0.025,0.025,0.025,0.0225,0.02,0.02,0.0175,0.0175,0.0175,0.0125,0.0025,0.0025,0.0025,0.0025,0.0025,0.0025,0.0025,0.0025,0.0025,0.0025,0.0025,0.0025,0.0025,0.0025,0.0025,0.0025,0.005],\"yaxis\":\"y\",\"type\":\"scatter\"}],                        {\"template\":{\"data\":{\"bar\":[{\"error_x\":{\"color\":\"#2a3f5f\"},\"error_y\":{\"color\":\"#2a3f5f\"},\"marker\":{\"line\":{\"color\":\"#E5ECF6\",\"width\":0.5},\"pattern\":{\"fillmode\":\"overlay\",\"size\":10,\"solidity\":0.2}},\"type\":\"bar\"}],\"barpolar\":[{\"marker\":{\"line\":{\"color\":\"#E5ECF6\",\"width\":0.5},\"pattern\":{\"fillmode\":\"overlay\",\"size\":10,\"solidity\":0.2}},\"type\":\"barpolar\"}],\"carpet\":[{\"aaxis\":{\"endlinecolor\":\"#2a3f5f\",\"gridcolor\":\"white\",\"linecolor\":\"white\",\"minorgridcolor\":\"white\",\"startlinecolor\":\"#2a3f5f\"},\"baxis\":{\"endlinecolor\":\"#2a3f5f\",\"gridcolor\":\"white\",\"linecolor\":\"white\",\"minorgridcolor\":\"white\",\"startlinecolor\":\"#2a3f5f\"},\"type\":\"carpet\"}],\"choropleth\":[{\"colorbar\":{\"outlinewidth\":0,\"ticks\":\"\"},\"type\":\"choropleth\"}],\"contour\":[{\"colorbar\":{\"outlinewidth\":0,\"ticks\":\"\"},\"colorscale\":[[0.0,\"#0d0887\"],[0.1111111111111111,\"#46039f\"],[0.2222222222222222,\"#7201a8\"],[0.3333333333333333,\"#9c179e\"],[0.4444444444444444,\"#bd3786\"],[0.5555555555555556,\"#d8576b\"],[0.6666666666666666,\"#ed7953\"],[0.7777777777777778,\"#fb9f3a\"],[0.8888888888888888,\"#fdca26\"],[1.0,\"#f0f921\"]],\"type\":\"contour\"}],\"contourcarpet\":[{\"colorbar\":{\"outlinewidth\":0,\"ticks\":\"\"},\"type\":\"contourcarpet\"}],\"heatmap\":[{\"colorbar\":{\"outlinewidth\":0,\"ticks\":\"\"},\"colorscale\":[[0.0,\"#0d0887\"],[0.1111111111111111,\"#46039f\"],[0.2222222222222222,\"#7201a8\"],[0.3333333333333333,\"#9c179e\"],[0.4444444444444444,\"#bd3786\"],[0.5555555555555556,\"#d8576b\"],[0.6666666666666666,\"#ed7953\"],[0.7777777777777778,\"#fb9f3a\"],[0.8888888888888888,\"#fdca26\"],[1.0,\"#f0f921\"]],\"type\":\"heatmap\"}],\"heatmapgl\":[{\"colorbar\":{\"outlinewidth\":0,\"ticks\":\"\"},\"colorscale\":[[0.0,\"#0d0887\"],[0.1111111111111111,\"#46039f\"],[0.2222222222222222,\"#7201a8\"],[0.3333333333333333,\"#9c179e\"],[0.4444444444444444,\"#bd3786\"],[0.5555555555555556,\"#d8576b\"],[0.6666666666666666,\"#ed7953\"],[0.7777777777777778,\"#fb9f3a\"],[0.8888888888888888,\"#fdca26\"],[1.0,\"#f0f921\"]],\"type\":\"heatmapgl\"}],\"histogram\":[{\"marker\":{\"pattern\":{\"fillmode\":\"overlay\",\"size\":10,\"solidity\":0.2}},\"type\":\"histogram\"}],\"histogram2d\":[{\"colorbar\":{\"outlinewidth\":0,\"ticks\":\"\"},\"colorscale\":[[0.0,\"#0d0887\"],[0.1111111111111111,\"#46039f\"],[0.2222222222222222,\"#7201a8\"],[0.3333333333333333,\"#9c179e\"],[0.4444444444444444,\"#bd3786\"],[0.5555555555555556,\"#d8576b\"],[0.6666666666666666,\"#ed7953\"],[0.7777777777777778,\"#fb9f3a\"],[0.8888888888888888,\"#fdca26\"],[1.0,\"#f0f921\"]],\"type\":\"histogram2d\"}],\"histogram2dcontour\":[{\"colorbar\":{\"outlinewidth\":0,\"ticks\":\"\"},\"colorscale\":[[0.0,\"#0d0887\"],[0.1111111111111111,\"#46039f\"],[0.2222222222222222,\"#7201a8\"],[0.3333333333333333,\"#9c179e\"],[0.4444444444444444,\"#bd3786\"],[0.5555555555555556,\"#d8576b\"],[0.6666666666666666,\"#ed7953\"],[0.7777777777777778,\"#fb9f3a\"],[0.8888888888888888,\"#fdca26\"],[1.0,\"#f0f921\"]],\"type\":\"histogram2dcontour\"}],\"mesh3d\":[{\"colorbar\":{\"outlinewidth\":0,\"ticks\":\"\"},\"type\":\"mesh3d\"}],\"parcoords\":[{\"line\":{\"colorbar\":{\"outlinewidth\":0,\"ticks\":\"\"}},\"type\":\"parcoords\"}],\"pie\":[{\"automargin\":true,\"type\":\"pie\"}],\"scatter\":[{\"marker\":{\"colorbar\":{\"outlinewidth\":0,\"ticks\":\"\"}},\"type\":\"scatter\"}],\"scatter3d\":[{\"line\":{\"colorbar\":{\"outlinewidth\":0,\"ticks\":\"\"}},\"marker\":{\"colorbar\":{\"outlinewidth\":0,\"ticks\":\"\"}},\"type\":\"scatter3d\"}],\"scattercarpet\":[{\"marker\":{\"colorbar\":{\"outlinewidth\":0,\"ticks\":\"\"}},\"type\":\"scattercarpet\"}],\"scattergeo\":[{\"marker\":{\"colorbar\":{\"outlinewidth\":0,\"ticks\":\"\"}},\"type\":\"scattergeo\"}],\"scattergl\":[{\"marker\":{\"colorbar\":{\"outlinewidth\":0,\"ticks\":\"\"}},\"type\":\"scattergl\"}],\"scattermapbox\":[{\"marker\":{\"colorbar\":{\"outlinewidth\":0,\"ticks\":\"\"}},\"type\":\"scattermapbox\"}],\"scatterpolar\":[{\"marker\":{\"colorbar\":{\"outlinewidth\":0,\"ticks\":\"\"}},\"type\":\"scatterpolar\"}],\"scatterpolargl\":[{\"marker\":{\"colorbar\":{\"outlinewidth\":0,\"ticks\":\"\"}},\"type\":\"scatterpolargl\"}],\"scatterternary\":[{\"marker\":{\"colorbar\":{\"outlinewidth\":0,\"ticks\":\"\"}},\"type\":\"scatterternary\"}],\"surface\":[{\"colorbar\":{\"outlinewidth\":0,\"ticks\":\"\"},\"colorscale\":[[0.0,\"#0d0887\"],[0.1111111111111111,\"#46039f\"],[0.2222222222222222,\"#7201a8\"],[0.3333333333333333,\"#9c179e\"],[0.4444444444444444,\"#bd3786\"],[0.5555555555555556,\"#d8576b\"],[0.6666666666666666,\"#ed7953\"],[0.7777777777777778,\"#fb9f3a\"],[0.8888888888888888,\"#fdca26\"],[1.0,\"#f0f921\"]],\"type\":\"surface\"}],\"table\":[{\"cells\":{\"fill\":{\"color\":\"#EBF0F8\"},\"line\":{\"color\":\"white\"}},\"header\":{\"fill\":{\"color\":\"#C8D4E3\"},\"line\":{\"color\":\"white\"}},\"type\":\"table\"}]},\"layout\":{\"annotationdefaults\":{\"arrowcolor\":\"#2a3f5f\",\"arrowhead\":0,\"arrowwidth\":1},\"autotypenumbers\":\"strict\",\"coloraxis\":{\"colorbar\":{\"outlinewidth\":0,\"ticks\":\"\"}},\"colorscale\":{\"diverging\":[[0,\"#8e0152\"],[0.1,\"#c51b7d\"],[0.2,\"#de77ae\"],[0.3,\"#f1b6da\"],[0.4,\"#fde0ef\"],[0.5,\"#f7f7f7\"],[0.6,\"#e6f5d0\"],[0.7,\"#b8e186\"],[0.8,\"#7fbc41\"],[0.9,\"#4d9221\"],[1,\"#276419\"]],\"sequential\":[[0.0,\"#0d0887\"],[0.1111111111111111,\"#46039f\"],[0.2222222222222222,\"#7201a8\"],[0.3333333333333333,\"#9c179e\"],[0.4444444444444444,\"#bd3786\"],[0.5555555555555556,\"#d8576b\"],[0.6666666666666666,\"#ed7953\"],[0.7777777777777778,\"#fb9f3a\"],[0.8888888888888888,\"#fdca26\"],[1.0,\"#f0f921\"]],\"sequentialminus\":[[0.0,\"#0d0887\"],[0.1111111111111111,\"#46039f\"],[0.2222222222222222,\"#7201a8\"],[0.3333333333333333,\"#9c179e\"],[0.4444444444444444,\"#bd3786\"],[0.5555555555555556,\"#d8576b\"],[0.6666666666666666,\"#ed7953\"],[0.7777777777777778,\"#fb9f3a\"],[0.8888888888888888,\"#fdca26\"],[1.0,\"#f0f921\"]]},\"colorway\":[\"#636efa\",\"#EF553B\",\"#00cc96\",\"#ab63fa\",\"#FFA15A\",\"#19d3f3\",\"#FF6692\",\"#B6E880\",\"#FF97FF\",\"#FECB52\"],\"font\":{\"color\":\"#2a3f5f\"},\"geo\":{\"bgcolor\":\"white\",\"lakecolor\":\"white\",\"landcolor\":\"#E5ECF6\",\"showlakes\":true,\"showland\":true,\"subunitcolor\":\"white\"},\"hoverlabel\":{\"align\":\"left\"},\"hovermode\":\"closest\",\"mapbox\":{\"style\":\"light\"},\"paper_bgcolor\":\"white\",\"plot_bgcolor\":\"#E5ECF6\",\"polar\":{\"angularaxis\":{\"gridcolor\":\"white\",\"linecolor\":\"white\",\"ticks\":\"\"},\"bgcolor\":\"#E5ECF6\",\"radialaxis\":{\"gridcolor\":\"white\",\"linecolor\":\"white\",\"ticks\":\"\"}},\"scene\":{\"xaxis\":{\"backgroundcolor\":\"#E5ECF6\",\"gridcolor\":\"white\",\"gridwidth\":2,\"linecolor\":\"white\",\"showbackground\":true,\"ticks\":\"\",\"zerolinecolor\":\"white\"},\"yaxis\":{\"backgroundcolor\":\"#E5ECF6\",\"gridcolor\":\"white\",\"gridwidth\":2,\"linecolor\":\"white\",\"showbackground\":true,\"ticks\":\"\",\"zerolinecolor\":\"white\"},\"zaxis\":{\"backgroundcolor\":\"#E5ECF6\",\"gridcolor\":\"white\",\"gridwidth\":2,\"linecolor\":\"white\",\"showbackground\":true,\"ticks\":\"\",\"zerolinecolor\":\"white\"}},\"shapedefaults\":{\"line\":{\"color\":\"#2a3f5f\"}},\"ternary\":{\"aaxis\":{\"gridcolor\":\"white\",\"linecolor\":\"white\",\"ticks\":\"\"},\"baxis\":{\"gridcolor\":\"white\",\"linecolor\":\"white\",\"ticks\":\"\"},\"bgcolor\":\"#E5ECF6\",\"caxis\":{\"gridcolor\":\"white\",\"linecolor\":\"white\",\"ticks\":\"\"}},\"title\":{\"x\":0.05},\"xaxis\":{\"automargin\":true,\"gridcolor\":\"white\",\"linecolor\":\"white\",\"ticks\":\"\",\"title\":{\"standoff\":15},\"zerolinecolor\":\"white\",\"zerolinewidth\":2},\"yaxis\":{\"automargin\":true,\"gridcolor\":\"white\",\"linecolor\":\"white\",\"ticks\":\"\",\"title\":{\"standoff\":15},\"zerolinecolor\":\"white\",\"zerolinewidth\":2}}},\"xaxis\":{\"anchor\":\"y\",\"domain\":[0.0,1.0],\"title\":{\"text\":\"event_date\"}},\"yaxis\":{\"anchor\":\"x\",\"domain\":[0.0,1.0],\"title\":{\"text\":\"fed_rate\"}},\"legend\":{\"title\":{\"text\":\"fed_chair\"},\"tracegroupgap\":0},\"title\":{\"text\":\"fed rate\"}},                        {\"responsive\": true}                    ).then(function(){\n",
       "                            \n",
       "var gd = document.getElementById('379d7a8b-85ba-4753-9ae7-1d61e312d5ae');\n",
       "var x = new MutationObserver(function (mutations, observer) {{\n",
       "        var display = window.getComputedStyle(gd).display;\n",
       "        if (!display || display === 'none') {{\n",
       "            console.log([gd, 'removed!']);\n",
       "            Plotly.purge(gd);\n",
       "            observer.disconnect();\n",
       "        }}\n",
       "}});\n",
       "\n",
       "// Listen for the removal of the full notebook cells\n",
       "var notebookContainer = gd.closest('#notebook-container');\n",
       "if (notebookContainer) {{\n",
       "    x.observe(notebookContainer, {childList: true});\n",
       "}}\n",
       "\n",
       "// Listen for the clearing of the current output cell\n",
       "var outputEl = gd.closest('.output');\n",
       "if (outputEl) {{\n",
       "    x.observe(outputEl, {childList: true});\n",
       "}}\n",
       "\n",
       "                        })                };                });            </script>        </div>"
      ]
     },
     "metadata": {},
     "output_type": "display_data"
    }
   ],
   "source": [
    "fig = px.scatter(data_frame=decision_df, \n",
    "             x='event_date', y='fed_rate', \n",
    "             color=\"fed_chair\", \n",
    "             title='Fed Rate',   \n",
    "                )\n",
    "\n",
    "fig.show()"
   ]
  },
  {
   "cell_type": "code",
   "execution_count": 217,
   "id": "5c35f351-b6f2-45c8-a31e-d11f19a8dd02",
   "metadata": {},
   "outputs": [
    {
     "data": {
      "application/vnd.plotly.v1+json": {
       "config": {
        "plotlyServerURL": "https://plotly.com"
       },
       "data": [
        {
         "hovertemplate": "fed_chair=Paul Volcker<br>event_date=%{x}<br>rate_change=%{y}<extra></extra>",
         "legendgroup": "Paul Volcker",
         "marker": {
          "color": "#636efa",
          "symbol": "circle"
         },
         "mode": "markers",
         "name": "Paul Volcker",
         "orientation": "v",
         "showlegend": true,
         "type": "scatter",
         "x": [
          "1987-05-19T00:00:00"
         ],
         "xaxis": "x",
         "y": [
          0.0062
         ],
         "yaxis": "y"
        },
        {
         "hovertemplate": "fed_chair=Alan Greenspan<br>event_date=%{x}<br>rate_change=%{y}<extra></extra>",
         "legendgroup": "Alan Greenspan",
         "marker": {
          "color": "#EF553B",
          "symbol": "circle"
         },
         "mode": "markers",
         "name": "Alan Greenspan",
         "orientation": "v",
         "showlegend": true,
         "type": "scatter",
         "x": [
          "1987-07-07T00:00:00",
          "1987-08-18T00:00:00",
          "1987-09-22T00:00:00",
          "1987-11-04T00:00:00",
          "1987-12-15T00:00:00",
          "1988-02-10T00:00:00",
          "1988-03-29T00:00:00",
          "1988-05-17T00:00:00",
          "1988-06-30T00:00:00",
          "1988-08-16T00:00:00",
          "1988-09-20T00:00:00",
          "1988-11-01T00:00:00",
          "1988-12-14T00:00:00",
          "1989-02-08T00:00:00",
          "1989-03-28T00:00:00",
          "1989-05-16T00:00:00",
          "1989-07-06T00:00:00",
          "1989-08-22T00:00:00",
          "1989-10-03T00:00:00",
          "1989-11-14T00:00:00",
          "1989-12-19T00:00:00",
          "1990-02-07T00:00:00",
          "1990-03-27T00:00:00",
          "1990-05-15T00:00:00",
          "1990-07-03T00:00:00",
          "1990-08-21T00:00:00",
          "1990-10-02T00:00:00",
          "1990-11-13T00:00:00",
          "1990-12-18T00:00:00",
          "1991-01-09T00:00:00",
          "1991-02-01T00:00:00",
          "1991-02-06T00:00:00",
          "1991-03-08T00:00:00",
          "1991-04-30T00:00:00",
          "1991-05-14T00:00:00",
          "1991-07-03T00:00:00",
          "1991-08-06T00:00:00",
          "1991-08-20T00:00:00",
          "1991-09-13T00:00:00",
          "1991-10-01T00:00:00",
          "1991-10-31T00:00:00",
          "1991-11-06T00:00:00",
          "1991-12-02T00:00:00",
          "1991-12-17T00:00:00",
          "1992-02-05T00:00:00",
          "1992-03-31T00:00:00",
          "1992-04-09T00:00:00",
          "1992-05-19T00:00:00",
          "1992-07-02T00:00:00",
          "1992-08-18T00:00:00",
          "1992-09-04T00:00:00",
          "1992-10-06T00:00:00",
          "1992-11-17T00:00:00",
          "1992-12-22T00:00:00",
          "1993-02-03T00:00:00",
          "1993-03-23T00:00:00",
          "1993-05-18T00:00:00",
          "1993-07-07T00:00:00",
          "1993-08-17T00:00:00",
          "1993-09-21T00:00:00",
          "1993-11-01T00:00:00",
          "1993-12-21T00:00:00",
          "1994-02-04T00:00:00",
          "1994-03-22T00:00:00",
          "1994-04-18T00:00:00",
          "1994-05-17T00:00:00",
          "1994-07-06T00:00:00",
          "1994-08-16T00:00:00",
          "1994-09-27T00:00:00",
          "1994-11-15T00:00:00",
          "1994-12-20T00:00:00",
          "1995-01-31T00:00:00",
          "1995-02-01T00:00:00",
          "1995-03-28T00:00:00",
          "1995-05-23T00:00:00",
          "1995-07-06T00:00:00",
          "1995-08-22T00:00:00",
          "1995-09-26T00:00:00",
          "1995-11-15T00:00:00",
          "1995-12-19T00:00:00",
          "1996-01-31T00:00:00",
          "1996-03-26T00:00:00",
          "1996-05-21T00:00:00",
          "1996-07-03T00:00:00",
          "1996-08-20T00:00:00",
          "1996-09-24T00:00:00",
          "1996-11-13T00:00:00",
          "1996-12-17T00:00:00",
          "1997-02-05T00:00:00",
          "1997-03-25T00:00:00",
          "1997-05-20T00:00:00",
          "1997-07-02T00:00:00",
          "1997-08-19T00:00:00",
          "1997-09-30T00:00:00",
          "1997-11-12T00:00:00",
          "1997-12-16T00:00:00",
          "1998-02-04T00:00:00",
          "1998-03-31T00:00:00",
          "1998-05-19T00:00:00",
          "1998-07-01T00:00:00",
          "1998-08-18T00:00:00",
          "1998-09-29T00:00:00",
          "1998-10-15T00:00:00",
          "1998-11-17T00:00:00",
          "1998-12-22T00:00:00",
          "1999-02-03T00:00:00",
          "1999-03-30T00:00:00",
          "1999-05-18T00:00:00",
          "1999-06-30T00:00:00",
          "1999-08-24T00:00:00",
          "1999-10-05T00:00:00",
          "1999-11-16T00:00:00",
          "1999-12-21T00:00:00",
          "2000-02-02T00:00:00",
          "2000-03-21T00:00:00",
          "2000-05-16T00:00:00",
          "2000-06-28T00:00:00",
          "2000-08-22T00:00:00",
          "2000-10-03T00:00:00",
          "2000-11-15T00:00:00",
          "2000-12-19T00:00:00",
          "2001-01-03T00:00:00",
          "2001-01-31T00:00:00",
          "2001-03-20T00:00:00",
          "2001-04-18T00:00:00",
          "2001-05-15T00:00:00",
          "2001-06-27T00:00:00",
          "2001-08-21T00:00:00",
          "2001-09-17T00:00:00",
          "2001-10-02T00:00:00",
          "2001-11-06T00:00:00",
          "2001-12-11T00:00:00",
          "2002-01-30T00:00:00",
          "2002-03-19T00:00:00",
          "2002-05-07T00:00:00",
          "2002-06-26T00:00:00",
          "2002-08-13T00:00:00",
          "2002-09-24T00:00:00",
          "2002-11-06T00:00:00",
          "2002-12-10T00:00:00",
          "2003-03-18T00:00:00",
          "2003-03-25T00:00:00",
          "2003-05-06T00:00:00",
          "2003-06-25T00:00:00",
          "2003-06-29T00:00:00",
          "2003-08-12T00:00:00",
          "2003-09-16T00:00:00",
          "2003-10-28T00:00:00",
          "2003-12-09T00:00:00",
          "2004-01-28T00:00:00",
          "2004-03-16T00:00:00",
          "2004-05-04T00:00:00",
          "2004-06-30T00:00:00",
          "2004-08-10T00:00:00",
          "2004-09-21T00:00:00",
          "2004-11-10T00:00:00",
          "2004-12-14T00:00:00",
          "2005-02-02T00:00:00",
          "2005-03-22T00:00:00",
          "2005-05-03T00:00:00",
          "2005-06-30T00:00:00",
          "2005-08-09T00:00:00",
          "2005-09-20T00:00:00",
          "2005-11-01T00:00:00",
          "2005-12-13T00:00:00",
          "2006-01-31T00:00:00"
         ],
         "xaxis": "x",
         "y": [
          0,
          0,
          0.0075,
          -0.0044,
          0,
          -0.0056,
          0.0025,
          0,
          0,
          0.0163,
          0,
          0,
          0.0025,
          0,
          0,
          0,
          0,
          0,
          0,
          0,
          0.0012,
          0,
          0,
          0,
          -0.0025,
          0,
          -0.005,
          -0.0025,
          -0.0025,
          -0.005,
          -0.005,
          0,
          -0.0025,
          -0.0025,
          0,
          0,
          -0.0025,
          0,
          -0.0025,
          0,
          -0.0025,
          -0.0025,
          -0.0025,
          -0.005,
          0,
          0,
          -0.0025,
          0,
          -0.005,
          0.005,
          -0.0075,
          0,
          0,
          0,
          0,
          0,
          0,
          0,
          0,
          0,
          0,
          0,
          0.0025,
          0.0025,
          0.0025,
          0.005,
          0,
          0.005,
          0,
          0.0075,
          0,
          0,
          0.005,
          0,
          0,
          -0.0025,
          0,
          0,
          0,
          -0.0025,
          -0.0025,
          0,
          0,
          0,
          0,
          0,
          0,
          0,
          0,
          0.0025,
          0,
          0,
          0,
          0,
          0,
          0,
          0,
          0,
          0,
          0,
          0,
          -0.0025,
          -0.0025,
          -0.0025,
          0,
          0,
          0,
          0,
          0.0025,
          0.0025,
          0,
          0.0025,
          0,
          0.0025,
          0.0025,
          0.005,
          0,
          0,
          0,
          0,
          0,
          -0.005,
          -0.005,
          -0.005,
          -0.005,
          -0.005,
          -0.0025,
          -0.0025,
          -0.005,
          -0.005,
          -0.005,
          -0.0025,
          0,
          0,
          0,
          0,
          0,
          0,
          -0.005,
          0,
          0,
          0,
          0,
          -0.0025,
          0,
          0,
          0,
          0,
          0,
          0,
          0,
          0,
          0.0003,
          0.0047,
          0.0025,
          0.0025,
          0.0025,
          0.0025,
          0.0025,
          0.0025,
          0.0025,
          0.0025,
          0.0025,
          0.0025,
          0.0025,
          0.0025
         ],
         "yaxis": "y"
        },
        {
         "hovertemplate": "fed_chair=Ben Bernanke<br>event_date=%{x}<br>rate_change=%{y}<extra></extra>",
         "legendgroup": "Ben Bernanke",
         "marker": {
          "color": "#00cc96",
          "symbol": "circle"
         },
         "mode": "markers",
         "name": "Ben Bernanke",
         "orientation": "v",
         "showlegend": true,
         "type": "scatter",
         "x": [
          "2006-03-28T00:00:00",
          "2006-05-10T00:00:00",
          "2006-06-29T00:00:00",
          "2006-08-08T00:00:00",
          "2006-09-20T00:00:00",
          "2006-10-25T00:00:00",
          "2006-12-12T00:00:00",
          "2007-01-31T00:00:00",
          "2007-03-21T00:00:00",
          "2007-05-09T00:00:00",
          "2007-06-28T00:00:00",
          "2007-08-07T00:00:00",
          "2007-09-18T00:00:00",
          "2007-10-31T00:00:00",
          "2007-12-11T00:00:00",
          "2008-01-22T00:00:00",
          "2008-01-30T00:00:00",
          "2008-03-18T00:00:00",
          "2008-04-30T00:00:00",
          "2008-06-25T00:00:00",
          "2008-08-05T00:00:00",
          "2008-09-16T00:00:00",
          "2008-10-08T00:00:00",
          "2008-11-29T00:00:00",
          "2008-12-16T00:00:00",
          "2009-01-28T00:00:00",
          "2009-03-18T00:00:00",
          "2009-04-29T00:00:00",
          "2009-06-24T00:00:00",
          "2009-08-12T00:00:00",
          "2009-09-23T00:00:00",
          "2009-11-04T00:00:00",
          "2009-12-16T00:00:00",
          "2010-01-27T00:00:00",
          "2010-03-16T00:00:00",
          "2010-04-28T00:00:00",
          "2010-06-23T00:00:00",
          "2010-08-10T00:00:00",
          "2010-09-21T00:00:00",
          "2010-11-03T00:00:00",
          "2010-12-14T00:00:00",
          "2011-01-26T00:00:00",
          "2011-03-15T00:00:00",
          "2011-04-27T00:00:00",
          "2011-06-22T00:00:00",
          "2011-08-09T00:00:00",
          "2011-09-21T00:00:00",
          "2011-11-02T00:00:00",
          "2011-12-13T00:00:00",
          "2012-01-25T00:00:00",
          "2012-03-13T00:00:00",
          "2012-04-25T00:00:00",
          "2012-06-20T00:00:00",
          "2012-08-01T00:00:00",
          "2012-09-13T00:00:00",
          "2012-10-24T00:00:00",
          "2012-12-12T00:00:00",
          "2013-01-30T00:00:00",
          "2013-03-20T00:00:00",
          "2013-05-01T00:00:00",
          "2013-06-19T00:00:00",
          "2013-07-31T00:00:00",
          "2013-09-18T00:00:00",
          "2013-10-30T00:00:00",
          "2013-12-18T00:00:00",
          "2014-01-29T00:00:00",
          "2014-03-04T00:00:00",
          "2014-03-19T00:00:00",
          "2014-04-30T00:00:00",
          "2014-06-18T00:00:00",
          "2014-07-30T00:00:00",
          "2014-09-17T00:00:00",
          "2014-10-29T00:00:00",
          "2014-12-17T00:00:00",
          "2015-01-28T00:00:00",
          "2015-03-16T00:00:00",
          "2015-03-18T00:00:00",
          "2015-04-29T00:00:00",
          "2015-06-17T00:00:00",
          "2015-07-29T00:00:00",
          "2015-09-17T00:00:00",
          "2015-10-28T00:00:00"
         ],
         "xaxis": "x",
         "y": [
          0.0025,
          0.0025,
          0.0025,
          0,
          0,
          0,
          0,
          0,
          0,
          0,
          0,
          0,
          -0.005,
          -0.0025,
          -0.0025,
          -0.0075,
          -0.005,
          -0.0075,
          -0.0025,
          0,
          0,
          0,
          -0.005,
          -0.005,
          -0.0075,
          0,
          0,
          0,
          0,
          0,
          0,
          0,
          0,
          0,
          0,
          0,
          0,
          0,
          0,
          0,
          0,
          0,
          0,
          0,
          0,
          0,
          0,
          0,
          0,
          0,
          0,
          0,
          0,
          0,
          0,
          0,
          0,
          0,
          0,
          0,
          0,
          0,
          0,
          0,
          0,
          0,
          0,
          0,
          0,
          0,
          0,
          0,
          0,
          0,
          0,
          0,
          0,
          0,
          0,
          0,
          0,
          0
         ],
         "yaxis": "y"
        },
        {
         "hovertemplate": "fed_chair=Janet Yellen<br>event_date=%{x}<br>rate_change=%{y}<extra></extra>",
         "legendgroup": "Janet Yellen",
         "marker": {
          "color": "#ab63fa",
          "symbol": "circle"
         },
         "mode": "markers",
         "name": "Janet Yellen",
         "orientation": "v",
         "showlegend": true,
         "type": "scatter",
         "x": [
          "2015-12-17T00:00:00",
          "2016-01-27T00:00:00",
          "2016-04-16T00:00:00",
          "2016-06-15T00:00:00",
          "2016-07-27T00:00:00",
          "2016-09-21T00:00:00",
          "2016-09-21T00:00:00",
          "2016-11-02T00:00:00",
          "2016-12-15T00:00:00",
          "2017-02-01T00:00:00",
          "2017-03-16T00:00:00",
          "2017-05-03T00:00:00",
          "2017-06-15T00:00:00",
          "2017-07-26T00:00:00",
          "2017-09-20T00:00:00",
          "2017-11-01T00:00:00",
          "2017-12-14T00:00:00",
          "2018-01-31T00:00:00"
         ],
         "xaxis": "x",
         "y": [
          0.0025,
          0,
          0,
          0,
          0,
          0,
          0,
          0,
          0.0025,
          0,
          0.0025,
          0,
          0.0025,
          0,
          0,
          0,
          0.0025,
          0
         ],
         "yaxis": "y"
        },
        {
         "hovertemplate": "fed_chair=Jerome Powell<br>event_date=%{x}<br>rate_change=%{y}<extra></extra>",
         "legendgroup": "Jerome Powell",
         "marker": {
          "color": "#FFA15A",
          "symbol": "circle"
         },
         "mode": "markers",
         "name": "Jerome Powell",
         "orientation": "v",
         "showlegend": true,
         "type": "scatter",
         "x": [
          "2018-03-22T00:00:00",
          "2018-05-02T00:00:00",
          "2018-06-14T00:00:00",
          "2018-08-01T00:00:00",
          "2018-09-27T00:00:00",
          "2018-11-08T00:00:00",
          "2018-12-20T00:00:00",
          "2019-01-30T00:00:00",
          "2019-03-20T00:00:00",
          "2019-05-01T00:00:00",
          "2019-06-19T00:00:00",
          "2019-08-01T00:00:00",
          "2019-09-19T00:00:00",
          "2019-10-04T00:00:00",
          "2019-10-31T00:00:00",
          "2019-12-11T00:00:00",
          "2020-01-29T00:00:00",
          "2020-03-03T00:00:00",
          "2020-04-29T00:00:00",
          "2020-06-10T00:00:00",
          "2020-07-29T00:00:00",
          "2020-08-27T00:00:00",
          "2020-09-16T00:00:00",
          "2020-11-05T00:00:00",
          "2020-12-16T00:00:00",
          "2021-01-27T00:00:00",
          "2021-03-17T00:00:00",
          "2021-04-28T00:00:00",
          "2021-06-16T00:00:00",
          "2021-07-28T00:00:00",
          "2021-09-22T00:00:00",
          "2021-11-04T00:00:00",
          "2021-12-15T00:00:00",
          "2022-01-26T00:00:00",
          "2022-03-16T00:00:00"
         ],
         "xaxis": "x",
         "y": [
          0.0025,
          0,
          0.0025,
          0,
          0.0025,
          0,
          0.0025,
          0,
          0,
          0,
          0,
          -0.0025,
          -0.0025,
          0,
          -0.0025,
          0,
          0,
          -0.005,
          -0.01,
          0,
          0,
          0,
          0,
          0,
          0,
          0,
          0,
          0,
          0,
          0,
          0,
          0,
          0,
          0,
          0.0025
         ],
         "yaxis": "y"
        }
       ],
       "layout": {
        "autosize": true,
        "legend": {
         "title": {
          "text": "fed_chair"
         },
         "tracegroupgap": 0
        },
        "template": {
         "data": {
          "bar": [
           {
            "error_x": {
             "color": "#2a3f5f"
            },
            "error_y": {
             "color": "#2a3f5f"
            },
            "marker": {
             "line": {
              "color": "#E5ECF6",
              "width": 0.5
             },
             "pattern": {
              "fillmode": "overlay",
              "size": 10,
              "solidity": 0.2
             }
            },
            "type": "bar"
           }
          ],
          "barpolar": [
           {
            "marker": {
             "line": {
              "color": "#E5ECF6",
              "width": 0.5
             },
             "pattern": {
              "fillmode": "overlay",
              "size": 10,
              "solidity": 0.2
             }
            },
            "type": "barpolar"
           }
          ],
          "carpet": [
           {
            "aaxis": {
             "endlinecolor": "#2a3f5f",
             "gridcolor": "white",
             "linecolor": "white",
             "minorgridcolor": "white",
             "startlinecolor": "#2a3f5f"
            },
            "baxis": {
             "endlinecolor": "#2a3f5f",
             "gridcolor": "white",
             "linecolor": "white",
             "minorgridcolor": "white",
             "startlinecolor": "#2a3f5f"
            },
            "type": "carpet"
           }
          ],
          "choropleth": [
           {
            "colorbar": {
             "outlinewidth": 0,
             "ticks": ""
            },
            "type": "choropleth"
           }
          ],
          "contour": [
           {
            "colorbar": {
             "outlinewidth": 0,
             "ticks": ""
            },
            "colorscale": [
             [
              0,
              "#0d0887"
             ],
             [
              0.1111111111111111,
              "#46039f"
             ],
             [
              0.2222222222222222,
              "#7201a8"
             ],
             [
              0.3333333333333333,
              "#9c179e"
             ],
             [
              0.4444444444444444,
              "#bd3786"
             ],
             [
              0.5555555555555556,
              "#d8576b"
             ],
             [
              0.6666666666666666,
              "#ed7953"
             ],
             [
              0.7777777777777778,
              "#fb9f3a"
             ],
             [
              0.8888888888888888,
              "#fdca26"
             ],
             [
              1,
              "#f0f921"
             ]
            ],
            "type": "contour"
           }
          ],
          "contourcarpet": [
           {
            "colorbar": {
             "outlinewidth": 0,
             "ticks": ""
            },
            "type": "contourcarpet"
           }
          ],
          "heatmap": [
           {
            "colorbar": {
             "outlinewidth": 0,
             "ticks": ""
            },
            "colorscale": [
             [
              0,
              "#0d0887"
             ],
             [
              0.1111111111111111,
              "#46039f"
             ],
             [
              0.2222222222222222,
              "#7201a8"
             ],
             [
              0.3333333333333333,
              "#9c179e"
             ],
             [
              0.4444444444444444,
              "#bd3786"
             ],
             [
              0.5555555555555556,
              "#d8576b"
             ],
             [
              0.6666666666666666,
              "#ed7953"
             ],
             [
              0.7777777777777778,
              "#fb9f3a"
             ],
             [
              0.8888888888888888,
              "#fdca26"
             ],
             [
              1,
              "#f0f921"
             ]
            ],
            "type": "heatmap"
           }
          ],
          "heatmapgl": [
           {
            "colorbar": {
             "outlinewidth": 0,
             "ticks": ""
            },
            "colorscale": [
             [
              0,
              "#0d0887"
             ],
             [
              0.1111111111111111,
              "#46039f"
             ],
             [
              0.2222222222222222,
              "#7201a8"
             ],
             [
              0.3333333333333333,
              "#9c179e"
             ],
             [
              0.4444444444444444,
              "#bd3786"
             ],
             [
              0.5555555555555556,
              "#d8576b"
             ],
             [
              0.6666666666666666,
              "#ed7953"
             ],
             [
              0.7777777777777778,
              "#fb9f3a"
             ],
             [
              0.8888888888888888,
              "#fdca26"
             ],
             [
              1,
              "#f0f921"
             ]
            ],
            "type": "heatmapgl"
           }
          ],
          "histogram": [
           {
            "marker": {
             "pattern": {
              "fillmode": "overlay",
              "size": 10,
              "solidity": 0.2
             }
            },
            "type": "histogram"
           }
          ],
          "histogram2d": [
           {
            "colorbar": {
             "outlinewidth": 0,
             "ticks": ""
            },
            "colorscale": [
             [
              0,
              "#0d0887"
             ],
             [
              0.1111111111111111,
              "#46039f"
             ],
             [
              0.2222222222222222,
              "#7201a8"
             ],
             [
              0.3333333333333333,
              "#9c179e"
             ],
             [
              0.4444444444444444,
              "#bd3786"
             ],
             [
              0.5555555555555556,
              "#d8576b"
             ],
             [
              0.6666666666666666,
              "#ed7953"
             ],
             [
              0.7777777777777778,
              "#fb9f3a"
             ],
             [
              0.8888888888888888,
              "#fdca26"
             ],
             [
              1,
              "#f0f921"
             ]
            ],
            "type": "histogram2d"
           }
          ],
          "histogram2dcontour": [
           {
            "colorbar": {
             "outlinewidth": 0,
             "ticks": ""
            },
            "colorscale": [
             [
              0,
              "#0d0887"
             ],
             [
              0.1111111111111111,
              "#46039f"
             ],
             [
              0.2222222222222222,
              "#7201a8"
             ],
             [
              0.3333333333333333,
              "#9c179e"
             ],
             [
              0.4444444444444444,
              "#bd3786"
             ],
             [
              0.5555555555555556,
              "#d8576b"
             ],
             [
              0.6666666666666666,
              "#ed7953"
             ],
             [
              0.7777777777777778,
              "#fb9f3a"
             ],
             [
              0.8888888888888888,
              "#fdca26"
             ],
             [
              1,
              "#f0f921"
             ]
            ],
            "type": "histogram2dcontour"
           }
          ],
          "mesh3d": [
           {
            "colorbar": {
             "outlinewidth": 0,
             "ticks": ""
            },
            "type": "mesh3d"
           }
          ],
          "parcoords": [
           {
            "line": {
             "colorbar": {
              "outlinewidth": 0,
              "ticks": ""
             }
            },
            "type": "parcoords"
           }
          ],
          "pie": [
           {
            "automargin": true,
            "type": "pie"
           }
          ],
          "scatter": [
           {
            "marker": {
             "colorbar": {
              "outlinewidth": 0,
              "ticks": ""
             }
            },
            "type": "scatter"
           }
          ],
          "scatter3d": [
           {
            "line": {
             "colorbar": {
              "outlinewidth": 0,
              "ticks": ""
             }
            },
            "marker": {
             "colorbar": {
              "outlinewidth": 0,
              "ticks": ""
             }
            },
            "type": "scatter3d"
           }
          ],
          "scattercarpet": [
           {
            "marker": {
             "colorbar": {
              "outlinewidth": 0,
              "ticks": ""
             }
            },
            "type": "scattercarpet"
           }
          ],
          "scattergeo": [
           {
            "marker": {
             "colorbar": {
              "outlinewidth": 0,
              "ticks": ""
             }
            },
            "type": "scattergeo"
           }
          ],
          "scattergl": [
           {
            "marker": {
             "colorbar": {
              "outlinewidth": 0,
              "ticks": ""
             }
            },
            "type": "scattergl"
           }
          ],
          "scattermapbox": [
           {
            "marker": {
             "colorbar": {
              "outlinewidth": 0,
              "ticks": ""
             }
            },
            "type": "scattermapbox"
           }
          ],
          "scatterpolar": [
           {
            "marker": {
             "colorbar": {
              "outlinewidth": 0,
              "ticks": ""
             }
            },
            "type": "scatterpolar"
           }
          ],
          "scatterpolargl": [
           {
            "marker": {
             "colorbar": {
              "outlinewidth": 0,
              "ticks": ""
             }
            },
            "type": "scatterpolargl"
           }
          ],
          "scatterternary": [
           {
            "marker": {
             "colorbar": {
              "outlinewidth": 0,
              "ticks": ""
             }
            },
            "type": "scatterternary"
           }
          ],
          "surface": [
           {
            "colorbar": {
             "outlinewidth": 0,
             "ticks": ""
            },
            "colorscale": [
             [
              0,
              "#0d0887"
             ],
             [
              0.1111111111111111,
              "#46039f"
             ],
             [
              0.2222222222222222,
              "#7201a8"
             ],
             [
              0.3333333333333333,
              "#9c179e"
             ],
             [
              0.4444444444444444,
              "#bd3786"
             ],
             [
              0.5555555555555556,
              "#d8576b"
             ],
             [
              0.6666666666666666,
              "#ed7953"
             ],
             [
              0.7777777777777778,
              "#fb9f3a"
             ],
             [
              0.8888888888888888,
              "#fdca26"
             ],
             [
              1,
              "#f0f921"
             ]
            ],
            "type": "surface"
           }
          ],
          "table": [
           {
            "cells": {
             "fill": {
              "color": "#EBF0F8"
             },
             "line": {
              "color": "white"
             }
            },
            "header": {
             "fill": {
              "color": "#C8D4E3"
             },
             "line": {
              "color": "white"
             }
            },
            "type": "table"
           }
          ]
         },
         "layout": {
          "annotationdefaults": {
           "arrowcolor": "#2a3f5f",
           "arrowhead": 0,
           "arrowwidth": 1
          },
          "autotypenumbers": "strict",
          "coloraxis": {
           "colorbar": {
            "outlinewidth": 0,
            "ticks": ""
           }
          },
          "colorscale": {
           "diverging": [
            [
             0,
             "#8e0152"
            ],
            [
             0.1,
             "#c51b7d"
            ],
            [
             0.2,
             "#de77ae"
            ],
            [
             0.3,
             "#f1b6da"
            ],
            [
             0.4,
             "#fde0ef"
            ],
            [
             0.5,
             "#f7f7f7"
            ],
            [
             0.6,
             "#e6f5d0"
            ],
            [
             0.7,
             "#b8e186"
            ],
            [
             0.8,
             "#7fbc41"
            ],
            [
             0.9,
             "#4d9221"
            ],
            [
             1,
             "#276419"
            ]
           ],
           "sequential": [
            [
             0,
             "#0d0887"
            ],
            [
             0.1111111111111111,
             "#46039f"
            ],
            [
             0.2222222222222222,
             "#7201a8"
            ],
            [
             0.3333333333333333,
             "#9c179e"
            ],
            [
             0.4444444444444444,
             "#bd3786"
            ],
            [
             0.5555555555555556,
             "#d8576b"
            ],
            [
             0.6666666666666666,
             "#ed7953"
            ],
            [
             0.7777777777777778,
             "#fb9f3a"
            ],
            [
             0.8888888888888888,
             "#fdca26"
            ],
            [
             1,
             "#f0f921"
            ]
           ],
           "sequentialminus": [
            [
             0,
             "#0d0887"
            ],
            [
             0.1111111111111111,
             "#46039f"
            ],
            [
             0.2222222222222222,
             "#7201a8"
            ],
            [
             0.3333333333333333,
             "#9c179e"
            ],
            [
             0.4444444444444444,
             "#bd3786"
            ],
            [
             0.5555555555555556,
             "#d8576b"
            ],
            [
             0.6666666666666666,
             "#ed7953"
            ],
            [
             0.7777777777777778,
             "#fb9f3a"
            ],
            [
             0.8888888888888888,
             "#fdca26"
            ],
            [
             1,
             "#f0f921"
            ]
           ]
          },
          "colorway": [
           "#636efa",
           "#EF553B",
           "#00cc96",
           "#ab63fa",
           "#FFA15A",
           "#19d3f3",
           "#FF6692",
           "#B6E880",
           "#FF97FF",
           "#FECB52"
          ],
          "font": {
           "color": "#2a3f5f"
          },
          "geo": {
           "bgcolor": "white",
           "lakecolor": "white",
           "landcolor": "#E5ECF6",
           "showlakes": true,
           "showland": true,
           "subunitcolor": "white"
          },
          "hoverlabel": {
           "align": "left"
          },
          "hovermode": "closest",
          "mapbox": {
           "style": "light"
          },
          "paper_bgcolor": "white",
          "plot_bgcolor": "#E5ECF6",
          "polar": {
           "angularaxis": {
            "gridcolor": "white",
            "linecolor": "white",
            "ticks": ""
           },
           "bgcolor": "#E5ECF6",
           "radialaxis": {
            "gridcolor": "white",
            "linecolor": "white",
            "ticks": ""
           }
          },
          "scene": {
           "xaxis": {
            "backgroundcolor": "#E5ECF6",
            "gridcolor": "white",
            "gridwidth": 2,
            "linecolor": "white",
            "showbackground": true,
            "ticks": "",
            "zerolinecolor": "white"
           },
           "yaxis": {
            "backgroundcolor": "#E5ECF6",
            "gridcolor": "white",
            "gridwidth": 2,
            "linecolor": "white",
            "showbackground": true,
            "ticks": "",
            "zerolinecolor": "white"
           },
           "zaxis": {
            "backgroundcolor": "#E5ECF6",
            "gridcolor": "white",
            "gridwidth": 2,
            "linecolor": "white",
            "showbackground": true,
            "ticks": "",
            "zerolinecolor": "white"
           }
          },
          "shapedefaults": {
           "line": {
            "color": "#2a3f5f"
           }
          },
          "ternary": {
           "aaxis": {
            "gridcolor": "white",
            "linecolor": "white",
            "ticks": ""
           },
           "baxis": {
            "gridcolor": "white",
            "linecolor": "white",
            "ticks": ""
           },
           "bgcolor": "#E5ECF6",
           "caxis": {
            "gridcolor": "white",
            "linecolor": "white",
            "ticks": ""
           }
          },
          "title": {
           "x": 0.05
          },
          "xaxis": {
           "automargin": true,
           "gridcolor": "white",
           "linecolor": "white",
           "ticks": "",
           "title": {
            "standoff": 15
           },
           "zerolinecolor": "white",
           "zerolinewidth": 2
          },
          "yaxis": {
           "automargin": true,
           "gridcolor": "white",
           "linecolor": "white",
           "ticks": "",
           "title": {
            "standoff": 15
           },
           "zerolinecolor": "white",
           "zerolinewidth": 2
          }
         }
        },
        "title": {
         "text": "Rate Change"
        },
        "xaxis": {
         "anchor": "y",
         "autorange": true,
         "domain": [
          0,
          1
         ],
         "range": [
          "1985-04-13 14:25:31.9149",
          "2024-04-19 09:34:28.0851"
         ],
         "title": {
          "text": "event_date"
         },
         "type": "date"
        },
        "yaxis": {
         "anchor": "x",
         "autorange": true,
         "domain": [
          0,
          1
         ],
         "range": [
          -0.012170388349514564,
          0.01847038834951456
         ],
         "title": {
          "text": "rate_change"
         },
         "type": "linear"
        }
       }
      },
      "image/png": "[encoded data removed]",
      "text/html": [
       "<div>                            <div id=\"dc5ba161-135e-41c0-bb03-cf9295f9c6f6\" class=\"plotly-graph-div\" style=\"height:525px; width:100%;\"></div>            <script type=\"text/javascript\">                require([\"plotly\"], function(Plotly) {                    window.PLOTLYENV=window.PLOTLYENV || {};                                    if (document.getElementById(\"dc5ba161-135e-41c0-bb03-cf9295f9c6f6\")) {                    Plotly.newPlot(                        \"dc5ba161-135e-41c0-bb03-cf9295f9c6f6\",                        [{\"hovertemplate\":\"fed_chair=Paul Volcker<br>event_date=%{x}<br>rate_change=%{y}<extra></extra>\",\"legendgroup\":\"Paul Volcker\",\"marker\":{\"color\":\"#636efa\",\"symbol\":\"circle\"},\"mode\":\"markers\",\"name\":\"Paul Volcker\",\"orientation\":\"v\",\"showlegend\":true,\"x\":[\"1987-05-19T00:00:00\"],\"xaxis\":\"x\",\"y\":[0.0062],\"yaxis\":\"y\",\"type\":\"scatter\"},{\"hovertemplate\":\"fed_chair=Alan\\u00a0Greenspan<br>event_date=%{x}<br>rate_change=%{y}<extra></extra>\",\"legendgroup\":\"Alan\\u00a0Greenspan\",\"marker\":{\"color\":\"#EF553B\",\"symbol\":\"circle\"},\"mode\":\"markers\",\"name\":\"Alan\\u00a0Greenspan\",\"orientation\":\"v\",\"showlegend\":true,\"x\":[\"1987-07-07T00:00:00\",\"1987-08-18T00:00:00\",\"1987-09-22T00:00:00\",\"1987-11-04T00:00:00\",\"1987-12-15T00:00:00\",\"1988-02-10T00:00:00\",\"1988-03-29T00:00:00\",\"1988-05-17T00:00:00\",\"1988-06-30T00:00:00\",\"1988-08-16T00:00:00\",\"1988-09-20T00:00:00\",\"1988-11-01T00:00:00\",\"1988-12-14T00:00:00\",\"1989-02-08T00:00:00\",\"1989-03-28T00:00:00\",\"1989-05-16T00:00:00\",\"1989-07-06T00:00:00\",\"1989-08-22T00:00:00\",\"1989-10-03T00:00:00\",\"1989-11-14T00:00:00\",\"1989-12-19T00:00:00\",\"1990-02-07T00:00:00\",\"1990-03-27T00:00:00\",\"1990-05-15T00:00:00\",\"1990-07-03T00:00:00\",\"1990-08-21T00:00:00\",\"1990-10-02T00:00:00\",\"1990-11-13T00:00:00\",\"1990-12-18T00:00:00\",\"1991-01-09T00:00:00\",\"1991-02-01T00:00:00\",\"1991-02-06T00:00:00\",\"1991-03-08T00:00:00\",\"1991-04-30T00:00:00\",\"1991-05-14T00:00:00\",\"1991-07-03T00:00:00\",\"1991-08-06T00:00:00\",\"1991-08-20T00:00:00\",\"1991-09-13T00:00:00\",\"1991-10-01T00:00:00\",\"1991-10-31T00:00:00\",\"1991-11-06T00:00:00\",\"1991-12-02T00:00:00\",\"1991-12-17T00:00:00\",\"1992-02-05T00:00:00\",\"1992-03-31T00:00:00\",\"1992-04-09T00:00:00\",\"1992-05-19T00:00:00\",\"1992-07-02T00:00:00\",\"1992-08-18T00:00:00\",\"1992-09-04T00:00:00\",\"1992-10-06T00:00:00\",\"1992-11-17T00:00:00\",\"1992-12-22T00:00:00\",\"1993-02-03T00:00:00\",\"1993-03-23T00:00:00\",\"1993-05-18T00:00:00\",\"1993-07-07T00:00:00\",\"1993-08-17T00:00:00\",\"1993-09-21T00:00:00\",\"1993-11-01T00:00:00\",\"1993-12-21T00:00:00\",\"1994-02-04T00:00:00\",\"1994-03-22T00:00:00\",\"1994-04-18T00:00:00\",\"1994-05-17T00:00:00\",\"1994-07-06T00:00:00\",\"1994-08-16T00:00:00\",\"1994-09-27T00:00:00\",\"1994-11-15T00:00:00\",\"1994-12-20T00:00:00\",\"1995-01-31T00:00:00\",\"1995-02-01T00:00:00\",\"1995-03-28T00:00:00\",\"1995-05-23T00:00:00\",\"1995-07-06T00:00:00\",\"1995-08-22T00:00:00\",\"1995-09-26T00:00:00\",\"1995-11-15T00:00:00\",\"1995-12-19T00:00:00\",\"1996-01-31T00:00:00\",\"1996-03-26T00:00:00\",\"1996-05-21T00:00:00\",\"1996-07-03T00:00:00\",\"1996-08-20T00:00:00\",\"1996-09-24T00:00:00\",\"1996-11-13T00:00:00\",\"1996-12-17T00:00:00\",\"1997-02-05T00:00:00\",\"1997-03-25T00:00:00\",\"1997-05-20T00:00:00\",\"1997-07-02T00:00:00\",\"1997-08-19T00:00:00\",\"1997-09-30T00:00:00\",\"1997-11-12T00:00:00\",\"1997-12-16T00:00:00\",\"1998-02-04T00:00:00\",\"1998-03-31T00:00:00\",\"1998-05-19T00:00:00\",\"1998-07-01T00:00:00\",\"1998-08-18T00:00:00\",\"1998-09-29T00:00:00\",\"1998-10-15T00:00:00\",\"1998-11-17T00:00:00\",\"1998-12-22T00:00:00\",\"1999-02-03T00:00:00\",\"1999-03-30T00:00:00\",\"1999-05-18T00:00:00\",\"1999-06-30T00:00:00\",\"1999-08-24T00:00:00\",\"1999-10-05T00:00:00\",\"1999-11-16T00:00:00\",\"1999-12-21T00:00:00\",\"2000-02-02T00:00:00\",\"2000-03-21T00:00:00\",\"2000-05-16T00:00:00\",\"2000-06-28T00:00:00\",\"2000-08-22T00:00:00\",\"2000-10-03T00:00:00\",\"2000-11-15T00:00:00\",\"2000-12-19T00:00:00\",\"2001-01-03T00:00:00\",\"2001-01-31T00:00:00\",\"2001-03-20T00:00:00\",\"2001-04-18T00:00:00\",\"2001-05-15T00:00:00\",\"2001-06-27T00:00:00\",\"2001-08-21T00:00:00\",\"2001-09-17T00:00:00\",\"2001-10-02T00:00:00\",\"2001-11-06T00:00:00\",\"2001-12-11T00:00:00\",\"2002-01-30T00:00:00\",\"2002-03-19T00:00:00\",\"2002-05-07T00:00:00\",\"2002-06-26T00:00:00\",\"2002-08-13T00:00:00\",\"2002-09-24T00:00:00\",\"2002-11-06T00:00:00\",\"2002-12-10T00:00:00\",\"2003-03-18T00:00:00\",\"2003-03-25T00:00:00\",\"2003-05-06T00:00:00\",\"2003-06-25T00:00:00\",\"2003-06-29T00:00:00\",\"2003-08-12T00:00:00\",\"2003-09-16T00:00:00\",\"2003-10-28T00:00:00\",\"2003-12-09T00:00:00\",\"2004-01-28T00:00:00\",\"2004-03-16T00:00:00\",\"2004-05-04T00:00:00\",\"2004-06-30T00:00:00\",\"2004-08-10T00:00:00\",\"2004-09-21T00:00:00\",\"2004-11-10T00:00:00\",\"2004-12-14T00:00:00\",\"2005-02-02T00:00:00\",\"2005-03-22T00:00:00\",\"2005-05-03T00:00:00\",\"2005-06-30T00:00:00\",\"2005-08-09T00:00:00\",\"2005-09-20T00:00:00\",\"2005-11-01T00:00:00\",\"2005-12-13T00:00:00\",\"2006-01-31T00:00:00\"],\"xaxis\":\"x\",\"y\":[0.0,0.0,0.0075,-0.0044,0.0,-0.0056,0.0025,0.0,0.0,0.0163,0.0,0.0,0.0025,0.0,0.0,0.0,0.0,0.0,0.0,0.0,0.0012,0.0,0.0,0.0,-0.0025,0.0,-0.005,-0.0025,-0.0025,-0.005,-0.005,0.0,-0.0025,-0.0025,0.0,0.0,-0.0025,0.0,-0.0025,0.0,-0.0025,-0.0025,-0.0025,-0.005,0.0,0.0,-0.0025,0.0,-0.005,0.005,-0.0075,0.0,0.0,0.0,0.0,0.0,0.0,0.0,0.0,0.0,0.0,0.0,0.0025,0.0025,0.0025,0.005,0.0,0.005,0.0,0.0075,0.0,0.0,0.005,0.0,0.0,-0.0025,0.0,0.0,0.0,-0.0025,-0.0025,0.0,0.0,0.0,0.0,0.0,0.0,0.0,0.0,0.0025,0.0,0.0,0.0,0.0,0.0,0.0,0.0,0.0,0.0,0.0,0.0,-0.0025,-0.0025,-0.0025,0.0,0.0,0.0,0.0,0.0025,0.0025,0.0,0.0025,0.0,0.0025,0.0025,0.005,0.0,0.0,0.0,0.0,0.0,-0.005,-0.005,-0.005,-0.005,-0.005,-0.0025,-0.0025,-0.005,-0.005,-0.005,-0.0025,0.0,0.0,0.0,0.0,0.0,0.0,-0.005,0.0,0.0,0.0,0.0,-0.0025,0.0,0.0,0.0,0.0,0.0,0.0,0.0,0.0,0.0003,0.0047,0.0025,0.0025,0.0025,0.0025,0.0025,0.0025,0.0025,0.0025,0.0025,0.0025,0.0025,0.0025],\"yaxis\":\"y\",\"type\":\"scatter\"},{\"hovertemplate\":\"fed_chair=Ben Bernanke<br>event_date=%{x}<br>rate_change=%{y}<extra></extra>\",\"legendgroup\":\"Ben Bernanke\",\"marker\":{\"color\":\"#00cc96\",\"symbol\":\"circle\"},\"mode\":\"markers\",\"name\":\"Ben Bernanke\",\"orientation\":\"v\",\"showlegend\":true,\"x\":[\"2006-03-28T00:00:00\",\"2006-05-10T00:00:00\",\"2006-06-29T00:00:00\",\"2006-08-08T00:00:00\",\"2006-09-20T00:00:00\",\"2006-10-25T00:00:00\",\"2006-12-12T00:00:00\",\"2007-01-31T00:00:00\",\"2007-03-21T00:00:00\",\"2007-05-09T00:00:00\",\"2007-06-28T00:00:00\",\"2007-08-07T00:00:00\",\"2007-09-18T00:00:00\",\"2007-10-31T00:00:00\",\"2007-12-11T00:00:00\",\"2008-01-22T00:00:00\",\"2008-01-30T00:00:00\",\"2008-03-18T00:00:00\",\"2008-04-30T00:00:00\",\"2008-06-25T00:00:00\",\"2008-08-05T00:00:00\",\"2008-09-16T00:00:00\",\"2008-10-08T00:00:00\",\"2008-11-29T00:00:00\",\"2008-12-16T00:00:00\",\"2009-01-28T00:00:00\",\"2009-03-18T00:00:00\",\"2009-04-29T00:00:00\",\"2009-06-24T00:00:00\",\"2009-08-12T00:00:00\",\"2009-09-23T00:00:00\",\"2009-11-04T00:00:00\",\"2009-12-16T00:00:00\",\"2010-01-27T00:00:00\",\"2010-03-16T00:00:00\",\"2010-04-28T00:00:00\",\"2010-06-23T00:00:00\",\"2010-08-10T00:00:00\",\"2010-09-21T00:00:00\",\"2010-11-03T00:00:00\",\"2010-12-14T00:00:00\",\"2011-01-26T00:00:00\",\"2011-03-15T00:00:00\",\"2011-04-27T00:00:00\",\"2011-06-22T00:00:00\",\"2011-08-09T00:00:00\",\"2011-09-21T00:00:00\",\"2011-11-02T00:00:00\",\"2011-12-13T00:00:00\",\"2012-01-25T00:00:00\",\"2012-03-13T00:00:00\",\"2012-04-25T00:00:00\",\"2012-06-20T00:00:00\",\"2012-08-01T00:00:00\",\"2012-09-13T00:00:00\",\"2012-10-24T00:00:00\",\"2012-12-12T00:00:00\",\"2013-01-30T00:00:00\",\"2013-03-20T00:00:00\",\"2013-05-01T00:00:00\",\"2013-06-19T00:00:00\",\"2013-07-31T00:00:00\",\"2013-09-18T00:00:00\",\"2013-10-30T00:00:00\",\"2013-12-18T00:00:00\",\"2014-01-29T00:00:00\",\"2014-03-04T00:00:00\",\"2014-03-19T00:00:00\",\"2014-04-30T00:00:00\",\"2014-06-18T00:00:00\",\"2014-07-30T00:00:00\",\"2014-09-17T00:00:00\",\"2014-10-29T00:00:00\",\"2014-12-17T00:00:00\",\"2015-01-28T00:00:00\",\"2015-03-16T00:00:00\",\"2015-03-18T00:00:00\",\"2015-04-29T00:00:00\",\"2015-06-17T00:00:00\",\"2015-07-29T00:00:00\",\"2015-09-17T00:00:00\",\"2015-10-28T00:00:00\"],\"xaxis\":\"x\",\"y\":[0.0025,0.0025,0.0025,0.0,0.0,0.0,0.0,0.0,0.0,0.0,0.0,0.0,-0.005,-0.0025,-0.0025,-0.0075,-0.005,-0.0075,-0.0025,0.0,0.0,0.0,-0.005,-0.005,-0.0075,0.0,0.0,0.0,0.0,0.0,0.0,0.0,0.0,0.0,0.0,0.0,0.0,0.0,0.0,0.0,0.0,0.0,0.0,0.0,0.0,0.0,0.0,0.0,0.0,0.0,0.0,0.0,0.0,0.0,0.0,0.0,0.0,0.0,0.0,0.0,0.0,0.0,0.0,0.0,0.0,0.0,0.0,0.0,0.0,0.0,0.0,0.0,0.0,0.0,0.0,0.0,0.0,0.0,0.0,0.0,0.0,0.0],\"yaxis\":\"y\",\"type\":\"scatter\"},{\"hovertemplate\":\"fed_chair=Janet Yellen<br>event_date=%{x}<br>rate_change=%{y}<extra></extra>\",\"legendgroup\":\"Janet Yellen\",\"marker\":{\"color\":\"#ab63fa\",\"symbol\":\"circle\"},\"mode\":\"markers\",\"name\":\"Janet Yellen\",\"orientation\":\"v\",\"showlegend\":true,\"x\":[\"2015-12-17T00:00:00\",\"2016-01-27T00:00:00\",\"2016-04-16T00:00:00\",\"2016-06-15T00:00:00\",\"2016-07-27T00:00:00\",\"2016-09-21T00:00:00\",\"2016-09-21T00:00:00\",\"2016-11-02T00:00:00\",\"2016-12-15T00:00:00\",\"2017-02-01T00:00:00\",\"2017-03-16T00:00:00\",\"2017-05-03T00:00:00\",\"2017-06-15T00:00:00\",\"2017-07-26T00:00:00\",\"2017-09-20T00:00:00\",\"2017-11-01T00:00:00\",\"2017-12-14T00:00:00\",\"2018-01-31T00:00:00\"],\"xaxis\":\"x\",\"y\":[0.0025,0.0,0.0,0.0,0.0,0.0,0.0,0.0,0.0025,0.0,0.0025,0.0,0.0025,0.0,0.0,0.0,0.0025,0.0],\"yaxis\":\"y\",\"type\":\"scatter\"},{\"hovertemplate\":\"fed_chair=Jerome Powell<br>event_date=%{x}<br>rate_change=%{y}<extra></extra>\",\"legendgroup\":\"Jerome Powell\",\"marker\":{\"color\":\"#FFA15A\",\"symbol\":\"circle\"},\"mode\":\"markers\",\"name\":\"Jerome Powell\",\"orientation\":\"v\",\"showlegend\":true,\"x\":[\"2018-03-22T00:00:00\",\"2018-05-02T00:00:00\",\"2018-06-14T00:00:00\",\"2018-08-01T00:00:00\",\"2018-09-27T00:00:00\",\"2018-11-08T00:00:00\",\"2018-12-20T00:00:00\",\"2019-01-30T00:00:00\",\"2019-03-20T00:00:00\",\"2019-05-01T00:00:00\",\"2019-06-19T00:00:00\",\"2019-08-01T00:00:00\",\"2019-09-19T00:00:00\",\"2019-10-04T00:00:00\",\"2019-10-31T00:00:00\",\"2019-12-11T00:00:00\",\"2020-01-29T00:00:00\",\"2020-03-03T00:00:00\",\"2020-04-29T00:00:00\",\"2020-06-10T00:00:00\",\"2020-07-29T00:00:00\",\"2020-08-27T00:00:00\",\"2020-09-16T00:00:00\",\"2020-11-05T00:00:00\",\"2020-12-16T00:00:00\",\"2021-01-27T00:00:00\",\"2021-03-17T00:00:00\",\"2021-04-28T00:00:00\",\"2021-06-16T00:00:00\",\"2021-07-28T00:00:00\",\"2021-09-22T00:00:00\",\"2021-11-04T00:00:00\",\"2021-12-15T00:00:00\",\"2022-01-26T00:00:00\",\"2022-03-16T00:00:00\"],\"xaxis\":\"x\",\"y\":[0.0025,0.0,0.0025,0.0,0.0025,0.0,0.0025,0.0,0.0,0.0,0.0,-0.0025,-0.0025,0.0,-0.0025,0.0,0.0,-0.005,-0.01,0.0,0.0,0.0,0.0,0.0,0.0,0.0,0.0,0.0,0.0,0.0,0.0,0.0,0.0,0.0,0.0025],\"yaxis\":\"y\",\"type\":\"scatter\"}],                        {\"template\":{\"data\":{\"bar\":[{\"error_x\":{\"color\":\"#2a3f5f\"},\"error_y\":{\"color\":\"#2a3f5f\"},\"marker\":{\"line\":{\"color\":\"#E5ECF6\",\"width\":0.5},\"pattern\":{\"fillmode\":\"overlay\",\"size\":10,\"solidity\":0.2}},\"type\":\"bar\"}],\"barpolar\":[{\"marker\":{\"line\":{\"color\":\"#E5ECF6\",\"width\":0.5},\"pattern\":{\"fillmode\":\"overlay\",\"size\":10,\"solidity\":0.2}},\"type\":\"barpolar\"}],\"carpet\":[{\"aaxis\":{\"endlinecolor\":\"#2a3f5f\",\"gridcolor\":\"white\",\"linecolor\":\"white\",\"minorgridcolor\":\"white\",\"startlinecolor\":\"#2a3f5f\"},\"baxis\":{\"endlinecolor\":\"#2a3f5f\",\"gridcolor\":\"white\",\"linecolor\":\"white\",\"minorgridcolor\":\"white\",\"startlinecolor\":\"#2a3f5f\"},\"type\":\"carpet\"}],\"choropleth\":[{\"colorbar\":{\"outlinewidth\":0,\"ticks\":\"\"},\"type\":\"choropleth\"}],\"contour\":[{\"colorbar\":{\"outlinewidth\":0,\"ticks\":\"\"},\"colorscale\":[[0.0,\"#0d0887\"],[0.1111111111111111,\"#46039f\"],[0.2222222222222222,\"#7201a8\"],[0.3333333333333333,\"#9c179e\"],[0.4444444444444444,\"#bd3786\"],[0.5555555555555556,\"#d8576b\"],[0.6666666666666666,\"#ed7953\"],[0.7777777777777778,\"#fb9f3a\"],[0.8888888888888888,\"#fdca26\"],[1.0,\"#f0f921\"]],\"type\":\"contour\"}],\"contourcarpet\":[{\"colorbar\":{\"outlinewidth\":0,\"ticks\":\"\"},\"type\":\"contourcarpet\"}],\"heatmap\":[{\"colorbar\":{\"outlinewidth\":0,\"ticks\":\"\"},\"colorscale\":[[0.0,\"#0d0887\"],[0.1111111111111111,\"#46039f\"],[0.2222222222222222,\"#7201a8\"],[0.3333333333333333,\"#9c179e\"],[0.4444444444444444,\"#bd3786\"],[0.5555555555555556,\"#d8576b\"],[0.6666666666666666,\"#ed7953\"],[0.7777777777777778,\"#fb9f3a\"],[0.8888888888888888,\"#fdca26\"],[1.0,\"#f0f921\"]],\"type\":\"heatmap\"}],\"heatmapgl\":[{\"colorbar\":{\"outlinewidth\":0,\"ticks\":\"\"},\"colorscale\":[[0.0,\"#0d0887\"],[0.1111111111111111,\"#46039f\"],[0.2222222222222222,\"#7201a8\"],[0.3333333333333333,\"#9c179e\"],[0.4444444444444444,\"#bd3786\"],[0.5555555555555556,\"#d8576b\"],[0.6666666666666666,\"#ed7953\"],[0.7777777777777778,\"#fb9f3a\"],[0.8888888888888888,\"#fdca26\"],[1.0,\"#f0f921\"]],\"type\":\"heatmapgl\"}],\"histogram\":[{\"marker\":{\"pattern\":{\"fillmode\":\"overlay\",\"size\":10,\"solidity\":0.2}},\"type\":\"histogram\"}],\"histogram2d\":[{\"colorbar\":{\"outlinewidth\":0,\"ticks\":\"\"},\"colorscale\":[[0.0,\"#0d0887\"],[0.1111111111111111,\"#46039f\"],[0.2222222222222222,\"#7201a8\"],[0.3333333333333333,\"#9c179e\"],[0.4444444444444444,\"#bd3786\"],[0.5555555555555556,\"#d8576b\"],[0.6666666666666666,\"#ed7953\"],[0.7777777777777778,\"#fb9f3a\"],[0.8888888888888888,\"#fdca26\"],[1.0,\"#f0f921\"]],\"type\":\"histogram2d\"}],\"histogram2dcontour\":[{\"colorbar\":{\"outlinewidth\":0,\"ticks\":\"\"},\"colorscale\":[[0.0,\"#0d0887\"],[0.1111111111111111,\"#46039f\"],[0.2222222222222222,\"#7201a8\"],[0.3333333333333333,\"#9c179e\"],[0.4444444444444444,\"#bd3786\"],[0.5555555555555556,\"#d8576b\"],[0.6666666666666666,\"#ed7953\"],[0.7777777777777778,\"#fb9f3a\"],[0.8888888888888888,\"#fdca26\"],[1.0,\"#f0f921\"]],\"type\":\"histogram2dcontour\"}],\"mesh3d\":[{\"colorbar\":{\"outlinewidth\":0,\"ticks\":\"\"},\"type\":\"mesh3d\"}],\"parcoords\":[{\"line\":{\"colorbar\":{\"outlinewidth\":0,\"ticks\":\"\"}},\"type\":\"parcoords\"}],\"pie\":[{\"automargin\":true,\"type\":\"pie\"}],\"scatter\":[{\"marker\":{\"colorbar\":{\"outlinewidth\":0,\"ticks\":\"\"}},\"type\":\"scatter\"}],\"scatter3d\":[{\"line\":{\"colorbar\":{\"outlinewidth\":0,\"ticks\":\"\"}},\"marker\":{\"colorbar\":{\"outlinewidth\":0,\"ticks\":\"\"}},\"type\":\"scatter3d\"}],\"scattercarpet\":[{\"marker\":{\"colorbar\":{\"outlinewidth\":0,\"ticks\":\"\"}},\"type\":\"scattercarpet\"}],\"scattergeo\":[{\"marker\":{\"colorbar\":{\"outlinewidth\":0,\"ticks\":\"\"}},\"type\":\"scattergeo\"}],\"scattergl\":[{\"marker\":{\"colorbar\":{\"outlinewidth\":0,\"ticks\":\"\"}},\"type\":\"scattergl\"}],\"scattermapbox\":[{\"marker\":{\"colorbar\":{\"outlinewidth\":0,\"ticks\":\"\"}},\"type\":\"scattermapbox\"}],\"scatterpolar\":[{\"marker\":{\"colorbar\":{\"outlinewidth\":0,\"ticks\":\"\"}},\"type\":\"scatterpolar\"}],\"scatterpolargl\":[{\"marker\":{\"colorbar\":{\"outlinewidth\":0,\"ticks\":\"\"}},\"type\":\"scatterpolargl\"}],\"scatterternary\":[{\"marker\":{\"colorbar\":{\"outlinewidth\":0,\"ticks\":\"\"}},\"type\":\"scatterternary\"}],\"surface\":[{\"colorbar\":{\"outlinewidth\":0,\"ticks\":\"\"},\"colorscale\":[[0.0,\"#0d0887\"],[0.1111111111111111,\"#46039f\"],[0.2222222222222222,\"#7201a8\"],[0.3333333333333333,\"#9c179e\"],[0.4444444444444444,\"#bd3786\"],[0.5555555555555556,\"#d8576b\"],[0.6666666666666666,\"#ed7953\"],[0.7777777777777778,\"#fb9f3a\"],[0.8888888888888888,\"#fdca26\"],[1.0,\"#f0f921\"]],\"type\":\"surface\"}],\"table\":[{\"cells\":{\"fill\":{\"color\":\"#EBF0F8\"},\"line\":{\"color\":\"white\"}},\"header\":{\"fill\":{\"color\":\"#C8D4E3\"},\"line\":{\"color\":\"white\"}},\"type\":\"table\"}]},\"layout\":{\"annotationdefaults\":{\"arrowcolor\":\"#2a3f5f\",\"arrowhead\":0,\"arrowwidth\":1},\"autotypenumbers\":\"strict\",\"coloraxis\":{\"colorbar\":{\"outlinewidth\":0,\"ticks\":\"\"}},\"colorscale\":{\"diverging\":[[0,\"#8e0152\"],[0.1,\"#c51b7d\"],[0.2,\"#de77ae\"],[0.3,\"#f1b6da\"],[0.4,\"#fde0ef\"],[0.5,\"#f7f7f7\"],[0.6,\"#e6f5d0\"],[0.7,\"#b8e186\"],[0.8,\"#7fbc41\"],[0.9,\"#4d9221\"],[1,\"#276419\"]],\"sequential\":[[0.0,\"#0d0887\"],[0.1111111111111111,\"#46039f\"],[0.2222222222222222,\"#7201a8\"],[0.3333333333333333,\"#9c179e\"],[0.4444444444444444,\"#bd3786\"],[0.5555555555555556,\"#d8576b\"],[0.6666666666666666,\"#ed7953\"],[0.7777777777777778,\"#fb9f3a\"],[0.8888888888888888,\"#fdca26\"],[1.0,\"#f0f921\"]],\"sequentialminus\":[[0.0,\"#0d0887\"],[0.1111111111111111,\"#46039f\"],[0.2222222222222222,\"#7201a8\"],[0.3333333333333333,\"#9c179e\"],[0.4444444444444444,\"#bd3786\"],[0.5555555555555556,\"#d8576b\"],[0.6666666666666666,\"#ed7953\"],[0.7777777777777778,\"#fb9f3a\"],[0.8888888888888888,\"#fdca26\"],[1.0,\"#f0f921\"]]},\"colorway\":[\"#636efa\",\"#EF553B\",\"#00cc96\",\"#ab63fa\",\"#FFA15A\",\"#19d3f3\",\"#FF6692\",\"#B6E880\",\"#FF97FF\",\"#FECB52\"],\"font\":{\"color\":\"#2a3f5f\"},\"geo\":{\"bgcolor\":\"white\",\"lakecolor\":\"white\",\"landcolor\":\"#E5ECF6\",\"showlakes\":true,\"showland\":true,\"subunitcolor\":\"white\"},\"hoverlabel\":{\"align\":\"left\"},\"hovermode\":\"closest\",\"mapbox\":{\"style\":\"light\"},\"paper_bgcolor\":\"white\",\"plot_bgcolor\":\"#E5ECF6\",\"polar\":{\"angularaxis\":{\"gridcolor\":\"white\",\"linecolor\":\"white\",\"ticks\":\"\"},\"bgcolor\":\"#E5ECF6\",\"radialaxis\":{\"gridcolor\":\"white\",\"linecolor\":\"white\",\"ticks\":\"\"}},\"scene\":{\"xaxis\":{\"backgroundcolor\":\"#E5ECF6\",\"gridcolor\":\"white\",\"gridwidth\":2,\"linecolor\":\"white\",\"showbackground\":true,\"ticks\":\"\",\"zerolinecolor\":\"white\"},\"yaxis\":{\"backgroundcolor\":\"#E5ECF6\",\"gridcolor\":\"white\",\"gridwidth\":2,\"linecolor\":\"white\",\"showbackground\":true,\"ticks\":\"\",\"zerolinecolor\":\"white\"},\"zaxis\":{\"backgroundcolor\":\"#E5ECF6\",\"gridcolor\":\"white\",\"gridwidth\":2,\"linecolor\":\"white\",\"showbackground\":true,\"ticks\":\"\",\"zerolinecolor\":\"white\"}},\"shapedefaults\":{\"line\":{\"color\":\"#2a3f5f\"}},\"ternary\":{\"aaxis\":{\"gridcolor\":\"white\",\"linecolor\":\"white\",\"ticks\":\"\"},\"baxis\":{\"gridcolor\":\"white\",\"linecolor\":\"white\",\"ticks\":\"\"},\"bgcolor\":\"#E5ECF6\",\"caxis\":{\"gridcolor\":\"white\",\"linecolor\":\"white\",\"ticks\":\"\"}},\"title\":{\"x\":0.05},\"xaxis\":{\"automargin\":true,\"gridcolor\":\"white\",\"linecolor\":\"white\",\"ticks\":\"\",\"title\":{\"standoff\":15},\"zerolinecolor\":\"white\",\"zerolinewidth\":2},\"yaxis\":{\"automargin\":true,\"gridcolor\":\"white\",\"linecolor\":\"white\",\"ticks\":\"\",\"title\":{\"standoff\":15},\"zerolinecolor\":\"white\",\"zerolinewidth\":2}}},\"xaxis\":{\"anchor\":\"y\",\"domain\":[0.0,1.0],\"title\":{\"text\":\"event_date\"}},\"yaxis\":{\"anchor\":\"x\",\"domain\":[0.0,1.0],\"title\":{\"text\":\"rate_change\"}},\"legend\":{\"title\":{\"text\":\"fed_chair\"},\"tracegroupgap\":0},\"title\":{\"text\":\"Rate Change\"}},                        {\"responsive\": true}                    ).then(function(){\n",
       "                            \n",
       "var gd = document.getElementById('dc5ba161-135e-41c0-bb03-cf9295f9c6f6');\n",
       "var x = new MutationObserver(function (mutations, observer) {{\n",
       "        var display = window.getComputedStyle(gd).display;\n",
       "        if (!display || display === 'none') {{\n",
       "            console.log([gd, 'removed!']);\n",
       "            Plotly.purge(gd);\n",
       "            observer.disconnect();\n",
       "        }}\n",
       "}});\n",
       "\n",
       "// Listen for the removal of the full notebook cells\n",
       "var notebookContainer = gd.closest('#notebook-container');\n",
       "if (notebookContainer) {{\n",
       "    x.observe(notebookContainer, {childList: true});\n",
       "}}\n",
       "\n",
       "// Listen for the clearing of the current output cell\n",
       "var outputEl = gd.closest('.output');\n",
       "if (outputEl) {{\n",
       "    x.observe(outputEl, {childList: true});\n",
       "}}\n",
       "\n",
       "                        })                };                });            </script>        </div>"
      ]
     },
     "metadata": {},
     "output_type": "display_data"
    }
   ],
   "source": [
    "fig = px.scatter(data_frame=decision_df, \n",
    "             x='event_date', y='rate_change', \n",
    "             color=\"fed_chair\", \n",
    "             title='Rate Change',   \n",
    "                )\n",
    "\n",
    "fig.show()"
   ]
  },
  {
   "cell_type": "code",
   "execution_count": 218,
   "id": "877b70e4-3a6b-45d1-8d6b-6ce7a099b7ba",
   "metadata": {},
   "outputs": [
    {
     "data": {
      "text/html": [
       "<div>\n",
       "<style scoped>\n",
       "    .dataframe tbody tr th:only-of-type {\n",
       "        vertical-align: middle;\n",
       "    }\n",
       "\n",
       "    .dataframe tbody tr th {\n",
       "        vertical-align: top;\n",
       "    }\n",
       "\n",
       "    .dataframe thead th {\n",
       "        text-align: right;\n",
       "    }\n",
       "</style>\n",
       "<table border=\"1\" class=\"dataframe\">\n",
       "  <thead>\n",
       "    <tr style=\"text-align: right;\">\n",
       "      <th></th>\n",
       "      <th>link</th>\n",
       "      <th>title</th>\n",
       "      <th>speaker</th>\n",
       "      <th>event</th>\n",
       "      <th>year</th>\n",
       "      <th>text</th>\n",
       "      <th>speech_date</th>\n",
       "      <th>text_len</th>\n",
       "      <th>location</th>\n",
       "    </tr>\n",
       "  </thead>\n",
       "  <tbody>\n",
       "    <tr>\n",
       "      <th>0</th>\n",
       "      <td>https://www.federalreserve.gov/boarddocs/speec...</td>\n",
       "      <td>Supervision of bank risk-taking</td>\n",
       "      <td>Vice Chair Alice M. Rivlin</td>\n",
       "      <td>At the The Brookings Institution National Issu...</td>\n",
       "      <td>1996</td>\n",
       "      <td>I discovered when I joined the Board of Govern...</td>\n",
       "      <td>1996-12-19</td>\n",
       "      <td>3671</td>\n",
       "      <td>D.C.</td>\n",
       "    </tr>\n",
       "    <tr>\n",
       "      <th>1</th>\n",
       "      <td>https://www.federalreserve.gov/boarddocs/speec...</td>\n",
       "      <td>Social security</td>\n",
       "      <td>Chairman Alan Greenspan</td>\n",
       "      <td>At the Abraham Lincoln Award Ceremony of the U...</td>\n",
       "      <td>1996</td>\n",
       "      <td>I am privileged to accept the Union League of...</td>\n",
       "      <td>1996-12-06</td>\n",
       "      <td>2596</td>\n",
       "      <td>Pennsylvania</td>\n",
       "    </tr>\n",
       "    <tr>\n",
       "      <th>2</th>\n",
       "      <td>https://www.federalreserve.gov/boarddocs/speec...</td>\n",
       "      <td>The challenge of central banking in a democrat...</td>\n",
       "      <td>Chairman Alan Greenspan</td>\n",
       "      <td>At the Annual Dinner and Francis Boyer Lecture...</td>\n",
       "      <td>1996</td>\n",
       "      <td>The Challenge of Central Banking in a Democrat...</td>\n",
       "      <td>1996-12-05</td>\n",
       "      <td>4344</td>\n",
       "      <td>D.C.</td>\n",
       "    </tr>\n",
       "    <tr>\n",
       "      <th>3</th>\n",
       "      <td>https://www.federalreserve.gov/boarddocs/speec...</td>\n",
       "      <td>Clearinghouses and risk management</td>\n",
       "      <td>Governor Edward W. Kelley, Jr.</td>\n",
       "      <td>At the 1996 Payments System Risk Conference, W...</td>\n",
       "      <td>1996</td>\n",
       "      <td>It is a pleasure to be with you this morning ...</td>\n",
       "      <td>1996-12-03</td>\n",
       "      <td>2527</td>\n",
       "      <td>D.C.</td>\n",
       "    </tr>\n",
       "    <tr>\n",
       "      <th>4</th>\n",
       "      <td>https://www.federalreserve.gov/boarddocs/speec...</td>\n",
       "      <td>Supervisory and regulatory responses to financ...</td>\n",
       "      <td>Governor Susan M. Phillips</td>\n",
       "      <td>At the BAI Seminar on Regulatory Policy Change...</td>\n",
       "      <td>1996</td>\n",
       "      <td>Supervisory and Regulatory Responses to Financ...</td>\n",
       "      <td>1996-11-25</td>\n",
       "      <td>2222</td>\n",
       "      <td>D.C.</td>\n",
       "    </tr>\n",
       "  </tbody>\n",
       "</table>\n",
       "</div>"
      ],
      "text/plain": [
       "                                                link  \\\n",
       "0  https://www.federalreserve.gov/boarddocs/speec...   \n",
       "1  https://www.federalreserve.gov/boarddocs/speec...   \n",
       "2  https://www.federalreserve.gov/boarddocs/speec...   \n",
       "3  https://www.federalreserve.gov/boarddocs/speec...   \n",
       "4  https://www.federalreserve.gov/boarddocs/speec...   \n",
       "\n",
       "                                               title  \\\n",
       "0                    Supervision of bank risk-taking   \n",
       "1                                    Social security   \n",
       "2  The challenge of central banking in a democrat...   \n",
       "3                 Clearinghouses and risk management   \n",
       "4  Supervisory and regulatory responses to financ...   \n",
       "\n",
       "                          speaker  \\\n",
       "0      Vice Chair Alice M. Rivlin   \n",
       "1         Chairman Alan Greenspan   \n",
       "2         Chairman Alan Greenspan   \n",
       "3  Governor Edward W. Kelley, Jr.   \n",
       "4      Governor Susan M. Phillips   \n",
       "\n",
       "                                               event  year  \\\n",
       "0  At the The Brookings Institution National Issu...  1996   \n",
       "1  At the Abraham Lincoln Award Ceremony of the U...  1996   \n",
       "2  At the Annual Dinner and Francis Boyer Lecture...  1996   \n",
       "3  At the 1996 Payments System Risk Conference, W...  1996   \n",
       "4  At the BAI Seminar on Regulatory Policy Change...  1996   \n",
       "\n",
       "                                                text speech_date  text_len  \\\n",
       "0  I discovered when I joined the Board of Govern...  1996-12-19      3671   \n",
       "1   I am privileged to accept the Union League of...  1996-12-06      2596   \n",
       "2  The Challenge of Central Banking in a Democrat...  1996-12-05      4344   \n",
       "3   It is a pleasure to be with you this morning ...  1996-12-03      2527   \n",
       "4  Supervisory and Regulatory Responses to Financ...  1996-11-25      2222   \n",
       "\n",
       "       location  \n",
       "0          D.C.  \n",
       "1  Pennsylvania  \n",
       "2          D.C.  \n",
       "3          D.C.  \n",
       "4          D.C.  "
      ]
     },
     "execution_count": 218,
     "metadata": {},
     "output_type": "execute_result"
    }
   ],
   "source": [
    "speech_df = pd.read_csv('data/fed_speeches_1996_2020.csv', parse_dates=['speech_date'] , encoding='utf_8')\n",
    "speech_df = speech_df[speech_df['text_len'] > 50]\n",
    "speech_df['year'] = speech_df['year'].astype(int)\n",
    "speech_df.head()"
   ]
  },
  {
   "cell_type": "code",
   "execution_count": 219,
   "id": "495ee7e5-0740-4fcc-8405-4b14934d7c98",
   "metadata": {},
   "outputs": [
    {
     "data": {
      "text/plain": [
       "Chairman Alan Greenspan      183\n",
       "Chairman Ben S. Bernanke     169\n",
       "Chair Janet L. Yellen         44\n",
       "Chairman Jerome H. Powell     32\n",
       "Name: speaker, dtype: int64"
      ]
     },
     "execution_count": 219,
     "metadata": {},
     "output_type": "execute_result"
    }
   ],
   "source": [
    "list_of_values = ['Chairman Alan Greenspan','Chairman Ben S. Bernanke','Chair Janet L. Yellen','Chairman Jerome H. Powell']\n",
    "speech_df = speech_df[speech_df['speaker'].isin(list_of_values)]\n",
    "speech_df['speaker'].value_counts(sort=True)"
   ]
  },
  {
   "cell_type": "code",
   "execution_count": 220,
   "id": "68d87ba0-09b6-48e9-afa5-18af9909fc1f",
   "metadata": {},
   "outputs": [
    {
     "name": "stdout",
     "output_type": "stream",
     "text": [
      "<class 'pandas.core.frame.DataFrame'>\n",
      "Int64Index: 428 entries, 1 to 1443\n",
      "Data columns (total 9 columns):\n",
      " #   Column       Non-Null Count  Dtype         \n",
      "---  ------       --------------  -----         \n",
      " 0   link         428 non-null    object        \n",
      " 1   title        428 non-null    object        \n",
      " 2   speaker      428 non-null    object        \n",
      " 3   event        428 non-null    object        \n",
      " 4   year         428 non-null    int64         \n",
      " 5   text         428 non-null    object        \n",
      " 6   speech_date  428 non-null    datetime64[ns]\n",
      " 7   text_len     428 non-null    int64         \n",
      " 8   location     428 non-null    object        \n",
      "dtypes: datetime64[ns](1), int64(2), object(6)\n",
      "memory usage: 33.4+ KB\n"
     ]
    }
   ],
   "source": [
    "speech_df.info()"
   ]
  },
  {
   "cell_type": "code",
   "execution_count": 221,
   "id": "6727aa73-7797-4175-91ca-925086aec977",
   "metadata": {},
   "outputs": [],
   "source": [
    "decision_df['date_diff'] = decision_df['event_date'].diff()"
   ]
  },
  {
   "cell_type": "code",
   "execution_count": 222,
   "id": "adf0dbcc-0f64-49df-9306-cdd38c2ea3c8",
   "metadata": {},
   "outputs": [
    {
     "data": {
      "text/html": [
       "<div>\n",
       "<style scoped>\n",
       "    .dataframe tbody tr th:only-of-type {\n",
       "        vertical-align: middle;\n",
       "    }\n",
       "\n",
       "    .dataframe tbody tr th {\n",
       "        vertical-align: top;\n",
       "    }\n",
       "\n",
       "    .dataframe thead th {\n",
       "        text-align: right;\n",
       "    }\n",
       "</style>\n",
       "<table border=\"1\" class=\"dataframe\">\n",
       "  <thead>\n",
       "    <tr style=\"text-align: right;\">\n",
       "      <th></th>\n",
       "      <th>id</th>\n",
       "      <th>event_date</th>\n",
       "      <th>fed_rate</th>\n",
       "      <th>action</th>\n",
       "      <th>rate_change</th>\n",
       "      <th>fed_chair</th>\n",
       "      <th>notes</th>\n",
       "      <th>date_diff</th>\n",
       "    </tr>\n",
       "  </thead>\n",
       "  <tbody>\n",
       "    <tr>\n",
       "      <th>0</th>\n",
       "      <td>1</td>\n",
       "      <td>1987-05-19</td>\n",
       "      <td>0.0650</td>\n",
       "      <td>increase</td>\n",
       "      <td>0.0062</td>\n",
       "      <td>Paul Volcker</td>\n",
       "      <td>Continued raising rates to fight inflation</td>\n",
       "      <td>NaT</td>\n",
       "    </tr>\n",
       "    <tr>\n",
       "      <th>1</th>\n",
       "      <td>2</td>\n",
       "      <td>1987-07-07</td>\n",
       "      <td>0.0650</td>\n",
       "      <td>no change</td>\n",
       "      <td>0.0000</td>\n",
       "      <td>Alan Greenspan</td>\n",
       "      <td>- no change -</td>\n",
       "      <td>49 days</td>\n",
       "    </tr>\n",
       "    <tr>\n",
       "      <th>2</th>\n",
       "      <td>3</td>\n",
       "      <td>1987-08-18</td>\n",
       "      <td>0.0650</td>\n",
       "      <td>no change</td>\n",
       "      <td>0.0000</td>\n",
       "      <td>Alan Greenspan</td>\n",
       "      <td>- no change -</td>\n",
       "      <td>42 days</td>\n",
       "    </tr>\n",
       "    <tr>\n",
       "      <th>3</th>\n",
       "      <td>4</td>\n",
       "      <td>1987-09-22</td>\n",
       "      <td>0.0725</td>\n",
       "      <td>increase</td>\n",
       "      <td>0.0075</td>\n",
       "      <td>Alan Greenspan</td>\n",
       "      <td>No notable event</td>\n",
       "      <td>35 days</td>\n",
       "    </tr>\n",
       "    <tr>\n",
       "      <th>4</th>\n",
       "      <td>5</td>\n",
       "      <td>1987-11-04</td>\n",
       "      <td>0.0681</td>\n",
       "      <td>decrease</td>\n",
       "      <td>-0.0044</td>\n",
       "      <td>Alan Greenspan</td>\n",
       "      <td>Lowered after Black Monday stock market crash</td>\n",
       "      <td>43 days</td>\n",
       "    </tr>\n",
       "  </tbody>\n",
       "</table>\n",
       "</div>"
      ],
      "text/plain": [
       "   id event_date  fed_rate     action  rate_change       fed_chair  \\\n",
       "0   1 1987-05-19    0.0650   increase       0.0062    Paul Volcker   \n",
       "1   2 1987-07-07    0.0650  no change       0.0000  Alan Greenspan   \n",
       "2   3 1987-08-18    0.0650  no change       0.0000  Alan Greenspan   \n",
       "3   4 1987-09-22    0.0725   increase       0.0075  Alan Greenspan   \n",
       "4   5 1987-11-04    0.0681   decrease      -0.0044  Alan Greenspan   \n",
       "\n",
       "                                           notes date_diff  \n",
       "0     Continued raising rates to fight inflation       NaT  \n",
       "1                                  - no change -   49 days  \n",
       "2                                  - no change -   42 days  \n",
       "3                               No notable event   35 days  \n",
       "4  Lowered after Black Monday stock market crash   43 days  "
      ]
     },
     "execution_count": 222,
     "metadata": {},
     "output_type": "execute_result"
    }
   ],
   "source": [
    "decision_df.head()"
   ]
  },
  {
   "cell_type": "code",
   "execution_count": 223,
   "id": "0427d60a-6a5a-4c40-ad82-ec3f3802680b",
   "metadata": {},
   "outputs": [
    {
     "data": {
      "text/html": [
       "<div>\n",
       "<style scoped>\n",
       "    .dataframe tbody tr th:only-of-type {\n",
       "        vertical-align: middle;\n",
       "    }\n",
       "\n",
       "    .dataframe tbody tr th {\n",
       "        vertical-align: top;\n",
       "    }\n",
       "\n",
       "    .dataframe thead th {\n",
       "        text-align: right;\n",
       "    }\n",
       "</style>\n",
       "<table border=\"1\" class=\"dataframe\">\n",
       "  <thead>\n",
       "    <tr style=\"text-align: right;\">\n",
       "      <th></th>\n",
       "      <th>id</th>\n",
       "      <th>event_date</th>\n",
       "      <th>fed_rate</th>\n",
       "      <th>action</th>\n",
       "      <th>rate_change</th>\n",
       "      <th>fed_chair</th>\n",
       "      <th>notes</th>\n",
       "      <th>date_diff</th>\n",
       "      <th>start_date</th>\n",
       "      <th>end_date</th>\n",
       "      <th>link</th>\n",
       "      <th>title</th>\n",
       "      <th>speaker</th>\n",
       "      <th>event</th>\n",
       "      <th>year</th>\n",
       "      <th>text</th>\n",
       "      <th>speech_date</th>\n",
       "      <th>text_len</th>\n",
       "      <th>location</th>\n",
       "    </tr>\n",
       "  </thead>\n",
       "  <tbody>\n",
       "    <tr>\n",
       "      <th>35959</th>\n",
       "      <td>85</td>\n",
       "      <td>1996-07-03</td>\n",
       "      <td>0.0525</td>\n",
       "      <td>no change</td>\n",
       "      <td>0.0</td>\n",
       "      <td>Alan Greenspan</td>\n",
       "      <td>- no change -</td>\n",
       "      <td>43 days</td>\n",
       "      <td>1996-05-21</td>\n",
       "      <td>1996-07-03</td>\n",
       "      <td>https://www.federalreserve.gov/boarddocs/speec...</td>\n",
       "      <td>Bank supervision in a world economy</td>\n",
       "      <td>Chairman Alan Greenspan</td>\n",
       "      <td>At the International Conference of Banking Sup...</td>\n",
       "      <td>1996</td>\n",
       "      <td>Remarks by Chairman Alan Greenspan Bank superv...</td>\n",
       "      <td>1996-06-13</td>\n",
       "      <td>3164</td>\n",
       "      <td>Sweden</td>\n",
       "    </tr>\n",
       "    <tr>\n",
       "      <th>36814</th>\n",
       "      <td>87</td>\n",
       "      <td>1996-09-24</td>\n",
       "      <td>0.0525</td>\n",
       "      <td>no change</td>\n",
       "      <td>0.0</td>\n",
       "      <td>Alan Greenspan</td>\n",
       "      <td>- no change -</td>\n",
       "      <td>35 days</td>\n",
       "      <td>1996-08-20</td>\n",
       "      <td>1996-09-24</td>\n",
       "      <td>https://www.federalreserve.gov/boarddocs/speec...</td>\n",
       "      <td>Regulation and electronic payment systems</td>\n",
       "      <td>Chairman Alan Greenspan</td>\n",
       "      <td>At the U.S. Treasury Conference on Electronic ...</td>\n",
       "      <td>1996</td>\n",
       "      <td>Remarks by Chairman Alan Greenspan Regulation ...</td>\n",
       "      <td>1996-09-19</td>\n",
       "      <td>1948</td>\n",
       "      <td>D.C.</td>\n",
       "    </tr>\n",
       "    <tr>\n",
       "      <th>37239</th>\n",
       "      <td>88</td>\n",
       "      <td>1996-11-13</td>\n",
       "      <td>0.0525</td>\n",
       "      <td>no change</td>\n",
       "      <td>0.0</td>\n",
       "      <td>Alan Greenspan</td>\n",
       "      <td>- no change -</td>\n",
       "      <td>50 days</td>\n",
       "      <td>1996-09-24</td>\n",
       "      <td>1996-11-13</td>\n",
       "      <td>https://www.federalreserve.gov/boarddocs/speec...</td>\n",
       "      <td>Technological advances and productivity</td>\n",
       "      <td>Chairman Alan Greenspan</td>\n",
       "      <td>At the 80th Anniversary Awards Dinner of The C...</td>\n",
       "      <td>1996</td>\n",
       "      <td>Remarks by Chairman Alan Greenspan Technologic...</td>\n",
       "      <td>1996-10-16</td>\n",
       "      <td>1690</td>\n",
       "      <td>New York</td>\n",
       "    </tr>\n",
       "    <tr>\n",
       "      <th>37240</th>\n",
       "      <td>88</td>\n",
       "      <td>1996-11-13</td>\n",
       "      <td>0.0525</td>\n",
       "      <td>no change</td>\n",
       "      <td>0.0</td>\n",
       "      <td>Alan Greenspan</td>\n",
       "      <td>- no change -</td>\n",
       "      <td>50 days</td>\n",
       "      <td>1996-09-24</td>\n",
       "      <td>1996-11-13</td>\n",
       "      <td>https://www.federalreserve.gov/boarddocs/speec...</td>\n",
       "      <td>U.S. Treasury securities market: Lessons from ...</td>\n",
       "      <td>Chairman Alan Greenspan</td>\n",
       "      <td>At the Annual Public Service Awards Dinner of ...</td>\n",
       "      <td>1996</td>\n",
       "      <td>Remarks by Chairman Alan Greenspan U.S. Treasu...</td>\n",
       "      <td>1996-10-07</td>\n",
       "      <td>1191</td>\n",
       "      <td>New York</td>\n",
       "    </tr>\n",
       "    <tr>\n",
       "      <th>37241</th>\n",
       "      <td>88</td>\n",
       "      <td>1996-11-13</td>\n",
       "      <td>0.0525</td>\n",
       "      <td>no change</td>\n",
       "      <td>0.0</td>\n",
       "      <td>Alan Greenspan</td>\n",
       "      <td>- no change -</td>\n",
       "      <td>50 days</td>\n",
       "      <td>1996-09-24</td>\n",
       "      <td>1996-11-13</td>\n",
       "      <td>https://www.federalreserve.gov/boarddocs/speec...</td>\n",
       "      <td>Bank supervision, regulation, and risk</td>\n",
       "      <td>Chairman Alan Greenspan</td>\n",
       "      <td>At the Annual Convention of the American Banke...</td>\n",
       "      <td>1996</td>\n",
       "      <td>Remarks by Chairman Alan Greenspan Bank superv...</td>\n",
       "      <td>1996-10-05</td>\n",
       "      <td>2346</td>\n",
       "      <td>Hawaii</td>\n",
       "    </tr>\n",
       "  </tbody>\n",
       "</table>\n",
       "</div>"
      ],
      "text/plain": [
       "       id event_date  fed_rate     action  rate_change       fed_chair  \\\n",
       "35959  85 1996-07-03    0.0525  no change          0.0  Alan Greenspan   \n",
       "36814  87 1996-09-24    0.0525  no change          0.0  Alan Greenspan   \n",
       "37239  88 1996-11-13    0.0525  no change          0.0  Alan Greenspan   \n",
       "37240  88 1996-11-13    0.0525  no change          0.0  Alan Greenspan   \n",
       "37241  88 1996-11-13    0.0525  no change          0.0  Alan Greenspan   \n",
       "\n",
       "               notes date_diff start_date   end_date  \\\n",
       "35959  - no change -   43 days 1996-05-21 1996-07-03   \n",
       "36814  - no change -   35 days 1996-08-20 1996-09-24   \n",
       "37239  - no change -   50 days 1996-09-24 1996-11-13   \n",
       "37240  - no change -   50 days 1996-09-24 1996-11-13   \n",
       "37241  - no change -   50 days 1996-09-24 1996-11-13   \n",
       "\n",
       "                                                    link  \\\n",
       "35959  https://www.federalreserve.gov/boarddocs/speec...   \n",
       "36814  https://www.federalreserve.gov/boarddocs/speec...   \n",
       "37239  https://www.federalreserve.gov/boarddocs/speec...   \n",
       "37240  https://www.federalreserve.gov/boarddocs/speec...   \n",
       "37241  https://www.federalreserve.gov/boarddocs/speec...   \n",
       "\n",
       "                                                   title  \\\n",
       "35959                Bank supervision in a world economy   \n",
       "36814          Regulation and electronic payment systems   \n",
       "37239            Technological advances and productivity   \n",
       "37240  U.S. Treasury securities market: Lessons from ...   \n",
       "37241             Bank supervision, regulation, and risk   \n",
       "\n",
       "                       speaker  \\\n",
       "35959  Chairman Alan Greenspan   \n",
       "36814  Chairman Alan Greenspan   \n",
       "37239  Chairman Alan Greenspan   \n",
       "37240  Chairman Alan Greenspan   \n",
       "37241  Chairman Alan Greenspan   \n",
       "\n",
       "                                                   event  year  \\\n",
       "35959  At the International Conference of Banking Sup...  1996   \n",
       "36814  At the U.S. Treasury Conference on Electronic ...  1996   \n",
       "37239  At the 80th Anniversary Awards Dinner of The C...  1996   \n",
       "37240  At the Annual Public Service Awards Dinner of ...  1996   \n",
       "37241  At the Annual Convention of the American Banke...  1996   \n",
       "\n",
       "                                                    text speech_date  \\\n",
       "35959  Remarks by Chairman Alan Greenspan Bank superv...  1996-06-13   \n",
       "36814  Remarks by Chairman Alan Greenspan Regulation ...  1996-09-19   \n",
       "37239  Remarks by Chairman Alan Greenspan Technologic...  1996-10-16   \n",
       "37240  Remarks by Chairman Alan Greenspan U.S. Treasu...  1996-10-07   \n",
       "37241  Remarks by Chairman Alan Greenspan Bank superv...  1996-10-05   \n",
       "\n",
       "       text_len  location  \n",
       "35959      3164    Sweden  \n",
       "36814      1948      D.C.  \n",
       "37239      1690  New York  \n",
       "37240      1191  New York  \n",
       "37241      2346    Hawaii  "
      ]
     },
     "execution_count": 223,
     "metadata": {},
     "output_type": "execute_result"
    }
   ],
   "source": [
    "decision_df['start_date'] = decision_df['event_date'] - decision_df['date_diff']\n",
    "decision_df['end_date'] = decision_df['event_date']\n",
    "df_merge = decision_df.merge(speech_df, how='cross')\n",
    "df_merge = df_merge.query('speech_date >= start_date and speech_date <= end_date')\n",
    "df_merge.head(5)"
   ]
  },
  {
   "cell_type": "markdown",
   "id": "d52afda9-a967-4c99-9257-f9d5d8656699",
   "metadata": {},
   "source": [
    "### events"
   ]
  },
  {
   "cell_type": "code",
   "execution_count": 254,
   "id": "9bd484f6-f9ee-4569-9071-a6627f9700cd",
   "metadata": {},
   "outputs": [],
   "source": []
  },
  {
   "cell_type": "code",
   "execution_count": 275,
   "id": "f07ae5c7-8461-41d8-b5ef-3587a0743d13",
   "metadata": {},
   "outputs": [],
   "source": [
    "df_merge['event_key'] = df_merge['event'].apply(filter_propn)"
   ]
  },
  {
   "cell_type": "code",
   "execution_count": 276,
   "id": "c55e2b2c-eb07-475f-bde2-027151f4817f",
   "metadata": {},
   "outputs": [
    {
     "data": {
      "text/html": [
       "<div>\n",
       "<style scoped>\n",
       "    .dataframe tbody tr th:only-of-type {\n",
       "        vertical-align: middle;\n",
       "    }\n",
       "\n",
       "    .dataframe tbody tr th {\n",
       "        vertical-align: top;\n",
       "    }\n",
       "\n",
       "    .dataframe thead th {\n",
       "        text-align: right;\n",
       "    }\n",
       "</style>\n",
       "<table border=\"1\" class=\"dataframe\">\n",
       "  <thead>\n",
       "    <tr style=\"text-align: right;\">\n",
       "      <th></th>\n",
       "      <th>event</th>\n",
       "      <th>event_key</th>\n",
       "    </tr>\n",
       "  </thead>\n",
       "  <tbody>\n",
       "    <tr>\n",
       "      <th>35959</th>\n",
       "      <td>At the International Conference of Banking Sup...</td>\n",
       "      <td>Banking Conference International Stockholm Sup...</td>\n",
       "    </tr>\n",
       "    <tr>\n",
       "      <th>36814</th>\n",
       "      <td>At the U.S. Treasury Conference on Electronic ...</td>\n",
       "      <td>Banking Conference Electronic Government Money...</td>\n",
       "    </tr>\n",
       "    <tr>\n",
       "      <th>37239</th>\n",
       "      <td>At the 80th Anniversary Awards Dinner of The C...</td>\n",
       "      <td>Anniversary Awards Board Conference Dinner New...</td>\n",
       "    </tr>\n",
       "    <tr>\n",
       "      <th>37240</th>\n",
       "      <td>At the Annual Public Service Awards Dinner of ...</td>\n",
       "      <td>Annual Association Awards Dinner New Public Se...</td>\n",
       "    </tr>\n",
       "    <tr>\n",
       "      <th>37241</th>\n",
       "      <td>At the Annual Convention of the American Banke...</td>\n",
       "      <td>American Annual Association Bankers Convention...</td>\n",
       "    </tr>\n",
       "    <tr>\n",
       "      <th>...</th>\n",
       "      <td>...</td>\n",
       "      <td>...</td>\n",
       "    </tr>\n",
       "    <tr>\n",
       "      <th>121103</th>\n",
       "      <td>At the Annual Meeting of the Greater Providenc...</td>\n",
       "      <td>Annual Chamber Commerce Greater Island Meeting...</td>\n",
       "    </tr>\n",
       "    <tr>\n",
       "      <th>122407</th>\n",
       "      <td>At the Hutchins Center on Fiscal and Monetary ...</td>\n",
       "      <td>Brookings Center Fiscal Hutchins Institution M...</td>\n",
       "    </tr>\n",
       "    <tr>\n",
       "      <th>122833</th>\n",
       "      <td>At \"A Fed Listens Event: How Is COVID-19 Affec...</td>\n",
       "      <td>Board Community Event Fed Federal Governors Li...</td>\n",
       "    </tr>\n",
       "    <tr>\n",
       "      <th>122834</th>\n",
       "      <td>At the Peterson Institute for International Ec...</td>\n",
       "      <td>Economics Institute International Peterson Was...</td>\n",
       "    </tr>\n",
       "    <tr>\n",
       "      <th>123260</th>\n",
       "      <td>At \"Building a Resilient Workforce,\" a video c...</td>\n",
       "      <td>Bank Cleveland Federal Ohio Reserve Resilient ...</td>\n",
       "    </tr>\n",
       "  </tbody>\n",
       "</table>\n",
       "<p>430 rows × 2 columns</p>\n",
       "</div>"
      ],
      "text/plain": [
       "                                                    event  \\\n",
       "35959   At the International Conference of Banking Sup...   \n",
       "36814   At the U.S. Treasury Conference on Electronic ...   \n",
       "37239   At the 80th Anniversary Awards Dinner of The C...   \n",
       "37240   At the Annual Public Service Awards Dinner of ...   \n",
       "37241   At the Annual Convention of the American Banke...   \n",
       "...                                                   ...   \n",
       "121103  At the Annual Meeting of the Greater Providenc...   \n",
       "122407  At the Hutchins Center on Fiscal and Monetary ...   \n",
       "122833  At \"A Fed Listens Event: How Is COVID-19 Affec...   \n",
       "122834  At the Peterson Institute for International Ec...   \n",
       "123260  At \"Building a Resilient Workforce,\" a video c...   \n",
       "\n",
       "                                                event_key  \n",
       "35959   Banking Conference International Stockholm Sup...  \n",
       "36814   Banking Conference Electronic Government Money...  \n",
       "37239   Anniversary Awards Board Conference Dinner New...  \n",
       "37240   Annual Association Awards Dinner New Public Se...  \n",
       "37241   American Annual Association Bankers Convention...  \n",
       "...                                                   ...  \n",
       "121103  Annual Chamber Commerce Greater Island Meeting...  \n",
       "122407  Brookings Center Fiscal Hutchins Institution M...  \n",
       "122833  Board Community Event Fed Federal Governors Li...  \n",
       "122834  Economics Institute International Peterson Was...  \n",
       "123260  Bank Cleveland Federal Ohio Reserve Resilient ...  \n",
       "\n",
       "[430 rows x 2 columns]"
      ]
     },
     "execution_count": 276,
     "metadata": {},
     "output_type": "execute_result"
    }
   ],
   "source": [
    "df_merge[['event','event_key']]"
   ]
  },
  {
   "cell_type": "markdown",
   "id": "c7818ccd-0c4a-4181-9197-5ec6626a5ffa",
   "metadata": {},
   "source": [
    "### locations"
   ]
  },
  {
   "cell_type": "code",
   "execution_count": 338,
   "id": "66cef9eb-032b-43ea-ba2c-d19ca54d27a2",
   "metadata": {},
   "outputs": [],
   "source": [
    "df_merge['location_key'] = df_merge['location'].apply(get_city_name)"
   ]
  },
  {
   "cell_type": "code",
   "execution_count": 339,
   "id": "35a5ca17-fd85-43d5-b8bb-cb6d63d8e130",
   "metadata": {},
   "outputs": [
    {
     "data": {
      "text/html": [
       "<div>\n",
       "<style scoped>\n",
       "    .dataframe tbody tr th:only-of-type {\n",
       "        vertical-align: middle;\n",
       "    }\n",
       "\n",
       "    .dataframe tbody tr th {\n",
       "        vertical-align: top;\n",
       "    }\n",
       "\n",
       "    .dataframe thead th {\n",
       "        text-align: right;\n",
       "    }\n",
       "</style>\n",
       "<table border=\"1\" class=\"dataframe\">\n",
       "  <thead>\n",
       "    <tr style=\"text-align: right;\">\n",
       "      <th></th>\n",
       "      <th>location</th>\n",
       "      <th>location_key</th>\n",
       "    </tr>\n",
       "  </thead>\n",
       "  <tbody>\n",
       "    <tr>\n",
       "      <th>35959</th>\n",
       "      <td>Sweden</td>\n",
       "      <td>Sweden</td>\n",
       "    </tr>\n",
       "    <tr>\n",
       "      <th>36814</th>\n",
       "      <td>D.C.</td>\n",
       "      <td>D.C.</td>\n",
       "    </tr>\n",
       "    <tr>\n",
       "      <th>37239</th>\n",
       "      <td>New York</td>\n",
       "      <td>New York</td>\n",
       "    </tr>\n",
       "    <tr>\n",
       "      <th>37240</th>\n",
       "      <td>New York</td>\n",
       "      <td>New York</td>\n",
       "    </tr>\n",
       "    <tr>\n",
       "      <th>37241</th>\n",
       "      <td>Hawaii</td>\n",
       "      <td>Hawaii</td>\n",
       "    </tr>\n",
       "    <tr>\n",
       "      <th>...</th>\n",
       "      <td>...</td>\n",
       "      <td>...</td>\n",
       "    </tr>\n",
       "    <tr>\n",
       "      <th>121103</th>\n",
       "      <td>Rhode Island</td>\n",
       "      <td>Rhode Island</td>\n",
       "    </tr>\n",
       "    <tr>\n",
       "      <th>122407</th>\n",
       "      <td>D.C. (via webcast)</td>\n",
       "      <td>D.C.</td>\n",
       "    </tr>\n",
       "    <tr>\n",
       "      <th>122833</th>\n",
       "      <td>D.C. (via webcast)</td>\n",
       "      <td>D.C.</td>\n",
       "    </tr>\n",
       "    <tr>\n",
       "      <th>122834</th>\n",
       "      <td>D.C. (via webcast)</td>\n",
       "      <td>D.C.</td>\n",
       "    </tr>\n",
       "    <tr>\n",
       "      <th>123260</th>\n",
       "      <td>Ohio (via webcast)</td>\n",
       "      <td>Ohio</td>\n",
       "    </tr>\n",
       "  </tbody>\n",
       "</table>\n",
       "<p>430 rows × 2 columns</p>\n",
       "</div>"
      ],
      "text/plain": [
       "                  location  location_key\n",
       "35959               Sweden        Sweden\n",
       "36814                 D.C.          D.C.\n",
       "37239             New York      New York\n",
       "37240             New York      New York\n",
       "37241               Hawaii        Hawaii\n",
       "...                    ...           ...\n",
       "121103        Rhode Island  Rhode Island\n",
       "122407  D.C. (via webcast)          D.C.\n",
       "122833  D.C. (via webcast)          D.C.\n",
       "122834  D.C. (via webcast)          D.C.\n",
       "123260  Ohio (via webcast)          Ohio\n",
       "\n",
       "[430 rows x 2 columns]"
      ]
     },
     "execution_count": 339,
     "metadata": {},
     "output_type": "execute_result"
    }
   ],
   "source": [
    "df_merge[['location','location_key']]"
   ]
  },
  {
   "cell_type": "code",
   "execution_count": 352,
   "id": "aabb546c-9461-4e81-9823-53be37371323",
   "metadata": {},
   "outputs": [
    {
     "data": {
      "text/plain": [
       "D.C.                          125\n",
       "New York                       36\n",
       "                               36\n",
       "Illinois                       27\n",
       "California                     24\n",
       "Massachusetts                  21\n",
       "Georgia                        17\n",
       "Texas                          11\n",
       "Virginia                       11\n",
       "Florida                        11\n",
       "Missouri                       10\n",
       "Germany                         8\n",
       "Pennsylvania                    7\n",
       "Ohio                            6\n",
       "South Carolina                  5\n",
       "England                         5\n",
       "North Carolina                  4\n",
       "Rhode Island                    4\n",
       "Arizona                         4\n",
       "Japan                           4\n",
       "France                          4\n",
       "New Jersey                      3\n",
       "U.K.                            3\n",
       "Michigan                        3\n",
       "Hawaii                          3\n",
       "Mexico                          3\n",
       "Nebraska                        2\n",
       "Sweden                          2\n",
       "Minnesota                       2\n",
       "Nevada                          2\n",
       "Tennessee                       2\n",
       "Utah                            2\n",
       "Lebanon                         1\n",
       "United Kingdom                  1\n",
       "Maryland                        1\n",
       "Spain                           1\n",
       "Indiana                         1\n",
       "Switzerland                     1\n",
       "Portugal                        1\n",
       "Mississippi                     1\n",
       "Korea                           1\n",
       "Washington                      1\n",
       "Atlanta                         1\n",
       "Montana                         1\n",
       "China                           1\n",
       "Mexico City                     1\n",
       "Peoples Republic of China      1\n",
       "Scotland                        1\n",
       "New York City                   1\n",
       "West Virginia                   1\n",
       "Rural America                   1\n",
       "N.Y.                            1\n",
       "Connecticut                     1\n",
       "Belgium                         1\n",
       "Colorado                        1\n",
       "Name: location_key, dtype: int64"
      ]
     },
     "execution_count": 352,
     "metadata": {},
     "output_type": "execute_result"
    }
   ],
   "source": [
    "df_merge['location_key'].value_counts(sort=True)"
   ]
  },
  {
   "cell_type": "code",
   "execution_count": 346,
   "id": "d5a5da1f-9866-42ba-bb14-705577b71887",
   "metadata": {},
   "outputs": [
    {
     "data": {
      "text/plain": [
       "55"
      ]
     },
     "execution_count": 346,
     "metadata": {},
     "output_type": "execute_result"
    }
   ],
   "source": [
    "len(df_merge['location_key'].value_counts(sort=True))"
   ]
  },
  {
   "cell_type": "markdown",
   "id": "01b86687-1d19-4bf7-af83-b7f26353eef9",
   "metadata": {},
   "source": [
    "## Analysis"
   ]
  },
  {
   "cell_type": "markdown",
   "id": "4933e71e-3308-40e6-a617-8a6acc753886",
   "metadata": {},
   "source": [
    "Review speeches by federal reserve board members. Analysis of Speech Sentiment for consistency with the decision making. Does the Federal reserve do a good job of telegraphing its decisions in speeches leading up to the meeting of the?\n",
    "\n",
    "1. The outcomes of the FOMC meeting will be used to label speeches by Board Members, Each speech takes place during a period where the FOMC board will decide to increase, decrease or leave interest rates unchanged. The speech can then be parsed for and scored using sentiment analysis\n",
    "\n",
    "2. The records of the speech will be used to create a network graph where the nodes will be speaker, audience, location?. The edges will be sentiment and the meta data from the relevant FOMC meeting.\n",
    "\n",
    "3. Grouping the communications by FOMC Meeting outcome, Speaker, Audience, Time frame we can analyze the clarity of message from the Federal Reserve.\n",
    "\n"
   ]
  },
  {
   "cell_type": "code",
   "execution_count": 356,
   "id": "06cfc4f2-6605-4312-9b47-9080e843351c",
   "metadata": {},
   "outputs": [
    {
     "data": {
      "application/vnd.plotly.v1+json": {
       "config": {
        "plotlyServerURL": "https://plotly.com"
       },
       "data": [
        {
         "alignmentgroup": "True",
         "customdata": [
          [
           0
          ],
          [
           0
          ],
          [
           0
          ],
          [
           0
          ],
          [
           0
          ],
          [
           0
          ],
          [
           0
          ],
          [
           0
          ],
          [
           0
          ],
          [
           0.0025
          ],
          [
           0.0025
          ],
          [
           0.0025
          ],
          [
           0
          ],
          [
           0
          ],
          [
           0
          ],
          [
           0
          ],
          [
           0
          ],
          [
           0
          ],
          [
           0
          ],
          [
           0
          ],
          [
           0
          ],
          [
           0
          ],
          [
           0
          ],
          [
           0
          ],
          [
           0
          ],
          [
           0
          ],
          [
           0
          ],
          [
           0
          ],
          [
           0
          ],
          [
           0
          ],
          [
           0
          ],
          [
           0
          ],
          [
           0
          ],
          [
           0
          ],
          [
           0
          ],
          [
           0
          ],
          [
           0
          ],
          [
           0
          ],
          [
           -0.0025
          ],
          [
           -0.0025
          ],
          [
           0
          ],
          [
           0
          ],
          [
           0
          ],
          [
           0
          ],
          [
           0
          ],
          [
           0
          ],
          [
           0
          ],
          [
           0
          ],
          [
           0.0025
          ],
          [
           0.0025
          ],
          [
           0
          ],
          [
           0
          ],
          [
           0
          ],
          [
           0
          ],
          [
           0
          ],
          [
           0.0025
          ],
          [
           0.0025
          ],
          [
           0.0025
          ],
          [
           0.0025
          ],
          [
           0.0025
          ],
          [
           0.0025
          ],
          [
           0.0025
          ],
          [
           0.0025
          ],
          [
           0.0025
          ],
          [
           0.0025
          ],
          [
           0.005
          ],
          [
           0.005
          ],
          [
           0.005
          ],
          [
           0.005
          ],
          [
           0.005
          ],
          [
           0.005
          ],
          [
           0.005
          ],
          [
           0.005
          ],
          [
           0
          ],
          [
           0
          ],
          [
           0
          ],
          [
           0
          ],
          [
           0
          ],
          [
           0
          ],
          [
           0
          ],
          [
           0
          ],
          [
           0
          ],
          [
           0
          ],
          [
           0
          ],
          [
           0
          ],
          [
           0
          ],
          [
           -0.005
          ],
          [
           -0.005
          ],
          [
           -0.005
          ],
          [
           -0.005
          ],
          [
           -0.005
          ],
          [
           -0.0025
          ],
          [
           -0.0025
          ],
          [
           -0.0025
          ],
          [
           -0.0025
          ],
          [
           -0.0025
          ],
          [
           -0.005
          ],
          [
           -0.005
          ],
          [
           -0.005
          ],
          [
           -0.005
          ],
          [
           -0.005
          ],
          [
           -0.0025
          ],
          [
           -0.0025
          ],
          [
           -0.0025
          ],
          [
           0
          ],
          [
           0
          ],
          [
           0
          ],
          [
           0
          ],
          [
           0
          ],
          [
           0
          ],
          [
           0
          ],
          [
           0
          ],
          [
           0
          ],
          [
           0
          ],
          [
           -0.005
          ],
          [
           -0.005
          ],
          [
           -0.005
          ],
          [
           -0.005
          ],
          [
           -0.005
          ],
          [
           -0.005
          ],
          [
           0
          ],
          [
           0
          ],
          [
           0
          ],
          [
           0
          ],
          [
           0
          ],
          [
           0
          ],
          [
           0
          ],
          [
           0
          ],
          [
           0
          ],
          [
           0
          ],
          [
           -0.0025
          ],
          [
           -0.0025
          ],
          [
           0
          ],
          [
           0
          ],
          [
           0
          ],
          [
           0
          ],
          [
           0
          ],
          [
           0
          ],
          [
           0
          ],
          [
           0
          ],
          [
           0
          ],
          [
           0
          ],
          [
           0
          ],
          [
           0
          ],
          [
           0
          ],
          [
           0
          ],
          [
           0
          ],
          [
           0
          ],
          [
           0
          ],
          [
           0.0003
          ],
          [
           0.0003
          ],
          [
           0.0003
          ],
          [
           0.0003
          ],
          [
           0.0025
          ],
          [
           0.0025
          ],
          [
           0.0025
          ],
          [
           0.0025
          ],
          [
           0.0025
          ],
          [
           0.0025
          ],
          [
           0.0025
          ],
          [
           0.0025
          ],
          [
           0.0025
          ],
          [
           0.0025
          ],
          [
           0.0025
          ],
          [
           0.0025
          ],
          [
           0.0025
          ],
          [
           0.0025
          ],
          [
           0.0025
          ],
          [
           0.0025
          ],
          [
           0.0025
          ],
          [
           0.0025
          ],
          [
           0.0025
          ],
          [
           0.0025
          ],
          [
           0.0025
          ],
          [
           0.0025
          ],
          [
           0.0025
          ],
          [
           0.0025
          ],
          [
           0.0025
          ],
          [
           0.0025
          ],
          [
           0.0025
          ],
          [
           0.0025
          ],
          [
           0.0025
          ],
          [
           0.0025
          ]
         ],
         "hovertemplate": "fed_chair=Alan Greenspan<br>count=%{x}<br>action=%{y}<br>rate_change=%{customdata[0]}<extra></extra>",
         "legendgroup": "Alan Greenspan",
         "marker": {
          "color": "#636efa",
          "pattern": {
           "shape": ""
          }
         },
         "name": "Alan Greenspan",
         "offsetgroup": "Alan Greenspan",
         "orientation": "h",
         "showlegend": true,
         "textposition": "auto",
         "type": "bar",
         "x": [
          1,
          1,
          1,
          1,
          1,
          1,
          1,
          1,
          1,
          1,
          1,
          1,
          1,
          1,
          1,
          1,
          1,
          1,
          1,
          1,
          1,
          1,
          1,
          1,
          1,
          1,
          1,
          1,
          1,
          1,
          1,
          1,
          1,
          1,
          1,
          1,
          1,
          1,
          1,
          1,
          1,
          1,
          1,
          1,
          1,
          1,
          1,
          1,
          1,
          1,
          1,
          1,
          1,
          1,
          1,
          1,
          1,
          1,
          1,
          1,
          1,
          1,
          1,
          1,
          1,
          1,
          1,
          1,
          1,
          1,
          1,
          1,
          1,
          1,
          1,
          1,
          1,
          1,
          1,
          1,
          1,
          1,
          1,
          1,
          1,
          1,
          1,
          1,
          1,
          1,
          1,
          1,
          1,
          1,
          1,
          1,
          1,
          1,
          1,
          1,
          1,
          1,
          1,
          1,
          1,
          1,
          1,
          1,
          1,
          1,
          1,
          1,
          1,
          1,
          1,
          1,
          1,
          1,
          1,
          1,
          1,
          1,
          1,
          1,
          1,
          1,
          1,
          1,
          1,
          1,
          1,
          1,
          1,
          1,
          1,
          1,
          1,
          1,
          1,
          1,
          1,
          1,
          1,
          1,
          1,
          1,
          1,
          1,
          1,
          1,
          1,
          1,
          1,
          1,
          1,
          1,
          1,
          1,
          1,
          1,
          1,
          1,
          1,
          1,
          1,
          1,
          1,
          1,
          1,
          1,
          1,
          1,
          1,
          1,
          1,
          1,
          1,
          1,
          1,
          1,
          1,
          1,
          1
         ],
         "xaxis": "x",
         "y": [
          "no change",
          "no change",
          "no change",
          "no change",
          "no change",
          "no change",
          "no change",
          "no change",
          "no change",
          "decrease",
          "decrease",
          "decrease",
          "no change",
          "no change",
          "no change",
          "no change",
          "no change",
          "no change",
          "no change",
          "no change",
          "no change",
          "no change",
          "no change",
          "no change",
          "no change",
          "no change",
          "no change",
          "no change",
          "no change",
          "no change",
          "no change",
          "no change",
          "no change",
          "no change",
          "no change",
          "no change",
          "no change",
          "no change",
          "decrease",
          "decrease",
          "no change",
          "no change",
          "no change",
          "no change",
          "no change",
          "no change",
          "no change",
          "no change",
          "increase",
          "increase",
          "no change",
          "no change",
          "no change",
          "no change",
          "no change",
          "increase",
          "increase",
          "increase",
          "increase",
          "increase",
          "increase",
          "increase",
          "increase",
          "increase",
          "increase",
          "increase",
          "increase",
          "increase",
          "increase",
          "increase",
          "increase",
          "increase",
          "increase",
          "no change",
          "no change",
          "no change",
          "no change",
          "no change",
          "no change",
          "no change",
          "no change",
          "no change",
          "no change",
          "no change",
          "no change",
          "no change",
          "decrease",
          "decrease",
          "decrease",
          "decrease",
          "decrease",
          "decrease",
          "decrease",
          "decrease",
          "decrease",
          "decrease",
          "decrease",
          "decrease",
          "decrease",
          "decrease",
          "decrease",
          "decrease",
          "decrease",
          "decrease",
          "no change",
          "no change",
          "no change",
          "no change",
          "no change",
          "no change",
          "no change",
          "no change",
          "no change",
          "no change",
          "decrease",
          "decrease",
          "decrease",
          "decrease",
          "decrease",
          "decrease",
          "no change",
          "no change",
          "no change",
          "no change",
          "no change",
          "no change",
          "no change",
          "no change",
          "no change",
          "no change",
          "decrease",
          "decrease",
          "no change",
          "no change",
          "no change",
          "no change",
          "no change",
          "no change",
          "no change",
          "no change",
          "no change",
          "no change",
          "no change",
          "no change",
          "no change",
          "no change",
          "no change",
          "no change",
          "no change",
          "increase",
          "increase",
          "increase",
          "increase",
          "increase",
          "increase",
          "increase",
          "increase",
          "increase",
          "increase",
          "increase",
          "increase",
          "increase",
          "increase",
          "increase",
          "increase",
          "increase",
          "increase",
          "increase",
          "increase",
          "increase",
          "increase",
          "increase",
          "increase",
          "increase",
          "increase",
          "increase",
          "increase",
          "increase",
          "increase",
          "increase",
          "increase",
          "increase",
          "increase"
         ],
         "yaxis": "y"
        },
        {
         "alignmentgroup": "True",
         "customdata": [
          [
           0.0025
          ],
          [
           0.0025
          ],
          [
           0.0025
          ],
          [
           0.0025
          ],
          [
           0.0025
          ],
          [
           0.0025
          ],
          [
           0.0025
          ],
          [
           0.0025
          ],
          [
           0.0025
          ],
          [
           0.0025
          ],
          [
           0.0025
          ],
          [
           0.0025
          ],
          [
           0.0025
          ],
          [
           0.0025
          ],
          [
           0
          ],
          [
           0
          ],
          [
           0
          ],
          [
           0
          ],
          [
           0
          ],
          [
           0
          ],
          [
           0
          ],
          [
           0
          ],
          [
           0
          ],
          [
           0
          ],
          [
           0
          ],
          [
           0
          ],
          [
           0
          ],
          [
           0
          ],
          [
           0
          ],
          [
           0
          ],
          [
           0
          ],
          [
           0
          ],
          [
           0
          ],
          [
           0
          ],
          [
           0
          ],
          [
           0
          ],
          [
           0
          ],
          [
           0
          ],
          [
           -0.005
          ],
          [
           -0.005
          ],
          [
           -0.0025
          ],
          [
           -0.0025
          ],
          [
           -0.0025
          ],
          [
           -0.0025
          ],
          [
           -0.0025
          ],
          [
           -0.0025
          ],
          [
           -0.0025
          ],
          [
           -0.0075
          ],
          [
           -0.0075
          ],
          [
           -0.0075
          ],
          [
           -0.0025
          ],
          [
           -0.0025
          ],
          [
           0
          ],
          [
           0
          ],
          [
           0
          ],
          [
           0
          ],
          [
           0
          ],
          [
           0
          ],
          [
           0
          ],
          [
           0
          ],
          [
           0
          ],
          [
           0
          ],
          [
           0
          ],
          [
           -0.005
          ],
          [
           -0.005
          ],
          [
           -0.005
          ],
          [
           -0.005
          ],
          [
           -0.0075
          ],
          [
           -0.0075
          ],
          [
           -0.0075
          ],
          [
           0
          ],
          [
           0
          ],
          [
           0
          ],
          [
           0
          ],
          [
           0
          ],
          [
           0
          ],
          [
           0
          ],
          [
           0
          ],
          [
           0
          ],
          [
           0
          ],
          [
           0
          ],
          [
           0
          ],
          [
           0
          ],
          [
           0
          ],
          [
           0
          ],
          [
           0
          ],
          [
           0
          ],
          [
           0
          ],
          [
           0
          ],
          [
           0
          ],
          [
           0
          ],
          [
           0
          ],
          [
           0
          ],
          [
           0
          ],
          [
           0
          ],
          [
           0
          ],
          [
           0
          ],
          [
           0
          ],
          [
           0
          ],
          [
           0
          ],
          [
           0
          ],
          [
           0
          ],
          [
           0
          ],
          [
           0
          ],
          [
           0
          ],
          [
           0
          ],
          [
           0
          ],
          [
           0
          ],
          [
           0
          ],
          [
           0
          ],
          [
           0
          ],
          [
           0
          ],
          [
           0
          ],
          [
           0
          ],
          [
           0
          ],
          [
           0
          ],
          [
           0
          ],
          [
           0
          ],
          [
           0
          ],
          [
           0
          ],
          [
           0
          ],
          [
           0
          ],
          [
           0
          ],
          [
           0
          ],
          [
           0
          ],
          [
           0
          ],
          [
           0
          ],
          [
           0
          ],
          [
           0
          ],
          [
           0
          ],
          [
           0
          ],
          [
           0
          ],
          [
           0
          ],
          [
           0
          ],
          [
           0
          ],
          [
           0
          ],
          [
           0
          ],
          [
           0
          ],
          [
           0
          ],
          [
           0
          ],
          [
           0
          ],
          [
           0
          ],
          [
           0
          ],
          [
           0
          ],
          [
           0
          ],
          [
           0
          ],
          [
           0
          ],
          [
           0
          ],
          [
           0
          ],
          [
           0
          ],
          [
           0
          ],
          [
           0
          ],
          [
           0
          ],
          [
           0
          ],
          [
           0
          ],
          [
           0
          ],
          [
           0
          ],
          [
           0
          ],
          [
           0
          ],
          [
           0
          ],
          [
           0
          ],
          [
           0
          ],
          [
           0
          ],
          [
           0
          ],
          [
           0
          ],
          [
           0
          ],
          [
           0
          ],
          [
           0
          ],
          [
           0
          ],
          [
           0
          ],
          [
           0
          ],
          [
           0
          ],
          [
           0
          ],
          [
           0
          ],
          [
           0
          ],
          [
           0
          ],
          [
           0
          ],
          [
           0
          ],
          [
           0
          ],
          [
           0
          ],
          [
           0
          ],
          [
           0
          ],
          [
           0
          ],
          [
           0
          ],
          [
           0
          ],
          [
           0
          ],
          [
           0
          ],
          [
           0
          ],
          [
           0
          ],
          [
           0
          ],
          [
           0
          ],
          [
           0
          ]
         ],
         "hovertemplate": "fed_chair=Ben Bernanke<br>count=%{x}<br>action=%{y}<br>rate_change=%{customdata[0]}<extra></extra>",
         "legendgroup": "Ben Bernanke",
         "marker": {
          "color": "#EF553B",
          "pattern": {
           "shape": ""
          }
         },
         "name": "Ben Bernanke",
         "offsetgroup": "Ben Bernanke",
         "orientation": "h",
         "showlegend": true,
         "textposition": "auto",
         "type": "bar",
         "x": [
          1,
          1,
          1,
          1,
          1,
          1,
          1,
          1,
          1,
          1,
          1,
          1,
          1,
          1,
          1,
          1,
          1,
          1,
          1,
          1,
          1,
          1,
          1,
          1,
          1,
          1,
          1,
          1,
          1,
          1,
          1,
          1,
          1,
          1,
          1,
          1,
          1,
          1,
          1,
          1,
          1,
          1,
          1,
          1,
          1,
          1,
          1,
          1,
          1,
          1,
          1,
          1,
          1,
          1,
          1,
          1,
          1,
          1,
          1,
          1,
          1,
          1,
          1,
          1,
          1,
          1,
          1,
          1,
          1,
          1,
          1,
          1,
          1,
          1,
          1,
          1,
          1,
          1,
          1,
          1,
          1,
          1,
          1,
          1,
          1,
          1,
          1,
          1,
          1,
          1,
          1,
          1,
          1,
          1,
          1,
          1,
          1,
          1,
          1,
          1,
          1,
          1,
          1,
          1,
          1,
          1,
          1,
          1,
          1,
          1,
          1,
          1,
          1,
          1,
          1,
          1,
          1,
          1,
          1,
          1,
          1,
          1,
          1,
          1,
          1,
          1,
          1,
          1,
          1,
          1,
          1,
          1,
          1,
          1,
          1,
          1,
          1,
          1,
          1,
          1,
          1,
          1,
          1,
          1,
          1,
          1,
          1,
          1,
          1,
          1,
          1,
          1,
          1,
          1,
          1,
          1,
          1,
          1,
          1,
          1,
          1,
          1,
          1,
          1,
          1,
          1,
          1,
          1,
          1,
          1,
          1,
          1,
          1,
          1,
          1,
          1,
          1,
          1,
          1,
          1,
          1,
          1,
          1,
          1,
          1,
          1,
          1,
          1,
          1,
          1,
          1,
          1
         ],
         "xaxis": "x",
         "y": [
          "increase",
          "increase",
          "increase",
          "increase",
          "increase",
          "increase",
          "increase",
          "increase",
          "increase",
          "increase",
          "increase",
          "increase",
          "increase",
          "increase",
          "no change",
          "no change",
          "no change",
          "no change",
          "no change",
          "no change",
          "no change",
          "no change",
          "no change",
          "no change",
          "no change",
          "no change",
          "no change",
          "no change",
          "no change",
          "no change",
          "no change",
          "no change",
          "no change",
          "no change",
          "no change",
          "no change",
          "no change",
          "no change",
          "decrease",
          "decrease",
          "decrease",
          "decrease",
          "decrease",
          "decrease",
          "decrease",
          "decrease",
          "decrease",
          "decrease",
          "decrease",
          "decrease",
          "decrease",
          "decrease",
          "no change",
          "no change",
          "no change",
          "no change",
          "no change",
          "no change",
          "no change",
          "no change",
          "no change",
          "no change",
          "no change",
          "decrease",
          "decrease",
          "decrease",
          "decrease",
          "increase",
          "increase",
          "increase",
          "no change",
          "no change",
          "no change",
          "no change",
          "no change",
          "no change",
          "no change",
          "no change",
          "no change",
          "no change",
          "no change",
          "no change",
          "no change",
          "no change",
          "no change",
          "no change",
          "no change",
          "no change",
          "no change",
          "no change",
          "no change",
          "no change",
          "no change",
          "no change",
          "no change",
          "no change",
          "no change",
          "no change",
          "no change",
          "no change",
          "no change",
          "no change",
          "no change",
          "no change",
          "no change",
          "no change",
          "no change",
          "no change",
          "no change",
          "no change",
          "no change",
          "no change",
          "no change",
          "no change",
          "no change",
          "no change",
          "no change",
          "no change",
          "no change",
          "no change",
          "no change",
          "no change",
          "no change",
          "no change",
          "no change",
          "no change",
          "no change",
          "no change",
          "no change",
          "no change",
          "no change",
          "no change",
          "no change",
          "no change",
          "no change",
          "no change",
          "no change",
          "no change",
          "no change",
          "no change",
          "no change",
          "no change",
          "no change",
          "no change",
          "no change",
          "no change",
          "no change",
          "no change",
          "no change",
          "no change",
          "no change",
          "no change",
          "no change",
          "no change",
          "no change",
          "no change",
          "no change",
          "no change",
          "no change",
          "no change",
          "no change",
          "no change",
          "no change",
          "no change",
          "no change",
          "no change",
          "no change",
          "no change",
          "no change",
          "no change",
          "no change",
          "no change",
          "no change",
          "no change",
          "no change",
          "no change",
          "no change",
          "no change",
          "no change",
          "no change",
          "no change",
          "no change",
          "no change",
          "no change",
          "no change",
          "no change",
          "no change",
          "no change",
          "no change",
          "no change",
          "no change",
          "no change"
         ],
         "yaxis": "y"
        },
        {
         "alignmentgroup": "True",
         "customdata": [
          [
           0.0025
          ],
          [
           0.0025
          ],
          [
           0
          ],
          [
           0
          ],
          [
           0
          ],
          [
           0
          ],
          [
           0
          ],
          [
           0
          ],
          [
           0
          ],
          [
           0
          ],
          [
           0
          ],
          [
           0.0025
          ],
          [
           0
          ],
          [
           0
          ],
          [
           0.0025
          ],
          [
           0
          ],
          [
           0
          ],
          [
           0
          ],
          [
           0
          ],
          [
           0
          ],
          [
           0.0025
          ]
         ],
         "hovertemplate": "fed_chair=Janet Yellen<br>count=%{x}<br>action=%{y}<br>rate_change=%{customdata[0]}<extra></extra>",
         "legendgroup": "Janet Yellen",
         "marker": {
          "color": "#00cc96",
          "pattern": {
           "shape": ""
          }
         },
         "name": "Janet Yellen",
         "offsetgroup": "Janet Yellen",
         "orientation": "h",
         "showlegend": true,
         "textposition": "auto",
         "type": "bar",
         "x": [
          1,
          1,
          1,
          1,
          1,
          1,
          1,
          1,
          1,
          1,
          1,
          1,
          1,
          1,
          1,
          1,
          1,
          1,
          1,
          1,
          1
         ],
         "xaxis": "x",
         "y": [
          "increase",
          "increase",
          "no change",
          "no change",
          "no change",
          "no change",
          "no change",
          "no change",
          "no change",
          "no change",
          "no change",
          "increase",
          "no change",
          "no change",
          "increase",
          "no change",
          "no change",
          "no change",
          "no change",
          "no change",
          "increase"
         ],
         "yaxis": "y"
        },
        {
         "alignmentgroup": "True",
         "customdata": [
          [
           0.0025
          ],
          [
           0
          ],
          [
           0.0025
          ],
          [
           0.0025
          ],
          [
           0
          ],
          [
           0.0025
          ],
          [
           0.0025
          ],
          [
           0
          ],
          [
           0
          ],
          [
           0.0025
          ],
          [
           0.0025
          ],
          [
           0.0025
          ],
          [
           0
          ],
          [
           0
          ],
          [
           0
          ],
          [
           0
          ],
          [
           0
          ],
          [
           0
          ],
          [
           0
          ],
          [
           0
          ],
          [
           -0.0025
          ],
          [
           -0.0025
          ],
          [
           -0.0025
          ],
          [
           -0.0025
          ],
          [
           0
          ],
          [
           -0.0025
          ],
          [
           -0.0025
          ],
          [
           -0.0025
          ],
          [
           -0.0025
          ],
          [
           0
          ],
          [
           -0.01
          ],
          [
           0
          ],
          [
           0
          ],
          [
           0
          ]
         ],
         "hovertemplate": "fed_chair=Jerome Powell<br>count=%{x}<br>action=%{y}<br>rate_change=%{customdata[0]}<extra></extra>",
         "legendgroup": "Jerome Powell",
         "marker": {
          "color": "#ab63fa",
          "pattern": {
           "shape": ""
          }
         },
         "name": "Jerome Powell",
         "offsetgroup": "Jerome Powell",
         "orientation": "h",
         "showlegend": true,
         "textposition": "auto",
         "type": "bar",
         "x": [
          1,
          1,
          1,
          1,
          1,
          1,
          1,
          1,
          1,
          1,
          1,
          1,
          1,
          1,
          1,
          1,
          1,
          1,
          1,
          1,
          1,
          1,
          1,
          1,
          1,
          1,
          1,
          1,
          1,
          1,
          1,
          1,
          1,
          1
         ],
         "xaxis": "x",
         "y": [
          "increase",
          "no change",
          "increase",
          "increase",
          "no change",
          "increase",
          "increase",
          "no change",
          "no change",
          "increase",
          "increase",
          "increase",
          "no change",
          "no change",
          "no change",
          "no change",
          "no change",
          "no change",
          "no change",
          "no change",
          "same",
          "same",
          "same",
          "decrease",
          "no change",
          "decrease",
          "decrease",
          "decrease",
          "decrease",
          "no change",
          "decrease",
          "no change",
          "no change",
          "no change"
         ],
         "yaxis": "y"
        }
       ],
       "layout": {
        "autosize": true,
        "barmode": "relative",
        "legend": {
         "title": {
          "text": "fed_chair"
         },
         "tracegroupgap": 0
        },
        "template": {
         "data": {
          "bar": [
           {
            "error_x": {
             "color": "#2a3f5f"
            },
            "error_y": {
             "color": "#2a3f5f"
            },
            "marker": {
             "line": {
              "color": "#E5ECF6",
              "width": 0.5
             },
             "pattern": {
              "fillmode": "overlay",
              "size": 10,
              "solidity": 0.2
             }
            },
            "type": "bar"
           }
          ],
          "barpolar": [
           {
            "marker": {
             "line": {
              "color": "#E5ECF6",
              "width": 0.5
             },
             "pattern": {
              "fillmode": "overlay",
              "size": 10,
              "solidity": 0.2
             }
            },
            "type": "barpolar"
           }
          ],
          "carpet": [
           {
            "aaxis": {
             "endlinecolor": "#2a3f5f",
             "gridcolor": "white",
             "linecolor": "white",
             "minorgridcolor": "white",
             "startlinecolor": "#2a3f5f"
            },
            "baxis": {
             "endlinecolor": "#2a3f5f",
             "gridcolor": "white",
             "linecolor": "white",
             "minorgridcolor": "white",
             "startlinecolor": "#2a3f5f"
            },
            "type": "carpet"
           }
          ],
          "choropleth": [
           {
            "colorbar": {
             "outlinewidth": 0,
             "ticks": ""
            },
            "type": "choropleth"
           }
          ],
          "contour": [
           {
            "colorbar": {
             "outlinewidth": 0,
             "ticks": ""
            },
            "colorscale": [
             [
              0,
              "#0d0887"
             ],
             [
              0.1111111111111111,
              "#46039f"
             ],
             [
              0.2222222222222222,
              "#7201a8"
             ],
             [
              0.3333333333333333,
              "#9c179e"
             ],
             [
              0.4444444444444444,
              "#bd3786"
             ],
             [
              0.5555555555555556,
              "#d8576b"
             ],
             [
              0.6666666666666666,
              "#ed7953"
             ],
             [
              0.7777777777777778,
              "#fb9f3a"
             ],
             [
              0.8888888888888888,
              "#fdca26"
             ],
             [
              1,
              "#f0f921"
             ]
            ],
            "type": "contour"
           }
          ],
          "contourcarpet": [
           {
            "colorbar": {
             "outlinewidth": 0,
             "ticks": ""
            },
            "type": "contourcarpet"
           }
          ],
          "heatmap": [
           {
            "colorbar": {
             "outlinewidth": 0,
             "ticks": ""
            },
            "colorscale": [
             [
              0,
              "#0d0887"
             ],
             [
              0.1111111111111111,
              "#46039f"
             ],
             [
              0.2222222222222222,
              "#7201a8"
             ],
             [
              0.3333333333333333,
              "#9c179e"
             ],
             [
              0.4444444444444444,
              "#bd3786"
             ],
             [
              0.5555555555555556,
              "#d8576b"
             ],
             [
              0.6666666666666666,
              "#ed7953"
             ],
             [
              0.7777777777777778,
              "#fb9f3a"
             ],
             [
              0.8888888888888888,
              "#fdca26"
             ],
             [
              1,
              "#f0f921"
             ]
            ],
            "type": "heatmap"
           }
          ],
          "heatmapgl": [
           {
            "colorbar": {
             "outlinewidth": 0,
             "ticks": ""
            },
            "colorscale": [
             [
              0,
              "#0d0887"
             ],
             [
              0.1111111111111111,
              "#46039f"
             ],
             [
              0.2222222222222222,
              "#7201a8"
             ],
             [
              0.3333333333333333,
              "#9c179e"
             ],
             [
              0.4444444444444444,
              "#bd3786"
             ],
             [
              0.5555555555555556,
              "#d8576b"
             ],
             [
              0.6666666666666666,
              "#ed7953"
             ],
             [
              0.7777777777777778,
              "#fb9f3a"
             ],
             [
              0.8888888888888888,
              "#fdca26"
             ],
             [
              1,
              "#f0f921"
             ]
            ],
            "type": "heatmapgl"
           }
          ],
          "histogram": [
           {
            "marker": {
             "pattern": {
              "fillmode": "overlay",
              "size": 10,
              "solidity": 0.2
             }
            },
            "type": "histogram"
           }
          ],
          "histogram2d": [
           {
            "colorbar": {
             "outlinewidth": 0,
             "ticks": ""
            },
            "colorscale": [
             [
              0,
              "#0d0887"
             ],
             [
              0.1111111111111111,
              "#46039f"
             ],
             [
              0.2222222222222222,
              "#7201a8"
             ],
             [
              0.3333333333333333,
              "#9c179e"
             ],
             [
              0.4444444444444444,
              "#bd3786"
             ],
             [
              0.5555555555555556,
              "#d8576b"
             ],
             [
              0.6666666666666666,
              "#ed7953"
             ],
             [
              0.7777777777777778,
              "#fb9f3a"
             ],
             [
              0.8888888888888888,
              "#fdca26"
             ],
             [
              1,
              "#f0f921"
             ]
            ],
            "type": "histogram2d"
           }
          ],
          "histogram2dcontour": [
           {
            "colorbar": {
             "outlinewidth": 0,
             "ticks": ""
            },
            "colorscale": [
             [
              0,
              "#0d0887"
             ],
             [
              0.1111111111111111,
              "#46039f"
             ],
             [
              0.2222222222222222,
              "#7201a8"
             ],
             [
              0.3333333333333333,
              "#9c179e"
             ],
             [
              0.4444444444444444,
              "#bd3786"
             ],
             [
              0.5555555555555556,
              "#d8576b"
             ],
             [
              0.6666666666666666,
              "#ed7953"
             ],
             [
              0.7777777777777778,
              "#fb9f3a"
             ],
             [
              0.8888888888888888,
              "#fdca26"
             ],
             [
              1,
              "#f0f921"
             ]
            ],
            "type": "histogram2dcontour"
           }
          ],
          "mesh3d": [
           {
            "colorbar": {
             "outlinewidth": 0,
             "ticks": ""
            },
            "type": "mesh3d"
           }
          ],
          "parcoords": [
           {
            "line": {
             "colorbar": {
              "outlinewidth": 0,
              "ticks": ""
             }
            },
            "type": "parcoords"
           }
          ],
          "pie": [
           {
            "automargin": true,
            "type": "pie"
           }
          ],
          "scatter": [
           {
            "marker": {
             "colorbar": {
              "outlinewidth": 0,
              "ticks": ""
             }
            },
            "type": "scatter"
           }
          ],
          "scatter3d": [
           {
            "line": {
             "colorbar": {
              "outlinewidth": 0,
              "ticks": ""
             }
            },
            "marker": {
             "colorbar": {
              "outlinewidth": 0,
              "ticks": ""
             }
            },
            "type": "scatter3d"
           }
          ],
          "scattercarpet": [
           {
            "marker": {
             "colorbar": {
              "outlinewidth": 0,
              "ticks": ""
             }
            },
            "type": "scattercarpet"
           }
          ],
          "scattergeo": [
           {
            "marker": {
             "colorbar": {
              "outlinewidth": 0,
              "ticks": ""
             }
            },
            "type": "scattergeo"
           }
          ],
          "scattergl": [
           {
            "marker": {
             "colorbar": {
              "outlinewidth": 0,
              "ticks": ""
             }
            },
            "type": "scattergl"
           }
          ],
          "scattermapbox": [
           {
            "marker": {
             "colorbar": {
              "outlinewidth": 0,
              "ticks": ""
             }
            },
            "type": "scattermapbox"
           }
          ],
          "scatterpolar": [
           {
            "marker": {
             "colorbar": {
              "outlinewidth": 0,
              "ticks": ""
             }
            },
            "type": "scatterpolar"
           }
          ],
          "scatterpolargl": [
           {
            "marker": {
             "colorbar": {
              "outlinewidth": 0,
              "ticks": ""
             }
            },
            "type": "scatterpolargl"
           }
          ],
          "scatterternary": [
           {
            "marker": {
             "colorbar": {
              "outlinewidth": 0,
              "ticks": ""
             }
            },
            "type": "scatterternary"
           }
          ],
          "surface": [
           {
            "colorbar": {
             "outlinewidth": 0,
             "ticks": ""
            },
            "colorscale": [
             [
              0,
              "#0d0887"
             ],
             [
              0.1111111111111111,
              "#46039f"
             ],
             [
              0.2222222222222222,
              "#7201a8"
             ],
             [
              0.3333333333333333,
              "#9c179e"
             ],
             [
              0.4444444444444444,
              "#bd3786"
             ],
             [
              0.5555555555555556,
              "#d8576b"
             ],
             [
              0.6666666666666666,
              "#ed7953"
             ],
             [
              0.7777777777777778,
              "#fb9f3a"
             ],
             [
              0.8888888888888888,
              "#fdca26"
             ],
             [
              1,
              "#f0f921"
             ]
            ],
            "type": "surface"
           }
          ],
          "table": [
           {
            "cells": {
             "fill": {
              "color": "#EBF0F8"
             },
             "line": {
              "color": "white"
             }
            },
            "header": {
             "fill": {
              "color": "#C8D4E3"
             },
             "line": {
              "color": "white"
             }
            },
            "type": "table"
           }
          ]
         },
         "layout": {
          "annotationdefaults": {
           "arrowcolor": "#2a3f5f",
           "arrowhead": 0,
           "arrowwidth": 1
          },
          "autotypenumbers": "strict",
          "coloraxis": {
           "colorbar": {
            "outlinewidth": 0,
            "ticks": ""
           }
          },
          "colorscale": {
           "diverging": [
            [
             0,
             "#8e0152"
            ],
            [
             0.1,
             "#c51b7d"
            ],
            [
             0.2,
             "#de77ae"
            ],
            [
             0.3,
             "#f1b6da"
            ],
            [
             0.4,
             "#fde0ef"
            ],
            [
             0.5,
             "#f7f7f7"
            ],
            [
             0.6,
             "#e6f5d0"
            ],
            [
             0.7,
             "#b8e186"
            ],
            [
             0.8,
             "#7fbc41"
            ],
            [
             0.9,
             "#4d9221"
            ],
            [
             1,
             "#276419"
            ]
           ],
           "sequential": [
            [
             0,
             "#0d0887"
            ],
            [
             0.1111111111111111,
             "#46039f"
            ],
            [
             0.2222222222222222,
             "#7201a8"
            ],
            [
             0.3333333333333333,
             "#9c179e"
            ],
            [
             0.4444444444444444,
             "#bd3786"
            ],
            [
             0.5555555555555556,
             "#d8576b"
            ],
            [
             0.6666666666666666,
             "#ed7953"
            ],
            [
             0.7777777777777778,
             "#fb9f3a"
            ],
            [
             0.8888888888888888,
             "#fdca26"
            ],
            [
             1,
             "#f0f921"
            ]
           ],
           "sequentialminus": [
            [
             0,
             "#0d0887"
            ],
            [
             0.1111111111111111,
             "#46039f"
            ],
            [
             0.2222222222222222,
             "#7201a8"
            ],
            [
             0.3333333333333333,
             "#9c179e"
            ],
            [
             0.4444444444444444,
             "#bd3786"
            ],
            [
             0.5555555555555556,
             "#d8576b"
            ],
            [
             0.6666666666666666,
             "#ed7953"
            ],
            [
             0.7777777777777778,
             "#fb9f3a"
            ],
            [
             0.8888888888888888,
             "#fdca26"
            ],
            [
             1,
             "#f0f921"
            ]
           ]
          },
          "colorway": [
           "#636efa",
           "#EF553B",
           "#00cc96",
           "#ab63fa",
           "#FFA15A",
           "#19d3f3",
           "#FF6692",
           "#B6E880",
           "#FF97FF",
           "#FECB52"
          ],
          "font": {
           "color": "#2a3f5f"
          },
          "geo": {
           "bgcolor": "white",
           "lakecolor": "white",
           "landcolor": "#E5ECF6",
           "showlakes": true,
           "showland": true,
           "subunitcolor": "white"
          },
          "hoverlabel": {
           "align": "left"
          },
          "hovermode": "closest",
          "mapbox": {
           "style": "light"
          },
          "paper_bgcolor": "white",
          "plot_bgcolor": "#E5ECF6",
          "polar": {
           "angularaxis": {
            "gridcolor": "white",
            "linecolor": "white",
            "ticks": ""
           },
           "bgcolor": "#E5ECF6",
           "radialaxis": {
            "gridcolor": "white",
            "linecolor": "white",
            "ticks": ""
           }
          },
          "scene": {
           "xaxis": {
            "backgroundcolor": "#E5ECF6",
            "gridcolor": "white",
            "gridwidth": 2,
            "linecolor": "white",
            "showbackground": true,
            "ticks": "",
            "zerolinecolor": "white"
           },
           "yaxis": {
            "backgroundcolor": "#E5ECF6",
            "gridcolor": "white",
            "gridwidth": 2,
            "linecolor": "white",
            "showbackground": true,
            "ticks": "",
            "zerolinecolor": "white"
           },
           "zaxis": {
            "backgroundcolor": "#E5ECF6",
            "gridcolor": "white",
            "gridwidth": 2,
            "linecolor": "white",
            "showbackground": true,
            "ticks": "",
            "zerolinecolor": "white"
           }
          },
          "shapedefaults": {
           "line": {
            "color": "#2a3f5f"
           }
          },
          "ternary": {
           "aaxis": {
            "gridcolor": "white",
            "linecolor": "white",
            "ticks": ""
           },
           "baxis": {
            "gridcolor": "white",
            "linecolor": "white",
            "ticks": ""
           },
           "bgcolor": "#E5ECF6",
           "caxis": {
            "gridcolor": "white",
            "linecolor": "white",
            "ticks": ""
           }
          },
          "title": {
           "x": 0.05
          },
          "xaxis": {
           "automargin": true,
           "gridcolor": "white",
           "linecolor": "white",
           "ticks": "",
           "title": {
            "standoff": 15
           },
           "zerolinecolor": "white",
           "zerolinewidth": 2
          },
          "yaxis": {
           "automargin": true,
           "gridcolor": "white",
           "linecolor": "white",
           "ticks": "",
           "title": {
            "standoff": 15
           },
           "zerolinecolor": "white",
           "zerolinewidth": 2
          }
         }
        },
        "title": {
         "text": "Rate Changes by Fed Chair"
        },
        "xaxis": {
         "anchor": "y",
         "autorange": true,
         "domain": [
          0,
          1
         ],
         "range": [
          0,
          303.1578947368421
         ],
         "title": {
          "text": "count"
         },
         "type": "linear"
        },
        "yaxis": {
         "anchor": "x",
         "autorange": true,
         "domain": [
          0,
          1
         ],
         "range": [
          -0.5,
          3.5
         ],
         "title": {
          "text": "action"
         },
         "type": "category"
        }
       }
      },
      "image/png": "[encoded data removed]",
      "text/html": [
       "<div>                            <div id=\"562d40e6-72d9-4526-87bb-d1851b8af036\" class=\"plotly-graph-div\" style=\"height:400px; width:100%;\"></div>            <script type=\"text/javascript\">                require([\"plotly\"], function(Plotly) {                    window.PLOTLYENV=window.PLOTLYENV || {};                                    if (document.getElementById(\"562d40e6-72d9-4526-87bb-d1851b8af036\")) {                    Plotly.newPlot(                        \"562d40e6-72d9-4526-87bb-d1851b8af036\",                        [{\"alignmentgroup\":\"True\",\"customdata\":[[0.0],[0.0],[0.0],[0.0],[0.0],[0.0],[0.0],[0.0],[0.0],[0.0025],[0.0025],[0.0025],[0.0],[0.0],[0.0],[0.0],[0.0],[0.0],[0.0],[0.0],[0.0],[0.0],[0.0],[0.0],[0.0],[0.0],[0.0],[0.0],[0.0],[0.0],[0.0],[0.0],[0.0],[0.0],[0.0],[0.0],[0.0],[0.0],[-0.0025],[-0.0025],[0.0],[0.0],[0.0],[0.0],[0.0],[0.0],[0.0],[0.0],[0.0025],[0.0025],[0.0],[0.0],[0.0],[0.0],[0.0],[0.0025],[0.0025],[0.0025],[0.0025],[0.0025],[0.0025],[0.0025],[0.0025],[0.0025],[0.0025],[0.005],[0.005],[0.005],[0.005],[0.005],[0.005],[0.005],[0.005],[0.0],[0.0],[0.0],[0.0],[0.0],[0.0],[0.0],[0.0],[0.0],[0.0],[0.0],[0.0],[0.0],[-0.005],[-0.005],[-0.005],[-0.005],[-0.005],[-0.0025],[-0.0025],[-0.0025],[-0.0025],[-0.0025],[-0.005],[-0.005],[-0.005],[-0.005],[-0.005],[-0.0025],[-0.0025],[-0.0025],[0.0],[0.0],[0.0],[0.0],[0.0],[0.0],[0.0],[0.0],[0.0],[0.0],[-0.005],[-0.005],[-0.005],[-0.005],[-0.005],[-0.005],[0.0],[0.0],[0.0],[0.0],[0.0],[0.0],[0.0],[0.0],[0.0],[0.0],[-0.0025],[-0.0025],[0.0],[0.0],[0.0],[0.0],[0.0],[0.0],[0.0],[0.0],[0.0],[0.0],[0.0],[0.0],[0.0],[0.0],[0.0],[0.0],[0.0],[0.0003],[0.0003],[0.0003],[0.0003],[0.0025],[0.0025],[0.0025],[0.0025],[0.0025],[0.0025],[0.0025],[0.0025],[0.0025],[0.0025],[0.0025],[0.0025],[0.0025],[0.0025],[0.0025],[0.0025],[0.0025],[0.0025],[0.0025],[0.0025],[0.0025],[0.0025],[0.0025],[0.0025],[0.0025],[0.0025],[0.0025],[0.0025],[0.0025],[0.0025]],\"hovertemplate\":\"fed_chair=Alan\\u00a0Greenspan<br>count=%{x}<br>action=%{y}<br>rate_change=%{customdata[0]}<extra></extra>\",\"legendgroup\":\"Alan\\u00a0Greenspan\",\"marker\":{\"color\":\"#636efa\",\"pattern\":{\"shape\":\"\"}},\"name\":\"Alan\\u00a0Greenspan\",\"offsetgroup\":\"Alan\\u00a0Greenspan\",\"orientation\":\"h\",\"showlegend\":true,\"textposition\":\"auto\",\"x\":[1,1,1,1,1,1,1,1,1,1,1,1,1,1,1,1,1,1,1,1,1,1,1,1,1,1,1,1,1,1,1,1,1,1,1,1,1,1,1,1,1,1,1,1,1,1,1,1,1,1,1,1,1,1,1,1,1,1,1,1,1,1,1,1,1,1,1,1,1,1,1,1,1,1,1,1,1,1,1,1,1,1,1,1,1,1,1,1,1,1,1,1,1,1,1,1,1,1,1,1,1,1,1,1,1,1,1,1,1,1,1,1,1,1,1,1,1,1,1,1,1,1,1,1,1,1,1,1,1,1,1,1,1,1,1,1,1,1,1,1,1,1,1,1,1,1,1,1,1,1,1,1,1,1,1,1,1,1,1,1,1,1,1,1,1,1,1,1,1,1,1,1,1,1,1,1,1,1,1,1,1,1,1],\"xaxis\":\"x\",\"y\":[\"no change\",\"no change\",\"no change\",\"no change\",\"no change\",\"no change\",\"no change\",\"no change\",\"no change\",\"decrease\",\"decrease\",\"decrease\",\"no change\",\"no change\",\"no change\",\"no change\",\"no change\",\"no change\",\"no change\",\"no change\",\"no change\",\"no change\",\"no change\",\"no change\",\"no change\",\"no change\",\"no change\",\"no change\",\"no change\",\"no change\",\"no change\",\"no change\",\"no change\",\"no change\",\"no change\",\"no change\",\"no change\",\"no change\",\"decrease\",\"decrease\",\"no change\",\"no change\",\"no change\",\"no change\",\"no change\",\"no change\",\"no change\",\"no change\",\"increase\",\"increase\",\"no change\",\"no change\",\"no change\",\"no change\",\"no change\",\"increase\",\"increase\",\"increase\",\"increase\",\"increase\",\"increase\",\"increase\",\"increase\",\"increase\",\"increase\",\"increase\",\"increase\",\"increase\",\"increase\",\"increase\",\"increase\",\"increase\",\"increase\",\"no change\",\"no change\",\"no change\",\"no change\",\"no change\",\"no change\",\"no change\",\"no change\",\"no change\",\"no change\",\"no change\",\"no change\",\"no change\",\"decrease\",\"decrease\",\"decrease\",\"decrease\",\"decrease\",\"decrease\",\"decrease\",\"decrease\",\"decrease\",\"decrease\",\"decrease\",\"decrease\",\"decrease\",\"decrease\",\"decrease\",\"decrease\",\"decrease\",\"decrease\",\"no change\",\"no change\",\"no change\",\"no change\",\"no change\",\"no change\",\"no change\",\"no change\",\"no change\",\"no change\",\"decrease\",\"decrease\",\"decrease\",\"decrease\",\"decrease\",\"decrease\",\"no change\",\"no change\",\"no change\",\"no change\",\"no change\",\"no change\",\"no change\",\"no change\",\"no change\",\"no change\",\"decrease\",\"decrease\",\"no change\",\"no change\",\"no change\",\"no change\",\"no change\",\"no change\",\"no change\",\"no change\",\"no change\",\"no change\",\"no change\",\"no change\",\"no change\",\"no change\",\"no change\",\"no change\",\"no change\",\"increase\",\"increase\",\"increase\",\"increase\",\"increase\",\"increase\",\"increase\",\"increase\",\"increase\",\"increase\",\"increase\",\"increase\",\"increase\",\"increase\",\"increase\",\"increase\",\"increase\",\"increase\",\"increase\",\"increase\",\"increase\",\"increase\",\"increase\",\"increase\",\"increase\",\"increase\",\"increase\",\"increase\",\"increase\",\"increase\",\"increase\",\"increase\",\"increase\",\"increase\"],\"yaxis\":\"y\",\"type\":\"bar\"},{\"alignmentgroup\":\"True\",\"customdata\":[[0.0025],[0.0025],[0.0025],[0.0025],[0.0025],[0.0025],[0.0025],[0.0025],[0.0025],[0.0025],[0.0025],[0.0025],[0.0025],[0.0025],[0.0],[0.0],[0.0],[0.0],[0.0],[0.0],[0.0],[0.0],[0.0],[0.0],[0.0],[0.0],[0.0],[0.0],[0.0],[0.0],[0.0],[0.0],[0.0],[0.0],[0.0],[0.0],[0.0],[0.0],[-0.005],[-0.005],[-0.0025],[-0.0025],[-0.0025],[-0.0025],[-0.0025],[-0.0025],[-0.0025],[-0.0075],[-0.0075],[-0.0075],[-0.0025],[-0.0025],[0.0],[0.0],[0.0],[0.0],[0.0],[0.0],[0.0],[0.0],[0.0],[0.0],[0.0],[-0.005],[-0.005],[-0.005],[-0.005],[-0.0075],[-0.0075],[-0.0075],[0.0],[0.0],[0.0],[0.0],[0.0],[0.0],[0.0],[0.0],[0.0],[0.0],[0.0],[0.0],[0.0],[0.0],[0.0],[0.0],[0.0],[0.0],[0.0],[0.0],[0.0],[0.0],[0.0],[0.0],[0.0],[0.0],[0.0],[0.0],[0.0],[0.0],[0.0],[0.0],[0.0],[0.0],[0.0],[0.0],[0.0],[0.0],[0.0],[0.0],[0.0],[0.0],[0.0],[0.0],[0.0],[0.0],[0.0],[0.0],[0.0],[0.0],[0.0],[0.0],[0.0],[0.0],[0.0],[0.0],[0.0],[0.0],[0.0],[0.0],[0.0],[0.0],[0.0],[0.0],[0.0],[0.0],[0.0],[0.0],[0.0],[0.0],[0.0],[0.0],[0.0],[0.0],[0.0],[0.0],[0.0],[0.0],[0.0],[0.0],[0.0],[0.0],[0.0],[0.0],[0.0],[0.0],[0.0],[0.0],[0.0],[0.0],[0.0],[0.0],[0.0],[0.0],[0.0],[0.0],[0.0],[0.0],[0.0],[0.0],[0.0],[0.0],[0.0],[0.0],[0.0],[0.0],[0.0],[0.0],[0.0],[0.0],[0.0],[0.0],[0.0],[0.0],[0.0],[0.0],[0.0],[0.0],[0.0],[0.0],[0.0],[0.0]],\"hovertemplate\":\"fed_chair=Ben Bernanke<br>count=%{x}<br>action=%{y}<br>rate_change=%{customdata[0]}<extra></extra>\",\"legendgroup\":\"Ben Bernanke\",\"marker\":{\"color\":\"#EF553B\",\"pattern\":{\"shape\":\"\"}},\"name\":\"Ben Bernanke\",\"offsetgroup\":\"Ben Bernanke\",\"orientation\":\"h\",\"showlegend\":true,\"textposition\":\"auto\",\"x\":[1,1,1,1,1,1,1,1,1,1,1,1,1,1,1,1,1,1,1,1,1,1,1,1,1,1,1,1,1,1,1,1,1,1,1,1,1,1,1,1,1,1,1,1,1,1,1,1,1,1,1,1,1,1,1,1,1,1,1,1,1,1,1,1,1,1,1,1,1,1,1,1,1,1,1,1,1,1,1,1,1,1,1,1,1,1,1,1,1,1,1,1,1,1,1,1,1,1,1,1,1,1,1,1,1,1,1,1,1,1,1,1,1,1,1,1,1,1,1,1,1,1,1,1,1,1,1,1,1,1,1,1,1,1,1,1,1,1,1,1,1,1,1,1,1,1,1,1,1,1,1,1,1,1,1,1,1,1,1,1,1,1,1,1,1,1,1,1,1,1,1,1,1,1,1,1,1,1,1,1,1,1,1,1,1,1,1,1,1,1,1,1],\"xaxis\":\"x\",\"y\":[\"increase\",\"increase\",\"increase\",\"increase\",\"increase\",\"increase\",\"increase\",\"increase\",\"increase\",\"increase\",\"increase\",\"increase\",\"increase\",\"increase\",\"no change\",\"no change\",\"no change\",\"no change\",\"no change\",\"no change\",\"no change\",\"no change\",\"no change\",\"no change\",\"no change\",\"no change\",\"no change\",\"no change\",\"no change\",\"no change\",\"no change\",\"no change\",\"no change\",\"no change\",\"no change\",\"no change\",\"no change\",\"no change\",\"decrease\",\"decrease\",\"decrease\",\"decrease\",\"decrease\",\"decrease\",\"decrease\",\"decrease\",\"decrease\",\"decrease\",\"decrease\",\"decrease\",\"decrease\",\"decrease\",\"no change\",\"no change\",\"no change\",\"no change\",\"no change\",\"no change\",\"no change\",\"no change\",\"no change\",\"no change\",\"no change\",\"decrease\",\"decrease\",\"decrease\",\"decrease\",\"increase\",\"increase\",\"increase\",\"no change\",\"no change\",\"no change\",\"no change\",\"no change\",\"no change\",\"no change\",\"no change\",\"no change\",\"no change\",\"no change\",\"no change\",\"no change\",\"no change\",\"no change\",\"no change\",\"no change\",\"no change\",\"no change\",\"no change\",\"no change\",\"no change\",\"no change\",\"no change\",\"no change\",\"no change\",\"no change\",\"no change\",\"no change\",\"no change\",\"no change\",\"no change\",\"no change\",\"no change\",\"no change\",\"no change\",\"no change\",\"no change\",\"no change\",\"no change\",\"no change\",\"no change\",\"no change\",\"no change\",\"no change\",\"no change\",\"no change\",\"no change\",\"no change\",\"no change\",\"no change\",\"no change\",\"no change\",\"no change\",\"no change\",\"no change\",\"no change\",\"no change\",\"no change\",\"no change\",\"no change\",\"no change\",\"no change\",\"no change\",\"no change\",\"no change\",\"no change\",\"no change\",\"no change\",\"no change\",\"no change\",\"no change\",\"no change\",\"no change\",\"no change\",\"no change\",\"no change\",\"no change\",\"no change\",\"no change\",\"no change\",\"no change\",\"no change\",\"no change\",\"no change\",\"no change\",\"no change\",\"no change\",\"no change\",\"no change\",\"no change\",\"no change\",\"no change\",\"no change\",\"no change\",\"no change\",\"no change\",\"no change\",\"no change\",\"no change\",\"no change\",\"no change\",\"no change\",\"no change\",\"no change\",\"no change\",\"no change\",\"no change\",\"no change\",\"no change\",\"no change\",\"no change\",\"no change\",\"no change\",\"no change\",\"no change\",\"no change\",\"no change\",\"no change\",\"no change\",\"no change\",\"no change\"],\"yaxis\":\"y\",\"type\":\"bar\"},{\"alignmentgroup\":\"True\",\"customdata\":[[0.0025],[0.0025],[0.0],[0.0],[0.0],[0.0],[0.0],[0.0],[0.0],[0.0],[0.0],[0.0025],[0.0],[0.0],[0.0025],[0.0],[0.0],[0.0],[0.0],[0.0],[0.0025]],\"hovertemplate\":\"fed_chair=Janet Yellen<br>count=%{x}<br>action=%{y}<br>rate_change=%{customdata[0]}<extra></extra>\",\"legendgroup\":\"Janet Yellen\",\"marker\":{\"color\":\"#00cc96\",\"pattern\":{\"shape\":\"\"}},\"name\":\"Janet Yellen\",\"offsetgroup\":\"Janet Yellen\",\"orientation\":\"h\",\"showlegend\":true,\"textposition\":\"auto\",\"x\":[1,1,1,1,1,1,1,1,1,1,1,1,1,1,1,1,1,1,1,1,1],\"xaxis\":\"x\",\"y\":[\"increase\",\"increase\",\"no change\",\"no change\",\"no change\",\"no change\",\"no change\",\"no change\",\"no change\",\"no change\",\"no change\",\"increase\",\"no change\",\"no change\",\"increase\",\"no change\",\"no change\",\"no change\",\"no change\",\"no change\",\"increase\"],\"yaxis\":\"y\",\"type\":\"bar\"},{\"alignmentgroup\":\"True\",\"customdata\":[[0.0025],[0.0],[0.0025],[0.0025],[0.0],[0.0025],[0.0025],[0.0],[0.0],[0.0025],[0.0025],[0.0025],[0.0],[0.0],[0.0],[0.0],[0.0],[0.0],[0.0],[0.0],[-0.0025],[-0.0025],[-0.0025],[-0.0025],[0.0],[-0.0025],[-0.0025],[-0.0025],[-0.0025],[0.0],[-0.01],[0.0],[0.0],[0.0]],\"hovertemplate\":\"fed_chair=Jerome Powell<br>count=%{x}<br>action=%{y}<br>rate_change=%{customdata[0]}<extra></extra>\",\"legendgroup\":\"Jerome Powell\",\"marker\":{\"color\":\"#ab63fa\",\"pattern\":{\"shape\":\"\"}},\"name\":\"Jerome Powell\",\"offsetgroup\":\"Jerome Powell\",\"orientation\":\"h\",\"showlegend\":true,\"textposition\":\"auto\",\"x\":[1,1,1,1,1,1,1,1,1,1,1,1,1,1,1,1,1,1,1,1,1,1,1,1,1,1,1,1,1,1,1,1,1,1],\"xaxis\":\"x\",\"y\":[\"increase\",\"no change\",\"increase\",\"increase\",\"no change\",\"increase\",\"increase\",\"no change\",\"no change\",\"increase\",\"increase\",\"increase\",\"no change\",\"no change\",\"no change\",\"no change\",\"no change\",\"no change\",\"no change\",\"no change\",\"same\",\"same\",\"same\",\"decrease\",\"no change\",\"decrease\",\"decrease\",\"decrease\",\"decrease\",\"no change\",\"decrease\",\"no change\",\"no change\",\"no change\"],\"yaxis\":\"y\",\"type\":\"bar\"}],                        {\"template\":{\"data\":{\"bar\":[{\"error_x\":{\"color\":\"#2a3f5f\"},\"error_y\":{\"color\":\"#2a3f5f\"},\"marker\":{\"line\":{\"color\":\"#E5ECF6\",\"width\":0.5},\"pattern\":{\"fillmode\":\"overlay\",\"size\":10,\"solidity\":0.2}},\"type\":\"bar\"}],\"barpolar\":[{\"marker\":{\"line\":{\"color\":\"#E5ECF6\",\"width\":0.5},\"pattern\":{\"fillmode\":\"overlay\",\"size\":10,\"solidity\":0.2}},\"type\":\"barpolar\"}],\"carpet\":[{\"aaxis\":{\"endlinecolor\":\"#2a3f5f\",\"gridcolor\":\"white\",\"linecolor\":\"white\",\"minorgridcolor\":\"white\",\"startlinecolor\":\"#2a3f5f\"},\"baxis\":{\"endlinecolor\":\"#2a3f5f\",\"gridcolor\":\"white\",\"linecolor\":\"white\",\"minorgridcolor\":\"white\",\"startlinecolor\":\"#2a3f5f\"},\"type\":\"carpet\"}],\"choropleth\":[{\"colorbar\":{\"outlinewidth\":0,\"ticks\":\"\"},\"type\":\"choropleth\"}],\"contour\":[{\"colorbar\":{\"outlinewidth\":0,\"ticks\":\"\"},\"colorscale\":[[0.0,\"#0d0887\"],[0.1111111111111111,\"#46039f\"],[0.2222222222222222,\"#7201a8\"],[0.3333333333333333,\"#9c179e\"],[0.4444444444444444,\"#bd3786\"],[0.5555555555555556,\"#d8576b\"],[0.6666666666666666,\"#ed7953\"],[0.7777777777777778,\"#fb9f3a\"],[0.8888888888888888,\"#fdca26\"],[1.0,\"#f0f921\"]],\"type\":\"contour\"}],\"contourcarpet\":[{\"colorbar\":{\"outlinewidth\":0,\"ticks\":\"\"},\"type\":\"contourcarpet\"}],\"heatmap\":[{\"colorbar\":{\"outlinewidth\":0,\"ticks\":\"\"},\"colorscale\":[[0.0,\"#0d0887\"],[0.1111111111111111,\"#46039f\"],[0.2222222222222222,\"#7201a8\"],[0.3333333333333333,\"#9c179e\"],[0.4444444444444444,\"#bd3786\"],[0.5555555555555556,\"#d8576b\"],[0.6666666666666666,\"#ed7953\"],[0.7777777777777778,\"#fb9f3a\"],[0.8888888888888888,\"#fdca26\"],[1.0,\"#f0f921\"]],\"type\":\"heatmap\"}],\"heatmapgl\":[{\"colorbar\":{\"outlinewidth\":0,\"ticks\":\"\"},\"colorscale\":[[0.0,\"#0d0887\"],[0.1111111111111111,\"#46039f\"],[0.2222222222222222,\"#7201a8\"],[0.3333333333333333,\"#9c179e\"],[0.4444444444444444,\"#bd3786\"],[0.5555555555555556,\"#d8576b\"],[0.6666666666666666,\"#ed7953\"],[0.7777777777777778,\"#fb9f3a\"],[0.8888888888888888,\"#fdca26\"],[1.0,\"#f0f921\"]],\"type\":\"heatmapgl\"}],\"histogram\":[{\"marker\":{\"pattern\":{\"fillmode\":\"overlay\",\"size\":10,\"solidity\":0.2}},\"type\":\"histogram\"}],\"histogram2d\":[{\"colorbar\":{\"outlinewidth\":0,\"ticks\":\"\"},\"colorscale\":[[0.0,\"#0d0887\"],[0.1111111111111111,\"#46039f\"],[0.2222222222222222,\"#7201a8\"],[0.3333333333333333,\"#9c179e\"],[0.4444444444444444,\"#bd3786\"],[0.5555555555555556,\"#d8576b\"],[0.6666666666666666,\"#ed7953\"],[0.7777777777777778,\"#fb9f3a\"],[0.8888888888888888,\"#fdca26\"],[1.0,\"#f0f921\"]],\"type\":\"histogram2d\"}],\"histogram2dcontour\":[{\"colorbar\":{\"outlinewidth\":0,\"ticks\":\"\"},\"colorscale\":[[0.0,\"#0d0887\"],[0.1111111111111111,\"#46039f\"],[0.2222222222222222,\"#7201a8\"],[0.3333333333333333,\"#9c179e\"],[0.4444444444444444,\"#bd3786\"],[0.5555555555555556,\"#d8576b\"],[0.6666666666666666,\"#ed7953\"],[0.7777777777777778,\"#fb9f3a\"],[0.8888888888888888,\"#fdca26\"],[1.0,\"#f0f921\"]],\"type\":\"histogram2dcontour\"}],\"mesh3d\":[{\"colorbar\":{\"outlinewidth\":0,\"ticks\":\"\"},\"type\":\"mesh3d\"}],\"parcoords\":[{\"line\":{\"colorbar\":{\"outlinewidth\":0,\"ticks\":\"\"}},\"type\":\"parcoords\"}],\"pie\":[{\"automargin\":true,\"type\":\"pie\"}],\"scatter\":[{\"marker\":{\"colorbar\":{\"outlinewidth\":0,\"ticks\":\"\"}},\"type\":\"scatter\"}],\"scatter3d\":[{\"line\":{\"colorbar\":{\"outlinewidth\":0,\"ticks\":\"\"}},\"marker\":{\"colorbar\":{\"outlinewidth\":0,\"ticks\":\"\"}},\"type\":\"scatter3d\"}],\"scattercarpet\":[{\"marker\":{\"colorbar\":{\"outlinewidth\":0,\"ticks\":\"\"}},\"type\":\"scattercarpet\"}],\"scattergeo\":[{\"marker\":{\"colorbar\":{\"outlinewidth\":0,\"ticks\":\"\"}},\"type\":\"scattergeo\"}],\"scattergl\":[{\"marker\":{\"colorbar\":{\"outlinewidth\":0,\"ticks\":\"\"}},\"type\":\"scattergl\"}],\"scattermapbox\":[{\"marker\":{\"colorbar\":{\"outlinewidth\":0,\"ticks\":\"\"}},\"type\":\"scattermapbox\"}],\"scatterpolar\":[{\"marker\":{\"colorbar\":{\"outlinewidth\":0,\"ticks\":\"\"}},\"type\":\"scatterpolar\"}],\"scatterpolargl\":[{\"marker\":{\"colorbar\":{\"outlinewidth\":0,\"ticks\":\"\"}},\"type\":\"scatterpolargl\"}],\"scatterternary\":[{\"marker\":{\"colorbar\":{\"outlinewidth\":0,\"ticks\":\"\"}},\"type\":\"scatterternary\"}],\"surface\":[{\"colorbar\":{\"outlinewidth\":0,\"ticks\":\"\"},\"colorscale\":[[0.0,\"#0d0887\"],[0.1111111111111111,\"#46039f\"],[0.2222222222222222,\"#7201a8\"],[0.3333333333333333,\"#9c179e\"],[0.4444444444444444,\"#bd3786\"],[0.5555555555555556,\"#d8576b\"],[0.6666666666666666,\"#ed7953\"],[0.7777777777777778,\"#fb9f3a\"],[0.8888888888888888,\"#fdca26\"],[1.0,\"#f0f921\"]],\"type\":\"surface\"}],\"table\":[{\"cells\":{\"fill\":{\"color\":\"#EBF0F8\"},\"line\":{\"color\":\"white\"}},\"header\":{\"fill\":{\"color\":\"#C8D4E3\"},\"line\":{\"color\":\"white\"}},\"type\":\"table\"}]},\"layout\":{\"annotationdefaults\":{\"arrowcolor\":\"#2a3f5f\",\"arrowhead\":0,\"arrowwidth\":1},\"autotypenumbers\":\"strict\",\"coloraxis\":{\"colorbar\":{\"outlinewidth\":0,\"ticks\":\"\"}},\"colorscale\":{\"diverging\":[[0,\"#8e0152\"],[0.1,\"#c51b7d\"],[0.2,\"#de77ae\"],[0.3,\"#f1b6da\"],[0.4,\"#fde0ef\"],[0.5,\"#f7f7f7\"],[0.6,\"#e6f5d0\"],[0.7,\"#b8e186\"],[0.8,\"#7fbc41\"],[0.9,\"#4d9221\"],[1,\"#276419\"]],\"sequential\":[[0.0,\"#0d0887\"],[0.1111111111111111,\"#46039f\"],[0.2222222222222222,\"#7201a8\"],[0.3333333333333333,\"#9c179e\"],[0.4444444444444444,\"#bd3786\"],[0.5555555555555556,\"#d8576b\"],[0.6666666666666666,\"#ed7953\"],[0.7777777777777778,\"#fb9f3a\"],[0.8888888888888888,\"#fdca26\"],[1.0,\"#f0f921\"]],\"sequentialminus\":[[0.0,\"#0d0887\"],[0.1111111111111111,\"#46039f\"],[0.2222222222222222,\"#7201a8\"],[0.3333333333333333,\"#9c179e\"],[0.4444444444444444,\"#bd3786\"],[0.5555555555555556,\"#d8576b\"],[0.6666666666666666,\"#ed7953\"],[0.7777777777777778,\"#fb9f3a\"],[0.8888888888888888,\"#fdca26\"],[1.0,\"#f0f921\"]]},\"colorway\":[\"#636efa\",\"#EF553B\",\"#00cc96\",\"#ab63fa\",\"#FFA15A\",\"#19d3f3\",\"#FF6692\",\"#B6E880\",\"#FF97FF\",\"#FECB52\"],\"font\":{\"color\":\"#2a3f5f\"},\"geo\":{\"bgcolor\":\"white\",\"lakecolor\":\"white\",\"landcolor\":\"#E5ECF6\",\"showlakes\":true,\"showland\":true,\"subunitcolor\":\"white\"},\"hoverlabel\":{\"align\":\"left\"},\"hovermode\":\"closest\",\"mapbox\":{\"style\":\"light\"},\"paper_bgcolor\":\"white\",\"plot_bgcolor\":\"#E5ECF6\",\"polar\":{\"angularaxis\":{\"gridcolor\":\"white\",\"linecolor\":\"white\",\"ticks\":\"\"},\"bgcolor\":\"#E5ECF6\",\"radialaxis\":{\"gridcolor\":\"white\",\"linecolor\":\"white\",\"ticks\":\"\"}},\"scene\":{\"xaxis\":{\"backgroundcolor\":\"#E5ECF6\",\"gridcolor\":\"white\",\"gridwidth\":2,\"linecolor\":\"white\",\"showbackground\":true,\"ticks\":\"\",\"zerolinecolor\":\"white\"},\"yaxis\":{\"backgroundcolor\":\"#E5ECF6\",\"gridcolor\":\"white\",\"gridwidth\":2,\"linecolor\":\"white\",\"showbackground\":true,\"ticks\":\"\",\"zerolinecolor\":\"white\"},\"zaxis\":{\"backgroundcolor\":\"#E5ECF6\",\"gridcolor\":\"white\",\"gridwidth\":2,\"linecolor\":\"white\",\"showbackground\":true,\"ticks\":\"\",\"zerolinecolor\":\"white\"}},\"shapedefaults\":{\"line\":{\"color\":\"#2a3f5f\"}},\"ternary\":{\"aaxis\":{\"gridcolor\":\"white\",\"linecolor\":\"white\",\"ticks\":\"\"},\"baxis\":{\"gridcolor\":\"white\",\"linecolor\":\"white\",\"ticks\":\"\"},\"bgcolor\":\"#E5ECF6\",\"caxis\":{\"gridcolor\":\"white\",\"linecolor\":\"white\",\"ticks\":\"\"}},\"title\":{\"x\":0.05},\"xaxis\":{\"automargin\":true,\"gridcolor\":\"white\",\"linecolor\":\"white\",\"ticks\":\"\",\"title\":{\"standoff\":15},\"zerolinecolor\":\"white\",\"zerolinewidth\":2},\"yaxis\":{\"automargin\":true,\"gridcolor\":\"white\",\"linecolor\":\"white\",\"ticks\":\"\",\"title\":{\"standoff\":15},\"zerolinecolor\":\"white\",\"zerolinewidth\":2}}},\"xaxis\":{\"anchor\":\"y\",\"domain\":[0.0,1.0],\"title\":{\"text\":\"count\"}},\"yaxis\":{\"anchor\":\"x\",\"domain\":[0.0,1.0],\"title\":{\"text\":\"action\"}},\"legend\":{\"title\":{\"text\":\"fed_chair\"},\"tracegroupgap\":0},\"title\":{\"text\":\"Rate Changes by Fed Chair\"},\"barmode\":\"relative\",\"height\":400},                        {\"responsive\": true}                    ).then(function(){\n",
       "                            \n",
       "var gd = document.getElementById('562d40e6-72d9-4526-87bb-d1851b8af036');\n",
       "var x = new MutationObserver(function (mutations, observer) {{\n",
       "        var display = window.getComputedStyle(gd).display;\n",
       "        if (!display || display === 'none') {{\n",
       "            console.log([gd, 'removed!']);\n",
       "            Plotly.purge(gd);\n",
       "            observer.disconnect();\n",
       "        }}\n",
       "}});\n",
       "\n",
       "// Listen for the removal of the full notebook cells\n",
       "var notebookContainer = gd.closest('#notebook-container');\n",
       "if (notebookContainer) {{\n",
       "    x.observe(notebookContainer, {childList: true});\n",
       "}}\n",
       "\n",
       "// Listen for the clearing of the current output cell\n",
       "var outputEl = gd.closest('.output');\n",
       "if (outputEl) {{\n",
       "    x.observe(outputEl, {childList: true});\n",
       "}}\n",
       "\n",
       "                        })                };                });            </script>        </div>"
      ]
     },
     "metadata": {},
     "output_type": "display_data"
    }
   ],
   "source": [
    "fig = px.bar(df_merge, y=\"action\", color='fed_chair', orientation='h',\n",
    "             hover_data=[\"action\", \"rate_change\"],\n",
    "             height=400,\n",
    "             title='Rate Changes by Fed Chair')\n",
    "fig.show()"
   ]
  },
  {
   "cell_type": "markdown",
   "id": "cc4cf5ac-6829-4404-9c92-fdfea0a528c3",
   "metadata": {},
   "source": [
    "# sentiment analysis"
   ]
  },
  {
   "cell_type": "code",
   "execution_count": 357,
   "id": "9c1346e0-9113-4e55-b86d-b1557cea999a",
   "metadata": {},
   "outputs": [],
   "source": [
    " # Import CountVectorizer\n",
    "from sklearn.feature_extraction.text import CountVectorizer\n",
    "# Create CountVectorizer object\n",
    "vectorizer = CountVectorizer(strip_accents='ascii', stop_words='english', lowercase=False)\n",
    "# Import train_test_split\n",
    "from sklearn.model_selection import train_test_split\n",
    "# Split into training and test sets\n",
    "X_train, X_test, y_train, y_test = train_test_split(df_merge['text'], df_merge['action'], test_size=0.25)"
   ]
  },
  {
   "cell_type": "code",
   "execution_count": 358,
   "id": "e24f3c1f-2e67-4956-b18b-390194210a7b",
   "metadata": {},
   "outputs": [],
   "source": [
    "# Generate training Bow vectors\n",
    "X_train_bow = vectorizer.fit_transform(X_train)\n",
    "# Generate test BoW vectors\n",
    "X_test_bow = vectorizer.transform(X_test)"
   ]
  },
  {
   "cell_type": "code",
   "execution_count": 362,
   "id": "52449605-ba36-449c-b89d-3c759396b731",
   "metadata": {},
   "outputs": [
    {
     "name": "stdout",
     "output_type": "stream",
     "text": [
      "0.5833333333333334\n"
     ]
    }
   ],
   "source": [
    " # Import MultinomialNB\n",
    "from sklearn.naive_bayes import MultinomialNB\n",
    "# Create MultinomialNB object\n",
    "clf = MultinomialNB()\n",
    "# Train clf\n",
    "clf.fit(X_train_bow, y_train)\n",
    "# Compute accuracy on test set\n",
    "accuracy = clf.score(X_test_bow, y_test)\n",
    "print(accuracy)\n"
   ]
  },
  {
   "cell_type": "code",
   "execution_count": 364,
   "id": "835d2e6e-20d0-4ae5-9501-a0e0e8c78d96",
   "metadata": {},
   "outputs": [
    {
     "name": "stdout",
     "output_type": "stream",
     "text": [
      "[[ 0  3  8  0]\n",
      " [ 0  5 12  0]\n",
      " [ 4 16 58  0]\n",
      " [ 0  0  2  0]]\n"
     ]
    }
   ],
   "source": [
    "from sklearn.metrics import confusion_matrix\n",
    "y_pred = clf.predict(X_test_bow)\n",
    "print(confusion_matrix(y_test, y_pred))\n"
   ]
  },
  {
   "cell_type": "markdown",
   "id": "52aa4215-a736-4f23-8a14-69bbcc6cf177",
   "metadata": {},
   "source": [
    "## Concerns"
   ]
  },
  {
   "cell_type": "code",
   "execution_count": null,
   "id": "82f87eae-5a7b-4c73-ac21-b4b0a5ed2344",
   "metadata": {},
   "outputs": [],
   "source": []
  },
  {
   "cell_type": "markdown",
   "id": "a2f312c4-1536-4f48-a30d-3ba55100c44e",
   "metadata": {},
   "source": [
    "## Final Thoughts"
   ]
  },
  {
   "cell_type": "code",
   "execution_count": null,
   "id": "2447b605-350d-469d-9f56-ad48ba94b5a2",
   "metadata": {},
   "outputs": [],
   "source": []
  },
  {
   "cell_type": "markdown",
   "id": "870339e2-fc2d-4bef-b722-bacd4bb364a6",
   "metadata": {},
   "source": [
    "## Project Plan"
   ]
  },
  {
   "cell_type": "code",
   "execution_count": null,
   "id": "85d6ff06-f9c9-4f3b-a2d4-92ae6a116df3",
   "metadata": {},
   "outputs": [],
   "source": []
  },
  {
   "cell_type": "markdown",
   "id": "1b3ddea0-75b5-4e67-ae23-90778cf103d1",
   "metadata": {},
   "source": [
    "### Team Roles"
   ]
  },
  {
   "cell_type": "code",
   "execution_count": null,
   "id": "951b5df4-63c4-4ad2-be34-1da0f50966f5",
   "metadata": {},
   "outputs": [],
   "source": []
  },
  {
   "cell_type": "markdown",
   "id": "d3378a45-896e-4070-85da-0b3bffa0bd0a",
   "metadata": {},
   "source": [
    "### Work Plan"
   ]
  },
  {
   "cell_type": "code",
   "execution_count": null,
   "id": "36def519-ab8e-4315-be3b-60ea2720d299",
   "metadata": {},
   "outputs": [],
   "source": []
  },
  {
   "cell_type": "code",
   "execution_count": null,
   "id": "772457a8-042e-41b5-bbbe-dc68569a585f",
   "metadata": {},
   "outputs": [],
   "source": []
  },
  {
   "cell_type": "code",
   "execution_count": null,
   "id": "b95cbeb1-2654-4fd4-886d-0292c009e27f",
   "metadata": {},
   "outputs": [],
   "source": []
  },
  {
   "cell_type": "markdown",
   "id": "0233b8ea-cd79-4653-91c7-a1d5fa406410",
   "metadata": {},
   "source": [
    "## Other Links:\n",
    "    \n",
    "- https://www.youtube.com/watch?v=A9bQzmE6QGw\n",
    "\n",
    "- https://www.youtube.com/watch?v=VzMiRsSOctI&t=1487s"
   ]
  }
 ],
 "metadata": {
  "kernelspec": {
   "display_name": "Python 3 (ipykernel)",
   "language": "python",
   "name": "python3"
  },
  "language_info": {
   "codemirror_mode": {
    "name": "ipython",
    "version": 3
   },
   "file_extension": ".py",
   "mimetype": "text/x-python",
   "name": "python",
   "nbconvert_exporter": "python",
   "pygments_lexer": "ipython3",
   "version": "3.8.12"
  }
 },
 "nbformat": 4,
 "nbformat_minor": 5
}
