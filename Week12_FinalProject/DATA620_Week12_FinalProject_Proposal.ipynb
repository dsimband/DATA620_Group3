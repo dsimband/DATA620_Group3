{
 "cells": [
  {
   "cell_type": "markdown",
   "id": "6a875d80-f10b-4faa-8ba5-1b02d81bfb70",
   "metadata": {},
   "source": [
    "# DATA620: Final Project Proposal - Federal Reserve Sentiment\n",
    "\n",
    "## Homework Team 3: David Simbandumwe, Eric Lehmphul and Lidiia Tronina"
   ]
  },
  {
   "cell_type": "markdown",
   "id": "0d2fedad-9faf-4d1c-8455-466d832db9d5",
   "metadata": {},
   "source": [
    "Your proposal should describe at a high level what you’re seeking to accomplish, and your motivation for performing this analysis.  A guiding question or hypothesis to test is one good way to start.  If you are going to work in a small group (encouraged!), you should also list your partners’ names. \n",
    "You should briefly describe your data sources, plan for doing the work, and up front concerns.  If you are working in a group, please describe the roles and responsibilities of each group member.\n",
    "We’ll treat this proposal as a planning document, not a blue print containing “firm, fixed requirements.”\n",
    "Your final project proposal is due on Monday 12/9. "
   ]
  },
  {
   "cell_type": "markdown",
   "id": "9c4a3c79-2027-4f81-8d79-6a79b656c749",
   "metadata": {},
   "source": [
    "## Introduction\n",
    "\n",
    "How consistent is the messaging leading up to a decision by Federal Reserve Open Market Committee (FOMC)"
   ]
  },
  {
   "cell_type": "markdown",
   "id": "a3601908-2dc0-4d40-903a-a06b5b29b580",
   "metadata": {
    "tags": []
   },
   "source": [
    "\n",
    "#### Federal Reserve System\n",
    "\n",
    "Federal Reserve Act, created The Federal Reserve System on December 23, 1913. The Federal Reserve acts as the central banking system of the United States of America. The Federal Reserve's system has 3 primary components \n",
    "- 12 Federal Reserve Banks \n",
    "- Federal Reserve Board of Governors\n",
    "- Federal Open Market Committee\n",
    "\n",
    "This a unique structure among central banks in that it includes both public and private characteristics. \n",
    "\n",
    "The Fed has many key functions however its activities can be categorized by the Dual Mandate setup by the Congress in the Federal Reserve Act. \n",
    "- maximum employment\n",
    "- stable prices\n",
    "he dual mandate is the long-run goal for monetary policy, and the Congress also established the Federal Reserve as an independent agency to help ensure that this monetary policy goal can be achieved.\n",
    "\n",
    "To support these objectives the federal reserve employs monetary policy through 3 primary mechanisms\n",
    "- open market operations\n",
    "- the discount rate\n",
    "- reserve requirements\n",
    "\n",
    "\n",
    "The Fed has evolved from days of Alen Greenspan when being opaque was a primary focus. How well does the Fed achieve these goals\n",
    "\n",
    "For this analysis we will focus on the Feds Open Market Operations as carried out by the Federal Open Market Committee and the official communications by FOMC members leading up to official FOMC meetings. At each FOMC meeting the members of the committee will reach consensus on the appropriate monitory policy course. This consensus takes the form a formal communication and directive to the Federal Reserve Bank of New York to execute the transactions on behalf of the Federal Reserve System. \n"
   ]
  },
  {
   "cell_type": "markdown",
   "id": "03483576-7b6d-4d21-ae25-53f6099d36c8",
   "metadata": {},
   "source": [
    "## Hypothesis\n",
    "We can categorize the periods between FOMC meeting by their outcome. In each meeting the interest rate target will either be increased, decreased or remain the same. For each type of FOMC meeting outcome we would like to understand if the communication by the representatives of the Fed is consistent. \n",
    "\n",
    "- H0 - Communications by Federal Reserve Board Governs do not telegraph the outcome of the upcoming FOMC Meeting. There is no decipherable difference in speeches by FOMC members during periods of increase, decreasing or stable interest rates. \n",
    "\n",
    "- H1 - Federal Reserve Board Governs will telegraph the outcome of the upcoming FOMC Meeting through their communications. The speeches by FOMC members differ during periods of increase, decreasing or stable interest rates.  "
   ]
  },
  {
   "cell_type": "markdown",
   "id": "8337933d-8674-47df-bee5-b7194db9faad",
   "metadata": {},
   "source": [
    "## Data Source\n",
    "There are several sources of prepossessed data from the fed however it might be necessary to augment these data set to get the latest\n",
    "\n",
    "1. Aggregate FOMC Decisions - the outcome of each FOMC meeting is captured in a broader write-up however the decision can be distilled into meeting date, meeting location, decision to increase, decrease or leave interested unchanged, and a magnitude of the change, and the new target range for interest rates\n",
    "2. Aggregate Speeches by FOMC Members - Each member of the FOMC maintains a detailed calendar of speeches that includes, location, audience, speech title, speech text.\n",
    "\n",
    "<br>\n",
    "<b>Potential Sources</b>\n",
    "\n",
    "Meeting calendars, statements, and minutes (2017-2022)\n",
    "https://www.federalreserve.gov/monetarypolicy/fomccalendars.htm\n",
    "https://www.thebalance.com/fomc-meetings-schedule-and-statement-summaries-3305975\n",
    "\n",
    "Federal Funds Effective Rate (FEDFUNDS)\n",
    "https://fred.stlouisfed.org/series/FEDFUNDS\n",
    "\n",
    "List of Governors and their terms\n",
    "https://en.wikipedia.org/wiki/Federal_Reserve_Board_of_Governors\n",
    "\n",
    "History of FOMC decisions \n",
    "https://www.federalreserve.gov/monetarypolicy/fomc.htm\n",
    "https://en.wikipedia.org/wiki/History_of_Federal_Open_Market_Committee_actions"
   ]
  },
  {
   "cell_type": "markdown",
   "id": "01b86687-1d19-4bf7-af83-b7f26353eef9",
   "metadata": {},
   "source": [
    "## Analysis"
   ]
  },
  {
   "cell_type": "markdown",
   "id": "4933e71e-3308-40e6-a617-8a6acc753886",
   "metadata": {},
   "source": [
    "Review speeches by federal reserve board members. Analysis of Speech Sentiment for consistency with the decision making. Does the Federal reserve do a good job of telegraphing its decisions in speeches leading up to the meeting of the?\n",
    "\n",
    "1. The outcomes of the FOMC meeting will be used to label speeches by Board Members, Each speech takes place during a period where the FOMC board will decide to increase, decrease or leave interest rates unchanged. The speech can then be parsed for and scored using sentiment analysis\n",
    "\n",
    "2. The records of the speech will be used to create a network graph where the nodes will be speaker, audience, location?. The edges will be sentiment and the meta data from the relevant FOMC meeting.\n",
    "\n",
    "3. Grouping the communications by FOMC Meeting outcome, Speaker, Audience, Time frame we can analyze the clarity of message from the Federal Reserve.\n",
    "\n"
   ]
  },
  {
   "cell_type": "markdown",
   "id": "52aa4215-a736-4f23-8a14-69bbcc6cf177",
   "metadata": {},
   "source": [
    "## Concerns"
   ]
  },
  {
   "cell_type": "code",
   "execution_count": null,
   "id": "82f87eae-5a7b-4c73-ac21-b4b0a5ed2344",
   "metadata": {},
   "outputs": [],
   "source": []
  },
  {
   "cell_type": "markdown",
   "id": "a2f312c4-1536-4f48-a30d-3ba55100c44e",
   "metadata": {},
   "source": [
    "## Final Thoughts"
   ]
  },
  {
   "cell_type": "code",
   "execution_count": null,
   "id": "2447b605-350d-469d-9f56-ad48ba94b5a2",
   "metadata": {},
   "outputs": [],
   "source": []
  },
  {
   "cell_type": "markdown",
   "id": "870339e2-fc2d-4bef-b722-bacd4bb364a6",
   "metadata": {},
   "source": [
    "## Project Plan"
   ]
  },
  {
   "cell_type": "code",
   "execution_count": null,
   "id": "85d6ff06-f9c9-4f3b-a2d4-92ae6a116df3",
   "metadata": {},
   "outputs": [],
   "source": []
  },
  {
   "cell_type": "markdown",
   "id": "1b3ddea0-75b5-4e67-ae23-90778cf103d1",
   "metadata": {},
   "source": [
    "### Team Roles"
   ]
  },
  {
   "cell_type": "code",
   "execution_count": null,
   "id": "951b5df4-63c4-4ad2-be34-1da0f50966f5",
   "metadata": {},
   "outputs": [],
   "source": []
  },
  {
   "cell_type": "markdown",
   "id": "d3378a45-896e-4070-85da-0b3bffa0bd0a",
   "metadata": {},
   "source": [
    "### Work Plan"
   ]
  },
  {
   "cell_type": "code",
   "execution_count": null,
   "id": "36def519-ab8e-4315-be3b-60ea2720d299",
   "metadata": {},
   "outputs": [],
   "source": []
  },
  {
   "cell_type": "code",
   "execution_count": null,
   "id": "772457a8-042e-41b5-bbbe-dc68569a585f",
   "metadata": {},
   "outputs": [],
   "source": []
  },
  {
   "cell_type": "code",
   "execution_count": null,
   "id": "b95cbeb1-2654-4fd4-886d-0292c009e27f",
   "metadata": {},
   "outputs": [],
   "source": []
  },
  {
   "cell_type": "markdown",
   "id": "0233b8ea-cd79-4653-91c7-a1d5fa406410",
   "metadata": {},
   "source": [
    "## Other Links:\n",
    "    \n",
    "- https://www.youtube.com/watch?v=A9bQzmE6QGw\n",
    "\n",
    "- https://www.youtube.com/watch?v=VzMiRsSOctI&t=1487s"
   ]
  }
 ],
 "metadata": {
  "kernelspec": {
   "display_name": "Python 3 (ipykernel)",
   "language": "python",
   "name": "python3"
  },
  "language_info": {
   "codemirror_mode": {
    "name": "ipython",
    "version": 3
   },
   "file_extension": ".py",
   "mimetype": "text/x-python",
   "name": "python",
   "nbconvert_exporter": "python",
   "pygments_lexer": "ipython3",
   "version": "3.8.12"
  }
 },
 "nbformat": 4,
 "nbformat_minor": 5
}
