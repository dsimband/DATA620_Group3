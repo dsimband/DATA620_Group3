{
 "cells": [
  {
   "cell_type": "markdown",
   "id": "ddffad36-5847-4bb3-b1f4-5599187b45d2",
   "metadata": {},
   "source": [
    "# 0. DATA620: Final Project Proposal - Federal Reserve Sentiment\n",
    "\n",
    "## Homework Team 3: David Simbandumwe, Eric Lehmphul and Lidiia Tronina\n",
    "\n",
    "Your project should incorporate one or both of the two main themes of this course: network analysis and text processing. You need to show all of your work in a coherent workflow, and in a reproducible format, such as an IPython Notebook or an R Markdown document. If you are building a model or models, explain how you evaluate the “goodness” of the chosen model and parameters. "
   ]
  },
  {
   "cell_type": "markdown",
   "id": "ea53edd5-e94d-4927-8738-7783cc43ece7",
   "metadata": {},
   "source": [
    "# Setup"
   ]
  },
  {
   "cell_type": "markdown",
   "id": "c1975a10-30a9-483d-b929-51b4929f4847",
   "metadata": {},
   "source": [
    "## Import Modules"
   ]
  },
  {
   "cell_type": "code",
   "execution_count": 21,
   "id": "13824b20-36d1-4ecb-a49b-b12eb6520a3b",
   "metadata": {},
   "outputs": [],
   "source": [
    "import sys\n",
    "import random\n",
    "\n",
    "import pandas as pd\n",
    "import numpy as np\n",
    "import matplotlib.pyplot as plt\n",
    "import plotly.express as px\n",
    "import plotly.graph_objects as go\n",
    "\n",
    "import nltk\n",
    "from nltk.corpus import stopwords\n",
    "from textblob import Word\n",
    "\n",
    "from sklearn.feature_extraction.text import CountVectorizer\n",
    "from sklearn.model_selection import train_test_split, cross_val_score\n",
    "from sklearn.naive_bayes import MultinomialNB\n",
    "from sklearn.metrics import confusion_matrix, ConfusionMatrixDisplay, classification_report\n",
    "\n",
    "import spacy\n",
    "import spacy.cli\n",
    "from spacy.lang.en import English\n",
    "\n",
    "from textatistic import Textatistic\n",
    "from wordcloud import WordCloud\n",
    "import statsmodels.api as sm\n",
    "\n",
    "import networkx as nx\n",
    "import warnings\n",
    "from scipy.stats import ttest_ind\n",
    "plt.rcParams.update({'axes.facecolor':'orange'})"
   ]
  },
  {
   "cell_type": "markdown",
   "id": "0ffac921-e226-49d3-a6f1-c5f233808de8",
   "metadata": {},
   "source": [
    "## Global Settings"
   ]
  },
  {
   "cell_type": "code",
   "execution_count": 22,
   "id": "ffffc44b-64a0-45cb-9bfc-f533fd12fe94",
   "metadata": {},
   "outputs": [],
   "source": [
    "random.seed(123)"
   ]
  },
  {
   "cell_type": "markdown",
   "id": "ca69705e-73ed-440f-80e6-0c1bcfab2f68",
   "metadata": {},
   "source": [
    "## Global Functions"
   ]
  },
  {
   "cell_type": "code",
   "execution_count": 23,
   "id": "e9e1212a-50ff-4232-b964-0042d2d6b523",
   "metadata": {},
   "outputs": [],
   "source": [
    "# Function that returns average word length\n",
    "def avg_word_length(x):\n",
    "    # Split the string into words\n",
    "    words = x.split()\n",
    "    # Compute length of each word and store in a separate list\n",
    "    word_lengths = [len(word) for word in words]\n",
    "    # Compute average word length\n",
    "    avg_word_length = sum(word_lengths)/len(words)\n",
    "    # Return average word length\n",
    "    return(avg_word_length)\n",
    "\n",
    "\n",
    "def filter_propn(s):\n",
    "    \n",
    "    stopwords = spacy.lang.en.stop_words.STOP_WORDS\n",
    "    \n",
    "    \n",
    "    # Load model and create Doc object\n",
    "    nlp = spacy.load('en_core_web_sm')\n",
    "    doc = nlp(s)\n",
    "\n",
    "    # Generate lemmatized tokens\n",
    "    lemmas = [token.lemma_ for token in doc]\n",
    "\n",
    "    # Remove stopwords and non-alphabetic tokens\n",
    "    a_lemmas = [lemma for lemma in lemmas \n",
    "                if lemma.isalpha() and lemma not in stopwords]\n",
    "\n",
    "    a_lemmas = ' '.join(a_lemmas)\n",
    "    doc_lemmas = nlp(a_lemmas)\n",
    "\n",
    "    # Generate list of tokens and pos tags\n",
    "    pos = [(token.text, token.pos_) for token in doc_lemmas]\n",
    "    \n",
    "    l = list(zip(*pos))[0]\n",
    "    l = sorted(set(l))\n",
    "    \n",
    "    return ' '.join(l)\n",
    "\n",
    "\n",
    "def get_city_name(n):\n",
    "    nlp = spacy.load('en_core_web_sm')\n",
    "\n",
    "    doc = nlp(n)\n",
    "    places = [str(ent) for ent in doc.ents if ent.label_ in ['GPE', 'LOC']]\n",
    "\n",
    "    return ' '.join(places)\n",
    "   "
   ]
  },
  {
   "cell_type": "markdown",
   "id": "54e513fb-bf08-4a97-b6c7-a4ebd1e08901",
   "metadata": {},
   "source": [
    "<br>\n",
    "\n",
    "# 1. Introduction"
   ]
  },
  {
   "cell_type": "markdown",
   "id": "84a00171-2a11-4933-86f3-927e6d4e2c23",
   "metadata": {},
   "source": [
    "<br><br>\n",
    "\n",
    "## Hypothesis\n",
    "\n",
    "In the time leading up FOMC Meeting the Fed Chair and the Governors of the 12 Federal Reserve Banks will develop an economic outlook that will inform their vote at the FOMC Meeting. One way to measure transparency is to evaluate how well this economic outlook is communicated to the general public through speeches. Fortunately for this analysis the Fed tracks all speeches by it board of governors and posts them to www.federalreserve.gov with transcripts.\n",
    "\n",
    "For this analysis we can categorize the periods between FOMC meeting by their outcome. In each meeting the interest rate target will either be increased, decreased or remain the same. For each type of FOMC meeting outcome we would like to understand if the communication by the representatives of the Fed is consistent and predictable. \n",
    "\n",
    "- H0 - Communications by Federal Reserve Chair do not telegraph the outcome of the upcoming FOMC Meeting. There is no decipherable difference in speeches by Fed Chair during periods of increase, decreasing or stable interest rates. \n",
    "\n",
    "- H1 - Federal Reserve Chair will telegraph the outcome of the upcoming FOMC Meeting through their communications. The speeches by Fed Chair will differ predictably during periods of increase, decreasing or stable interest rates.  "
   ]
  },
  {
   "cell_type": "markdown",
   "id": "5a0db490-d414-4fc6-8794-f3d8308b1179",
   "metadata": {},
   "source": [
    "# 2. Workflow"
   ]
  },
  {
   "cell_type": "markdown",
   "id": "a88c9a59-341f-4563-958b-afc12df23f08",
   "metadata": {},
   "source": [
    "## Obtain"
   ]
  },
  {
   "cell_type": "markdown",
   "id": "3d1fc08f-d203-4340-a976-c28ef31bd718",
   "metadata": {},
   "source": [
    "<br>\n",
    "\n",
    "### Data Source\n",
    "There are several sources of prepossessed data from the Fed Reserve speeches and FOMC Meeting outcomes, however it might be necessary to augment these data set to get the latest information. For the purposes of this analysis we will create two unique data sets. \n",
    "\n",
    "1. Aggregate FOMC Decisions - the outcome of each FOMC meeting is captured in a broader write-up however the decision can be distilled into meeting date, meeting location, decision to increase, decrease or leave interested unchanged, and a magnitude of the change, and the new target range for interest rates\n",
    "2. Aggregate Speeches by FOMC Members - Each member of the FOMC maintains a detailed calendar of speeches that includes, location, audience, speech title, speech text.\n",
    "\n",
    "The ability to forecast result of an FOMC meeting can generate significant financial gains as a result there is a large body of work analyzing the topic, using a variety of methods. "
   ]
  },
  {
   "cell_type": "markdown",
   "id": "d1f84611-df49-43ca-b211-c7fb1e208ed1",
   "metadata": {},
   "source": [
    "<br>\n",
    "\n",
    "### FOMC Fed Rate Decision (events)\n",
    "\n",
    "The Federal Open Market Committee meets a minimum of 8 times a year in regularly scheduled sessions. During these sessions the representatives from the Federal Reserve member banks will discuss their economic outlook. At the conclusion of each meeting the member of FOMC will reach consensus on a monetary policy decision. The data set below captures the result of the FOMC meetings since May 1987."
   ]
  },
  {
   "cell_type": "code",
   "execution_count": 24,
   "id": "7177689e-ea0d-40c1-b045-ceabe7ca92dd",
   "metadata": {},
   "outputs": [],
   "source": [
    "# load FOMC decision\n",
    "decision_df = pd.read_csv('data/Manual_Event.csv')"
   ]
  },
  {
   "cell_type": "markdown",
   "id": "36bf666e-0e31-4a52-85fc-36f196121cf0",
   "metadata": {},
   "source": [
    "<br><br>\n",
    "\n",
    "### Federal Reserve Chairman Communications (speeches)\n",
    "\n",
    "The speeches by the Federal Reserve Chair are captured in the following dataframe. The data set is fitered down to speeches by Fed Chairs including Alan Greenspan, Ben S. Bernanke, Janet L. Yellen, Jerome H. Powell. The data set is also cleaned up for stop words and custom stop words."
   ]
  },
  {
   "cell_type": "code",
   "execution_count": 25,
   "id": "13c6861d-88b9-4efb-8ab6-79e07ce26ee6",
   "metadata": {},
   "outputs": [],
   "source": [
    "# load speeches\n",
    "speech_df = pd.read_csv('data/fed_speeches_1996_2020.csv', parse_dates=['speech_date'] , encoding='utf_8')"
   ]
  },
  {
   "cell_type": "markdown",
   "id": "7efd42d5-1439-46ad-811e-52fed233178c",
   "metadata": {},
   "source": [
    "## Scrub"
   ]
  },
  {
   "cell_type": "markdown",
   "id": "8fb65ae9-05b9-421b-a8aa-b9ade7ba4418",
   "metadata": {},
   "source": [
    "<br>\n",
    "\n",
    "### FOMC Fed Rate Decision (events)"
   ]
  },
  {
   "cell_type": "code",
   "execution_count": 26,
   "id": "0b6def16-568f-4b11-ae48-949476240f4c",
   "metadata": {},
   "outputs": [
    {
     "data": {
      "text/html": [
       "<div>\n",
       "<style scoped>\n",
       "    .dataframe tbody tr th:only-of-type {\n",
       "        vertical-align: middle;\n",
       "    }\n",
       "\n",
       "    .dataframe tbody tr th {\n",
       "        vertical-align: top;\n",
       "    }\n",
       "\n",
       "    .dataframe thead th {\n",
       "        text-align: right;\n",
       "    }\n",
       "</style>\n",
       "<table border=\"1\" class=\"dataframe\">\n",
       "  <thead>\n",
       "    <tr style=\"text-align: right;\">\n",
       "      <th></th>\n",
       "      <th>event_date</th>\n",
       "      <th>fed_rate</th>\n",
       "      <th>action</th>\n",
       "      <th>rate_change</th>\n",
       "      <th>fed_chair</th>\n",
       "      <th>notes</th>\n",
       "      <th>date_diff</th>\n",
       "      <th>start_date</th>\n",
       "      <th>end_date</th>\n",
       "      <th>event_id</th>\n",
       "    </tr>\n",
       "  </thead>\n",
       "  <tbody>\n",
       "    <tr>\n",
       "      <th>0</th>\n",
       "      <td>1987-05-19</td>\n",
       "      <td>0.0650</td>\n",
       "      <td>increase</td>\n",
       "      <td>0.0062</td>\n",
       "      <td>Paul Volcker</td>\n",
       "      <td>Continued raising rates to fight inflation</td>\n",
       "      <td>NaT</td>\n",
       "      <td>NaT</td>\n",
       "      <td>1987-05-19</td>\n",
       "      <td>E0</td>\n",
       "    </tr>\n",
       "    <tr>\n",
       "      <th>1</th>\n",
       "      <td>1987-07-07</td>\n",
       "      <td>0.0650</td>\n",
       "      <td>no change</td>\n",
       "      <td>0.0000</td>\n",
       "      <td>Alan Greenspan</td>\n",
       "      <td>- no change -</td>\n",
       "      <td>49 days</td>\n",
       "      <td>1987-05-19</td>\n",
       "      <td>1987-07-07</td>\n",
       "      <td>E1</td>\n",
       "    </tr>\n",
       "    <tr>\n",
       "      <th>2</th>\n",
       "      <td>1987-08-18</td>\n",
       "      <td>0.0650</td>\n",
       "      <td>no change</td>\n",
       "      <td>0.0000</td>\n",
       "      <td>Alan Greenspan</td>\n",
       "      <td>- no change -</td>\n",
       "      <td>42 days</td>\n",
       "      <td>1987-07-07</td>\n",
       "      <td>1987-08-18</td>\n",
       "      <td>E2</td>\n",
       "    </tr>\n",
       "    <tr>\n",
       "      <th>3</th>\n",
       "      <td>1987-09-22</td>\n",
       "      <td>0.0725</td>\n",
       "      <td>increase</td>\n",
       "      <td>0.0075</td>\n",
       "      <td>Alan Greenspan</td>\n",
       "      <td>No notable event</td>\n",
       "      <td>35 days</td>\n",
       "      <td>1987-08-18</td>\n",
       "      <td>1987-09-22</td>\n",
       "      <td>E3</td>\n",
       "    </tr>\n",
       "    <tr>\n",
       "      <th>4</th>\n",
       "      <td>1987-11-04</td>\n",
       "      <td>0.0681</td>\n",
       "      <td>decrease</td>\n",
       "      <td>-0.0044</td>\n",
       "      <td>Alan Greenspan</td>\n",
       "      <td>Lowered after Black Monday stock market crash</td>\n",
       "      <td>43 days</td>\n",
       "      <td>1987-09-22</td>\n",
       "      <td>1987-11-04</td>\n",
       "      <td>E4</td>\n",
       "    </tr>\n",
       "  </tbody>\n",
       "</table>\n",
       "</div>"
      ],
      "text/plain": [
       "  event_date  fed_rate     action  rate_change       fed_chair  \\\n",
       "0 1987-05-19    0.0650   increase       0.0062    Paul Volcker   \n",
       "1 1987-07-07    0.0650  no change       0.0000  Alan Greenspan   \n",
       "2 1987-08-18    0.0650  no change       0.0000  Alan Greenspan   \n",
       "3 1987-09-22    0.0725   increase       0.0075  Alan Greenspan   \n",
       "4 1987-11-04    0.0681   decrease      -0.0044  Alan Greenspan   \n",
       "\n",
       "                                           notes date_diff start_date  \\\n",
       "0     Continued raising rates to fight inflation       NaT        NaT   \n",
       "1                                  - no change -   49 days 1987-05-19   \n",
       "2                                  - no change -   42 days 1987-07-07   \n",
       "3                               No notable event   35 days 1987-08-18   \n",
       "4  Lowered after Black Monday stock market crash   43 days 1987-09-22   \n",
       "\n",
       "    end_date event_id  \n",
       "0 1987-05-19       E0  \n",
       "1 1987-07-07       E1  \n",
       "2 1987-08-18       E2  \n",
       "3 1987-09-22       E3  \n",
       "4 1987-11-04       E4  "
      ]
     },
     "execution_count": 26,
     "metadata": {},
     "output_type": "execute_result"
    }
   ],
   "source": [
    "decision_df['event_date']  = pd.to_datetime(decision_df['event_date'])\n",
    "decision_df['date_diff'] = decision_df['event_date'].diff()\n",
    "decision_df['start_date'] = decision_df['event_date'] - decision_df['date_diff']\n",
    "decision_df['end_date'] = decision_df['event_date']\n",
    "decision_df['event_id'] = 'E' + decision_df.index.astype(str)\n",
    "decision_df = decision_df.drop(['id'], axis=1)\n",
    "decision_df.head()"
   ]
  },
  {
   "cell_type": "markdown",
   "id": "1edcddbd-b386-4aed-9047-b9b0c2963ea1",
   "metadata": {},
   "source": [
    "<br>\n",
    "\n",
    "### Federal Reserve Chairman Communications (speeches)"
   ]
  },
  {
   "cell_type": "code",
   "execution_count": 27,
   "id": "4c3ef7b5-f141-4267-bc89-2f34e6936177",
   "metadata": {},
   "outputs": [
    {
     "data": {
      "text/plain": [
       "Chairman Alan Greenspan                         183\n",
       "Chairman Ben S. Bernanke                        169\n",
       "Vice Chairman Roger W. Ferguson                  96\n",
       "Governor Susan S. Bies                           77\n",
       "Governor Lael Brainard                           68\n",
       "Governor Laurence H. Meyer                       65\n",
       "Governor Edward M. Gramlich                      59\n",
       "Governor Daniel K. Tarullo                       54\n",
       "Governor Jerome H. Powell                        50\n",
       "Vice Chairman Donald L. Kohn                     46\n",
       "Governor Mark W. Olson                           46\n",
       "Vice Chairman Stanley Fischer                    45\n",
       "Governor Ben S. Bernanke                         45\n",
       "Governor Randall S. Kroszner                     44\n",
       "Governor Elizabeth A. Duke                       44\n",
       "Chair Janet L. Yellen                            44\n",
       "Vice Chair for Supervision Randal K. Quarles     39\n",
       "Chairman Jerome H. Powell                        32\n",
       "Governor Donald L. Kohn                          30\n",
       "Governor Roger W. Ferguson, Jr.                  27\n",
       "Governor Frederic S. Mishkin                     27\n",
       "Vice Chairman Richard H. Clarida                 26\n",
       "Vice Chair Janet L. Yellen                       22\n",
       "Governor Kevin Warsh                             18\n",
       "Vice Chair Alice M. Rivlin                       17\n",
       "Governor Sarah Bloom Raskin                      17\n",
       "Governor Jeremy C. Stein                         16\n",
       "Governor Michelle W. Bowman                      13\n",
       "Governor Susan M. Phillips                       12\n",
       "Governor Edward W. Kelley, Jr.                   12\n",
       "Governor Lawrence B. Lindsey                      3\n",
       "Name: speaker, dtype: int64"
      ]
     },
     "execution_count": 27,
     "metadata": {},
     "output_type": "execute_result"
    }
   ],
   "source": [
    "# filter out some garbage records\n",
    "speech_df = speech_df[speech_df['text_len'] > 50]\n",
    "speech_df['year'] = speech_df['year'].astype(int)\n",
    "\n",
    "# filter by Fed Chair\n",
    "#list_of_values = ['Chairman Alan Greenspan','Chairman Ben S. Bernanke','Chair Janet L. Yellen','Chairman Jerome H. Powell']\n",
    "#speech_df = speech_df[speech_df['speaker'].isin(list_of_values)]\n",
    "speech_df['speaker'].value_counts(sort=True)"
   ]
  },
  {
   "cell_type": "code",
   "execution_count": 28,
   "id": "edee2850-dfa8-41b9-901a-20b08264c8e8",
   "metadata": {},
   "outputs": [
    {
     "data": {
      "text/html": [
       "<div>\n",
       "<style scoped>\n",
       "    .dataframe tbody tr th:only-of-type {\n",
       "        vertical-align: middle;\n",
       "    }\n",
       "\n",
       "    .dataframe tbody tr th {\n",
       "        vertical-align: top;\n",
       "    }\n",
       "\n",
       "    .dataframe thead th {\n",
       "        text-align: right;\n",
       "    }\n",
       "</style>\n",
       "<table border=\"1\" class=\"dataframe\">\n",
       "  <thead>\n",
       "    <tr style=\"text-align: right;\">\n",
       "      <th></th>\n",
       "      <th>link</th>\n",
       "      <th>title</th>\n",
       "      <th>speaker</th>\n",
       "      <th>event</th>\n",
       "      <th>year</th>\n",
       "      <th>text</th>\n",
       "      <th>speech_date</th>\n",
       "      <th>text_len</th>\n",
       "      <th>location</th>\n",
       "      <th>speech_id</th>\n",
       "      <th>filter_text</th>\n",
       "      <th>filter_text_len</th>\n",
       "      <th>avg_word_length_filter</th>\n",
       "    </tr>\n",
       "  </thead>\n",
       "  <tbody>\n",
       "    <tr>\n",
       "      <th>0</th>\n",
       "      <td>https://www.federalreserve.gov/boarddocs/speec...</td>\n",
       "      <td>Supervision of bank risk-taking</td>\n",
       "      <td>Vice Chair Alice M. Rivlin</td>\n",
       "      <td>At the The Brookings Institution National Issu...</td>\n",
       "      <td>1996</td>\n",
       "      <td>i discovered when i joined the board of govern...</td>\n",
       "      <td>1996-12-19</td>\n",
       "      <td>3671</td>\n",
       "      <td>D.C.</td>\n",
       "      <td>S0</td>\n",
       "      <td>discovered joined board governor federal reser...</td>\n",
       "      <td>2092</td>\n",
       "      <td>7.125717</td>\n",
       "    </tr>\n",
       "    <tr>\n",
       "      <th>1</th>\n",
       "      <td>https://www.federalreserve.gov/boarddocs/speec...</td>\n",
       "      <td>Social security</td>\n",
       "      <td>Chairman Alan Greenspan</td>\n",
       "      <td>At the Abraham Lincoln Award Ceremony of the U...</td>\n",
       "      <td>1996</td>\n",
       "      <td>i am privileged to accept the union league of ...</td>\n",
       "      <td>1996-12-06</td>\n",
       "      <td>2596</td>\n",
       "      <td>Pennsylvania</td>\n",
       "      <td>S1</td>\n",
       "      <td>privileged accept union league philadelphia's ...</td>\n",
       "      <td>1551</td>\n",
       "      <td>6.969697</td>\n",
       "    </tr>\n",
       "    <tr>\n",
       "      <th>2</th>\n",
       "      <td>https://www.federalreserve.gov/boarddocs/speec...</td>\n",
       "      <td>The challenge of central banking in a democrat...</td>\n",
       "      <td>Chairman Alan Greenspan</td>\n",
       "      <td>At the Annual Dinner and Francis Boyer Lecture...</td>\n",
       "      <td>1996</td>\n",
       "      <td>the challenge of central banking in a democrat...</td>\n",
       "      <td>1996-12-05</td>\n",
       "      <td>4344</td>\n",
       "      <td>D.C.</td>\n",
       "      <td>S2</td>\n",
       "      <td>challenge central banking democratic society g...</td>\n",
       "      <td>2379</td>\n",
       "      <td>7.200504</td>\n",
       "    </tr>\n",
       "    <tr>\n",
       "      <th>3</th>\n",
       "      <td>https://www.federalreserve.gov/boarddocs/speec...</td>\n",
       "      <td>Clearinghouses and risk management</td>\n",
       "      <td>Governor Edward W. Kelley, Jr.</td>\n",
       "      <td>At the 1996 Payments System Risk Conference, W...</td>\n",
       "      <td>1996</td>\n",
       "      <td>it is a pleasure to be with you this morning t...</td>\n",
       "      <td>1996-12-03</td>\n",
       "      <td>2527</td>\n",
       "      <td>D.C.</td>\n",
       "      <td>S3</td>\n",
       "      <td>pleasure morning discus private-sector payment...</td>\n",
       "      <td>1488</td>\n",
       "      <td>7.305780</td>\n",
       "    </tr>\n",
       "    <tr>\n",
       "      <th>4</th>\n",
       "      <td>https://www.federalreserve.gov/boarddocs/speec...</td>\n",
       "      <td>Supervisory and regulatory responses to financ...</td>\n",
       "      <td>Governor Susan M. Phillips</td>\n",
       "      <td>At the BAI Seminar on Regulatory Policy Change...</td>\n",
       "      <td>1996</td>\n",
       "      <td>supervisory and regulatory responses to financ...</td>\n",
       "      <td>1996-11-25</td>\n",
       "      <td>2222</td>\n",
       "      <td>D.C.</td>\n",
       "      <td>S4</td>\n",
       "      <td>supervisory regulatory response financial inno...</td>\n",
       "      <td>1281</td>\n",
       "      <td>7.597970</td>\n",
       "    </tr>\n",
       "  </tbody>\n",
       "</table>\n",
       "</div>"
      ],
      "text/plain": [
       "                                                link  \\\n",
       "0  https://www.federalreserve.gov/boarddocs/speec...   \n",
       "1  https://www.federalreserve.gov/boarddocs/speec...   \n",
       "2  https://www.federalreserve.gov/boarddocs/speec...   \n",
       "3  https://www.federalreserve.gov/boarddocs/speec...   \n",
       "4  https://www.federalreserve.gov/boarddocs/speec...   \n",
       "\n",
       "                                               title  \\\n",
       "0                    Supervision of bank risk-taking   \n",
       "1                                    Social security   \n",
       "2  The challenge of central banking in a democrat...   \n",
       "3                 Clearinghouses and risk management   \n",
       "4  Supervisory and regulatory responses to financ...   \n",
       "\n",
       "                          speaker  \\\n",
       "0      Vice Chair Alice M. Rivlin   \n",
       "1         Chairman Alan Greenspan   \n",
       "2         Chairman Alan Greenspan   \n",
       "3  Governor Edward W. Kelley, Jr.   \n",
       "4      Governor Susan M. Phillips   \n",
       "\n",
       "                                               event  year  \\\n",
       "0  At the The Brookings Institution National Issu...  1996   \n",
       "1  At the Abraham Lincoln Award Ceremony of the U...  1996   \n",
       "2  At the Annual Dinner and Francis Boyer Lecture...  1996   \n",
       "3  At the 1996 Payments System Risk Conference, W...  1996   \n",
       "4  At the BAI Seminar on Regulatory Policy Change...  1996   \n",
       "\n",
       "                                                text speech_date  text_len  \\\n",
       "0  i discovered when i joined the board of govern...  1996-12-19      3671   \n",
       "1  i am privileged to accept the union league of ...  1996-12-06      2596   \n",
       "2  the challenge of central banking in a democrat...  1996-12-05      4344   \n",
       "3  it is a pleasure to be with you this morning t...  1996-12-03      2527   \n",
       "4  supervisory and regulatory responses to financ...  1996-11-25      2222   \n",
       "\n",
       "       location speech_id                                        filter_text  \\\n",
       "0          D.C.        S0  discovered joined board governor federal reser...   \n",
       "1  Pennsylvania        S1  privileged accept union league philadelphia's ...   \n",
       "2          D.C.        S2  challenge central banking democratic society g...   \n",
       "3          D.C.        S3  pleasure morning discus private-sector payment...   \n",
       "4          D.C.        S4  supervisory regulatory response financial inno...   \n",
       "\n",
       "   filter_text_len  avg_word_length_filter  \n",
       "0             2092                7.125717  \n",
       "1             1551                6.969697  \n",
       "2             2379                7.200504  \n",
       "3             1488                7.305780  \n",
       "4             1281                7.597970  "
      ]
     },
     "execution_count": 28,
     "metadata": {},
     "output_type": "execute_result"
    }
   ],
   "source": [
    "# remove stop words from text\n",
    "stop_words = set(stopwords.words('english')) \n",
    "custom_stopwords = set(('chairman','chair','alan','greenspan','ben','bernanke','janet', 'yellen','jerome','powell',',',' ','.', ';', '?', '-', '!', '(', ')','--','\"',\"'\", ':', '¡¦', '¡','', '9', '/'))\n",
    "\n",
    "# process text\n",
    "speech_df['speech_id'] = 'S' + speech_df.index.astype(str)\n",
    "speech_df['text'] = speech_df['text'].str.lower()\n",
    "speech_df['text'] = speech_df['text'].apply(lambda x: ' '.join([word for word in x.split() if word not in (custom_stopwords)]))\n",
    "speech_df['filter_text'] = speech_df['text'].apply(lambda x: ' '.join([word for word in x.split() if word not in (stop_words)]))\n",
    "speech_df['filter_text'] = speech_df['filter_text'].apply(lambda x: ' '.join([Word(word).lemmatize() for word in x.split()]))\n",
    "speech_df['filter_text_len'] = speech_df['filter_text'].apply(lambda x: len(x.split()))\n",
    "speech_df['avg_word_length_filter'] = speech_df['filter_text'].apply(avg_word_length)\n",
    "speech_df.head()"
   ]
  },
  {
   "cell_type": "markdown",
   "id": "0633dd28-2e22-4516-b0f7-0d5359029ec1",
   "metadata": {},
   "source": [
    "<br>\n",
    "\n",
    "### merge speech and FOMC Meeting (events)\n",
    "\n",
    "By merging the event and the speech data frames we can associate each speech with a period and FOMC action."
   ]
  },
  {
   "cell_type": "code",
   "execution_count": 29,
   "id": "0b27de88-2322-4e06-8d8b-1a9addd4f3a3",
   "metadata": {},
   "outputs": [
    {
     "data": {
      "text/html": [
       "<div>\n",
       "<style scoped>\n",
       "    .dataframe tbody tr th:only-of-type {\n",
       "        vertical-align: middle;\n",
       "    }\n",
       "\n",
       "    .dataframe tbody tr th {\n",
       "        vertical-align: top;\n",
       "    }\n",
       "\n",
       "    .dataframe thead th {\n",
       "        text-align: right;\n",
       "    }\n",
       "</style>\n",
       "<table border=\"1\" class=\"dataframe\">\n",
       "  <thead>\n",
       "    <tr style=\"text-align: right;\">\n",
       "      <th></th>\n",
       "      <th>event_date</th>\n",
       "      <th>fed_rate</th>\n",
       "      <th>action</th>\n",
       "      <th>rate_change</th>\n",
       "      <th>fed_chair</th>\n",
       "      <th>notes</th>\n",
       "      <th>date_diff</th>\n",
       "      <th>start_date</th>\n",
       "      <th>end_date</th>\n",
       "      <th>event_id</th>\n",
       "      <th>...</th>\n",
       "      <th>event</th>\n",
       "      <th>year</th>\n",
       "      <th>text</th>\n",
       "      <th>speech_date</th>\n",
       "      <th>text_len</th>\n",
       "      <th>location</th>\n",
       "      <th>speech_id</th>\n",
       "      <th>filter_text</th>\n",
       "      <th>filter_text_len</th>\n",
       "      <th>avg_word_length_filter</th>\n",
       "    </tr>\n",
       "  </thead>\n",
       "  <tbody>\n",
       "    <tr>\n",
       "      <th>121649</th>\n",
       "      <td>1996-07-03</td>\n",
       "      <td>0.0525</td>\n",
       "      <td>no change</td>\n",
       "      <td>0.0</td>\n",
       "      <td>Alan Greenspan</td>\n",
       "      <td>- no change -</td>\n",
       "      <td>43 days</td>\n",
       "      <td>1996-05-21</td>\n",
       "      <td>1996-07-03</td>\n",
       "      <td>E84</td>\n",
       "      <td>...</td>\n",
       "      <td>At the CyberPayments '96 Conference, Dallas, T...</td>\n",
       "      <td>1996</td>\n",
       "      <td>remarks by governor edward w. kelley, jr. deve...</td>\n",
       "      <td>1996-06-18</td>\n",
       "      <td>2635</td>\n",
       "      <td>Texas</td>\n",
       "      <td>S17</td>\n",
       "      <td>remark governor edward w. kelley, jr. developm...</td>\n",
       "      <td>1536</td>\n",
       "      <td>7.205078</td>\n",
       "    </tr>\n",
       "    <tr>\n",
       "      <th>121650</th>\n",
       "      <td>1996-07-03</td>\n",
       "      <td>0.0525</td>\n",
       "      <td>no change</td>\n",
       "      <td>0.0</td>\n",
       "      <td>Alan Greenspan</td>\n",
       "      <td>- no change -</td>\n",
       "      <td>43 days</td>\n",
       "      <td>1996-05-21</td>\n",
       "      <td>1996-07-03</td>\n",
       "      <td>E84</td>\n",
       "      <td>...</td>\n",
       "      <td>At the International Conference of Banking Sup...</td>\n",
       "      <td>1996</td>\n",
       "      <td>remarks by bank supervision in a world economy...</td>\n",
       "      <td>1996-06-13</td>\n",
       "      <td>3164</td>\n",
       "      <td>Sweden</td>\n",
       "      <td>S18</td>\n",
       "      <td>remark bank supervision world economy internat...</td>\n",
       "      <td>1837</td>\n",
       "      <td>7.357104</td>\n",
       "    </tr>\n",
       "    <tr>\n",
       "      <th>124543</th>\n",
       "      <td>1996-09-24</td>\n",
       "      <td>0.0525</td>\n",
       "      <td>no change</td>\n",
       "      <td>0.0</td>\n",
       "      <td>Alan Greenspan</td>\n",
       "      <td>- no change -</td>\n",
       "      <td>35 days</td>\n",
       "      <td>1996-08-20</td>\n",
       "      <td>1996-09-24</td>\n",
       "      <td>E86</td>\n",
       "      <td>...</td>\n",
       "      <td>At the U.S. Treasury Conference on Electronic ...</td>\n",
       "      <td>1996</td>\n",
       "      <td>remarks by regulation of electronic payment sy...</td>\n",
       "      <td>1996-09-19</td>\n",
       "      <td>1948</td>\n",
       "      <td>D.C.</td>\n",
       "      <td>S15</td>\n",
       "      <td>remark regulation electronic payment system u....</td>\n",
       "      <td>1132</td>\n",
       "      <td>7.118375</td>\n",
       "    </tr>\n",
       "    <tr>\n",
       "      <th>124544</th>\n",
       "      <td>1996-09-24</td>\n",
       "      <td>0.0525</td>\n",
       "      <td>no change</td>\n",
       "      <td>0.0</td>\n",
       "      <td>Alan Greenspan</td>\n",
       "      <td>- no change -</td>\n",
       "      <td>35 days</td>\n",
       "      <td>1996-08-20</td>\n",
       "      <td>1996-09-24</td>\n",
       "      <td>E86</td>\n",
       "      <td>...</td>\n",
       "      <td>At the National Association of Business Econom...</td>\n",
       "      <td>1996</td>\n",
       "      <td>monetary policy objectives and strategy i want...</td>\n",
       "      <td>1996-09-08</td>\n",
       "      <td>2633</td>\n",
       "      <td>Massachusetts</td>\n",
       "      <td>S16</td>\n",
       "      <td>monetary policy objective strategy want share ...</td>\n",
       "      <td>1441</td>\n",
       "      <td>6.927828</td>\n",
       "    </tr>\n",
       "    <tr>\n",
       "      <th>125983</th>\n",
       "      <td>1996-11-13</td>\n",
       "      <td>0.0525</td>\n",
       "      <td>no change</td>\n",
       "      <td>0.0</td>\n",
       "      <td>Alan Greenspan</td>\n",
       "      <td>- no change -</td>\n",
       "      <td>50 days</td>\n",
       "      <td>1996-09-24</td>\n",
       "      <td>1996-11-13</td>\n",
       "      <td>E87</td>\n",
       "      <td>...</td>\n",
       "      <td>At the BAI Money Transfer '96 Conference, New ...</td>\n",
       "      <td>1996</td>\n",
       "      <td>the future of electronic payments i am delight...</td>\n",
       "      <td>1996-10-31</td>\n",
       "      <td>2449</td>\n",
       "      <td>New York</td>\n",
       "      <td>S7</td>\n",
       "      <td>future electronic payment delighted morning di...</td>\n",
       "      <td>1423</td>\n",
       "      <td>6.907238</td>\n",
       "    </tr>\n",
       "  </tbody>\n",
       "</table>\n",
       "<p>5 rows × 23 columns</p>\n",
       "</div>"
      ],
      "text/plain": [
       "       event_date  fed_rate     action  rate_change       fed_chair  \\\n",
       "121649 1996-07-03    0.0525  no change          0.0  Alan Greenspan   \n",
       "121650 1996-07-03    0.0525  no change          0.0  Alan Greenspan   \n",
       "124543 1996-09-24    0.0525  no change          0.0  Alan Greenspan   \n",
       "124544 1996-09-24    0.0525  no change          0.0  Alan Greenspan   \n",
       "125983 1996-11-13    0.0525  no change          0.0  Alan Greenspan   \n",
       "\n",
       "                notes date_diff start_date   end_date event_id  ...  \\\n",
       "121649  - no change -   43 days 1996-05-21 1996-07-03      E84  ...   \n",
       "121650  - no change -   43 days 1996-05-21 1996-07-03      E84  ...   \n",
       "124543  - no change -   35 days 1996-08-20 1996-09-24      E86  ...   \n",
       "124544  - no change -   35 days 1996-08-20 1996-09-24      E86  ...   \n",
       "125983  - no change -   50 days 1996-09-24 1996-11-13      E87  ...   \n",
       "\n",
       "                                                    event  year  \\\n",
       "121649  At the CyberPayments '96 Conference, Dallas, T...  1996   \n",
       "121650  At the International Conference of Banking Sup...  1996   \n",
       "124543  At the U.S. Treasury Conference on Electronic ...  1996   \n",
       "124544  At the National Association of Business Econom...  1996   \n",
       "125983  At the BAI Money Transfer '96 Conference, New ...  1996   \n",
       "\n",
       "                                                     text speech_date  \\\n",
       "121649  remarks by governor edward w. kelley, jr. deve...  1996-06-18   \n",
       "121650  remarks by bank supervision in a world economy...  1996-06-13   \n",
       "124543  remarks by regulation of electronic payment sy...  1996-09-19   \n",
       "124544  monetary policy objectives and strategy i want...  1996-09-08   \n",
       "125983  the future of electronic payments i am delight...  1996-10-31   \n",
       "\n",
       "        text_len       location speech_id  \\\n",
       "121649      2635          Texas       S17   \n",
       "121650      3164         Sweden       S18   \n",
       "124543      1948           D.C.       S15   \n",
       "124544      2633  Massachusetts       S16   \n",
       "125983      2449       New York        S7   \n",
       "\n",
       "                                              filter_text filter_text_len  \\\n",
       "121649  remark governor edward w. kelley, jr. developm...            1536   \n",
       "121650  remark bank supervision world economy internat...            1837   \n",
       "124543  remark regulation electronic payment system u....            1132   \n",
       "124544  monetary policy objective strategy want share ...            1441   \n",
       "125983  future electronic payment delighted morning di...            1423   \n",
       "\n",
       "       avg_word_length_filter  \n",
       "121649               7.205078  \n",
       "121650               7.357104  \n",
       "124543               7.118375  \n",
       "124544               6.927828  \n",
       "125983               6.907238  \n",
       "\n",
       "[5 rows x 23 columns]"
      ]
     },
     "execution_count": 29,
     "metadata": {},
     "output_type": "execute_result"
    }
   ],
   "source": [
    "df_merge = decision_df.merge(speech_df, how='cross')\n",
    "df_merge = df_merge.query('speech_date > start_date and speech_date <= end_date')\n",
    "df_merge.head(5)"
   ]
  },
  {
   "cell_type": "code",
   "execution_count": null,
   "id": "02da7960-3b02-4857-a9f1-70e04f4279f3",
   "metadata": {},
   "outputs": [],
   "source": []
  },
  {
   "cell_type": "code",
   "execution_count": null,
   "id": "896ce2e1-122e-4af1-a886-45dfe4c4263c",
   "metadata": {},
   "outputs": [],
   "source": []
  },
  {
   "cell_type": "markdown",
   "id": "5cce4e99-34df-425a-b9ad-5303d8b838de",
   "metadata": {},
   "source": [
    "## Explore"
   ]
  },
  {
   "cell_type": "markdown",
   "id": "8abc3e03-a939-4c07-b3d7-94cb887c5915",
   "metadata": {},
   "source": [
    "<br>\n",
    "\n",
    "### FOMC Fed Rate Decision (events)"
   ]
  },
  {
   "cell_type": "code",
   "execution_count": 30,
   "id": "a670aca4-0d7a-4fae-9c0f-15453b135bf2",
   "metadata": {},
   "outputs": [
    {
     "name": "stdout",
     "output_type": "stream",
     "text": [
      "<class 'pandas.core.frame.DataFrame'>\n",
      "RangeIndex: 302 entries, 0 to 301\n",
      "Data columns (total 10 columns):\n",
      " #   Column       Non-Null Count  Dtype          \n",
      "---  ------       --------------  -----          \n",
      " 0   event_date   302 non-null    datetime64[ns] \n",
      " 1   fed_rate     302 non-null    float64        \n",
      " 2   action       302 non-null    object         \n",
      " 3   rate_change  302 non-null    float64        \n",
      " 4   fed_chair    302 non-null    object         \n",
      " 5   notes        302 non-null    object         \n",
      " 6   date_diff    301 non-null    timedelta64[ns]\n",
      " 7   start_date   301 non-null    datetime64[ns] \n",
      " 8   end_date     302 non-null    datetime64[ns] \n",
      " 9   event_id     302 non-null    object         \n",
      "dtypes: datetime64[ns](3), float64(2), object(4), timedelta64[ns](1)\n",
      "memory usage: 23.7+ KB\n"
     ]
    }
   ],
   "source": [
    "decision_df.info()"
   ]
  },
  {
   "cell_type": "code",
   "execution_count": 31,
   "id": "e061814a-9e1c-42c4-b87b-f709a31c95f9",
   "metadata": {},
   "outputs": [
    {
     "data": {
      "application/vnd.plotly.v1+json": {
       "config": {
        "plotlyServerURL": "https://plotly.com"
       },
       "data": [
        {
         "hovertemplate": "fed_chair=Paul Volcker<br>event_date=%{x}<br>fed_rate=%{y}<extra></extra>",
         "legendgroup": "Paul Volcker",
         "marker": {
          "color": "#636efa",
          "size": 3,
          "symbol": "circle"
         },
         "mode": "markers",
         "name": "Paul Volcker",
         "orientation": "v",
         "showlegend": true,
         "type": "scatter",
         "x": [
          "1987-05-19T00:00:00"
         ],
         "xaxis": "x",
         "y": [
          0.065
         ],
         "yaxis": "y"
        },
        {
         "hovertemplate": "fed_chair=Alan Greenspan<br>event_date=%{x}<br>fed_rate=%{y}<extra></extra>",
         "legendgroup": "Alan Greenspan",
         "marker": {
          "color": "#EF553B",
          "size": 3,
          "symbol": "circle"
         },
         "mode": "markers",
         "name": "Alan Greenspan",
         "orientation": "v",
         "showlegend": true,
         "type": "scatter",
         "x": [
          "1987-07-07T00:00:00",
          "1987-08-18T00:00:00",
          "1987-09-22T00:00:00",
          "1987-11-04T00:00:00",
          "1987-12-15T00:00:00",
          "1988-02-10T00:00:00",
          "1988-03-29T00:00:00",
          "1988-05-17T00:00:00",
          "1988-06-30T00:00:00",
          "1988-08-16T00:00:00",
          "1988-09-20T00:00:00",
          "1988-11-01T00:00:00",
          "1988-12-14T00:00:00",
          "1989-02-08T00:00:00",
          "1989-03-28T00:00:00",
          "1989-05-16T00:00:00",
          "1989-07-06T00:00:00",
          "1989-08-22T00:00:00",
          "1989-10-03T00:00:00",
          "1989-11-14T00:00:00",
          "1989-12-19T00:00:00",
          "1990-02-07T00:00:00",
          "1990-03-27T00:00:00",
          "1990-05-15T00:00:00",
          "1990-07-03T00:00:00",
          "1990-08-21T00:00:00",
          "1990-10-02T00:00:00",
          "1990-11-13T00:00:00",
          "1990-12-18T00:00:00",
          "1991-01-09T00:00:00",
          "1991-02-01T00:00:00",
          "1991-02-06T00:00:00",
          "1991-03-08T00:00:00",
          "1991-04-30T00:00:00",
          "1991-05-14T00:00:00",
          "1991-07-03T00:00:00",
          "1991-08-06T00:00:00",
          "1991-08-20T00:00:00",
          "1991-09-13T00:00:00",
          "1991-10-01T00:00:00",
          "1991-10-31T00:00:00",
          "1991-11-06T00:00:00",
          "1991-12-02T00:00:00",
          "1991-12-17T00:00:00",
          "1992-02-05T00:00:00",
          "1992-03-31T00:00:00",
          "1992-04-09T00:00:00",
          "1992-05-19T00:00:00",
          "1992-07-02T00:00:00",
          "1992-08-18T00:00:00",
          "1992-09-04T00:00:00",
          "1992-10-06T00:00:00",
          "1992-11-17T00:00:00",
          "1992-12-22T00:00:00",
          "1993-02-03T00:00:00",
          "1993-03-23T00:00:00",
          "1993-05-18T00:00:00",
          "1993-07-07T00:00:00",
          "1993-08-17T00:00:00",
          "1993-09-21T00:00:00",
          "1993-11-01T00:00:00",
          "1993-12-21T00:00:00",
          "1994-02-04T00:00:00",
          "1994-03-22T00:00:00",
          "1994-04-18T00:00:00",
          "1994-05-17T00:00:00",
          "1994-07-06T00:00:00",
          "1994-08-16T00:00:00",
          "1994-09-27T00:00:00",
          "1994-11-15T00:00:00",
          "1994-12-20T00:00:00",
          "1995-01-31T00:00:00",
          "1995-02-01T00:00:00",
          "1995-03-28T00:00:00",
          "1995-05-23T00:00:00",
          "1995-07-06T00:00:00",
          "1995-08-22T00:00:00",
          "1995-09-26T00:00:00",
          "1995-11-15T00:00:00",
          "1995-12-19T00:00:00",
          "1996-01-31T00:00:00",
          "1996-03-26T00:00:00",
          "1996-05-21T00:00:00",
          "1996-07-03T00:00:00",
          "1996-08-20T00:00:00",
          "1996-09-24T00:00:00",
          "1996-11-13T00:00:00",
          "1996-12-17T00:00:00",
          "1997-02-05T00:00:00",
          "1997-03-25T00:00:00",
          "1997-05-20T00:00:00",
          "1997-07-02T00:00:00",
          "1997-08-19T00:00:00",
          "1997-09-30T00:00:00",
          "1997-11-12T00:00:00",
          "1997-12-16T00:00:00",
          "1998-02-04T00:00:00",
          "1998-03-31T00:00:00",
          "1998-05-19T00:00:00",
          "1998-07-01T00:00:00",
          "1998-08-18T00:00:00",
          "1998-09-29T00:00:00",
          "1998-10-15T00:00:00",
          "1998-11-17T00:00:00",
          "1998-12-22T00:00:00",
          "1999-02-03T00:00:00",
          "1999-03-30T00:00:00",
          "1999-05-18T00:00:00",
          "1999-06-30T00:00:00",
          "1999-08-24T00:00:00",
          "1999-10-05T00:00:00",
          "1999-11-16T00:00:00",
          "1999-12-21T00:00:00",
          "2000-02-02T00:00:00",
          "2000-03-21T00:00:00",
          "2000-05-16T00:00:00",
          "2000-06-28T00:00:00",
          "2000-08-22T00:00:00",
          "2000-10-03T00:00:00",
          "2000-11-15T00:00:00",
          "2000-12-19T00:00:00",
          "2001-01-03T00:00:00",
          "2001-01-31T00:00:00",
          "2001-03-20T00:00:00",
          "2001-04-18T00:00:00",
          "2001-05-15T00:00:00",
          "2001-06-27T00:00:00",
          "2001-08-21T00:00:00",
          "2001-09-17T00:00:00",
          "2001-10-02T00:00:00",
          "2001-11-06T00:00:00",
          "2001-12-11T00:00:00",
          "2002-01-30T00:00:00",
          "2002-03-19T00:00:00",
          "2002-05-07T00:00:00",
          "2002-06-26T00:00:00",
          "2002-08-13T00:00:00",
          "2002-09-24T00:00:00",
          "2002-11-06T00:00:00",
          "2002-12-10T00:00:00",
          "2003-03-18T00:00:00",
          "2003-03-25T00:00:00",
          "2003-05-06T00:00:00",
          "2003-06-25T00:00:00",
          "2003-06-29T00:00:00",
          "2003-08-12T00:00:00",
          "2003-09-16T00:00:00",
          "2003-10-28T00:00:00",
          "2003-12-09T00:00:00",
          "2004-01-28T00:00:00",
          "2004-03-16T00:00:00",
          "2004-05-04T00:00:00",
          "2004-06-30T00:00:00",
          "2004-08-10T00:00:00",
          "2004-09-21T00:00:00",
          "2004-11-10T00:00:00",
          "2004-12-14T00:00:00",
          "2005-02-02T00:00:00",
          "2005-03-22T00:00:00",
          "2005-05-03T00:00:00",
          "2005-06-30T00:00:00",
          "2005-08-09T00:00:00",
          "2005-09-20T00:00:00",
          "2005-11-01T00:00:00",
          "2005-12-13T00:00:00",
          "2006-01-31T00:00:00"
         ],
         "xaxis": "x",
         "y": [
          0.065,
          0.065,
          0.0725,
          0.0681,
          0.0681,
          0.0625,
          0.065,
          0.065,
          0.065,
          0.0813,
          0.0813,
          0.0813,
          0.0838,
          0.0838,
          0.0838,
          0.0838,
          0.0838,
          0.0838,
          0.0838,
          0.0838,
          0.085,
          0.085,
          0.085,
          0.085,
          0.0825,
          0.0825,
          0.0775,
          0.075,
          0.0725,
          0.0675,
          0.0625,
          0.0625,
          0.06,
          0.0575,
          0.0575,
          0.0575,
          0.055,
          0.055,
          0.0525,
          0.0525,
          0.05,
          0.0475,
          0.045,
          0.04,
          0.04,
          0.04,
          0.0375,
          0.0375,
          0.0325,
          0.0375,
          0.03,
          0.03,
          0.03,
          0.03,
          0.03,
          0.03,
          0.03,
          0.03,
          0.03,
          0.03,
          0.03,
          0.03,
          0.0325,
          0.035,
          0.0375,
          0.0425,
          0.0425,
          0.0475,
          0.0475,
          0.055,
          0.055,
          0.055,
          0.06,
          0.06,
          0.06,
          0.0575,
          0.0575,
          0.0575,
          0.0575,
          0.055,
          0.0525,
          0.0525,
          0.0525,
          0.0525,
          0.0525,
          0.0525,
          0.0525,
          0.0525,
          0.0525,
          0.055,
          0.055,
          0.055,
          0.055,
          0.055,
          0.055,
          0.055,
          0.055,
          0.055,
          0.055,
          0.055,
          0.055,
          0.0525,
          0.05,
          0.0475,
          0.0475,
          0.0475,
          0.0475,
          0.0475,
          0.05,
          0.0525,
          0.0525,
          0.055,
          0.055,
          0.0575,
          0.06,
          0.065,
          0.065,
          0.065,
          0.065,
          0.065,
          0.065,
          0.06,
          0.055,
          0.05,
          0.045,
          0.04,
          0.0375,
          0.035,
          0.03,
          0.025,
          0.02,
          0.0175,
          0.0175,
          0.0175,
          0.0175,
          0.0175,
          0.0175,
          0.0175,
          0.0125,
          0.0125,
          0.0125,
          0.0125,
          0.0125,
          0.01,
          0.01,
          0.01,
          0.01,
          0.01,
          0.01,
          0.01,
          0.01,
          0.01,
          0.0103,
          0.015,
          0.0175,
          0.02,
          0.0225,
          0.025,
          0.0275,
          0.03,
          0.0325,
          0.035,
          0.0375,
          0.04,
          0.0425,
          0.045
         ],
         "yaxis": "y"
        },
        {
         "hovertemplate": "fed_chair=Ben Bernanke<br>event_date=%{x}<br>fed_rate=%{y}<extra></extra>",
         "legendgroup": "Ben Bernanke",
         "marker": {
          "color": "#00cc96",
          "size": 3,
          "symbol": "circle"
         },
         "mode": "markers",
         "name": "Ben Bernanke",
         "orientation": "v",
         "showlegend": true,
         "type": "scatter",
         "x": [
          "2006-03-28T00:00:00",
          "2006-05-10T00:00:00",
          "2006-06-29T00:00:00",
          "2006-08-08T00:00:00",
          "2006-09-20T00:00:00",
          "2006-10-25T00:00:00",
          "2006-12-12T00:00:00",
          "2007-01-31T00:00:00",
          "2007-03-21T00:00:00",
          "2007-05-09T00:00:00",
          "2007-06-28T00:00:00",
          "2007-08-07T00:00:00",
          "2007-09-18T00:00:00",
          "2007-10-31T00:00:00",
          "2007-12-11T00:00:00",
          "2008-01-22T00:00:00",
          "2008-01-30T00:00:00",
          "2008-03-18T00:00:00",
          "2008-04-30T00:00:00",
          "2008-06-25T00:00:00",
          "2008-08-05T00:00:00",
          "2008-09-16T00:00:00",
          "2008-10-08T00:00:00",
          "2008-11-29T00:00:00",
          "2008-12-16T00:00:00",
          "2009-01-28T00:00:00",
          "2009-03-18T00:00:00",
          "2009-04-29T00:00:00",
          "2009-06-24T00:00:00",
          "2009-08-12T00:00:00",
          "2009-09-23T00:00:00",
          "2009-11-04T00:00:00",
          "2009-12-16T00:00:00",
          "2010-01-27T00:00:00",
          "2010-03-16T00:00:00",
          "2010-04-28T00:00:00",
          "2010-06-23T00:00:00",
          "2010-08-10T00:00:00",
          "2010-09-21T00:00:00",
          "2010-11-03T00:00:00",
          "2010-12-14T00:00:00",
          "2011-01-26T00:00:00",
          "2011-03-15T00:00:00",
          "2011-04-27T00:00:00",
          "2011-06-22T00:00:00",
          "2011-08-09T00:00:00",
          "2011-09-21T00:00:00",
          "2011-11-02T00:00:00",
          "2011-12-13T00:00:00",
          "2012-01-25T00:00:00",
          "2012-03-13T00:00:00",
          "2012-04-25T00:00:00",
          "2012-06-20T00:00:00",
          "2012-08-01T00:00:00",
          "2012-09-13T00:00:00",
          "2012-10-24T00:00:00",
          "2012-12-12T00:00:00",
          "2013-01-30T00:00:00",
          "2013-03-20T00:00:00",
          "2013-05-01T00:00:00",
          "2013-06-19T00:00:00",
          "2013-07-31T00:00:00",
          "2013-09-18T00:00:00",
          "2013-10-30T00:00:00",
          "2013-12-18T00:00:00",
          "2014-01-29T00:00:00",
          "2014-03-04T00:00:00",
          "2014-03-19T00:00:00",
          "2014-04-30T00:00:00",
          "2014-06-18T00:00:00",
          "2014-07-30T00:00:00",
          "2014-09-17T00:00:00",
          "2014-10-29T00:00:00",
          "2014-12-17T00:00:00",
          "2015-01-28T00:00:00",
          "2015-03-16T00:00:00",
          "2015-03-18T00:00:00",
          "2015-04-29T00:00:00",
          "2015-06-17T00:00:00",
          "2015-07-29T00:00:00",
          "2015-09-17T00:00:00",
          "2015-10-28T00:00:00"
         ],
         "xaxis": "x",
         "y": [
          0.0475,
          0.05,
          0.0525,
          0.0525,
          0.0525,
          0.0525,
          0.0525,
          0.0525,
          0.0525,
          0.0525,
          0.0525,
          0.0525,
          0.0475,
          0.045,
          0.0425,
          0.035,
          0.03,
          0.0225,
          0.02,
          0.02,
          0.02,
          0.02,
          0.015,
          0.01,
          0.0025,
          0.0025,
          0.0025,
          0.0025,
          0.0025,
          0.0025,
          0.0025,
          0.0025,
          0.0025,
          0.0025,
          0.0025,
          0.0025,
          0.0025,
          0.0025,
          0.0025,
          0.0025,
          0.0025,
          0.0025,
          0.0025,
          0.0025,
          0.0025,
          0.0025,
          0.0025,
          0.0025,
          0.0025,
          0.0025,
          0.0025,
          0.0025,
          0.0025,
          0.0025,
          0.0025,
          0.0025,
          0.0025,
          0.0025,
          0.0025,
          0.0025,
          0.0025,
          0.0025,
          0.0025,
          0.0025,
          0.0025,
          0.0025,
          0.0025,
          0.0025,
          0.0025,
          0.0025,
          0.0025,
          0.0025,
          0.0025,
          0.0025,
          0.0025,
          0.0025,
          0.0025,
          0.0025,
          0.0025,
          0.0025,
          0.0025,
          0.0025
         ],
         "yaxis": "y"
        },
        {
         "hovertemplate": "fed_chair=Janet Yellen<br>event_date=%{x}<br>fed_rate=%{y}<extra></extra>",
         "legendgroup": "Janet Yellen",
         "marker": {
          "color": "#ab63fa",
          "size": 3,
          "symbol": "circle"
         },
         "mode": "markers",
         "name": "Janet Yellen",
         "orientation": "v",
         "showlegend": true,
         "type": "scatter",
         "x": [
          "2015-12-17T00:00:00",
          "2016-01-27T00:00:00",
          "2016-04-16T00:00:00",
          "2016-06-15T00:00:00",
          "2016-07-27T00:00:00",
          "2016-09-21T00:00:00",
          "2016-09-21T00:00:00",
          "2016-11-02T00:00:00",
          "2016-12-15T00:00:00",
          "2017-02-01T00:00:00",
          "2017-03-16T00:00:00",
          "2017-05-03T00:00:00",
          "2017-06-15T00:00:00",
          "2017-07-26T00:00:00",
          "2017-09-20T00:00:00",
          "2017-11-01T00:00:00",
          "2017-12-14T00:00:00",
          "2018-01-31T00:00:00"
         ],
         "xaxis": "x",
         "y": [
          0.005,
          0.005,
          0.005,
          0.005,
          0.005,
          0.005,
          0.005,
          0.005,
          0.0075,
          0.0075,
          0.01,
          0.01,
          0.0125,
          0.0125,
          0.0125,
          0.0125,
          0.015,
          0.015
         ],
         "yaxis": "y"
        },
        {
         "hovertemplate": "fed_chair=Jerome Powell<br>event_date=%{x}<br>fed_rate=%{y}<extra></extra>",
         "legendgroup": "Jerome Powell",
         "marker": {
          "color": "#FFA15A",
          "size": 3,
          "symbol": "circle"
         },
         "mode": "markers",
         "name": "Jerome Powell",
         "orientation": "v",
         "showlegend": true,
         "type": "scatter",
         "x": [
          "2018-03-22T00:00:00",
          "2018-05-02T00:00:00",
          "2018-06-14T00:00:00",
          "2018-08-01T00:00:00",
          "2018-09-27T00:00:00",
          "2018-11-08T00:00:00",
          "2018-12-20T00:00:00",
          "2019-01-30T00:00:00",
          "2019-03-20T00:00:00",
          "2019-05-01T00:00:00",
          "2019-06-19T00:00:00",
          "2019-08-01T00:00:00",
          "2019-09-19T00:00:00",
          "2019-10-04T00:00:00",
          "2019-10-31T00:00:00",
          "2019-12-11T00:00:00",
          "2020-01-29T00:00:00",
          "2020-03-03T00:00:00",
          "2020-04-29T00:00:00",
          "2020-06-10T00:00:00",
          "2020-07-29T00:00:00",
          "2020-08-27T00:00:00",
          "2020-09-16T00:00:00",
          "2020-11-05T00:00:00",
          "2020-12-16T00:00:00",
          "2021-01-27T00:00:00",
          "2021-03-17T00:00:00",
          "2021-04-28T00:00:00",
          "2021-06-16T00:00:00",
          "2021-07-28T00:00:00",
          "2021-09-22T00:00:00",
          "2021-11-04T00:00:00",
          "2021-12-15T00:00:00",
          "2022-01-26T00:00:00",
          "2022-03-16T00:00:00"
         ],
         "xaxis": "x",
         "y": [
          0.0175,
          0.0175,
          0.02,
          0.02,
          0.0225,
          0.0225,
          0.025,
          0.025,
          0.025,
          0.025,
          0.025,
          0.0225,
          0.02,
          0.02,
          0.0175,
          0.0175,
          0.0175,
          0.0125,
          0.0025,
          0.0025,
          0.0025,
          0.0025,
          0.0025,
          0.0025,
          0.0025,
          0.0025,
          0.0025,
          0.0025,
          0.0025,
          0.0025,
          0.0025,
          0.0025,
          0.0025,
          0.0025,
          0.005
         ],
         "yaxis": "y"
        }
       ],
       "layout": {
        "autosize": true,
        "legend": {
         "title": {
          "text": "fed_chair"
         },
         "tracegroupgap": 0
        },
        "template": {
         "data": {
          "bar": [
           {
            "error_x": {
             "color": "#2a3f5f"
            },
            "error_y": {
             "color": "#2a3f5f"
            },
            "marker": {
             "line": {
              "color": "#E5ECF6",
              "width": 0.5
             },
             "pattern": {
              "fillmode": "overlay",
              "size": 10,
              "solidity": 0.2
             }
            },
            "type": "bar"
           }
          ],
          "barpolar": [
           {
            "marker": {
             "line": {
              "color": "#E5ECF6",
              "width": 0.5
             },
             "pattern": {
              "fillmode": "overlay",
              "size": 10,
              "solidity": 0.2
             }
            },
            "type": "barpolar"
           }
          ],
          "carpet": [
           {
            "aaxis": {
             "endlinecolor": "#2a3f5f",
             "gridcolor": "white",
             "linecolor": "white",
             "minorgridcolor": "white",
             "startlinecolor": "#2a3f5f"
            },
            "baxis": {
             "endlinecolor": "#2a3f5f",
             "gridcolor": "white",
             "linecolor": "white",
             "minorgridcolor": "white",
             "startlinecolor": "#2a3f5f"
            },
            "type": "carpet"
           }
          ],
          "choropleth": [
           {
            "colorbar": {
             "outlinewidth": 0,
             "ticks": ""
            },
            "type": "choropleth"
           }
          ],
          "contour": [
           {
            "colorbar": {
             "outlinewidth": 0,
             "ticks": ""
            },
            "colorscale": [
             [
              0,
              "#0d0887"
             ],
             [
              0.1111111111111111,
              "#46039f"
             ],
             [
              0.2222222222222222,
              "#7201a8"
             ],
             [
              0.3333333333333333,
              "#9c179e"
             ],
             [
              0.4444444444444444,
              "#bd3786"
             ],
             [
              0.5555555555555556,
              "#d8576b"
             ],
             [
              0.6666666666666666,
              "#ed7953"
             ],
             [
              0.7777777777777778,
              "#fb9f3a"
             ],
             [
              0.8888888888888888,
              "#fdca26"
             ],
             [
              1,
              "#f0f921"
             ]
            ],
            "type": "contour"
           }
          ],
          "contourcarpet": [
           {
            "colorbar": {
             "outlinewidth": 0,
             "ticks": ""
            },
            "type": "contourcarpet"
           }
          ],
          "heatmap": [
           {
            "colorbar": {
             "outlinewidth": 0,
             "ticks": ""
            },
            "colorscale": [
             [
              0,
              "#0d0887"
             ],
             [
              0.1111111111111111,
              "#46039f"
             ],
             [
              0.2222222222222222,
              "#7201a8"
             ],
             [
              0.3333333333333333,
              "#9c179e"
             ],
             [
              0.4444444444444444,
              "#bd3786"
             ],
             [
              0.5555555555555556,
              "#d8576b"
             ],
             [
              0.6666666666666666,
              "#ed7953"
             ],
             [
              0.7777777777777778,
              "#fb9f3a"
             ],
             [
              0.8888888888888888,
              "#fdca26"
             ],
             [
              1,
              "#f0f921"
             ]
            ],
            "type": "heatmap"
           }
          ],
          "heatmapgl": [
           {
            "colorbar": {
             "outlinewidth": 0,
             "ticks": ""
            },
            "colorscale": [
             [
              0,
              "#0d0887"
             ],
             [
              0.1111111111111111,
              "#46039f"
             ],
             [
              0.2222222222222222,
              "#7201a8"
             ],
             [
              0.3333333333333333,
              "#9c179e"
             ],
             [
              0.4444444444444444,
              "#bd3786"
             ],
             [
              0.5555555555555556,
              "#d8576b"
             ],
             [
              0.6666666666666666,
              "#ed7953"
             ],
             [
              0.7777777777777778,
              "#fb9f3a"
             ],
             [
              0.8888888888888888,
              "#fdca26"
             ],
             [
              1,
              "#f0f921"
             ]
            ],
            "type": "heatmapgl"
           }
          ],
          "histogram": [
           {
            "marker": {
             "pattern": {
              "fillmode": "overlay",
              "size": 10,
              "solidity": 0.2
             }
            },
            "type": "histogram"
           }
          ],
          "histogram2d": [
           {
            "colorbar": {
             "outlinewidth": 0,
             "ticks": ""
            },
            "colorscale": [
             [
              0,
              "#0d0887"
             ],
             [
              0.1111111111111111,
              "#46039f"
             ],
             [
              0.2222222222222222,
              "#7201a8"
             ],
             [
              0.3333333333333333,
              "#9c179e"
             ],
             [
              0.4444444444444444,
              "#bd3786"
             ],
             [
              0.5555555555555556,
              "#d8576b"
             ],
             [
              0.6666666666666666,
              "#ed7953"
             ],
             [
              0.7777777777777778,
              "#fb9f3a"
             ],
             [
              0.8888888888888888,
              "#fdca26"
             ],
             [
              1,
              "#f0f921"
             ]
            ],
            "type": "histogram2d"
           }
          ],
          "histogram2dcontour": [
           {
            "colorbar": {
             "outlinewidth": 0,
             "ticks": ""
            },
            "colorscale": [
             [
              0,
              "#0d0887"
             ],
             [
              0.1111111111111111,
              "#46039f"
             ],
             [
              0.2222222222222222,
              "#7201a8"
             ],
             [
              0.3333333333333333,
              "#9c179e"
             ],
             [
              0.4444444444444444,
              "#bd3786"
             ],
             [
              0.5555555555555556,
              "#d8576b"
             ],
             [
              0.6666666666666666,
              "#ed7953"
             ],
             [
              0.7777777777777778,
              "#fb9f3a"
             ],
             [
              0.8888888888888888,
              "#fdca26"
             ],
             [
              1,
              "#f0f921"
             ]
            ],
            "type": "histogram2dcontour"
           }
          ],
          "mesh3d": [
           {
            "colorbar": {
             "outlinewidth": 0,
             "ticks": ""
            },
            "type": "mesh3d"
           }
          ],
          "parcoords": [
           {
            "line": {
             "colorbar": {
              "outlinewidth": 0,
              "ticks": ""
             }
            },
            "type": "parcoords"
           }
          ],
          "pie": [
           {
            "automargin": true,
            "type": "pie"
           }
          ],
          "scatter": [
           {
            "marker": {
             "colorbar": {
              "outlinewidth": 0,
              "ticks": ""
             }
            },
            "type": "scatter"
           }
          ],
          "scatter3d": [
           {
            "line": {
             "colorbar": {
              "outlinewidth": 0,
              "ticks": ""
             }
            },
            "marker": {
             "colorbar": {
              "outlinewidth": 0,
              "ticks": ""
             }
            },
            "type": "scatter3d"
           }
          ],
          "scattercarpet": [
           {
            "marker": {
             "colorbar": {
              "outlinewidth": 0,
              "ticks": ""
             }
            },
            "type": "scattercarpet"
           }
          ],
          "scattergeo": [
           {
            "marker": {
             "colorbar": {
              "outlinewidth": 0,
              "ticks": ""
             }
            },
            "type": "scattergeo"
           }
          ],
          "scattergl": [
           {
            "marker": {
             "colorbar": {
              "outlinewidth": 0,
              "ticks": ""
             }
            },
            "type": "scattergl"
           }
          ],
          "scattermapbox": [
           {
            "marker": {
             "colorbar": {
              "outlinewidth": 0,
              "ticks": ""
             }
            },
            "type": "scattermapbox"
           }
          ],
          "scatterpolar": [
           {
            "marker": {
             "colorbar": {
              "outlinewidth": 0,
              "ticks": ""
             }
            },
            "type": "scatterpolar"
           }
          ],
          "scatterpolargl": [
           {
            "marker": {
             "colorbar": {
              "outlinewidth": 0,
              "ticks": ""
             }
            },
            "type": "scatterpolargl"
           }
          ],
          "scatterternary": [
           {
            "marker": {
             "colorbar": {
              "outlinewidth": 0,
              "ticks": ""
             }
            },
            "type": "scatterternary"
           }
          ],
          "surface": [
           {
            "colorbar": {
             "outlinewidth": 0,
             "ticks": ""
            },
            "colorscale": [
             [
              0,
              "#0d0887"
             ],
             [
              0.1111111111111111,
              "#46039f"
             ],
             [
              0.2222222222222222,
              "#7201a8"
             ],
             [
              0.3333333333333333,
              "#9c179e"
             ],
             [
              0.4444444444444444,
              "#bd3786"
             ],
             [
              0.5555555555555556,
              "#d8576b"
             ],
             [
              0.6666666666666666,
              "#ed7953"
             ],
             [
              0.7777777777777778,
              "#fb9f3a"
             ],
             [
              0.8888888888888888,
              "#fdca26"
             ],
             [
              1,
              "#f0f921"
             ]
            ],
            "type": "surface"
           }
          ],
          "table": [
           {
            "cells": {
             "fill": {
              "color": "#EBF0F8"
             },
             "line": {
              "color": "white"
             }
            },
            "header": {
             "fill": {
              "color": "#C8D4E3"
             },
             "line": {
              "color": "white"
             }
            },
            "type": "table"
           }
          ]
         },
         "layout": {
          "annotationdefaults": {
           "arrowcolor": "#2a3f5f",
           "arrowhead": 0,
           "arrowwidth": 1
          },
          "autotypenumbers": "strict",
          "coloraxis": {
           "colorbar": {
            "outlinewidth": 0,
            "ticks": ""
           }
          },
          "colorscale": {
           "diverging": [
            [
             0,
             "#8e0152"
            ],
            [
             0.1,
             "#c51b7d"
            ],
            [
             0.2,
             "#de77ae"
            ],
            [
             0.3,
             "#f1b6da"
            ],
            [
             0.4,
             "#fde0ef"
            ],
            [
             0.5,
             "#f7f7f7"
            ],
            [
             0.6,
             "#e6f5d0"
            ],
            [
             0.7,
             "#b8e186"
            ],
            [
             0.8,
             "#7fbc41"
            ],
            [
             0.9,
             "#4d9221"
            ],
            [
             1,
             "#276419"
            ]
           ],
           "sequential": [
            [
             0,
             "#0d0887"
            ],
            [
             0.1111111111111111,
             "#46039f"
            ],
            [
             0.2222222222222222,
             "#7201a8"
            ],
            [
             0.3333333333333333,
             "#9c179e"
            ],
            [
             0.4444444444444444,
             "#bd3786"
            ],
            [
             0.5555555555555556,
             "#d8576b"
            ],
            [
             0.6666666666666666,
             "#ed7953"
            ],
            [
             0.7777777777777778,
             "#fb9f3a"
            ],
            [
             0.8888888888888888,
             "#fdca26"
            ],
            [
             1,
             "#f0f921"
            ]
           ],
           "sequentialminus": [
            [
             0,
             "#0d0887"
            ],
            [
             0.1111111111111111,
             "#46039f"
            ],
            [
             0.2222222222222222,
             "#7201a8"
            ],
            [
             0.3333333333333333,
             "#9c179e"
            ],
            [
             0.4444444444444444,
             "#bd3786"
            ],
            [
             0.5555555555555556,
             "#d8576b"
            ],
            [
             0.6666666666666666,
             "#ed7953"
            ],
            [
             0.7777777777777778,
             "#fb9f3a"
            ],
            [
             0.8888888888888888,
             "#fdca26"
            ],
            [
             1,
             "#f0f921"
            ]
           ]
          },
          "colorway": [
           "#636efa",
           "#EF553B",
           "#00cc96",
           "#ab63fa",
           "#FFA15A",
           "#19d3f3",
           "#FF6692",
           "#B6E880",
           "#FF97FF",
           "#FECB52"
          ],
          "font": {
           "color": "#2a3f5f"
          },
          "geo": {
           "bgcolor": "white",
           "lakecolor": "white",
           "landcolor": "#E5ECF6",
           "showlakes": true,
           "showland": true,
           "subunitcolor": "white"
          },
          "hoverlabel": {
           "align": "left"
          },
          "hovermode": "closest",
          "mapbox": {
           "style": "light"
          },
          "paper_bgcolor": "white",
          "plot_bgcolor": "#E5ECF6",
          "polar": {
           "angularaxis": {
            "gridcolor": "white",
            "linecolor": "white",
            "ticks": ""
           },
           "bgcolor": "#E5ECF6",
           "radialaxis": {
            "gridcolor": "white",
            "linecolor": "white",
            "ticks": ""
           }
          },
          "scene": {
           "xaxis": {
            "backgroundcolor": "#E5ECF6",
            "gridcolor": "white",
            "gridwidth": 2,
            "linecolor": "white",
            "showbackground": true,
            "ticks": "",
            "zerolinecolor": "white"
           },
           "yaxis": {
            "backgroundcolor": "#E5ECF6",
            "gridcolor": "white",
            "gridwidth": 2,
            "linecolor": "white",
            "showbackground": true,
            "ticks": "",
            "zerolinecolor": "white"
           },
           "zaxis": {
            "backgroundcolor": "#E5ECF6",
            "gridcolor": "white",
            "gridwidth": 2,
            "linecolor": "white",
            "showbackground": true,
            "ticks": "",
            "zerolinecolor": "white"
           }
          },
          "shapedefaults": {
           "line": {
            "color": "#2a3f5f"
           }
          },
          "ternary": {
           "aaxis": {
            "gridcolor": "white",
            "linecolor": "white",
            "ticks": ""
           },
           "baxis": {
            "gridcolor": "white",
            "linecolor": "white",
            "ticks": ""
           },
           "bgcolor": "#E5ECF6",
           "caxis": {
            "gridcolor": "white",
            "linecolor": "white",
            "ticks": ""
           }
          },
          "title": {
           "x": 0.05
          },
          "xaxis": {
           "automargin": true,
           "gridcolor": "white",
           "linecolor": "white",
           "ticks": "",
           "title": {
            "standoff": 15
           },
           "zerolinecolor": "white",
           "zerolinewidth": 2
          },
          "yaxis": {
           "automargin": true,
           "gridcolor": "white",
           "linecolor": "white",
           "ticks": "",
           "title": {
            "standoff": 15
           },
           "zerolinecolor": "white",
           "zerolinewidth": 2
          }
         }
        },
        "title": {
         "text": "Fed Rate Overtime"
        },
        "xaxis": {
         "anchor": "y",
         "autorange": true,
         "domain": [
          0,
          1
         ],
         "range": [
          "1985-04-08 10:32:46.0036",
          "2024-04-24 13:27:13.9964"
         ],
         "title": {
          "text": "event_date"
         },
         "type": "date"
        },
        "yaxis": {
         "anchor": "x",
         "autorange": true,
         "domain": [
          0,
          1
         ],
         "range": [
          -0.003846153846153846,
          0.09134615384615385
         ],
         "title": {
          "text": "fed_rate"
         },
         "type": "linear"
        }
       }
      },
      "image/png": "[encoded data removed]",
      "text/html": [
       "<div>                            <div id=\"9bf0e420-7e14-4d24-b7bd-a89e994782fa\" class=\"plotly-graph-div\" style=\"height:525px; width:100%;\"></div>            <script type=\"text/javascript\">                require([\"plotly\"], function(Plotly) {                    window.PLOTLYENV=window.PLOTLYENV || {};                                    if (document.getElementById(\"9bf0e420-7e14-4d24-b7bd-a89e994782fa\")) {                    Plotly.newPlot(                        \"9bf0e420-7e14-4d24-b7bd-a89e994782fa\",                        [{\"hovertemplate\":\"fed_chair=Paul Volcker<br>event_date=%{x}<br>fed_rate=%{y}<extra></extra>\",\"legendgroup\":\"Paul Volcker\",\"marker\":{\"color\":\"#636efa\",\"symbol\":\"circle\",\"size\":3},\"mode\":\"markers\",\"name\":\"Paul Volcker\",\"orientation\":\"v\",\"showlegend\":true,\"x\":[\"1987-05-19T00:00:00\"],\"xaxis\":\"x\",\"y\":[0.065],\"yaxis\":\"y\",\"type\":\"scatter\"},{\"hovertemplate\":\"fed_chair=Alan Greenspan<br>event_date=%{x}<br>fed_rate=%{y}<extra></extra>\",\"legendgroup\":\"Alan Greenspan\",\"marker\":{\"color\":\"#EF553B\",\"symbol\":\"circle\",\"size\":3},\"mode\":\"markers\",\"name\":\"Alan Greenspan\",\"orientation\":\"v\",\"showlegend\":true,\"x\":[\"1987-07-07T00:00:00\",\"1987-08-18T00:00:00\",\"1987-09-22T00:00:00\",\"1987-11-04T00:00:00\",\"1987-12-15T00:00:00\",\"1988-02-10T00:00:00\",\"1988-03-29T00:00:00\",\"1988-05-17T00:00:00\",\"1988-06-30T00:00:00\",\"1988-08-16T00:00:00\",\"1988-09-20T00:00:00\",\"1988-11-01T00:00:00\",\"1988-12-14T00:00:00\",\"1989-02-08T00:00:00\",\"1989-03-28T00:00:00\",\"1989-05-16T00:00:00\",\"1989-07-06T00:00:00\",\"1989-08-22T00:00:00\",\"1989-10-03T00:00:00\",\"1989-11-14T00:00:00\",\"1989-12-19T00:00:00\",\"1990-02-07T00:00:00\",\"1990-03-27T00:00:00\",\"1990-05-15T00:00:00\",\"1990-07-03T00:00:00\",\"1990-08-21T00:00:00\",\"1990-10-02T00:00:00\",\"1990-11-13T00:00:00\",\"1990-12-18T00:00:00\",\"1991-01-09T00:00:00\",\"1991-02-01T00:00:00\",\"1991-02-06T00:00:00\",\"1991-03-08T00:00:00\",\"1991-04-30T00:00:00\",\"1991-05-14T00:00:00\",\"1991-07-03T00:00:00\",\"1991-08-06T00:00:00\",\"1991-08-20T00:00:00\",\"1991-09-13T00:00:00\",\"1991-10-01T00:00:00\",\"1991-10-31T00:00:00\",\"1991-11-06T00:00:00\",\"1991-12-02T00:00:00\",\"1991-12-17T00:00:00\",\"1992-02-05T00:00:00\",\"1992-03-31T00:00:00\",\"1992-04-09T00:00:00\",\"1992-05-19T00:00:00\",\"1992-07-02T00:00:00\",\"1992-08-18T00:00:00\",\"1992-09-04T00:00:00\",\"1992-10-06T00:00:00\",\"1992-11-17T00:00:00\",\"1992-12-22T00:00:00\",\"1993-02-03T00:00:00\",\"1993-03-23T00:00:00\",\"1993-05-18T00:00:00\",\"1993-07-07T00:00:00\",\"1993-08-17T00:00:00\",\"1993-09-21T00:00:00\",\"1993-11-01T00:00:00\",\"1993-12-21T00:00:00\",\"1994-02-04T00:00:00\",\"1994-03-22T00:00:00\",\"1994-04-18T00:00:00\",\"1994-05-17T00:00:00\",\"1994-07-06T00:00:00\",\"1994-08-16T00:00:00\",\"1994-09-27T00:00:00\",\"1994-11-15T00:00:00\",\"1994-12-20T00:00:00\",\"1995-01-31T00:00:00\",\"1995-02-01T00:00:00\",\"1995-03-28T00:00:00\",\"1995-05-23T00:00:00\",\"1995-07-06T00:00:00\",\"1995-08-22T00:00:00\",\"1995-09-26T00:00:00\",\"1995-11-15T00:00:00\",\"1995-12-19T00:00:00\",\"1996-01-31T00:00:00\",\"1996-03-26T00:00:00\",\"1996-05-21T00:00:00\",\"1996-07-03T00:00:00\",\"1996-08-20T00:00:00\",\"1996-09-24T00:00:00\",\"1996-11-13T00:00:00\",\"1996-12-17T00:00:00\",\"1997-02-05T00:00:00\",\"1997-03-25T00:00:00\",\"1997-05-20T00:00:00\",\"1997-07-02T00:00:00\",\"1997-08-19T00:00:00\",\"1997-09-30T00:00:00\",\"1997-11-12T00:00:00\",\"1997-12-16T00:00:00\",\"1998-02-04T00:00:00\",\"1998-03-31T00:00:00\",\"1998-05-19T00:00:00\",\"1998-07-01T00:00:00\",\"1998-08-18T00:00:00\",\"1998-09-29T00:00:00\",\"1998-10-15T00:00:00\",\"1998-11-17T00:00:00\",\"1998-12-22T00:00:00\",\"1999-02-03T00:00:00\",\"1999-03-30T00:00:00\",\"1999-05-18T00:00:00\",\"1999-06-30T00:00:00\",\"1999-08-24T00:00:00\",\"1999-10-05T00:00:00\",\"1999-11-16T00:00:00\",\"1999-12-21T00:00:00\",\"2000-02-02T00:00:00\",\"2000-03-21T00:00:00\",\"2000-05-16T00:00:00\",\"2000-06-28T00:00:00\",\"2000-08-22T00:00:00\",\"2000-10-03T00:00:00\",\"2000-11-15T00:00:00\",\"2000-12-19T00:00:00\",\"2001-01-03T00:00:00\",\"2001-01-31T00:00:00\",\"2001-03-20T00:00:00\",\"2001-04-18T00:00:00\",\"2001-05-15T00:00:00\",\"2001-06-27T00:00:00\",\"2001-08-21T00:00:00\",\"2001-09-17T00:00:00\",\"2001-10-02T00:00:00\",\"2001-11-06T00:00:00\",\"2001-12-11T00:00:00\",\"2002-01-30T00:00:00\",\"2002-03-19T00:00:00\",\"2002-05-07T00:00:00\",\"2002-06-26T00:00:00\",\"2002-08-13T00:00:00\",\"2002-09-24T00:00:00\",\"2002-11-06T00:00:00\",\"2002-12-10T00:00:00\",\"2003-03-18T00:00:00\",\"2003-03-25T00:00:00\",\"2003-05-06T00:00:00\",\"2003-06-25T00:00:00\",\"2003-06-29T00:00:00\",\"2003-08-12T00:00:00\",\"2003-09-16T00:00:00\",\"2003-10-28T00:00:00\",\"2003-12-09T00:00:00\",\"2004-01-28T00:00:00\",\"2004-03-16T00:00:00\",\"2004-05-04T00:00:00\",\"2004-06-30T00:00:00\",\"2004-08-10T00:00:00\",\"2004-09-21T00:00:00\",\"2004-11-10T00:00:00\",\"2004-12-14T00:00:00\",\"2005-02-02T00:00:00\",\"2005-03-22T00:00:00\",\"2005-05-03T00:00:00\",\"2005-06-30T00:00:00\",\"2005-08-09T00:00:00\",\"2005-09-20T00:00:00\",\"2005-11-01T00:00:00\",\"2005-12-13T00:00:00\",\"2006-01-31T00:00:00\"],\"xaxis\":\"x\",\"y\":[0.065,0.065,0.0725,0.0681,0.0681,0.0625,0.065,0.065,0.065,0.0813,0.0813,0.0813,0.0838,0.0838,0.0838,0.0838,0.0838,0.0838,0.0838,0.0838,0.085,0.085,0.085,0.085,0.0825,0.0825,0.0775,0.075,0.0725,0.0675,0.0625,0.0625,0.06,0.0575,0.0575,0.0575,0.055,0.055,0.0525,0.0525,0.05,0.0475,0.045,0.04,0.04,0.04,0.0375,0.0375,0.0325,0.0375,0.03,0.03,0.03,0.03,0.03,0.03,0.03,0.03,0.03,0.03,0.03,0.03,0.0325,0.035,0.0375,0.0425,0.0425,0.0475,0.0475,0.055,0.055,0.055,0.06,0.06,0.06,0.0575,0.0575,0.0575,0.0575,0.055,0.0525,0.0525,0.0525,0.0525,0.0525,0.0525,0.0525,0.0525,0.0525,0.055,0.055,0.055,0.055,0.055,0.055,0.055,0.055,0.055,0.055,0.055,0.055,0.0525,0.05,0.0475,0.0475,0.0475,0.0475,0.0475,0.05,0.0525,0.0525,0.055,0.055,0.0575,0.06,0.065,0.065,0.065,0.065,0.065,0.065,0.06,0.055,0.05,0.045,0.04,0.0375,0.035,0.03,0.025,0.02,0.0175,0.0175,0.0175,0.0175,0.0175,0.0175,0.0175,0.0125,0.0125,0.0125,0.0125,0.0125,0.01,0.01,0.01,0.01,0.01,0.01,0.01,0.01,0.01,0.0103,0.015,0.0175,0.02,0.0225,0.025,0.0275,0.03,0.0325,0.035,0.0375,0.04,0.0425,0.045],\"yaxis\":\"y\",\"type\":\"scatter\"},{\"hovertemplate\":\"fed_chair=Ben Bernanke<br>event_date=%{x}<br>fed_rate=%{y}<extra></extra>\",\"legendgroup\":\"Ben Bernanke\",\"marker\":{\"color\":\"#00cc96\",\"symbol\":\"circle\",\"size\":3},\"mode\":\"markers\",\"name\":\"Ben Bernanke\",\"orientation\":\"v\",\"showlegend\":true,\"x\":[\"2006-03-28T00:00:00\",\"2006-05-10T00:00:00\",\"2006-06-29T00:00:00\",\"2006-08-08T00:00:00\",\"2006-09-20T00:00:00\",\"2006-10-25T00:00:00\",\"2006-12-12T00:00:00\",\"2007-01-31T00:00:00\",\"2007-03-21T00:00:00\",\"2007-05-09T00:00:00\",\"2007-06-28T00:00:00\",\"2007-08-07T00:00:00\",\"2007-09-18T00:00:00\",\"2007-10-31T00:00:00\",\"2007-12-11T00:00:00\",\"2008-01-22T00:00:00\",\"2008-01-30T00:00:00\",\"2008-03-18T00:00:00\",\"2008-04-30T00:00:00\",\"2008-06-25T00:00:00\",\"2008-08-05T00:00:00\",\"2008-09-16T00:00:00\",\"2008-10-08T00:00:00\",\"2008-11-29T00:00:00\",\"2008-12-16T00:00:00\",\"2009-01-28T00:00:00\",\"2009-03-18T00:00:00\",\"2009-04-29T00:00:00\",\"2009-06-24T00:00:00\",\"2009-08-12T00:00:00\",\"2009-09-23T00:00:00\",\"2009-11-04T00:00:00\",\"2009-12-16T00:00:00\",\"2010-01-27T00:00:00\",\"2010-03-16T00:00:00\",\"2010-04-28T00:00:00\",\"2010-06-23T00:00:00\",\"2010-08-10T00:00:00\",\"2010-09-21T00:00:00\",\"2010-11-03T00:00:00\",\"2010-12-14T00:00:00\",\"2011-01-26T00:00:00\",\"2011-03-15T00:00:00\",\"2011-04-27T00:00:00\",\"2011-06-22T00:00:00\",\"2011-08-09T00:00:00\",\"2011-09-21T00:00:00\",\"2011-11-02T00:00:00\",\"2011-12-13T00:00:00\",\"2012-01-25T00:00:00\",\"2012-03-13T00:00:00\",\"2012-04-25T00:00:00\",\"2012-06-20T00:00:00\",\"2012-08-01T00:00:00\",\"2012-09-13T00:00:00\",\"2012-10-24T00:00:00\",\"2012-12-12T00:00:00\",\"2013-01-30T00:00:00\",\"2013-03-20T00:00:00\",\"2013-05-01T00:00:00\",\"2013-06-19T00:00:00\",\"2013-07-31T00:00:00\",\"2013-09-18T00:00:00\",\"2013-10-30T00:00:00\",\"2013-12-18T00:00:00\",\"2014-01-29T00:00:00\",\"2014-03-04T00:00:00\",\"2014-03-19T00:00:00\",\"2014-04-30T00:00:00\",\"2014-06-18T00:00:00\",\"2014-07-30T00:00:00\",\"2014-09-17T00:00:00\",\"2014-10-29T00:00:00\",\"2014-12-17T00:00:00\",\"2015-01-28T00:00:00\",\"2015-03-16T00:00:00\",\"2015-03-18T00:00:00\",\"2015-04-29T00:00:00\",\"2015-06-17T00:00:00\",\"2015-07-29T00:00:00\",\"2015-09-17T00:00:00\",\"2015-10-28T00:00:00\"],\"xaxis\":\"x\",\"y\":[0.0475,0.05,0.0525,0.0525,0.0525,0.0525,0.0525,0.0525,0.0525,0.0525,0.0525,0.0525,0.0475,0.045,0.0425,0.035,0.03,0.0225,0.02,0.02,0.02,0.02,0.015,0.01,0.0025,0.0025,0.0025,0.0025,0.0025,0.0025,0.0025,0.0025,0.0025,0.0025,0.0025,0.0025,0.0025,0.0025,0.0025,0.0025,0.0025,0.0025,0.0025,0.0025,0.0025,0.0025,0.0025,0.0025,0.0025,0.0025,0.0025,0.0025,0.0025,0.0025,0.0025,0.0025,0.0025,0.0025,0.0025,0.0025,0.0025,0.0025,0.0025,0.0025,0.0025,0.0025,0.0025,0.0025,0.0025,0.0025,0.0025,0.0025,0.0025,0.0025,0.0025,0.0025,0.0025,0.0025,0.0025,0.0025,0.0025,0.0025],\"yaxis\":\"y\",\"type\":\"scatter\"},{\"hovertemplate\":\"fed_chair=Janet Yellen<br>event_date=%{x}<br>fed_rate=%{y}<extra></extra>\",\"legendgroup\":\"Janet Yellen\",\"marker\":{\"color\":\"#ab63fa\",\"symbol\":\"circle\",\"size\":3},\"mode\":\"markers\",\"name\":\"Janet Yellen\",\"orientation\":\"v\",\"showlegend\":true,\"x\":[\"2015-12-17T00:00:00\",\"2016-01-27T00:00:00\",\"2016-04-16T00:00:00\",\"2016-06-15T00:00:00\",\"2016-07-27T00:00:00\",\"2016-09-21T00:00:00\",\"2016-09-21T00:00:00\",\"2016-11-02T00:00:00\",\"2016-12-15T00:00:00\",\"2017-02-01T00:00:00\",\"2017-03-16T00:00:00\",\"2017-05-03T00:00:00\",\"2017-06-15T00:00:00\",\"2017-07-26T00:00:00\",\"2017-09-20T00:00:00\",\"2017-11-01T00:00:00\",\"2017-12-14T00:00:00\",\"2018-01-31T00:00:00\"],\"xaxis\":\"x\",\"y\":[0.005,0.005,0.005,0.005,0.005,0.005,0.005,0.005,0.0075,0.0075,0.01,0.01,0.0125,0.0125,0.0125,0.0125,0.015,0.015],\"yaxis\":\"y\",\"type\":\"scatter\"},{\"hovertemplate\":\"fed_chair=Jerome Powell<br>event_date=%{x}<br>fed_rate=%{y}<extra></extra>\",\"legendgroup\":\"Jerome Powell\",\"marker\":{\"color\":\"#FFA15A\",\"symbol\":\"circle\",\"size\":3},\"mode\":\"markers\",\"name\":\"Jerome Powell\",\"orientation\":\"v\",\"showlegend\":true,\"x\":[\"2018-03-22T00:00:00\",\"2018-05-02T00:00:00\",\"2018-06-14T00:00:00\",\"2018-08-01T00:00:00\",\"2018-09-27T00:00:00\",\"2018-11-08T00:00:00\",\"2018-12-20T00:00:00\",\"2019-01-30T00:00:00\",\"2019-03-20T00:00:00\",\"2019-05-01T00:00:00\",\"2019-06-19T00:00:00\",\"2019-08-01T00:00:00\",\"2019-09-19T00:00:00\",\"2019-10-04T00:00:00\",\"2019-10-31T00:00:00\",\"2019-12-11T00:00:00\",\"2020-01-29T00:00:00\",\"2020-03-03T00:00:00\",\"2020-04-29T00:00:00\",\"2020-06-10T00:00:00\",\"2020-07-29T00:00:00\",\"2020-08-27T00:00:00\",\"2020-09-16T00:00:00\",\"2020-11-05T00:00:00\",\"2020-12-16T00:00:00\",\"2021-01-27T00:00:00\",\"2021-03-17T00:00:00\",\"2021-04-28T00:00:00\",\"2021-06-16T00:00:00\",\"2021-07-28T00:00:00\",\"2021-09-22T00:00:00\",\"2021-11-04T00:00:00\",\"2021-12-15T00:00:00\",\"2022-01-26T00:00:00\",\"2022-03-16T00:00:00\"],\"xaxis\":\"x\",\"y\":[0.0175,0.0175,0.02,0.02,0.0225,0.0225,0.025,0.025,0.025,0.025,0.025,0.0225,0.02,0.02,0.0175,0.0175,0.0175,0.0125,0.0025,0.0025,0.0025,0.0025,0.0025,0.0025,0.0025,0.0025,0.0025,0.0025,0.0025,0.0025,0.0025,0.0025,0.0025,0.0025,0.005],\"yaxis\":\"y\",\"type\":\"scatter\"}],                        {\"template\":{\"data\":{\"bar\":[{\"error_x\":{\"color\":\"#2a3f5f\"},\"error_y\":{\"color\":\"#2a3f5f\"},\"marker\":{\"line\":{\"color\":\"#E5ECF6\",\"width\":0.5},\"pattern\":{\"fillmode\":\"overlay\",\"size\":10,\"solidity\":0.2}},\"type\":\"bar\"}],\"barpolar\":[{\"marker\":{\"line\":{\"color\":\"#E5ECF6\",\"width\":0.5},\"pattern\":{\"fillmode\":\"overlay\",\"size\":10,\"solidity\":0.2}},\"type\":\"barpolar\"}],\"carpet\":[{\"aaxis\":{\"endlinecolor\":\"#2a3f5f\",\"gridcolor\":\"white\",\"linecolor\":\"white\",\"minorgridcolor\":\"white\",\"startlinecolor\":\"#2a3f5f\"},\"baxis\":{\"endlinecolor\":\"#2a3f5f\",\"gridcolor\":\"white\",\"linecolor\":\"white\",\"minorgridcolor\":\"white\",\"startlinecolor\":\"#2a3f5f\"},\"type\":\"carpet\"}],\"choropleth\":[{\"colorbar\":{\"outlinewidth\":0,\"ticks\":\"\"},\"type\":\"choropleth\"}],\"contour\":[{\"colorbar\":{\"outlinewidth\":0,\"ticks\":\"\"},\"colorscale\":[[0.0,\"#0d0887\"],[0.1111111111111111,\"#46039f\"],[0.2222222222222222,\"#7201a8\"],[0.3333333333333333,\"#9c179e\"],[0.4444444444444444,\"#bd3786\"],[0.5555555555555556,\"#d8576b\"],[0.6666666666666666,\"#ed7953\"],[0.7777777777777778,\"#fb9f3a\"],[0.8888888888888888,\"#fdca26\"],[1.0,\"#f0f921\"]],\"type\":\"contour\"}],\"contourcarpet\":[{\"colorbar\":{\"outlinewidth\":0,\"ticks\":\"\"},\"type\":\"contourcarpet\"}],\"heatmap\":[{\"colorbar\":{\"outlinewidth\":0,\"ticks\":\"\"},\"colorscale\":[[0.0,\"#0d0887\"],[0.1111111111111111,\"#46039f\"],[0.2222222222222222,\"#7201a8\"],[0.3333333333333333,\"#9c179e\"],[0.4444444444444444,\"#bd3786\"],[0.5555555555555556,\"#d8576b\"],[0.6666666666666666,\"#ed7953\"],[0.7777777777777778,\"#fb9f3a\"],[0.8888888888888888,\"#fdca26\"],[1.0,\"#f0f921\"]],\"type\":\"heatmap\"}],\"heatmapgl\":[{\"colorbar\":{\"outlinewidth\":0,\"ticks\":\"\"},\"colorscale\":[[0.0,\"#0d0887\"],[0.1111111111111111,\"#46039f\"],[0.2222222222222222,\"#7201a8\"],[0.3333333333333333,\"#9c179e\"],[0.4444444444444444,\"#bd3786\"],[0.5555555555555556,\"#d8576b\"],[0.6666666666666666,\"#ed7953\"],[0.7777777777777778,\"#fb9f3a\"],[0.8888888888888888,\"#fdca26\"],[1.0,\"#f0f921\"]],\"type\":\"heatmapgl\"}],\"histogram\":[{\"marker\":{\"pattern\":{\"fillmode\":\"overlay\",\"size\":10,\"solidity\":0.2}},\"type\":\"histogram\"}],\"histogram2d\":[{\"colorbar\":{\"outlinewidth\":0,\"ticks\":\"\"},\"colorscale\":[[0.0,\"#0d0887\"],[0.1111111111111111,\"#46039f\"],[0.2222222222222222,\"#7201a8\"],[0.3333333333333333,\"#9c179e\"],[0.4444444444444444,\"#bd3786\"],[0.5555555555555556,\"#d8576b\"],[0.6666666666666666,\"#ed7953\"],[0.7777777777777778,\"#fb9f3a\"],[0.8888888888888888,\"#fdca26\"],[1.0,\"#f0f921\"]],\"type\":\"histogram2d\"}],\"histogram2dcontour\":[{\"colorbar\":{\"outlinewidth\":0,\"ticks\":\"\"},\"colorscale\":[[0.0,\"#0d0887\"],[0.1111111111111111,\"#46039f\"],[0.2222222222222222,\"#7201a8\"],[0.3333333333333333,\"#9c179e\"],[0.4444444444444444,\"#bd3786\"],[0.5555555555555556,\"#d8576b\"],[0.6666666666666666,\"#ed7953\"],[0.7777777777777778,\"#fb9f3a\"],[0.8888888888888888,\"#fdca26\"],[1.0,\"#f0f921\"]],\"type\":\"histogram2dcontour\"}],\"mesh3d\":[{\"colorbar\":{\"outlinewidth\":0,\"ticks\":\"\"},\"type\":\"mesh3d\"}],\"parcoords\":[{\"line\":{\"colorbar\":{\"outlinewidth\":0,\"ticks\":\"\"}},\"type\":\"parcoords\"}],\"pie\":[{\"automargin\":true,\"type\":\"pie\"}],\"scatter\":[{\"marker\":{\"colorbar\":{\"outlinewidth\":0,\"ticks\":\"\"}},\"type\":\"scatter\"}],\"scatter3d\":[{\"line\":{\"colorbar\":{\"outlinewidth\":0,\"ticks\":\"\"}},\"marker\":{\"colorbar\":{\"outlinewidth\":0,\"ticks\":\"\"}},\"type\":\"scatter3d\"}],\"scattercarpet\":[{\"marker\":{\"colorbar\":{\"outlinewidth\":0,\"ticks\":\"\"}},\"type\":\"scattercarpet\"}],\"scattergeo\":[{\"marker\":{\"colorbar\":{\"outlinewidth\":0,\"ticks\":\"\"}},\"type\":\"scattergeo\"}],\"scattergl\":[{\"marker\":{\"colorbar\":{\"outlinewidth\":0,\"ticks\":\"\"}},\"type\":\"scattergl\"}],\"scattermapbox\":[{\"marker\":{\"colorbar\":{\"outlinewidth\":0,\"ticks\":\"\"}},\"type\":\"scattermapbox\"}],\"scatterpolar\":[{\"marker\":{\"colorbar\":{\"outlinewidth\":0,\"ticks\":\"\"}},\"type\":\"scatterpolar\"}],\"scatterpolargl\":[{\"marker\":{\"colorbar\":{\"outlinewidth\":0,\"ticks\":\"\"}},\"type\":\"scatterpolargl\"}],\"scatterternary\":[{\"marker\":{\"colorbar\":{\"outlinewidth\":0,\"ticks\":\"\"}},\"type\":\"scatterternary\"}],\"surface\":[{\"colorbar\":{\"outlinewidth\":0,\"ticks\":\"\"},\"colorscale\":[[0.0,\"#0d0887\"],[0.1111111111111111,\"#46039f\"],[0.2222222222222222,\"#7201a8\"],[0.3333333333333333,\"#9c179e\"],[0.4444444444444444,\"#bd3786\"],[0.5555555555555556,\"#d8576b\"],[0.6666666666666666,\"#ed7953\"],[0.7777777777777778,\"#fb9f3a\"],[0.8888888888888888,\"#fdca26\"],[1.0,\"#f0f921\"]],\"type\":\"surface\"}],\"table\":[{\"cells\":{\"fill\":{\"color\":\"#EBF0F8\"},\"line\":{\"color\":\"white\"}},\"header\":{\"fill\":{\"color\":\"#C8D4E3\"},\"line\":{\"color\":\"white\"}},\"type\":\"table\"}]},\"layout\":{\"annotationdefaults\":{\"arrowcolor\":\"#2a3f5f\",\"arrowhead\":0,\"arrowwidth\":1},\"autotypenumbers\":\"strict\",\"coloraxis\":{\"colorbar\":{\"outlinewidth\":0,\"ticks\":\"\"}},\"colorscale\":{\"diverging\":[[0,\"#8e0152\"],[0.1,\"#c51b7d\"],[0.2,\"#de77ae\"],[0.3,\"#f1b6da\"],[0.4,\"#fde0ef\"],[0.5,\"#f7f7f7\"],[0.6,\"#e6f5d0\"],[0.7,\"#b8e186\"],[0.8,\"#7fbc41\"],[0.9,\"#4d9221\"],[1,\"#276419\"]],\"sequential\":[[0.0,\"#0d0887\"],[0.1111111111111111,\"#46039f\"],[0.2222222222222222,\"#7201a8\"],[0.3333333333333333,\"#9c179e\"],[0.4444444444444444,\"#bd3786\"],[0.5555555555555556,\"#d8576b\"],[0.6666666666666666,\"#ed7953\"],[0.7777777777777778,\"#fb9f3a\"],[0.8888888888888888,\"#fdca26\"],[1.0,\"#f0f921\"]],\"sequentialminus\":[[0.0,\"#0d0887\"],[0.1111111111111111,\"#46039f\"],[0.2222222222222222,\"#7201a8\"],[0.3333333333333333,\"#9c179e\"],[0.4444444444444444,\"#bd3786\"],[0.5555555555555556,\"#d8576b\"],[0.6666666666666666,\"#ed7953\"],[0.7777777777777778,\"#fb9f3a\"],[0.8888888888888888,\"#fdca26\"],[1.0,\"#f0f921\"]]},\"colorway\":[\"#636efa\",\"#EF553B\",\"#00cc96\",\"#ab63fa\",\"#FFA15A\",\"#19d3f3\",\"#FF6692\",\"#B6E880\",\"#FF97FF\",\"#FECB52\"],\"font\":{\"color\":\"#2a3f5f\"},\"geo\":{\"bgcolor\":\"white\",\"lakecolor\":\"white\",\"landcolor\":\"#E5ECF6\",\"showlakes\":true,\"showland\":true,\"subunitcolor\":\"white\"},\"hoverlabel\":{\"align\":\"left\"},\"hovermode\":\"closest\",\"mapbox\":{\"style\":\"light\"},\"paper_bgcolor\":\"white\",\"plot_bgcolor\":\"#E5ECF6\",\"polar\":{\"angularaxis\":{\"gridcolor\":\"white\",\"linecolor\":\"white\",\"ticks\":\"\"},\"bgcolor\":\"#E5ECF6\",\"radialaxis\":{\"gridcolor\":\"white\",\"linecolor\":\"white\",\"ticks\":\"\"}},\"scene\":{\"xaxis\":{\"backgroundcolor\":\"#E5ECF6\",\"gridcolor\":\"white\",\"gridwidth\":2,\"linecolor\":\"white\",\"showbackground\":true,\"ticks\":\"\",\"zerolinecolor\":\"white\"},\"yaxis\":{\"backgroundcolor\":\"#E5ECF6\",\"gridcolor\":\"white\",\"gridwidth\":2,\"linecolor\":\"white\",\"showbackground\":true,\"ticks\":\"\",\"zerolinecolor\":\"white\"},\"zaxis\":{\"backgroundcolor\":\"#E5ECF6\",\"gridcolor\":\"white\",\"gridwidth\":2,\"linecolor\":\"white\",\"showbackground\":true,\"ticks\":\"\",\"zerolinecolor\":\"white\"}},\"shapedefaults\":{\"line\":{\"color\":\"#2a3f5f\"}},\"ternary\":{\"aaxis\":{\"gridcolor\":\"white\",\"linecolor\":\"white\",\"ticks\":\"\"},\"baxis\":{\"gridcolor\":\"white\",\"linecolor\":\"white\",\"ticks\":\"\"},\"bgcolor\":\"#E5ECF6\",\"caxis\":{\"gridcolor\":\"white\",\"linecolor\":\"white\",\"ticks\":\"\"}},\"title\":{\"x\":0.05},\"xaxis\":{\"automargin\":true,\"gridcolor\":\"white\",\"linecolor\":\"white\",\"ticks\":\"\",\"title\":{\"standoff\":15},\"zerolinecolor\":\"white\",\"zerolinewidth\":2},\"yaxis\":{\"automargin\":true,\"gridcolor\":\"white\",\"linecolor\":\"white\",\"ticks\":\"\",\"title\":{\"standoff\":15},\"zerolinecolor\":\"white\",\"zerolinewidth\":2}}},\"xaxis\":{\"anchor\":\"y\",\"domain\":[0.0,1.0],\"title\":{\"text\":\"event_date\"}},\"yaxis\":{\"anchor\":\"x\",\"domain\":[0.0,1.0],\"title\":{\"text\":\"fed_rate\"}},\"legend\":{\"title\":{\"text\":\"fed_chair\"},\"tracegroupgap\":0},\"title\":{\"text\":\"Fed Rate Overtime\"}},                        {\"responsive\": true}                    ).then(function(){\n",
       "                            \n",
       "var gd = document.getElementById('9bf0e420-7e14-4d24-b7bd-a89e994782fa');\n",
       "var x = new MutationObserver(function (mutations, observer) {{\n",
       "        var display = window.getComputedStyle(gd).display;\n",
       "        if (!display || display === 'none') {{\n",
       "            console.log([gd, 'removed!']);\n",
       "            Plotly.purge(gd);\n",
       "            observer.disconnect();\n",
       "        }}\n",
       "}});\n",
       "\n",
       "// Listen for the removal of the full notebook cells\n",
       "var notebookContainer = gd.closest('#notebook-container');\n",
       "if (notebookContainer) {{\n",
       "    x.observe(notebookContainer, {childList: true});\n",
       "}}\n",
       "\n",
       "// Listen for the clearing of the current output cell\n",
       "var outputEl = gd.closest('.output');\n",
       "if (outputEl) {{\n",
       "    x.observe(outputEl, {childList: true});\n",
       "}}\n",
       "\n",
       "                        })                };                });            </script>        </div>"
      ]
     },
     "metadata": {},
     "output_type": "display_data"
    }
   ],
   "source": [
    "fig = px.scatter(data_frame=decision_df, \n",
    "                x='event_date', y='fed_rate', \n",
    "                color=\"fed_chair\", \n",
    "                title='Fed Rate Overtime',\n",
    "            )\n",
    "\n",
    "fig.update_traces(marker_size=3)\n",
    "\n",
    "fig.show()"
   ]
  },
  {
   "cell_type": "code",
   "execution_count": 32,
   "id": "ee4fd667-ced3-4baf-aa60-49d7c1c6c341",
   "metadata": {},
   "outputs": [
    {
     "data": {
      "application/vnd.plotly.v1+json": {
       "config": {
        "plotlyServerURL": "https://plotly.com"
       },
       "data": [
        {
         "hovertemplate": "fed_chair=Paul Volcker<br>event_date=%{x}<br>rate_change=%{y}<extra></extra>",
         "legendgroup": "Paul Volcker",
         "marker": {
          "color": "#636efa",
          "size": 3,
          "symbol": "circle"
         },
         "mode": "markers",
         "name": "Paul Volcker",
         "orientation": "v",
         "showlegend": true,
         "type": "scatter",
         "x": [
          "1987-05-19T00:00:00"
         ],
         "xaxis": "x",
         "y": [
          0.0062
         ],
         "yaxis": "y"
        },
        {
         "hovertemplate": "fed_chair=Alan Greenspan<br>event_date=%{x}<br>rate_change=%{y}<extra></extra>",
         "legendgroup": "Alan Greenspan",
         "marker": {
          "color": "#EF553B",
          "size": 3,
          "symbol": "circle"
         },
         "mode": "markers",
         "name": "Alan Greenspan",
         "orientation": "v",
         "showlegend": true,
         "type": "scatter",
         "x": [
          "1987-07-07T00:00:00",
          "1987-08-18T00:00:00",
          "1987-09-22T00:00:00",
          "1987-11-04T00:00:00",
          "1987-12-15T00:00:00",
          "1988-02-10T00:00:00",
          "1988-03-29T00:00:00",
          "1988-05-17T00:00:00",
          "1988-06-30T00:00:00",
          "1988-08-16T00:00:00",
          "1988-09-20T00:00:00",
          "1988-11-01T00:00:00",
          "1988-12-14T00:00:00",
          "1989-02-08T00:00:00",
          "1989-03-28T00:00:00",
          "1989-05-16T00:00:00",
          "1989-07-06T00:00:00",
          "1989-08-22T00:00:00",
          "1989-10-03T00:00:00",
          "1989-11-14T00:00:00",
          "1989-12-19T00:00:00",
          "1990-02-07T00:00:00",
          "1990-03-27T00:00:00",
          "1990-05-15T00:00:00",
          "1990-07-03T00:00:00",
          "1990-08-21T00:00:00",
          "1990-10-02T00:00:00",
          "1990-11-13T00:00:00",
          "1990-12-18T00:00:00",
          "1991-01-09T00:00:00",
          "1991-02-01T00:00:00",
          "1991-02-06T00:00:00",
          "1991-03-08T00:00:00",
          "1991-04-30T00:00:00",
          "1991-05-14T00:00:00",
          "1991-07-03T00:00:00",
          "1991-08-06T00:00:00",
          "1991-08-20T00:00:00",
          "1991-09-13T00:00:00",
          "1991-10-01T00:00:00",
          "1991-10-31T00:00:00",
          "1991-11-06T00:00:00",
          "1991-12-02T00:00:00",
          "1991-12-17T00:00:00",
          "1992-02-05T00:00:00",
          "1992-03-31T00:00:00",
          "1992-04-09T00:00:00",
          "1992-05-19T00:00:00",
          "1992-07-02T00:00:00",
          "1992-08-18T00:00:00",
          "1992-09-04T00:00:00",
          "1992-10-06T00:00:00",
          "1992-11-17T00:00:00",
          "1992-12-22T00:00:00",
          "1993-02-03T00:00:00",
          "1993-03-23T00:00:00",
          "1993-05-18T00:00:00",
          "1993-07-07T00:00:00",
          "1993-08-17T00:00:00",
          "1993-09-21T00:00:00",
          "1993-11-01T00:00:00",
          "1993-12-21T00:00:00",
          "1994-02-04T00:00:00",
          "1994-03-22T00:00:00",
          "1994-04-18T00:00:00",
          "1994-05-17T00:00:00",
          "1994-07-06T00:00:00",
          "1994-08-16T00:00:00",
          "1994-09-27T00:00:00",
          "1994-11-15T00:00:00",
          "1994-12-20T00:00:00",
          "1995-01-31T00:00:00",
          "1995-02-01T00:00:00",
          "1995-03-28T00:00:00",
          "1995-05-23T00:00:00",
          "1995-07-06T00:00:00",
          "1995-08-22T00:00:00",
          "1995-09-26T00:00:00",
          "1995-11-15T00:00:00",
          "1995-12-19T00:00:00",
          "1996-01-31T00:00:00",
          "1996-03-26T00:00:00",
          "1996-05-21T00:00:00",
          "1996-07-03T00:00:00",
          "1996-08-20T00:00:00",
          "1996-09-24T00:00:00",
          "1996-11-13T00:00:00",
          "1996-12-17T00:00:00",
          "1997-02-05T00:00:00",
          "1997-03-25T00:00:00",
          "1997-05-20T00:00:00",
          "1997-07-02T00:00:00",
          "1997-08-19T00:00:00",
          "1997-09-30T00:00:00",
          "1997-11-12T00:00:00",
          "1997-12-16T00:00:00",
          "1998-02-04T00:00:00",
          "1998-03-31T00:00:00",
          "1998-05-19T00:00:00",
          "1998-07-01T00:00:00",
          "1998-08-18T00:00:00",
          "1998-09-29T00:00:00",
          "1998-10-15T00:00:00",
          "1998-11-17T00:00:00",
          "1998-12-22T00:00:00",
          "1999-02-03T00:00:00",
          "1999-03-30T00:00:00",
          "1999-05-18T00:00:00",
          "1999-06-30T00:00:00",
          "1999-08-24T00:00:00",
          "1999-10-05T00:00:00",
          "1999-11-16T00:00:00",
          "1999-12-21T00:00:00",
          "2000-02-02T00:00:00",
          "2000-03-21T00:00:00",
          "2000-05-16T00:00:00",
          "2000-06-28T00:00:00",
          "2000-08-22T00:00:00",
          "2000-10-03T00:00:00",
          "2000-11-15T00:00:00",
          "2000-12-19T00:00:00",
          "2001-01-03T00:00:00",
          "2001-01-31T00:00:00",
          "2001-03-20T00:00:00",
          "2001-04-18T00:00:00",
          "2001-05-15T00:00:00",
          "2001-06-27T00:00:00",
          "2001-08-21T00:00:00",
          "2001-09-17T00:00:00",
          "2001-10-02T00:00:00",
          "2001-11-06T00:00:00",
          "2001-12-11T00:00:00",
          "2002-01-30T00:00:00",
          "2002-03-19T00:00:00",
          "2002-05-07T00:00:00",
          "2002-06-26T00:00:00",
          "2002-08-13T00:00:00",
          "2002-09-24T00:00:00",
          "2002-11-06T00:00:00",
          "2002-12-10T00:00:00",
          "2003-03-18T00:00:00",
          "2003-03-25T00:00:00",
          "2003-05-06T00:00:00",
          "2003-06-25T00:00:00",
          "2003-06-29T00:00:00",
          "2003-08-12T00:00:00",
          "2003-09-16T00:00:00",
          "2003-10-28T00:00:00",
          "2003-12-09T00:00:00",
          "2004-01-28T00:00:00",
          "2004-03-16T00:00:00",
          "2004-05-04T00:00:00",
          "2004-06-30T00:00:00",
          "2004-08-10T00:00:00",
          "2004-09-21T00:00:00",
          "2004-11-10T00:00:00",
          "2004-12-14T00:00:00",
          "2005-02-02T00:00:00",
          "2005-03-22T00:00:00",
          "2005-05-03T00:00:00",
          "2005-06-30T00:00:00",
          "2005-08-09T00:00:00",
          "2005-09-20T00:00:00",
          "2005-11-01T00:00:00",
          "2005-12-13T00:00:00",
          "2006-01-31T00:00:00"
         ],
         "xaxis": "x",
         "y": [
          0,
          0,
          0.0075,
          -0.0044,
          0,
          -0.0056,
          0.0025,
          0,
          0,
          0.0163,
          0,
          0,
          0.0025,
          0,
          0,
          0,
          0,
          0,
          0,
          0,
          0.0012,
          0,
          0,
          0,
          -0.0025,
          0,
          -0.005,
          -0.0025,
          -0.0025,
          -0.005,
          -0.005,
          0,
          -0.0025,
          -0.0025,
          0,
          0,
          -0.0025,
          0,
          -0.0025,
          0,
          -0.0025,
          -0.0025,
          -0.0025,
          -0.005,
          0,
          0,
          -0.0025,
          0,
          -0.005,
          0.005,
          -0.0075,
          0,
          0,
          0,
          0,
          0,
          0,
          0,
          0,
          0,
          0,
          0,
          0.0025,
          0.0025,
          0.0025,
          0.005,
          0,
          0.005,
          0,
          0.0075,
          0,
          0,
          0.005,
          0,
          0,
          -0.0025,
          0,
          0,
          0,
          -0.0025,
          -0.0025,
          0,
          0,
          0,
          0,
          0,
          0,
          0,
          0,
          0.0025,
          0,
          0,
          0,
          0,
          0,
          0,
          0,
          0,
          0,
          0,
          0,
          -0.0025,
          -0.0025,
          -0.0025,
          0,
          0,
          0,
          0,
          0.0025,
          0.0025,
          0,
          0.0025,
          0,
          0.0025,
          0.0025,
          0.005,
          0,
          0,
          0,
          0,
          0,
          -0.005,
          -0.005,
          -0.005,
          -0.005,
          -0.005,
          -0.0025,
          -0.0025,
          -0.005,
          -0.005,
          -0.005,
          -0.0025,
          0,
          0,
          0,
          0,
          0,
          0,
          -0.005,
          0,
          0,
          0,
          0,
          -0.0025,
          0,
          0,
          0,
          0,
          0,
          0,
          0,
          0,
          0.0003,
          0.0047,
          0.0025,
          0.0025,
          0.0025,
          0.0025,
          0.0025,
          0.0025,
          0.0025,
          0.0025,
          0.0025,
          0.0025,
          0.0025,
          0.0025
         ],
         "yaxis": "y"
        },
        {
         "hovertemplate": "fed_chair=Ben Bernanke<br>event_date=%{x}<br>rate_change=%{y}<extra></extra>",
         "legendgroup": "Ben Bernanke",
         "marker": {
          "color": "#00cc96",
          "size": 3,
          "symbol": "circle"
         },
         "mode": "markers",
         "name": "Ben Bernanke",
         "orientation": "v",
         "showlegend": true,
         "type": "scatter",
         "x": [
          "2006-03-28T00:00:00",
          "2006-05-10T00:00:00",
          "2006-06-29T00:00:00",
          "2006-08-08T00:00:00",
          "2006-09-20T00:00:00",
          "2006-10-25T00:00:00",
          "2006-12-12T00:00:00",
          "2007-01-31T00:00:00",
          "2007-03-21T00:00:00",
          "2007-05-09T00:00:00",
          "2007-06-28T00:00:00",
          "2007-08-07T00:00:00",
          "2007-09-18T00:00:00",
          "2007-10-31T00:00:00",
          "2007-12-11T00:00:00",
          "2008-01-22T00:00:00",
          "2008-01-30T00:00:00",
          "2008-03-18T00:00:00",
          "2008-04-30T00:00:00",
          "2008-06-25T00:00:00",
          "2008-08-05T00:00:00",
          "2008-09-16T00:00:00",
          "2008-10-08T00:00:00",
          "2008-11-29T00:00:00",
          "2008-12-16T00:00:00",
          "2009-01-28T00:00:00",
          "2009-03-18T00:00:00",
          "2009-04-29T00:00:00",
          "2009-06-24T00:00:00",
          "2009-08-12T00:00:00",
          "2009-09-23T00:00:00",
          "2009-11-04T00:00:00",
          "2009-12-16T00:00:00",
          "2010-01-27T00:00:00",
          "2010-03-16T00:00:00",
          "2010-04-28T00:00:00",
          "2010-06-23T00:00:00",
          "2010-08-10T00:00:00",
          "2010-09-21T00:00:00",
          "2010-11-03T00:00:00",
          "2010-12-14T00:00:00",
          "2011-01-26T00:00:00",
          "2011-03-15T00:00:00",
          "2011-04-27T00:00:00",
          "2011-06-22T00:00:00",
          "2011-08-09T00:00:00",
          "2011-09-21T00:00:00",
          "2011-11-02T00:00:00",
          "2011-12-13T00:00:00",
          "2012-01-25T00:00:00",
          "2012-03-13T00:00:00",
          "2012-04-25T00:00:00",
          "2012-06-20T00:00:00",
          "2012-08-01T00:00:00",
          "2012-09-13T00:00:00",
          "2012-10-24T00:00:00",
          "2012-12-12T00:00:00",
          "2013-01-30T00:00:00",
          "2013-03-20T00:00:00",
          "2013-05-01T00:00:00",
          "2013-06-19T00:00:00",
          "2013-07-31T00:00:00",
          "2013-09-18T00:00:00",
          "2013-10-30T00:00:00",
          "2013-12-18T00:00:00",
          "2014-01-29T00:00:00",
          "2014-03-04T00:00:00",
          "2014-03-19T00:00:00",
          "2014-04-30T00:00:00",
          "2014-06-18T00:00:00",
          "2014-07-30T00:00:00",
          "2014-09-17T00:00:00",
          "2014-10-29T00:00:00",
          "2014-12-17T00:00:00",
          "2015-01-28T00:00:00",
          "2015-03-16T00:00:00",
          "2015-03-18T00:00:00",
          "2015-04-29T00:00:00",
          "2015-06-17T00:00:00",
          "2015-07-29T00:00:00",
          "2015-09-17T00:00:00",
          "2015-10-28T00:00:00"
         ],
         "xaxis": "x",
         "y": [
          0.0025,
          0.0025,
          0.0025,
          0,
          0,
          0,
          0,
          0,
          0,
          0,
          0,
          0,
          -0.005,
          -0.0025,
          -0.0025,
          -0.0075,
          -0.005,
          -0.0075,
          -0.0025,
          0,
          0,
          0,
          -0.005,
          -0.005,
          -0.0075,
          0,
          0,
          0,
          0,
          0,
          0,
          0,
          0,
          0,
          0,
          0,
          0,
          0,
          0,
          0,
          0,
          0,
          0,
          0,
          0,
          0,
          0,
          0,
          0,
          0,
          0,
          0,
          0,
          0,
          0,
          0,
          0,
          0,
          0,
          0,
          0,
          0,
          0,
          0,
          0,
          0,
          0,
          0,
          0,
          0,
          0,
          0,
          0,
          0,
          0,
          0,
          0,
          0,
          0,
          0,
          0,
          0
         ],
         "yaxis": "y"
        },
        {
         "hovertemplate": "fed_chair=Janet Yellen<br>event_date=%{x}<br>rate_change=%{y}<extra></extra>",
         "legendgroup": "Janet Yellen",
         "marker": {
          "color": "#ab63fa",
          "size": 3,
          "symbol": "circle"
         },
         "mode": "markers",
         "name": "Janet Yellen",
         "orientation": "v",
         "showlegend": true,
         "type": "scatter",
         "x": [
          "2015-12-17T00:00:00",
          "2016-01-27T00:00:00",
          "2016-04-16T00:00:00",
          "2016-06-15T00:00:00",
          "2016-07-27T00:00:00",
          "2016-09-21T00:00:00",
          "2016-09-21T00:00:00",
          "2016-11-02T00:00:00",
          "2016-12-15T00:00:00",
          "2017-02-01T00:00:00",
          "2017-03-16T00:00:00",
          "2017-05-03T00:00:00",
          "2017-06-15T00:00:00",
          "2017-07-26T00:00:00",
          "2017-09-20T00:00:00",
          "2017-11-01T00:00:00",
          "2017-12-14T00:00:00",
          "2018-01-31T00:00:00"
         ],
         "xaxis": "x",
         "y": [
          0.0025,
          0,
          0,
          0,
          0,
          0,
          0,
          0,
          0.0025,
          0,
          0.0025,
          0,
          0.0025,
          0,
          0,
          0,
          0.0025,
          0
         ],
         "yaxis": "y"
        },
        {
         "hovertemplate": "fed_chair=Jerome Powell<br>event_date=%{x}<br>rate_change=%{y}<extra></extra>",
         "legendgroup": "Jerome Powell",
         "marker": {
          "color": "#FFA15A",
          "size": 3,
          "symbol": "circle"
         },
         "mode": "markers",
         "name": "Jerome Powell",
         "orientation": "v",
         "showlegend": true,
         "type": "scatter",
         "x": [
          "2018-03-22T00:00:00",
          "2018-05-02T00:00:00",
          "2018-06-14T00:00:00",
          "2018-08-01T00:00:00",
          "2018-09-27T00:00:00",
          "2018-11-08T00:00:00",
          "2018-12-20T00:00:00",
          "2019-01-30T00:00:00",
          "2019-03-20T00:00:00",
          "2019-05-01T00:00:00",
          "2019-06-19T00:00:00",
          "2019-08-01T00:00:00",
          "2019-09-19T00:00:00",
          "2019-10-04T00:00:00",
          "2019-10-31T00:00:00",
          "2019-12-11T00:00:00",
          "2020-01-29T00:00:00",
          "2020-03-03T00:00:00",
          "2020-04-29T00:00:00",
          "2020-06-10T00:00:00",
          "2020-07-29T00:00:00",
          "2020-08-27T00:00:00",
          "2020-09-16T00:00:00",
          "2020-11-05T00:00:00",
          "2020-12-16T00:00:00",
          "2021-01-27T00:00:00",
          "2021-03-17T00:00:00",
          "2021-04-28T00:00:00",
          "2021-06-16T00:00:00",
          "2021-07-28T00:00:00",
          "2021-09-22T00:00:00",
          "2021-11-04T00:00:00",
          "2021-12-15T00:00:00",
          "2022-01-26T00:00:00",
          "2022-03-16T00:00:00"
         ],
         "xaxis": "x",
         "y": [
          0.0025,
          0,
          0.0025,
          0,
          0.0025,
          0,
          0.0025,
          0,
          0,
          0,
          0,
          -0.0025,
          -0.0025,
          0,
          -0.0025,
          0,
          0,
          -0.005,
          -0.01,
          0,
          0,
          0,
          0,
          0,
          0,
          0,
          0,
          0,
          0,
          0,
          0,
          0,
          0,
          0,
          0.0025
         ],
         "yaxis": "y"
        }
       ],
       "layout": {
        "autosize": true,
        "legend": {
         "title": {
          "text": "fed_chair"
         },
         "tracegroupgap": 0
        },
        "template": {
         "data": {
          "bar": [
           {
            "error_x": {
             "color": "#2a3f5f"
            },
            "error_y": {
             "color": "#2a3f5f"
            },
            "marker": {
             "line": {
              "color": "#E5ECF6",
              "width": 0.5
             },
             "pattern": {
              "fillmode": "overlay",
              "size": 10,
              "solidity": 0.2
             }
            },
            "type": "bar"
           }
          ],
          "barpolar": [
           {
            "marker": {
             "line": {
              "color": "#E5ECF6",
              "width": 0.5
             },
             "pattern": {
              "fillmode": "overlay",
              "size": 10,
              "solidity": 0.2
             }
            },
            "type": "barpolar"
           }
          ],
          "carpet": [
           {
            "aaxis": {
             "endlinecolor": "#2a3f5f",
             "gridcolor": "white",
             "linecolor": "white",
             "minorgridcolor": "white",
             "startlinecolor": "#2a3f5f"
            },
            "baxis": {
             "endlinecolor": "#2a3f5f",
             "gridcolor": "white",
             "linecolor": "white",
             "minorgridcolor": "white",
             "startlinecolor": "#2a3f5f"
            },
            "type": "carpet"
           }
          ],
          "choropleth": [
           {
            "colorbar": {
             "outlinewidth": 0,
             "ticks": ""
            },
            "type": "choropleth"
           }
          ],
          "contour": [
           {
            "colorbar": {
             "outlinewidth": 0,
             "ticks": ""
            },
            "colorscale": [
             [
              0,
              "#0d0887"
             ],
             [
              0.1111111111111111,
              "#46039f"
             ],
             [
              0.2222222222222222,
              "#7201a8"
             ],
             [
              0.3333333333333333,
              "#9c179e"
             ],
             [
              0.4444444444444444,
              "#bd3786"
             ],
             [
              0.5555555555555556,
              "#d8576b"
             ],
             [
              0.6666666666666666,
              "#ed7953"
             ],
             [
              0.7777777777777778,
              "#fb9f3a"
             ],
             [
              0.8888888888888888,
              "#fdca26"
             ],
             [
              1,
              "#f0f921"
             ]
            ],
            "type": "contour"
           }
          ],
          "contourcarpet": [
           {
            "colorbar": {
             "outlinewidth": 0,
             "ticks": ""
            },
            "type": "contourcarpet"
           }
          ],
          "heatmap": [
           {
            "colorbar": {
             "outlinewidth": 0,
             "ticks": ""
            },
            "colorscale": [
             [
              0,
              "#0d0887"
             ],
             [
              0.1111111111111111,
              "#46039f"
             ],
             [
              0.2222222222222222,
              "#7201a8"
             ],
             [
              0.3333333333333333,
              "#9c179e"
             ],
             [
              0.4444444444444444,
              "#bd3786"
             ],
             [
              0.5555555555555556,
              "#d8576b"
             ],
             [
              0.6666666666666666,
              "#ed7953"
             ],
             [
              0.7777777777777778,
              "#fb9f3a"
             ],
             [
              0.8888888888888888,
              "#fdca26"
             ],
             [
              1,
              "#f0f921"
             ]
            ],
            "type": "heatmap"
           }
          ],
          "heatmapgl": [
           {
            "colorbar": {
             "outlinewidth": 0,
             "ticks": ""
            },
            "colorscale": [
             [
              0,
              "#0d0887"
             ],
             [
              0.1111111111111111,
              "#46039f"
             ],
             [
              0.2222222222222222,
              "#7201a8"
             ],
             [
              0.3333333333333333,
              "#9c179e"
             ],
             [
              0.4444444444444444,
              "#bd3786"
             ],
             [
              0.5555555555555556,
              "#d8576b"
             ],
             [
              0.6666666666666666,
              "#ed7953"
             ],
             [
              0.7777777777777778,
              "#fb9f3a"
             ],
             [
              0.8888888888888888,
              "#fdca26"
             ],
             [
              1,
              "#f0f921"
             ]
            ],
            "type": "heatmapgl"
           }
          ],
          "histogram": [
           {
            "marker": {
             "pattern": {
              "fillmode": "overlay",
              "size": 10,
              "solidity": 0.2
             }
            },
            "type": "histogram"
           }
          ],
          "histogram2d": [
           {
            "colorbar": {
             "outlinewidth": 0,
             "ticks": ""
            },
            "colorscale": [
             [
              0,
              "#0d0887"
             ],
             [
              0.1111111111111111,
              "#46039f"
             ],
             [
              0.2222222222222222,
              "#7201a8"
             ],
             [
              0.3333333333333333,
              "#9c179e"
             ],
             [
              0.4444444444444444,
              "#bd3786"
             ],
             [
              0.5555555555555556,
              "#d8576b"
             ],
             [
              0.6666666666666666,
              "#ed7953"
             ],
             [
              0.7777777777777778,
              "#fb9f3a"
             ],
             [
              0.8888888888888888,
              "#fdca26"
             ],
             [
              1,
              "#f0f921"
             ]
            ],
            "type": "histogram2d"
           }
          ],
          "histogram2dcontour": [
           {
            "colorbar": {
             "outlinewidth": 0,
             "ticks": ""
            },
            "colorscale": [
             [
              0,
              "#0d0887"
             ],
             [
              0.1111111111111111,
              "#46039f"
             ],
             [
              0.2222222222222222,
              "#7201a8"
             ],
             [
              0.3333333333333333,
              "#9c179e"
             ],
             [
              0.4444444444444444,
              "#bd3786"
             ],
             [
              0.5555555555555556,
              "#d8576b"
             ],
             [
              0.6666666666666666,
              "#ed7953"
             ],
             [
              0.7777777777777778,
              "#fb9f3a"
             ],
             [
              0.8888888888888888,
              "#fdca26"
             ],
             [
              1,
              "#f0f921"
             ]
            ],
            "type": "histogram2dcontour"
           }
          ],
          "mesh3d": [
           {
            "colorbar": {
             "outlinewidth": 0,
             "ticks": ""
            },
            "type": "mesh3d"
           }
          ],
          "parcoords": [
           {
            "line": {
             "colorbar": {
              "outlinewidth": 0,
              "ticks": ""
             }
            },
            "type": "parcoords"
           }
          ],
          "pie": [
           {
            "automargin": true,
            "type": "pie"
           }
          ],
          "scatter": [
           {
            "marker": {
             "colorbar": {
              "outlinewidth": 0,
              "ticks": ""
             }
            },
            "type": "scatter"
           }
          ],
          "scatter3d": [
           {
            "line": {
             "colorbar": {
              "outlinewidth": 0,
              "ticks": ""
             }
            },
            "marker": {
             "colorbar": {
              "outlinewidth": 0,
              "ticks": ""
             }
            },
            "type": "scatter3d"
           }
          ],
          "scattercarpet": [
           {
            "marker": {
             "colorbar": {
              "outlinewidth": 0,
              "ticks": ""
             }
            },
            "type": "scattercarpet"
           }
          ],
          "scattergeo": [
           {
            "marker": {
             "colorbar": {
              "outlinewidth": 0,
              "ticks": ""
             }
            },
            "type": "scattergeo"
           }
          ],
          "scattergl": [
           {
            "marker": {
             "colorbar": {
              "outlinewidth": 0,
              "ticks": ""
             }
            },
            "type": "scattergl"
           }
          ],
          "scattermapbox": [
           {
            "marker": {
             "colorbar": {
              "outlinewidth": 0,
              "ticks": ""
             }
            },
            "type": "scattermapbox"
           }
          ],
          "scatterpolar": [
           {
            "marker": {
             "colorbar": {
              "outlinewidth": 0,
              "ticks": ""
             }
            },
            "type": "scatterpolar"
           }
          ],
          "scatterpolargl": [
           {
            "marker": {
             "colorbar": {
              "outlinewidth": 0,
              "ticks": ""
             }
            },
            "type": "scatterpolargl"
           }
          ],
          "scatterternary": [
           {
            "marker": {
             "colorbar": {
              "outlinewidth": 0,
              "ticks": ""
             }
            },
            "type": "scatterternary"
           }
          ],
          "surface": [
           {
            "colorbar": {
             "outlinewidth": 0,
             "ticks": ""
            },
            "colorscale": [
             [
              0,
              "#0d0887"
             ],
             [
              0.1111111111111111,
              "#46039f"
             ],
             [
              0.2222222222222222,
              "#7201a8"
             ],
             [
              0.3333333333333333,
              "#9c179e"
             ],
             [
              0.4444444444444444,
              "#bd3786"
             ],
             [
              0.5555555555555556,
              "#d8576b"
             ],
             [
              0.6666666666666666,
              "#ed7953"
             ],
             [
              0.7777777777777778,
              "#fb9f3a"
             ],
             [
              0.8888888888888888,
              "#fdca26"
             ],
             [
              1,
              "#f0f921"
             ]
            ],
            "type": "surface"
           }
          ],
          "table": [
           {
            "cells": {
             "fill": {
              "color": "#EBF0F8"
             },
             "line": {
              "color": "white"
             }
            },
            "header": {
             "fill": {
              "color": "#C8D4E3"
             },
             "line": {
              "color": "white"
             }
            },
            "type": "table"
           }
          ]
         },
         "layout": {
          "annotationdefaults": {
           "arrowcolor": "#2a3f5f",
           "arrowhead": 0,
           "arrowwidth": 1
          },
          "autotypenumbers": "strict",
          "coloraxis": {
           "colorbar": {
            "outlinewidth": 0,
            "ticks": ""
           }
          },
          "colorscale": {
           "diverging": [
            [
             0,
             "#8e0152"
            ],
            [
             0.1,
             "#c51b7d"
            ],
            [
             0.2,
             "#de77ae"
            ],
            [
             0.3,
             "#f1b6da"
            ],
            [
             0.4,
             "#fde0ef"
            ],
            [
             0.5,
             "#f7f7f7"
            ],
            [
             0.6,
             "#e6f5d0"
            ],
            [
             0.7,
             "#b8e186"
            ],
            [
             0.8,
             "#7fbc41"
            ],
            [
             0.9,
             "#4d9221"
            ],
            [
             1,
             "#276419"
            ]
           ],
           "sequential": [
            [
             0,
             "#0d0887"
            ],
            [
             0.1111111111111111,
             "#46039f"
            ],
            [
             0.2222222222222222,
             "#7201a8"
            ],
            [
             0.3333333333333333,
             "#9c179e"
            ],
            [
             0.4444444444444444,
             "#bd3786"
            ],
            [
             0.5555555555555556,
             "#d8576b"
            ],
            [
             0.6666666666666666,
             "#ed7953"
            ],
            [
             0.7777777777777778,
             "#fb9f3a"
            ],
            [
             0.8888888888888888,
             "#fdca26"
            ],
            [
             1,
             "#f0f921"
            ]
           ],
           "sequentialminus": [
            [
             0,
             "#0d0887"
            ],
            [
             0.1111111111111111,
             "#46039f"
            ],
            [
             0.2222222222222222,
             "#7201a8"
            ],
            [
             0.3333333333333333,
             "#9c179e"
            ],
            [
             0.4444444444444444,
             "#bd3786"
            ],
            [
             0.5555555555555556,
             "#d8576b"
            ],
            [
             0.6666666666666666,
             "#ed7953"
            ],
            [
             0.7777777777777778,
             "#fb9f3a"
            ],
            [
             0.8888888888888888,
             "#fdca26"
            ],
            [
             1,
             "#f0f921"
            ]
           ]
          },
          "colorway": [
           "#636efa",
           "#EF553B",
           "#00cc96",
           "#ab63fa",
           "#FFA15A",
           "#19d3f3",
           "#FF6692",
           "#B6E880",
           "#FF97FF",
           "#FECB52"
          ],
          "font": {
           "color": "#2a3f5f"
          },
          "geo": {
           "bgcolor": "white",
           "lakecolor": "white",
           "landcolor": "#E5ECF6",
           "showlakes": true,
           "showland": true,
           "subunitcolor": "white"
          },
          "hoverlabel": {
           "align": "left"
          },
          "hovermode": "closest",
          "mapbox": {
           "style": "light"
          },
          "paper_bgcolor": "white",
          "plot_bgcolor": "#E5ECF6",
          "polar": {
           "angularaxis": {
            "gridcolor": "white",
            "linecolor": "white",
            "ticks": ""
           },
           "bgcolor": "#E5ECF6",
           "radialaxis": {
            "gridcolor": "white",
            "linecolor": "white",
            "ticks": ""
           }
          },
          "scene": {
           "xaxis": {
            "backgroundcolor": "#E5ECF6",
            "gridcolor": "white",
            "gridwidth": 2,
            "linecolor": "white",
            "showbackground": true,
            "ticks": "",
            "zerolinecolor": "white"
           },
           "yaxis": {
            "backgroundcolor": "#E5ECF6",
            "gridcolor": "white",
            "gridwidth": 2,
            "linecolor": "white",
            "showbackground": true,
            "ticks": "",
            "zerolinecolor": "white"
           },
           "zaxis": {
            "backgroundcolor": "#E5ECF6",
            "gridcolor": "white",
            "gridwidth": 2,
            "linecolor": "white",
            "showbackground": true,
            "ticks": "",
            "zerolinecolor": "white"
           }
          },
          "shapedefaults": {
           "line": {
            "color": "#2a3f5f"
           }
          },
          "ternary": {
           "aaxis": {
            "gridcolor": "white",
            "linecolor": "white",
            "ticks": ""
           },
           "baxis": {
            "gridcolor": "white",
            "linecolor": "white",
            "ticks": ""
           },
           "bgcolor": "#E5ECF6",
           "caxis": {
            "gridcolor": "white",
            "linecolor": "white",
            "ticks": ""
           }
          },
          "title": {
           "x": 0.05
          },
          "xaxis": {
           "automargin": true,
           "gridcolor": "white",
           "linecolor": "white",
           "ticks": "",
           "title": {
            "standoff": 15
           },
           "zerolinecolor": "white",
           "zerolinewidth": 2
          },
          "yaxis": {
           "automargin": true,
           "gridcolor": "white",
           "linecolor": "white",
           "ticks": "",
           "title": {
            "standoff": 15
           },
           "zerolinecolor": "white",
           "zerolinewidth": 2
          }
         }
        },
        "title": {
         "text": "Change in the Fed Rate"
        },
        "xaxis": {
         "anchor": "y",
         "autorange": true,
         "domain": [
          0,
          1
         ],
         "range": [
          "1985-04-08 10:32:46.0036",
          "2024-04-24 13:27:13.9964"
         ],
         "title": {
          "text": "event_date"
         },
         "type": "date"
        },
        "yaxis": {
         "anchor": "x",
         "autorange": true,
         "domain": [
          0,
          1
         ],
         "range": [
          -0.012023076923076923,
          0.01832307692307692
         ],
         "title": {
          "text": "rate_change"
         },
         "type": "linear"
        }
       }
      },
      "image/png": "[encoded data removed]",
      "text/html": [
       "<div>                            <div id=\"8fa6da78-3d19-40fd-b5d2-640a152858f5\" class=\"plotly-graph-div\" style=\"height:525px; width:100%;\"></div>            <script type=\"text/javascript\">                require([\"plotly\"], function(Plotly) {                    window.PLOTLYENV=window.PLOTLYENV || {};                                    if (document.getElementById(\"8fa6da78-3d19-40fd-b5d2-640a152858f5\")) {                    Plotly.newPlot(                        \"8fa6da78-3d19-40fd-b5d2-640a152858f5\",                        [{\"hovertemplate\":\"fed_chair=Paul Volcker<br>event_date=%{x}<br>rate_change=%{y}<extra></extra>\",\"legendgroup\":\"Paul Volcker\",\"marker\":{\"color\":\"#636efa\",\"symbol\":\"circle\",\"size\":3},\"mode\":\"markers\",\"name\":\"Paul Volcker\",\"orientation\":\"v\",\"showlegend\":true,\"x\":[\"1987-05-19T00:00:00\"],\"xaxis\":\"x\",\"y\":[0.0062],\"yaxis\":\"y\",\"type\":\"scatter\"},{\"hovertemplate\":\"fed_chair=Alan Greenspan<br>event_date=%{x}<br>rate_change=%{y}<extra></extra>\",\"legendgroup\":\"Alan Greenspan\",\"marker\":{\"color\":\"#EF553B\",\"symbol\":\"circle\",\"size\":3},\"mode\":\"markers\",\"name\":\"Alan Greenspan\",\"orientation\":\"v\",\"showlegend\":true,\"x\":[\"1987-07-07T00:00:00\",\"1987-08-18T00:00:00\",\"1987-09-22T00:00:00\",\"1987-11-04T00:00:00\",\"1987-12-15T00:00:00\",\"1988-02-10T00:00:00\",\"1988-03-29T00:00:00\",\"1988-05-17T00:00:00\",\"1988-06-30T00:00:00\",\"1988-08-16T00:00:00\",\"1988-09-20T00:00:00\",\"1988-11-01T00:00:00\",\"1988-12-14T00:00:00\",\"1989-02-08T00:00:00\",\"1989-03-28T00:00:00\",\"1989-05-16T00:00:00\",\"1989-07-06T00:00:00\",\"1989-08-22T00:00:00\",\"1989-10-03T00:00:00\",\"1989-11-14T00:00:00\",\"1989-12-19T00:00:00\",\"1990-02-07T00:00:00\",\"1990-03-27T00:00:00\",\"1990-05-15T00:00:00\",\"1990-07-03T00:00:00\",\"1990-08-21T00:00:00\",\"1990-10-02T00:00:00\",\"1990-11-13T00:00:00\",\"1990-12-18T00:00:00\",\"1991-01-09T00:00:00\",\"1991-02-01T00:00:00\",\"1991-02-06T00:00:00\",\"1991-03-08T00:00:00\",\"1991-04-30T00:00:00\",\"1991-05-14T00:00:00\",\"1991-07-03T00:00:00\",\"1991-08-06T00:00:00\",\"1991-08-20T00:00:00\",\"1991-09-13T00:00:00\",\"1991-10-01T00:00:00\",\"1991-10-31T00:00:00\",\"1991-11-06T00:00:00\",\"1991-12-02T00:00:00\",\"1991-12-17T00:00:00\",\"1992-02-05T00:00:00\",\"1992-03-31T00:00:00\",\"1992-04-09T00:00:00\",\"1992-05-19T00:00:00\",\"1992-07-02T00:00:00\",\"1992-08-18T00:00:00\",\"1992-09-04T00:00:00\",\"1992-10-06T00:00:00\",\"1992-11-17T00:00:00\",\"1992-12-22T00:00:00\",\"1993-02-03T00:00:00\",\"1993-03-23T00:00:00\",\"1993-05-18T00:00:00\",\"1993-07-07T00:00:00\",\"1993-08-17T00:00:00\",\"1993-09-21T00:00:00\",\"1993-11-01T00:00:00\",\"1993-12-21T00:00:00\",\"1994-02-04T00:00:00\",\"1994-03-22T00:00:00\",\"1994-04-18T00:00:00\",\"1994-05-17T00:00:00\",\"1994-07-06T00:00:00\",\"1994-08-16T00:00:00\",\"1994-09-27T00:00:00\",\"1994-11-15T00:00:00\",\"1994-12-20T00:00:00\",\"1995-01-31T00:00:00\",\"1995-02-01T00:00:00\",\"1995-03-28T00:00:00\",\"1995-05-23T00:00:00\",\"1995-07-06T00:00:00\",\"1995-08-22T00:00:00\",\"1995-09-26T00:00:00\",\"1995-11-15T00:00:00\",\"1995-12-19T00:00:00\",\"1996-01-31T00:00:00\",\"1996-03-26T00:00:00\",\"1996-05-21T00:00:00\",\"1996-07-03T00:00:00\",\"1996-08-20T00:00:00\",\"1996-09-24T00:00:00\",\"1996-11-13T00:00:00\",\"1996-12-17T00:00:00\",\"1997-02-05T00:00:00\",\"1997-03-25T00:00:00\",\"1997-05-20T00:00:00\",\"1997-07-02T00:00:00\",\"1997-08-19T00:00:00\",\"1997-09-30T00:00:00\",\"1997-11-12T00:00:00\",\"1997-12-16T00:00:00\",\"1998-02-04T00:00:00\",\"1998-03-31T00:00:00\",\"1998-05-19T00:00:00\",\"1998-07-01T00:00:00\",\"1998-08-18T00:00:00\",\"1998-09-29T00:00:00\",\"1998-10-15T00:00:00\",\"1998-11-17T00:00:00\",\"1998-12-22T00:00:00\",\"1999-02-03T00:00:00\",\"1999-03-30T00:00:00\",\"1999-05-18T00:00:00\",\"1999-06-30T00:00:00\",\"1999-08-24T00:00:00\",\"1999-10-05T00:00:00\",\"1999-11-16T00:00:00\",\"1999-12-21T00:00:00\",\"2000-02-02T00:00:00\",\"2000-03-21T00:00:00\",\"2000-05-16T00:00:00\",\"2000-06-28T00:00:00\",\"2000-08-22T00:00:00\",\"2000-10-03T00:00:00\",\"2000-11-15T00:00:00\",\"2000-12-19T00:00:00\",\"2001-01-03T00:00:00\",\"2001-01-31T00:00:00\",\"2001-03-20T00:00:00\",\"2001-04-18T00:00:00\",\"2001-05-15T00:00:00\",\"2001-06-27T00:00:00\",\"2001-08-21T00:00:00\",\"2001-09-17T00:00:00\",\"2001-10-02T00:00:00\",\"2001-11-06T00:00:00\",\"2001-12-11T00:00:00\",\"2002-01-30T00:00:00\",\"2002-03-19T00:00:00\",\"2002-05-07T00:00:00\",\"2002-06-26T00:00:00\",\"2002-08-13T00:00:00\",\"2002-09-24T00:00:00\",\"2002-11-06T00:00:00\",\"2002-12-10T00:00:00\",\"2003-03-18T00:00:00\",\"2003-03-25T00:00:00\",\"2003-05-06T00:00:00\",\"2003-06-25T00:00:00\",\"2003-06-29T00:00:00\",\"2003-08-12T00:00:00\",\"2003-09-16T00:00:00\",\"2003-10-28T00:00:00\",\"2003-12-09T00:00:00\",\"2004-01-28T00:00:00\",\"2004-03-16T00:00:00\",\"2004-05-04T00:00:00\",\"2004-06-30T00:00:00\",\"2004-08-10T00:00:00\",\"2004-09-21T00:00:00\",\"2004-11-10T00:00:00\",\"2004-12-14T00:00:00\",\"2005-02-02T00:00:00\",\"2005-03-22T00:00:00\",\"2005-05-03T00:00:00\",\"2005-06-30T00:00:00\",\"2005-08-09T00:00:00\",\"2005-09-20T00:00:00\",\"2005-11-01T00:00:00\",\"2005-12-13T00:00:00\",\"2006-01-31T00:00:00\"],\"xaxis\":\"x\",\"y\":[0.0,0.0,0.0075,-0.0044,0.0,-0.0056,0.0025,0.0,0.0,0.0163,0.0,0.0,0.0025,0.0,0.0,0.0,0.0,0.0,0.0,0.0,0.0012,0.0,0.0,0.0,-0.0025,0.0,-0.005,-0.0025,-0.0025,-0.005,-0.005,0.0,-0.0025,-0.0025,0.0,0.0,-0.0025,0.0,-0.0025,0.0,-0.0025,-0.0025,-0.0025,-0.005,0.0,0.0,-0.0025,0.0,-0.005,0.005,-0.0075,0.0,0.0,0.0,0.0,0.0,0.0,0.0,0.0,0.0,0.0,0.0,0.0025,0.0025,0.0025,0.005,0.0,0.005,0.0,0.0075,0.0,0.0,0.005,0.0,0.0,-0.0025,0.0,0.0,0.0,-0.0025,-0.0025,0.0,0.0,0.0,0.0,0.0,0.0,0.0,0.0,0.0025,0.0,0.0,0.0,0.0,0.0,0.0,0.0,0.0,0.0,0.0,0.0,-0.0025,-0.0025,-0.0025,0.0,0.0,0.0,0.0,0.0025,0.0025,0.0,0.0025,0.0,0.0025,0.0025,0.005,0.0,0.0,0.0,0.0,0.0,-0.005,-0.005,-0.005,-0.005,-0.005,-0.0025,-0.0025,-0.005,-0.005,-0.005,-0.0025,0.0,0.0,0.0,0.0,0.0,0.0,-0.005,0.0,0.0,0.0,0.0,-0.0025,0.0,0.0,0.0,0.0,0.0,0.0,0.0,0.0,0.0003,0.0047,0.0025,0.0025,0.0025,0.0025,0.0025,0.0025,0.0025,0.0025,0.0025,0.0025,0.0025,0.0025],\"yaxis\":\"y\",\"type\":\"scatter\"},{\"hovertemplate\":\"fed_chair=Ben Bernanke<br>event_date=%{x}<br>rate_change=%{y}<extra></extra>\",\"legendgroup\":\"Ben Bernanke\",\"marker\":{\"color\":\"#00cc96\",\"symbol\":\"circle\",\"size\":3},\"mode\":\"markers\",\"name\":\"Ben Bernanke\",\"orientation\":\"v\",\"showlegend\":true,\"x\":[\"2006-03-28T00:00:00\",\"2006-05-10T00:00:00\",\"2006-06-29T00:00:00\",\"2006-08-08T00:00:00\",\"2006-09-20T00:00:00\",\"2006-10-25T00:00:00\",\"2006-12-12T00:00:00\",\"2007-01-31T00:00:00\",\"2007-03-21T00:00:00\",\"2007-05-09T00:00:00\",\"2007-06-28T00:00:00\",\"2007-08-07T00:00:00\",\"2007-09-18T00:00:00\",\"2007-10-31T00:00:00\",\"2007-12-11T00:00:00\",\"2008-01-22T00:00:00\",\"2008-01-30T00:00:00\",\"2008-03-18T00:00:00\",\"2008-04-30T00:00:00\",\"2008-06-25T00:00:00\",\"2008-08-05T00:00:00\",\"2008-09-16T00:00:00\",\"2008-10-08T00:00:00\",\"2008-11-29T00:00:00\",\"2008-12-16T00:00:00\",\"2009-01-28T00:00:00\",\"2009-03-18T00:00:00\",\"2009-04-29T00:00:00\",\"2009-06-24T00:00:00\",\"2009-08-12T00:00:00\",\"2009-09-23T00:00:00\",\"2009-11-04T00:00:00\",\"2009-12-16T00:00:00\",\"2010-01-27T00:00:00\",\"2010-03-16T00:00:00\",\"2010-04-28T00:00:00\",\"2010-06-23T00:00:00\",\"2010-08-10T00:00:00\",\"2010-09-21T00:00:00\",\"2010-11-03T00:00:00\",\"2010-12-14T00:00:00\",\"2011-01-26T00:00:00\",\"2011-03-15T00:00:00\",\"2011-04-27T00:00:00\",\"2011-06-22T00:00:00\",\"2011-08-09T00:00:00\",\"2011-09-21T00:00:00\",\"2011-11-02T00:00:00\",\"2011-12-13T00:00:00\",\"2012-01-25T00:00:00\",\"2012-03-13T00:00:00\",\"2012-04-25T00:00:00\",\"2012-06-20T00:00:00\",\"2012-08-01T00:00:00\",\"2012-09-13T00:00:00\",\"2012-10-24T00:00:00\",\"2012-12-12T00:00:00\",\"2013-01-30T00:00:00\",\"2013-03-20T00:00:00\",\"2013-05-01T00:00:00\",\"2013-06-19T00:00:00\",\"2013-07-31T00:00:00\",\"2013-09-18T00:00:00\",\"2013-10-30T00:00:00\",\"2013-12-18T00:00:00\",\"2014-01-29T00:00:00\",\"2014-03-04T00:00:00\",\"2014-03-19T00:00:00\",\"2014-04-30T00:00:00\",\"2014-06-18T00:00:00\",\"2014-07-30T00:00:00\",\"2014-09-17T00:00:00\",\"2014-10-29T00:00:00\",\"2014-12-17T00:00:00\",\"2015-01-28T00:00:00\",\"2015-03-16T00:00:00\",\"2015-03-18T00:00:00\",\"2015-04-29T00:00:00\",\"2015-06-17T00:00:00\",\"2015-07-29T00:00:00\",\"2015-09-17T00:00:00\",\"2015-10-28T00:00:00\"],\"xaxis\":\"x\",\"y\":[0.0025,0.0025,0.0025,0.0,0.0,0.0,0.0,0.0,0.0,0.0,0.0,0.0,-0.005,-0.0025,-0.0025,-0.0075,-0.005,-0.0075,-0.0025,0.0,0.0,0.0,-0.005,-0.005,-0.0075,0.0,0.0,0.0,0.0,0.0,0.0,0.0,0.0,0.0,0.0,0.0,0.0,0.0,0.0,0.0,0.0,0.0,0.0,0.0,0.0,0.0,0.0,0.0,0.0,0.0,0.0,0.0,0.0,0.0,0.0,0.0,0.0,0.0,0.0,0.0,0.0,0.0,0.0,0.0,0.0,0.0,0.0,0.0,0.0,0.0,0.0,0.0,0.0,0.0,0.0,0.0,0.0,0.0,0.0,0.0,0.0,0.0],\"yaxis\":\"y\",\"type\":\"scatter\"},{\"hovertemplate\":\"fed_chair=Janet Yellen<br>event_date=%{x}<br>rate_change=%{y}<extra></extra>\",\"legendgroup\":\"Janet Yellen\",\"marker\":{\"color\":\"#ab63fa\",\"symbol\":\"circle\",\"size\":3},\"mode\":\"markers\",\"name\":\"Janet Yellen\",\"orientation\":\"v\",\"showlegend\":true,\"x\":[\"2015-12-17T00:00:00\",\"2016-01-27T00:00:00\",\"2016-04-16T00:00:00\",\"2016-06-15T00:00:00\",\"2016-07-27T00:00:00\",\"2016-09-21T00:00:00\",\"2016-09-21T00:00:00\",\"2016-11-02T00:00:00\",\"2016-12-15T00:00:00\",\"2017-02-01T00:00:00\",\"2017-03-16T00:00:00\",\"2017-05-03T00:00:00\",\"2017-06-15T00:00:00\",\"2017-07-26T00:00:00\",\"2017-09-20T00:00:00\",\"2017-11-01T00:00:00\",\"2017-12-14T00:00:00\",\"2018-01-31T00:00:00\"],\"xaxis\":\"x\",\"y\":[0.0025,0.0,0.0,0.0,0.0,0.0,0.0,0.0,0.0025,0.0,0.0025,0.0,0.0025,0.0,0.0,0.0,0.0025,0.0],\"yaxis\":\"y\",\"type\":\"scatter\"},{\"hovertemplate\":\"fed_chair=Jerome Powell<br>event_date=%{x}<br>rate_change=%{y}<extra></extra>\",\"legendgroup\":\"Jerome Powell\",\"marker\":{\"color\":\"#FFA15A\",\"symbol\":\"circle\",\"size\":3},\"mode\":\"markers\",\"name\":\"Jerome Powell\",\"orientation\":\"v\",\"showlegend\":true,\"x\":[\"2018-03-22T00:00:00\",\"2018-05-02T00:00:00\",\"2018-06-14T00:00:00\",\"2018-08-01T00:00:00\",\"2018-09-27T00:00:00\",\"2018-11-08T00:00:00\",\"2018-12-20T00:00:00\",\"2019-01-30T00:00:00\",\"2019-03-20T00:00:00\",\"2019-05-01T00:00:00\",\"2019-06-19T00:00:00\",\"2019-08-01T00:00:00\",\"2019-09-19T00:00:00\",\"2019-10-04T00:00:00\",\"2019-10-31T00:00:00\",\"2019-12-11T00:00:00\",\"2020-01-29T00:00:00\",\"2020-03-03T00:00:00\",\"2020-04-29T00:00:00\",\"2020-06-10T00:00:00\",\"2020-07-29T00:00:00\",\"2020-08-27T00:00:00\",\"2020-09-16T00:00:00\",\"2020-11-05T00:00:00\",\"2020-12-16T00:00:00\",\"2021-01-27T00:00:00\",\"2021-03-17T00:00:00\",\"2021-04-28T00:00:00\",\"2021-06-16T00:00:00\",\"2021-07-28T00:00:00\",\"2021-09-22T00:00:00\",\"2021-11-04T00:00:00\",\"2021-12-15T00:00:00\",\"2022-01-26T00:00:00\",\"2022-03-16T00:00:00\"],\"xaxis\":\"x\",\"y\":[0.0025,0.0,0.0025,0.0,0.0025,0.0,0.0025,0.0,0.0,0.0,0.0,-0.0025,-0.0025,0.0,-0.0025,0.0,0.0,-0.005,-0.01,0.0,0.0,0.0,0.0,0.0,0.0,0.0,0.0,0.0,0.0,0.0,0.0,0.0,0.0,0.0,0.0025],\"yaxis\":\"y\",\"type\":\"scatter\"}],                        {\"template\":{\"data\":{\"bar\":[{\"error_x\":{\"color\":\"#2a3f5f\"},\"error_y\":{\"color\":\"#2a3f5f\"},\"marker\":{\"line\":{\"color\":\"#E5ECF6\",\"width\":0.5},\"pattern\":{\"fillmode\":\"overlay\",\"size\":10,\"solidity\":0.2}},\"type\":\"bar\"}],\"barpolar\":[{\"marker\":{\"line\":{\"color\":\"#E5ECF6\",\"width\":0.5},\"pattern\":{\"fillmode\":\"overlay\",\"size\":10,\"solidity\":0.2}},\"type\":\"barpolar\"}],\"carpet\":[{\"aaxis\":{\"endlinecolor\":\"#2a3f5f\",\"gridcolor\":\"white\",\"linecolor\":\"white\",\"minorgridcolor\":\"white\",\"startlinecolor\":\"#2a3f5f\"},\"baxis\":{\"endlinecolor\":\"#2a3f5f\",\"gridcolor\":\"white\",\"linecolor\":\"white\",\"minorgridcolor\":\"white\",\"startlinecolor\":\"#2a3f5f\"},\"type\":\"carpet\"}],\"choropleth\":[{\"colorbar\":{\"outlinewidth\":0,\"ticks\":\"\"},\"type\":\"choropleth\"}],\"contour\":[{\"colorbar\":{\"outlinewidth\":0,\"ticks\":\"\"},\"colorscale\":[[0.0,\"#0d0887\"],[0.1111111111111111,\"#46039f\"],[0.2222222222222222,\"#7201a8\"],[0.3333333333333333,\"#9c179e\"],[0.4444444444444444,\"#bd3786\"],[0.5555555555555556,\"#d8576b\"],[0.6666666666666666,\"#ed7953\"],[0.7777777777777778,\"#fb9f3a\"],[0.8888888888888888,\"#fdca26\"],[1.0,\"#f0f921\"]],\"type\":\"contour\"}],\"contourcarpet\":[{\"colorbar\":{\"outlinewidth\":0,\"ticks\":\"\"},\"type\":\"contourcarpet\"}],\"heatmap\":[{\"colorbar\":{\"outlinewidth\":0,\"ticks\":\"\"},\"colorscale\":[[0.0,\"#0d0887\"],[0.1111111111111111,\"#46039f\"],[0.2222222222222222,\"#7201a8\"],[0.3333333333333333,\"#9c179e\"],[0.4444444444444444,\"#bd3786\"],[0.5555555555555556,\"#d8576b\"],[0.6666666666666666,\"#ed7953\"],[0.7777777777777778,\"#fb9f3a\"],[0.8888888888888888,\"#fdca26\"],[1.0,\"#f0f921\"]],\"type\":\"heatmap\"}],\"heatmapgl\":[{\"colorbar\":{\"outlinewidth\":0,\"ticks\":\"\"},\"colorscale\":[[0.0,\"#0d0887\"],[0.1111111111111111,\"#46039f\"],[0.2222222222222222,\"#7201a8\"],[0.3333333333333333,\"#9c179e\"],[0.4444444444444444,\"#bd3786\"],[0.5555555555555556,\"#d8576b\"],[0.6666666666666666,\"#ed7953\"],[0.7777777777777778,\"#fb9f3a\"],[0.8888888888888888,\"#fdca26\"],[1.0,\"#f0f921\"]],\"type\":\"heatmapgl\"}],\"histogram\":[{\"marker\":{\"pattern\":{\"fillmode\":\"overlay\",\"size\":10,\"solidity\":0.2}},\"type\":\"histogram\"}],\"histogram2d\":[{\"colorbar\":{\"outlinewidth\":0,\"ticks\":\"\"},\"colorscale\":[[0.0,\"#0d0887\"],[0.1111111111111111,\"#46039f\"],[0.2222222222222222,\"#7201a8\"],[0.3333333333333333,\"#9c179e\"],[0.4444444444444444,\"#bd3786\"],[0.5555555555555556,\"#d8576b\"],[0.6666666666666666,\"#ed7953\"],[0.7777777777777778,\"#fb9f3a\"],[0.8888888888888888,\"#fdca26\"],[1.0,\"#f0f921\"]],\"type\":\"histogram2d\"}],\"histogram2dcontour\":[{\"colorbar\":{\"outlinewidth\":0,\"ticks\":\"\"},\"colorscale\":[[0.0,\"#0d0887\"],[0.1111111111111111,\"#46039f\"],[0.2222222222222222,\"#7201a8\"],[0.3333333333333333,\"#9c179e\"],[0.4444444444444444,\"#bd3786\"],[0.5555555555555556,\"#d8576b\"],[0.6666666666666666,\"#ed7953\"],[0.7777777777777778,\"#fb9f3a\"],[0.8888888888888888,\"#fdca26\"],[1.0,\"#f0f921\"]],\"type\":\"histogram2dcontour\"}],\"mesh3d\":[{\"colorbar\":{\"outlinewidth\":0,\"ticks\":\"\"},\"type\":\"mesh3d\"}],\"parcoords\":[{\"line\":{\"colorbar\":{\"outlinewidth\":0,\"ticks\":\"\"}},\"type\":\"parcoords\"}],\"pie\":[{\"automargin\":true,\"type\":\"pie\"}],\"scatter\":[{\"marker\":{\"colorbar\":{\"outlinewidth\":0,\"ticks\":\"\"}},\"type\":\"scatter\"}],\"scatter3d\":[{\"line\":{\"colorbar\":{\"outlinewidth\":0,\"ticks\":\"\"}},\"marker\":{\"colorbar\":{\"outlinewidth\":0,\"ticks\":\"\"}},\"type\":\"scatter3d\"}],\"scattercarpet\":[{\"marker\":{\"colorbar\":{\"outlinewidth\":0,\"ticks\":\"\"}},\"type\":\"scattercarpet\"}],\"scattergeo\":[{\"marker\":{\"colorbar\":{\"outlinewidth\":0,\"ticks\":\"\"}},\"type\":\"scattergeo\"}],\"scattergl\":[{\"marker\":{\"colorbar\":{\"outlinewidth\":0,\"ticks\":\"\"}},\"type\":\"scattergl\"}],\"scattermapbox\":[{\"marker\":{\"colorbar\":{\"outlinewidth\":0,\"ticks\":\"\"}},\"type\":\"scattermapbox\"}],\"scatterpolar\":[{\"marker\":{\"colorbar\":{\"outlinewidth\":0,\"ticks\":\"\"}},\"type\":\"scatterpolar\"}],\"scatterpolargl\":[{\"marker\":{\"colorbar\":{\"outlinewidth\":0,\"ticks\":\"\"}},\"type\":\"scatterpolargl\"}],\"scatterternary\":[{\"marker\":{\"colorbar\":{\"outlinewidth\":0,\"ticks\":\"\"}},\"type\":\"scatterternary\"}],\"surface\":[{\"colorbar\":{\"outlinewidth\":0,\"ticks\":\"\"},\"colorscale\":[[0.0,\"#0d0887\"],[0.1111111111111111,\"#46039f\"],[0.2222222222222222,\"#7201a8\"],[0.3333333333333333,\"#9c179e\"],[0.4444444444444444,\"#bd3786\"],[0.5555555555555556,\"#d8576b\"],[0.6666666666666666,\"#ed7953\"],[0.7777777777777778,\"#fb9f3a\"],[0.8888888888888888,\"#fdca26\"],[1.0,\"#f0f921\"]],\"type\":\"surface\"}],\"table\":[{\"cells\":{\"fill\":{\"color\":\"#EBF0F8\"},\"line\":{\"color\":\"white\"}},\"header\":{\"fill\":{\"color\":\"#C8D4E3\"},\"line\":{\"color\":\"white\"}},\"type\":\"table\"}]},\"layout\":{\"annotationdefaults\":{\"arrowcolor\":\"#2a3f5f\",\"arrowhead\":0,\"arrowwidth\":1},\"autotypenumbers\":\"strict\",\"coloraxis\":{\"colorbar\":{\"outlinewidth\":0,\"ticks\":\"\"}},\"colorscale\":{\"diverging\":[[0,\"#8e0152\"],[0.1,\"#c51b7d\"],[0.2,\"#de77ae\"],[0.3,\"#f1b6da\"],[0.4,\"#fde0ef\"],[0.5,\"#f7f7f7\"],[0.6,\"#e6f5d0\"],[0.7,\"#b8e186\"],[0.8,\"#7fbc41\"],[0.9,\"#4d9221\"],[1,\"#276419\"]],\"sequential\":[[0.0,\"#0d0887\"],[0.1111111111111111,\"#46039f\"],[0.2222222222222222,\"#7201a8\"],[0.3333333333333333,\"#9c179e\"],[0.4444444444444444,\"#bd3786\"],[0.5555555555555556,\"#d8576b\"],[0.6666666666666666,\"#ed7953\"],[0.7777777777777778,\"#fb9f3a\"],[0.8888888888888888,\"#fdca26\"],[1.0,\"#f0f921\"]],\"sequentialminus\":[[0.0,\"#0d0887\"],[0.1111111111111111,\"#46039f\"],[0.2222222222222222,\"#7201a8\"],[0.3333333333333333,\"#9c179e\"],[0.4444444444444444,\"#bd3786\"],[0.5555555555555556,\"#d8576b\"],[0.6666666666666666,\"#ed7953\"],[0.7777777777777778,\"#fb9f3a\"],[0.8888888888888888,\"#fdca26\"],[1.0,\"#f0f921\"]]},\"colorway\":[\"#636efa\",\"#EF553B\",\"#00cc96\",\"#ab63fa\",\"#FFA15A\",\"#19d3f3\",\"#FF6692\",\"#B6E880\",\"#FF97FF\",\"#FECB52\"],\"font\":{\"color\":\"#2a3f5f\"},\"geo\":{\"bgcolor\":\"white\",\"lakecolor\":\"white\",\"landcolor\":\"#E5ECF6\",\"showlakes\":true,\"showland\":true,\"subunitcolor\":\"white\"},\"hoverlabel\":{\"align\":\"left\"},\"hovermode\":\"closest\",\"mapbox\":{\"style\":\"light\"},\"paper_bgcolor\":\"white\",\"plot_bgcolor\":\"#E5ECF6\",\"polar\":{\"angularaxis\":{\"gridcolor\":\"white\",\"linecolor\":\"white\",\"ticks\":\"\"},\"bgcolor\":\"#E5ECF6\",\"radialaxis\":{\"gridcolor\":\"white\",\"linecolor\":\"white\",\"ticks\":\"\"}},\"scene\":{\"xaxis\":{\"backgroundcolor\":\"#E5ECF6\",\"gridcolor\":\"white\",\"gridwidth\":2,\"linecolor\":\"white\",\"showbackground\":true,\"ticks\":\"\",\"zerolinecolor\":\"white\"},\"yaxis\":{\"backgroundcolor\":\"#E5ECF6\",\"gridcolor\":\"white\",\"gridwidth\":2,\"linecolor\":\"white\",\"showbackground\":true,\"ticks\":\"\",\"zerolinecolor\":\"white\"},\"zaxis\":{\"backgroundcolor\":\"#E5ECF6\",\"gridcolor\":\"white\",\"gridwidth\":2,\"linecolor\":\"white\",\"showbackground\":true,\"ticks\":\"\",\"zerolinecolor\":\"white\"}},\"shapedefaults\":{\"line\":{\"color\":\"#2a3f5f\"}},\"ternary\":{\"aaxis\":{\"gridcolor\":\"white\",\"linecolor\":\"white\",\"ticks\":\"\"},\"baxis\":{\"gridcolor\":\"white\",\"linecolor\":\"white\",\"ticks\":\"\"},\"bgcolor\":\"#E5ECF6\",\"caxis\":{\"gridcolor\":\"white\",\"linecolor\":\"white\",\"ticks\":\"\"}},\"title\":{\"x\":0.05},\"xaxis\":{\"automargin\":true,\"gridcolor\":\"white\",\"linecolor\":\"white\",\"ticks\":\"\",\"title\":{\"standoff\":15},\"zerolinecolor\":\"white\",\"zerolinewidth\":2},\"yaxis\":{\"automargin\":true,\"gridcolor\":\"white\",\"linecolor\":\"white\",\"ticks\":\"\",\"title\":{\"standoff\":15},\"zerolinecolor\":\"white\",\"zerolinewidth\":2}}},\"xaxis\":{\"anchor\":\"y\",\"domain\":[0.0,1.0],\"title\":{\"text\":\"event_date\"}},\"yaxis\":{\"anchor\":\"x\",\"domain\":[0.0,1.0],\"title\":{\"text\":\"rate_change\"}},\"legend\":{\"title\":{\"text\":\"fed_chair\"},\"tracegroupgap\":0},\"title\":{\"text\":\"Change in the Fed Rate\"}},                        {\"responsive\": true}                    ).then(function(){\n",
       "                            \n",
       "var gd = document.getElementById('8fa6da78-3d19-40fd-b5d2-640a152858f5');\n",
       "var x = new MutationObserver(function (mutations, observer) {{\n",
       "        var display = window.getComputedStyle(gd).display;\n",
       "        if (!display || display === 'none') {{\n",
       "            console.log([gd, 'removed!']);\n",
       "            Plotly.purge(gd);\n",
       "            observer.disconnect();\n",
       "        }}\n",
       "}});\n",
       "\n",
       "// Listen for the removal of the full notebook cells\n",
       "var notebookContainer = gd.closest('#notebook-container');\n",
       "if (notebookContainer) {{\n",
       "    x.observe(notebookContainer, {childList: true});\n",
       "}}\n",
       "\n",
       "// Listen for the clearing of the current output cell\n",
       "var outputEl = gd.closest('.output');\n",
       "if (outputEl) {{\n",
       "    x.observe(outputEl, {childList: true});\n",
       "}}\n",
       "\n",
       "                        })                };                });            </script>        </div>"
      ]
     },
     "metadata": {},
     "output_type": "display_data"
    }
   ],
   "source": [
    "fig = px.scatter(data_frame=decision_df, \n",
    "                x='event_date', y='rate_change', \n",
    "                color=\"fed_chair\", \n",
    "                title='Change in the Fed Rate',   \n",
    "            )\n",
    "\n",
    "fig.update_traces(marker_size=3)\n",
    "\n",
    "fig.show()"
   ]
  },
  {
   "cell_type": "code",
   "execution_count": 33,
   "id": "2f2a2739-856e-4824-ae9e-670c79b6297c",
   "metadata": {},
   "outputs": [
    {
     "data": {
      "application/vnd.plotly.v1+json": {
       "config": {
        "plotlyServerURL": "https://plotly.com"
       },
       "data": [
        {
         "alignmentgroup": "True",
         "customdata": [
          [
           0
          ],
          [
           0
          ],
          [
           0
          ],
          [
           0
          ],
          [
           0
          ],
          [
           0
          ],
          [
           0
          ],
          [
           0
          ],
          [
           0
          ],
          [
           0
          ],
          [
           0
          ],
          [
           0
          ],
          [
           0
          ],
          [
           0
          ],
          [
           0
          ],
          [
           0
          ],
          [
           0
          ],
          [
           0
          ],
          [
           0
          ],
          [
           0
          ],
          [
           0
          ],
          [
           0
          ],
          [
           0
          ],
          [
           0
          ],
          [
           0
          ],
          [
           0.0025
          ],
          [
           0.0025
          ],
          [
           0.0025
          ],
          [
           0.0025
          ],
          [
           0.0025
          ],
          [
           0.0025
          ],
          [
           0
          ],
          [
           0
          ],
          [
           0
          ],
          [
           0
          ],
          [
           0
          ],
          [
           0
          ],
          [
           0
          ],
          [
           0
          ],
          [
           0
          ],
          [
           0
          ],
          [
           0
          ],
          [
           0
          ],
          [
           0
          ],
          [
           0
          ],
          [
           0
          ],
          [
           0
          ],
          [
           0
          ],
          [
           0
          ],
          [
           0
          ],
          [
           0
          ],
          [
           0
          ],
          [
           0
          ],
          [
           0
          ],
          [
           0
          ],
          [
           0
          ],
          [
           0
          ],
          [
           0
          ],
          [
           0
          ],
          [
           0
          ],
          [
           0
          ],
          [
           0
          ],
          [
           0
          ],
          [
           0
          ],
          [
           0
          ],
          [
           0
          ],
          [
           0
          ],
          [
           0
          ],
          [
           0
          ],
          [
           0
          ],
          [
           0
          ],
          [
           0
          ],
          [
           0
          ],
          [
           0
          ],
          [
           0
          ],
          [
           0
          ],
          [
           0
          ],
          [
           0
          ],
          [
           0
          ],
          [
           0
          ],
          [
           0
          ],
          [
           0
          ],
          [
           0
          ],
          [
           0
          ],
          [
           0
          ],
          [
           0
          ],
          [
           0
          ],
          [
           0
          ],
          [
           0
          ],
          [
           0
          ],
          [
           0
          ],
          [
           0
          ],
          [
           0
          ],
          [
           0
          ],
          [
           0
          ],
          [
           0
          ],
          [
           0
          ],
          [
           0
          ],
          [
           0
          ],
          [
           0
          ],
          [
           0
          ],
          [
           0
          ],
          [
           0
          ],
          [
           -0.0025
          ],
          [
           -0.0025
          ],
          [
           -0.0025
          ],
          [
           -0.0025
          ],
          [
           -0.0025
          ],
          [
           -0.0025
          ],
          [
           -0.0025
          ],
          [
           -0.0025
          ],
          [
           -0.0025
          ],
          [
           -0.0025
          ],
          [
           -0.0025
          ],
          [
           -0.0025
          ],
          [
           -0.0025
          ],
          [
           -0.0025
          ],
          [
           -0.0025
          ],
          [
           -0.0025
          ],
          [
           -0.0025
          ],
          [
           0
          ],
          [
           0
          ],
          [
           0
          ],
          [
           0
          ],
          [
           0
          ],
          [
           0
          ],
          [
           0
          ],
          [
           0
          ],
          [
           0
          ],
          [
           0
          ],
          [
           0
          ],
          [
           0
          ],
          [
           0
          ],
          [
           0
          ],
          [
           0
          ],
          [
           0
          ],
          [
           0
          ],
          [
           0
          ],
          [
           0
          ],
          [
           0
          ],
          [
           0
          ],
          [
           0
          ],
          [
           0
          ],
          [
           0
          ],
          [
           0
          ],
          [
           0
          ],
          [
           0
          ],
          [
           0
          ],
          [
           0
          ],
          [
           0
          ],
          [
           0
          ],
          [
           0
          ],
          [
           0.0025
          ],
          [
           0.0025
          ],
          [
           0.0025
          ],
          [
           0.0025
          ],
          [
           0.0025
          ],
          [
           0.0025
          ],
          [
           0.0025
          ],
          [
           0.0025
          ],
          [
           0.0025
          ],
          [
           0
          ],
          [
           0
          ],
          [
           0
          ],
          [
           0
          ],
          [
           0
          ],
          [
           0
          ],
          [
           0
          ],
          [
           0
          ],
          [
           0
          ],
          [
           0
          ],
          [
           0
          ],
          [
           0
          ],
          [
           0
          ],
          [
           0
          ],
          [
           0.0025
          ],
          [
           0.0025
          ],
          [
           0.0025
          ],
          [
           0.0025
          ],
          [
           0.0025
          ],
          [
           0.0025
          ],
          [
           0.0025
          ],
          [
           0.0025
          ],
          [
           0.0025
          ],
          [
           0.0025
          ],
          [
           0.0025
          ],
          [
           0
          ],
          [
           0
          ],
          [
           0.0025
          ],
          [
           0.0025
          ],
          [
           0.0025
          ],
          [
           0.0025
          ],
          [
           0.0025
          ],
          [
           0.0025
          ],
          [
           0.0025
          ],
          [
           0.0025
          ],
          [
           0.0025
          ],
          [
           0.0025
          ],
          [
           0.0025
          ],
          [
           0.0025
          ],
          [
           0.0025
          ],
          [
           0.005
          ],
          [
           0.005
          ],
          [
           0.005
          ],
          [
           0.005
          ],
          [
           0.005
          ],
          [
           0.005
          ],
          [
           0.005
          ],
          [
           0.005
          ],
          [
           0.005
          ],
          [
           0.005
          ],
          [
           0.005
          ],
          [
           0.005
          ],
          [
           0.005
          ],
          [
           0.005
          ],
          [
           0.005
          ],
          [
           0.005
          ],
          [
           0.005
          ],
          [
           0
          ],
          [
           0
          ],
          [
           0
          ],
          [
           0
          ],
          [
           0
          ],
          [
           0
          ],
          [
           0
          ],
          [
           0
          ],
          [
           0
          ],
          [
           0
          ],
          [
           0
          ],
          [
           0
          ],
          [
           0
          ],
          [
           0
          ],
          [
           0
          ],
          [
           0
          ],
          [
           0
          ],
          [
           0
          ],
          [
           0
          ],
          [
           0
          ],
          [
           0
          ],
          [
           0
          ],
          [
           0
          ],
          [
           0
          ],
          [
           -0.005
          ],
          [
           -0.005
          ],
          [
           -0.005
          ],
          [
           -0.005
          ],
          [
           -0.005
          ],
          [
           -0.005
          ],
          [
           -0.005
          ],
          [
           -0.005
          ],
          [
           -0.005
          ],
          [
           -0.005
          ],
          [
           -0.005
          ],
          [
           -0.005
          ],
          [
           -0.005
          ],
          [
           -0.005
          ],
          [
           -0.005
          ],
          [
           -0.005
          ],
          [
           -0.005
          ],
          [
           -0.005
          ],
          [
           -0.005
          ],
          [
           -0.005
          ],
          [
           -0.005
          ],
          [
           -0.005
          ],
          [
           -0.0025
          ],
          [
           -0.0025
          ],
          [
           -0.0025
          ],
          [
           -0.0025
          ],
          [
           -0.0025
          ],
          [
           -0.0025
          ],
          [
           -0.0025
          ],
          [
           -0.0025
          ],
          [
           -0.0025
          ],
          [
           -0.0025
          ],
          [
           -0.0025
          ],
          [
           -0.0025
          ],
          [
           -0.0025
          ],
          [
           -0.0025
          ],
          [
           -0.0025
          ],
          [
           -0.0025
          ],
          [
           -0.005
          ],
          [
           -0.005
          ],
          [
           -0.005
          ],
          [
           -0.005
          ],
          [
           -0.005
          ],
          [
           -0.005
          ],
          [
           -0.005
          ],
          [
           -0.005
          ],
          [
           -0.005
          ],
          [
           -0.005
          ],
          [
           -0.005
          ],
          [
           -0.0025
          ],
          [
           -0.0025
          ],
          [
           -0.0025
          ],
          [
           -0.0025
          ],
          [
           -0.0025
          ],
          [
           -0.0025
          ],
          [
           -0.0025
          ],
          [
           -0.0025
          ],
          [
           0
          ],
          [
           0
          ],
          [
           0
          ],
          [
           0
          ],
          [
           0
          ],
          [
           0
          ],
          [
           0
          ],
          [
           0
          ],
          [
           0
          ],
          [
           0
          ],
          [
           0
          ],
          [
           0
          ],
          [
           0
          ],
          [
           0
          ],
          [
           0
          ],
          [
           0
          ],
          [
           0
          ],
          [
           0
          ],
          [
           0
          ],
          [
           0
          ],
          [
           0
          ],
          [
           0
          ],
          [
           0
          ],
          [
           0
          ],
          [
           0
          ],
          [
           0
          ],
          [
           0
          ],
          [
           0
          ],
          [
           0
          ],
          [
           0
          ],
          [
           0
          ],
          [
           0
          ],
          [
           0
          ],
          [
           0
          ],
          [
           0
          ],
          [
           0
          ],
          [
           0
          ],
          [
           0
          ],
          [
           0
          ],
          [
           0
          ],
          [
           0
          ],
          [
           0
          ],
          [
           0
          ],
          [
           -0.005
          ],
          [
           -0.005
          ],
          [
           -0.005
          ],
          [
           -0.005
          ],
          [
           -0.005
          ],
          [
           -0.005
          ],
          [
           -0.005
          ],
          [
           -0.005
          ],
          [
           -0.005
          ],
          [
           -0.005
          ],
          [
           -0.005
          ],
          [
           -0.005
          ],
          [
           -0.005
          ],
          [
           -0.005
          ],
          [
           -0.005
          ],
          [
           -0.005
          ],
          [
           -0.005
          ],
          [
           0
          ],
          [
           0
          ],
          [
           0
          ],
          [
           0
          ],
          [
           0
          ],
          [
           0
          ],
          [
           0
          ],
          [
           0
          ],
          [
           0
          ],
          [
           0
          ],
          [
           0
          ],
          [
           0
          ],
          [
           0
          ],
          [
           0
          ],
          [
           0
          ],
          [
           0
          ],
          [
           0
          ],
          [
           0
          ],
          [
           0
          ],
          [
           0
          ],
          [
           0
          ],
          [
           0
          ],
          [
           0
          ],
          [
           0
          ],
          [
           0
          ],
          [
           0
          ],
          [
           0
          ],
          [
           0
          ],
          [
           0
          ],
          [
           0
          ],
          [
           0
          ],
          [
           0
          ],
          [
           0
          ],
          [
           0
          ],
          [
           0
          ],
          [
           0
          ],
          [
           0
          ],
          [
           0
          ],
          [
           0
          ],
          [
           0
          ],
          [
           0
          ],
          [
           -0.0025
          ],
          [
           -0.0025
          ],
          [
           -0.0025
          ],
          [
           -0.0025
          ],
          [
           -0.0025
          ],
          [
           -0.0025
          ],
          [
           -0.0025
          ],
          [
           -0.0025
          ],
          [
           -0.0025
          ],
          [
           -0.0025
          ],
          [
           -0.0025
          ],
          [
           -0.0025
          ],
          [
           -0.0025
          ],
          [
           -0.0025
          ],
          [
           -0.0025
          ],
          [
           -0.0025
          ],
          [
           0
          ],
          [
           0
          ],
          [
           0
          ],
          [
           0
          ],
          [
           0
          ],
          [
           0
          ],
          [
           0
          ],
          [
           0
          ],
          [
           0
          ],
          [
           0
          ],
          [
           0
          ],
          [
           0
          ],
          [
           0
          ],
          [
           0
          ],
          [
           0
          ],
          [
           0
          ],
          [
           0
          ],
          [
           0
          ],
          [
           0
          ],
          [
           0
          ],
          [
           0
          ],
          [
           0
          ],
          [
           0
          ],
          [
           0
          ],
          [
           0
          ],
          [
           0
          ],
          [
           0
          ],
          [
           0
          ],
          [
           0
          ],
          [
           0
          ],
          [
           0
          ],
          [
           0
          ],
          [
           0
          ],
          [
           0
          ],
          [
           0
          ],
          [
           0
          ],
          [
           0
          ],
          [
           0
          ],
          [
           0
          ],
          [
           0
          ],
          [
           0
          ],
          [
           0
          ],
          [
           0
          ],
          [
           0
          ],
          [
           0
          ],
          [
           0
          ],
          [
           0
          ],
          [
           0
          ],
          [
           0
          ],
          [
           0
          ],
          [
           0
          ],
          [
           0
          ],
          [
           0
          ],
          [
           0
          ],
          [
           0
          ],
          [
           0
          ],
          [
           0
          ],
          [
           0
          ],
          [
           0
          ],
          [
           0
          ],
          [
           0
          ],
          [
           0
          ],
          [
           0
          ],
          [
           0
          ],
          [
           0
          ],
          [
           0
          ],
          [
           0
          ],
          [
           0
          ],
          [
           0
          ],
          [
           0
          ],
          [
           0
          ],
          [
           0
          ],
          [
           0
          ],
          [
           0
          ],
          [
           0
          ],
          [
           0
          ],
          [
           0
          ],
          [
           0
          ],
          [
           0.0003
          ],
          [
           0.0003
          ],
          [
           0.0003
          ],
          [
           0.0003
          ],
          [
           0.0003
          ],
          [
           0.0003
          ],
          [
           0.0003
          ],
          [
           0.0003
          ],
          [
           0.0003
          ],
          [
           0.0003
          ],
          [
           0.0003
          ],
          [
           0.0003
          ],
          [
           0.0003
          ],
          [
           0.0003
          ],
          [
           0.0003
          ],
          [
           0.0003
          ],
          [
           0.0003
          ],
          [
           0.0003
          ],
          [
           0.0003
          ],
          [
           0.0003
          ],
          [
           0.0047
          ],
          [
           0.0047
          ],
          [
           0.0047
          ],
          [
           0.0047
          ],
          [
           0.0025
          ],
          [
           0.0025
          ],
          [
           0.0025
          ],
          [
           0.0025
          ],
          [
           0.0025
          ],
          [
           0.0025
          ],
          [
           0.0025
          ],
          [
           0.0025
          ],
          [
           0.0025
          ],
          [
           0.0025
          ],
          [
           0.0025
          ],
          [
           0.0025
          ],
          [
           0.0025
          ],
          [
           0.0025
          ],
          [
           0.0025
          ],
          [
           0.0025
          ],
          [
           0.0025
          ],
          [
           0.0025
          ],
          [
           0.0025
          ],
          [
           0.0025
          ],
          [
           0.0025
          ],
          [
           0.0025
          ],
          [
           0.0025
          ],
          [
           0.0025
          ],
          [
           0.0025
          ],
          [
           0.0025
          ],
          [
           0.0025
          ],
          [
           0.0025
          ],
          [
           0.0025
          ],
          [
           0.0025
          ],
          [
           0.0025
          ],
          [
           0.0025
          ],
          [
           0.0025
          ],
          [
           0.0025
          ],
          [
           0.0025
          ],
          [
           0.0025
          ],
          [
           0.0025
          ],
          [
           0.0025
          ],
          [
           0.0025
          ],
          [
           0.0025
          ],
          [
           0.0025
          ],
          [
           0.0025
          ],
          [
           0.0025
          ],
          [
           0.0025
          ],
          [
           0.0025
          ],
          [
           0.0025
          ],
          [
           0.0025
          ],
          [
           0.0025
          ],
          [
           0.0025
          ],
          [
           0.0025
          ],
          [
           0.0025
          ],
          [
           0.0025
          ],
          [
           0.0025
          ],
          [
           0.0025
          ],
          [
           0.0025
          ],
          [
           0.0025
          ],
          [
           0.0025
          ],
          [
           0.0025
          ],
          [
           0.0025
          ],
          [
           0.0025
          ],
          [
           0.0025
          ],
          [
           0.0025
          ],
          [
           0.0025
          ],
          [
           0.0025
          ],
          [
           0.0025
          ],
          [
           0.0025
          ],
          [
           0.0025
          ],
          [
           0.0025
          ],
          [
           0.0025
          ],
          [
           0.0025
          ],
          [
           0.0025
          ],
          [
           0.0025
          ],
          [
           0.0025
          ],
          [
           0.0025
          ],
          [
           0.0025
          ],
          [
           0.0025
          ],
          [
           0.0025
          ],
          [
           0.0025
          ],
          [
           0.0025
          ],
          [
           0.0025
          ],
          [
           0.0025
          ],
          [
           0.0025
          ],
          [
           0.0025
          ],
          [
           0.0025
          ],
          [
           0.0025
          ],
          [
           0.0025
          ],
          [
           0.0025
          ],
          [
           0.0025
          ],
          [
           0.0025
          ],
          [
           0.0025
          ],
          [
           0.0025
          ],
          [
           0.0025
          ],
          [
           0.0025
          ],
          [
           0.0025
          ],
          [
           0.0025
          ],
          [
           0.0025
          ],
          [
           0.0025
          ],
          [
           0.0025
          ],
          [
           0.0025
          ],
          [
           0.0025
          ],
          [
           0.0025
          ],
          [
           0.0025
          ],
          [
           0.0025
          ],
          [
           0.0025
          ],
          [
           0.0025
          ],
          [
           0.0025
          ],
          [
           0.0025
          ],
          [
           0.0025
          ],
          [
           0.0025
          ],
          [
           0.0025
          ],
          [
           0.0025
          ],
          [
           0.0025
          ],
          [
           0.0025
          ],
          [
           0.0025
          ],
          [
           0.0025
          ],
          [
           0.0025
          ],
          [
           0.0025
          ],
          [
           0.0025
          ]
         ],
         "hovertemplate": "fed_chair=Alan Greenspan<br>count=%{x}<br>action=%{y}<br>rate_change=%{customdata[0]}<extra></extra>",
         "legendgroup": "Alan Greenspan",
         "marker": {
          "color": "#636efa",
          "pattern": {
           "shape": ""
          }
         },
         "name": "Alan Greenspan",
         "offsetgroup": "Alan Greenspan",
         "orientation": "h",
         "showlegend": true,
         "textposition": "auto",
         "type": "bar",
         "x": [
          1,
          1,
          1,
          1,
          1,
          1,
          1,
          1,
          1,
          1,
          1,
          1,
          1,
          1,
          1,
          1,
          1,
          1,
          1,
          1,
          1,
          1,
          1,
          1,
          1,
          1,
          1,
          1,
          1,
          1,
          1,
          1,
          1,
          1,
          1,
          1,
          1,
          1,
          1,
          1,
          1,
          1,
          1,
          1,
          1,
          1,
          1,
          1,
          1,
          1,
          1,
          1,
          1,
          1,
          1,
          1,
          1,
          1,
          1,
          1,
          1,
          1,
          1,
          1,
          1,
          1,
          1,
          1,
          1,
          1,
          1,
          1,
          1,
          1,
          1,
          1,
          1,
          1,
          1,
          1,
          1,
          1,
          1,
          1,
          1,
          1,
          1,
          1,
          1,
          1,
          1,
          1,
          1,
          1,
          1,
          1,
          1,
          1,
          1,
          1,
          1,
          1,
          1,
          1,
          1,
          1,
          1,
          1,
          1,
          1,
          1,
          1,
          1,
          1,
          1,
          1,
          1,
          1,
          1,
          1,
          1,
          1,
          1,
          1,
          1,
          1,
          1,
          1,
          1,
          1,
          1,
          1,
          1,
          1,
          1,
          1,
          1,
          1,
          1,
          1,
          1,
          1,
          1,
          1,
          1,
          1,
          1,
          1,
          1,
          1,
          1,
          1,
          1,
          1,
          1,
          1,
          1,
          1,
          1,
          1,
          1,
          1,
          1,
          1,
          1,
          1,
          1,
          1,
          1,
          1,
          1,
          1,
          1,
          1,
          1,
          1,
          1,
          1,
          1,
          1,
          1,
          1,
          1,
          1,
          1,
          1,
          1,
          1,
          1,
          1,
          1,
          1,
          1,
          1,
          1,
          1,
          1,
          1,
          1,
          1,
          1,
          1,
          1,
          1,
          1,
          1,
          1,
          1,
          1,
          1,
          1,
          1,
          1,
          1,
          1,
          1,
          1,
          1,
          1,
          1,
          1,
          1,
          1,
          1,
          1,
          1,
          1,
          1,
          1,
          1,
          1,
          1,
          1,
          1,
          1,
          1,
          1,
          1,
          1,
          1,
          1,
          1,
          1,
          1,
          1,
          1,
          1,
          1,
          1,
          1,
          1,
          1,
          1,
          1,
          1,
          1,
          1,
          1,
          1,
          1,
          1,
          1,
          1,
          1,
          1,
          1,
          1,
          1,
          1,
          1,
          1,
          1,
          1,
          1,
          1,
          1,
          1,
          1,
          1,
          1,
          1,
          1,
          1,
          1,
          1,
          1,
          1,
          1,
          1,
          1,
          1,
          1,
          1,
          1,
          1,
          1,
          1,
          1,
          1,
          1,
          1,
          1,
          1,
          1,
          1,
          1,
          1,
          1,
          1,
          1,
          1,
          1,
          1,
          1,
          1,
          1,
          1,
          1,
          1,
          1,
          1,
          1,
          1,
          1,
          1,
          1,
          1,
          1,
          1,
          1,
          1,
          1,
          1,
          1,
          1,
          1,
          1,
          1,
          1,
          1,
          1,
          1,
          1,
          1,
          1,
          1,
          1,
          1,
          1,
          1,
          1,
          1,
          1,
          1,
          1,
          1,
          1,
          1,
          1,
          1,
          1,
          1,
          1,
          1,
          1,
          1,
          1,
          1,
          1,
          1,
          1,
          1,
          1,
          1,
          1,
          1,
          1,
          1,
          1,
          1,
          1,
          1,
          1,
          1,
          1,
          1,
          1,
          1,
          1,
          1,
          1,
          1,
          1,
          1,
          1,
          1,
          1,
          1,
          1,
          1,
          1,
          1,
          1,
          1,
          1,
          1,
          1,
          1,
          1,
          1,
          1,
          1,
          1,
          1,
          1,
          1,
          1,
          1,
          1,
          1,
          1,
          1,
          1,
          1,
          1,
          1,
          1,
          1,
          1,
          1,
          1,
          1,
          1,
          1,
          1,
          1,
          1,
          1,
          1,
          1,
          1,
          1,
          1,
          1,
          1,
          1,
          1,
          1,
          1,
          1,
          1,
          1,
          1,
          1,
          1,
          1,
          1,
          1,
          1,
          1,
          1,
          1,
          1,
          1,
          1,
          1,
          1,
          1,
          1,
          1,
          1,
          1,
          1,
          1,
          1,
          1,
          1,
          1,
          1,
          1,
          1,
          1,
          1,
          1,
          1,
          1,
          1,
          1,
          1,
          1,
          1,
          1,
          1,
          1,
          1,
          1,
          1,
          1,
          1,
          1,
          1,
          1,
          1,
          1,
          1,
          1,
          1,
          1,
          1,
          1,
          1,
          1,
          1,
          1,
          1,
          1,
          1,
          1,
          1,
          1,
          1,
          1,
          1,
          1,
          1,
          1,
          1,
          1,
          1,
          1,
          1,
          1,
          1,
          1,
          1,
          1,
          1,
          1,
          1,
          1,
          1,
          1,
          1,
          1,
          1,
          1,
          1,
          1,
          1,
          1,
          1,
          1,
          1,
          1,
          1,
          1,
          1,
          1,
          1,
          1,
          1,
          1,
          1,
          1,
          1,
          1,
          1,
          1,
          1,
          1,
          1,
          1,
          1,
          1,
          1,
          1,
          1,
          1,
          1,
          1,
          1,
          1,
          1,
          1,
          1,
          1,
          1,
          1,
          1,
          1,
          1,
          1,
          1,
          1,
          1,
          1,
          1,
          1,
          1,
          1,
          1,
          1,
          1,
          1,
          1,
          1,
          1,
          1,
          1,
          1,
          1,
          1,
          1,
          1,
          1,
          1,
          1,
          1,
          1,
          1,
          1,
          1,
          1,
          1,
          1,
          1,
          1,
          1,
          1,
          1,
          1,
          1,
          1,
          1,
          1,
          1
         ],
         "xaxis": "x",
         "y": [
          "no change",
          "no change",
          "no change",
          "no change",
          "no change",
          "no change",
          "no change",
          "no change",
          "no change",
          "no change",
          "no change",
          "no change",
          "no change",
          "no change",
          "no change",
          "no change",
          "no change",
          "no change",
          "no change",
          "no change",
          "no change",
          "no change",
          "no change",
          "no change",
          "no change",
          "decrease",
          "decrease",
          "decrease",
          "decrease",
          "decrease",
          "decrease",
          "no change",
          "no change",
          "no change",
          "no change",
          "no change",
          "no change",
          "no change",
          "no change",
          "no change",
          "no change",
          "no change",
          "no change",
          "no change",
          "no change",
          "no change",
          "no change",
          "no change",
          "no change",
          "no change",
          "no change",
          "no change",
          "no change",
          "no change",
          "no change",
          "no change",
          "no change",
          "no change",
          "no change",
          "no change",
          "no change",
          "no change",
          "no change",
          "no change",
          "no change",
          "no change",
          "no change",
          "no change",
          "no change",
          "no change",
          "no change",
          "no change",
          "no change",
          "no change",
          "no change",
          "no change",
          "no change",
          "no change",
          "no change",
          "no change",
          "no change",
          "no change",
          "no change",
          "no change",
          "no change",
          "no change",
          "no change",
          "no change",
          "no change",
          "no change",
          "no change",
          "no change",
          "no change",
          "no change",
          "no change",
          "no change",
          "no change",
          "no change",
          "no change",
          "no change",
          "no change",
          "no change",
          "no change",
          "decrease",
          "decrease",
          "decrease",
          "decrease",
          "decrease",
          "decrease",
          "decrease",
          "decrease",
          "decrease",
          "decrease",
          "decrease",
          "decrease",
          "decrease",
          "decrease",
          "decrease",
          "decrease",
          "decrease",
          "no change",
          "no change",
          "no change",
          "no change",
          "no change",
          "no change",
          "no change",
          "no change",
          "no change",
          "no change",
          "no change",
          "no change",
          "no change",
          "no change",
          "no change",
          "no change",
          "no change",
          "no change",
          "no change",
          "no change",
          "no change",
          "no change",
          "no change",
          "no change",
          "no change",
          "no change",
          "no change",
          "no change",
          "no change",
          "no change",
          "no change",
          "no change",
          "increase",
          "increase",
          "increase",
          "increase",
          "increase",
          "increase",
          "increase",
          "increase",
          "increase",
          "no change",
          "no change",
          "no change",
          "no change",
          "no change",
          "no change",
          "no change",
          "no change",
          "no change",
          "no change",
          "no change",
          "no change",
          "no change",
          "no change",
          "increase",
          "increase",
          "increase",
          "increase",
          "increase",
          "increase",
          "increase",
          "increase",
          "increase",
          "increase",
          "increase",
          "no change",
          "no change",
          "increase",
          "increase",
          "increase",
          "increase",
          "increase",
          "increase",
          "increase",
          "increase",
          "increase",
          "increase",
          "increase",
          "increase",
          "increase",
          "increase",
          "increase",
          "increase",
          "increase",
          "increase",
          "increase",
          "increase",
          "increase",
          "increase",
          "increase",
          "increase",
          "increase",
          "increase",
          "increase",
          "increase",
          "increase",
          "increase",
          "no change",
          "no change",
          "no change",
          "no change",
          "no change",
          "no change",
          "no change",
          "no change",
          "no change",
          "no change",
          "no change",
          "no change",
          "no change",
          "no change",
          "no change",
          "no change",
          "no change",
          "no change",
          "no change",
          "no change",
          "no change",
          "no change",
          "no change",
          "no change",
          "decrease",
          "decrease",
          "decrease",
          "decrease",
          "decrease",
          "decrease",
          "decrease",
          "decrease",
          "decrease",
          "decrease",
          "decrease",
          "decrease",
          "decrease",
          "decrease",
          "decrease",
          "decrease",
          "decrease",
          "decrease",
          "decrease",
          "decrease",
          "decrease",
          "decrease",
          "decrease",
          "decrease",
          "decrease",
          "decrease",
          "decrease",
          "decrease",
          "decrease",
          "decrease",
          "decrease",
          "decrease",
          "decrease",
          "decrease",
          "decrease",
          "decrease",
          "decrease",
          "decrease",
          "decrease",
          "decrease",
          "decrease",
          "decrease",
          "decrease",
          "decrease",
          "decrease",
          "decrease",
          "decrease",
          "decrease",
          "decrease",
          "decrease",
          "decrease",
          "decrease",
          "decrease",
          "decrease",
          "decrease",
          "decrease",
          "decrease",
          "no change",
          "no change",
          "no change",
          "no change",
          "no change",
          "no change",
          "no change",
          "no change",
          "no change",
          "no change",
          "no change",
          "no change",
          "no change",
          "no change",
          "no change",
          "no change",
          "no change",
          "no change",
          "no change",
          "no change",
          "no change",
          "no change",
          "no change",
          "no change",
          "no change",
          "no change",
          "no change",
          "no change",
          "no change",
          "no change",
          "no change",
          "no change",
          "no change",
          "no change",
          "no change",
          "no change",
          "no change",
          "no change",
          "no change",
          "no change",
          "no change",
          "no change",
          "no change",
          "decrease",
          "decrease",
          "decrease",
          "decrease",
          "decrease",
          "decrease",
          "decrease",
          "decrease",
          "decrease",
          "decrease",
          "decrease",
          "decrease",
          "decrease",
          "decrease",
          "decrease",
          "decrease",
          "decrease",
          "no change",
          "no change",
          "no change",
          "no change",
          "no change",
          "no change",
          "no change",
          "no change",
          "no change",
          "no change",
          "no change",
          "no change",
          "no change",
          "no change",
          "no change",
          "no change",
          "no change",
          "no change",
          "no change",
          "no change",
          "no change",
          "no change",
          "no change",
          "no change",
          "no change",
          "no change",
          "no change",
          "no change",
          "no change",
          "no change",
          "no change",
          "no change",
          "no change",
          "no change",
          "no change",
          "no change",
          "no change",
          "no change",
          "no change",
          "no change",
          "no change",
          "decrease",
          "decrease",
          "decrease",
          "decrease",
          "decrease",
          "decrease",
          "decrease",
          "decrease",
          "decrease",
          "decrease",
          "decrease",
          "decrease",
          "decrease",
          "decrease",
          "decrease",
          "decrease",
          "no change",
          "no change",
          "no change",
          "no change",
          "no change",
          "no change",
          "no change",
          "no change",
          "no change",
          "no change",
          "no change",
          "no change",
          "no change",
          "no change",
          "no change",
          "no change",
          "no change",
          "no change",
          "no change",
          "no change",
          "no change",
          "no change",
          "no change",
          "no change",
          "no change",
          "no change",
          "no change",
          "no change",
          "no change",
          "no change",
          "no change",
          "no change",
          "no change",
          "no change",
          "no change",
          "no change",
          "no change",
          "no change",
          "no change",
          "no change",
          "no change",
          "no change",
          "no change",
          "no change",
          "no change",
          "no change",
          "no change",
          "no change",
          "no change",
          "no change",
          "no change",
          "no change",
          "no change",
          "no change",
          "no change",
          "no change",
          "no change",
          "no change",
          "no change",
          "no change",
          "no change",
          "no change",
          "no change",
          "no change",
          "no change",
          "no change",
          "no change",
          "no change",
          "no change",
          "no change",
          "no change",
          "no change",
          "no change",
          "no change",
          "no change",
          "no change",
          "no change",
          "no change",
          "increase",
          "increase",
          "increase",
          "increase",
          "increase",
          "increase",
          "increase",
          "increase",
          "increase",
          "increase",
          "increase",
          "increase",
          "increase",
          "increase",
          "increase",
          "increase",
          "increase",
          "increase",
          "increase",
          "increase",
          "increase",
          "increase",
          "increase",
          "increase",
          "increase",
          "increase",
          "increase",
          "increase",
          "increase",
          "increase",
          "increase",
          "increase",
          "increase",
          "increase",
          "increase",
          "increase",
          "increase",
          "increase",
          "increase",
          "increase",
          "increase",
          "increase",
          "increase",
          "increase",
          "increase",
          "increase",
          "increase",
          "increase",
          "increase",
          "increase",
          "increase",
          "increase",
          "increase",
          "increase",
          "increase",
          "increase",
          "increase",
          "increase",
          "increase",
          "increase",
          "increase",
          "increase",
          "increase",
          "increase",
          "increase",
          "increase",
          "increase",
          "increase",
          "increase",
          "increase",
          "increase",
          "increase",
          "increase",
          "increase",
          "increase",
          "increase",
          "increase",
          "increase",
          "increase",
          "increase",
          "increase",
          "increase",
          "increase",
          "increase",
          "increase",
          "increase",
          "increase",
          "increase",
          "increase",
          "increase",
          "increase",
          "increase",
          "increase",
          "increase",
          "increase",
          "increase",
          "increase",
          "increase",
          "increase",
          "increase",
          "increase",
          "increase",
          "increase",
          "increase",
          "increase",
          "increase",
          "increase",
          "increase",
          "increase",
          "increase",
          "increase",
          "increase",
          "increase",
          "increase",
          "increase",
          "increase",
          "increase",
          "increase",
          "increase",
          "increase",
          "increase",
          "increase",
          "increase",
          "increase",
          "increase",
          "increase",
          "increase",
          "increase",
          "increase",
          "increase",
          "increase",
          "increase",
          "increase",
          "increase",
          "increase",
          "increase",
          "increase",
          "increase",
          "increase",
          "increase",
          "increase",
          "increase"
         ],
         "yaxis": "y"
        },
        {
         "alignmentgroup": "True",
         "customdata": [
          [
           0.0025
          ],
          [
           0.0025
          ],
          [
           0.0025
          ],
          [
           0.0025
          ],
          [
           0.0025
          ],
          [
           0.0025
          ],
          [
           0.0025
          ],
          [
           0.0025
          ],
          [
           0.0025
          ],
          [
           0.0025
          ],
          [
           0.0025
          ],
          [
           0.0025
          ],
          [
           0.0025
          ],
          [
           0.0025
          ],
          [
           0.0025
          ],
          [
           0.0025
          ],
          [
           0.0025
          ],
          [
           0.0025
          ],
          [
           0.0025
          ],
          [
           0.0025
          ],
          [
           0.0025
          ],
          [
           0.0025
          ],
          [
           0.0025
          ],
          [
           0.0025
          ],
          [
           0.0025
          ],
          [
           0.0025
          ],
          [
           0.0025
          ],
          [
           0.0025
          ],
          [
           0.0025
          ],
          [
           0.0025
          ],
          [
           0.0025
          ],
          [
           0.0025
          ],
          [
           0.0025
          ],
          [
           0.0025
          ],
          [
           0.0025
          ],
          [
           0.0025
          ],
          [
           0.0025
          ],
          [
           0.0025
          ],
          [
           0.0025
          ],
          [
           0.0025
          ],
          [
           0.0025
          ],
          [
           0.0025
          ],
          [
           0.0025
          ],
          [
           0.0025
          ],
          [
           0.0025
          ],
          [
           0.0025
          ],
          [
           0.0025
          ],
          [
           0
          ],
          [
           0
          ],
          [
           0
          ],
          [
           0
          ],
          [
           0
          ],
          [
           0
          ],
          [
           0
          ],
          [
           0
          ],
          [
           0
          ],
          [
           0
          ],
          [
           0
          ],
          [
           0
          ],
          [
           0
          ],
          [
           0
          ],
          [
           0
          ],
          [
           0
          ],
          [
           0
          ],
          [
           0
          ],
          [
           0
          ],
          [
           0
          ],
          [
           0
          ],
          [
           0
          ],
          [
           0
          ],
          [
           0
          ],
          [
           0
          ],
          [
           0
          ],
          [
           0
          ],
          [
           0
          ],
          [
           0
          ],
          [
           0
          ],
          [
           0
          ],
          [
           0
          ],
          [
           0
          ],
          [
           0
          ],
          [
           0
          ],
          [
           0
          ],
          [
           0
          ],
          [
           0
          ],
          [
           0
          ],
          [
           0
          ],
          [
           0
          ],
          [
           0
          ],
          [
           0
          ],
          [
           0
          ],
          [
           0
          ],
          [
           0
          ],
          [
           0
          ],
          [
           0
          ],
          [
           0
          ],
          [
           0
          ],
          [
           0
          ],
          [
           0
          ],
          [
           0
          ],
          [
           0
          ],
          [
           0
          ],
          [
           0
          ],
          [
           0
          ],
          [
           0
          ],
          [
           0
          ],
          [
           0
          ],
          [
           0
          ],
          [
           0
          ],
          [
           0
          ],
          [
           0
          ],
          [
           0
          ],
          [
           0
          ],
          [
           0
          ],
          [
           0
          ],
          [
           -0.005
          ],
          [
           -0.005
          ],
          [
           -0.005
          ],
          [
           -0.005
          ],
          [
           -0.0025
          ],
          [
           -0.0025
          ],
          [
           -0.0025
          ],
          [
           -0.0025
          ],
          [
           -0.0025
          ],
          [
           -0.0025
          ],
          [
           -0.0025
          ],
          [
           -0.0025
          ],
          [
           -0.0025
          ],
          [
           -0.0025
          ],
          [
           -0.0025
          ],
          [
           -0.0025
          ],
          [
           -0.0025
          ],
          [
           -0.0025
          ],
          [
           -0.0025
          ],
          [
           -0.0025
          ],
          [
           -0.0025
          ],
          [
           -0.0025
          ],
          [
           -0.0025
          ],
          [
           -0.0025
          ],
          [
           -0.0025
          ],
          [
           -0.0025
          ],
          [
           -0.0025
          ],
          [
           -0.0025
          ],
          [
           -0.0025
          ],
          [
           -0.0075
          ],
          [
           -0.0075
          ],
          [
           -0.0075
          ],
          [
           -0.0075
          ],
          [
           -0.0075
          ],
          [
           -0.0075
          ],
          [
           -0.0075
          ],
          [
           -0.0075
          ],
          [
           -0.0075
          ],
          [
           -0.0075
          ],
          [
           -0.0075
          ],
          [
           -0.0075
          ],
          [
           -0.0075
          ],
          [
           -0.0075
          ],
          [
           -0.0075
          ],
          [
           -0.0075
          ],
          [
           -0.0075
          ],
          [
           -0.0075
          ],
          [
           -0.0025
          ],
          [
           -0.0025
          ],
          [
           -0.0025
          ],
          [
           -0.0025
          ],
          [
           -0.0025
          ],
          [
           -0.0025
          ],
          [
           -0.0025
          ],
          [
           -0.0025
          ],
          [
           -0.0025
          ],
          [
           -0.0025
          ],
          [
           0
          ],
          [
           0
          ],
          [
           0
          ],
          [
           0
          ],
          [
           0
          ],
          [
           0
          ],
          [
           0
          ],
          [
           0
          ],
          [
           0
          ],
          [
           0
          ],
          [
           0
          ],
          [
           0
          ],
          [
           0
          ],
          [
           0
          ],
          [
           0
          ],
          [
           0
          ],
          [
           0
          ],
          [
           0
          ],
          [
           0
          ],
          [
           0
          ],
          [
           0
          ],
          [
           0
          ],
          [
           0
          ],
          [
           0
          ],
          [
           0
          ],
          [
           0
          ],
          [
           0
          ],
          [
           0
          ],
          [
           0
          ],
          [
           -0.005
          ],
          [
           -0.005
          ],
          [
           -0.005
          ],
          [
           -0.005
          ],
          [
           -0.005
          ],
          [
           -0.005
          ],
          [
           -0.005
          ],
          [
           -0.005
          ],
          [
           -0.005
          ],
          [
           -0.0075
          ],
          [
           -0.0075
          ],
          [
           -0.0075
          ],
          [
           -0.0075
          ],
          [
           -0.0075
          ],
          [
           -0.0075
          ],
          [
           -0.0075
          ],
          [
           0
          ],
          [
           0
          ],
          [
           0
          ],
          [
           0
          ],
          [
           0
          ],
          [
           0
          ],
          [
           0
          ],
          [
           0
          ],
          [
           0
          ],
          [
           0
          ],
          [
           0
          ],
          [
           0
          ],
          [
           0
          ],
          [
           0
          ],
          [
           0
          ],
          [
           0
          ],
          [
           0
          ],
          [
           0
          ],
          [
           0
          ],
          [
           0
          ],
          [
           0
          ],
          [
           0
          ],
          [
           0
          ],
          [
           0
          ],
          [
           0
          ],
          [
           0
          ],
          [
           0
          ],
          [
           0
          ],
          [
           0
          ],
          [
           0
          ],
          [
           0
          ],
          [
           0
          ],
          [
           0
          ],
          [
           0
          ],
          [
           0
          ],
          [
           0
          ],
          [
           0
          ],
          [
           0
          ],
          [
           0
          ],
          [
           0
          ],
          [
           0
          ],
          [
           0
          ],
          [
           0
          ],
          [
           0
          ],
          [
           0
          ],
          [
           0
          ],
          [
           0
          ],
          [
           0
          ],
          [
           0
          ],
          [
           0
          ],
          [
           0
          ],
          [
           0
          ],
          [
           0
          ],
          [
           0
          ],
          [
           0
          ],
          [
           0
          ],
          [
           0
          ],
          [
           0
          ],
          [
           0
          ],
          [
           0
          ],
          [
           0
          ],
          [
           0
          ],
          [
           0
          ],
          [
           0
          ],
          [
           0
          ],
          [
           0
          ],
          [
           0
          ],
          [
           0
          ],
          [
           0
          ],
          [
           0
          ],
          [
           0
          ],
          [
           0
          ],
          [
           0
          ],
          [
           0
          ],
          [
           0
          ],
          [
           0
          ],
          [
           0
          ],
          [
           0
          ],
          [
           0
          ],
          [
           0
          ],
          [
           0
          ],
          [
           0
          ],
          [
           0
          ],
          [
           0
          ],
          [
           0
          ],
          [
           0
          ],
          [
           0
          ],
          [
           0
          ],
          [
           0
          ],
          [
           0
          ],
          [
           0
          ],
          [
           0
          ],
          [
           0
          ],
          [
           0
          ],
          [
           0
          ],
          [
           0
          ],
          [
           0
          ],
          [
           0
          ],
          [
           0
          ],
          [
           0
          ],
          [
           0
          ],
          [
           0
          ],
          [
           0
          ],
          [
           0
          ],
          [
           0
          ],
          [
           0
          ],
          [
           0
          ],
          [
           0
          ],
          [
           0
          ],
          [
           0
          ],
          [
           0
          ],
          [
           0
          ],
          [
           0
          ],
          [
           0
          ],
          [
           0
          ],
          [
           0
          ],
          [
           0
          ],
          [
           0
          ],
          [
           0
          ],
          [
           0
          ],
          [
           0
          ],
          [
           0
          ],
          [
           0
          ],
          [
           0
          ],
          [
           0
          ],
          [
           0
          ],
          [
           0
          ],
          [
           0
          ],
          [
           0
          ],
          [
           0
          ],
          [
           0
          ],
          [
           0
          ],
          [
           0
          ],
          [
           0
          ],
          [
           0
          ],
          [
           0
          ],
          [
           0
          ],
          [
           0
          ],
          [
           0
          ],
          [
           0
          ],
          [
           0
          ],
          [
           0
          ],
          [
           0
          ],
          [
           0
          ],
          [
           0
          ],
          [
           0
          ],
          [
           0
          ],
          [
           0
          ],
          [
           0
          ],
          [
           0
          ],
          [
           0
          ],
          [
           0
          ],
          [
           0
          ],
          [
           0
          ],
          [
           0
          ],
          [
           0
          ],
          [
           0
          ],
          [
           0
          ],
          [
           0
          ],
          [
           0
          ],
          [
           0
          ],
          [
           0
          ],
          [
           0
          ],
          [
           0
          ],
          [
           0
          ],
          [
           0
          ],
          [
           0
          ],
          [
           0
          ],
          [
           0
          ],
          [
           0
          ],
          [
           0
          ],
          [
           0
          ],
          [
           0
          ],
          [
           0
          ],
          [
           0
          ],
          [
           0
          ],
          [
           0
          ],
          [
           0
          ],
          [
           0
          ],
          [
           0
          ],
          [
           0
          ],
          [
           0
          ],
          [
           0
          ],
          [
           0
          ],
          [
           0
          ],
          [
           0
          ],
          [
           0
          ],
          [
           0
          ],
          [
           0
          ],
          [
           0
          ],
          [
           0
          ],
          [
           0
          ],
          [
           0
          ],
          [
           0
          ],
          [
           0
          ],
          [
           0
          ],
          [
           0
          ],
          [
           0
          ],
          [
           0
          ],
          [
           0
          ],
          [
           0
          ],
          [
           0
          ],
          [
           0
          ],
          [
           0
          ],
          [
           0
          ],
          [
           0
          ],
          [
           0
          ],
          [
           0
          ],
          [
           0
          ],
          [
           0
          ],
          [
           0
          ],
          [
           0
          ],
          [
           0
          ],
          [
           0
          ],
          [
           0
          ],
          [
           0
          ],
          [
           0
          ],
          [
           0
          ],
          [
           0
          ],
          [
           0
          ],
          [
           0
          ],
          [
           0
          ],
          [
           0
          ],
          [
           0
          ],
          [
           0
          ],
          [
           0
          ],
          [
           0
          ],
          [
           0
          ],
          [
           0
          ],
          [
           0
          ],
          [
           0
          ],
          [
           0
          ],
          [
           0
          ],
          [
           0
          ],
          [
           0
          ],
          [
           0
          ],
          [
           0
          ],
          [
           0
          ],
          [
           0
          ],
          [
           0
          ],
          [
           0
          ],
          [
           0
          ],
          [
           0
          ],
          [
           0
          ],
          [
           0
          ],
          [
           0
          ],
          [
           0
          ],
          [
           0
          ],
          [
           0
          ],
          [
           0
          ],
          [
           0
          ],
          [
           0
          ],
          [
           0
          ],
          [
           0
          ],
          [
           0
          ],
          [
           0
          ],
          [
           0
          ],
          [
           0
          ],
          [
           0
          ],
          [
           0
          ],
          [
           0
          ],
          [
           0
          ],
          [
           0
          ],
          [
           0
          ],
          [
           0
          ],
          [
           0
          ],
          [
           0
          ],
          [
           0
          ],
          [
           0
          ],
          [
           0
          ],
          [
           0
          ],
          [
           0
          ],
          [
           0
          ],
          [
           0
          ],
          [
           0
          ],
          [
           0
          ],
          [
           0
          ],
          [
           0
          ],
          [
           0
          ],
          [
           0
          ],
          [
           0
          ],
          [
           0
          ],
          [
           0
          ],
          [
           0
          ],
          [
           0
          ],
          [
           0
          ],
          [
           0
          ],
          [
           0
          ],
          [
           0
          ],
          [
           0
          ],
          [
           0
          ],
          [
           0
          ],
          [
           0
          ],
          [
           0
          ],
          [
           0
          ],
          [
           0
          ],
          [
           0
          ],
          [
           0
          ],
          [
           0
          ],
          [
           0
          ],
          [
           0
          ],
          [
           0
          ],
          [
           0
          ],
          [
           0
          ],
          [
           0
          ],
          [
           0
          ],
          [
           0
          ],
          [
           0
          ],
          [
           0
          ],
          [
           0
          ],
          [
           0
          ],
          [
           0
          ],
          [
           0
          ],
          [
           0
          ],
          [
           0
          ],
          [
           0
          ],
          [
           0
          ],
          [
           0
          ],
          [
           0
          ],
          [
           0
          ],
          [
           0
          ],
          [
           0
          ],
          [
           0
          ],
          [
           0
          ],
          [
           0
          ],
          [
           0
          ],
          [
           0
          ],
          [
           0
          ],
          [
           0
          ],
          [
           0
          ],
          [
           0
          ],
          [
           0
          ],
          [
           0
          ],
          [
           0
          ],
          [
           0
          ],
          [
           0
          ],
          [
           0
          ],
          [
           0
          ],
          [
           0
          ]
         ],
         "hovertemplate": "fed_chair=Ben Bernanke<br>count=%{x}<br>action=%{y}<br>rate_change=%{customdata[0]}<extra></extra>",
         "legendgroup": "Ben Bernanke",
         "marker": {
          "color": "#EF553B",
          "pattern": {
           "shape": ""
          }
         },
         "name": "Ben Bernanke",
         "offsetgroup": "Ben Bernanke",
         "orientation": "h",
         "showlegend": true,
         "textposition": "auto",
         "type": "bar",
         "x": [
          1,
          1,
          1,
          1,
          1,
          1,
          1,
          1,
          1,
          1,
          1,
          1,
          1,
          1,
          1,
          1,
          1,
          1,
          1,
          1,
          1,
          1,
          1,
          1,
          1,
          1,
          1,
          1,
          1,
          1,
          1,
          1,
          1,
          1,
          1,
          1,
          1,
          1,
          1,
          1,
          1,
          1,
          1,
          1,
          1,
          1,
          1,
          1,
          1,
          1,
          1,
          1,
          1,
          1,
          1,
          1,
          1,
          1,
          1,
          1,
          1,
          1,
          1,
          1,
          1,
          1,
          1,
          1,
          1,
          1,
          1,
          1,
          1,
          1,
          1,
          1,
          1,
          1,
          1,
          1,
          1,
          1,
          1,
          1,
          1,
          1,
          1,
          1,
          1,
          1,
          1,
          1,
          1,
          1,
          1,
          1,
          1,
          1,
          1,
          1,
          1,
          1,
          1,
          1,
          1,
          1,
          1,
          1,
          1,
          1,
          1,
          1,
          1,
          1,
          1,
          1,
          1,
          1,
          1,
          1,
          1,
          1,
          1,
          1,
          1,
          1,
          1,
          1,
          1,
          1,
          1,
          1,
          1,
          1,
          1,
          1,
          1,
          1,
          1,
          1,
          1,
          1,
          1,
          1,
          1,
          1,
          1,
          1,
          1,
          1,
          1,
          1,
          1,
          1,
          1,
          1,
          1,
          1,
          1,
          1,
          1,
          1,
          1,
          1,
          1,
          1,
          1,
          1,
          1,
          1,
          1,
          1,
          1,
          1,
          1,
          1,
          1,
          1,
          1,
          1,
          1,
          1,
          1,
          1,
          1,
          1,
          1,
          1,
          1,
          1,
          1,
          1,
          1,
          1,
          1,
          1,
          1,
          1,
          1,
          1,
          1,
          1,
          1,
          1,
          1,
          1,
          1,
          1,
          1,
          1,
          1,
          1,
          1,
          1,
          1,
          1,
          1,
          1,
          1,
          1,
          1,
          1,
          1,
          1,
          1,
          1,
          1,
          1,
          1,
          1,
          1,
          1,
          1,
          1,
          1,
          1,
          1,
          1,
          1,
          1,
          1,
          1,
          1,
          1,
          1,
          1,
          1,
          1,
          1,
          1,
          1,
          1,
          1,
          1,
          1,
          1,
          1,
          1,
          1,
          1,
          1,
          1,
          1,
          1,
          1,
          1,
          1,
          1,
          1,
          1,
          1,
          1,
          1,
          1,
          1,
          1,
          1,
          1,
          1,
          1,
          1,
          1,
          1,
          1,
          1,
          1,
          1,
          1,
          1,
          1,
          1,
          1,
          1,
          1,
          1,
          1,
          1,
          1,
          1,
          1,
          1,
          1,
          1,
          1,
          1,
          1,
          1,
          1,
          1,
          1,
          1,
          1,
          1,
          1,
          1,
          1,
          1,
          1,
          1,
          1,
          1,
          1,
          1,
          1,
          1,
          1,
          1,
          1,
          1,
          1,
          1,
          1,
          1,
          1,
          1,
          1,
          1,
          1,
          1,
          1,
          1,
          1,
          1,
          1,
          1,
          1,
          1,
          1,
          1,
          1,
          1,
          1,
          1,
          1,
          1,
          1,
          1,
          1,
          1,
          1,
          1,
          1,
          1,
          1,
          1,
          1,
          1,
          1,
          1,
          1,
          1,
          1,
          1,
          1,
          1,
          1,
          1,
          1,
          1,
          1,
          1,
          1,
          1,
          1,
          1,
          1,
          1,
          1,
          1,
          1,
          1,
          1,
          1,
          1,
          1,
          1,
          1,
          1,
          1,
          1,
          1,
          1,
          1,
          1,
          1,
          1,
          1,
          1,
          1,
          1,
          1,
          1,
          1,
          1,
          1,
          1,
          1,
          1,
          1,
          1,
          1,
          1,
          1,
          1,
          1,
          1,
          1,
          1,
          1,
          1,
          1,
          1,
          1,
          1,
          1,
          1,
          1,
          1,
          1,
          1,
          1,
          1,
          1,
          1,
          1,
          1,
          1,
          1,
          1,
          1,
          1,
          1,
          1,
          1,
          1,
          1,
          1,
          1,
          1,
          1,
          1,
          1,
          1,
          1,
          1,
          1,
          1,
          1,
          1,
          1,
          1,
          1,
          1,
          1,
          1,
          1,
          1,
          1,
          1,
          1,
          1,
          1,
          1,
          1,
          1,
          1,
          1,
          1,
          1,
          1,
          1,
          1,
          1,
          1,
          1,
          1,
          1,
          1,
          1,
          1,
          1,
          1,
          1,
          1,
          1,
          1,
          1,
          1,
          1,
          1,
          1,
          1,
          1,
          1,
          1,
          1,
          1,
          1,
          1,
          1,
          1,
          1,
          1,
          1,
          1,
          1,
          1,
          1,
          1,
          1,
          1,
          1,
          1,
          1,
          1,
          1,
          1,
          1,
          1,
          1,
          1,
          1,
          1,
          1,
          1,
          1,
          1,
          1,
          1,
          1,
          1,
          1,
          1,
          1,
          1,
          1
         ],
         "xaxis": "x",
         "y": [
          "increase",
          "increase",
          "increase",
          "increase",
          "increase",
          "increase",
          "increase",
          "increase",
          "increase",
          "increase",
          "increase",
          "increase",
          "increase",
          "increase",
          "increase",
          "increase",
          "increase",
          "increase",
          "increase",
          "increase",
          "increase",
          "increase",
          "increase",
          "increase",
          "increase",
          "increase",
          "increase",
          "increase",
          "increase",
          "increase",
          "increase",
          "increase",
          "increase",
          "increase",
          "increase",
          "increase",
          "increase",
          "increase",
          "increase",
          "increase",
          "increase",
          "increase",
          "increase",
          "increase",
          "increase",
          "increase",
          "increase",
          "no change",
          "no change",
          "no change",
          "no change",
          "no change",
          "no change",
          "no change",
          "no change",
          "no change",
          "no change",
          "no change",
          "no change",
          "no change",
          "no change",
          "no change",
          "no change",
          "no change",
          "no change",
          "no change",
          "no change",
          "no change",
          "no change",
          "no change",
          "no change",
          "no change",
          "no change",
          "no change",
          "no change",
          "no change",
          "no change",
          "no change",
          "no change",
          "no change",
          "no change",
          "no change",
          "no change",
          "no change",
          "no change",
          "no change",
          "no change",
          "no change",
          "no change",
          "no change",
          "no change",
          "no change",
          "no change",
          "no change",
          "no change",
          "no change",
          "no change",
          "no change",
          "no change",
          "no change",
          "no change",
          "no change",
          "no change",
          "no change",
          "no change",
          "no change",
          "no change",
          "no change",
          "no change",
          "no change",
          "no change",
          "no change",
          "no change",
          "no change",
          "no change",
          "decrease",
          "decrease",
          "decrease",
          "decrease",
          "decrease",
          "decrease",
          "decrease",
          "decrease",
          "decrease",
          "decrease",
          "decrease",
          "decrease",
          "decrease",
          "decrease",
          "decrease",
          "decrease",
          "decrease",
          "decrease",
          "decrease",
          "decrease",
          "decrease",
          "decrease",
          "decrease",
          "decrease",
          "decrease",
          "decrease",
          "decrease",
          "decrease",
          "decrease",
          "decrease",
          "decrease",
          "decrease",
          "decrease",
          "decrease",
          "decrease",
          "decrease",
          "decrease",
          "decrease",
          "decrease",
          "decrease",
          "decrease",
          "decrease",
          "decrease",
          "decrease",
          "decrease",
          "decrease",
          "decrease",
          "decrease",
          "decrease",
          "decrease",
          "decrease",
          "decrease",
          "decrease",
          "decrease",
          "decrease",
          "decrease",
          "decrease",
          "no change",
          "no change",
          "no change",
          "no change",
          "no change",
          "no change",
          "no change",
          "no change",
          "no change",
          "no change",
          "no change",
          "no change",
          "no change",
          "no change",
          "no change",
          "no change",
          "no change",
          "no change",
          "no change",
          "no change",
          "no change",
          "no change",
          "no change",
          "no change",
          "no change",
          "no change",
          "no change",
          "no change",
          "no change",
          "decrease",
          "decrease",
          "decrease",
          "decrease",
          "decrease",
          "decrease",
          "decrease",
          "decrease",
          "decrease",
          "increase",
          "increase",
          "increase",
          "increase",
          "increase",
          "increase",
          "increase",
          "no change",
          "no change",
          "no change",
          "no change",
          "no change",
          "no change",
          "no change",
          "no change",
          "no change",
          "no change",
          "no change",
          "no change",
          "no change",
          "no change",
          "no change",
          "no change",
          "no change",
          "no change",
          "no change",
          "no change",
          "no change",
          "no change",
          "no change",
          "no change",
          "no change",
          "no change",
          "no change",
          "no change",
          "no change",
          "no change",
          "no change",
          "no change",
          "no change",
          "no change",
          "no change",
          "no change",
          "no change",
          "no change",
          "no change",
          "no change",
          "no change",
          "no change",
          "no change",
          "no change",
          "no change",
          "no change",
          "no change",
          "no change",
          "no change",
          "no change",
          "no change",
          "no change",
          "no change",
          "no change",
          "no change",
          "no change",
          "no change",
          "no change",
          "no change",
          "no change",
          "no change",
          "no change",
          "no change",
          "no change",
          "no change",
          "no change",
          "no change",
          "no change",
          "no change",
          "no change",
          "no change",
          "no change",
          "no change",
          "no change",
          "no change",
          "no change",
          "no change",
          "no change",
          "no change",
          "no change",
          "no change",
          "no change",
          "no change",
          "no change",
          "no change",
          "no change",
          "no change",
          "no change",
          "no change",
          "no change",
          "no change",
          "no change",
          "no change",
          "no change",
          "no change",
          "no change",
          "no change",
          "no change",
          "no change",
          "no change",
          "no change",
          "no change",
          "no change",
          "no change",
          "no change",
          "no change",
          "no change",
          "no change",
          "no change",
          "no change",
          "no change",
          "no change",
          "no change",
          "no change",
          "no change",
          "no change",
          "no change",
          "no change",
          "no change",
          "no change",
          "no change",
          "no change",
          "no change",
          "no change",
          "no change",
          "no change",
          "no change",
          "no change",
          "no change",
          "no change",
          "no change",
          "no change",
          "no change",
          "no change",
          "no change",
          "no change",
          "no change",
          "no change",
          "no change",
          "no change",
          "no change",
          "no change",
          "no change",
          "no change",
          "no change",
          "no change",
          "no change",
          "no change",
          "no change",
          "no change",
          "no change",
          "no change",
          "no change",
          "no change",
          "no change",
          "no change",
          "no change",
          "no change",
          "no change",
          "no change",
          "no change",
          "no change",
          "no change",
          "no change",
          "no change",
          "no change",
          "no change",
          "no change",
          "no change",
          "no change",
          "no change",
          "no change",
          "no change",
          "no change",
          "no change",
          "no change",
          "no change",
          "no change",
          "no change",
          "no change",
          "no change",
          "no change",
          "no change",
          "no change",
          "no change",
          "no change",
          "no change",
          "no change",
          "no change",
          "no change",
          "no change",
          "no change",
          "no change",
          "no change",
          "no change",
          "no change",
          "no change",
          "no change",
          "no change",
          "no change",
          "no change",
          "no change",
          "no change",
          "no change",
          "no change",
          "no change",
          "no change",
          "no change",
          "no change",
          "no change",
          "no change",
          "no change",
          "no change",
          "no change",
          "no change",
          "no change",
          "no change",
          "no change",
          "no change",
          "no change",
          "no change",
          "no change",
          "no change",
          "no change",
          "no change",
          "no change",
          "no change",
          "no change",
          "no change",
          "no change",
          "no change",
          "no change",
          "no change",
          "no change",
          "no change",
          "no change",
          "no change",
          "no change",
          "no change",
          "no change",
          "no change",
          "no change",
          "no change",
          "no change",
          "no change",
          "no change",
          "no change",
          "no change",
          "no change",
          "no change",
          "no change",
          "no change",
          "no change",
          "no change",
          "no change",
          "no change",
          "no change",
          "no change",
          "no change",
          "no change",
          "no change",
          "no change",
          "no change",
          "no change",
          "no change",
          "no change",
          "no change",
          "no change",
          "no change",
          "no change",
          "no change",
          "no change",
          "no change",
          "no change",
          "no change",
          "no change",
          "no change",
          "no change",
          "no change",
          "no change",
          "no change",
          "no change",
          "no change",
          "no change",
          "no change",
          "no change",
          "no change",
          "no change",
          "no change",
          "no change",
          "no change",
          "no change",
          "no change",
          "no change",
          "no change",
          "no change",
          "no change",
          "no change",
          "no change",
          "no change",
          "no change",
          "no change",
          "no change",
          "no change",
          "no change",
          "no change",
          "no change",
          "no change",
          "no change",
          "no change",
          "no change",
          "no change",
          "no change",
          "no change",
          "no change",
          "no change",
          "no change",
          "no change",
          "no change",
          "no change",
          "no change",
          "no change",
          "no change",
          "no change",
          "no change",
          "no change",
          "no change",
          "no change",
          "no change",
          "no change",
          "no change",
          "no change",
          "no change",
          "no change",
          "no change",
          "no change",
          "no change",
          "no change",
          "no change"
         ],
         "yaxis": "y"
        },
        {
         "alignmentgroup": "True",
         "customdata": [
          [
           0.0025
          ],
          [
           0.0025
          ],
          [
           0.0025
          ],
          [
           0.0025
          ],
          [
           0.0025
          ],
          [
           0.0025
          ],
          [
           0.0025
          ],
          [
           0.0025
          ],
          [
           0.0025
          ],
          [
           0.0025
          ],
          [
           0.0025
          ],
          [
           0.0025
          ],
          [
           0.0025
          ],
          [
           0
          ],
          [
           0
          ],
          [
           0
          ],
          [
           0
          ],
          [
           0
          ],
          [
           0
          ],
          [
           0
          ],
          [
           0
          ],
          [
           0
          ],
          [
           0
          ],
          [
           0
          ],
          [
           0
          ],
          [
           0
          ],
          [
           0
          ],
          [
           0
          ],
          [
           0
          ],
          [
           0
          ],
          [
           0
          ],
          [
           0
          ],
          [
           0
          ],
          [
           0
          ],
          [
           0
          ],
          [
           0
          ],
          [
           0
          ],
          [
           0
          ],
          [
           0
          ],
          [
           0
          ],
          [
           0
          ],
          [
           0
          ],
          [
           0
          ],
          [
           0
          ],
          [
           0
          ],
          [
           0
          ],
          [
           0.0025
          ],
          [
           0.0025
          ],
          [
           0.0025
          ],
          [
           0.0025
          ],
          [
           0.0025
          ],
          [
           0.0025
          ],
          [
           0.0025
          ],
          [
           0.0025
          ],
          [
           0.0025
          ],
          [
           0.0025
          ],
          [
           0
          ],
          [
           0
          ],
          [
           0
          ],
          [
           0
          ],
          [
           0
          ],
          [
           0
          ],
          [
           0.0025
          ],
          [
           0.0025
          ],
          [
           0.0025
          ],
          [
           0.0025
          ],
          [
           0.0025
          ],
          [
           0.0025
          ],
          [
           0
          ],
          [
           0
          ],
          [
           0
          ],
          [
           0
          ],
          [
           0
          ],
          [
           0
          ],
          [
           0
          ],
          [
           0
          ],
          [
           0
          ],
          [
           0.0025
          ],
          [
           0.0025
          ],
          [
           0.0025
          ],
          [
           0.0025
          ],
          [
           0.0025
          ],
          [
           0
          ],
          [
           0
          ],
          [
           0
          ],
          [
           0
          ],
          [
           0
          ],
          [
           0
          ],
          [
           0
          ],
          [
           0
          ],
          [
           0
          ],
          [
           0
          ],
          [
           0
          ],
          [
           0
          ],
          [
           0
          ],
          [
           0
          ],
          [
           0
          ],
          [
           0
          ],
          [
           0
          ],
          [
           0
          ],
          [
           0
          ],
          [
           0
          ],
          [
           0
          ],
          [
           0
          ],
          [
           0
          ],
          [
           0
          ],
          [
           0.0025
          ],
          [
           0.0025
          ],
          [
           0.0025
          ],
          [
           0.0025
          ],
          [
           0.0025
          ],
          [
           0.0025
          ],
          [
           0
          ]
         ],
         "hovertemplate": "fed_chair=Janet Yellen<br>count=%{x}<br>action=%{y}<br>rate_change=%{customdata[0]}<extra></extra>",
         "legendgroup": "Janet Yellen",
         "marker": {
          "color": "#00cc96",
          "pattern": {
           "shape": ""
          }
         },
         "name": "Janet Yellen",
         "offsetgroup": "Janet Yellen",
         "orientation": "h",
         "showlegend": true,
         "textposition": "auto",
         "type": "bar",
         "x": [
          1,
          1,
          1,
          1,
          1,
          1,
          1,
          1,
          1,
          1,
          1,
          1,
          1,
          1,
          1,
          1,
          1,
          1,
          1,
          1,
          1,
          1,
          1,
          1,
          1,
          1,
          1,
          1,
          1,
          1,
          1,
          1,
          1,
          1,
          1,
          1,
          1,
          1,
          1,
          1,
          1,
          1,
          1,
          1,
          1,
          1,
          1,
          1,
          1,
          1,
          1,
          1,
          1,
          1,
          1,
          1,
          1,
          1,
          1,
          1,
          1,
          1,
          1,
          1,
          1,
          1,
          1,
          1,
          1,
          1,
          1,
          1,
          1,
          1,
          1,
          1,
          1,
          1,
          1,
          1,
          1,
          1,
          1,
          1,
          1,
          1,
          1,
          1,
          1,
          1,
          1,
          1,
          1,
          1,
          1,
          1,
          1,
          1,
          1,
          1,
          1,
          1,
          1,
          1,
          1,
          1,
          1,
          1,
          1,
          1,
          1,
          1,
          1
         ],
         "xaxis": "x",
         "y": [
          "increase",
          "increase",
          "increase",
          "increase",
          "increase",
          "increase",
          "increase",
          "increase",
          "increase",
          "increase",
          "increase",
          "increase",
          "increase",
          "no change",
          "no change",
          "no change",
          "no change",
          "no change",
          "no change",
          "no change",
          "no change",
          "no change",
          "no change",
          "no change",
          "no change",
          "no change",
          "no change",
          "no change",
          "no change",
          "no change",
          "no change",
          "no change",
          "no change",
          "no change",
          "no change",
          "no change",
          "no change",
          "no change",
          "no change",
          "no change",
          "no change",
          "no change",
          "no change",
          "no change",
          "no change",
          "no change",
          "increase",
          "increase",
          "increase",
          "increase",
          "increase",
          "increase",
          "increase",
          "increase",
          "increase",
          "increase",
          "no change",
          "no change",
          "no change",
          "no change",
          "no change",
          "no change",
          "increase",
          "increase",
          "increase",
          "increase",
          "increase",
          "increase",
          "no change",
          "no change",
          "no change",
          "no change",
          "no change",
          "no change",
          "no change",
          "no change",
          "no change",
          "increase",
          "increase",
          "increase",
          "increase",
          "increase",
          "no change",
          "no change",
          "no change",
          "no change",
          "no change",
          "no change",
          "no change",
          "no change",
          "no change",
          "no change",
          "no change",
          "no change",
          "no change",
          "no change",
          "no change",
          "no change",
          "no change",
          "no change",
          "no change",
          "no change",
          "no change",
          "no change",
          "no change",
          "no change",
          "increase",
          "increase",
          "increase",
          "increase",
          "increase",
          "increase",
          "no change"
         ],
         "yaxis": "y"
        },
        {
         "alignmentgroup": "True",
         "customdata": [
          [
           0.0025
          ],
          [
           0.0025
          ],
          [
           0.0025
          ],
          [
           0.0025
          ],
          [
           0.0025
          ],
          [
           0.0025
          ],
          [
           0
          ],
          [
           0
          ],
          [
           0
          ],
          [
           0
          ],
          [
           0
          ],
          [
           0.0025
          ],
          [
           0.0025
          ],
          [
           0.0025
          ],
          [
           0.0025
          ],
          [
           0.0025
          ],
          [
           0.0025
          ],
          [
           0.0025
          ],
          [
           0
          ],
          [
           0
          ],
          [
           0
          ],
          [
           0
          ],
          [
           0.0025
          ],
          [
           0.0025
          ],
          [
           0.0025
          ],
          [
           0
          ],
          [
           0
          ],
          [
           0
          ],
          [
           0
          ],
          [
           0
          ],
          [
           0
          ],
          [
           0
          ],
          [
           0.0025
          ],
          [
           0.0025
          ],
          [
           0.0025
          ],
          [
           0.0025
          ],
          [
           0.0025
          ],
          [
           0.0025
          ],
          [
           0.0025
          ],
          [
           0.0025
          ],
          [
           0.0025
          ],
          [
           0.0025
          ],
          [
           0.0025
          ],
          [
           0
          ],
          [
           0
          ],
          [
           0
          ],
          [
           0
          ],
          [
           0
          ],
          [
           0
          ],
          [
           0
          ],
          [
           0
          ],
          [
           0
          ],
          [
           0
          ],
          [
           0
          ],
          [
           0
          ],
          [
           0
          ],
          [
           0
          ],
          [
           0
          ],
          [
           0
          ],
          [
           0
          ],
          [
           0
          ],
          [
           0
          ],
          [
           0
          ],
          [
           0
          ],
          [
           0
          ],
          [
           0
          ],
          [
           0
          ],
          [
           0
          ],
          [
           0
          ],
          [
           0
          ],
          [
           0
          ],
          [
           0
          ],
          [
           0
          ],
          [
           0
          ],
          [
           0
          ],
          [
           0
          ],
          [
           0
          ],
          [
           0
          ],
          [
           0
          ],
          [
           0
          ],
          [
           0
          ],
          [
           0
          ],
          [
           0
          ],
          [
           0
          ],
          [
           0
          ],
          [
           -0.0025
          ],
          [
           -0.0025
          ],
          [
           -0.0025
          ],
          [
           -0.0025
          ],
          [
           -0.0025
          ],
          [
           -0.0025
          ],
          [
           -0.0025
          ],
          [
           -0.0025
          ],
          [
           -0.0025
          ],
          [
           -0.0025
          ],
          [
           -0.0025
          ],
          [
           -0.0025
          ],
          [
           -0.0025
          ],
          [
           0
          ],
          [
           0
          ],
          [
           0
          ],
          [
           0
          ],
          [
           0
          ],
          [
           0
          ],
          [
           0
          ],
          [
           -0.0025
          ],
          [
           -0.0025
          ],
          [
           -0.0025
          ],
          [
           -0.0025
          ],
          [
           -0.0025
          ],
          [
           -0.0025
          ],
          [
           -0.0025
          ],
          [
           0
          ],
          [
           0
          ],
          [
           0
          ],
          [
           0
          ],
          [
           0
          ],
          [
           0
          ],
          [
           0
          ],
          [
           0
          ],
          [
           0
          ],
          [
           0
          ],
          [
           0
          ],
          [
           0
          ],
          [
           0
          ],
          [
           -0.005
          ],
          [
           -0.005
          ],
          [
           -0.005
          ],
          [
           -0.005
          ],
          [
           -0.005
          ],
          [
           -0.005
          ],
          [
           -0.005
          ],
          [
           -0.005
          ],
          [
           -0.01
          ],
          [
           0
          ],
          [
           0
          ],
          [
           0
          ],
          [
           0
          ],
          [
           0
          ],
          [
           0
          ],
          [
           0
          ],
          [
           0
          ]
         ],
         "hovertemplate": "fed_chair=Jerome Powell<br>count=%{x}<br>action=%{y}<br>rate_change=%{customdata[0]}<extra></extra>",
         "legendgroup": "Jerome Powell",
         "marker": {
          "color": "#ab63fa",
          "pattern": {
           "shape": ""
          }
         },
         "name": "Jerome Powell",
         "offsetgroup": "Jerome Powell",
         "orientation": "h",
         "showlegend": true,
         "textposition": "auto",
         "type": "bar",
         "x": [
          1,
          1,
          1,
          1,
          1,
          1,
          1,
          1,
          1,
          1,
          1,
          1,
          1,
          1,
          1,
          1,
          1,
          1,
          1,
          1,
          1,
          1,
          1,
          1,
          1,
          1,
          1,
          1,
          1,
          1,
          1,
          1,
          1,
          1,
          1,
          1,
          1,
          1,
          1,
          1,
          1,
          1,
          1,
          1,
          1,
          1,
          1,
          1,
          1,
          1,
          1,
          1,
          1,
          1,
          1,
          1,
          1,
          1,
          1,
          1,
          1,
          1,
          1,
          1,
          1,
          1,
          1,
          1,
          1,
          1,
          1,
          1,
          1,
          1,
          1,
          1,
          1,
          1,
          1,
          1,
          1,
          1,
          1,
          1,
          1,
          1,
          1,
          1,
          1,
          1,
          1,
          1,
          1,
          1,
          1,
          1,
          1,
          1,
          1,
          1,
          1,
          1,
          1,
          1,
          1,
          1,
          1,
          1,
          1,
          1,
          1,
          1,
          1,
          1,
          1,
          1,
          1,
          1,
          1,
          1,
          1,
          1,
          1,
          1,
          1,
          1,
          1,
          1,
          1,
          1,
          1,
          1,
          1,
          1,
          1,
          1,
          1,
          1,
          1,
          1,
          1,
          1
         ],
         "xaxis": "x",
         "y": [
          "increase",
          "increase",
          "increase",
          "increase",
          "increase",
          "increase",
          "no change",
          "no change",
          "no change",
          "no change",
          "no change",
          "increase",
          "increase",
          "increase",
          "increase",
          "increase",
          "increase",
          "increase",
          "no change",
          "no change",
          "no change",
          "no change",
          "increase",
          "increase",
          "increase",
          "no change",
          "no change",
          "no change",
          "no change",
          "no change",
          "no change",
          "no change",
          "increase",
          "increase",
          "increase",
          "increase",
          "increase",
          "increase",
          "increase",
          "increase",
          "increase",
          "increase",
          "increase",
          "no change",
          "no change",
          "no change",
          "no change",
          "no change",
          "no change",
          "no change",
          "no change",
          "no change",
          "no change",
          "no change",
          "no change",
          "no change",
          "no change",
          "no change",
          "no change",
          "no change",
          "no change",
          "no change",
          "no change",
          "no change",
          "no change",
          "no change",
          "no change",
          "no change",
          "no change",
          "no change",
          "no change",
          "no change",
          "no change",
          "no change",
          "no change",
          "no change",
          "no change",
          "no change",
          "no change",
          "no change",
          "no change",
          "no change",
          "no change",
          "no change",
          "no change",
          "decrease",
          "decrease",
          "decrease",
          "decrease",
          "decrease",
          "decrease",
          "decrease",
          "decrease",
          "decrease",
          "decrease",
          "decrease",
          "decrease",
          "decrease",
          "no change",
          "no change",
          "no change",
          "no change",
          "no change",
          "no change",
          "no change",
          "decrease",
          "decrease",
          "decrease",
          "decrease",
          "decrease",
          "decrease",
          "decrease",
          "no change",
          "no change",
          "no change",
          "no change",
          "no change",
          "no change",
          "no change",
          "no change",
          "no change",
          "no change",
          "no change",
          "no change",
          "no change",
          "decrease",
          "decrease",
          "decrease",
          "decrease",
          "decrease",
          "decrease",
          "decrease",
          "decrease",
          "decrease",
          "no change",
          "no change",
          "no change",
          "no change",
          "no change",
          "no change",
          "no change",
          "no change"
         ],
         "yaxis": "y"
        }
       ],
       "layout": {
        "autosize": true,
        "barmode": "relative",
        "legend": {
         "title": {
          "text": "fed_chair"
         },
         "tracegroupgap": 0
        },
        "template": {
         "data": {
          "bar": [
           {
            "error_x": {
             "color": "#2a3f5f"
            },
            "error_y": {
             "color": "#2a3f5f"
            },
            "marker": {
             "line": {
              "color": "#E5ECF6",
              "width": 0.5
             },
             "pattern": {
              "fillmode": "overlay",
              "size": 10,
              "solidity": 0.2
             }
            },
            "type": "bar"
           }
          ],
          "barpolar": [
           {
            "marker": {
             "line": {
              "color": "#E5ECF6",
              "width": 0.5
             },
             "pattern": {
              "fillmode": "overlay",
              "size": 10,
              "solidity": 0.2
             }
            },
            "type": "barpolar"
           }
          ],
          "carpet": [
           {
            "aaxis": {
             "endlinecolor": "#2a3f5f",
             "gridcolor": "white",
             "linecolor": "white",
             "minorgridcolor": "white",
             "startlinecolor": "#2a3f5f"
            },
            "baxis": {
             "endlinecolor": "#2a3f5f",
             "gridcolor": "white",
             "linecolor": "white",
             "minorgridcolor": "white",
             "startlinecolor": "#2a3f5f"
            },
            "type": "carpet"
           }
          ],
          "choropleth": [
           {
            "colorbar": {
             "outlinewidth": 0,
             "ticks": ""
            },
            "type": "choropleth"
           }
          ],
          "contour": [
           {
            "colorbar": {
             "outlinewidth": 0,
             "ticks": ""
            },
            "colorscale": [
             [
              0,
              "#0d0887"
             ],
             [
              0.1111111111111111,
              "#46039f"
             ],
             [
              0.2222222222222222,
              "#7201a8"
             ],
             [
              0.3333333333333333,
              "#9c179e"
             ],
             [
              0.4444444444444444,
              "#bd3786"
             ],
             [
              0.5555555555555556,
              "#d8576b"
             ],
             [
              0.6666666666666666,
              "#ed7953"
             ],
             [
              0.7777777777777778,
              "#fb9f3a"
             ],
             [
              0.8888888888888888,
              "#fdca26"
             ],
             [
              1,
              "#f0f921"
             ]
            ],
            "type": "contour"
           }
          ],
          "contourcarpet": [
           {
            "colorbar": {
             "outlinewidth": 0,
             "ticks": ""
            },
            "type": "contourcarpet"
           }
          ],
          "heatmap": [
           {
            "colorbar": {
             "outlinewidth": 0,
             "ticks": ""
            },
            "colorscale": [
             [
              0,
              "#0d0887"
             ],
             [
              0.1111111111111111,
              "#46039f"
             ],
             [
              0.2222222222222222,
              "#7201a8"
             ],
             [
              0.3333333333333333,
              "#9c179e"
             ],
             [
              0.4444444444444444,
              "#bd3786"
             ],
             [
              0.5555555555555556,
              "#d8576b"
             ],
             [
              0.6666666666666666,
              "#ed7953"
             ],
             [
              0.7777777777777778,
              "#fb9f3a"
             ],
             [
              0.8888888888888888,
              "#fdca26"
             ],
             [
              1,
              "#f0f921"
             ]
            ],
            "type": "heatmap"
           }
          ],
          "heatmapgl": [
           {
            "colorbar": {
             "outlinewidth": 0,
             "ticks": ""
            },
            "colorscale": [
             [
              0,
              "#0d0887"
             ],
             [
              0.1111111111111111,
              "#46039f"
             ],
             [
              0.2222222222222222,
              "#7201a8"
             ],
             [
              0.3333333333333333,
              "#9c179e"
             ],
             [
              0.4444444444444444,
              "#bd3786"
             ],
             [
              0.5555555555555556,
              "#d8576b"
             ],
             [
              0.6666666666666666,
              "#ed7953"
             ],
             [
              0.7777777777777778,
              "#fb9f3a"
             ],
             [
              0.8888888888888888,
              "#fdca26"
             ],
             [
              1,
              "#f0f921"
             ]
            ],
            "type": "heatmapgl"
           }
          ],
          "histogram": [
           {
            "marker": {
             "pattern": {
              "fillmode": "overlay",
              "size": 10,
              "solidity": 0.2
             }
            },
            "type": "histogram"
           }
          ],
          "histogram2d": [
           {
            "colorbar": {
             "outlinewidth": 0,
             "ticks": ""
            },
            "colorscale": [
             [
              0,
              "#0d0887"
             ],
             [
              0.1111111111111111,
              "#46039f"
             ],
             [
              0.2222222222222222,
              "#7201a8"
             ],
             [
              0.3333333333333333,
              "#9c179e"
             ],
             [
              0.4444444444444444,
              "#bd3786"
             ],
             [
              0.5555555555555556,
              "#d8576b"
             ],
             [
              0.6666666666666666,
              "#ed7953"
             ],
             [
              0.7777777777777778,
              "#fb9f3a"
             ],
             [
              0.8888888888888888,
              "#fdca26"
             ],
             [
              1,
              "#f0f921"
             ]
            ],
            "type": "histogram2d"
           }
          ],
          "histogram2dcontour": [
           {
            "colorbar": {
             "outlinewidth": 0,
             "ticks": ""
            },
            "colorscale": [
             [
              0,
              "#0d0887"
             ],
             [
              0.1111111111111111,
              "#46039f"
             ],
             [
              0.2222222222222222,
              "#7201a8"
             ],
             [
              0.3333333333333333,
              "#9c179e"
             ],
             [
              0.4444444444444444,
              "#bd3786"
             ],
             [
              0.5555555555555556,
              "#d8576b"
             ],
             [
              0.6666666666666666,
              "#ed7953"
             ],
             [
              0.7777777777777778,
              "#fb9f3a"
             ],
             [
              0.8888888888888888,
              "#fdca26"
             ],
             [
              1,
              "#f0f921"
             ]
            ],
            "type": "histogram2dcontour"
           }
          ],
          "mesh3d": [
           {
            "colorbar": {
             "outlinewidth": 0,
             "ticks": ""
            },
            "type": "mesh3d"
           }
          ],
          "parcoords": [
           {
            "line": {
             "colorbar": {
              "outlinewidth": 0,
              "ticks": ""
             }
            },
            "type": "parcoords"
           }
          ],
          "pie": [
           {
            "automargin": true,
            "type": "pie"
           }
          ],
          "scatter": [
           {
            "marker": {
             "colorbar": {
              "outlinewidth": 0,
              "ticks": ""
             }
            },
            "type": "scatter"
           }
          ],
          "scatter3d": [
           {
            "line": {
             "colorbar": {
              "outlinewidth": 0,
              "ticks": ""
             }
            },
            "marker": {
             "colorbar": {
              "outlinewidth": 0,
              "ticks": ""
             }
            },
            "type": "scatter3d"
           }
          ],
          "scattercarpet": [
           {
            "marker": {
             "colorbar": {
              "outlinewidth": 0,
              "ticks": ""
             }
            },
            "type": "scattercarpet"
           }
          ],
          "scattergeo": [
           {
            "marker": {
             "colorbar": {
              "outlinewidth": 0,
              "ticks": ""
             }
            },
            "type": "scattergeo"
           }
          ],
          "scattergl": [
           {
            "marker": {
             "colorbar": {
              "outlinewidth": 0,
              "ticks": ""
             }
            },
            "type": "scattergl"
           }
          ],
          "scattermapbox": [
           {
            "marker": {
             "colorbar": {
              "outlinewidth": 0,
              "ticks": ""
             }
            },
            "type": "scattermapbox"
           }
          ],
          "scatterpolar": [
           {
            "marker": {
             "colorbar": {
              "outlinewidth": 0,
              "ticks": ""
             }
            },
            "type": "scatterpolar"
           }
          ],
          "scatterpolargl": [
           {
            "marker": {
             "colorbar": {
              "outlinewidth": 0,
              "ticks": ""
             }
            },
            "type": "scatterpolargl"
           }
          ],
          "scatterternary": [
           {
            "marker": {
             "colorbar": {
              "outlinewidth": 0,
              "ticks": ""
             }
            },
            "type": "scatterternary"
           }
          ],
          "surface": [
           {
            "colorbar": {
             "outlinewidth": 0,
             "ticks": ""
            },
            "colorscale": [
             [
              0,
              "#0d0887"
             ],
             [
              0.1111111111111111,
              "#46039f"
             ],
             [
              0.2222222222222222,
              "#7201a8"
             ],
             [
              0.3333333333333333,
              "#9c179e"
             ],
             [
              0.4444444444444444,
              "#bd3786"
             ],
             [
              0.5555555555555556,
              "#d8576b"
             ],
             [
              0.6666666666666666,
              "#ed7953"
             ],
             [
              0.7777777777777778,
              "#fb9f3a"
             ],
             [
              0.8888888888888888,
              "#fdca26"
             ],
             [
              1,
              "#f0f921"
             ]
            ],
            "type": "surface"
           }
          ],
          "table": [
           {
            "cells": {
             "fill": {
              "color": "#EBF0F8"
             },
             "line": {
              "color": "white"
             }
            },
            "header": {
             "fill": {
              "color": "#C8D4E3"
             },
             "line": {
              "color": "white"
             }
            },
            "type": "table"
           }
          ]
         },
         "layout": {
          "annotationdefaults": {
           "arrowcolor": "#2a3f5f",
           "arrowhead": 0,
           "arrowwidth": 1
          },
          "autotypenumbers": "strict",
          "coloraxis": {
           "colorbar": {
            "outlinewidth": 0,
            "ticks": ""
           }
          },
          "colorscale": {
           "diverging": [
            [
             0,
             "#8e0152"
            ],
            [
             0.1,
             "#c51b7d"
            ],
            [
             0.2,
             "#de77ae"
            ],
            [
             0.3,
             "#f1b6da"
            ],
            [
             0.4,
             "#fde0ef"
            ],
            [
             0.5,
             "#f7f7f7"
            ],
            [
             0.6,
             "#e6f5d0"
            ],
            [
             0.7,
             "#b8e186"
            ],
            [
             0.8,
             "#7fbc41"
            ],
            [
             0.9,
             "#4d9221"
            ],
            [
             1,
             "#276419"
            ]
           ],
           "sequential": [
            [
             0,
             "#0d0887"
            ],
            [
             0.1111111111111111,
             "#46039f"
            ],
            [
             0.2222222222222222,
             "#7201a8"
            ],
            [
             0.3333333333333333,
             "#9c179e"
            ],
            [
             0.4444444444444444,
             "#bd3786"
            ],
            [
             0.5555555555555556,
             "#d8576b"
            ],
            [
             0.6666666666666666,
             "#ed7953"
            ],
            [
             0.7777777777777778,
             "#fb9f3a"
            ],
            [
             0.8888888888888888,
             "#fdca26"
            ],
            [
             1,
             "#f0f921"
            ]
           ],
           "sequentialminus": [
            [
             0,
             "#0d0887"
            ],
            [
             0.1111111111111111,
             "#46039f"
            ],
            [
             0.2222222222222222,
             "#7201a8"
            ],
            [
             0.3333333333333333,
             "#9c179e"
            ],
            [
             0.4444444444444444,
             "#bd3786"
            ],
            [
             0.5555555555555556,
             "#d8576b"
            ],
            [
             0.6666666666666666,
             "#ed7953"
            ],
            [
             0.7777777777777778,
             "#fb9f3a"
            ],
            [
             0.8888888888888888,
             "#fdca26"
            ],
            [
             1,
             "#f0f921"
            ]
           ]
          },
          "colorway": [
           "#636efa",
           "#EF553B",
           "#00cc96",
           "#ab63fa",
           "#FFA15A",
           "#19d3f3",
           "#FF6692",
           "#B6E880",
           "#FF97FF",
           "#FECB52"
          ],
          "font": {
           "color": "#2a3f5f"
          },
          "geo": {
           "bgcolor": "white",
           "lakecolor": "white",
           "landcolor": "#E5ECF6",
           "showlakes": true,
           "showland": true,
           "subunitcolor": "white"
          },
          "hoverlabel": {
           "align": "left"
          },
          "hovermode": "closest",
          "mapbox": {
           "style": "light"
          },
          "paper_bgcolor": "white",
          "plot_bgcolor": "#E5ECF6",
          "polar": {
           "angularaxis": {
            "gridcolor": "white",
            "linecolor": "white",
            "ticks": ""
           },
           "bgcolor": "#E5ECF6",
           "radialaxis": {
            "gridcolor": "white",
            "linecolor": "white",
            "ticks": ""
           }
          },
          "scene": {
           "xaxis": {
            "backgroundcolor": "#E5ECF6",
            "gridcolor": "white",
            "gridwidth": 2,
            "linecolor": "white",
            "showbackground": true,
            "ticks": "",
            "zerolinecolor": "white"
           },
           "yaxis": {
            "backgroundcolor": "#E5ECF6",
            "gridcolor": "white",
            "gridwidth": 2,
            "linecolor": "white",
            "showbackground": true,
            "ticks": "",
            "zerolinecolor": "white"
           },
           "zaxis": {
            "backgroundcolor": "#E5ECF6",
            "gridcolor": "white",
            "gridwidth": 2,
            "linecolor": "white",
            "showbackground": true,
            "ticks": "",
            "zerolinecolor": "white"
           }
          },
          "shapedefaults": {
           "line": {
            "color": "#2a3f5f"
           }
          },
          "ternary": {
           "aaxis": {
            "gridcolor": "white",
            "linecolor": "white",
            "ticks": ""
           },
           "baxis": {
            "gridcolor": "white",
            "linecolor": "white",
            "ticks": ""
           },
           "bgcolor": "#E5ECF6",
           "caxis": {
            "gridcolor": "white",
            "linecolor": "white",
            "ticks": ""
           }
          },
          "title": {
           "x": 0.05
          },
          "xaxis": {
           "automargin": true,
           "gridcolor": "white",
           "linecolor": "white",
           "ticks": "",
           "title": {
            "standoff": 15
           },
           "zerolinecolor": "white",
           "zerolinewidth": 2
          },
          "yaxis": {
           "automargin": true,
           "gridcolor": "white",
           "linecolor": "white",
           "ticks": "",
           "title": {
            "standoff": 15
           },
           "zerolinecolor": "white",
           "zerolinewidth": 2
          }
         }
        },
        "title": {
         "text": "Rate Changes by Fed Chair"
        },
        "xaxis": {
         "anchor": "y",
         "autorange": true,
         "domain": [
          0,
          1
         ],
         "range": [
          0,
          974.7368421052631
         ],
         "title": {
          "text": "count"
         },
         "type": "linear"
        },
        "yaxis": {
         "anchor": "x",
         "autorange": true,
         "domain": [
          0,
          1
         ],
         "range": [
          -0.5,
          2.5
         ],
         "title": {
          "text": "action"
         },
         "type": "category"
        }
       }
      },
      "image/png": "[encoded data removed]",
      "text/html": [
       "<div>                            <div id=\"0f3489de-5637-45ed-acd2-2ff2a90deb89\" class=\"plotly-graph-div\" style=\"height:400px; width:100%;\"></div>            <script type=\"text/javascript\">                require([\"plotly\"], function(Plotly) {                    window.PLOTLYENV=window.PLOTLYENV || {};                                    if (document.getElementById(\"0f3489de-5637-45ed-acd2-2ff2a90deb89\")) {                    Plotly.newPlot(                        \"0f3489de-5637-45ed-acd2-2ff2a90deb89\",                        [{\"alignmentgroup\":\"True\",\"customdata\":[[0.0],[0.0],[0.0],[0.0],[0.0],[0.0],[0.0],[0.0],[0.0],[0.0],[0.0],[0.0],[0.0],[0.0],[0.0],[0.0],[0.0],[0.0],[0.0],[0.0],[0.0],[0.0],[0.0],[0.0],[0.0],[0.0025],[0.0025],[0.0025],[0.0025],[0.0025],[0.0025],[0.0],[0.0],[0.0],[0.0],[0.0],[0.0],[0.0],[0.0],[0.0],[0.0],[0.0],[0.0],[0.0],[0.0],[0.0],[0.0],[0.0],[0.0],[0.0],[0.0],[0.0],[0.0],[0.0],[0.0],[0.0],[0.0],[0.0],[0.0],[0.0],[0.0],[0.0],[0.0],[0.0],[0.0],[0.0],[0.0],[0.0],[0.0],[0.0],[0.0],[0.0],[0.0],[0.0],[0.0],[0.0],[0.0],[0.0],[0.0],[0.0],[0.0],[0.0],[0.0],[0.0],[0.0],[0.0],[0.0],[0.0],[0.0],[0.0],[0.0],[0.0],[0.0],[0.0],[0.0],[0.0],[0.0],[0.0],[0.0],[0.0],[0.0],[0.0],[0.0],[-0.0025],[-0.0025],[-0.0025],[-0.0025],[-0.0025],[-0.0025],[-0.0025],[-0.0025],[-0.0025],[-0.0025],[-0.0025],[-0.0025],[-0.0025],[-0.0025],[-0.0025],[-0.0025],[-0.0025],[0.0],[0.0],[0.0],[0.0],[0.0],[0.0],[0.0],[0.0],[0.0],[0.0],[0.0],[0.0],[0.0],[0.0],[0.0],[0.0],[0.0],[0.0],[0.0],[0.0],[0.0],[0.0],[0.0],[0.0],[0.0],[0.0],[0.0],[0.0],[0.0],[0.0],[0.0],[0.0],[0.0025],[0.0025],[0.0025],[0.0025],[0.0025],[0.0025],[0.0025],[0.0025],[0.0025],[0.0],[0.0],[0.0],[0.0],[0.0],[0.0],[0.0],[0.0],[0.0],[0.0],[0.0],[0.0],[0.0],[0.0],[0.0025],[0.0025],[0.0025],[0.0025],[0.0025],[0.0025],[0.0025],[0.0025],[0.0025],[0.0025],[0.0025],[0.0],[0.0],[0.0025],[0.0025],[0.0025],[0.0025],[0.0025],[0.0025],[0.0025],[0.0025],[0.0025],[0.0025],[0.0025],[0.0025],[0.0025],[0.005],[0.005],[0.005],[0.005],[0.005],[0.005],[0.005],[0.005],[0.005],[0.005],[0.005],[0.005],[0.005],[0.005],[0.005],[0.005],[0.005],[0.0],[0.0],[0.0],[0.0],[0.0],[0.0],[0.0],[0.0],[0.0],[0.0],[0.0],[0.0],[0.0],[0.0],[0.0],[0.0],[0.0],[0.0],[0.0],[0.0],[0.0],[0.0],[0.0],[0.0],[-0.005],[-0.005],[-0.005],[-0.005],[-0.005],[-0.005],[-0.005],[-0.005],[-0.005],[-0.005],[-0.005],[-0.005],[-0.005],[-0.005],[-0.005],[-0.005],[-0.005],[-0.005],[-0.005],[-0.005],[-0.005],[-0.005],[-0.0025],[-0.0025],[-0.0025],[-0.0025],[-0.0025],[-0.0025],[-0.0025],[-0.0025],[-0.0025],[-0.0025],[-0.0025],[-0.0025],[-0.0025],[-0.0025],[-0.0025],[-0.0025],[-0.005],[-0.005],[-0.005],[-0.005],[-0.005],[-0.005],[-0.005],[-0.005],[-0.005],[-0.005],[-0.005],[-0.0025],[-0.0025],[-0.0025],[-0.0025],[-0.0025],[-0.0025],[-0.0025],[-0.0025],[0.0],[0.0],[0.0],[0.0],[0.0],[0.0],[0.0],[0.0],[0.0],[0.0],[0.0],[0.0],[0.0],[0.0],[0.0],[0.0],[0.0],[0.0],[0.0],[0.0],[0.0],[0.0],[0.0],[0.0],[0.0],[0.0],[0.0],[0.0],[0.0],[0.0],[0.0],[0.0],[0.0],[0.0],[0.0],[0.0],[0.0],[0.0],[0.0],[0.0],[0.0],[0.0],[0.0],[-0.005],[-0.005],[-0.005],[-0.005],[-0.005],[-0.005],[-0.005],[-0.005],[-0.005],[-0.005],[-0.005],[-0.005],[-0.005],[-0.005],[-0.005],[-0.005],[-0.005],[0.0],[0.0],[0.0],[0.0],[0.0],[0.0],[0.0],[0.0],[0.0],[0.0],[0.0],[0.0],[0.0],[0.0],[0.0],[0.0],[0.0],[0.0],[0.0],[0.0],[0.0],[0.0],[0.0],[0.0],[0.0],[0.0],[0.0],[0.0],[0.0],[0.0],[0.0],[0.0],[0.0],[0.0],[0.0],[0.0],[0.0],[0.0],[0.0],[0.0],[0.0],[-0.0025],[-0.0025],[-0.0025],[-0.0025],[-0.0025],[-0.0025],[-0.0025],[-0.0025],[-0.0025],[-0.0025],[-0.0025],[-0.0025],[-0.0025],[-0.0025],[-0.0025],[-0.0025],[0.0],[0.0],[0.0],[0.0],[0.0],[0.0],[0.0],[0.0],[0.0],[0.0],[0.0],[0.0],[0.0],[0.0],[0.0],[0.0],[0.0],[0.0],[0.0],[0.0],[0.0],[0.0],[0.0],[0.0],[0.0],[0.0],[0.0],[0.0],[0.0],[0.0],[0.0],[0.0],[0.0],[0.0],[0.0],[0.0],[0.0],[0.0],[0.0],[0.0],[0.0],[0.0],[0.0],[0.0],[0.0],[0.0],[0.0],[0.0],[0.0],[0.0],[0.0],[0.0],[0.0],[0.0],[0.0],[0.0],[0.0],[0.0],[0.0],[0.0],[0.0],[0.0],[0.0],[0.0],[0.0],[0.0],[0.0],[0.0],[0.0],[0.0],[0.0],[0.0],[0.0],[0.0],[0.0],[0.0],[0.0],[0.0],[0.0003],[0.0003],[0.0003],[0.0003],[0.0003],[0.0003],[0.0003],[0.0003],[0.0003],[0.0003],[0.0003],[0.0003],[0.0003],[0.0003],[0.0003],[0.0003],[0.0003],[0.0003],[0.0003],[0.0003],[0.0047],[0.0047],[0.0047],[0.0047],[0.0025],[0.0025],[0.0025],[0.0025],[0.0025],[0.0025],[0.0025],[0.0025],[0.0025],[0.0025],[0.0025],[0.0025],[0.0025],[0.0025],[0.0025],[0.0025],[0.0025],[0.0025],[0.0025],[0.0025],[0.0025],[0.0025],[0.0025],[0.0025],[0.0025],[0.0025],[0.0025],[0.0025],[0.0025],[0.0025],[0.0025],[0.0025],[0.0025],[0.0025],[0.0025],[0.0025],[0.0025],[0.0025],[0.0025],[0.0025],[0.0025],[0.0025],[0.0025],[0.0025],[0.0025],[0.0025],[0.0025],[0.0025],[0.0025],[0.0025],[0.0025],[0.0025],[0.0025],[0.0025],[0.0025],[0.0025],[0.0025],[0.0025],[0.0025],[0.0025],[0.0025],[0.0025],[0.0025],[0.0025],[0.0025],[0.0025],[0.0025],[0.0025],[0.0025],[0.0025],[0.0025],[0.0025],[0.0025],[0.0025],[0.0025],[0.0025],[0.0025],[0.0025],[0.0025],[0.0025],[0.0025],[0.0025],[0.0025],[0.0025],[0.0025],[0.0025],[0.0025],[0.0025],[0.0025],[0.0025],[0.0025],[0.0025],[0.0025],[0.0025],[0.0025],[0.0025],[0.0025],[0.0025],[0.0025],[0.0025],[0.0025],[0.0025],[0.0025],[0.0025],[0.0025],[0.0025],[0.0025],[0.0025],[0.0025],[0.0025],[0.0025],[0.0025],[0.0025],[0.0025],[0.0025],[0.0025],[0.0025],[0.0025]],\"hovertemplate\":\"fed_chair=Alan Greenspan<br>count=%{x}<br>action=%{y}<br>rate_change=%{customdata[0]}<extra></extra>\",\"legendgroup\":\"Alan Greenspan\",\"marker\":{\"color\":\"#636efa\",\"pattern\":{\"shape\":\"\"}},\"name\":\"Alan Greenspan\",\"offsetgroup\":\"Alan Greenspan\",\"orientation\":\"h\",\"showlegend\":true,\"textposition\":\"auto\",\"x\":[1,1,1,1,1,1,1,1,1,1,1,1,1,1,1,1,1,1,1,1,1,1,1,1,1,1,1,1,1,1,1,1,1,1,1,1,1,1,1,1,1,1,1,1,1,1,1,1,1,1,1,1,1,1,1,1,1,1,1,1,1,1,1,1,1,1,1,1,1,1,1,1,1,1,1,1,1,1,1,1,1,1,1,1,1,1,1,1,1,1,1,1,1,1,1,1,1,1,1,1,1,1,1,1,1,1,1,1,1,1,1,1,1,1,1,1,1,1,1,1,1,1,1,1,1,1,1,1,1,1,1,1,1,1,1,1,1,1,1,1,1,1,1,1,1,1,1,1,1,1,1,1,1,1,1,1,1,1,1,1,1,1,1,1,1,1,1,1,1,1,1,1,1,1,1,1,1,1,1,1,1,1,1,1,1,1,1,1,1,1,1,1,1,1,1,1,1,1,1,1,1,1,1,1,1,1,1,1,1,1,1,1,1,1,1,1,1,1,1,1,1,1,1,1,1,1,1,1,1,1,1,1,1,1,1,1,1,1,1,1,1,1,1,1,1,1,1,1,1,1,1,1,1,1,1,1,1,1,1,1,1,1,1,1,1,1,1,1,1,1,1,1,1,1,1,1,1,1,1,1,1,1,1,1,1,1,1,1,1,1,1,1,1,1,1,1,1,1,1,1,1,1,1,1,1,1,1,1,1,1,1,1,1,1,1,1,1,1,1,1,1,1,1,1,1,1,1,1,1,1,1,1,1,1,1,1,1,1,1,1,1,1,1,1,1,1,1,1,1,1,1,1,1,1,1,1,1,1,1,1,1,1,1,1,1,1,1,1,1,1,1,1,1,1,1,1,1,1,1,1,1,1,1,1,1,1,1,1,1,1,1,1,1,1,1,1,1,1,1,1,1,1,1,1,1,1,1,1,1,1,1,1,1,1,1,1,1,1,1,1,1,1,1,1,1,1,1,1,1,1,1,1,1,1,1,1,1,1,1,1,1,1,1,1,1,1,1,1,1,1,1,1,1,1,1,1,1,1,1,1,1,1,1,1,1,1,1,1,1,1,1,1,1,1,1,1,1,1,1,1,1,1,1,1,1,1,1,1,1,1,1,1,1,1,1,1,1,1,1,1,1,1,1,1,1,1,1,1,1,1,1,1,1,1,1,1,1,1,1,1,1,1,1,1,1,1,1,1,1,1,1,1,1,1,1,1,1,1,1,1,1,1,1,1,1,1,1,1,1,1,1,1,1,1,1,1,1,1,1,1,1,1,1,1,1,1,1,1,1,1,1,1,1,1,1,1,1,1,1,1,1,1,1,1,1,1,1,1,1,1,1,1,1,1,1,1,1,1,1,1,1,1,1,1,1,1,1,1,1,1,1,1,1,1,1,1,1,1,1,1,1,1,1,1,1,1,1,1,1,1,1,1,1,1,1,1],\"xaxis\":\"x\",\"y\":[\"no change\",\"no change\",\"no change\",\"no change\",\"no change\",\"no change\",\"no change\",\"no change\",\"no change\",\"no change\",\"no change\",\"no change\",\"no change\",\"no change\",\"no change\",\"no change\",\"no change\",\"no change\",\"no change\",\"no change\",\"no change\",\"no change\",\"no change\",\"no change\",\"no change\",\"decrease\",\"decrease\",\"decrease\",\"decrease\",\"decrease\",\"decrease\",\"no change\",\"no change\",\"no change\",\"no change\",\"no change\",\"no change\",\"no change\",\"no change\",\"no change\",\"no change\",\"no change\",\"no change\",\"no change\",\"no change\",\"no change\",\"no change\",\"no change\",\"no change\",\"no change\",\"no change\",\"no change\",\"no change\",\"no change\",\"no change\",\"no change\",\"no change\",\"no change\",\"no change\",\"no change\",\"no change\",\"no change\",\"no change\",\"no change\",\"no change\",\"no change\",\"no change\",\"no change\",\"no change\",\"no change\",\"no change\",\"no change\",\"no change\",\"no change\",\"no change\",\"no change\",\"no change\",\"no change\",\"no change\",\"no change\",\"no change\",\"no change\",\"no change\",\"no change\",\"no change\",\"no change\",\"no change\",\"no change\",\"no change\",\"no change\",\"no change\",\"no change\",\"no change\",\"no change\",\"no change\",\"no change\",\"no change\",\"no change\",\"no change\",\"no change\",\"no change\",\"no change\",\"no change\",\"decrease\",\"decrease\",\"decrease\",\"decrease\",\"decrease\",\"decrease\",\"decrease\",\"decrease\",\"decrease\",\"decrease\",\"decrease\",\"decrease\",\"decrease\",\"decrease\",\"decrease\",\"decrease\",\"decrease\",\"no change\",\"no change\",\"no change\",\"no change\",\"no change\",\"no change\",\"no change\",\"no change\",\"no change\",\"no change\",\"no change\",\"no change\",\"no change\",\"no change\",\"no change\",\"no change\",\"no change\",\"no change\",\"no change\",\"no change\",\"no change\",\"no change\",\"no change\",\"no change\",\"no change\",\"no change\",\"no change\",\"no change\",\"no change\",\"no change\",\"no change\",\"no change\",\"increase\",\"increase\",\"increase\",\"increase\",\"increase\",\"increase\",\"increase\",\"increase\",\"increase\",\"no change\",\"no change\",\"no change\",\"no change\",\"no change\",\"no change\",\"no change\",\"no change\",\"no change\",\"no change\",\"no change\",\"no change\",\"no change\",\"no change\",\"increase\",\"increase\",\"increase\",\"increase\",\"increase\",\"increase\",\"increase\",\"increase\",\"increase\",\"increase\",\"increase\",\"no change\",\"no change\",\"increase\",\"increase\",\"increase\",\"increase\",\"increase\",\"increase\",\"increase\",\"increase\",\"increase\",\"increase\",\"increase\",\"increase\",\"increase\",\"increase\",\"increase\",\"increase\",\"increase\",\"increase\",\"increase\",\"increase\",\"increase\",\"increase\",\"increase\",\"increase\",\"increase\",\"increase\",\"increase\",\"increase\",\"increase\",\"increase\",\"no change\",\"no change\",\"no change\",\"no change\",\"no change\",\"no change\",\"no change\",\"no change\",\"no change\",\"no change\",\"no change\",\"no change\",\"no change\",\"no change\",\"no change\",\"no change\",\"no change\",\"no change\",\"no change\",\"no change\",\"no change\",\"no change\",\"no change\",\"no change\",\"decrease\",\"decrease\",\"decrease\",\"decrease\",\"decrease\",\"decrease\",\"decrease\",\"decrease\",\"decrease\",\"decrease\",\"decrease\",\"decrease\",\"decrease\",\"decrease\",\"decrease\",\"decrease\",\"decrease\",\"decrease\",\"decrease\",\"decrease\",\"decrease\",\"decrease\",\"decrease\",\"decrease\",\"decrease\",\"decrease\",\"decrease\",\"decrease\",\"decrease\",\"decrease\",\"decrease\",\"decrease\",\"decrease\",\"decrease\",\"decrease\",\"decrease\",\"decrease\",\"decrease\",\"decrease\",\"decrease\",\"decrease\",\"decrease\",\"decrease\",\"decrease\",\"decrease\",\"decrease\",\"decrease\",\"decrease\",\"decrease\",\"decrease\",\"decrease\",\"decrease\",\"decrease\",\"decrease\",\"decrease\",\"decrease\",\"decrease\",\"no change\",\"no change\",\"no change\",\"no change\",\"no change\",\"no change\",\"no change\",\"no change\",\"no change\",\"no change\",\"no change\",\"no change\",\"no change\",\"no change\",\"no change\",\"no change\",\"no change\",\"no change\",\"no change\",\"no change\",\"no change\",\"no change\",\"no change\",\"no change\",\"no change\",\"no change\",\"no change\",\"no change\",\"no change\",\"no change\",\"no change\",\"no change\",\"no change\",\"no change\",\"no change\",\"no change\",\"no change\",\"no change\",\"no change\",\"no change\",\"no change\",\"no change\",\"no change\",\"decrease\",\"decrease\",\"decrease\",\"decrease\",\"decrease\",\"decrease\",\"decrease\",\"decrease\",\"decrease\",\"decrease\",\"decrease\",\"decrease\",\"decrease\",\"decrease\",\"decrease\",\"decrease\",\"decrease\",\"no change\",\"no change\",\"no change\",\"no change\",\"no change\",\"no change\",\"no change\",\"no change\",\"no change\",\"no change\",\"no change\",\"no change\",\"no change\",\"no change\",\"no change\",\"no change\",\"no change\",\"no change\",\"no change\",\"no change\",\"no change\",\"no change\",\"no change\",\"no change\",\"no change\",\"no change\",\"no change\",\"no change\",\"no change\",\"no change\",\"no change\",\"no change\",\"no change\",\"no change\",\"no change\",\"no change\",\"no change\",\"no change\",\"no change\",\"no change\",\"no change\",\"decrease\",\"decrease\",\"decrease\",\"decrease\",\"decrease\",\"decrease\",\"decrease\",\"decrease\",\"decrease\",\"decrease\",\"decrease\",\"decrease\",\"decrease\",\"decrease\",\"decrease\",\"decrease\",\"no change\",\"no change\",\"no change\",\"no change\",\"no change\",\"no change\",\"no change\",\"no change\",\"no change\",\"no change\",\"no change\",\"no change\",\"no change\",\"no change\",\"no change\",\"no change\",\"no change\",\"no change\",\"no change\",\"no change\",\"no change\",\"no change\",\"no change\",\"no change\",\"no change\",\"no change\",\"no change\",\"no change\",\"no change\",\"no change\",\"no change\",\"no change\",\"no change\",\"no change\",\"no change\",\"no change\",\"no change\",\"no change\",\"no change\",\"no change\",\"no change\",\"no change\",\"no change\",\"no change\",\"no change\",\"no change\",\"no change\",\"no change\",\"no change\",\"no change\",\"no change\",\"no change\",\"no change\",\"no change\",\"no change\",\"no change\",\"no change\",\"no change\",\"no change\",\"no change\",\"no change\",\"no change\",\"no change\",\"no change\",\"no change\",\"no change\",\"no change\",\"no change\",\"no change\",\"no change\",\"no change\",\"no change\",\"no change\",\"no change\",\"no change\",\"no change\",\"no change\",\"no change\",\"increase\",\"increase\",\"increase\",\"increase\",\"increase\",\"increase\",\"increase\",\"increase\",\"increase\",\"increase\",\"increase\",\"increase\",\"increase\",\"increase\",\"increase\",\"increase\",\"increase\",\"increase\",\"increase\",\"increase\",\"increase\",\"increase\",\"increase\",\"increase\",\"increase\",\"increase\",\"increase\",\"increase\",\"increase\",\"increase\",\"increase\",\"increase\",\"increase\",\"increase\",\"increase\",\"increase\",\"increase\",\"increase\",\"increase\",\"increase\",\"increase\",\"increase\",\"increase\",\"increase\",\"increase\",\"increase\",\"increase\",\"increase\",\"increase\",\"increase\",\"increase\",\"increase\",\"increase\",\"increase\",\"increase\",\"increase\",\"increase\",\"increase\",\"increase\",\"increase\",\"increase\",\"increase\",\"increase\",\"increase\",\"increase\",\"increase\",\"increase\",\"increase\",\"increase\",\"increase\",\"increase\",\"increase\",\"increase\",\"increase\",\"increase\",\"increase\",\"increase\",\"increase\",\"increase\",\"increase\",\"increase\",\"increase\",\"increase\",\"increase\",\"increase\",\"increase\",\"increase\",\"increase\",\"increase\",\"increase\",\"increase\",\"increase\",\"increase\",\"increase\",\"increase\",\"increase\",\"increase\",\"increase\",\"increase\",\"increase\",\"increase\",\"increase\",\"increase\",\"increase\",\"increase\",\"increase\",\"increase\",\"increase\",\"increase\",\"increase\",\"increase\",\"increase\",\"increase\",\"increase\",\"increase\",\"increase\",\"increase\",\"increase\",\"increase\",\"increase\",\"increase\",\"increase\",\"increase\",\"increase\",\"increase\",\"increase\",\"increase\",\"increase\",\"increase\",\"increase\",\"increase\",\"increase\",\"increase\",\"increase\",\"increase\",\"increase\",\"increase\",\"increase\",\"increase\",\"increase\",\"increase\",\"increase\"],\"yaxis\":\"y\",\"type\":\"bar\"},{\"alignmentgroup\":\"True\",\"customdata\":[[0.0025],[0.0025],[0.0025],[0.0025],[0.0025],[0.0025],[0.0025],[0.0025],[0.0025],[0.0025],[0.0025],[0.0025],[0.0025],[0.0025],[0.0025],[0.0025],[0.0025],[0.0025],[0.0025],[0.0025],[0.0025],[0.0025],[0.0025],[0.0025],[0.0025],[0.0025],[0.0025],[0.0025],[0.0025],[0.0025],[0.0025],[0.0025],[0.0025],[0.0025],[0.0025],[0.0025],[0.0025],[0.0025],[0.0025],[0.0025],[0.0025],[0.0025],[0.0025],[0.0025],[0.0025],[0.0025],[0.0025],[0.0],[0.0],[0.0],[0.0],[0.0],[0.0],[0.0],[0.0],[0.0],[0.0],[0.0],[0.0],[0.0],[0.0],[0.0],[0.0],[0.0],[0.0],[0.0],[0.0],[0.0],[0.0],[0.0],[0.0],[0.0],[0.0],[0.0],[0.0],[0.0],[0.0],[0.0],[0.0],[0.0],[0.0],[0.0],[0.0],[0.0],[0.0],[0.0],[0.0],[0.0],[0.0],[0.0],[0.0],[0.0],[0.0],[0.0],[0.0],[0.0],[0.0],[0.0],[0.0],[0.0],[0.0],[0.0],[0.0],[0.0],[0.0],[0.0],[0.0],[0.0],[0.0],[0.0],[0.0],[0.0],[0.0],[0.0],[0.0],[-0.005],[-0.005],[-0.005],[-0.005],[-0.0025],[-0.0025],[-0.0025],[-0.0025],[-0.0025],[-0.0025],[-0.0025],[-0.0025],[-0.0025],[-0.0025],[-0.0025],[-0.0025],[-0.0025],[-0.0025],[-0.0025],[-0.0025],[-0.0025],[-0.0025],[-0.0025],[-0.0025],[-0.0025],[-0.0025],[-0.0025],[-0.0025],[-0.0025],[-0.0075],[-0.0075],[-0.0075],[-0.0075],[-0.0075],[-0.0075],[-0.0075],[-0.0075],[-0.0075],[-0.0075],[-0.0075],[-0.0075],[-0.0075],[-0.0075],[-0.0075],[-0.0075],[-0.0075],[-0.0075],[-0.0025],[-0.0025],[-0.0025],[-0.0025],[-0.0025],[-0.0025],[-0.0025],[-0.0025],[-0.0025],[-0.0025],[0.0],[0.0],[0.0],[0.0],[0.0],[0.0],[0.0],[0.0],[0.0],[0.0],[0.0],[0.0],[0.0],[0.0],[0.0],[0.0],[0.0],[0.0],[0.0],[0.0],[0.0],[0.0],[0.0],[0.0],[0.0],[0.0],[0.0],[0.0],[0.0],[-0.005],[-0.005],[-0.005],[-0.005],[-0.005],[-0.005],[-0.005],[-0.005],[-0.005],[-0.0075],[-0.0075],[-0.0075],[-0.0075],[-0.0075],[-0.0075],[-0.0075],[0.0],[0.0],[0.0],[0.0],[0.0],[0.0],[0.0],[0.0],[0.0],[0.0],[0.0],[0.0],[0.0],[0.0],[0.0],[0.0],[0.0],[0.0],[0.0],[0.0],[0.0],[0.0],[0.0],[0.0],[0.0],[0.0],[0.0],[0.0],[0.0],[0.0],[0.0],[0.0],[0.0],[0.0],[0.0],[0.0],[0.0],[0.0],[0.0],[0.0],[0.0],[0.0],[0.0],[0.0],[0.0],[0.0],[0.0],[0.0],[0.0],[0.0],[0.0],[0.0],[0.0],[0.0],[0.0],[0.0],[0.0],[0.0],[0.0],[0.0],[0.0],[0.0],[0.0],[0.0],[0.0],[0.0],[0.0],[0.0],[0.0],[0.0],[0.0],[0.0],[0.0],[0.0],[0.0],[0.0],[0.0],[0.0],[0.0],[0.0],[0.0],[0.0],[0.0],[0.0],[0.0],[0.0],[0.0],[0.0],[0.0],[0.0],[0.0],[0.0],[0.0],[0.0],[0.0],[0.0],[0.0],[0.0],[0.0],[0.0],[0.0],[0.0],[0.0],[0.0],[0.0],[0.0],[0.0],[0.0],[0.0],[0.0],[0.0],[0.0],[0.0],[0.0],[0.0],[0.0],[0.0],[0.0],[0.0],[0.0],[0.0],[0.0],[0.0],[0.0],[0.0],[0.0],[0.0],[0.0],[0.0],[0.0],[0.0],[0.0],[0.0],[0.0],[0.0],[0.0],[0.0],[0.0],[0.0],[0.0],[0.0],[0.0],[0.0],[0.0],[0.0],[0.0],[0.0],[0.0],[0.0],[0.0],[0.0],[0.0],[0.0],[0.0],[0.0],[0.0],[0.0],[0.0],[0.0],[0.0],[0.0],[0.0],[0.0],[0.0],[0.0],[0.0],[0.0],[0.0],[0.0],[0.0],[0.0],[0.0],[0.0],[0.0],[0.0],[0.0],[0.0],[0.0],[0.0],[0.0],[0.0],[0.0],[0.0],[0.0],[0.0],[0.0],[0.0],[0.0],[0.0],[0.0],[0.0],[0.0],[0.0],[0.0],[0.0],[0.0],[0.0],[0.0],[0.0],[0.0],[0.0],[0.0],[0.0],[0.0],[0.0],[0.0],[0.0],[0.0],[0.0],[0.0],[0.0],[0.0],[0.0],[0.0],[0.0],[0.0],[0.0],[0.0],[0.0],[0.0],[0.0],[0.0],[0.0],[0.0],[0.0],[0.0],[0.0],[0.0],[0.0],[0.0],[0.0],[0.0],[0.0],[0.0],[0.0],[0.0],[0.0],[0.0],[0.0],[0.0],[0.0],[0.0],[0.0],[0.0],[0.0],[0.0],[0.0],[0.0],[0.0],[0.0],[0.0],[0.0],[0.0],[0.0],[0.0],[0.0],[0.0],[0.0],[0.0],[0.0],[0.0],[0.0],[0.0],[0.0],[0.0],[0.0],[0.0],[0.0],[0.0],[0.0],[0.0],[0.0],[0.0],[0.0],[0.0],[0.0],[0.0],[0.0],[0.0],[0.0],[0.0],[0.0],[0.0],[0.0],[0.0],[0.0],[0.0],[0.0],[0.0],[0.0],[0.0],[0.0],[0.0],[0.0],[0.0],[0.0],[0.0],[0.0],[0.0],[0.0],[0.0],[0.0],[0.0],[0.0],[0.0],[0.0],[0.0],[0.0],[0.0],[0.0],[0.0],[0.0],[0.0],[0.0],[0.0],[0.0],[0.0],[0.0],[0.0],[0.0],[0.0],[0.0],[0.0],[0.0],[0.0],[0.0],[0.0],[0.0],[0.0],[0.0],[0.0],[0.0],[0.0],[0.0],[0.0],[0.0],[0.0],[0.0],[0.0]],\"hovertemplate\":\"fed_chair=Ben Bernanke<br>count=%{x}<br>action=%{y}<br>rate_change=%{customdata[0]}<extra></extra>\",\"legendgroup\":\"Ben Bernanke\",\"marker\":{\"color\":\"#EF553B\",\"pattern\":{\"shape\":\"\"}},\"name\":\"Ben Bernanke\",\"offsetgroup\":\"Ben Bernanke\",\"orientation\":\"h\",\"showlegend\":true,\"textposition\":\"auto\",\"x\":[1,1,1,1,1,1,1,1,1,1,1,1,1,1,1,1,1,1,1,1,1,1,1,1,1,1,1,1,1,1,1,1,1,1,1,1,1,1,1,1,1,1,1,1,1,1,1,1,1,1,1,1,1,1,1,1,1,1,1,1,1,1,1,1,1,1,1,1,1,1,1,1,1,1,1,1,1,1,1,1,1,1,1,1,1,1,1,1,1,1,1,1,1,1,1,1,1,1,1,1,1,1,1,1,1,1,1,1,1,1,1,1,1,1,1,1,1,1,1,1,1,1,1,1,1,1,1,1,1,1,1,1,1,1,1,1,1,1,1,1,1,1,1,1,1,1,1,1,1,1,1,1,1,1,1,1,1,1,1,1,1,1,1,1,1,1,1,1,1,1,1,1,1,1,1,1,1,1,1,1,1,1,1,1,1,1,1,1,1,1,1,1,1,1,1,1,1,1,1,1,1,1,1,1,1,1,1,1,1,1,1,1,1,1,1,1,1,1,1,1,1,1,1,1,1,1,1,1,1,1,1,1,1,1,1,1,1,1,1,1,1,1,1,1,1,1,1,1,1,1,1,1,1,1,1,1,1,1,1,1,1,1,1,1,1,1,1,1,1,1,1,1,1,1,1,1,1,1,1,1,1,1,1,1,1,1,1,1,1,1,1,1,1,1,1,1,1,1,1,1,1,1,1,1,1,1,1,1,1,1,1,1,1,1,1,1,1,1,1,1,1,1,1,1,1,1,1,1,1,1,1,1,1,1,1,1,1,1,1,1,1,1,1,1,1,1,1,1,1,1,1,1,1,1,1,1,1,1,1,1,1,1,1,1,1,1,1,1,1,1,1,1,1,1,1,1,1,1,1,1,1,1,1,1,1,1,1,1,1,1,1,1,1,1,1,1,1,1,1,1,1,1,1,1,1,1,1,1,1,1,1,1,1,1,1,1,1,1,1,1,1,1,1,1,1,1,1,1,1,1,1,1,1,1,1,1,1,1,1,1,1,1,1,1,1,1,1,1,1,1,1,1,1,1,1,1,1,1,1,1,1,1,1,1,1,1,1,1,1,1,1,1,1,1,1,1,1,1,1,1,1,1,1,1,1,1,1,1,1,1,1,1,1,1,1,1,1,1,1,1,1,1,1,1,1,1,1,1,1,1,1,1,1,1,1,1,1,1,1,1,1,1,1,1,1,1,1,1,1,1,1,1,1,1,1,1,1,1,1,1,1,1,1,1,1,1,1,1,1,1,1,1,1,1,1,1],\"xaxis\":\"x\",\"y\":[\"increase\",\"increase\",\"increase\",\"increase\",\"increase\",\"increase\",\"increase\",\"increase\",\"increase\",\"increase\",\"increase\",\"increase\",\"increase\",\"increase\",\"increase\",\"increase\",\"increase\",\"increase\",\"increase\",\"increase\",\"increase\",\"increase\",\"increase\",\"increase\",\"increase\",\"increase\",\"increase\",\"increase\",\"increase\",\"increase\",\"increase\",\"increase\",\"increase\",\"increase\",\"increase\",\"increase\",\"increase\",\"increase\",\"increase\",\"increase\",\"increase\",\"increase\",\"increase\",\"increase\",\"increase\",\"increase\",\"increase\",\"no change\",\"no change\",\"no change\",\"no change\",\"no change\",\"no change\",\"no change\",\"no change\",\"no change\",\"no change\",\"no change\",\"no change\",\"no change\",\"no change\",\"no change\",\"no change\",\"no change\",\"no change\",\"no change\",\"no change\",\"no change\",\"no change\",\"no change\",\"no change\",\"no change\",\"no change\",\"no change\",\"no change\",\"no change\",\"no change\",\"no change\",\"no change\",\"no change\",\"no change\",\"no change\",\"no change\",\"no change\",\"no change\",\"no change\",\"no change\",\"no change\",\"no change\",\"no change\",\"no change\",\"no change\",\"no change\",\"no change\",\"no change\",\"no change\",\"no change\",\"no change\",\"no change\",\"no change\",\"no change\",\"no change\",\"no change\",\"no change\",\"no change\",\"no change\",\"no change\",\"no change\",\"no change\",\"no change\",\"no change\",\"no change\",\"no change\",\"no change\",\"no change\",\"decrease\",\"decrease\",\"decrease\",\"decrease\",\"decrease\",\"decrease\",\"decrease\",\"decrease\",\"decrease\",\"decrease\",\"decrease\",\"decrease\",\"decrease\",\"decrease\",\"decrease\",\"decrease\",\"decrease\",\"decrease\",\"decrease\",\"decrease\",\"decrease\",\"decrease\",\"decrease\",\"decrease\",\"decrease\",\"decrease\",\"decrease\",\"decrease\",\"decrease\",\"decrease\",\"decrease\",\"decrease\",\"decrease\",\"decrease\",\"decrease\",\"decrease\",\"decrease\",\"decrease\",\"decrease\",\"decrease\",\"decrease\",\"decrease\",\"decrease\",\"decrease\",\"decrease\",\"decrease\",\"decrease\",\"decrease\",\"decrease\",\"decrease\",\"decrease\",\"decrease\",\"decrease\",\"decrease\",\"decrease\",\"decrease\",\"decrease\",\"no change\",\"no change\",\"no change\",\"no change\",\"no change\",\"no change\",\"no change\",\"no change\",\"no change\",\"no change\",\"no change\",\"no change\",\"no change\",\"no change\",\"no change\",\"no change\",\"no change\",\"no change\",\"no change\",\"no change\",\"no change\",\"no change\",\"no change\",\"no change\",\"no change\",\"no change\",\"no change\",\"no change\",\"no change\",\"decrease\",\"decrease\",\"decrease\",\"decrease\",\"decrease\",\"decrease\",\"decrease\",\"decrease\",\"decrease\",\"increase\",\"increase\",\"increase\",\"increase\",\"increase\",\"increase\",\"increase\",\"no change\",\"no change\",\"no change\",\"no change\",\"no change\",\"no change\",\"no change\",\"no change\",\"no change\",\"no change\",\"no change\",\"no change\",\"no change\",\"no change\",\"no change\",\"no change\",\"no change\",\"no change\",\"no change\",\"no change\",\"no change\",\"no change\",\"no change\",\"no change\",\"no change\",\"no change\",\"no change\",\"no change\",\"no change\",\"no change\",\"no change\",\"no change\",\"no change\",\"no change\",\"no change\",\"no change\",\"no change\",\"no change\",\"no change\",\"no change\",\"no change\",\"no change\",\"no change\",\"no change\",\"no change\",\"no change\",\"no change\",\"no change\",\"no change\",\"no change\",\"no change\",\"no change\",\"no change\",\"no change\",\"no change\",\"no change\",\"no change\",\"no change\",\"no change\",\"no change\",\"no change\",\"no change\",\"no change\",\"no change\",\"no change\",\"no change\",\"no change\",\"no change\",\"no change\",\"no change\",\"no change\",\"no change\",\"no change\",\"no change\",\"no change\",\"no change\",\"no change\",\"no change\",\"no change\",\"no change\",\"no change\",\"no change\",\"no change\",\"no change\",\"no change\",\"no change\",\"no change\",\"no change\",\"no change\",\"no change\",\"no change\",\"no change\",\"no change\",\"no change\",\"no change\",\"no change\",\"no change\",\"no change\",\"no change\",\"no change\",\"no change\",\"no change\",\"no change\",\"no change\",\"no change\",\"no change\",\"no change\",\"no change\",\"no change\",\"no change\",\"no change\",\"no change\",\"no change\",\"no change\",\"no change\",\"no change\",\"no change\",\"no change\",\"no change\",\"no change\",\"no change\",\"no change\",\"no change\",\"no change\",\"no change\",\"no change\",\"no change\",\"no change\",\"no change\",\"no change\",\"no change\",\"no change\",\"no change\",\"no change\",\"no change\",\"no change\",\"no change\",\"no change\",\"no change\",\"no change\",\"no change\",\"no change\",\"no change\",\"no change\",\"no change\",\"no change\",\"no change\",\"no change\",\"no change\",\"no change\",\"no change\",\"no change\",\"no change\",\"no change\",\"no change\",\"no change\",\"no change\",\"no change\",\"no change\",\"no change\",\"no change\",\"no change\",\"no change\",\"no change\",\"no change\",\"no change\",\"no change\",\"no change\",\"no change\",\"no change\",\"no change\",\"no change\",\"no change\",\"no change\",\"no change\",\"no change\",\"no change\",\"no change\",\"no change\",\"no change\",\"no change\",\"no change\",\"no change\",\"no change\",\"no change\",\"no change\",\"no change\",\"no change\",\"no change\",\"no change\",\"no change\",\"no change\",\"no change\",\"no change\",\"no change\",\"no change\",\"no change\",\"no change\",\"no change\",\"no change\",\"no change\",\"no change\",\"no change\",\"no change\",\"no change\",\"no change\",\"no change\",\"no change\",\"no change\",\"no change\",\"no change\",\"no change\",\"no change\",\"no change\",\"no change\",\"no change\",\"no change\",\"no change\",\"no change\",\"no change\",\"no change\",\"no change\",\"no change\",\"no change\",\"no change\",\"no change\",\"no change\",\"no change\",\"no change\",\"no change\",\"no change\",\"no change\",\"no change\",\"no change\",\"no change\",\"no change\",\"no change\",\"no change\",\"no change\",\"no change\",\"no change\",\"no change\",\"no change\",\"no change\",\"no change\",\"no change\",\"no change\",\"no change\",\"no change\",\"no change\",\"no change\",\"no change\",\"no change\",\"no change\",\"no change\",\"no change\",\"no change\",\"no change\",\"no change\",\"no change\",\"no change\",\"no change\",\"no change\",\"no change\",\"no change\",\"no change\",\"no change\",\"no change\",\"no change\",\"no change\",\"no change\",\"no change\",\"no change\",\"no change\",\"no change\",\"no change\",\"no change\",\"no change\",\"no change\",\"no change\",\"no change\",\"no change\",\"no change\",\"no change\",\"no change\",\"no change\",\"no change\",\"no change\",\"no change\",\"no change\",\"no change\",\"no change\",\"no change\",\"no change\",\"no change\",\"no change\",\"no change\",\"no change\",\"no change\",\"no change\",\"no change\",\"no change\",\"no change\",\"no change\",\"no change\",\"no change\",\"no change\",\"no change\",\"no change\",\"no change\",\"no change\",\"no change\",\"no change\",\"no change\",\"no change\",\"no change\",\"no change\",\"no change\",\"no change\",\"no change\",\"no change\",\"no change\",\"no change\",\"no change\",\"no change\",\"no change\",\"no change\",\"no change\",\"no change\",\"no change\",\"no change\",\"no change\",\"no change\",\"no change\",\"no change\",\"no change\",\"no change\",\"no change\",\"no change\"],\"yaxis\":\"y\",\"type\":\"bar\"},{\"alignmentgroup\":\"True\",\"customdata\":[[0.0025],[0.0025],[0.0025],[0.0025],[0.0025],[0.0025],[0.0025],[0.0025],[0.0025],[0.0025],[0.0025],[0.0025],[0.0025],[0.0],[0.0],[0.0],[0.0],[0.0],[0.0],[0.0],[0.0],[0.0],[0.0],[0.0],[0.0],[0.0],[0.0],[0.0],[0.0],[0.0],[0.0],[0.0],[0.0],[0.0],[0.0],[0.0],[0.0],[0.0],[0.0],[0.0],[0.0],[0.0],[0.0],[0.0],[0.0],[0.0],[0.0025],[0.0025],[0.0025],[0.0025],[0.0025],[0.0025],[0.0025],[0.0025],[0.0025],[0.0025],[0.0],[0.0],[0.0],[0.0],[0.0],[0.0],[0.0025],[0.0025],[0.0025],[0.0025],[0.0025],[0.0025],[0.0],[0.0],[0.0],[0.0],[0.0],[0.0],[0.0],[0.0],[0.0],[0.0025],[0.0025],[0.0025],[0.0025],[0.0025],[0.0],[0.0],[0.0],[0.0],[0.0],[0.0],[0.0],[0.0],[0.0],[0.0],[0.0],[0.0],[0.0],[0.0],[0.0],[0.0],[0.0],[0.0],[0.0],[0.0],[0.0],[0.0],[0.0],[0.0],[0.0025],[0.0025],[0.0025],[0.0025],[0.0025],[0.0025],[0.0]],\"hovertemplate\":\"fed_chair=Janet Yellen<br>count=%{x}<br>action=%{y}<br>rate_change=%{customdata[0]}<extra></extra>\",\"legendgroup\":\"Janet Yellen\",\"marker\":{\"color\":\"#00cc96\",\"pattern\":{\"shape\":\"\"}},\"name\":\"Janet Yellen\",\"offsetgroup\":\"Janet Yellen\",\"orientation\":\"h\",\"showlegend\":true,\"textposition\":\"auto\",\"x\":[1,1,1,1,1,1,1,1,1,1,1,1,1,1,1,1,1,1,1,1,1,1,1,1,1,1,1,1,1,1,1,1,1,1,1,1,1,1,1,1,1,1,1,1,1,1,1,1,1,1,1,1,1,1,1,1,1,1,1,1,1,1,1,1,1,1,1,1,1,1,1,1,1,1,1,1,1,1,1,1,1,1,1,1,1,1,1,1,1,1,1,1,1,1,1,1,1,1,1,1,1,1,1,1,1,1,1,1,1,1,1,1,1],\"xaxis\":\"x\",\"y\":[\"increase\",\"increase\",\"increase\",\"increase\",\"increase\",\"increase\",\"increase\",\"increase\",\"increase\",\"increase\",\"increase\",\"increase\",\"increase\",\"no change\",\"no change\",\"no change\",\"no change\",\"no change\",\"no change\",\"no change\",\"no change\",\"no change\",\"no change\",\"no change\",\"no change\",\"no change\",\"no change\",\"no change\",\"no change\",\"no change\",\"no change\",\"no change\",\"no change\",\"no change\",\"no change\",\"no change\",\"no change\",\"no change\",\"no change\",\"no change\",\"no change\",\"no change\",\"no change\",\"no change\",\"no change\",\"no change\",\"increase\",\"increase\",\"increase\",\"increase\",\"increase\",\"increase\",\"increase\",\"increase\",\"increase\",\"increase\",\"no change\",\"no change\",\"no change\",\"no change\",\"no change\",\"no change\",\"increase\",\"increase\",\"increase\",\"increase\",\"increase\",\"increase\",\"no change\",\"no change\",\"no change\",\"no change\",\"no change\",\"no change\",\"no change\",\"no change\",\"no change\",\"increase\",\"increase\",\"increase\",\"increase\",\"increase\",\"no change\",\"no change\",\"no change\",\"no change\",\"no change\",\"no change\",\"no change\",\"no change\",\"no change\",\"no change\",\"no change\",\"no change\",\"no change\",\"no change\",\"no change\",\"no change\",\"no change\",\"no change\",\"no change\",\"no change\",\"no change\",\"no change\",\"no change\",\"no change\",\"increase\",\"increase\",\"increase\",\"increase\",\"increase\",\"increase\",\"no change\"],\"yaxis\":\"y\",\"type\":\"bar\"},{\"alignmentgroup\":\"True\",\"customdata\":[[0.0025],[0.0025],[0.0025],[0.0025],[0.0025],[0.0025],[0.0],[0.0],[0.0],[0.0],[0.0],[0.0025],[0.0025],[0.0025],[0.0025],[0.0025],[0.0025],[0.0025],[0.0],[0.0],[0.0],[0.0],[0.0025],[0.0025],[0.0025],[0.0],[0.0],[0.0],[0.0],[0.0],[0.0],[0.0],[0.0025],[0.0025],[0.0025],[0.0025],[0.0025],[0.0025],[0.0025],[0.0025],[0.0025],[0.0025],[0.0025],[0.0],[0.0],[0.0],[0.0],[0.0],[0.0],[0.0],[0.0],[0.0],[0.0],[0.0],[0.0],[0.0],[0.0],[0.0],[0.0],[0.0],[0.0],[0.0],[0.0],[0.0],[0.0],[0.0],[0.0],[0.0],[0.0],[0.0],[0.0],[0.0],[0.0],[0.0],[0.0],[0.0],[0.0],[0.0],[0.0],[0.0],[0.0],[0.0],[0.0],[0.0],[0.0],[-0.0025],[-0.0025],[-0.0025],[-0.0025],[-0.0025],[-0.0025],[-0.0025],[-0.0025],[-0.0025],[-0.0025],[-0.0025],[-0.0025],[-0.0025],[0.0],[0.0],[0.0],[0.0],[0.0],[0.0],[0.0],[-0.0025],[-0.0025],[-0.0025],[-0.0025],[-0.0025],[-0.0025],[-0.0025],[0.0],[0.0],[0.0],[0.0],[0.0],[0.0],[0.0],[0.0],[0.0],[0.0],[0.0],[0.0],[0.0],[-0.005],[-0.005],[-0.005],[-0.005],[-0.005],[-0.005],[-0.005],[-0.005],[-0.01],[0.0],[0.0],[0.0],[0.0],[0.0],[0.0],[0.0],[0.0]],\"hovertemplate\":\"fed_chair=Jerome Powell<br>count=%{x}<br>action=%{y}<br>rate_change=%{customdata[0]}<extra></extra>\",\"legendgroup\":\"Jerome Powell\",\"marker\":{\"color\":\"#ab63fa\",\"pattern\":{\"shape\":\"\"}},\"name\":\"Jerome Powell\",\"offsetgroup\":\"Jerome Powell\",\"orientation\":\"h\",\"showlegend\":true,\"textposition\":\"auto\",\"x\":[1,1,1,1,1,1,1,1,1,1,1,1,1,1,1,1,1,1,1,1,1,1,1,1,1,1,1,1,1,1,1,1,1,1,1,1,1,1,1,1,1,1,1,1,1,1,1,1,1,1,1,1,1,1,1,1,1,1,1,1,1,1,1,1,1,1,1,1,1,1,1,1,1,1,1,1,1,1,1,1,1,1,1,1,1,1,1,1,1,1,1,1,1,1,1,1,1,1,1,1,1,1,1,1,1,1,1,1,1,1,1,1,1,1,1,1,1,1,1,1,1,1,1,1,1,1,1,1,1,1,1,1,1,1,1,1,1,1,1,1,1,1],\"xaxis\":\"x\",\"y\":[\"increase\",\"increase\",\"increase\",\"increase\",\"increase\",\"increase\",\"no change\",\"no change\",\"no change\",\"no change\",\"no change\",\"increase\",\"increase\",\"increase\",\"increase\",\"increase\",\"increase\",\"increase\",\"no change\",\"no change\",\"no change\",\"no change\",\"increase\",\"increase\",\"increase\",\"no change\",\"no change\",\"no change\",\"no change\",\"no change\",\"no change\",\"no change\",\"increase\",\"increase\",\"increase\",\"increase\",\"increase\",\"increase\",\"increase\",\"increase\",\"increase\",\"increase\",\"increase\",\"no change\",\"no change\",\"no change\",\"no change\",\"no change\",\"no change\",\"no change\",\"no change\",\"no change\",\"no change\",\"no change\",\"no change\",\"no change\",\"no change\",\"no change\",\"no change\",\"no change\",\"no change\",\"no change\",\"no change\",\"no change\",\"no change\",\"no change\",\"no change\",\"no change\",\"no change\",\"no change\",\"no change\",\"no change\",\"no change\",\"no change\",\"no change\",\"no change\",\"no change\",\"no change\",\"no change\",\"no change\",\"no change\",\"no change\",\"no change\",\"no change\",\"no change\",\"decrease\",\"decrease\",\"decrease\",\"decrease\",\"decrease\",\"decrease\",\"decrease\",\"decrease\",\"decrease\",\"decrease\",\"decrease\",\"decrease\",\"decrease\",\"no change\",\"no change\",\"no change\",\"no change\",\"no change\",\"no change\",\"no change\",\"decrease\",\"decrease\",\"decrease\",\"decrease\",\"decrease\",\"decrease\",\"decrease\",\"no change\",\"no change\",\"no change\",\"no change\",\"no change\",\"no change\",\"no change\",\"no change\",\"no change\",\"no change\",\"no change\",\"no change\",\"no change\",\"decrease\",\"decrease\",\"decrease\",\"decrease\",\"decrease\",\"decrease\",\"decrease\",\"decrease\",\"decrease\",\"no change\",\"no change\",\"no change\",\"no change\",\"no change\",\"no change\",\"no change\",\"no change\"],\"yaxis\":\"y\",\"type\":\"bar\"}],                        {\"template\":{\"data\":{\"bar\":[{\"error_x\":{\"color\":\"#2a3f5f\"},\"error_y\":{\"color\":\"#2a3f5f\"},\"marker\":{\"line\":{\"color\":\"#E5ECF6\",\"width\":0.5},\"pattern\":{\"fillmode\":\"overlay\",\"size\":10,\"solidity\":0.2}},\"type\":\"bar\"}],\"barpolar\":[{\"marker\":{\"line\":{\"color\":\"#E5ECF6\",\"width\":0.5},\"pattern\":{\"fillmode\":\"overlay\",\"size\":10,\"solidity\":0.2}},\"type\":\"barpolar\"}],\"carpet\":[{\"aaxis\":{\"endlinecolor\":\"#2a3f5f\",\"gridcolor\":\"white\",\"linecolor\":\"white\",\"minorgridcolor\":\"white\",\"startlinecolor\":\"#2a3f5f\"},\"baxis\":{\"endlinecolor\":\"#2a3f5f\",\"gridcolor\":\"white\",\"linecolor\":\"white\",\"minorgridcolor\":\"white\",\"startlinecolor\":\"#2a3f5f\"},\"type\":\"carpet\"}],\"choropleth\":[{\"colorbar\":{\"outlinewidth\":0,\"ticks\":\"\"},\"type\":\"choropleth\"}],\"contour\":[{\"colorbar\":{\"outlinewidth\":0,\"ticks\":\"\"},\"colorscale\":[[0.0,\"#0d0887\"],[0.1111111111111111,\"#46039f\"],[0.2222222222222222,\"#7201a8\"],[0.3333333333333333,\"#9c179e\"],[0.4444444444444444,\"#bd3786\"],[0.5555555555555556,\"#d8576b\"],[0.6666666666666666,\"#ed7953\"],[0.7777777777777778,\"#fb9f3a\"],[0.8888888888888888,\"#fdca26\"],[1.0,\"#f0f921\"]],\"type\":\"contour\"}],\"contourcarpet\":[{\"colorbar\":{\"outlinewidth\":0,\"ticks\":\"\"},\"type\":\"contourcarpet\"}],\"heatmap\":[{\"colorbar\":{\"outlinewidth\":0,\"ticks\":\"\"},\"colorscale\":[[0.0,\"#0d0887\"],[0.1111111111111111,\"#46039f\"],[0.2222222222222222,\"#7201a8\"],[0.3333333333333333,\"#9c179e\"],[0.4444444444444444,\"#bd3786\"],[0.5555555555555556,\"#d8576b\"],[0.6666666666666666,\"#ed7953\"],[0.7777777777777778,\"#fb9f3a\"],[0.8888888888888888,\"#fdca26\"],[1.0,\"#f0f921\"]],\"type\":\"heatmap\"}],\"heatmapgl\":[{\"colorbar\":{\"outlinewidth\":0,\"ticks\":\"\"},\"colorscale\":[[0.0,\"#0d0887\"],[0.1111111111111111,\"#46039f\"],[0.2222222222222222,\"#7201a8\"],[0.3333333333333333,\"#9c179e\"],[0.4444444444444444,\"#bd3786\"],[0.5555555555555556,\"#d8576b\"],[0.6666666666666666,\"#ed7953\"],[0.7777777777777778,\"#fb9f3a\"],[0.8888888888888888,\"#fdca26\"],[1.0,\"#f0f921\"]],\"type\":\"heatmapgl\"}],\"histogram\":[{\"marker\":{\"pattern\":{\"fillmode\":\"overlay\",\"size\":10,\"solidity\":0.2}},\"type\":\"histogram\"}],\"histogram2d\":[{\"colorbar\":{\"outlinewidth\":0,\"ticks\":\"\"},\"colorscale\":[[0.0,\"#0d0887\"],[0.1111111111111111,\"#46039f\"],[0.2222222222222222,\"#7201a8\"],[0.3333333333333333,\"#9c179e\"],[0.4444444444444444,\"#bd3786\"],[0.5555555555555556,\"#d8576b\"],[0.6666666666666666,\"#ed7953\"],[0.7777777777777778,\"#fb9f3a\"],[0.8888888888888888,\"#fdca26\"],[1.0,\"#f0f921\"]],\"type\":\"histogram2d\"}],\"histogram2dcontour\":[{\"colorbar\":{\"outlinewidth\":0,\"ticks\":\"\"},\"colorscale\":[[0.0,\"#0d0887\"],[0.1111111111111111,\"#46039f\"],[0.2222222222222222,\"#7201a8\"],[0.3333333333333333,\"#9c179e\"],[0.4444444444444444,\"#bd3786\"],[0.5555555555555556,\"#d8576b\"],[0.6666666666666666,\"#ed7953\"],[0.7777777777777778,\"#fb9f3a\"],[0.8888888888888888,\"#fdca26\"],[1.0,\"#f0f921\"]],\"type\":\"histogram2dcontour\"}],\"mesh3d\":[{\"colorbar\":{\"outlinewidth\":0,\"ticks\":\"\"},\"type\":\"mesh3d\"}],\"parcoords\":[{\"line\":{\"colorbar\":{\"outlinewidth\":0,\"ticks\":\"\"}},\"type\":\"parcoords\"}],\"pie\":[{\"automargin\":true,\"type\":\"pie\"}],\"scatter\":[{\"marker\":{\"colorbar\":{\"outlinewidth\":0,\"ticks\":\"\"}},\"type\":\"scatter\"}],\"scatter3d\":[{\"line\":{\"colorbar\":{\"outlinewidth\":0,\"ticks\":\"\"}},\"marker\":{\"colorbar\":{\"outlinewidth\":0,\"ticks\":\"\"}},\"type\":\"scatter3d\"}],\"scattercarpet\":[{\"marker\":{\"colorbar\":{\"outlinewidth\":0,\"ticks\":\"\"}},\"type\":\"scattercarpet\"}],\"scattergeo\":[{\"marker\":{\"colorbar\":{\"outlinewidth\":0,\"ticks\":\"\"}},\"type\":\"scattergeo\"}],\"scattergl\":[{\"marker\":{\"colorbar\":{\"outlinewidth\":0,\"ticks\":\"\"}},\"type\":\"scattergl\"}],\"scattermapbox\":[{\"marker\":{\"colorbar\":{\"outlinewidth\":0,\"ticks\":\"\"}},\"type\":\"scattermapbox\"}],\"scatterpolar\":[{\"marker\":{\"colorbar\":{\"outlinewidth\":0,\"ticks\":\"\"}},\"type\":\"scatterpolar\"}],\"scatterpolargl\":[{\"marker\":{\"colorbar\":{\"outlinewidth\":0,\"ticks\":\"\"}},\"type\":\"scatterpolargl\"}],\"scatterternary\":[{\"marker\":{\"colorbar\":{\"outlinewidth\":0,\"ticks\":\"\"}},\"type\":\"scatterternary\"}],\"surface\":[{\"colorbar\":{\"outlinewidth\":0,\"ticks\":\"\"},\"colorscale\":[[0.0,\"#0d0887\"],[0.1111111111111111,\"#46039f\"],[0.2222222222222222,\"#7201a8\"],[0.3333333333333333,\"#9c179e\"],[0.4444444444444444,\"#bd3786\"],[0.5555555555555556,\"#d8576b\"],[0.6666666666666666,\"#ed7953\"],[0.7777777777777778,\"#fb9f3a\"],[0.8888888888888888,\"#fdca26\"],[1.0,\"#f0f921\"]],\"type\":\"surface\"}],\"table\":[{\"cells\":{\"fill\":{\"color\":\"#EBF0F8\"},\"line\":{\"color\":\"white\"}},\"header\":{\"fill\":{\"color\":\"#C8D4E3\"},\"line\":{\"color\":\"white\"}},\"type\":\"table\"}]},\"layout\":{\"annotationdefaults\":{\"arrowcolor\":\"#2a3f5f\",\"arrowhead\":0,\"arrowwidth\":1},\"autotypenumbers\":\"strict\",\"coloraxis\":{\"colorbar\":{\"outlinewidth\":0,\"ticks\":\"\"}},\"colorscale\":{\"diverging\":[[0,\"#8e0152\"],[0.1,\"#c51b7d\"],[0.2,\"#de77ae\"],[0.3,\"#f1b6da\"],[0.4,\"#fde0ef\"],[0.5,\"#f7f7f7\"],[0.6,\"#e6f5d0\"],[0.7,\"#b8e186\"],[0.8,\"#7fbc41\"],[0.9,\"#4d9221\"],[1,\"#276419\"]],\"sequential\":[[0.0,\"#0d0887\"],[0.1111111111111111,\"#46039f\"],[0.2222222222222222,\"#7201a8\"],[0.3333333333333333,\"#9c179e\"],[0.4444444444444444,\"#bd3786\"],[0.5555555555555556,\"#d8576b\"],[0.6666666666666666,\"#ed7953\"],[0.7777777777777778,\"#fb9f3a\"],[0.8888888888888888,\"#fdca26\"],[1.0,\"#f0f921\"]],\"sequentialminus\":[[0.0,\"#0d0887\"],[0.1111111111111111,\"#46039f\"],[0.2222222222222222,\"#7201a8\"],[0.3333333333333333,\"#9c179e\"],[0.4444444444444444,\"#bd3786\"],[0.5555555555555556,\"#d8576b\"],[0.6666666666666666,\"#ed7953\"],[0.7777777777777778,\"#fb9f3a\"],[0.8888888888888888,\"#fdca26\"],[1.0,\"#f0f921\"]]},\"colorway\":[\"#636efa\",\"#EF553B\",\"#00cc96\",\"#ab63fa\",\"#FFA15A\",\"#19d3f3\",\"#FF6692\",\"#B6E880\",\"#FF97FF\",\"#FECB52\"],\"font\":{\"color\":\"#2a3f5f\"},\"geo\":{\"bgcolor\":\"white\",\"lakecolor\":\"white\",\"landcolor\":\"#E5ECF6\",\"showlakes\":true,\"showland\":true,\"subunitcolor\":\"white\"},\"hoverlabel\":{\"align\":\"left\"},\"hovermode\":\"closest\",\"mapbox\":{\"style\":\"light\"},\"paper_bgcolor\":\"white\",\"plot_bgcolor\":\"#E5ECF6\",\"polar\":{\"angularaxis\":{\"gridcolor\":\"white\",\"linecolor\":\"white\",\"ticks\":\"\"},\"bgcolor\":\"#E5ECF6\",\"radialaxis\":{\"gridcolor\":\"white\",\"linecolor\":\"white\",\"ticks\":\"\"}},\"scene\":{\"xaxis\":{\"backgroundcolor\":\"#E5ECF6\",\"gridcolor\":\"white\",\"gridwidth\":2,\"linecolor\":\"white\",\"showbackground\":true,\"ticks\":\"\",\"zerolinecolor\":\"white\"},\"yaxis\":{\"backgroundcolor\":\"#E5ECF6\",\"gridcolor\":\"white\",\"gridwidth\":2,\"linecolor\":\"white\",\"showbackground\":true,\"ticks\":\"\",\"zerolinecolor\":\"white\"},\"zaxis\":{\"backgroundcolor\":\"#E5ECF6\",\"gridcolor\":\"white\",\"gridwidth\":2,\"linecolor\":\"white\",\"showbackground\":true,\"ticks\":\"\",\"zerolinecolor\":\"white\"}},\"shapedefaults\":{\"line\":{\"color\":\"#2a3f5f\"}},\"ternary\":{\"aaxis\":{\"gridcolor\":\"white\",\"linecolor\":\"white\",\"ticks\":\"\"},\"baxis\":{\"gridcolor\":\"white\",\"linecolor\":\"white\",\"ticks\":\"\"},\"bgcolor\":\"#E5ECF6\",\"caxis\":{\"gridcolor\":\"white\",\"linecolor\":\"white\",\"ticks\":\"\"}},\"title\":{\"x\":0.05},\"xaxis\":{\"automargin\":true,\"gridcolor\":\"white\",\"linecolor\":\"white\",\"ticks\":\"\",\"title\":{\"standoff\":15},\"zerolinecolor\":\"white\",\"zerolinewidth\":2},\"yaxis\":{\"automargin\":true,\"gridcolor\":\"white\",\"linecolor\":\"white\",\"ticks\":\"\",\"title\":{\"standoff\":15},\"zerolinecolor\":\"white\",\"zerolinewidth\":2}}},\"xaxis\":{\"anchor\":\"y\",\"domain\":[0.0,1.0],\"title\":{\"text\":\"count\"}},\"yaxis\":{\"anchor\":\"x\",\"domain\":[0.0,1.0],\"title\":{\"text\":\"action\"}},\"legend\":{\"title\":{\"text\":\"fed_chair\"},\"tracegroupgap\":0},\"title\":{\"text\":\"Rate Changes by Fed Chair\"},\"barmode\":\"relative\",\"height\":400},                        {\"responsive\": true}                    ).then(function(){\n",
       "                            \n",
       "var gd = document.getElementById('0f3489de-5637-45ed-acd2-2ff2a90deb89');\n",
       "var x = new MutationObserver(function (mutations, observer) {{\n",
       "        var display = window.getComputedStyle(gd).display;\n",
       "        if (!display || display === 'none') {{\n",
       "            console.log([gd, 'removed!']);\n",
       "            Plotly.purge(gd);\n",
       "            observer.disconnect();\n",
       "        }}\n",
       "}});\n",
       "\n",
       "// Listen for the removal of the full notebook cells\n",
       "var notebookContainer = gd.closest('#notebook-container');\n",
       "if (notebookContainer) {{\n",
       "    x.observe(notebookContainer, {childList: true});\n",
       "}}\n",
       "\n",
       "// Listen for the clearing of the current output cell\n",
       "var outputEl = gd.closest('.output');\n",
       "if (outputEl) {{\n",
       "    x.observe(outputEl, {childList: true});\n",
       "}}\n",
       "\n",
       "                        })                };                });            </script>        </div>"
      ]
     },
     "metadata": {},
     "output_type": "display_data"
    }
   ],
   "source": [
    "fig = px.bar(df_merge, y=\"action\", color='fed_chair', orientation='h',\n",
    "             hover_data=[\"action\", \"rate_change\"],\n",
    "             height=400,\n",
    "             title='Rate Changes by Fed Chair')\n",
    "fig.show()"
   ]
  },
  {
   "cell_type": "markdown",
   "id": "a5a49fa0-b310-4fda-9304-5650128d5107",
   "metadata": {},
   "source": [
    "<br>\n",
    "\n",
    "### Federal Reserve Chairman Communications (speeches)"
   ]
  },
  {
   "cell_type": "code",
   "execution_count": 34,
   "id": "7a161d01-0ea1-430b-83c7-349dd698b1af",
   "metadata": {},
   "outputs": [
    {
     "name": "stdout",
     "output_type": "stream",
     "text": [
      "<class 'pandas.core.frame.DataFrame'>\n",
      "Int64Index: 1448 entries, 0 to 1455\n",
      "Data columns (total 13 columns):\n",
      " #   Column                  Non-Null Count  Dtype         \n",
      "---  ------                  --------------  -----         \n",
      " 0   link                    1448 non-null   object        \n",
      " 1   title                   1448 non-null   object        \n",
      " 2   speaker                 1446 non-null   object        \n",
      " 3   event                   1448 non-null   object        \n",
      " 4   year                    1448 non-null   int64         \n",
      " 5   text                    1448 non-null   object        \n",
      " 6   speech_date             1447 non-null   datetime64[ns]\n",
      " 7   text_len                1448 non-null   int64         \n",
      " 8   location                1448 non-null   object        \n",
      " 9   speech_id               1448 non-null   object        \n",
      " 10  filter_text             1448 non-null   object        \n",
      " 11  filter_text_len         1448 non-null   int64         \n",
      " 12  avg_word_length_filter  1448 non-null   float64       \n",
      "dtypes: datetime64[ns](1), float64(1), int64(3), object(8)\n",
      "memory usage: 158.4+ KB\n"
     ]
    }
   ],
   "source": [
    "speech_df.info()"
   ]
  },
  {
   "cell_type": "code",
   "execution_count": 35,
   "id": "4ddd3667-dd85-4a38-9c70-23b785b68e97",
   "metadata": {},
   "outputs": [
    {
     "ename": "KeyError",
     "evalue": "(nan, '', '', '', '')",
     "output_type": "error",
     "traceback": [
      "\u001b[0;31m---------------------------------------------------------------------------\u001b[0m",
      "\u001b[0;31mKeyError\u001b[0m                                  Traceback (most recent call last)",
      "Input \u001b[0;32mIn [35]\u001b[0m, in \u001b[0;36m<cell line: 1>\u001b[0;34m()\u001b[0m\n\u001b[0;32m----> 1\u001b[0m fig \u001b[38;5;241m=\u001b[39m \u001b[43mpx\u001b[49m\u001b[38;5;241;43m.\u001b[39;49m\u001b[43mhistogram\u001b[49m\u001b[43m(\u001b[49m\u001b[43mdf_merge\u001b[49m\u001b[43m,\u001b[49m\u001b[43m \u001b[49m\u001b[43mx\u001b[49m\u001b[38;5;241;43m=\u001b[39;49m\u001b[38;5;124;43m\"\u001b[39;49m\u001b[38;5;124;43mtext_len\u001b[39;49m\u001b[38;5;124;43m\"\u001b[39;49m\u001b[43m,\u001b[49m\u001b[43m \u001b[49m\u001b[43mmarginal\u001b[49m\u001b[38;5;241;43m=\u001b[39;49m\u001b[38;5;124;43m\"\u001b[39;49m\u001b[38;5;124;43mrug\u001b[39;49m\u001b[38;5;124;43m\"\u001b[39;49m\u001b[43m,\u001b[49m\u001b[43m \u001b[49m\u001b[43mcolor\u001b[49m\u001b[38;5;241;43m=\u001b[39;49m\u001b[38;5;124;43m'\u001b[39;49m\u001b[38;5;124;43mspeaker\u001b[39;49m\u001b[38;5;124;43m'\u001b[39;49m\u001b[43m,\u001b[49m\u001b[43m \u001b[49m\u001b[43mnbins\u001b[49m\u001b[38;5;241;43m=\u001b[39;49m\u001b[38;5;241;43m150\u001b[39;49m\u001b[43m,\u001b[49m\u001b[43m \u001b[49m\u001b[43mhover_data\u001b[49m\u001b[38;5;241;43m=\u001b[39;49m\u001b[43m[\u001b[49m\u001b[38;5;124;43m'\u001b[39;49m\u001b[38;5;124;43mspeaker\u001b[39;49m\u001b[38;5;124;43m'\u001b[39;49m\u001b[43m,\u001b[49m\u001b[38;5;124;43m'\u001b[39;49m\u001b[38;5;124;43mtitle\u001b[39;49m\u001b[38;5;124;43m'\u001b[39;49m\u001b[43m]\u001b[49m\n\u001b[1;32m      2\u001b[0m \u001b[43m                  \u001b[49m\u001b[43m,\u001b[49m\u001b[43mtitle\u001b[49m\u001b[38;5;241;43m=\u001b[39;49m\u001b[38;5;124;43m\"\u001b[39;49m\u001b[38;5;124;43mLength of Speach\u001b[39;49m\u001b[38;5;124;43m\"\u001b[39;49m\u001b[43m)\u001b[49m\n\u001b[1;32m      3\u001b[0m fig\u001b[38;5;241m.\u001b[39mshow()\n",
      "File \u001b[0;32m~/opt/anaconda3/envs/DATA620/lib/python3.8/site-packages/plotly/express/_chart_types.py:472\u001b[0m, in \u001b[0;36mhistogram\u001b[0;34m(data_frame, x, y, color, pattern_shape, facet_row, facet_col, facet_col_wrap, facet_row_spacing, facet_col_spacing, hover_name, hover_data, animation_frame, animation_group, category_orders, labels, color_discrete_sequence, color_discrete_map, pattern_shape_sequence, pattern_shape_map, marginal, opacity, orientation, barmode, barnorm, histnorm, log_x, log_y, range_x, range_y, histfunc, cumulative, nbins, text_auto, title, template, width, height)\u001b[0m\n\u001b[1;32m    426\u001b[0m \u001b[38;5;28;01mdef\u001b[39;00m \u001b[38;5;21mhistogram\u001b[39m(\n\u001b[1;32m    427\u001b[0m     data_frame\u001b[38;5;241m=\u001b[39m\u001b[38;5;28;01mNone\u001b[39;00m,\n\u001b[1;32m    428\u001b[0m     x\u001b[38;5;241m=\u001b[39m\u001b[38;5;28;01mNone\u001b[39;00m,\n\u001b[0;32m   (...)\u001b[0m\n\u001b[1;32m    464\u001b[0m     height\u001b[38;5;241m=\u001b[39m\u001b[38;5;28;01mNone\u001b[39;00m,\n\u001b[1;32m    465\u001b[0m ):\n\u001b[1;32m    466\u001b[0m     \u001b[38;5;124;03m\"\"\"\u001b[39;00m\n\u001b[1;32m    467\u001b[0m \u001b[38;5;124;03m    In a histogram, rows of `data_frame` are grouped together into a\u001b[39;00m\n\u001b[1;32m    468\u001b[0m \u001b[38;5;124;03m    rectangular mark to visualize the 1D distribution of an aggregate\u001b[39;00m\n\u001b[1;32m    469\u001b[0m \u001b[38;5;124;03m    function `histfunc` (e.g. the count or sum) of the value `y` (or `x` if\u001b[39;00m\n\u001b[1;32m    470\u001b[0m \u001b[38;5;124;03m    `orientation` is `'h'`).\u001b[39;00m\n\u001b[1;32m    471\u001b[0m \u001b[38;5;124;03m    \"\"\"\u001b[39;00m\n\u001b[0;32m--> 472\u001b[0m     \u001b[38;5;28;01mreturn\u001b[39;00m \u001b[43mmake_figure\u001b[49m\u001b[43m(\u001b[49m\n\u001b[1;32m    473\u001b[0m \u001b[43m        \u001b[49m\u001b[43margs\u001b[49m\u001b[38;5;241;43m=\u001b[39;49m\u001b[38;5;28;43mlocals\u001b[39;49m\u001b[43m(\u001b[49m\u001b[43m)\u001b[49m\u001b[43m,\u001b[49m\n\u001b[1;32m    474\u001b[0m \u001b[43m        \u001b[49m\u001b[43mconstructor\u001b[49m\u001b[38;5;241;43m=\u001b[39;49m\u001b[43mgo\u001b[49m\u001b[38;5;241;43m.\u001b[39;49m\u001b[43mHistogram\u001b[49m\u001b[43m,\u001b[49m\n\u001b[1;32m    475\u001b[0m \u001b[43m        \u001b[49m\u001b[43mtrace_patch\u001b[49m\u001b[38;5;241;43m=\u001b[39;49m\u001b[38;5;28;43mdict\u001b[39;49m\u001b[43m(\u001b[49m\n\u001b[1;32m    476\u001b[0m \u001b[43m            \u001b[49m\u001b[43mhistnorm\u001b[49m\u001b[38;5;241;43m=\u001b[39;49m\u001b[43mhistnorm\u001b[49m\u001b[43m,\u001b[49m\u001b[43m \u001b[49m\u001b[43mhistfunc\u001b[49m\u001b[38;5;241;43m=\u001b[39;49m\u001b[43mhistfunc\u001b[49m\u001b[43m,\u001b[49m\u001b[43m \u001b[49m\u001b[43mcumulative\u001b[49m\u001b[38;5;241;43m=\u001b[39;49m\u001b[38;5;28;43mdict\u001b[39;49m\u001b[43m(\u001b[49m\u001b[43menabled\u001b[49m\u001b[38;5;241;43m=\u001b[39;49m\u001b[43mcumulative\u001b[49m\u001b[43m)\u001b[49m\u001b[43m,\u001b[49m\n\u001b[1;32m    477\u001b[0m \u001b[43m        \u001b[49m\u001b[43m)\u001b[49m\u001b[43m,\u001b[49m\n\u001b[1;32m    478\u001b[0m \u001b[43m        \u001b[49m\u001b[43mlayout_patch\u001b[49m\u001b[38;5;241;43m=\u001b[39;49m\u001b[38;5;28;43mdict\u001b[39;49m\u001b[43m(\u001b[49m\u001b[43mbarmode\u001b[49m\u001b[38;5;241;43m=\u001b[39;49m\u001b[43mbarmode\u001b[49m\u001b[43m,\u001b[49m\u001b[43m \u001b[49m\u001b[43mbarnorm\u001b[49m\u001b[38;5;241;43m=\u001b[39;49m\u001b[43mbarnorm\u001b[49m\u001b[43m)\u001b[49m\u001b[43m,\u001b[49m\n\u001b[1;32m    479\u001b[0m \u001b[43m    \u001b[49m\u001b[43m)\u001b[49m\n",
      "File \u001b[0;32m~/opt/anaconda3/envs/DATA620/lib/python3.8/site-packages/plotly/express/_core.py:1988\u001b[0m, in \u001b[0;36mmake_figure\u001b[0;34m(args, constructor, trace_patch, layout_patch)\u001b[0m\n\u001b[1;32m   1986\u001b[0m facet_col_wrap \u001b[38;5;241m=\u001b[39m args\u001b[38;5;241m.\u001b[39mget(\u001b[38;5;124m\"\u001b[39m\u001b[38;5;124mfacet_col_wrap\u001b[39m\u001b[38;5;124m\"\u001b[39m, \u001b[38;5;241m0\u001b[39m)\n\u001b[1;32m   1987\u001b[0m \u001b[38;5;28;01mfor\u001b[39;00m group_name \u001b[38;5;129;01min\u001b[39;00m sorted_group_names:\n\u001b[0;32m-> 1988\u001b[0m     group \u001b[38;5;241m=\u001b[39m \u001b[43mgrouped\u001b[49m\u001b[38;5;241;43m.\u001b[39;49m\u001b[43mget_group\u001b[49m\u001b[43m(\u001b[49m\u001b[43mgroup_name\u001b[49m\u001b[43m \u001b[49m\u001b[38;5;28;43;01mif\u001b[39;49;00m\u001b[43m \u001b[49m\u001b[38;5;28;43mlen\u001b[39;49m\u001b[43m(\u001b[49m\u001b[43mgroup_name\u001b[49m\u001b[43m)\u001b[49m\u001b[43m \u001b[49m\u001b[38;5;241;43m>\u001b[39;49m\u001b[43m \u001b[49m\u001b[38;5;241;43m1\u001b[39;49m\u001b[43m \u001b[49m\u001b[38;5;28;43;01melse\u001b[39;49;00m\u001b[43m \u001b[49m\u001b[43mgroup_name\u001b[49m\u001b[43m[\u001b[49m\u001b[38;5;241;43m0\u001b[39;49m\u001b[43m]\u001b[49m\u001b[43m)\u001b[49m\n\u001b[1;32m   1989\u001b[0m     mapping_labels \u001b[38;5;241m=\u001b[39m OrderedDict()\n\u001b[1;32m   1990\u001b[0m     trace_name_labels \u001b[38;5;241m=\u001b[39m OrderedDict()\n",
      "File \u001b[0;32m~/opt/anaconda3/envs/DATA620/lib/python3.8/site-packages/pandas/core/groupby/groupby.py:747\u001b[0m, in \u001b[0;36mBaseGroupBy.get_group\u001b[0;34m(self, name, obj)\u001b[0m\n\u001b[1;32m    745\u001b[0m inds \u001b[38;5;241m=\u001b[39m \u001b[38;5;28mself\u001b[39m\u001b[38;5;241m.\u001b[39m_get_index(name)\n\u001b[1;32m    746\u001b[0m \u001b[38;5;28;01mif\u001b[39;00m \u001b[38;5;129;01mnot\u001b[39;00m \u001b[38;5;28mlen\u001b[39m(inds):\n\u001b[0;32m--> 747\u001b[0m     \u001b[38;5;28;01mraise\u001b[39;00m \u001b[38;5;167;01mKeyError\u001b[39;00m(name)\n\u001b[1;32m    749\u001b[0m \u001b[38;5;28;01mreturn\u001b[39;00m obj\u001b[38;5;241m.\u001b[39m_take_with_is_copy(inds, axis\u001b[38;5;241m=\u001b[39m\u001b[38;5;28mself\u001b[39m\u001b[38;5;241m.\u001b[39maxis)\n",
      "\u001b[0;31mKeyError\u001b[0m: (nan, '', '', '', '')"
     ]
    }
   ],
   "source": [
    "fig = px.histogram(df_merge, x=\"text_len\", marginal=\"rug\", color='speaker', nbins=150, hover_data=['speaker','title']\n",
    "                  ,title=\"Length of Speach\")\n",
    "fig.show()"
   ]
  },
  {
   "cell_type": "code",
   "execution_count": 36,
   "id": "e13f0f56-ade0-47f1-a66c-3ae02e046b12",
   "metadata": {},
   "outputs": [
    {
     "data": {
      "application/vnd.plotly.v1+json": {
       "config": {
        "plotlyServerURL": "https://plotly.com"
       },
       "data": [
        {
         "alignmentgroup": "True",
         "bingroup": "x",
         "hovertemplate": "action=no change<br>filter_text_len=%{x}<br>count=%{y}<extra></extra>",
         "legendgroup": "no change",
         "marker": {
          "color": "#636efa",
          "pattern": {
           "shape": ""
          }
         },
         "name": "no change",
         "nbinsx": 150,
         "offsetgroup": "no change",
         "orientation": "v",
         "showlegend": true,
         "type": "histogram",
         "x": [
          1536,
          1837,
          1132,
          1441,
          1423,
          1720,
          942,
          2626,
          1918,
          670,
          1354,
          1262,
          1551,
          2379,
          1488,
          1281,
          2952,
          3369,
          2092,
          1256,
          1575,
          2678,
          2376,
          2795,
          1855,
          1288,
          1804,
          2157,
          1205,
          3666,
          1860,
          2383,
          1252,
          1100,
          1712,
          1285,
          2004,
          1823,
          1469,
          2375,
          1590,
          757,
          2185,
          1516,
          2172,
          1797,
          1455,
          1759,
          887,
          2989,
          1831,
          1616,
          1646,
          1497,
          401,
          1814,
          2413,
          2344,
          1249,
          2227,
          2402,
          2090,
          1676,
          1171,
          1380,
          1796,
          3384,
          1994,
          438,
          1873,
          1844,
          1592,
          2580,
          2262,
          1966,
          1968,
          1951,
          1266,
          1531,
          1296,
          2159,
          1422,
          1726,
          2160,
          1839,
          3648,
          1419,
          1884,
          4689,
          1901,
          1214,
          2342,
          2581,
          193,
          1609,
          1342,
          1861,
          1765,
          1746,
          2364,
          2176,
          1702,
          1935,
          1611,
          1411,
          1651,
          2238,
          725,
          1273,
          1569,
          1193,
          1568,
          976,
          1564,
          2613,
          1176,
          1501,
          1720,
          1124,
          1498,
          2600,
          1741,
          1563,
          2215,
          2943,
          1235,
          2540,
          1799,
          1684,
          1922,
          1233,
          1836,
          1715,
          1230,
          1903,
          1990,
          1033,
          376,
          1275,
          1746,
          3021,
          1173,
          1431,
          2537,
          3617,
          1858,
          2531,
          1725,
          1488,
          1888,
          226,
          1530,
          1598,
          1390,
          1756,
          1097,
          1111,
          1926,
          1872,
          1504,
          1625,
          1358,
          1659,
          403,
          2033,
          1185,
          1794,
          937,
          448,
          2895,
          1510,
          339,
          1220,
          1447,
          1781,
          1138,
          2152,
          1367,
          1575,
          2010,
          1953,
          1273,
          1031,
          1693,
          1075,
          1454,
          1628,
          1694,
          1997,
          1536,
          1300,
          1227,
          1352,
          1239,
          1593,
          1586,
          1932,
          1719,
          2189,
          1821,
          874,
          1535,
          1137,
          1543,
          892,
          870,
          1422,
          1841,
          1337,
          883,
          954,
          1903,
          940,
          3081,
          2191,
          1649,
          261,
          1739,
          1228,
          1516,
          1961,
          1732,
          1732,
          3191,
          1155,
          1943,
          2660,
          2083,
          1203,
          1683,
          2031,
          1444,
          1984,
          2168,
          3615,
          2310,
          2828,
          2016,
          1615,
          3133,
          1676,
          3709,
          2887,
          2127,
          3126,
          1985,
          1051,
          1595,
          2580,
          881,
          1143,
          1022,
          1160,
          1134,
          1902,
          2416,
          3870,
          2509,
          1010,
          1050,
          885,
          2006,
          1757,
          1630,
          1319,
          616,
          2349,
          2190,
          4092,
          2321,
          974,
          2163,
          1996,
          2570,
          1710,
          1507,
          2711,
          1797,
          2073,
          3334,
          1214,
          1887,
          1523,
          1667,
          1858,
          2407,
          2696,
          2152,
          6738,
          2423,
          2407,
          3517,
          3365,
          3311,
          2076,
          2076,
          1409,
          3650,
          2434,
          921,
          1224,
          1135,
          3311,
          2095,
          2852,
          2076,
          1273,
          1721,
          4233,
          2656,
          1842,
          2716,
          1331,
          2534,
          309,
          2615,
          1461,
          2614,
          1688,
          2318,
          3629,
          1953,
          2042,
          268,
          357,
          1148,
          1728,
          897,
          1978,
          981,
          1187,
          2236,
          2264,
          2295,
          1749,
          408,
          2452,
          2387,
          1927,
          2064,
          1880,
          1717,
          2098,
          2196,
          3207,
          2276,
          99,
          1679,
          2388,
          1970,
          3059,
          2135,
          1625,
          1532,
          2128,
          3338,
          2349,
          1980,
          1907,
          1480,
          3198,
          2918,
          1110,
          1197,
          3256,
          2727,
          1835,
          3542,
          2297,
          1858,
          3870,
          3241,
          4046,
          380,
          1497,
          2376,
          1760,
          3067,
          4155,
          1705,
          2137,
          4048,
          3103,
          941,
          2161,
          1183,
          1546,
          3337,
          2102,
          582,
          2315,
          1283,
          2451,
          2515,
          2112,
          2162,
          1855,
          2103,
          3276,
          2221,
          470,
          1951,
          2652,
          2162,
          2137,
          2309,
          1505,
          2205,
          2508,
          1952,
          2496,
          2082,
          3481,
          1878,
          2093,
          2508,
          1870,
          1928,
          318,
          4245,
          1984,
          2376,
          2219,
          2292,
          1052,
          399,
          1919,
          2336,
          3131,
          2749,
          539,
          1855,
          2326,
          2966,
          2523,
          2411,
          2342,
          2224,
          2445,
          2052,
          2550,
          2901,
          3353,
          2186,
          1759,
          2250,
          3725,
          1912,
          1700,
          3335,
          419,
          1940,
          1469,
          2341,
          2206,
          824,
          1576,
          370,
          3591,
          2193,
          1132,
          1493,
          3591,
          1693,
          1186,
          2717,
          1938,
          2461,
          2067,
          2415,
          3198,
          1873,
          711,
          1681,
          369,
          2150,
          1704,
          2443,
          2732,
          2375,
          1511,
          1839,
          1909,
          4604,
          1708,
          1827,
          2446,
          370,
          1553,
          1628,
          792,
          259,
          2299,
          394,
          1687,
          1290,
          2070,
          1852,
          592,
          2511,
          2480,
          1814,
          1509,
          2608,
          1785,
          1713,
          1655,
          506,
          2390,
          672,
          943,
          2851,
          3435,
          1332,
          2287,
          2222,
          1607,
          2190,
          343,
          1720,
          1257,
          2408,
          1470,
          1764,
          1924,
          3107,
          869,
          2267,
          175,
          2786,
          4079,
          2302,
          385,
          3919,
          319,
          2482,
          1371,
          1013,
          2757,
          1875,
          2061,
          1373,
          3946,
          2379,
          973,
          1835,
          2131,
          1320,
          1817,
          1769,
          2192,
          2705,
          2422,
          2847,
          2007,
          2461,
          2397,
          2169,
          1666,
          1254,
          2621,
          2642,
          2520,
          2232,
          1589,
          2547,
          312,
          2135,
          2422,
          2178,
          1699,
          711,
          2009,
          2272,
          365,
          1591,
          2325,
          2013,
          1792,
          2575,
          3765,
          2408,
          2291,
          3177,
          2293,
          1921,
          2186,
          1295,
          2444,
          775,
          2292,
          2394,
          2519,
          1481,
          2709,
          2659,
          1590,
          2297,
          3012,
          2090,
          3800,
          2031,
          2236,
          1747,
          2884,
          408,
          928,
          2396,
          4234,
          2466,
          1912,
          1924,
          1936,
          782,
          1624,
          4636,
          795,
          1098,
          1072,
          3533,
          855,
          6340,
          3637,
          2483,
          2547,
          1051,
          3231,
          2971,
          2328,
          4552,
          2816,
          1083,
          4496,
          3590,
          2696,
          3981,
          3339,
          2609,
          2812,
          1568,
          3184,
          3938,
          3330,
          3062,
          3281,
          1838,
          838,
          2315,
          2558,
          2738,
          384,
          1564,
          2768,
          2181,
          1127,
          921,
          1588,
          1986,
          2677,
          2265,
          3616,
          2540,
          4523,
          1058,
          998,
          2313,
          3191,
          1352,
          792,
          760,
          2843,
          1859,
          649,
          1740,
          4810,
          407,
          737,
          3139,
          2276,
          3794,
          318,
          731,
          1536,
          2880,
          2972,
          4513,
          3175,
          1678,
          3258,
          434,
          3231,
          703,
          3065,
          2254,
          3754,
          275,
          493,
          3212,
          3466,
          619,
          474,
          293,
          2883,
          1936,
          1965,
          3922,
          3041,
          2663,
          1990,
          3518,
          3338,
          2056,
          253,
          4214,
          4119,
          473,
          762,
          355,
          2659,
          396,
          3895,
          1110,
          3077,
          905,
          2096,
          493,
          926,
          2552,
          1190,
          3063,
          2480,
          508,
          2634,
          1796,
          2937,
          734,
          1956,
          2290,
          3908,
          3333,
          2024,
          1939,
          3279,
          2142,
          1756,
          1712,
          2015,
          195,
          2424,
          2507,
          2486,
          1031,
          2127,
          1859,
          893,
          1559,
          1560,
          419,
          968,
          1290,
          2548,
          686,
          3027,
          2948,
          642,
          2970,
          6630,
          3010,
          1796,
          3074,
          2792,
          4008,
          2421,
          1982,
          1069,
          1917,
          897,
          3216,
          2074,
          2445,
          2808,
          3437,
          1350,
          2500,
          1302,
          480,
          2756,
          4028,
          1395,
          520,
          2869,
          3589,
          4190,
          880,
          1456,
          2261,
          425,
          2080,
          1090,
          4703,
          1221,
          4054,
          1689,
          2317,
          708,
          1724,
          4070,
          819,
          935,
          2188,
          435,
          5010,
          2966,
          2500,
          818,
          3063,
          3062,
          2049,
          2088,
          1672,
          541,
          2603,
          2573,
          2340,
          1066,
          4350,
          2509,
          1021,
          2664,
          1825,
          1010,
          2438,
          2611,
          788,
          318,
          3658,
          2074,
          5462,
          3751,
          1495,
          1540,
          965,
          2398,
          2367,
          2404,
          949,
          1618,
          1713,
          1167,
          1494,
          1470,
          3296,
          648,
          2208,
          1654,
          2758,
          1753,
          1889,
          2252,
          341,
          2594,
          2588,
          1721,
          590,
          827,
          953,
          3570,
          2038,
          1081,
          1321,
          486,
          1007,
          819,
          1939,
          515,
          384,
          3857,
          1255,
          1125,
          2298,
          1526,
          1395,
          2003,
          927,
          574,
          1979,
          758,
          1398,
          2915,
          2104,
          1760,
          348,
          2410,
          1269,
          4312,
          454,
          1004,
          3343,
          463,
          1822,
          2099,
          282,
          2063,
          1222,
          3723,
          2634,
          1528,
          3049,
          696,
          4002,
          1874,
          1579,
          2973,
          1633,
          2393,
          1068,
          602,
          2644,
          250,
          213,
          1112,
          897,
          175,
          278,
          1418,
          1425
         ],
         "xaxis": "x",
         "yaxis": "y"
        },
        {
         "alignmentgroup": "True",
         "boxpoints": "all",
         "customdata": [
          [
           "Governor Edward W. Kelley, Jr.",
           "Developments in electronic money and banking"
          ],
          [
           "Chairman Alan Greenspan",
           "Bank supervision in a world economy"
          ],
          [
           "Chairman Alan Greenspan",
           "Regulation and electronic payment systems"
          ],
          [
           "Governor Laurence H. Meyer",
           "Monetary policy objectives and strategy"
          ],
          [
           "Governor Edward W. Kelley, Jr.",
           "The future of electronic payments"
          ],
          [
           "Governor Susan M. Phillips",
           "Accounting and auditing standards and bank supervision"
          ],
          [
           "Chairman Alan Greenspan",
           "Technological advances and productivity"
          ],
          [
           "Governor Lawrence B. Lindsey",
           "How to grow faster"
          ],
          [
           "Governor Lawrence B. Lindsey",
           "Here we go again?"
          ],
          [
           "Chairman Alan Greenspan",
           "U.S. Treasury securities market: Lessons from Alexander Hamilton"
          ],
          [
           "Chairman Alan Greenspan",
           "Bank supervision, regulation, and risk"
          ],
          [
           "Governor Lawrence B. Lindsey",
           "Small business is big business"
          ],
          [
           "Chairman Alan Greenspan",
           "Social security"
          ],
          [
           "Chairman Alan Greenspan",
           "The challenge of central banking in a democratic society"
          ],
          [
           "Governor Edward W. Kelley, Jr.",
           "Clearinghouses and risk management"
          ],
          [
           "Governor Susan M. Phillips",
           "Supervisory and regulatory responses to financial innovation and industry dynamics"
          ],
          [
           "Governor Laurence H. Meyer",
           "The transformation of the U.S. banking industry and resulting challenges to regulators"
          ],
          [
           "Chairman Alan Greenspan",
           "Banking in the global marketplace"
          ],
          [
           "Vice Chair Alice M. Rivlin",
           "Supervision of bank risk-taking"
          ],
          [
           "Governor Edward W. Kelley, Jr.",
           "Are banks still special?"
          ],
          [
           "Governor Susan M. Phillips",
           "International competition: Should we harmonize our national regulatory systems?"
          ],
          [
           "Governor Laurence H. Meyer",
           "Financial modernization: Rationalizing the structure of the financial services industry"
          ],
          [
           "Governor Laurence H. Meyer",
           "The economic outlook and challenges for monetary policy"
          ],
          [
           "Chairman Alan Greenspan",
           "Central banking and global finance"
          ],
          [
           "Governor Laurence H. Meyer",
           "The role of structural macroeconomic models"
          ],
          [
           "Chairman Alan Greenspan",
           "Current monetary policy"
          ],
          [
           "Chairman Alan Greenspan",
           "Financial reform and importance of the state charter"
          ],
          [
           "Chairman Alan Greenspan",
           "Technological change and the design of bank supervisory policies"
          ],
          [
           "Chairman Alan Greenspan",
           "G-7 economic summit meeting"
          ],
          [
           "Governor Laurence H. Meyer",
           "The economic outlook and challenges facing monetary policy"
          ],
          [
           "Chairman Alan Greenspan",
           "The evolution of banking in a market economy"
          ],
          [
           "Governor Laurence H. Meyer",
           "Issues in financial modernization"
          ],
          [
           "Vice Chair Alice M. Rivlin",
           "The challenges of macroeconomic policy"
          ],
          [
           "Governor Laurence H. Meyer",
           "Models for neighborhood development and reinvestment"
          ],
          [
           "Governor Susan M. Phillips",
           "The changing financial landscape and umbrella supervision"
          ],
          [
           "Chairman Alan Greenspan",
           "The embrace of free markets"
          ],
          [
           "Governor Laurence H. Meyer",
           "The role of banks in small business finance"
          ],
          [
           "Governor Edward W. Kelley, Jr.",
           "The role of the Federal Reserve in the payments system"
          ],
          [
           "Governor Susan M. Phillips",
           "Derivatives and risk management"
          ],
          [
           "Governor Laurence H. Meyer",
           "The economic outlook and challenges facing monetary policy"
          ],
          [
           "Governor Laurence H. Meyer",
           "Monetary policy and the bond market: Complements or substitutes"
          ],
          [
           "Chairman Alan Greenspan",
           "Education, technology, and economic growth"
          ],
          [
           "Chairman Alan Greenspan",
           "Rules vs. discretionary monetary policy"
          ],
          [
           "Governor Laurence H. Meyer",
           "Affordable housing"
          ],
          [
           "Chairman Alan Greenspan",
           "Price measurement"
          ],
          [
           "Governor Susan M. Phillips",
           "Risk management"
          ],
          [
           "Governor Laurence H. Meyer",
           "Community development: Changes and challenges"
          ],
          [
           "Governor Susan M. Phillips",
           "Trends and challenges in Federal Reserve bank supervision"
          ],
          [
           "Governor Susan M. Phillips",
           "Black Monday: 10 years later"
          ],
          [
           "Governor Laurence H. Meyer",
           "Globalization and U.S. monetary policy"
          ],
          [
           "Chairman Alan Greenspan",
           "Inaugural speech for economic seminar series"
          ],
          [
           "Chairman Alan Greenspan",
           "Globalization of finance"
          ],
          [
           "Chairman Alan Greenspan",
           "Consumer credit and financial modernization"
          ],
          [
           "Chairman Alan Greenspan",
           "Technological change and the economy"
          ],
          [
           "Governor Edward W. Kelley, Jr.",
           "The \"Millennium Bug\""
          ],
          [
           "Chairman Alan Greenspan",
           "The role of education during rapid economic change"
          ],
          [
           "Chairman Alan Greenspan",
           "Growth and flexibility: Lessons from Asia"
          ],
          [
           "Governor Laurence H. Meyer",
           "New approaches to small business development partnerships"
          ],
          [
           "Chairman Alan Greenspan",
           "The underemployment of minorities"
          ],
          [
           "Chairman Alan Greenspan",
           "Economic development in low- and moderate-income communities"
          ],
          [
           "Governor Laurence H. Meyer",
           "The economic outlook and challenges facing monetary policy"
          ],
          [
           "Chairman Alan Greenspan",
           "Problems of price measurement"
          ],
          [
           "Governor Susan M. Phillips",
           "Lessons and perspectives"
          ],
          [
           "Vice Chair Alice M. Rivlin",
           "Next steps for D.C."
          ],
          [
           "Governor Roger W. Ferguson, Jr.",
           "The changing banking environment and emerging questions for public policy"
          ],
          [
           "Governor Susan M. Phillips",
           "Four themes of sound international supervision"
          ],
          [
           "Governor Laurence H. Meyer",
           "The strategy of monetary policy"
          ],
          [
           "Governor Roger W. Ferguson, Jr.",
           "Bank supervision: lessons from the consulting perspective"
          ],
          [
           "Governor Edward M. Gramlich",
           "Capital budgeting"
          ],
          [
           "Governor Roger W. Ferguson, Jr.",
           "The Asian crisis: lessons to be learned and relearned"
          ],
          [
           "Chairman Alan Greenspan",
           "Implications of recent Asian developments for community banking"
          ],
          [
           "Governor Laurence H. Meyer",
           "Financial globalization and efficient banking regulation"
          ],
          [
           "Governor Edward M. Gramlich",
           "Monetary rules"
          ],
          [
           "Chairman Alan Greenspan",
           "Risk management in the global financial system"
          ],
          [
           "Chairman Alan Greenspan",
           "The role of capital in optimal banking supervision and regulation"
          ],
          [
           "Vice Chair Alice M. Rivlin",
           "Does good policy analysis matter?"
          ],
          [
           "Governor Edward W. Kelley, Jr.",
           "Year 2000: a worldwide concern"
          ],
          [
           "Vice Chair Alice M. Rivlin",
           "Commencement address"
          ],
          [
           "Governor Laurence H. Meyer",
           "Community reinvestment in an era of bank consolidation and deregulation"
          ],
          [
           "Vice Chair Alice M. Rivlin",
           "The U.S. retail payments system"
          ],
          [
           "Chairman Alan Greenspan",
           "Understanding today's international financial system"
          ],
          [
           "Chairman Alan Greenspan",
           "Our banking history"
          ],
          [
           "Governor Laurence H. Meyer",
           "Housing and the economy: sharing in the prosperity and broadening its base"
          ],
          [
           "Vice Chair Alice M. Rivlin",
           "Toward a better class of financial crises: some lessons from Asia"
          ],
          [
           "Governor Roger W. Ferguson, Jr.",
           "Are banks safe for the world and is the world safe for banks?"
          ],
          [
           "Governor Laurence H. Meyer",
           "The Federal Reserve and bank supervision and regulation"
          ],
          [
           "Governor Laurence H. Meyer",
           "The economic outlook and the challenges facing monetary policy"
          ],
          [
           "Governor Roger W. Ferguson, Jr.",
           "The Federal Reserve's role in the payments system and its effect on competition"
          ],
          [
           "Governor Laurence H. Meyer",
           "Come with me to the FOMC"
          ],
          [
           "Chairman Alan Greenspan",
           "The ascendance of market capitalism"
          ],
          [
           "Vice Chair Alice M. Rivlin",
           "Renewed confidence and vitality of the U.S. economy and the Asian crisis"
          ],
          [
           "Governor Laurence H. Meyer",
           "Issues and trends in bank regulatory policy and financial modernization legislation"
          ],
          [
           "Governor Laurence H. Meyer",
           "Economic forecasting"
          ],
          [
           "Chairman Alan Greenspan",
           "On the announcement of a new currency design"
          ],
          [
           "Governor Roger W. Ferguson, Jr.",
           "Themes in international bank supervision"
          ],
          [
           "Chairman Alan Greenspan",
           "The implications of technological changes"
          ],
          [
           "Governor Roger W. Ferguson, Jr.",
           "Exercising caution and vigilance in monetary policy"
          ],
          [
           "Governor Roger W. Ferguson, Jr.",
           "The international millennium challenge"
          ],
          [
           "Governor Roger W. Ferguson, Jr.",
           "The making of monetary policy"
          ],
          [
           "Governor Laurence H. Meyer",
           "The transformation of the U.S. banking system"
          ],
          [
           "Governor Laurence H. Meyer",
           "The transformation of the U.S. banking system"
          ],
          [
           "Governor Roger W. Ferguson, Jr.",
           "Thoughts on the start of a new year"
          ],
          [
           "Governor Edward W. Kelley, Jr.",
           "Thinking about Y2K"
          ],
          [
           "Chairman Alan Greenspan",
           "Financial derivatives"
          ],
          [
           "Governor Roger W. Ferguson, Jr.",
           "Small business access to capital: Current status and initiatives"
          ],
          [
           "Chairman Alan Greenspan",
           "The farm economy"
          ],
          [
           "Governor Laurence H. Meyer",
           "Financial modernization: The issues"
          ],
          [
           "Governor Edward W. Kelley, Jr.",
           "Y2K and public confidence in the banking system"
          ],
          [
           "Chairman Alan Greenspan",
           "Changes in small business finance"
          ],
          [
           "Chairman Alan Greenspan",
           "Mortgage finance"
          ],
          [
           "Governor Edward M. Gramlich",
           "Small business access to capital and credit"
          ],
          [
           "Governor Roger W. Ferguson, Jr.",
           "Global financial integration"
          ],
          [
           "Vice Chair Alice M. Rivlin",
           "Learning from financial market turbulence"
          ],
          [
           "Governor Roger W. Ferguson, Jr.",
           "Evolution of financial institutions and markets: Private and policy implications"
          ],
          [
           "Governor Laurence H. Meyer",
           "The global economic outlook and monetary policy challenges"
          ],
          [
           "Vice Chair Alice M. Rivlin",
           "Dilemmas of an economic superpower"
          ],
          [
           "Chairman Alan Greenspan",
           "The interaction of education and economic change"
          ],
          [
           "Governor Roger W. Ferguson, Jr.",
           "Latin America: Lessons learned from the last twenty years"
          ],
          [
           "Vice Chair Alice M. Rivlin",
           "On economic literacy"
          ],
          [
           "Vice Chair Alice M. Rivlin",
           "On sustaining U.S. economic growth"
          ],
          [
           "Chairman Alan Greenspan",
           "The American economy in a world context"
          ],
          [
           "Chairman Alan Greenspan",
           "Currency reserves and debt"
          ],
          [
           "Governor Laurence H. Meyer",
           "The euro in the international financial system"
          ],
          [
           "Governor Edward M. Gramlich",
           "A stabilization policy strategy"
          ],
          [
           "Governor Laurence H. Meyer",
           "Structure, instability, and the world economy"
          ],
          [
           "Chairman Alan Greenspan",
           "Technology and trade"
          ],
          [
           "Governor Laurence H. Meyer",
           "The global economic outlook and monetary policy challenges"
          ],
          [
           "Governor Roger W. Ferguson, Jr.",
           "The payments system and Year 2000"
          ],
          [
           "Vice Chair Alice M. Rivlin",
           "Social Security"
          ],
          [
           "Governor Laurence H. Meyer",
           "Implications of recent global financial crises for bank supervision and regulation"
          ],
          [
           "Chairman Alan Greenspan",
           "Trade and technology"
          ],
          [
           "Governor Roger W. Ferguson, Jr.",
           "Year 2000: Ninety-four days and counting"
          ],
          [
           "Chairman Alan Greenspan",
           "Lessons from the global crises"
          ],
          [
           "Governor Laurence H. Meyer",
           "An agenda for bank supervision and regulation"
          ],
          [
           "Governor Roger W. Ferguson, Jr.",
           "Is information technology the key to higher productivity growth in the United States and abroad?"
          ],
          [
           "Governor Edward M. Gramlich",
           "Electronic money in the United States"
          ],
          [
           "Chairman Alan Greenspan",
           "Status of Y2K preparedness"
          ],
          [
           "Governor Edward W. Kelley, Jr.",
           "Readiness of financial institutions for the year 2000"
          ],
          [
           "Governor Edward M. Gramlich",
           "Small businesses in the U.S. economy"
          ],
          [
           "Governor Roger W. Ferguson, Jr.",
           "Transparency and responsibility in monetary policy"
          ],
          [
           "Governor Laurence H. Meyer",
           "Q&A on the economic outlook and the challenges facing monetary policy"
          ],
          [
           "Chairman Alan Greenspan",
           "Maintaining economic vitality"
          ],
          [
           "Chairman Alan Greenspan",
           "New challenges for monetary policy"
          ],
          [
           "Governor Laurence H. Meyer",
           "The implications of financial modernization legislation for bank supervision"
          ],
          [
           "Governor Laurence H. Meyer",
           "Start with a paradigm, end with a story: The value of model-based forecasting and policy analysis"
          ],
          [
           "Chairman Alan Greenspan",
           "Business data analysis"
          ],
          [
           "Governor Laurence H. Meyer",
           "The new economy meets supply and demand"
          ],
          [
           "Vice Chairman Roger W. Ferguson",
           "Umbrella supervision: Emerging approaches"
          ],
          [
           "Chairman Alan Greenspan",
           "Evolving challenges for bankers and supervisors"
          ],
          [
           "Vice Chairman Roger W. Ferguson",
           "Community banks: Opportunities and challenges in the \"post modernization era\""
          ],
          [
           "Chairman Alan Greenspan",
           "Permanent normal trade relations with China"
          ],
          [
           "Chairman Alan Greenspan",
           "Global challenges"
          ],
          [
           "Chairman Alan Greenspan",
           "Structural change in the new economy"
          ],
          [
           "Chairman Alan Greenspan",
           "Banking supervision"
          ],
          [
           "Vice Chairman Roger W. Ferguson",
           "Some recent findings regarding the economic condition of minority Americans"
          ],
          [
           "Chairman Alan Greenspan",
           "Global economic integration: Opportunities and challenges"
          ],
          [
           "Chairman Alan Greenspan",
           "Globalization"
          ],
          [
           "Vice Chairman Roger W. Ferguson",
           "Opportunities and challenges in community banking"
          ],
          [
           "Vice Chairman Roger W. Ferguson",
           "Information technology in banking and supervision"
          ],
          [
           "Vice Chairman Roger W. Ferguson",
           "Financial education: The next chapter in community development"
          ],
          [
           "Chairman Alan Greenspan",
           "Challenges for monetary policymakers"
          ],
          [
           "Chairman Alan Greenspan",
           "Electronic finance"
          ],
          [
           "Vice Chairman Roger W. Ferguson",
           "Perspectives on innovation in the retail payments system"
          ],
          [
           "Chairman Alan Greenspan",
           "Productivity and efficiency in the Federal Reserve System"
          ],
          [
           "Vice Chairman Roger W. Ferguson",
           "Technology, macroeconomics, and monetary policy"
          ],
          [
           "Governor Edward M. Gramlich",
           "Subprime lending, predatory lending"
          ],
          [
           "Chairman Alan Greenspan",
           "Structural changes in the economy and financial markets"
          ],
          [
           "Governor Edward M. Gramlich",
           "Financial literacy"
          ],
          [
           "Chairman Alan Greenspan",
           "Technology and banking"
          ],
          [
           "Governor Laurence H. Meyer",
           "Financial stability in emerging markets: What have we accomplished and what remains to be done?"
          ],
          [
           "Governor Edward M. Gramlich",
           "Predatory lending"
          ],
          [
           "Chairman Alan Greenspan",
           "The history of money"
          ],
          [
           "Governor Laurence H. Meyer",
           "Rules and discretion"
          ],
          [
           "Vice Chairman Roger W. Ferguson",
           "Developments in the U.S. economy: Review and outlook"
          ],
          [
           "Chairman Alan Greenspan",
           "The economy"
          ],
          [
           "Chairman Alan Greenspan",
           "Economic development and financial literacy"
          ],
          [
           "Vice Chairman Roger W. Ferguson",
           "Why central banks should talk"
          ],
          [
           "Chairman Alan Greenspan",
           "The U.S. economy"
          ],
          [
           "Governor Mark W. Olson",
           "Current industry issues"
          ],
          [
           "Governor Edward M. Gramlich",
           "Macroeconomic policy in recessions--and other times"
          ],
          [
           "Vice Chairman Roger W. Ferguson",
           "Back to the future in managing banking risk"
          ],
          [
           "Vice Chairman Roger W. Ferguson",
           "A supervisory perspective on disaster recovery and business continuity"
          ],
          [
           "Governor Edward M. Gramlich",
           "Lending to lower-income households"
          ],
          [
           "Governor Susan S. Bies",
           "Strengthening the financial system of the 21st century through sound accounting and disclosure"
          ],
          [
           "Chairman Alan Greenspan",
           "Saving for retirement"
          ],
          [
           "Vice Chairman Roger W. Ferguson",
           "A review of economic developments in 2001 and the economic outlook"
          ],
          [
           "Governor Edward M. Gramlich",
           "Consumption and the wealth effect: The United States and the United Kingdom"
          ],
          [
           "Governor Mark W. Olson",
           "Implementing the Gramm-Leach-Bliley Act: Two years later"
          ],
          [
           "Governor Mark W. Olson",
           "Observations on the evolution of the financial services industry and public policy"
          ],
          [
           "Chairman Alan Greenspan",
           "Stock options and related matters"
          ],
          [
           "Governor Edward M. Gramlich",
           "Financial literacy"
          ],
          [
           "Governor Mark W. Olson",
           "Risk management in a changing economic environment"
          ],
          [
           "Chairman Alan Greenspan",
           "Finance: United States and global"
          ],
          [
           "Governor Edward M. Gramlich",
           "CRA at twenty-five"
          ],
          [
           "Chairman Alan Greenspan",
           "Corporate governance"
          ],
          [
           "Governor Mark W. Olson",
           "Career development in a changing economy"
          ],
          [
           "Governor Susan S. Bies",
           "Current challenges of community banks"
          ],
          [
           "Governor Susan S. Bies",
           "Banking supervision and its application in developing countries"
          ],
          [
           "Governor Susan S. Bies",
           "Bank performance and corporate governance"
          ],
          [
           "Governor Susan S. Bies",
           "Lessons to be re-learned from recent breakdowns in corporate accounting"
          ],
          [
           "Governor Mark W. Olson",
           "The dual banking system and the current condition of the banking industry"
          ],
          [
           "Vice Chairman Roger W. Ferguson",
           "Community and regional banks: Increasing complexity and risk-management needs"
          ],
          [
           "Governor Mark W. Olson",
           "A look at the banking industry in 2002"
          ],
          [
           "Governor Mark W. Olson",
           "Financing options for small business"
          ],
          [
           "Vice Chairman Roger W. Ferguson",
           "Reflections on financial literacy"
          ],
          [
           "Vice Chairman Roger W. Ferguson",
           "Thoughts on success in life"
          ],
          [
           "Chairman Alan Greenspan",
           "Cyclicality and banking regulation"
          ],
          [
           "Vice Chairman Roger W. Ferguson",
           "Implications of 9/11 for the financial services sector"
          ],
          [
           "Governor Mark W. Olson",
           "Economic change in rural America"
          ],
          [
           "Governor Mark W. Olson",
           "Financial markets regulation in the United States"
          ],
          [
           "Governor Edward M. Gramlich",
           "Introductory remarks"
          ],
          [
           "Chairman Alan Greenspan",
           "Economic volatility"
          ],
          [
           "Governor Donald L. Kohn",
           "The U.S. current account deficit"
          ],
          [
           "Governor Ben S. Bernanke",
           "Deflation: Making sure \"it\" doesn't happen here"
          ],
          [
           "Vice Chairman Roger W. Ferguson",
           "Financial engineering and financial stability"
          ],
          [
           "Chairman Alan Greenspan",
           "International financial risk management"
          ],
          [
           "Chairman Alan Greenspan",
           "Opening remarks"
          ],
          [
           "Governor Mark W. Olson",
           "Overcoming challenges and seizing opportunities in Indian Country"
          ],
          [
           "Governor Susan S. Bies",
           "Opening remarks"
          ],
          [
           "Governor Mark W. Olson",
           "The banking industry in 2002 after a decade of change"
          ],
          [
           "Vice Chairman Roger W. Ferguson",
           "Economic progress and small business"
          ],
          [
           "Vice Chairman Roger W. Ferguson",
           "Recent experience and economic outlook"
          ],
          [
           "Chairman Alan Greenspan",
           "The wealth of nations revisited"
          ],
          [
           "Governor Ben S. Bernanke",
           "On Milton Friedman's ninetieth birthday"
          ],
          [
           "Governor Edward M. Gramlich",
           "Opening remarks"
          ],
          [
           "Governor Susan S. Bies",
           "Effective accounting and disclosure for financial transactions and financial institutions"
          ],
          [
           "Chairman Alan Greenspan",
           "Issues for monetary policy"
          ],
          [
           "Governor Mark W. Olson",
           "The importance of market structure"
          ],
          [
           "Governor Susan S. Bies",
           "Credit availability for small business"
          ],
          [
           "Governor Mark W. Olson",
           "Community bank performance in the twenty-first century"
          ],
          [
           "Chairman Alan Greenspan",
           "Global finance: Is it slowing?"
          ],
          [
           "Chairman Alan Greenspan",
           "Home mortgage market"
          ],
          [
           "Governor Donald L. Kohn",
           "The strength in consumer durables and housing: policy stabilization or problem in the making?"
          ],
          [
           "Governor Susan S. Bies",
           "Retirement savings, equity ownership, and challenges to investors"
          ],
          [
           "Governor Ben S. Bernanke",
           "Balance sheets and the recovery"
          ],
          [
           "Vice Chairman Roger W. Ferguson",
           "Rules and flexibility in monetary policy"
          ],
          [
           "Governor Susan S. Bies",
           "Financial markets and corporate governance in the United States and other countries"
          ],
          [
           "Governor Mark W. Olson",
           "Gramm-Leach-Bliley Act and corporate misbehavior--coincidence or contributor?"
          ],
          [
           "Vice Chairman Roger W. Ferguson",
           "September 11, the Federal Reserve, and the financial system"
          ],
          [
           "Governor Ben S. Bernanke",
           "\"Constrained discretion\" and monetary policy"
          ],
          [
           "Governor Edward M. Gramlich",
           "Conducting monetary policy"
          ],
          [
           "Governor Ben S. Bernanke",
           "A perspective on inflation targeting"
          ],
          [
           "Governor Donald L. Kohn",
           "Comments on Marvin Goodfriend's \"Inflation Targeting in the United States?\""
          ],
          [
           "Vice Chairman Roger W. Ferguson",
           "Basel II: A case study in risk management"
          ],
          [
           "Governor Ben S. Bernanke",
           "Will business investment bounce back?"
          ],
          [
           "Governor Edward M. Gramlich",
           "Loan guarantee programs"
          ],
          [
           "Governor Mark W. Olson",
           "Basel II: Its implications for second-tier and community-size banks"
          ],
          [
           "Chairman Alan Greenspan",
           "The Reagan legacy"
          ],
          [
           "Vice Chairman Roger W. Ferguson",
           "Basel II: A realist's perspective"
          ],
          [
           "Vice Chairman Roger W. Ferguson",
           "Patent policy in a broader context"
          ],
          [
           "Chairman Alan Greenspan",
           "Market economies and rule of law"
          ],
          [
           "Chairman Alan Greenspan",
           "Financial education"
          ],
          [
           "Chairman Alan Greenspan",
           "Community economic development"
          ],
          [
           "Governor Mark W. Olson",
           "Bank management challenges in a low-interest-rate environment"
          ],
          [
           "Governor Susan S. Bies",
           "Effective corporate governance and the role of counsel"
          ],
          [
           "Governor Susan S. Bies",
           "The role of community bank directors in strengthening corporate governance"
          ],
          [
           "Governor Ben S. Bernanke",
           "An unwelcome fall in inflation?"
          ],
          [
           "Governor Ben S. Bernanke",
           "The economic outlook"
          ],
          [
           "Governor Edward M. Gramlich",
           "Economic and financial education"
          ],
          [
           "Chairman Alan Greenspan",
           "Monetary policy under uncertainty"
          ],
          [
           "Governor Edward M. Gramlich",
           "Remarks"
          ],
          [
           "Governor Ben S. Bernanke",
           "Remarks"
          ],
          [
           "Governor Donald L. Kohn",
           "Panel discussion"
          ],
          [
           "Governor Ben S. Bernanke",
           "Panel discussion"
          ],
          [
           "Governor Edward M. Gramlich",
           "An update on the predatory lending issue"
          ],
          [
           "Vice Chairman Roger W. Ferguson",
           "Remarks"
          ],
          [
           "Vice Chairman Roger W. Ferguson",
           "The future of financial services--Revisited"
          ],
          [
           "Governor Susan S. Bies",
           "Comments on the current state of the economy"
          ],
          [
           "Governor Ben S. Bernanke",
           "Monetary policy and the stock market: Some empirical results"
          ],
          [
           "Governor Edward M. Gramlich",
           "Maintaining price stability"
          ],
          [
           "Chairman Alan Greenspan",
           "Financial education"
          ],
          [
           "Governor Donald L. Kohn",
           "Productivity and monetary policy"
          ],
          [
           "Governor Mark W. Olson",
           "Increased availability of financial products and the need for improved financial literacy"
          ],
          [
           "Vice Chairman Roger W. Ferguson",
           "Concerns and Considerations for the Practical Implementation of the New Basel Accord"
          ],
          [
           "Governor Mark W. Olson",
           "Functional Regulation and Financial Modernization"
          ],
          [
           "Vice Chairman Roger W. Ferguson",
           "Economic Outlook"
          ],
          [
           "Chairman Alan Greenspan",
           "Current Account"
          ],
          [
           "Governor Edward M. Gramlich",
           "Remarks on preserving and improving affordable rental housing"
          ],
          [
           "Vice Chairman Roger W. Ferguson",
           "The Proposed U.S. Approach to Regulatory Capital: An Update"
          ],
          [
           "Governor Ben S. Bernanke",
           "The jobless recovery"
          ],
          [
           "Chairman Alan Greenspan",
           "Remarks"
          ],
          [
           "Governor Susan S. Bies",
           "Effective Market Discipline: The Roles of Auditors, Companies, and Analysts"
          ],
          [
           "Chairman Alan Greenspan",
           "Remarks"
          ],
          [
           "Chairman Alan Greenspan",
           "Capitalism and the role of globalization"
          ],
          [
           "Chairman Alan Greenspan",
           "Economic flexibility"
          ],
          [
           "Governor Ben S. Bernanke",
           "Conducting Monetary Policy at Very Low Short-Term Interest Rates"
          ],
          [
           "Chairman Alan Greenspan",
           "Globalization"
          ],
          [
           "Governor Donald L. Kohn",
           "The United States in the World Economy"
          ],
          [
           "Vice Chairman Roger W. Ferguson",
           "Lessons from Past Productivity Booms"
          ],
          [
           "Governor Ben S. Bernanke",
           "Monetary Policy and the Economic Outlook: 2004"
          ],
          [
           "Governor Ben S. Bernanke",
           "Conducting Monetary Policy at Very Low Short-Term Interest Rates"
          ],
          [
           "Governor Ben S. Bernanke",
           "Fedspeak"
          ],
          [
           "Chairman Alan Greenspan",
           "Risk and Uncertainty in Monetary Policy"
          ],
          [
           "Governor Ben S. Bernanke",
           "Euro at Five: Ready for a Global Role?"
          ],
          [
           "Governor Edward M. Gramlich",
           "Budget and Trade Deficits: Linked, Both Worrisome in the Long Run, but not Twins"
          ],
          [
           "Governor Edward M. Gramlich",
           "Budget and Trade Deficits: Linked, Both Worrisome in the Long Run, but not Twins"
          ],
          [
           "Chairman Alan Greenspan",
           "Education"
          ],
          [
           "Governor Ben S. Bernanke",
           "Money, Gold, and the Great Depression"
          ],
          [
           "Chairman Alan Greenspan",
           "Current account"
          ],
          [
           "Governor Mark W. Olson",
           "U.S. Banking Industry Performance Highlights--2003"
          ],
          [
           "Chairman Alan Greenspan",
           "Intellectual property rights"
          ],
          [
           "Governor Mark W. Olson",
           "A Regulator's View of Emerging Issues in Community Banking"
          ],
          [
           "Governor Ben S. Bernanke",
           "Euro at Five: Ready for a Global Role?"
          ],
          [
           "Governor Susan S. Bies",
           "The Economic Outlook and the State of Household and Business Finances"
          ],
          [
           "Governor Susan S. Bies",
           "Qualitative Aspects of Effective Risk Management"
          ],
          [
           "Governor Edward M. Gramlich",
           "Budget and Trade Deficits: Linked, Both Worrisome in the Long Run, but not Twins"
          ],
          [
           "Chairman Alan Greenspan",
           "Understanding household debt obligations"
          ],
          [
           "Chairman Alan Greenspan",
           "The critical role of education in the nation's economy"
          ],
          [
           "Governor Ben S. Bernanke",
           "The Great Moderation"
          ],
          [
           "Governor Susan S. Bies",
           "Financial Markets and Corporate Governance"
          ],
          [
           "Governor Susan S. Bies",
           "Enterprise-wide Compliance Programs"
          ],
          [
           "Governor Susan S. Bies",
           "Innovation in Financial Markets and Banking Relationships"
          ],
          [
           "Chairman Alan Greenspan",
           "Energy"
          ],
          [
           "Governor Susan S. Bies",
           "Current Issues in Corporate Governance"
          ],
          [
           "Governor Mark W. Olson",
           "Preview of the Redesigned Series 2004 U.S. $50 Note"
          ],
          [
           "Governor Ben S. Bernanke",
           "The economic outlook and monetary policy"
          ],
          [
           "Vice Chairman Roger W. Ferguson",
           "Global Imbalances"
          ],
          [
           "Governor Ben S. Bernanke",
           "The economic outlook and monetary policy"
          ],
          [
           "Governor Susan S. Bies",
           "The Economic Outlook and Financial Health of Bank Customers"
          ],
          [
           "Governor Ben S. Bernanke",
           "Financial Access for Immigrants: The Case of Remittances"
          ],
          [
           "Governor Ben S. Bernanke",
           "What Policymakers Can Learn from Asset Prices"
          ],
          [
           "Vice Chairman Roger W. Ferguson",
           "Macroeconomic Outlook and Uncertainties"
          ],
          [
           "Governor Donald L. Kohn",
           "Monetary Policy and Imbalances"
          ],
          [
           "Governor Ben S. Bernanke",
           "Financial education and Jump$tart survey"
          ],
          [
           "Governor Ben S. Bernanke",
           "Trade and Jobs"
          ],
          [
           "Governor Ben S. Bernanke",
           "Monetary Policy Modeling: Where Are We and Where Should We Be Going?"
          ],
          [
           "Governor Donald L. Kohn",
           "Research at the Federal Reserve Board: The Contributions of Henderson, Porter, and Tinsley"
          ],
          [
           "Governor Edward M. Gramlich",
           "The Board's Modeling Work in the 1960s"
          ],
          [
           "Governor Donald L. Kohn",
           "Monetary Policy in a Time of Macroeconomic Transition"
          ],
          [
           "Chairman Alan Greenspan",
           "Rural economic issues"
          ],
          [
           "Chairman Alan Greenspan",
           "Banking"
          ],
          [
           "Governor Kevin Warsh",
           "Corporate Cash Balances and Economic Activity"
          ],
          [
           "Vice Chairman Donald L. Kohn",
           "Reflections on Globalization and Policies"
          ],
          [
           "Governor Susan S. Bies",
           "Addressing Challenges Raised by Basel II Implementation"
          ],
          [
           "Vice Chairman Donald L. Kohn",
           "Evolution of Retail Payments and the Role of the Federal Reserve"
          ],
          [
           "Chairman Ben S. Bernanke",
           "Remarks"
          ],
          [
           "Chairman Ben S. Bernanke",
           "Productivity"
          ],
          [
           "Chairman Ben S. Bernanke",
           "Global Economic Integration: What's New and What's Not?"
          ],
          [
           "Governor Susan S. Bies",
           "A Supervisory Perspective on Enterprise Risk Management"
          ],
          [
           "Chairman Ben S. Bernanke",
           "Bank Regulation and Supervision: Balancing Benefits and Costs"
          ],
          [
           "Governor Frederic S. Mishkin",
           "Globalization: A Force for Good?"
          ],
          [
           "Governor Susan S. Bies",
           "A U.S. Supervisor's Perspective on Current Banking Issues"
          ],
          [
           "Vice Chairman Donald L. Kohn",
           "Economic Outlook"
          ],
          [
           "Chairman Ben S. Bernanke",
           "The Coming Demographic Transition: Will We Treat Future Generations Fairly?"
          ],
          [
           "Governor Randall S. Kroszner",
           "What Drives Productivity Growth?  Implications for the Economy and Prospects for the Future"
          ],
          [
           "Vice Chairman Donald L. Kohn",
           "Monetary Policy and Uncertainty"
          ],
          [
           "Chairman Ben S. Bernanke",
           "Welcoming remarks"
          ],
          [
           "Governor Susan S. Bies",
           "A U.S. Perspective on Basel II Implementation"
          ],
          [
           "Chairman Ben S. Bernanke",
           "The Economic Outlook"
          ],
          [
           "Governor Kevin Warsh",
           "Financial Markets and the Federal Reserve"
          ],
          [
           "Governor Randall S. Kroszner",
           "The Conquest of Worldwide Inflation: Currency Competition and Its Implications for Interest Rates and the Yield Curve"
          ],
          [
           "Chairman Ben S. Bernanke",
           "Monetary Aggregates and Monetary Policy at the Federal Reserve: A Historical Perspective"
          ],
          [
           "Vice Chairman Donald L. Kohn",
           "The Evolving Role of the Federal Reserve Banks"
          ],
          [
           "Governor Susan S. Bies",
           "The Economic Outlook"
          ],
          [
           "Chairman Ben S. Bernanke",
           "Community Development Financial Institutions: Promoting Economic Growth and Opportunity"
          ],
          [
           "Chairman Ben S. Bernanke",
           "The Chinese Economy: Progress and Challenges"
          ],
          [
           "Governor Susan S. Bies",
           "Economic Outlook and Developments in Mortgage Markets "
          ],
          [
           "Governor Frederic S. Mishkin",
           "Enterprise Risk Management and Mortgage Lending"
          ],
          [
           "Governor Susan S. Bies",
           "Enterprise Risk Management and Mortgage Lending"
          ],
          [
           "Vice Chairman Donald L. Kohn",
           "The Economic Outlook "
          ],
          [
           "Chairman Ben S. Bernanke",
           "Central Banking and Bank Supervision in the United States"
          ],
          [
           "Governor Randall S. Kroszner",
           "The Changing Dynamics of Inflation"
          ],
          [
           "Governor Randall S. Kroszner",
           "Liquidity and monetary policy"
          ],
          [
           "Vice Chairman Donald L. Kohn",
           "Comments on âUnderstanding the Evolving Inflation Processâ by Cecchetti, Hooper, Kasman, Schoenholtz, and Watson"
          ],
          [
           "Chairman Ben S. Bernanke",
           "GSE Portfolios, Systemic Risk, and Affordable Housing"
          ],
          [
           "Governor Kevin Warsh",
           "Market Liquidity: Definitions and Implications"
          ],
          [
           "Governor Randall S. Kroszner",
           "Community Banks: The Continuing Importance of Relationship Finance"
          ],
          [
           "Chairman Ben S. Bernanke",
           "Globalization and Monetary Policy"
          ],
          [
           "Governor Susan S. Bies",
           "An Update on Basel II Implementation in the United States"
          ],
          [
           "Vice Chairman Donald L. Kohn",
           "Financial Stability: Preventing and Managing Crises"
          ],
          [
           "Chairman Ben S. Bernanke",
           "The Level and Distribution of Economic Well-Being"
          ],
          [
           "Chairman Ben S. Bernanke",
           "Embracing the Challenge of Free Trade: Competing and Prospering in a Global Economy"
          ],
          [
           "Governor Frederic S. Mishkin",
           "Globalization and Financial Development"
          ],
          [
           "Chairman Ben S. Bernanke",
           "Welcoming remarks"
          ],
          [
           "Governor Frederic S. Mishkin",
           "The U.S. Economic Outlook"
          ],
          [
           "Chairman Ben S. Bernanke",
           "Financial Regulation and the Invisible Hand"
          ],
          [
           "Governor Frederic S. Mishkin",
           "Monetary Policy and the Dual Mandate"
          ],
          [
           "Chairman Ben S. Bernanke",
           "The Community Reinvestment Act: Its Evolution and New Challenges"
          ],
          [
           "Governor Frederic S. Mishkin",
           "Inflation Dynamics"
          ],
          [
           "Vice Chairman Donald L. Kohn",
           "Asset-Pricing Puzzles, Credit Risk, and Credit Derivatives"
          ],
          [
           "Governor Randall S. Kroszner",
           "Recent Innovations in Credit Markets"
          ],
          [
           "Governor Frederic S. Mishkin",
           "Globalization and Financial Development"
          ],
          [
           "Chairman Ben S. Bernanke",
           "The Financial Accelerator and the Credit Channel"
          ],
          [
           "Governor Randall S. Kroszner",
           "Encouraging Responsible Mortgage Lending: Prospective Rulemaking Initiatives"
          ],
          [
           "Governor Kevin Warsh",
           "Financial Intermediation and Complete Markets "
          ],
          [
           "Chairman Ben S. Bernanke",
           "The Housing Market and Subprime Lending"
          ],
          [
           "Governor Randall S. Kroszner",
           "Outlook and Risks for the U.S. Economy"
          ],
          [
           "Governor Frederic S. Mishkin",
           "Estimating Potential Output"
          ],
          [
           "Governor Randall S. Kroszner",
           "Creating More Effective Consumer Disclosures"
          ],
          [
           "Chairman Ben S. Bernanke",
           "Recognizing Leadership"
          ],
          [
           "Chairman Ben S. Bernanke",
           "The Subprime Mortgage Market"
          ],
          [
           "Vice Chairman Donald L. Kohn",
           "Financial stability and policy issues"
          ],
          [
           "Governor Randall S. Kroszner",
           "Globalization and Capital Markets: Implications for Inflation and the Yield Curve"
          ],
          [
           "Governor Randall S. Kroszner",
           "International Capital Flows and the Emerging-Market Economies"
          ],
          [
           "Chairman Ben S. Bernanke",
           "Regulation and Financial Innovation"
          ],
          [
           "Governor Randall S. Kroszner",
           "The Future of Payments: Challenges and Opportunities"
          ],
          [
           "Governor Randall S. Kroszner",
           "Federal Reserve Initiatives to Support Minority-Owned Institutions and Expand Consumer Protection"
          ],
          [
           "Governor Randall S. Kroszner",
           "Basel II Implementation in the United States"
          ],
          [
           "Chairman Ben S. Bernanke",
           "Inflation Expectations and Inflation Forecasting"
          ],
          [
           "Chairman Ben S. Bernanke",
           "Challenges for Health-Care Reform"
          ],
          [
           "Chairman Ben S. Bernanke",
           "Dedication of the New Federal Reserve Bank of Kansas City Building"
          ],
          [
           "Governor Randall S. Kroszner",
           "Protecting Consumers in the Credit Marketplace"
          ],
          [
           "Vice Chairman Donald L. Kohn",
           "Lessons for Central Bankers from a Phillips Curve Framework"
          ],
          [
           "Chairman Ben S. Bernanke",
           "Outstanding Issues in the Analysis of Inflation"
          ],
          [
           "Governor Randall S. Kroszner",
           "Financial Market Developments and Credit Conditions"
          ],
          [
           "Chairman Ben S. Bernanke",
           "Remarks on Class Day 2008"
          ],
          [
           "Chairman Ben S. Bernanke",
           "Remarks on the economic outlook"
          ],
          [
           "Vice Chairman Donald L. Kohn",
           "Money Markets and Financial Stability"
          ],
          [
           null,
           "Liquidity Provision by the Federal Reserve "
          ],
          [
           "Governor Randall S. Kroszner",
           "Prospects for Recovery and Repair of Mortgage Markets "
          ],
          [
           "Governor Kevin Warsh",
           "The Federal Funds Rate in Extraordinary Times"
          ],
          [
           "Vice Chairman Donald L. Kohn",
           "The Economic Outlook"
          ],
          [
           "Governor Frederic S. Mishkin",
           "How Should We Respond to Asset Price Bubbles? "
          ],
          [
           "Chairman Ben S. Bernanke",
           "Risk Management in Financial Institutions"
          ],
          [
           "Governor Randall S. Kroszner",
           "Risk Management and Basel II"
          ],
          [
           "Chairman Ben S. Bernanke",
           "Liquidity Provision by the Federal Reserve"
          ],
          [
           "Governor Randall S. Kroszner",
           "Mitigating the Impact of Foreclosures on Neighborhoods"
          ],
          [
           "Chairman Ben S. Bernanke",
           "Mortgage Delinquencies and Foreclosures"
          ],
          [
           "Governor Kevin Warsh",
           "Remarks on covered bond framework"
          ],
          [
           "Governor Frederic S. Mishkin",
           "Whither Federal Reserve Communications"
          ],
          [
           "Governor Randall S. Kroszner",
           "Federal Reserve's Initiatives to Support Minority-Owned Institutions and Expand Consumer Protection"
          ],
          [
           "Chairman Ben S. Bernanke",
           "Financial Regulation and Financial Stability"
          ],
          [
           "Governor Frederic S. Mishkin",
           "Global Financial Turmoil and the World Economy"
          ],
          [
           "Vice Chairman Donald L. Kohn",
           "Global Economic Integration and Decoupling"
          ],
          [
           "Vice Chairman Donald L. Kohn",
           "Comments on âFinancial Regulation in a System Context,â âBeyond Leveraged Losses: The Balance Sheet Effects of the Home Price Downturn,â and âThe Central Role of House Prices in the Financial Crisis: How Will the Market Clear?â"
          ],
          [
           "Chairman Ben S. Bernanke",
           "Remarks on historically black colleges and universities"
          ],
          [
           "Governor Randall S. Kroszner",
           "The United States in the International Financial System:  A Separate Reality? Resolving Two Puzzles in the International Accounts"
          ],
          [
           "Chairman Ben S. Bernanke",
           "Reducing Systemic Risk"
          ],
          [
           "Chairman Ben S. Bernanke",
           "The Crisis and the Policy Response"
          ],
          [
           "Chairman Ben S. Bernanke",
           "Financial Reform to Address Systemic Risk"
          ],
          [
           "Chairman Ben S. Bernanke",
           "Brief Remarks"
          ],
          [
           "Governor Elizabeth A. Duke",
           "CRA: A Framework for the Future"
          ],
          [
           "Chairman Ben S. Bernanke",
           "Federal Reserve Policies to Ease Credit and Their Implications for the Fed's Balance Sheet"
          ],
          [
           "Governor Elizabeth A. Duke",
           "Stabilizing the Housing Market: Focus on Communities"
          ],
          [
           "Governor Elizabeth A. Duke",
           "Stabilizing the Housing Market:  Next Steps"
          ],
          [
           "Vice Chairman Donald L. Kohn",
           "The Economic Outlook"
          ],
          [
           "Vice Chairman Donald L. Kohn",
           "Monetary Policy in the Financial Crisis"
          ],
          [
           "Chairman Ben S. Bernanke",
           "Financial Innovation and Consumer Protection"
          ],
          [
           "Chairman Ben S. Bernanke",
           "Four Questions about the Financial Crisis"
          ],
          [
           "Governor Kevin Warsh",
           "The Panic of 2008"
          ],
          [
           "Chairman Ben S. Bernanke",
           "The Federal Reserve's Balance Sheet "
          ],
          [
           "Vice Chairman Donald L. Kohn",
           "Policies to Bring Us Out of the Financial Crisis and Recession"
          ],
          [
           "Governor Elizabeth A. Duke",
           "A Framework for Analyzing Bank Lending"
          ],
          [
           "Chairman Ben S. Bernanke",
           "The Financial Crisis and Community Banking"
          ],
          [
           "Chairman Ben S. Bernanke",
           "Community Development Financial Institutions: Challenges and Opportunities"
          ],
          [
           "Governor Kevin Warsh",
           "Defining Deviancy"
          ],
          [
           "Governor Elizabeth A. Duke",
           "Containing the Crisis and Promoting Economic Recovery"
          ],
          [
           "Governor Daniel K. Tarullo",
           "Large Banks and Small Banks in an Era of Systemic Risk Regulation"
          ],
          [
           "Governor Elizabeth A. Duke",
           "The Systemic Importance of Consumer Protection"
          ],
          [
           "Governor Daniel K. Tarullo",
           "Financial Regulation in the Wake of the Crisis"
          ],
          [
           "Chairman Ben S. Bernanke",
           "Welcoming Remarks"
          ],
          [
           "Vice Chairman Donald L. Kohn",
           "Interactions between Monetary and Fiscal Policy in the Current Situation"
          ],
          [
           "Chairman Ben S. Bernanke",
           "Commencement address"
          ],
          [
           "Chairman Ben S. Bernanke",
           "The Supervisory Capital Assessment Program"
          ],
          [
           "Chairman Ben S. Bernanke",
           "Lessons of the Financial Crisis for Banking Supervision"
          ],
          [
           "Vice Chairman Donald L. Kohn",
           "Comments on \"Financial Intermediation and the Post-Crisis Financial System\""
          ],
          [
           "Governor Elizabeth A. Duke",
           "Federal Reserve's Initiatives to Support Minority-Owned Institutions "
          ],
          [
           "Chairman Ben S. Bernanke",
           "Brief Remarks"
          ],
          [
           null,
           "Reflections on a Year of Crisis "
          ],
          [
           "Governor Elizabeth A. Duke",
           "Regulatory Perspectives on the Changing Accounting Landscape"
          ],
          [
           "Vice Chairman Donald L. Kohn",
           "Comments on \"Interpreting the Unconventional U.S. Monetary Policy of 2007-2009\""
          ],
          [
           "Governor Daniel K. Tarullo",
           "The Community Affairs Function at the Federal Reserve"
          ],
          [
           "Chairman Ben S. Bernanke",
           "Reflections on a Year of Crisis"
          ],
          [
           "Governor Daniel K. Tarullo",
           "Incentive Compensation, Risk Management, and Safety and Soundness"
          ],
          [
           "Vice Chairman Donald L. Kohn",
           "International Perspective on the Crisis and Response"
          ],
          [
           "Chairman Ben S. Bernanke",
           "Financial Regulation and Supervision after the Crisis: The Role of the Federal Reserve"
          ],
          [
           "Governor Daniel K. Tarullo",
           "Confronting Too Big to Fail"
          ],
          [
           "Chairman Ben S. Bernanke",
           "Asia and the Global Financial Crisis"
          ],
          [
           "Vice Chairman Donald L. Kohn",
           "The Economic Outlook"
          ],
          [
           "Vice Chairman Donald L. Kohn",
           "Monetary Policy Research and the Financial Crisis: Strengths and Shortcomings"
          ],
          [
           "Chairman Ben S. Bernanke",
           "The Federal Reserve's Balance Sheet: An Update"
          ],
          [
           "Governor Daniel K. Tarullo",
           "In the Wake of the Crisis"
          ],
          [
           "Vice Chairman Donald L. Kohn",
           "Central Bank Exit Policies"
          ],
          [
           "Governor Kevin Warsh",
           "Longer Days, Fewer Weekends"
          ],
          [
           "Chairman Ben S. Bernanke",
           "Brief Remarks"
          ],
          [
           "Governor Elizabeth A. Duke",
           "Envisioning a Future for Housing Finance"
          ],
          [
           "Governor Elizabeth A. Duke",
           "Keys to Successful Neighborhood Stabilization"
          ],
          [
           "Chairman Ben S. Bernanke",
           "Frequently Asked Questions"
          ],
          [
           "Vice Chairman Donald L. Kohn",
           "Policy Challenges for the Federal Reserve"
          ],
          [
           "Chairman Ben S. Bernanke",
           "On the Outlook for the Economy and Policy"
          ],
          [
           "Governor Daniel K. Tarullo",
           "Supervising and Resolving Large Financial Institutions"
          ],
          [
           "Governor Daniel K. Tarullo",
           "Financial Regulation: Past and Future"
          ],
          [
           "Governor Elizabeth A. Duke",
           "The Economic Outlook"
          ],
          [
           "Chairman Ben S. Bernanke",
           "Monetary Policy and the Housing Bubble"
          ],
          [
           "Vice Chairman Donald L. Kohn",
           "Monetary Policy in the Crisis: Past, Present, and Future"
          ],
          [
           "Governor Daniel K. Tarullo",
           "Financial Regulatory Reform"
          ],
          [
           "Governor Elizabeth A. Duke",
           "Unusual and Exigent: My First Year at the Fed"
          ],
          [
           "Chairman Ben S. Bernanke",
           "Swearing-In Ceremony Remarks"
          ],
          [
           "Governor Kevin Warsh",
           "Regulation and Its Discontents"
          ],
          [
           "Vice Chairman Donald L. Kohn",
           "Focusing on Bank Interest Rate Risk Exposure"
          ],
          [
           "Chairman Ben S. Bernanke",
           "Achieving Fiscal Sustainability"
          ],
          [
           "Chairman Ben S. Bernanke",
           "Brief Remarks"
          ],
          [
           "Governor Elizabeth A. Duke",
           "Issues in Economic Development"
          ],
          [
           "Chairman Ben S. Bernanke",
           "Fostering Financial Literacy"
          ],
          [
           "Governor Daniel K. Tarullo",
           "Involving Markets and the Public in Financial Regulation"
          ],
          [
           "Chairman Ben S. Bernanke",
           "Economic Policy:  Lessons from History"
          ],
          [
           "Vice Chairman Donald L. Kohn",
           "The Economic Outlook"
          ],
          [
           "Governor Daniel K. Tarullo",
           "The Present and Future of Community Banking"
          ],
          [
           "Governor Elizabeth A. Duke",
           "The Importance of Financial Education"
          ],
          [
           "Chairman Ben S. Bernanke",
           "Economic Challenges: Past, Present, and Future"
          ],
          [
           "Governor Elizabeth A. Duke",
           "Restoring Credit to Communities"
          ],
          [
           "Governor Daniel K. Tarullo",
           "Lessons from the Crisis Stress Tests"
          ],
          [
           "Governor Kevin Warsh",
           "An Ode to Independence"
          ],
          [
           "Vice Chairman Donald L. Kohn",
           "Homework Assignments for Monetary Policymakers"
          ],
          [
           "Chairman Ben S. Bernanke",
           "Preserving a Central Role for Community Banking"
          ],
          [
           "Governor Daniel K. Tarullo",
           "Toward an Effective Resolution Regime for Large Financial Institutions"
          ],
          [
           "Chairman Ben S. Bernanke",
           "Remarks on \"The Squam Lake Report: Fixing the Financial System\""
          ],
          [
           "Chairman Ben S. Bernanke",
           "Fostering Workforce Development"
          ],
          [
           "Governor Elizabeth A. Duke",
           "Moving Beyond the Financial Crisis"
          ],
          [
           "Chairman Ben S. Bernanke",
           "Brief Remarks"
          ],
          [
           "Chairman Ben S. Bernanke",
           "The Policy Response to the Crisis in Korea and Other Emerging Market Economies"
          ],
          [
           "Chairman Ben S. Bernanke",
           "Central Bank Independence, Transparency, and Accountability"
          ],
          [
           "Vice Chairman Donald L. Kohn",
           "The Federal Reserve's Policy Actions during the Financial Crisis and Lessons for the Future"
          ],
          [
           "Vice Chairman Donald L. Kohn",
           "Global Imbalances"
          ],
          [
           "Chairman Ben S. Bernanke",
           "The Economics of Happiness"
          ],
          [
           "Chairman Ben S. Bernanke",
           "The Supervisory Capital Assessment Program--One Year Later"
          ],
          [
           "Governor Elizabeth A. Duke",
           "Women and Money: Challenging the Myths"
          ],
          [
           "Chairman Ben S. Bernanke",
           "Challenges for the Economy and State Governments"
          ],
          [
           "Governor Elizabeth A. Duke",
           "Opening Remarks"
          ],
          [
           "Governor Elizabeth A. Duke",
           "Small Business Credit: Next Steps"
          ],
          [
           "Chairman Ben S. Bernanke",
           "Restoring the Flow of Credit to Small Businesses"
          ],
          [
           "Governor Elizabeth A. Duke",
           "Fostering a Healthy Credit Environment"
          ],
          [
           "Governor Kevin Warsh",
           " It's Greek to Me"
          ],
          [
           "Governor Daniel K. Tarullo",
           "Comments on \"Regulating the Shadow Banking System\""
          ],
          [
           "Governor Elizabeth A. Duke",
           "Stabilizing Neighborhoods:  Lessons Learned from the Field"
          ],
          [
           "Chairman Ben S. Bernanke",
           "The Economic Outlook and Monetary Policy"
          ],
          [
           "Chairman Ben S. Bernanke",
           "Welcoming Remarks"
          ],
          [
           "Governor Elizabeth A. Duke",
           "Come with Me to the FOMC"
          ],
          [
           "Chairman Ben S. Bernanke",
           "Brief Remarks"
          ],
          [
           "Chairman Ben S. Bernanke",
           "Monetary Policy Objectives and Tools in a Low-Inflation Environment"
          ],
          [
           "Vice Chair Janet L. Yellen",
           "Macroprudential Supervision and Monetary Policy in the Post-crisis World"
          ],
          [
           "Chairman Ben S. Bernanke",
           "Fiscal Sustainability and Fiscal Rules"
          ],
          [
           "Chairman Ben S. Bernanke",
           "Welcoming Remarks"
          ],
          [
           "Chairman Ben S. Bernanke",
           " Implications of the Financial Crisis for Economics"
          ],
          [
           "Governor Elizabeth A. Duke",
           "Opening Remarks"
          ],
          [
           "Governor Elizabeth A. Duke",
           "Developments in the Landscape for Consumer Credit and Payments"
          ],
          [
           "Vice Chair Janet L. Yellen",
           "Fiscal Responsibility and Global Rebalancing"
          ],
          [
           "Chairman Ben S. Bernanke",
           "Emerging from the Crisis: Where Do We Stand?"
          ],
          [
           "Chairman Ben S. Bernanke",
           "Rebalancing the Global Recovery"
          ],
          [
           "Governor Sarah Bloom Raskin",
           "Problems in the Mortgage Servicing Industry"
          ],
          [
           "Governor Daniel K. Tarullo",
           "Next Steps in Financial Regulatory Reform"
          ],
          [
           "Governor Kevin Warsh",
           "Rejecting the Requiem"
          ],
          [
           "Vice Chair Janet L. Yellen",
           "The Federal Reserve's Asset Purchase Program"
          ],
          [
           "Governor Elizabeth A. Duke",
           "The Economic Outlook"
          ],
          [
           "Vice Chair Janet L. Yellen",
           "Improving the International Monetary and Financial System"
          ],
          [
           "Chairman Ben S. Bernanke",
           "Challenges for State and Local Governments"
          ],
          [
           "Vice Chair Janet L. Yellen",
           "Unconventional Monetary Policy and Central Bank Communications"
          ],
          [
           "Chairman Ben S. Bernanke",
           "Global Imbalances: Links to Economic and Financial Stability"
          ],
          [
           "Governor Sarah Bloom Raskin",
           "Putting the Low Road Behind Us"
          ],
          [
           "Chairman Ben S. Bernanke",
           "The Economic Outlook and Macroeconomic Policy"
          ],
          [
           "Governor Elizabeth A. Duke",
           "From Community Banker to Central Banker--My Journey"
          ],
          [
           "Chairman Ben S. Bernanke",
           "Housing Markets in Transition"
          ],
          [
           "Governor Elizabeth A. Duke",
           "Small Business Credit Availability"
          ],
          [
           "Vice Chair Janet L. Yellen",
           "Commodity Prices, the Economic Outlook, and Monetary Policy"
          ],
          [
           "Governor Sarah Bloom Raskin",
           "Community Bankers and Supervisors: Seeking Balance"
          ],
          [
           "Chairman Ben S. Bernanke",
           "Clearinghouses, Financial Stability, and Financial Reform"
          ],
          [
           "Governor Daniel K. Tarullo",
           "Regulating Systemic Risk"
          ],
          [
           "Governor Elizabeth A. Duke",
           "Changed Circumstances: The Impact of the Financial Crisis on the Economic Condition of Workers Near Retirement and of Business Owners"
          ],
          [
           "Chairman Ben S. Bernanke",
           "Community Banking in a Period of Recovery and Change"
          ],
          [
           "Chairman Ben S. Bernanke",
           "Fiscal Sustainability"
          ],
          [
           "Vice Chair Janet L. Yellen",
           "Housing Market Developments and Their Effects on Low- and Moderate-Income Neighborhoods"
          ],
          [
           "Chairman Ben S. Bernanke",
           "The U.S. Economic Outlook"
          ],
          [
           "Governor Daniel K. Tarullo",
           "Regulating Systemically Important Financial Firms"
          ],
          [
           "Vice Chair Janet L. Yellen",
           "Assessing Potential Financial Imbalances in an Era of Accommodative Monetary Policy"
          ],
          [
           "Governor Elizabeth A. Duke",
           "Research, Policy, and the Future of Financial Education"
          ],
          [
           "Chairman Ben S. Bernanke",
           "Promoting Research and Development: The Government's Role"
          ],
          [
           "Chairman Ben S. Bernanke",
           "Brief remarks"
          ],
          [
           "Governor Elizabeth A. Duke",
           "Fostering Innovation in Community Development Finance"
          ],
          [
           "Vice Chair Janet L. Yellen",
           "Reaping the Full Benefits of Financial Openness"
          ],
          [
           "Chairman Ben S. Bernanke",
           "Implementing a Macroprudential Approach to Supervision and Regulation"
          ],
          [
           "Chairman Ben S. Bernanke",
           "Community Development in Challenging Times"
          ],
          [
           "Governor Elizabeth A. Duke",
           "Community Voices: Promising Practices for Neighborhood Stabilization"
          ],
          [
           "Governor Sarah Bloom Raskin",
           "Economic and Financial Inclusion in 2011: What it Means for Americans and our Economic Recovery"
          ],
          [
           "Governor Daniel K. Tarullo",
           "Industrial Organization and Systemic Risk: An Agenda for Further Research"
          ],
          [
           "Chairman Ben S. Bernanke",
           "Opening Remarks"
          ],
          [
           "Chairman Ben S. Bernanke",
           "The U.S. Economic Outlook"
          ],
          [
           "Governor Elizabeth A. Duke",
           "Rebalancing the Housing Market"
          ],
          [
           "Chairman Ben S. Bernanke",
           "The Near- and Longer-Term Prospects for the U.S. Economy"
          ],
          [
           "Governor Elizabeth A. Duke",
           "The Federal Reserve System and Individual Financial Planning"
          ],
          [
           "Vice Chair Janet L. Yellen",
           "The Outlook for the U.S. Economy and Economic Policy"
          ],
          [
           "Governor Daniel K. Tarullo",
           "Unemployment, the Labor Market, and the Economy"
          ],
          [
           "Chairman Ben S. Bernanke",
           "The Effects of the Great Recession on Central Bank Doctrine and Practice"
          ],
          [
           "Governor Sarah Bloom Raskin",
           "Legal Opportunities and Challenges in Crafting a Foreclosure Response"
          ],
          [
           "Chairman Ben S. Bernanke",
           "Lessons from Emerging Market Economies on the Sources of Sustained Growth"
          ],
          [
           "Governor Sarah Bloom Raskin",
           "Monetary Policy and Job Creation"
          ],
          [
           "Vice Chair Janet L. Yellen",
           "Aggregate Demand and the Global Economic Recovery"
          ],
          [
           "Vice Chair Janet L. Yellen",
           "Pursuing Financial Stability at the Federal Reserve"
          ],
          [
           "Chairman Ben S. Bernanke",
           "Town Hall Meeting Remarks"
          ],
          [
           "Governor Daniel K. Tarullo",
           "The Evolution of Capital Regulation"
          ],
          [
           "Chairman Ben S. Bernanke",
           "Welcoming Remarks"
          ],
          [
           "Governor Daniel K. Tarullo",
           "The International Agenda for Financial Regulation"
          ],
          [
           "Governor Elizabeth A. Duke",
           "From Community Banker to Central Banker--My Journey"
          ],
          [
           "Governor Elizabeth A. Duke",
           "Opportunities to Reduce Regulatory Burden and Improve Credit Availability"
          ],
          [
           "Governor Sarah Bloom Raskin",
           "Creating and Implementing an Enforcement Response to the Foreclosure Crisis"
          ],
          [
           "Governor Sarah Bloom Raskin",
           "Community Bank Examination and Supervision amid Economic Recovery"
          ],
          [
           "Governor Elizabeth A. Duke",
           "Economic Developments, Risks to the Outlook, and Housing Market Policies"
          ],
          [
           "Governor Sarah Bloom Raskin",
           "Accommodative Monetary Policy and Its Effects on Savers"
          ],
          [
           "Chairman Ben S. Bernanke",
           "Community Banking"
          ],
          [
           "Chairman Ben S. Bernanke",
           "Some Reflections on the Crisis and the Policy Response"
          ],
          [
           "Governor Sarah Bloom Raskin",
           "Downturns and Recoveries: What the Economies in Los Angeles and the United States Tell Us"
          ],
          [
           "Vice Chair Janet L. Yellen",
           "The Economic Outlook and Monetary Policy"
          ],
          [
           "Governor Daniel K. Tarullo",
           "Developing Tools for Dynamic Capital Supervision"
          ],
          [
           "Chairman Ben S. Bernanke",
           "Fostering Financial Stability"
          ],
          [
           "Governor Elizabeth A. Duke",
           "Building Sustainable Communities"
          ],
          [
           "Chairman Ben S. Bernanke",
           "Recent Developments in the Labor Market"
          ],
          [
           "Chairman Ben S. Bernanke",
           "Opening Remarks"
          ],
          [
           "Chairman Ben S. Bernanke",
           "Community Banking"
          ],
          [
           "Governor Daniel K. Tarullo",
           "Shadow Banking After the Financial Crisis"
          ],
          [
           "Vice Chair Janet L. Yellen",
           "Perspectives on Monetary Policy"
          ],
          [
           "Governor Elizabeth A. Duke",
           "Prescriptions for Housing Recovery"
          ],
          [
           "Chairman Ben S. Bernanke",
           "Banks and Bank Lending: The State of Play"
          ],
          [
           "Governor Daniel K. Tarullo",
           "Regulatory Reform since the Financial Crisis"
          ],
          [
           "Governor Sarah Bloom Raskin",
           "How Well Is Our Financial System Serving Us? Working Together to Find the High Road"
          ],
          [
           "Chairman Ben S. Bernanke",
           "Early Childhood Education"
          ],
          [
           "Governor Elizabeth A. Duke",
           "Central Bank Cooperation in Times of Crisis"
          ],
          [
           "Chairman Ben S. Bernanke",
           "Monetary Policy since the Onset of the Crisis"
          ],
          [
           "Chairman Ben S. Bernanke",
           "Financial Education"
          ],
          [
           "Chairman Ben S. Bernanke",
           "Economic Measurement"
          ],
          [
           "Chairman Ben S. Bernanke",
           "U.S. Monetary Policy and International Implications"
          ],
          [
           "Governor Jeremy C. Stein",
           "Evaluating Large-Scale Asset Purchases"
          ],
          [
           "Vice Chair Janet L. Yellen",
           "Japan in the Global Economy II"
          ],
          [
           "Governor Daniel K. Tarullo",
           "Financial Stability Regulation"
          ],
          [
           "Governor Elizabeth A. Duke",
           "Addressing Long-Term Vacant Properties to Support Neighborhood Stabilization"
          ],
          [
           "Chairman Ben S. Bernanke",
           "Five Questions about the Federal Reserve and Monetary Policy"
          ],
          [
           "Governor Daniel K. Tarullo",
           "Industry Structure and Systemic Risk Regulation"
          ],
          [
           "Governor Jeremy C. Stein",
           "Large-Scale Asset Purchases"
          ],
          [
           "Governor Daniel K. Tarullo",
           "Regulation of Foreign Banking Organizations"
          ],
          [
           "Chairman Ben S. Bernanke",
           "The Economic Recovery and Economic Policy"
          ],
          [
           "Chairman Ben S. Bernanke",
           "Challenges in Housing and Mortgage Markets"
          ],
          [
           "Vice Chair Janet L. Yellen",
           "Revolution and Evolution in Central Bank Communications"
          ],
          [
           "Governor Elizabeth A. Duke",
           "Community Banks and Mortgage Lending"
          ],
          [
           "Governor Jeremy C. Stein",
           "Dollar Funding and Global Banks"
          ],
          [
           "Vice Chair Janet L. Yellen",
           "Interconnectedness and Systemic Risk:  Lessons from the Financial Crisis and Policy Implications"
          ],
          [
           "Governor Elizabeth A. Duke",
           "Comments on Housing and Mortgage Markets"
          ],
          [
           "Governor Jerome H. Powell",
           "Ending \"Too Big to Fail\""
          ],
          [
           "Vice Chair Janet L. Yellen",
           "Challenges Confronting Monetary Policy"
          ],
          [
           "Chairman Ben S. Bernanke",
           "Long-Term Interest Rates"
          ],
          [
           "Governor Sarah Bloom Raskin",
           "Reflections on Reputation and its Consequences"
          ],
          [
           "Governor Daniel K. Tarullo",
           "International Cooperation in Financial Regulation"
          ],
          [
           "Governor Jerome H. Powell",
           "Discussion of \"Crunch Time: Fiscal Crises and the Role of Monetary Policy\""
          ],
          [
           "Vice Chair Janet L. Yellen",
           "A Painfully Slow Recovery for America's Workers: Causes, Implications, and the Federal Reserve's Response"
          ],
          [
           "Governor Jeremy C. Stein",
           "Overheating in Credit Markets: Origins, Measurement, and Policy Responses"
          ],
          [
           "Governor Elizabeth A. Duke",
           "The Future of Community Banking"
          ],
          [
           "Governor Jeremy C. Stein",
           "Liquidity Regulation and Central Banking"
          ],
          [
           "Governor Sarah Bloom Raskin",
           "Aspects of Inequality in the Recent Business Cycle"
          ],
          [
           "Governor Jeremy C. Stein",
           "Regulating Large Financial Institutions"
          ],
          [
           "Vice Chair Janet L. Yellen",
           "Panel Discussion on \"Monetary Policy: Many Targets, Many Instruments. Where Do We Stand?\""
          ],
          [
           "Chairman Ben S. Bernanke",
           "Creating Resilient Communities"
          ],
          [
           "Chairman Ben S. Bernanke",
           "Stress Testing Banks: What Have We Learned?"
          ],
          [
           "Vice Chair Janet L. Yellen",
           "Communication in Monetary Policy"
          ],
          [
           "Chairman Ben S. Bernanke",
           "Financial and Economic Education"
          ],
          [
           "Chairman Ben S. Bernanke",
           "Monetary Policy and the Global Economy"
          ],
          [
           "Governor Sarah Bloom Raskin",
           "Focusing on Low- and Moderate-Income Working Americans"
          ],
          [
           "Governor Sarah Bloom Raskin",
           "Let's Move Forward: The Case for Timely Implementation of Revised Capital Rules"
          ],
          [
           "Vice Chair Janet L. Yellen",
           "Regulatory Landscapes: A U.S. Perspective"
          ],
          [
           "Chairman Ben S. Bernanke",
           "The Ten Suggestions"
          ],
          [
           "Chairman Ben S. Bernanke",
           "Economic Prospects for the Long Run"
          ],
          [
           "Governor Sarah Bloom Raskin",
           "Prospects for a Stronger Recovery"
          ],
          [
           "Chairman Ben S. Bernanke",
           "Monitoring the Financial System"
          ],
          [
           "Governor Elizabeth A. Duke",
           "A View from the Federal Reserve Board: The Mortgage Market and Housing Conditions"
          ],
          [
           "Governor Daniel K. Tarullo",
           "Evaluating Progress in Regulatory Reforms to Promote Financial Stability"
          ],
          [
           "Governor Sarah Bloom Raskin",
           "Beyond Capital: The Case for a Harmonized Response to Asset Bubbles"
          ],
          [
           "Chairman Ben S. Bernanke",
           "A Century of U.S. Central Banking: Goals, Frameworks, Accountability"
          ],
          [
           "Governor Jerome H. Powell",
           "International Financial Regulatory Reform"
          ],
          [
           "Governor Jeremy C. Stein",
           "Comments on Monetary Policy"
          ],
          [
           "Governor Jerome H. Powell",
           "Thoughts on Unconventional Monetary Policy"
          ],
          [
           "Governor Daniel K. Tarullo",
           "Toward Building a More Effective Resolution Regime: Progress and Challenges"
          ],
          [
           "Governor Jeremy C. Stein",
           "Lean, Clean, and In-Between"
          ],
          [
           "Chairman Ben S. Bernanke",
           "Celebrating 20 Years of the Bank of Mexico's Independence"
          ],
          [
           "Governor Jerome H. Powell",
           "Communications Challenges and Quantitative Easing"
          ],
          [
           "Governor Jeremy C. Stein",
           "The Fire-Sales Problem and Securities Financing Transactions"
          ],
          [
           "Governor Jerome H. Powell",
           "Community Banking: Connecting Research and Policy"
          ],
          [
           "Chairman Ben S. Bernanke",
           "Brief Welcoming Remarks"
          ],
          [
           "Governor Jeremy C. Stein",
           "Yield-Oriented Investors and the Monetary Transmission Mechanism"
          ],
          [
           "Governor Daniel K. Tarullo",
           "Macroprudential Regulation"
          ],
          [
           "Chairman Ben S. Bernanke",
           "Concluding Remarks"
          ],
          [
           "Chairman Ben S. Bernanke",
           "Opening Remarks"
          ],
          [
           "Governor Daniel K. Tarullo",
           "Shadow Banking and Systemic Risk Regulation"
          ],
          [
           "Governor Jerome H. Powell",
           "OTC Market Infrastructure Reform:  Opportunities and Challenges"
          ],
          [
           "Chairman Ben S. Bernanke",
           "Communication and Monetary Policy"
          ],
          [
           "Chairman Ben S. Bernanke",
           "40th Anniversary of the Annual Conference of the Union of Arab Banks"
          ],
          [
           "Chairman Ben S. Bernanke",
           "Teaching and Learning about the Federal Reserve"
          ],
          [
           "Chairman Ben S. Bernanke",
           "The Crisis as a Classic Financial Panic"
          ],
          [
           "Governor Jeremy C. Stein",
           "The Fire-Sales Problem and Securities Financing Transactions"
          ],
          [
           "Governor Jerome H. Powell",
           "Advanced Economy Monetary Policy and Emerging Market Economies"
          ],
          [
           "Chairman Ben S. Bernanke",
           "The Federal Reserve:  Looking Back, Looking Forward"
          ],
          [
           "Governor Jeremy C. Stein",
           "Banks as Patient Debt Investors"
          ],
          [
           "Governor Jeremy C. Stein",
           "Comments on \"Market Tantrums and Monetary Policy\""
          ],
          [
           "Governor Daniel K. Tarullo",
           "Monetary Policy and Financial Stability"
          ],
          [
           "Chair Janet L. Yellen",
           "Remarks at the Ceremonial Swearing-in"
          ],
          [
           "Chair Janet L. Yellen",
           "Monetary Policy and the Economic Recovery"
          ],
          [
           "Chair Janet L. Yellen",
           "Opening Remarks"
          ],
          [
           "Governor Daniel K. Tarullo",
           "Longer-Term Challenges for the American Economy"
          ],
          [
           "Chair Janet L. Yellen",
           "What the Federal Reserve Is Doing to Promote a Stronger Job Market"
          ],
          [
           "Governor Daniel K. Tarullo",
           "Regulating Large Foreign Banking Organizations"
          ],
          [
           "Chair Janet L. Yellen",
           "Remarks on Women's History Month"
          ],
          [
           "Governor Jeremy C. Stein",
           "Welcoming Remarks"
          ],
          [
           "Governor Jeremy C. Stein",
           "Incorporating Financial Stability Considerations into a Monetary Policy Framework"
          ],
          [
           "Governor Daniel K. Tarullo",
           "Corporate Governance and Prudential Regulation"
          ],
          [
           "Governor Jerome H. Powell",
           "A Conversation on Central Banking Issues"
          ],
          [
           "Chair Janet L. Yellen",
           "Commencement Remarks"
          ],
          [
           "Chair Janet L. Yellen",
           "Small Businesses and the Recovery"
          ],
          [
           "Governor Daniel K. Tarullo",
           "Rethinking the Aims of Prudential Regulation"
          ],
          [
           "Governor Jeremy C. Stein",
           "Challenges for Monetary Policy Communication"
          ],
          [
           "Chair Janet L. Yellen",
           "Tailored Supervision of Community Banks"
          ],
          [
           "Vice Chairman Stanley Fischer",
           "Financial Sector Reform: How Far Are We?"
          ],
          [
           "Chair Janet L. Yellen",
           "Monetary Policy and Financial Stability"
          ],
          [
           "Governor Daniel K. Tarullo",
           "Stress Testing after Five Years"
          ],
          [
           "Governor Jerome H. Powell",
           "Reforming U.S. Dollar LIBOR:  The Path Forward"
          ],
          [
           "Chair Janet L. Yellen",
           "Labor Market Dynamics and Monetary Policy"
          ],
          [
           "Vice Chairman Stanley Fischer",
           "The Great Recession: Moving Ahead"
          ],
          [
           "Governor Daniel K. Tarullo",
           "Good Compliance, Not Mere Compliance"
          ],
          [
           "Governor Jerome H. Powell",
           "Opening Remarks"
          ],
          [
           "Chair Janet L. Yellen",
           "Perspectives on Inequality and Opportunity from the Survey of Consumer Finances"
          ],
          [
           "Vice Chairman Stanley Fischer",
           "The Federal Reserve and the Global Economy"
          ],
          [
           "Governor Jerome H. Powell",
           "Remarks on \"Government Debt Management at the Zero Lower Bound\""
          ],
          [
           "Governor Jerome H. Powell",
           "Introductory Remarks"
          ],
          [
           "Chair Janet L. Yellen",
           "The Importance of Asset Building for Low and Middle Income Households"
          ],
          [
           "Governor Lael Brainard",
           "The Federal Reserve's Financial Stability Agenda"
          ],
          [
           "Governor Lael Brainard",
           "Opening Remarks"
          ],
          [
           "Governor Daniel K. Tarullo",
           "Liquidity Regulation"
          ],
          [
           "Governor Jerome H. Powell",
           "Monetary Policy Accommodation, Risk-Taking, and Spillovers"
          ],
          [
           "Governor Daniel K. Tarullo",
           "A Tiered Approach to Regulation and Supervision of Community Banks"
          ],
          [
           "Chair Janet L. Yellen",
           "Remarks at the Panel Discussion on \"Shaping the Future of the Macroeconomic Policy Mix\""
          ],
          [
           "Governor Jerome H. Powell",
           "A Financial System Perspective on Central Clearing of Derivatives"
          ],
          [
           "Chair Janet L. Yellen",
           "Welcoming Remarks"
          ],
          [
           "Governor Jerome H. Powell",
           "Comments on the Fair and Effective Markets Review"
          ],
          [
           "Chair Janet L. Yellen",
           "Improving the Oversight of Large Financial Institutions"
          ],
          [
           "Vice Chairman Stanley Fischer",
           "Conducting Monetary Policy with a Large Balance Sheet"
          ],
          [
           "Governor Jerome H. Powell",
           "Financial Institutions, Financial Markets, and Financial Stability"
          ],
          [
           "Governor Jerome H. Powell",
           "\"Audit the Fed\" and Other Proposals"
          ],
          [
           "Governor Jerome H. Powell",
           "Welcoming Remarks"
          ],
          [
           "Governor Daniel K. Tarullo",
           "Advancing Macroprudential Policy Objectives"
          ],
          [
           "Governor Jerome H. Powell",
           "Remarks on Monetary Policy"
          ],
          [
           "Governor Lael Brainard",
           "Coming of Age in the Great Recession"
          ],
          [
           "Chair Janet L. Yellen",
           "Opening Remarks"
          ],
          [
           "Vice Chairman Stanley Fischer",
           "Nonbank Financial Intermediation, Financial Stability, and the Road Forward"
          ],
          [
           "Vice Chairman Stanley Fischer",
           "The Importance of the Nonbank Financial Sector"
          ],
          [
           "Chair Janet L. Yellen",
           "Normalizing Monetary Policy:  Prospects and Perspectives"
          ],
          [
           "Vice Chairman Stanley Fischer",
           "Monetary Policy Lessons and the Way Ahead"
          ],
          [
           "Governor Lael Brainard",
           "The U.S. Economic Outlook and Implications for Monetary Policy"
          ],
          [
           "Vice Chairman Stanley Fischer",
           "What have we learned from the crises of the last 20 years?"
          ],
          [
           "Vice Chairman Stanley Fischer",
           "The Federal Reserve and the Global Economy"
          ],
          [
           "Chair Janet L. Yellen",
           "The Outlook for the Economy"
          ],
          [
           "Vice Chairman Stanley Fischer",
           "Past, Present, and Future Challenges for the Euro Area"
          ],
          [
           "Governor Jerome H. Powell",
           "Regulation and Supervision of Community Banks"
          ],
          [
           "Chair Janet L. Yellen",
           "Finance and Society"
          ],
          [
           "Governor Daniel K. Tarullo",
           "Opening Remarks"
          ],
          [
           "Governor Daniel K. Tarullo",
           "Tailoring Community Bank Regulation and Supervision"
          ],
          [
           "Chair Janet L. Yellen",
           "Recent Developments and the Outlook for the Economy"
          ],
          [
           "Governor Lael Brainard",
           "Dodd-Frank at Five: Assessing Progress on Too Big to Fail"
          ],
          [
           "Governor Lael Brainard",
           "Recent Changes in the Resilience of Market Liquidity"
          ],
          [
           "Vice Chairman Stanley Fischer",
           "Monetary Policy in the United States and in Developing Countries"
          ],
          [
           "Governor Jerome H. Powell",
           "Building a Safer Payment System"
          ],
          [
           "Vice Chairman Stanley Fischer",
           "Supervisory Stress Testing of Large Systemic Financial Institutions"
          ],
          [
           "Vice Chairman Stanley Fischer",
           "U.S. Inflation Developments"
          ],
          [
           "Governor Jerome H. Powell",
           "Structure and Liquidity in Treasury Markets"
          ],
          [
           "Chair Janet L. Yellen",
           "Brief Remarks"
          ],
          [
           "Governor Jerome H. Powell",
           "The Evolving Structure of U.S. Treasury Markets"
          ],
          [
           "Governor Lael Brainard",
           "Identifying Opportunities for Reducing Regulatory Burdens on Community Banks"
          ],
          [
           "Governor Lael Brainard",
           "Economic Outlook and Monetary Policy"
          ],
          [
           "Vice Chairman Stanley Fischer",
           "U.S. Economy and Monetary Policy"
          ],
          [
           "Vice Chairman Stanley Fischer",
           "Macroprudential Policy in the U.S. Economy"
          ],
          [
           "Governor Lael Brainard",
           "Community Banks, Small Business Credit, and Online Lending"
          ],
          [
           "Chair Janet L. Yellen",
           "Welcoming Remarks"
          ],
          [
           "Governor Daniel K. Tarullo",
           "Capital Regulation Across Financial Intermediaries"
          ],
          [
           "Chair Janet L. Yellen",
           "Inflation Dynamics and Monetary Policy"
          ],
          [
           "Vice Chairman Stanley Fischer",
           "Monetary Policy, Financial Stability, and the Zero Lower Bound"
          ],
          [
           "Governor Lael Brainard",
           "The Use of Distributed Ledger Technologies in Payment, Clearing, and Settlement"
          ],
          [
           "Chair Janet L. Yellen",
           "The Outlook, Uncertainty, and Monetary Policy"
          ],
          [
           "Governor Lael Brainard",
           "An Update on the Outlook, Liquidity, and Resilience"
          ],
          [
           "Vice Chairman Stanley Fischer",
           "Reflections on Macroeconomics Then and Now"
          ],
          [
           "Governor Lael Brainard",
           "What Happened to the Great Divergence?"
          ],
          [
           "Governor Jerome H. Powell",
           "Discussion of the paper \"Language after Liftoff: Fed Communication Away from the Zero Lower Bound\""
          ],
          [
           "Vice Chairman Stanley Fischer",
           "Recent Monetary Policy Developments"
          ],
          [
           "Vice Chairman Stanley Fischer",
           "The Lender of Last Resort Function in the United States"
          ],
          [
           "Vice Chairman Stanley Fischer",
           "Recent Monetary Policy"
          ],
          [
           "Chair Janet L. Yellen",
           "Current Conditions and the Outlook for the U.S. Economy"
          ],
          [
           "Governor Lael Brainard",
           "The Economic Outlook and Implications for Monetary Policy"
          ],
          [
           "Governor Jerome H. Powell",
           "Recent Economic Developments, the Productive Potential of the Economy, and Monetary Policy"
          ],
          [
           "Governor Daniel K. Tarullo",
           "Insurance Companies and the Role of the Federal Reserve"
          ],
          [
           "Vice Chairman Stanley Fischer",
           "(Money), Interest and Prices: Patinkin and Woodford"
          ],
          [
           "Governor Daniel K. Tarullo",
           "Opening Remarks"
          ],
          [
           "Governor Jerome H. Powell",
           "Recent Economic Developments, Monetary Policy Considerations and Longer-term Prospects"
          ],
          [
           "Vice Chairman Stanley Fischer",
           "Comments on the Resolution Framework for Banks and Bank Holding Companies in the United States"
          ],
          [
           "Governor Jerome H. Powell",
           "Introductory Comments"
          ],
          [
           "Governor Lael Brainard",
           "The \"New Normal\" and What It Means for Monetary Policy"
          ],
          [
           "Chair Janet L. Yellen",
           "The Federal Reserve's Monetary Policy Toolkit: Past, Present, and Future"
          ],
          [
           "Vice Chairman Stanley Fischer",
           "Remarks on the U.S. Economy"
          ],
          [
           "Governor Jerome H. Powell",
           "Opening Remarks on Government Securities Settlement"
          ],
          [
           "Governor Daniel K. Tarullo",
           "Pedagogy and Scholarship in a Post-Crisis World"
          ],
          [
           "Vice Chairman Stanley Fischer",
           "Why Are Interest Rates So Low? Causes and Implications"
          ],
          [
           "Chair Janet L. Yellen",
           "Macroeconomic Research After the Crisis"
          ],
          [
           "Vice Chairman Stanley Fischer",
           "The U.S. Economy and Monetary Policy "
          ],
          [
           "Governor Lael Brainard",
           "Distributed Ledger Technology: Implications for Payments, Clearing, and Settlement"
          ],
          [
           "Vice Chairman Stanley Fischer",
           "Low Interest Rates"
          ],
          [
           "Chair Janet L. Yellen",
           "Brief Remarks"
          ],
          [
           "Governor Jerome H. Powell",
           "Trends in Community Bank Performance over the Past 20 Years"
          ],
          [
           "Vice Chairman Stanley Fischer",
           "Why Study Economics?"
          ],
          [
           "Governor Daniel K. Tarullo",
           "Next Steps in the Evolution of Stress Testing"
          ],
          [
           "Chair Janet L. Yellen",
           "Commencement Remarks"
          ],
          [
           "Chair Janet L. Yellen",
           "The Economic Outlook and the Conduct of Monetary Policy"
          ],
          [
           "Chair Janet L. Yellen",
           "The Goals of Monetary Policy and How We Pursue Them"
          ],
          [
           "Governor Lael Brainard",
           "Monetary Policy in a Time of Uncertainty"
          ],
          [
           "Chair Janet L. Yellen",
           "Welcoming Remarks"
          ],
          [
           "Governor Jerome H. Powell",
           "Low Interest Rates and the Financial System"
          ],
          [
           "Governor Lael Brainard",
           "Where Do Banks Fit in the Fintech Stack?"
          ],
          [
           "Governor Jerome H. Powell",
           "Brief Remarks"
          ],
          [
           "Vice Chairman Stanley Fischer",
           " International Effects of Recent Policy Tightening"
          ],
          [
           "Vice Chairman Stanley Fischer",
           "Monetary Policy Expectations and Surprises"
          ],
          [
           "Governor Jerome H. Powell",
           "Welcoming Remarks"
          ],
          [
           "Governor Daniel K. Tarullo",
           "Departing Thoughts"
          ],
          [
           "Governor Jerome H. Powell",
           "America's Central Bank: The History and Structure of the Federal Reserve"
          ],
          [
           "Chair Janet L. Yellen",
           "Addressing Workforce Development Challenges in Low-Income Communities"
          ],
          [
           "Chair Janet L. Yellen",
           "Welcoming Remarks"
          ],
          [
           "Governor Lael Brainard",
           "Cross-Border Spillovers of Balance Sheet Normalization"
          ],
          [
           "Governor Lael Brainard",
           "Cross-Border Spillovers of Balance Sheet Normalization"
          ],
          [
           "Vice Chairman Stanley Fischer",
           "Government Policy and Labor Productivity"
          ],
          [
           "Governor Jerome H. Powell",
           "The Case for Housing Finance Reform"
          ],
          [
           "Vice Chairman Stanley Fischer",
           "An Assessment of Financial Stability in the United States"
          ],
          [
           "Governor Jerome H. Powell",
           "Remarks"
          ],
          [
           "Governor Jerome H. Powell",
           "Central Clearing and Liquidity"
          ],
          [
           "Vice Chairman Stanley Fischer",
           "Housing and Financial Stability"
          ],
          [
           "Governor Lael Brainard",
           "Understanding the Disconnect between Employment and Inflation with a Low Neutral Rate"
          ],
          [
           "Governor Jerome H. Powell",
           "The Role of Boards at Large Financial Firms"
          ],
          [
           "Chair Janet L. Yellen",
           "Financial Stability a Decade after the Onset of the Crisis"
          ],
          [
           "Vice Chairman Stanley Fischer",
           "The Low Level of Global Real Interest Rates"
          ],
          [
           "Governor Lael Brainard",
           "Strengthening Diversity in Economics"
          ],
          [
           "Chair Janet L. Yellen",
           "A Challenging Decade and a Question for the Future"
          ],
          [
           "Governor Jerome H. Powell",
           "Financial Innovation: A World in Transition"
          ],
          [
           "Chair Janet L. Yellen",
           "The U.S. Economy and Monetary Policy"
          ],
          [
           "Governor Lael Brainard",
           "Rethinking Monetary Policy in a New Normal"
          ],
          [
           "Governor Jerome H. Powell",
           "Prospects for Emerging Market Economies in a Normalizing Global Economy"
          ],
          [
           "Governor Jerome H. Powell",
           "Treasury Markets and the TMPG"
          ],
          [
           "Chair Janet L. Yellen",
           "Welcoming Remarks"
          ],
          [
           "Vice Chairman Stanley Fischer",
           "The Independent Bank of England--20 Years On"
          ],
          [
           "Governor Lael Brainard",
           "Labor Market Disparities and Economic Performance"
          ],
          [
           "Chair Janet L. Yellen",
           "Inflation, Uncertainty, and Monetary Policy"
          ],
          [
           "Governor Lael Brainard",
           "Why Persistent Employment Disparities Matter for the Economy's Health"
          ],
          [
           "Vice Chair for Supervision Randal K. Quarles",
           "Early Observations on Improving the Effectiveness of Post-Crisis Regulation"
          ],
          [
           "Governor Lael Brainard",
           "Safeguarding Financial Resilience through the Cycle"
          ],
          [
           "Governor Lael Brainard",
           "Community Development in Baltimore and A Few Observations on Community Reinvestment Act Modernization"
          ],
          [
           "Chairman Jerome H. Powell",
           "The Outlook for the U.S. Economy"
          ],
          [
           "Governor Lael Brainard",
           "An Update on the Federal Reserve's Financial Stability Agenda"
          ],
          [
           "Vice Chair for Supervision Randal K. Quarles",
           "The Roles of Consumer Protection and Small Business Access to Credit in Financial Inclusion"
          ],
          [
           "Vice Chair for Supervision Randal K. Quarles",
           "Introductory Remarks"
          ],
          [
           "Vice Chair for Supervision Randal K. Quarles",
           "Getting It Right: Factors for Tailoring Supervision and Regulation of Large Financial Institutions"
          ],
          [
           "Vice Chair for Supervision Randal K. Quarles",
           "America's Vital Interest in Global Efforts to Promote Financial Stability"
          ],
          [
           "Chairman Jerome H. Powell",
           "Monetary Policy at a Time of Uncertainty and Tight Labor Markets"
          ],
          [
           "Vice Chairman Richard H. Clarida",
           "Outlook for the U.S. Economy and Monetary Policy"
          ],
          [
           "Vice Chair for Supervision Randal K. Quarles",
           "Donât Chase the Needles: An Optimistic Assessment of the Economic Outlook and Monetary Policy"
          ],
          [
           "Governor Lael Brainard",
           "FinTech and the Search for Full Stack Financial Inclusion"
          ],
          [
           "Governor Lael Brainard",
           "Community Investment in Denver"
          ],
          [
           "Vice Chair for Supervision Randal K. Quarles",
           "Trends in Urban and Rural Community Banks"
          ],
          [
           "Governor Lael Brainard",
           "Supporting Fast Payments for All"
          ],
          [
           "Chairman Jerome H. Powell",
           "Monetary Policy and Risk Management at a Time of Low Inflation and Low Unemployment"
          ],
          [
           "Vice Chairman Richard H. Clarida",
           "Monetary Policy Outlook for 2019"
          ],
          [
           "Vice Chair for Supervision Randal K. Quarles",
           "Insurance Supervision and International Engagement"
          ],
          [
           "Governor Lael Brainard",
           "The Community Reinvestment Act: How Can We Preserve What Works and Make it Better?"
          ],
          [
           "Chairman Jerome H. Powell",
           "Brief Remarks"
          ],
          [
           "Chairman Jerome H. Powell",
           "Monetary Policy: Normalization and the Road Ahead"
          ],
          [
           "Governor Lael Brainard",
           "Navigating Cautiously"
          ],
          [
           "Chairman Jerome H. Powell",
           "Recent Economic Developments and Longer-Term Challenges"
          ],
          [
           "Vice Chairman Richard H. Clarida",
           "U.S. Economic Outlook and Monetary Policy"
          ],
          [
           "Governor Lael Brainard",
           "Is Economics for Me? Increasing the Participation of Black Women in Economics"
          ],
          [
           "Vice Chair for Supervision Randal K. Quarles",
           "The Future of the Federal Reserve's Balance Sheet"
          ],
          [
           "Vice Chairman Richard H. Clarida",
           "The Federal Reserve's Review of Its Monetary Policy Strategy, Tools, and Communication Practices"
          ],
          [
           "Chairman Jerome H. Powell",
           "Encouraging Economic Development in High-Poverty Rural Communities"
          ],
          [
           "Governor Michelle W. Bowman",
           "A Conversation on Community Banking"
          ],
          [
           "Vice Chair for Supervision Randal K. Quarles",
           "Ideas of Order: Charting a Course for the Financial Stability Board"
          ],
          [
           "Chairman Jerome H. Powell",
           "Welcoming Remarks"
          ],
          [
           "Vice Chair for Supervision Randal K. Quarles",
           "Inviting Participation: The Public's Role in Stress Testing's Next Chapter"
          ],
          [
           "Governor Lael Brainard",
           "Strengthening the Community Reinvestment Act: What Are We Learning?"
          ],
          [
           "Governor Michelle W. Bowman",
           "Community Banking in the Age of Innovation"
          ],
          [
           "Vice Chairman Richard H. Clarida",
           "U.S. Economic Outlook and Monetary Policy"
          ],
          [
           "Vice Chair for Supervision Randal K. Quarles",
           "Progress on the Transition to Risk-Free Rates"
          ],
          [
           "Vice Chairman Richard H. Clarida",
           "The Federal Reserve's Review of Its Monetary Policy Strategy, Tools, and Communication Practices"
          ],
          [
           "Governor Michelle W. Bowman",
           "Fostering Closer Supervisory Communication"
          ],
          [
           "Vice Chair for Supervision Randal K. Quarles",
           "The Financial Stability Board: Beyond the Fog of Battle"
          ],
          [
           "Vice Chair for Supervision Randal K. Quarles",
           "Frameworks for the Countercyclical Capital Buffer "
          ],
          [
           "Governor Michelle W. Bowman",
           "Agriculture and Community Banking"
          ],
          [
           "Vice Chairman Richard H. Clarida",
           "Global Shocks and the U.S. Economy"
          ],
          [
           "Vice Chair for Supervision Randal K. Quarles",
           "The Financial Stability Board in 2019"
          ],
          [
           "Governor Michelle W. Bowman",
           "Welcoming Remarks"
          ],
          [
           "Vice Chairman Richard H. Clarida",
           "The Federal Reserve's Review of Its Monetary Policy Strategy, Tools, and Communication Practices"
          ],
          [
           "Chairman Jerome H. Powell",
           "Opening Remarks"
          ],
          [
           "Vice Chair for Supervision Randal K. Quarles",
           "The Next Stage in the LIBOR Transition (via prerecorded video)"
          ],
          [
           "Vice Chair for Supervision Randal K. Quarles",
           "Monetary Policy and Financial Stability"
          ],
          [
           "Vice Chairman Richard H. Clarida",
           "Sustaining Maximum Employment and Price Stability"
          ],
          [
           "Chairman Jerome H. Powell",
           "Business Debt and Our Dynamic Financial System"
          ],
          [
           "Vice Chairman Richard H. Clarida",
           "The Federal Reserve's Review of Its Monetary Policy Strategy, Tools, and Communication Practices"
          ],
          [
           "Vice Chairman Richard H. Clarida",
           "The Federal Reserveâs Review of Its Monetary Policy Strategy, Tools, and Communication Practices"
          ],
          [
           "Governor Lael Brainard",
           "The Disconnect between Inflation and Employment in the New Normal"
          ],
          [
           "Vice Chairman Richard H. Clarida",
           "The Federal Reserveâs Review of Its Monetary Policy Strategy, Tools, and Communication Practices"
          ],
          [
           "Governor Lael Brainard",
           "Is the Middle Class within Reach for Middle-Income Families?"
          ],
          [
           "Chairman Jerome H. Powell",
           "Welcoming Remarks"
          ],
          [
           "Governor Lael Brainard",
           "\"Fed Listens\" in Richmond: How Does Monetary Policy Affect Your Community?"
          ],
          [
           "Vice Chairman Richard H. Clarida",
           "Models, Markets, and Monetary Policy"
          ],
          [
           "Chairman Jerome H. Powell",
           "Opening Remarks"
          ],
          [
           "Vice Chair for Supervision Randal K. Quarles",
           "The Financial Stability Board at 10 YearsâLooking Back and Looking Ahead"
          ],
          [
           "Governor Michelle W. Bowman",
           "Advancing Our Understanding of Community Banking"
          ],
          [
           "Vice Chairman Richard H. Clarida",
           "Introductory Remarks"
          ],
          [
           "Vice Chair for Supervision Randal K. Quarles",
           "Law and Macroeconomics: The Global Evolution of Macroprudential Regulation"
          ],
          [
           "Vice Chair for Supervision Randal K. Quarles",
           "Government of Union: Achieving Certainty in Cross-Border Finance"
          ],
          [
           "Vice Chairman Richard H. Clarida",
           "The Federal Reserveâs Review of Its Monetary Policy Strategy, Tools, and Communication Practices"
          ],
          [
           "Governor Lael Brainard",
           "Federal Reserve Review of Monetary Policy Strategy, Tools, and Communications: Some Preliminary Views"
          ],
          [
           "Chairman Jerome H. Powell",
           "Building on the Gains from the Long Expansion"
          ],
          [
           "Vice Chairman Richard H. Clarida",
           "The Federal Reserveâs Review of Its Monetary Policy Strategy, Tools, and Communication Practices"
          ],
          [
           "Vice Chair for Supervision Randal K. Quarles",
           "Brief Remarks (via pre-recorded video)"
          ],
          [
           "Vice Chairman Richard H. Clarida",
           "Monetary Policy, Price Stability, and Equilibrium Bond Yields: Success and Consequences"
          ],
          [
           "Governor Lael Brainard",
           "Why Climate Change Matters for Monetary Policy and Financial Stability"
          ],
          [
           "Vice Chairman Richard H. Clarida",
           "The United States, Japan, and the Global Economy"
          ],
          [
           "Vice Chair for Supervision Randal K. Quarles",
           "Friedrich Hayek and the Price System"
          ],
          [
           "Governor Lael Brainard",
           "Update on Digital Currencies, Stablecoins, and the Challenges Ahead"
          ],
          [
           "Vice Chair for Supervision Randal K. Quarles",
           "Spontaneity and Order: Transparency, Accountability, and Fairness in Bank Supervision"
          ],
          [
           "Governor Michelle W. Bowman",
           "The Outlook for Housing"
          ],
          [
           "Vice Chairman Richard H. Clarida",
           "U.S. Economic Outlook and Monetary Policy"
          ],
          [
           "Governor Lael Brainard",
           "Strengthening the Community Reinvestment Act by Staying True to Its Core Purpose"
          ],
          [
           "Chairman Jerome H. Powell",
           "Opening Remarks"
          ],
          [
           "Governor Lael Brainard",
           "Introductory remarks for the Fed Listens panel on the COVID-19 pandemic"
          ],
          [
           "Vice Chairman Richard H. Clarida",
           "U.S. Economic Outlook and Monetary Policy"
          ],
          [
           "Chairman Jerome H. Powell",
           "Current Economic Issues"
          ],
          [
           "Governor Lael Brainard",
           "Welcoming Remarks for Investment Connection â Response to COVID-19: Colorado"
          ],
          [
           "Chairman Jerome H. Powell",
           "Introductory Comments"
          ],
          [
           "Vice Chair for Supervision Randal K. Quarles",
           "The Adaptability of Stress Testing"
          ],
          [
           "Vice Chairman Richard H. Clarida",
           "U.S. Economic Outlook and Monetary Policy (via prerecorded video)"
          ]
         ],
         "fillcolor": "rgba(255,255,255,0)",
         "hoveron": "points",
         "hovertemplate": "action=no change<br>filter_text_len=%{x}<br>speaker=%{customdata[0]}<br>title=%{customdata[1]}<extra></extra>",
         "jitter": 0,
         "legendgroup": "no change",
         "line": {
          "color": "rgba(255,255,255,0)"
         },
         "marker": {
          "color": "#636efa",
          "symbol": "line-ns-open"
         },
         "name": "no change",
         "offsetgroup": "no change",
         "showlegend": false,
         "type": "box",
         "x": [
          1536,
          1837,
          1132,
          1441,
          1423,
          1720,
          942,
          2626,
          1918,
          670,
          1354,
          1262,
          1551,
          2379,
          1488,
          1281,
          2952,
          3369,
          2092,
          1256,
          1575,
          2678,
          2376,
          2795,
          1855,
          1288,
          1804,
          2157,
          1205,
          3666,
          1860,
          2383,
          1252,
          1100,
          1712,
          1285,
          2004,
          1823,
          1469,
          2375,
          1590,
          757,
          2185,
          1516,
          2172,
          1797,
          1455,
          1759,
          887,
          2989,
          1831,
          1616,
          1646,
          1497,
          401,
          1814,
          2413,
          2344,
          1249,
          2227,
          2402,
          2090,
          1676,
          1171,
          1380,
          1796,
          3384,
          1994,
          438,
          1873,
          1844,
          1592,
          2580,
          2262,
          1966,
          1968,
          1951,
          1266,
          1531,
          1296,
          2159,
          1422,
          1726,
          2160,
          1839,
          3648,
          1419,
          1884,
          4689,
          1901,
          1214,
          2342,
          2581,
          193,
          1609,
          1342,
          1861,
          1765,
          1746,
          2364,
          2176,
          1702,
          1935,
          1611,
          1411,
          1651,
          2238,
          725,
          1273,
          1569,
          1193,
          1568,
          976,
          1564,
          2613,
          1176,
          1501,
          1720,
          1124,
          1498,
          2600,
          1741,
          1563,
          2215,
          2943,
          1235,
          2540,
          1799,
          1684,
          1922,
          1233,
          1836,
          1715,
          1230,
          1903,
          1990,
          1033,
          376,
          1275,
          1746,
          3021,
          1173,
          1431,
          2537,
          3617,
          1858,
          2531,
          1725,
          1488,
          1888,
          226,
          1530,
          1598,
          1390,
          1756,
          1097,
          1111,
          1926,
          1872,
          1504,
          1625,
          1358,
          1659,
          403,
          2033,
          1185,
          1794,
          937,
          448,
          2895,
          1510,
          339,
          1220,
          1447,
          1781,
          1138,
          2152,
          1367,
          1575,
          2010,
          1953,
          1273,
          1031,
          1693,
          1075,
          1454,
          1628,
          1694,
          1997,
          1536,
          1300,
          1227,
          1352,
          1239,
          1593,
          1586,
          1932,
          1719,
          2189,
          1821,
          874,
          1535,
          1137,
          1543,
          892,
          870,
          1422,
          1841,
          1337,
          883,
          954,
          1903,
          940,
          3081,
          2191,
          1649,
          261,
          1739,
          1228,
          1516,
          1961,
          1732,
          1732,
          3191,
          1155,
          1943,
          2660,
          2083,
          1203,
          1683,
          2031,
          1444,
          1984,
          2168,
          3615,
          2310,
          2828,
          2016,
          1615,
          3133,
          1676,
          3709,
          2887,
          2127,
          3126,
          1985,
          1051,
          1595,
          2580,
          881,
          1143,
          1022,
          1160,
          1134,
          1902,
          2416,
          3870,
          2509,
          1010,
          1050,
          885,
          2006,
          1757,
          1630,
          1319,
          616,
          2349,
          2190,
          4092,
          2321,
          974,
          2163,
          1996,
          2570,
          1710,
          1507,
          2711,
          1797,
          2073,
          3334,
          1214,
          1887,
          1523,
          1667,
          1858,
          2407,
          2696,
          2152,
          6738,
          2423,
          2407,
          3517,
          3365,
          3311,
          2076,
          2076,
          1409,
          3650,
          2434,
          921,
          1224,
          1135,
          3311,
          2095,
          2852,
          2076,
          1273,
          1721,
          4233,
          2656,
          1842,
          2716,
          1331,
          2534,
          309,
          2615,
          1461,
          2614,
          1688,
          2318,
          3629,
          1953,
          2042,
          268,
          357,
          1148,
          1728,
          897,
          1978,
          981,
          1187,
          2236,
          2264,
          2295,
          1749,
          408,
          2452,
          2387,
          1927,
          2064,
          1880,
          1717,
          2098,
          2196,
          3207,
          2276,
          99,
          1679,
          2388,
          1970,
          3059,
          2135,
          1625,
          1532,
          2128,
          3338,
          2349,
          1980,
          1907,
          1480,
          3198,
          2918,
          1110,
          1197,
          3256,
          2727,
          1835,
          3542,
          2297,
          1858,
          3870,
          3241,
          4046,
          380,
          1497,
          2376,
          1760,
          3067,
          4155,
          1705,
          2137,
          4048,
          3103,
          941,
          2161,
          1183,
          1546,
          3337,
          2102,
          582,
          2315,
          1283,
          2451,
          2515,
          2112,
          2162,
          1855,
          2103,
          3276,
          2221,
          470,
          1951,
          2652,
          2162,
          2137,
          2309,
          1505,
          2205,
          2508,
          1952,
          2496,
          2082,
          3481,
          1878,
          2093,
          2508,
          1870,
          1928,
          318,
          4245,
          1984,
          2376,
          2219,
          2292,
          1052,
          399,
          1919,
          2336,
          3131,
          2749,
          539,
          1855,
          2326,
          2966,
          2523,
          2411,
          2342,
          2224,
          2445,
          2052,
          2550,
          2901,
          3353,
          2186,
          1759,
          2250,
          3725,
          1912,
          1700,
          3335,
          419,
          1940,
          1469,
          2341,
          2206,
          824,
          1576,
          370,
          3591,
          2193,
          1132,
          1493,
          3591,
          1693,
          1186,
          2717,
          1938,
          2461,
          2067,
          2415,
          3198,
          1873,
          711,
          1681,
          369,
          2150,
          1704,
          2443,
          2732,
          2375,
          1511,
          1839,
          1909,
          4604,
          1708,
          1827,
          2446,
          370,
          1553,
          1628,
          792,
          259,
          2299,
          394,
          1687,
          1290,
          2070,
          1852,
          592,
          2511,
          2480,
          1814,
          1509,
          2608,
          1785,
          1713,
          1655,
          506,
          2390,
          672,
          943,
          2851,
          3435,
          1332,
          2287,
          2222,
          1607,
          2190,
          343,
          1720,
          1257,
          2408,
          1470,
          1764,
          1924,
          3107,
          869,
          2267,
          175,
          2786,
          4079,
          2302,
          385,
          3919,
          319,
          2482,
          1371,
          1013,
          2757,
          1875,
          2061,
          1373,
          3946,
          2379,
          973,
          1835,
          2131,
          1320,
          1817,
          1769,
          2192,
          2705,
          2422,
          2847,
          2007,
          2461,
          2397,
          2169,
          1666,
          1254,
          2621,
          2642,
          2520,
          2232,
          1589,
          2547,
          312,
          2135,
          2422,
          2178,
          1699,
          711,
          2009,
          2272,
          365,
          1591,
          2325,
          2013,
          1792,
          2575,
          3765,
          2408,
          2291,
          3177,
          2293,
          1921,
          2186,
          1295,
          2444,
          775,
          2292,
          2394,
          2519,
          1481,
          2709,
          2659,
          1590,
          2297,
          3012,
          2090,
          3800,
          2031,
          2236,
          1747,
          2884,
          408,
          928,
          2396,
          4234,
          2466,
          1912,
          1924,
          1936,
          782,
          1624,
          4636,
          795,
          1098,
          1072,
          3533,
          855,
          6340,
          3637,
          2483,
          2547,
          1051,
          3231,
          2971,
          2328,
          4552,
          2816,
          1083,
          4496,
          3590,
          2696,
          3981,
          3339,
          2609,
          2812,
          1568,
          3184,
          3938,
          3330,
          3062,
          3281,
          1838,
          838,
          2315,
          2558,
          2738,
          384,
          1564,
          2768,
          2181,
          1127,
          921,
          1588,
          1986,
          2677,
          2265,
          3616,
          2540,
          4523,
          1058,
          998,
          2313,
          3191,
          1352,
          792,
          760,
          2843,
          1859,
          649,
          1740,
          4810,
          407,
          737,
          3139,
          2276,
          3794,
          318,
          731,
          1536,
          2880,
          2972,
          4513,
          3175,
          1678,
          3258,
          434,
          3231,
          703,
          3065,
          2254,
          3754,
          275,
          493,
          3212,
          3466,
          619,
          474,
          293,
          2883,
          1936,
          1965,
          3922,
          3041,
          2663,
          1990,
          3518,
          3338,
          2056,
          253,
          4214,
          4119,
          473,
          762,
          355,
          2659,
          396,
          3895,
          1110,
          3077,
          905,
          2096,
          493,
          926,
          2552,
          1190,
          3063,
          2480,
          508,
          2634,
          1796,
          2937,
          734,
          1956,
          2290,
          3908,
          3333,
          2024,
          1939,
          3279,
          2142,
          1756,
          1712,
          2015,
          195,
          2424,
          2507,
          2486,
          1031,
          2127,
          1859,
          893,
          1559,
          1560,
          419,
          968,
          1290,
          2548,
          686,
          3027,
          2948,
          642,
          2970,
          6630,
          3010,
          1796,
          3074,
          2792,
          4008,
          2421,
          1982,
          1069,
          1917,
          897,
          3216,
          2074,
          2445,
          2808,
          3437,
          1350,
          2500,
          1302,
          480,
          2756,
          4028,
          1395,
          520,
          2869,
          3589,
          4190,
          880,
          1456,
          2261,
          425,
          2080,
          1090,
          4703,
          1221,
          4054,
          1689,
          2317,
          708,
          1724,
          4070,
          819,
          935,
          2188,
          435,
          5010,
          2966,
          2500,
          818,
          3063,
          3062,
          2049,
          2088,
          1672,
          541,
          2603,
          2573,
          2340,
          1066,
          4350,
          2509,
          1021,
          2664,
          1825,
          1010,
          2438,
          2611,
          788,
          318,
          3658,
          2074,
          5462,
          3751,
          1495,
          1540,
          965,
          2398,
          2367,
          2404,
          949,
          1618,
          1713,
          1167,
          1494,
          1470,
          3296,
          648,
          2208,
          1654,
          2758,
          1753,
          1889,
          2252,
          341,
          2594,
          2588,
          1721,
          590,
          827,
          953,
          3570,
          2038,
          1081,
          1321,
          486,
          1007,
          819,
          1939,
          515,
          384,
          3857,
          1255,
          1125,
          2298,
          1526,
          1395,
          2003,
          927,
          574,
          1979,
          758,
          1398,
          2915,
          2104,
          1760,
          348,
          2410,
          1269,
          4312,
          454,
          1004,
          3343,
          463,
          1822,
          2099,
          282,
          2063,
          1222,
          3723,
          2634,
          1528,
          3049,
          696,
          4002,
          1874,
          1579,
          2973,
          1633,
          2393,
          1068,
          602,
          2644,
          250,
          213,
          1112,
          897,
          175,
          278,
          1418,
          1425
         ],
         "xaxis": "x2",
         "yaxis": "y2"
        },
        {
         "alignmentgroup": "True",
         "bingroup": "x",
         "hovertemplate": "action=decrease<br>filter_text_len=%{x}<br>count=%{y}<extra></extra>",
         "legendgroup": "decrease",
         "marker": {
          "color": "#EF553B",
          "pattern": {
           "shape": ""
          }
         },
         "name": "decrease",
         "nbinsx": 150,
         "offsetgroup": "decrease",
         "orientation": "v",
         "showlegend": true,
         "type": "histogram",
         "x": [
          1507,
          1512,
          1147,
          1440,
          2380,
          1940,
          73,
          1090,
          2255,
          1847,
          1501,
          2731,
          1533,
          2878,
          1232,
          2333,
          2188,
          1758,
          1893,
          2010,
          2139,
          1008,
          1316,
          913,
          1837,
          2129,
          1739,
          1484,
          3561,
          2113,
          2971,
          2880,
          2118,
          1068,
          1998,
          791,
          5635,
          1367,
          1867,
          2065,
          2084,
          1857,
          1932,
          2856,
          1993,
          1474,
          1196,
          1699,
          2832,
          3348,
          2249,
          2810,
          2423,
          2010,
          1825,
          1535,
          1199,
          2001,
          5440,
          1983,
          312,
          1482,
          1629,
          1955,
          867,
          1742,
          1373,
          342,
          1828,
          2251,
          2759,
          755,
          4984,
          1736,
          1296,
          1878,
          3671,
          1747,
          1484,
          1390,
          1363,
          1515,
          1356,
          1653,
          2991,
          783,
          3894,
          2732,
          920,
          2012,
          1243,
          1458,
          2075,
          2260,
          1521,
          976,
          579,
          78,
          2338,
          1588,
          1340,
          1709,
          1877,
          1882,
          2691,
          1586,
          3620,
          1365,
          1580,
          1000,
          173,
          2047,
          2331,
          3674,
          1950,
          2286,
          3901,
          2839,
          1145,
          3214,
          1886,
          2729,
          1659,
          838,
          1937,
          1569,
          1420,
          2287,
          2756,
          3780,
          1674,
          1251,
          1952,
          1730,
          2931,
          1088,
          2324,
          2061,
          1875,
          1611,
          1885,
          2323,
          2866,
          2267,
          1444,
          1109,
          2065,
          2018,
          3532,
          996,
          2419,
          2001,
          2029,
          1690,
          701,
          2235,
          3195,
          1760,
          2475,
          2243,
          1777,
          2424,
          1770,
          2022,
          393,
          525,
          2320,
          3913,
          3718,
          2186,
          1938,
          3053,
          1811,
          2020,
          2113,
          2125,
          1774,
          1778,
          328,
          1400,
          536,
          1884,
          506,
          4136,
          756,
          631,
          1169,
          1817,
          445,
          2461,
          675,
          1666,
          581,
          696,
          469,
          2600,
          368,
          2575,
          442,
          2338,
          592,
          1241,
          2313,
          1382,
          1926,
          2470,
          2527,
          470
         ],
         "xaxis": "x",
         "yaxis": "y"
        },
        {
         "alignmentgroup": "True",
         "boxpoints": "all",
         "customdata": [
          [
           "Chairman Alan Greenspan",
           "Financial reform and the importance of a decentralized banking structure"
          ],
          [
           "Vice Chair Alice M. Rivlin",
           "Sustaining CRA's success"
          ],
          [
           "Chairman Alan Greenspan",
           "Privacy in the information age"
          ],
          [
           "Governor Susan M. Phillips",
           "Recent developments in supervision and regulation and how they affect the debate on financial modernization"
          ],
          [
           "Chairman Alan Greenspan",
           "Government regulation and derivative contracts"
          ],
          [
           "Governor Susan M. Phillips",
           "Risk management for banks and banking regulators in the 21st century"
          ],
          [
           "Governor Roger W. Ferguson, Jr.",
           "Electronic banking"
          ],
          [
           "Vice Chair Alice M. Rivlin",
           "The Federal Reserve's roles in the payments system"
          ],
          [
           "Governor Laurence H. Meyer",
           "Recent developments in banking and financial markets"
          ],
          [
           "Governor Roger W. Ferguson, Jr.",
           "The state of the U.S. economy"
          ],
          [
           "Governor Edward M. Gramlich",
           "World capital flows"
          ],
          [
           "Chairman Alan Greenspan",
           "Is there a new economy?"
          ],
          [
           "Governor Roger W. Ferguson, Jr.",
           "The role for small businesses as viewed by a macroeconomic policymaker"
          ],
          [
           "Governor Laurence H. Meyer",
           "The economic outlook and the challenges facing monetary policy"
          ],
          [
           "Governor Laurence H. Meyer",
           "Modernizing financial services regulation"
          ],
          [
           "Governor Edward M. Gramlich",
           "Examining community reinvestment"
          ],
          [
           "Chairman Alan Greenspan",
           "The structure of the international financial system"
          ],
          [
           "Governor Edward W. Kelley, Jr.",
           "Countdown to Y2K: An economic assessment"
          ],
          [
           "Governor Roger W. Ferguson, Jr.",
           "The future of the financial services sector and related public policy issues"
          ],
          [
           "Vice Chair Alice M. Rivlin",
           "The world economy"
          ],
          [
           "Governor Laurence H. Meyer",
           "Increasing global financial integrity"
          ],
          [
           "Governor Roger W. Ferguson, Jr.",
           "Three themes in search of an audience"
          ],
          [
           "Governor Roger W. Ferguson, Jr.",
           "The challenge of preparing for the Year 2000"
          ],
          [
           "Vice Chairman Roger W. Ferguson",
           "G-10 study of financial sector consolidation"
          ],
          [
           "Vice Chairman Roger W. Ferguson",
           "Domestic macroeconomic developments: Past, present, and future"
          ],
          [
           "Governor Laurence H. Meyer",
           "Capital standards and community banks"
          ],
          [
           "Vice Chairman Roger W. Ferguson",
           "Understanding financial consolidation"
          ],
          [
           "Chairman Alan Greenspan",
           "Banking supervision"
          ],
          [
           "Governor Laurence H. Meyer",
           "The new Basel capital proposal"
          ],
          [
           "Vice Chairman Roger W. Ferguson",
           "Understanding financial consolidation"
          ],
          [
           "Governor Edward M. Gramlich",
           "The productivity growth spurt in the United States"
          ],
          [
           "Governor Laurence H. Meyer",
           "Implementing the Gramm-Leach-Bliley Act: One year later"
          ],
          [
           "Vice Chairman Roger W. Ferguson",
           "E-commerce: Lessons learned to date"
          ],
          [
           "Chairman Alan Greenspan",
           "The importance of education in todays economy"
          ],
          [
           "Vice Chairman Roger W. Ferguson",
           "Understanding financial consolidation"
          ],
          [
           "Governor Edward M. Gramlich",
           "Research in the policy process"
          ],
          [
           "Governor Laurence H. Meyer",
           "Does money matter?"
          ],
          [
           "Chairman Alan Greenspan",
           "The challenge of measuring and modeling a dynamic economy"
          ],
          [
           "Governor Edward M. Gramlich",
           "Tackling predatory lending: Regulation and education"
          ],
          [
           "Governor Laurence H. Meyer",
           "Controlling the safety net"
          ],
          [
           "Chairman Alan Greenspan",
           "The financial safety net"
          ],
          [
           "Chairman Alan Greenspan",
           "The paydown of federal debt"
          ],
          [
           "Vice Chairman Roger W. Ferguson",
           "Understanding financial consolidation"
          ],
          [
           "Governor Edward M. Gramlich",
           "Social security reform in the twenty-first century"
          ],
          [
           "Vice Chairman Roger W. Ferguson",
           "Transparency in central banking: Rationale and recent developments"
          ],
          [
           "Governor Edward M. Gramlich",
           "Saving by low- and moderate-income households"
          ],
          [
           "Chairman Alan Greenspan",
           "The growing need for skills in the 21st century"
          ],
          [
           "Vice Chairman Roger W. Ferguson",
           "The productivity experience of the United States: Past, present, and future"
          ],
          [
           "Governor Edward M. Gramlich",
           "National saving and Treasury debt"
          ],
          [
           "Governor Laurence H. Meyer",
           "What happened to the new economy?"
          ],
          [
           "Chairman Alan Greenspan",
           "Economic developments"
          ],
          [
           "Governor Laurence H. Meyer",
           "Global outlook and challenges facing central banks around the world"
          ],
          [
           "Governor Laurence H. Meyer",
           "Comparative central banking and the politics of monetary policy"
          ],
          [
           "Vice Chairman Roger W. Ferguson",
           "A few thoughts on financial sector and payments activities"
          ],
          [
           "Chairman Alan Greenspan",
           "Issues for bank regulators"
          ],
          [
           "Governor Laurence H. Meyer",
           "The new Basel accord: Challenges for banks and their supervisors"
          ],
          [
           "Governor Edward M. Gramlich",
           "Infrastructure and economic development"
          ],
          [
           "Vice Chairman Roger W. Ferguson",
           "Reflections on the capital goods overhang"
          ],
          [
           "Governor Laurence H. Meyer",
           "Inflation targets and inflation targeting"
          ],
          [
           "Chairman Alan Greenspan",
           "Impact of energy on the economy"
          ],
          [
           "Chairman Alan Greenspan",
           "The value of public outreach by the Federal Reserve"
          ],
          [
           "Vice Chairman Roger W. Ferguson",
           "The evolving financial and payment system"
          ],
          [
           "Vice Chairman Roger W. Ferguson",
           "Technology, information production, and market efficiency"
          ],
          [
           "Chairman Alan Greenspan",
           "Opening remarks"
          ],
          [
           "Chairman Alan Greenspan",
           "The importance of financial education and literacy"
          ],
          [
           "Chairman Alan Greenspan",
           "Globalization"
          ],
          [
           "Governor Edward M. Gramlich",
           "Preparing for CRA 2002"
          ],
          [
           "Chairman Alan Greenspan",
           "The September 11 tragedy and the response of the financial industry"
          ],
          [
           "Vice Chairman Roger W. Ferguson",
           "Credit risk management: Models and judgment"
          ],
          [
           "Governor Laurence H. Meyer",
           "Basel II: Moving from concept toward implementation"
          ],
          [
           "Governor Laurence H. Meyer",
           "Executing monetary policy without Treasuries"
          ],
          [
           "Chairman Alan Greenspan",
           "Transparency in monetary policy"
          ],
          [
           "Governor Laurence H. Meyer",
           "The future of money and of monetary policy"
          ],
          [
           "Chairman Alan Greenspan",
           "Globalization"
          ],
          [
           "Chairman Alan Greenspan",
           "The euro as an international currency"
          ],
          [
           "Governor Edward M. Gramlich",
           "Asset prices and monetary policy"
          ],
          [
           "Governor Laurence H. Meyer",
           "Before and after"
          ],
          [
           "Chairman Alan Greenspan",
           "Energy supply"
          ],
          [
           "Governor Edward M. Gramlich",
           "Promoting and sustaining home ownership"
          ],
          [
           "Vice Chairman Roger W. Ferguson",
           "Certified public accountants: Partners in financial stability"
          ],
          [
           "Chairman Alan Greenspan",
           "Education"
          ],
          [
           "Vice Chairman Roger W. Ferguson",
           "Productivity growth: A realistic assessment"
          ],
          [
           "Chairman Alan Greenspan",
           "Productivity"
          ],
          [
           "Governor Mark W. Olson",
           "Urban revitalization: Shared responsibilities"
          ],
          [
           "Governor Edward M. Gramlich",
           "The methodology of benefit-cost analysis"
          ],
          [
           "Vice Chairman Roger W. Ferguson",
           "Remarks"
          ],
          [
           "Vice Chairman Roger W. Ferguson",
           "Should financial stability be an explicit central bank objective?"
          ],
          [
           "Governor Ben S. Bernanke",
           "Asset-price \"bubbles\" and monetary policy"
          ],
          [
           "Vice Chairman Roger W. Ferguson",
           "Central banks and markets"
          ],
          [
           "Governor Susan S. Bies",
           "Corporate governance and risk management"
          ],
          [
           "Chairman Alan Greenspan",
           "Banking"
          ],
          [
           "Vice Chairman Roger W. Ferguson",
           "Business continuity after September 11"
          ],
          [
           "Governor Susan S. Bies",
           "The challenge for corporate governance posed by financial innovation"
          ],
          [
           "Governor Susan S. Bies",
           "Bank performance and corporate governance"
          ],
          [
           "Chairman Alan Greenspan",
           "World finance and risk management"
          ],
          [
           "Chairman Alan Greenspan",
           "Regulation, innovation, and wealth creation"
          ],
          [
           "Chairman Alan Greenspan",
           "Policy coordination"
          ],
          [
           "Governor Donald L. Kohn",
           "Central bank talk: Does it matter and why?"
          ],
          [
           "Vice Chairman Roger W. Ferguson",
           "Basel II: Some issues for implementation"
          ],
          [
           "Governor Susan S. Bies",
           "Managing business risks"
          ],
          [
           "Governor Edward M. Gramlich",
           "Community economic development"
          ],
          [
           "Governor Ben S. Bernanke",
           "Soft hearts, hard data: The use of quantitative analysis in community development"
          ],
          [
           "Vice Chairman Roger W. Ferguson",
           "Uncertain times: Economic challenges facing the United States and Japan"
          ],
          [
           "Governor Susan S. Bies",
           "Strengthening compliance through effective corporate governance"
          ],
          [
           "Vice Chairman Roger W. Ferguson",
           "Basel II: Scope of application in the United States"
          ],
          [
           "Governor Donald L. Kohn",
           "Comment on Good Policies for Bad Governments: Behavioral Political Economy by Daniel J. Benjamin and David I. Laibson"
          ],
          [
           "Governor Ben S. Bernanke",
           "Some Thoughts on Monetary Policy in Japan"
          ],
          [
           "Governor Susan S. Bies",
           "Restoring our confidence in bank controls and financial statements"
          ],
          [
           "Governor Mark W. Olson",
           "Assessing prospects for economic growth in the United States"
          ],
          [
           "Vice Chairman Roger W. Ferguson",
           "Commencement address"
          ],
          [
           "Chairman Alan Greenspan",
           "Unveiling of the redesigned U.S. $20 note"
          ],
          [
           "Chairman Alan Greenspan",
           "Corporate governance"
          ],
          [
           "Governor Susan S. Bies",
           "Corporate governance"
          ],
          [
           "Chairman Ben S. Bernanke",
           "Global Imbalances:  Recent Developments and Prospects"
          ],
          [
           "Governor Frederic S. Mishkin",
           "Outlook and Risks for the U.S. Economy"
          ],
          [
           "Governor Randall S. Kroszner",
           "Analyzing and Assessing Banking Crises"
          ],
          [
           "Chairman Ben S. Bernanke",
           "Housing, Housing Finance, and Monetary Policy"
          ],
          [
           "Governor Frederic S. Mishkin",
           "Financial Instability and the Federal Reserve as a Liquidity Provider"
          ],
          [
           "Governor Randall S. Kroszner",
           "Recent Events in Financial Markets"
          ],
          [
           "Governor Frederic S. Mishkin",
           "Headline versus Core Inflation in the Conduct of Monetary Policy"
          ],
          [
           "Chairman Ben S. Bernanke",
           "Monetary Policy under Uncertainty"
          ],
          [
           "Chairman Ben S. Bernanke",
           "The Recent Financial Turmoil and its Economic and Policy Consequences"
          ],
          [
           "Vice Chairman Donald L. Kohn",
           "John Taylor Rules"
          ],
          [
           "Chairman Ben S. Bernanke",
           "Opening remarks"
          ],
          [
           "Governor Randall S. Kroszner",
           "Markets, Financial Institutions, and Consumers: The Roles of the Federal Reserve"
          ],
          [
           "Governor Kevin Warsh",
           "Financial Stability and the Federal Reserve"
          ],
          [
           "Vice Chairman Donald L. Kohn",
           " Economic Outlook"
          ],
          [
           "Governor Frederic S. Mishkin",
           "Systemic Risk and the International Lender of Last Resort "
          ],
          [
           "Governor Frederic S. Mishkin",
           "Globalization, Macroeconomic Performance, and Monetary Policy"
          ],
          [
           "Chairman Ben S. Bernanke",
           "Education and Economic Competitiveness"
          ],
          [
           "Governor Kevin Warsh",
           "Financial Market Developments"
          ],
          [
           "Vice Chairman Donald L. Kohn",
           "Success and Failure of Monetary Policy since the 1950s"
          ],
          [
           "Governor Randall S. Kroszner",
           "Innovation, Information, and Regulation in Financial Markets "
          ],
          [
           "Chairman Ben S. Bernanke",
           "National and regional economic overview"
          ],
          [
           "Governor Frederic S. Mishkin",
           "The Federal Reserveâs Enhanced Communication Strategy and the Science of Monetary Policy "
          ],
          [
           "Vice Chairman Donald L. Kohn",
           "Financial Markets and Central Banking"
          ],
          [
           "Chairman Ben S. Bernanke",
           "Federal Reserve Communications"
          ],
          [
           "Governor Randall S. Kroszner",
           "Implementing Basel II in the United States"
          ],
          [
           "Governor Kevin Warsh",
           "The End of History?"
          ],
          [
           "Chairman Ben S. Bernanke",
           "Microfinance in the United States"
          ],
          [
           "Governor Randall S. Kroszner",
           "The Challenges Facing Subprime Mortgage Borrowers"
          ],
          [
           "Governor Frederic S. Mishkin",
           "Financial Instability and Monetary Policy"
          ],
          [
           "Governor Frederic S. Mishkin",
           "Monetary Policy Flexibility, Risk Management, and Financial Disruptions"
          ],
          [
           "Chairman Ben S. Bernanke",
           "Financial Markets, the Economic Outlook, and Monetary Policy"
          ],
          [
           "Vice Chairman Donald L. Kohn",
           "Recent and Prospective Developments in Monetary Policy Transparency and Communications:  A Global Perspective"
          ],
          [
           "Vice Chairman Donald L. Kohn",
           "Expertise and Macroeconomic Policy, Comments on \"Insiders versus Outsiders in Monetary Policy-Making,\" by Timothy Besley, Neil Meads, and Paolo Surico"
          ],
          [
           "Chairman Ben S. Bernanke",
           "Fostering Sustainable Homeownership"
          ],
          [
           "Governor Randall S. Kroszner",
           "The Importance of Fundamentals in Risk Management"
          ],
          [
           "Governor Frederic S. Mishkin",
           "Exchange Rate Pass-Through and Monetary Policy"
          ],
          [
           "Vice Chairman Donald L. Kohn",
           "Implications of Globalization for the Conduct of Monetary Policy"
          ],
          [
           "Governor Frederic S. Mishkin",
           "Outlook and Risks for the U.S. Economy"
          ],
          [
           "Chairman Ben S. Bernanke",
           "Reducing Preventable Mortgage Foreclosures"
          ],
          [
           "Governor Randall S. Kroszner",
           "Liquidity-Risk Management in the Business of Banking"
          ],
          [
           "Governor Frederic S. Mishkin",
           "On \"Leveraged Losses: Lessons from the Mortgage Meltdown\""
          ],
          [
           "Governor Frederic S. Mishkin",
           "The Importance of Economic Education and Financial Literacy"
          ],
          [
           "Vice Chairman Donald L. Kohn",
           "The U.S. Economy and Monetary Policy"
          ],
          [
           "Governor Frederic S. Mishkin",
           "Does Stabilizing Inflation Contribute to Stabilizing Economic Activity?"
          ],
          [
           "Governor Randall S. Kroszner",
           "Improving Risk Management in Light of Recent Market Events"
          ],
          [
           "Governor Frederic S. Mishkin",
           "The Federal Reserve's Tools for Responding to Financial Disruptions"
          ],
          [
           "Governor Randall S. Kroszner",
           "Protecting Homeowners and Sustaining Home Ownership"
          ],
          [
           "Governor Randall S. Kroszner",
           "Developing Sustainable Capital for Community Investments"
          ],
          [
           "Vice Chairman Donald L. Kohn",
           "The Changing Business of Banking: Implications for Financial Stability and Lessons from Recent Market Turmoil"
          ],
          [
           "Governor Kevin Warsh",
           "Financial Market Turmoil and the Federal Reserve: The Plot Thickens"
          ],
          [
           "Chairman Ben S. Bernanke",
           "Addressing Weaknesses in the Global Financial Markets: The Report of the President's Working Group on Financial Markets"
          ],
          [
           "Chairman Ben S. Bernanke",
           "The Importance of Financial Education and the National Jump$tart Coalition Survey"
          ],
          [
           "Vice Chairman Donald L. Kohn",
           "Dedication remarks"
          ],
          [
           "Governor Randall S. Kroszner",
           "Global Economic and Financial Challenges: Implications for Latin America"
          ],
          [
           "Governor Frederic S. Mishkin",
           "Central Bank Commitment and Communication"
          ],
          [
           "Governor Frederic S. Mishkin",
           "Comfort Zones, Shmumfort Zones"
          ],
          [
           "Governor Randall S. Kroszner",
           "Protecting Homeowners and Sustaining Homeownership"
          ],
          [
           "Chairman Ben S. Bernanke",
           "Current Economic and Financial Conditions"
          ],
          [
           "Vice Chairman Donald L. Kohn",
           "Monetary Policy and Asset Prices Revisited"
          ],
          [
           "Vice Chairman Donald L. Kohn",
           "Productivity and Innovation in Financial Services "
          ],
          [
           "Governor Kevin Warsh",
           "The Promise and Peril of the New Financial Architecture"
          ],
          [
           "Chairman Ben S. Bernanke",
           "The Future of Mortgage Finance in the United States "
          ],
          [
           "Governor Randall S. Kroszner",
           "Strategic Risk Management in an Interconnected World"
          ],
          [
           "Vice Chairman Donald L. Kohn",
           "Economic Outlook"
          ],
          [
           "Chairman Ben S. Bernanke",
           "Stabilizing the Financial Markets and the Economy"
          ],
          [
           "Chairman Ben S. Bernanke",
           "Remarks"
          ],
          [
           "Chairman Jerome H. Powell",
           "Monetary Policy in the Post-Crisis Era"
          ],
          [
           "Governor Lael Brainard",
           "Perspectives on the Economy from Scranton"
          ],
          [
           "Vice Chair for Supervision Randal K. Quarles",
           "Stress Testing: A Decade of Continuity and Change"
          ],
          [
           "Chairman Jerome H. Powell",
           "Welcoming Remarks (via prerecorded video)"
          ],
          [
           "Vice Chairman Richard H. Clarida",
           "The Federal Reserve's Review of Its Monetary Policy Strategy, Tools, and Communication Practices"
          ],
          [
           "Chairman Jerome H. Powell",
           "Economic Outlook and Monetary Policy Review"
          ],
          [
           "Governor Michelle W. Bowman",
           "Minority Depository Institutions"
          ],
          [
           "Governor Lael Brainard",
           "Fed Listens in Cincinnati: How Does Monetary Policy Affect Your Community?"
          ],
          [
           "Vice Chair for Supervision Randal K. Quarles",
           "Refining the Stress Capital Buffer"
          ],
          [
           "Governor Michelle W. Bowman",
           "Introductory Remarks"
          ],
          [
           "Chairman Jerome H. Powell",
           "Challenges for Monetary Policy"
          ],
          [
           "Vice Chair for Supervision Randal K. Quarles",
           "A Decade of Building Stronger Communities"
          ],
          [
           "Governor Lael Brainard",
           "Delivering Fast Payments for All"
          ],
          [
           "Governor Michelle W. Bowman",
           "Closing Remarks"
          ],
          [
           "Vice Chairman Richard H. Clarida",
           "U.S. Economic Outlook and Monetary Policy"
          ],
          [
           "Governor Michelle W. Bowman",
           "Opening Remarks "
          ],
          [
           "Governor Lael Brainard",
           "Digital Currencies, Stablecoins, and the Evolving Payments Landscape"
          ],
          [
           "Chairman Jerome H. Powell",
           "Opening Remarks"
          ],
          [
           "Chairman Jerome H. Powell",
           "Data-Dependent Monetary Policy in an Evolving Economy"
          ],
          [
           "Chairman Jerome H. Powell",
           "Brief Remarks"
          ],
          [
           "Governor Michelle W. Bowman",
           "Direction of Supervision: Impact of Payment System Innovation on Community Banks"
          ],
          [
           "Vice Chairman Richard H. Clarida",
           "U.S. Economic Outlook and Monetary Policy"
          ],
          [
           "Vice Chairman Richard H. Clarida",
           "Financial Markets and Monetary Policy: Is There a Hall of Mirrors Problem?"
          ],
          [
           "Governor Lael Brainard",
           "Monetary Policy Strategies and Tools When Inflation and Interest Rates Are Low"
          ],
          [
           "Vice Chair for Supervision Randal K. Quarles",
           "Spontaneity and Order:  Transparency, Accountability, and Fairness in Bank Supervision"
          ],
          [
           "Governor Michelle W. Bowman",
           "Empowering Community Banks"
          ],
          [
           "Vice Chair for Supervision Randal K. Quarles",
           "The Economic Outlook, Monetary Policy, and the Demand for Reserves"
          ],
          [
           "Governor Lael Brainard",
           "The Digitalization of Payments and Currency: Some Issues for Consideration"
          ],
          [
           "Chairman Jerome H. Powell",
           "COVID-19 and the Economy"
          ]
         ],
         "fillcolor": "rgba(255,255,255,0)",
         "hoveron": "points",
         "hovertemplate": "action=decrease<br>filter_text_len=%{x}<br>speaker=%{customdata[0]}<br>title=%{customdata[1]}<extra></extra>",
         "jitter": 0,
         "legendgroup": "decrease",
         "line": {
          "color": "rgba(255,255,255,0)"
         },
         "marker": {
          "color": "#EF553B",
          "symbol": "line-ns-open"
         },
         "name": "decrease",
         "offsetgroup": "decrease",
         "showlegend": false,
         "type": "box",
         "x": [
          1507,
          1512,
          1147,
          1440,
          2380,
          1940,
          73,
          1090,
          2255,
          1847,
          1501,
          2731,
          1533,
          2878,
          1232,
          2333,
          2188,
          1758,
          1893,
          2010,
          2139,
          1008,
          1316,
          913,
          1837,
          2129,
          1739,
          1484,
          3561,
          2113,
          2971,
          2880,
          2118,
          1068,
          1998,
          791,
          5635,
          1367,
          1867,
          2065,
          2084,
          1857,
          1932,
          2856,
          1993,
          1474,
          1196,
          1699,
          2832,
          3348,
          2249,
          2810,
          2423,
          2010,
          1825,
          1535,
          1199,
          2001,
          5440,
          1983,
          312,
          1482,
          1629,
          1955,
          867,
          1742,
          1373,
          342,
          1828,
          2251,
          2759,
          755,
          4984,
          1736,
          1296,
          1878,
          3671,
          1747,
          1484,
          1390,
          1363,
          1515,
          1356,
          1653,
          2991,
          783,
          3894,
          2732,
          920,
          2012,
          1243,
          1458,
          2075,
          2260,
          1521,
          976,
          579,
          78,
          2338,
          1588,
          1340,
          1709,
          1877,
          1882,
          2691,
          1586,
          3620,
          1365,
          1580,
          1000,
          173,
          2047,
          2331,
          3674,
          1950,
          2286,
          3901,
          2839,
          1145,
          3214,
          1886,
          2729,
          1659,
          838,
          1937,
          1569,
          1420,
          2287,
          2756,
          3780,
          1674,
          1251,
          1952,
          1730,
          2931,
          1088,
          2324,
          2061,
          1875,
          1611,
          1885,
          2323,
          2866,
          2267,
          1444,
          1109,
          2065,
          2018,
          3532,
          996,
          2419,
          2001,
          2029,
          1690,
          701,
          2235,
          3195,
          1760,
          2475,
          2243,
          1777,
          2424,
          1770,
          2022,
          393,
          525,
          2320,
          3913,
          3718,
          2186,
          1938,
          3053,
          1811,
          2020,
          2113,
          2125,
          1774,
          1778,
          328,
          1400,
          536,
          1884,
          506,
          4136,
          756,
          631,
          1169,
          1817,
          445,
          2461,
          675,
          1666,
          581,
          696,
          469,
          2600,
          368,
          2575,
          442,
          2338,
          592,
          1241,
          2313,
          1382,
          1926,
          2470,
          2527,
          470
         ],
         "xaxis": "x2",
         "yaxis": "y2"
        },
        {
         "alignmentgroup": "True",
         "bingroup": "x",
         "hovertemplate": "action=increase<br>filter_text_len=%{x}<br>count=%{y}<extra></extra>",
         "legendgroup": "increase",
         "marker": {
          "color": "#00cc96",
          "pattern": {
           "shape": ""
          }
         },
         "name": "increase",
         "nbinsx": 150,
         "offsetgroup": "increase",
         "orientation": "v",
         "showlegend": true,
         "type": "histogram",
         "x": [
          494,
          2609,
          2716,
          1171,
          1764,
          2727,
          1123,
          1301,
          1502,
          1079,
          1140,
          1162,
          1798,
          1849,
          1644,
          770,
          1151,
          5058,
          1269,
          2163,
          2110,
          2144,
          2525,
          2802,
          2180,
          3457,
          1491,
          642,
          1812,
          1613,
          2174,
          1690,
          1775,
          1609,
          1951,
          1820,
          1572,
          1891,
          1348,
          2360,
          1308,
          1542,
          1273,
          1478,
          1073,
          1175,
          1533,
          1522,
          1377,
          1565,
          2052,
          2287,
          1270,
          1343,
          933,
          2344,
          1854,
          855,
          2136,
          453,
          3204,
          374,
          2535,
          1567,
          2105,
          619,
          1416,
          2389,
          1728,
          1856,
          1944,
          2262,
          2108,
          1991,
          1553,
          356,
          1212,
          1442,
          1321,
          1617,
          167,
          2038,
          2503,
          1853,
          3801,
          1309,
          1367,
          1639,
          3063,
          1954,
          2472,
          597,
          2971,
          3271,
          2567,
          1635,
          1294,
          1941,
          1424,
          2277,
          3680,
          1288,
          1610,
          1704,
          3106,
          1027,
          3106,
          2326,
          1027,
          1748,
          2295,
          1175,
          1819,
          890,
          1359,
          1362,
          4175,
          2422,
          30,
          2279,
          835,
          3114,
          1684,
          2260,
          1744,
          1937,
          2492,
          1203,
          2775,
          2591,
          3935,
          2024,
          871,
          1415,
          2274,
          2314,
          2024,
          1598,
          55,
          1547,
          1666,
          801,
          1393,
          1530,
          2357,
          1567,
          1886,
          2164,
          1952,
          1783,
          1599,
          2321,
          1422,
          1667,
          960,
          3348,
          2740,
          1524,
          2204,
          433,
          1354,
          1662,
          299,
          1183,
          1866,
          1865,
          1874,
          1972,
          1972,
          1855,
          1236,
          2893,
          1446,
          485,
          1396,
          71,
          1202,
          815,
          2328,
          1294,
          2440,
          1112,
          2022,
          1957,
          1501,
          2338,
          1364,
          1878,
          1494,
          1747,
          655,
          1475,
          2208,
          2646,
          1653,
          948,
          1982,
          2197,
          2620,
          1745,
          1513,
          291,
          1581,
          2386,
          1358,
          2217,
          1599,
          1909,
          2212,
          725,
          1746,
          2353,
          999,
          2761,
          330,
          1811,
          1605,
          1481,
          2217,
          2491,
          2151,
          2175,
          2490,
          2191,
          1772,
          1963,
          2063,
          1717,
          1871,
          1952,
          886,
          1113,
          2596,
          2115,
          2276,
          1697,
          1370,
          1872,
          1626,
          620,
          2067,
          1389,
          2491,
          2140,
          2400,
          1049,
          2481,
          3255,
          408,
          2723,
          591,
          2308,
          2597,
          1848,
          1792,
          420,
          1846,
          3438,
          3732,
          3948,
          2019,
          2849,
          2148,
          694,
          2824,
          2841,
          2187,
          2534,
          477,
          2720,
          1803,
          1893,
          2359,
          3312,
          2729,
          2605,
          2564,
          4139,
          4281,
          2813,
          840,
          1786,
          4121,
          979,
          484,
          1032,
          1386,
          1957,
          437,
          2247,
          679,
          378,
          2268,
          1191,
          2440,
          1607,
          2076,
          1561,
          2748,
          267,
          2545,
          3100,
          2613,
          847,
          2076,
          821,
          615,
          2686,
          2479,
          1416,
          934,
          2640,
          1927
         ],
         "xaxis": "x",
         "yaxis": "y"
        },
        {
         "alignmentgroup": "True",
         "boxpoints": "all",
         "customdata": [
          [
           "Governor Roger W. Ferguson, Jr.",
           "Public information and public confidence in year 2000"
          ],
          [
           "Governor Edward M. Gramlich",
           "A policy in Lampman's tradition: The Community Reinvestment Act"
          ],
          [
           "Governor Laurence H. Meyer",
           "Market discipline as a complement to bank supervision and regulation"
          ],
          [
           "Chairman Alan Greenspan",
           "Commencement address"
          ],
          [
           "Governor Roger W. Ferguson, Jr.",
           "The making of monetary policy"
          ],
          [
           "Governor Laurence H. Meyer",
           "Moving forward into the 21st century"
          ],
          [
           "Chairman Alan Greenspan",
           "Trade and technology"
          ],
          [
           "Vice Chair Alice M. Rivlin",
           "Dilemmas facing United States policymakers"
          ],
          [
           "Governor Roger W. Ferguson, Jr.",
           "Continuing the countdown to year 2000: Focusing on public disclosure and public confidence"
          ],
          [
           "Chairman Alan Greenspan",
           "Insurance companies and banks under the new regulatory law"
          ],
          [
           "Governor Edward M. Gramlich",
           "Consumer credit in the 21st century"
          ],
          [
           "Chairman Alan Greenspan",
           "Mortgage markets and economic activity"
          ],
          [
           "Chairman Alan Greenspan",
           "Information, productivity, and capital investment"
          ],
          [
           "Vice Chairman Roger W. Ferguson",
           "Financial market lessons for bankers and bank supervisors"
          ],
          [
           "Chairman Alan Greenspan",
           "Do efficient financial markets mitigate financial crises?"
          ],
          [
           "Chairman Alan Greenspan",
           "Business, the economy, and the new millenium"
          ],
          [
           "Chairman Alan Greenspan",
           "Measuring financial risk in the twenty-first century"
          ],
          [
           "Governor Laurence H. Meyer",
           "New challenges for monetary policy: The view from Jackson Hole"
          ],
          [
           "Chairman Alan Greenspan",
           "The evolution of bank supervision"
          ],
          [
           "Vice Chairman Roger W. Ferguson",
           "Year 2000: Eighty-six days and counting"
          ],
          [
           "Governor Laurence H. Meyer",
           "Sustainability and monetary policy"
          ],
          [
           "Governor Laurence H. Meyer",
           "Supervising LCBOs: Adapting to change"
          ],
          [
           "Chairman Alan Greenspan",
           "Technology and the economy"
          ],
          [
           "Governor Edward M. Gramlich",
           "Inflation targeting"
          ],
          [
           "Vice Chairman Roger W. Ferguson",
           "Tale of two continents: A comparison of Asian and Latin American experiences during recent financial turmoil"
          ],
          [
           "Governor Edward M. Gramlich",
           "Social security in the 21st century"
          ],
          [
           "Chairman Alan Greenspan",
           "Challenges facing community banks"
          ],
          [
           "Governor Edward M. Gramlich",
           "CRA and financial modernization"
          ],
          [
           "Vice Chairman Roger W. Ferguson",
           "Convergence of regulatory standards: A work in process"
          ],
          [
           "Chairman Alan Greenspan",
           "The revolution in information technology"
          ],
          [
           "Governor Laurence H. Meyer",
           "How does a surplus affect the formulation and conduct of monetary policy?"
          ],
          [
           "Vice Chairman Roger W. Ferguson",
           "The new economy: Unanswered questions for 2000"
          ],
          [
           "Governor Laurence H. Meyer",
           "Implementing the Gramm-Leach-Bliley Act"
          ],
          [
           "Vice Chairman Roger W. Ferguson",
           "Economic policy for our era: The Florida experience"
          ],
          [
           "Vice Chairman Roger W. Ferguson",
           "The Ohio economy"
          ],
          [
           "Vice Chairman Roger W. Ferguson",
           "Conversation with leaders of the \"New Economy\""
          ],
          [
           "Vice Chairman Roger W. Ferguson",
           "Electronic commerce, banking, and payments"
          ],
          [
           "Chairman Alan Greenspan",
           "Banking evolution"
          ],
          [
           "Chairman Alan Greenspan",
           "The economy of rural America"
          ],
          [
           "Governor Edward M. Gramlich",
           "Investment and saving"
          ],
          [
           "Governor Edward M. Gramlich",
           "The digital divide"
          ],
          [
           "Governor Edward M. Gramlich",
           "Predatory lending"
          ],
          [
           "Chairman Alan Greenspan",
           "Technology and financial services"
          ],
          [
           "Chairman Alan Greenspan",
           "The evolving demand for skills"
          ],
          [
           "Chairman Alan Greenspan",
           "Retail payment systems"
          ],
          [
           "Chairman Alan Greenspan",
           "Technology innovation and its economic impact"
          ],
          [
           "Vice Chairman Roger W. Ferguson",
           "Realism during times of opportunity"
          ],
          [
           "Chairman Alan Greenspan",
           "Technological innovation and the economy"
          ],
          [
           "Governor Edward W. Kelley, Jr.",
           "Learning from experience: Y2K revisited"
          ],
          [
           "Chairman Alan Greenspan",
           "Economic challenges in the new century"
          ],
          [
           "Governor Edward M. Gramlich",
           "Reducing Budget Deficits"
          ],
          [
           "Governor Susan S. Bies",
           "Trends in Risk Management and Corporate Governance"
          ],
          [
           "Governor Mark W. Olson",
           "Economic Outlook"
          ],
          [
           "Governor Mark W. Olson",
           "Regulatory Update: Banking Industry, Insurance, and Securities Activities"
          ],
          [
           "Chairman Alan Greenspan",
           "Central Bank panel discussion: economic developments"
          ],
          [
           "Governor Donald L. Kohn",
           "The Outlook for Inflation"
          ],
          [
           "Governor Susan S. Bies",
           "IASB reform"
          ],
          [
           "Vice Chairman Roger W. Ferguson",
           "Economics and Ethical Behaviors"
          ],
          [
           "Governor Edward M. Gramlich",
           "Subprime Mortgage Lending: Benefits, Costs, and Challenges"
          ],
          [
           "Chairman Alan Greenspan",
           "Acceptance of the Eisenhower Medal for Leadership and Service"
          ],
          [
           "Governor Ben S. Bernanke",
           "Gradualism"
          ],
          [
           "Governor Edward M. Gramlich",
           "Workplace Financial Education"
          ],
          [
           "Governor Susan S. Bies",
           "Corporate Governance: Where Do We Go From Here?"
          ],
          [
           "Governor Susan S. Bies",
           "Corporate Governance and Community Banks"
          ],
          [
           "Vice Chairman Roger W. Ferguson",
           "The Role of Central Banks in Fostering Efficiency and Stability in the Global Financial System"
          ],
          [
           "Chairman Alan Greenspan",
           "Financial literacy"
          ],
          [
           "Governor Mark W. Olson",
           "Panel discussion: The Competitive Edge of Community Banks"
          ],
          [
           "Chairman Alan Greenspan",
           "Globalization and innovation"
          ],
          [
           "Governor Susan S. Bies",
           "Financial Innovation and Effective Risk Management"
          ],
          [
           "Governor Mark W. Olson",
           "The Federal Open Market Committee and the Formation of Monetary Policy"
          ],
          [
           "Vice Chairman Roger W. Ferguson",
           "A Retrospective on Business-Cycle Recoveries: Are \"Jobless\" Recoveries the New Norm?"
          ],
          [
           "Governor Susan S. Bies",
           "Using Enterprise-Wide Risk Management to Effectively Execute Business Strategies"
          ],
          [
           "Governor Susan S. Bies",
           "Business Financial Conditions and Relationships with Bankers"
          ],
          [
           "Vice Chairman Roger W. Ferguson",
           "Productivity: Past, Present, and Future"
          ],
          [
           "Governor Edward M. Gramlich",
           "Oil Shocks and Monetary Policy"
          ],
          [
           "Governor Edward M. Gramlich",
           "Introductory remarks"
          ],
          [
           "Chairman Alan Greenspan",
           "Opening remarks"
          ],
          [
           "Governor Susan S. Bies",
           "Corporate Governance and Risk Management at Community Banks"
          ],
          [
           "Governor Edward M. Gramlich",
           "Rules for Assessing Social Security Reform"
          ],
          [
           "Governor Susan S. Bies",
           "Financial Supervision Issues"
          ],
          [
           "Vice Chairman Roger W. Ferguson",
           "Equilibrium Real Interest Rate: Theory and Application"
          ],
          [
           "Vice Chairman Roger W. Ferguson",
           "Factors Influencing Business Investment"
          ],
          [
           "Governor Susan S. Bies",
           "The Federal Reserve System and the Economy"
          ],
          [
           "Governor Susan S. Bies",
           "Enterprise Perspectives in Financial Institution Supervision"
          ],
          [
           "Governor Ben S. Bernanke",
           "Oil and the Economy"
          ],
          [
           "Chairman Alan Greenspan",
           "The mortgage market and consumer debt"
          ],
          [
           "Chairman Alan Greenspan",
           "Oil"
          ],
          [
           "Governor Donald L. Kohn",
           "How Should Policymakers Deal with Low-Probability, High-Impact Events?"
          ],
          [
           "Governor Ben S. Bernanke",
           "International Monetary Reform and Capital Freedom"
          ],
          [
           "Vice Chairman Roger W. Ferguson",
           "Panel discussion: Safeguarding Good Policy Practice through Maintaining Flexibility"
          ],
          [
           "Governor Ben S. Bernanke",
           "Panel discussion: What Have We Learned Since October 1979?"
          ],
          [
           "Chairman Alan Greenspan",
           "Monetary policy twenty-five years after October 1979"
          ],
          [
           "Governor Ben S. Bernanke",
           "Central Bank Talk and Monetary Policy"
          ],
          [
           "Vice Chairman Roger W. Ferguson",
           "Free Trade: What Do Economists Really Know?"
          ],
          [
           "Vice Chairman Roger W. Ferguson",
           "Questions and Reflections on the Personal Saving Rate"
          ],
          [
           "Chairman Alan Greenspan",
           "Banking"
          ],
          [
           "Governor Ben S. Bernanke",
           "The Implementation of Basel II: Some Issues for Cross-Border Banking"
          ],
          [
           "Governor Susan S. Bies",
           "Developments in Financial Markets and Financial Management"
          ],
          [
           "Governor Susan S. Bies",
           "Challenges Facing the Accounting Profession Today"
          ],
          [
           "Governor Susan S. Bies",
           "Its Not Just about the Models: Recognizing the Importance of Qualitative Factors in an Effective Risk-Management Process"
          ],
          [
           "Governor Ben S. Bernanke",
           "The Logic of Monetary Policy"
          ],
          [
           "Chairman Alan Greenspan",
           "Panel discussion: Euro in Wider Circles"
          ],
          [
           "Governor Susan S. Bies",
           "Fair Value Accounting"
          ],
          [
           "Governor Mark W. Olson",
           "Recent Economic Experience and Outlook"
          ],
          [
           "Governor Ben S. Bernanke",
           "Productivity"
          ],
          [
           "Vice Chairman Roger W. Ferguson",
           "Recessions and Recoveries Associated with Asset-Price Movements: What Do We Know?"
          ],
          [
           "Governor Ben S. Bernanke",
           "Productivity"
          ],
          [
           "Governor Susan S. Bies",
           "The Economy and Challenges in Retirement Savings"
          ],
          [
           "Vice Chairman Roger W. Ferguson",
           "Recessions and Recoveries Associated with Asset-Price Movements: What Do We Know?"
          ],
          [
           "Governor Donald L. Kohn",
           "Central Bank Communication"
          ],
          [
           "Vice Chairman Roger W. Ferguson",
           "Interpreting Labor Market Statistics in the Context of Monetary Policy"
          ],
          [
           "Governor Ben S. Bernanke",
           "Panel Discussion: The Transition from Academic to Policymaker"
          ],
          [
           "Governor Donald L. Kohn",
           "Crisis Management: The Known, the Unknown, and the Unknowable"
          ],
          [
           "Chairman Alan Greenspan",
           "Empowering Communities, Attracting Development Capital, and Creating Opportunities"
          ],
          [
           "Governor Susan S. Bies",
           "Bank Secrecy Act and Capital Compliance Issues"
          ],
          [
           "Chairman Alan Greenspan",
           "Bank regulation"
          ],
          [
           "Governor Ben S. Bernanke",
           "The Global Saving Glut and the U.S. Current Account Deficit"
          ],
          [
           "Chairman Alan Greenspan",
           "Globalization"
          ],
          [
           "Governor Ben S. Bernanke",
           "The Economic Outlook"
          ],
          [
           "Governor Edward M. Gramlich",
           "The Importance of Raising National Saving"
          ],
          [
           "Governor Mark W. Olson",
           "Loan Quality and How It Reflects the Overall Economy"
          ],
          [
           "Governor Ben S. Bernanke",
           "Inflation in Latin America: A New Era?"
          ],
          [
           "Governor Susan S. Bies",
           "Behind the Scenes at the FOMC: How the Federal Reserve Determines Monetary Policy"
          ],
          [
           "Chairman Alan Greenspan",
           "Adam Smith"
          ],
          [
           "Chairman Alan Greenspan",
           "Current account"
          ],
          [
           "Vice Chairman Roger W. Ferguson",
           "The Evolution of Central Banking in the United States"
          ],
          [
           "Governor Donald L. Kohn",
           "Imbalances in the U.S. Economy"
          ],
          [
           "Governor Edward M. Gramlich",
           "A First Step in Dealing with Growing Retirement Costs"
          ],
          [
           "Vice Chairman Roger W. Ferguson",
           "U.S. Current Account Deficit: Causes and Consequences"
          ],
          [
           "Governor Susan S. Bies",
           "The Economy and Managing Personal Finances"
          ],
          [
           "Governor Ben S. Bernanke",
           "The Global Saving Glut and the U.S. Current Account Deficit"
          ],
          [
           "Governor Donald L. Kohn",
           "Economic Outlook"
          ],
          [
           "Chairman Alan Greenspan",
           "Consumer Finance"
          ],
          [
           "Chairman Alan Greenspan",
           "Energy"
          ],
          [
           "Governor Susan S. Bies",
           "Home Mortgage Disclosure Act, Bank Secrecy Act, and Capital Issues"
          ],
          [
           "Governor Ben S. Bernanke",
           "Implementing Monetary Policy"
          ],
          [
           "Governor Mark W. Olson",
           "Revisiting Traditional Paths to Ownership"
          ],
          [
           "Governor Donald L. Kohn",
           "Managing Risk in a Changing Economic and Financial Landscape"
          ],
          [
           "Governor Susan S. Bies",
           "Current Regulatory Issues"
          ],
          [
           "Governor Susan S. Bies",
           "Enhancing Risk Management under Basel II"
          ],
          [
           "Governor Susan S. Bies",
           "Community Banks: A Regulatory Update"
          ],
          [
           "Chairman Alan Greenspan",
           "Central Bank panel discussion"
          ],
          [
           "Governor Mark W. Olson",
           "The Health of the Banking Industry"
          ],
          [
           "Governor Edward M. Gramlich",
           "HMDA Data and Their Effect on Mortgage Markets"
          ],
          [
           "Vice Chairman Roger W. Ferguson",
           "Asset Prices and Monetary Liquidity"
          ],
          [
           "Governor Susan S. Bies",
           "Capital and Risk Management"
          ],
          [
           "Governor Edward M. Gramlich",
           "The Politics of Inflation Targeting"
          ],
          [
           "Chairman Alan Greenspan",
           "Energy"
          ],
          [
           "Governor Donald L. Kohn",
           "Modeling Inflation: A Policymakers Perspective"
          ],
          [
           "Governor Mark W. Olson",
           "The Federal Reserve in an Electronic World"
          ],
          [
           "Governor Susan S. Bies",
           "Observations on Measuring and Managing Operational Risk under Basel II"
          ],
          [
           "Chairman Alan Greenspan",
           "Government-sponsored enterprises"
          ],
          [
           "Governor Susan S. Bies",
           "Financial Stability Benefits and Implementation Challenges of Basel II"
          ],
          [
           "Governor Mark W. Olson",
           "Basel II"
          ],
          [
           "Chairman Alan Greenspan",
           "Commencement address"
          ],
          [
           "Vice Chairman Roger W. Ferguson",
           "Globalization: Evidence and Policy Implications"
          ],
          [
           "Chairman Alan Greenspan",
           "Risk Transfer and Financial Stability"
          ],
          [
           "Governor Donald L. Kohn",
           "Monetary Policy Perspectives on Risk Premiums in Financial Markets"
          ],
          [
           "Governor Mark W. Olson",
           "Business Trends and Management Challenges for the Banking Industry"
          ],
          [
           "Chairman Alan Greenspan",
           "Closing remarks"
          ],
          [
           "Governor Donald L. Kohn",
           "Panel discussion: Financial Markets, Financial Fragility, and Central Banking"
          ],
          [
           "Chairman Alan Greenspan",
           "Reflections on central banking"
          ],
          [
           "Chairman Alan Greenspan",
           "Opening remarks"
          ],
          [
           "Chairman Alan Greenspan",
           "Remarks on receipt of the Truman Medal for Economic Policy"
          ],
          [
           "Governor Donald L. Kohn",
           "The Economic Outlook"
          ],
          [
           "Vice Chairman Roger W. Ferguson",
           "Economic Outlook for the United States"
          ],
          [
           "Chairman Alan Greenspan",
           "Energy"
          ],
          [
           "Governor Mark W. Olson",
           "Update on the U.S. Economy and Fiscal Outlook"
          ],
          [
           "Governor Mark W. Olson",
           "Update on the U.S. Economy and Fiscal Outlook"
          ],
          [
           "Governor Susan S. Bies",
           "Regulatory Issues"
          ],
          [
           "Chairman Alan Greenspan",
           "Economic flexibility"
          ],
          [
           "Governor Donald L. Kohn",
           "Globalization, Inflation, and Monetary Policy"
          ],
          [
           "Governor Donald L. Kohn",
           "Inflation Modeling: A Policymakers Perspective"
          ],
          [
           "Vice Chairman Roger W. Ferguson",
           "U.S. currency"
          ],
          [
           "Chairman Alan Greenspan",
           "Economic flexibility"
          ],
          [
           "Chairman Alan Greenspan",
           "Mortgage banking"
          ],
          [
           "Governor Susan S. Bies",
           "Basel II Developments in the United States"
          ],
          [
           "Vice Chairman Roger W. Ferguson",
           "The Financial Stability Forum meeting"
          ],
          [
           "Governor Susan S. Bies",
           "Linkages between Internal Capital Measures and Regulatory Capital Requirements"
          ],
          [
           "Governor Mark W. Olson",
           "Economic Growth: Lessons from the Sioux Falls Experience"
          ],
          [
           "Chairman Alan Greenspan",
           "International imbalances"
          ],
          [
           "Chairman Alan Greenspan",
           "Budget policy"
          ],
          [
           "Governor Susan S. Bies",
           "Recent Developments in Regulatory Capital"
          ],
          [
           "Vice Chairman Roger W. Ferguson",
           "Recent Changes in Household Finances and Home Lending"
          ],
          [
           "Vice Chairman Roger W. Ferguson",
           "Financial Regulation: Seeking the Middle Way"
          ],
          [
           "Vice Chairman Roger W. Ferguson",
           "Asset Price Levels and Volatility: Causes and Implications"
          ],
          [
           "Governor Mark W. Olson",
           "Perspectives on the Development of a Unified National Payments System in the United States"
          ],
          [
           "Chairman Alan Greenspan",
           "Stability and Economic Growth: The Role of the Central Bank"
          ],
          [
           "Governor Mark W. Olson",
           "A Look at Fair Lending through the Lens of the New HMDA Data"
          ],
          [
           "Vice Chairman Roger W. Ferguson",
           "Monetary Credibility, Inflation, and Economic Growth"
          ],
          [
           "Chairman Alan Greenspan",
           "Remarks on receipt of honorary degree"
          ],
          [
           "Governor Susan S. Bies",
           "Productivity and Economic Outlook"
          ],
          [
           "Chairman Ben S. Bernanke",
           "Reflections on the Yield Curve and Monetary Policy"
          ],
          [
           "Governor Donald L. Kohn",
           "Monetary policy and asset prices"
          ],
          [
           "Governor Mark W. Olson",
           "Are Banks Still Special?"
          ],
          [
           "Vice Chairman Roger W. Ferguson",
           "Remarks"
          ],
          [
           "Chairman Ben S. Bernanke",
           "Community Banking and Community Bank Supervision "
          ],
          [
           "Vice Chairman Roger W. Ferguson",
           "Economic Outlook for the United States"
          ],
          [
           "Chairman Ben S. Bernanke",
           "The Benefits of Price Stability"
          ],
          [
           "Vice Chairman Roger W. Ferguson",
           "The Importance of Education"
          ],
          [
           "Vice Chairman Roger W. Ferguson",
           "Globalization, Insurers, and Regulators: Shared Challenges Call for Collaborative Solutions"
          ],
          [
           "Chairman Ben S. Bernanke",
           "Remarks at ceremonial swearing-in by President Bush"
          ],
          [
           "Governor Susan S. Bies",
           "The Continuous Challenges of Risk Management"
          ],
          [
           "Governor Susan S. Bies",
           "Supervisory Perspective on Current Bank Capital, Market Risk, and Loan Product Issues"
          ],
          [
           "Chairman Ben S. Bernanke",
           "Community Revitalization: Lessons from Anacostia"
          ],
          [
           "Governor Susan S. Bies",
           "A Bank Supervisor's Perspective on Enterprise Risk Management"
          ],
          [
           "Governor Donald L. Kohn",
           "Business Capital Spending"
          ],
          [
           "Chairman Ben S. Bernanke",
           "By the Numbers: Data and Measurement in Community Economic Development"
          ],
          [
           "Vice Chairman Roger W. Ferguson",
           "Thoughts on Financial Stability and Central Banking"
          ],
          [
           "Governor Mark W. Olson",
           "Update on the U.S. economy"
          ],
          [
           "Governor Donald L. Kohn",
           "Economic outlook"
          ],
          [
           "Governor Susan S. Bies",
           "A Risk-Management Perspective on Recent Regulatory Proposals"
          ],
          [
           "Governor Mark W. Olson",
           "Enterprise-Wide Compliance-Risk Management"
          ],
          [
           "Governor Randall S. Kroszner",
           "The Effect of Removing Geographic Restrictions on Banking in the United States: Lessons for Europe"
          ],
          [
           "Chairman Ben S. Bernanke",
           "Financial Education and the National Jump$tart Coalition Survey"
          ],
          [
           "Governor Randall S. Kroszner",
           "Central Counterparty Clearing: History, Innovation, and Regulation"
          ],
          [
           "Governor Susan S. Bies",
           "An Update on Regulatory Issues"
          ],
          [
           "Vice Chairman Roger W. Ferguson",
           "Financial Regulation: Seeking the Middle Way"
          ],
          [
           "Governor Susan S. Bies",
           "Sound Capital and Risk Management"
          ],
          [
           "Governor Randall S. Kroszner",
           "Why Are Yield Curves So Flat and Long Rates So Low Globally?"
          ],
          [
           "Governor Donald L. Kohn",
           "The Effects of Globalization on Inflation and Their Implications for Monetary Policy"
          ],
          [
           "Chairman Ben S. Bernanke",
           "Energy and the Economy"
          ],
          [
           "Governor Randall S. Kroszner",
           "Why Are Yield Curves So Flat and Long Rates So Low Globally?"
          ],
          [
           "Governor Susan S. Bies",
           "A Supervisor's Perspective on Mortgage Markets and Mortgage Lending Practices"
          ],
          [
           "Chairman Ben S. Bernanke",
           " Increasing Economic Opportunity: Challenges and Strategies"
          ],
          [
           "Chairman Ben S. Bernanke",
           "Modern Risk Management and Banking Supervision"
          ],
          [
           "Governor Susan S. Bies",
           "A Supervisorâs Perspective on Enterprise Risk Management"
          ],
          [
           "Governor Mark W. Olson",
           "What Are Examiners Looking for When They Examine Banks for Compliance?"
          ],
          [
           "Chairman Ben S. Bernanke",
           "Commencement address"
          ],
          [
           "Governor Susan S. Bies",
           "Challenges of Conducting Effective Risk Management in Community Banks"
          ],
          [
           "Chairman Ben S. Bernanke",
           "Panel Discussion: Comments on the Outlook for the U.S. Economy and Monetary Policy"
          ],
          [
           "Governor Mark W. Olson",
           "Community Development and the Bigger Picture"
          ],
          [
           "Governor Randall S. Kroszner",
           "Innovative Statistics for a Dynamic Economy"
          ],
          [
           "Governor Donald L. Kohn",
           "The Evolving Nature of the Financial System: Financial Crises and the Role of the Central Bank"
          ],
          [
           "Chairman Ben S. Bernanke",
           "Basel II: Its Promise and Its Challenges"
          ],
          [
           "Chairman Ben S. Bernanke",
           "Hedge Funds and Systemic Risk"
          ],
          [
           "Governor Mark W. Olson",
           "Compliance Risk Management in a Diversified Environment"
          ],
          [
           "Governor Susan S. Bies",
           "Implementing Basel II: Choices and Challenges"
          ],
          [
           "Governor Donald L. Kohn",
           "Investing in Payment Innovations:  A Federal Reserve Perspective"
          ],
          [
           "Vice Chairman Donald L. Kohn",
           "Restoring Financial Intermediation by Banks: The Role of Regulators"
          ],
          [
           "Governor Randall S. Kroszner",
           "Assessing the Potential for Instability in Financial Markets"
          ],
          [
           "Governor Randall S. Kroszner",
           "Improving the Infrastructure for Non-Agency Mortgage-Backed Securities"
          ],
          [
           "Chairman Ben S. Bernanke",
           "Housing, Mortgage Markets, and Foreclosures"
          ],
          [
           "Governor Randall S. Kroszner",
           "The Community Reinvestment Act and the Recent Mortgage Crisis"
          ],
          [
           "Chairman Ben S. Bernanke",
           "Federal Reserve Policies in the Financial Crisis"
          ],
          [
           "Chairman Ben S. Bernanke",
           "Policy Coordination Among Central Banks "
          ],
          [
           "Vice Chairman Stanley Fischer",
           "Financial Stability and Shadow Banks: What We Don't Know Could Hurt Us"
          ],
          [
           "Chair Janet L. Yellen",
           "The Economic Outlook and Monetary Policy"
          ],
          [
           "Governor Daniel K. Tarullo",
           "Opening Remarks"
          ],
          [
           "Governor Lael Brainard",
           "Normalizing Monetary Policy When the Neutral Interest Rate Is Low"
          ],
          [
           "Governor Jerome H. Powell",
           "Opening Remarks"
          ],
          [
           "Vice Chairman Stanley Fischer",
           "Emerging Asia in Transition"
          ],
          [
           "Governor Daniel K. Tarullo",
           "Thinking Critically about Nonbank Financial Intermediation"
          ],
          [
           "Governor Jerome H. Powell",
           "Central Clearing in an Interdependent World"
          ],
          [
           "Vice Chairman Stanley Fischer",
           "The Transmission of Exchange Rate Changes to Output and Inflation"
          ],
          [
           "Chair Janet L. Yellen",
           "Welcoming Remarks"
          ],
          [
           "Governor Lael Brainard",
           "Unconventional Monetary Policy and Cross-Border Spillovers"
          ],
          [
           "Governor Daniel K. Tarullo",
           "Shared Responsibility for the Regulation of International Banks"
          ],
          [
           "Vice Chairman Stanley Fischer",
           "Central Bank Independence"
          ],
          [
           "Governor Daniel K. Tarullo",
           "Financial Regulation Since the Crisis"
          ],
          [
           "Governor Lael Brainard",
           "The Opportunities and Challenges of Fintech"
          ],
          [
           "Governor Jerome H. Powell",
           "A View from the Fed"
          ],
          [
           "Governor Jerome H. Powell",
           "Recent Economic Developments and Longer-Run Challenges"
          ],
          [
           "Vice Chairman Stanley Fischer",
           "Longer-Term Challenges for the U.S. Economy"
          ],
          [
           "Governor Jerome H. Powell",
           "The Global Trade Slowdown and Its Implications for Emerging Asia"
          ],
          [
           "Governor Lael Brainard",
           "The \"Gig\" Economy: Implications of the Growth of Contingent Work"
          ],
          [
           "Vice Chairman Stanley Fischer",
           "Is There a Liquidity Problem Post-Crisis?"
          ],
          [
           "Vice Chairman Stanley Fischer",
           "U.S. Monetary Policy from an International Perspective"
          ],
          [
           "Vice Chairman Stanley Fischer",
           "The Economic Outlook"
          ],
          [
           "Chair Janet L. Yellen",
           "From Adding Accommodation to Scaling It Back"
          ],
          [
           "Vice Chairman Stanley Fischer",
           "Monetary Policy: By Rule, By Committee, or By Both?"
          ],
          [
           "Governor Jerome H. Powell",
           "Innovation, Technology, and the Payments System"
          ],
          [
           "Governor Lael Brainard",
           "Transitions in the Outlook and Monetary Policy"
          ],
          [
           "Governor Jerome H. Powell",
           "The Economic Outlook and Monetary Policy"
          ],
          [
           "Vice Chairman Stanley Fischer",
           "\"I'd Rather Have Bob Solow Than an Econometric Model, But ...\""
          ],
          [
           "Governor Jerome H. Powell",
           "Thoughts on the Normalization of Monetary Policy"
          ],
          [
           "Governor Lael Brainard",
           "Navigating the Different Signals from Inflation and Unemployment"
          ],
          [
           "Governor Lael Brainard",
           "Why Opportunity and Inclusion Matter to Americaâs Economic Strength"
          ],
          [
           "Chair Janet L. Yellen",
           "So We All Can Succeed: 125 Years of Women's Participation in the Economy"
          ],
          [
           "Vice Chairman Stanley Fischer",
           "Committee Decisions and Monetary Policy Rules"
          ],
          [
           "Governor Lael Brainard",
           "Workforce Development in Today's Economy"
          ],
          [
           "Vice Chair for Supervision Randal K. Quarles",
           "Thoughts on Prudent Innovation in the Payment System"
          ],
          [
           "Governor Lael Brainard",
           "Where Do Consumers Fit in the Fintech Stack?"
          ],
          [
           "Governor Lael Brainard",
           "Regional Food Systems and Community Development"
          ],
          [
           "Chair Janet L. Yellen",
           "Remarks accepting the 2017 Paul H. Douglas Award for Ethics in Government"
          ],
          [
           "Governor Jerome H. Powell",
           "Introductory Remarks"
          ],
          [
           "Governor Lael Brainard",
           "Navigating Monetary Policy as Headwinds Shift to Tailwinds"
          ],
          [
           "Vice Chair for Supervision Randal K. Quarles",
           "The Federal Reserveâs Regulatory Agenda for Foreign Banking Organizations: What Lies Ahead for Enhanced Prudential Standards and the Volcker Rule"
          ],
          [
           "Vice Chair for Supervision Randal K. Quarles",
           "Brief Thoughts on the Financial Regulatory System and Cybersecurity"
          ],
          [
           "Vice Chair for Supervision Randal K. Quarles",
           "An Assessment of the U.S. Economy"
          ],
          [
           "Vice Chair for Supervision Randal K. Quarles",
           "The U.S. Economy after the Global Financial Crisis"
          ],
          [
           "Chairman Jerome H. Powell",
           "Remarks at the Ceremonial Swearing-in"
          ],
          [
           "Governor Lael Brainard",
           "Sustaining Full Employment and Inflation around Target"
          ],
          [
           "Chairman Jerome H. Powell",
           "Financial Stability and Central Bank Transparency"
          ],
          [
           "Governor Lael Brainard",
           "Keeping Community at the Heart of the Community Reinvestment Act"
          ],
          [
           "Vice Chair for Supervision Randal K. Quarles",
           "Trust Everyone--But Brand Your Cattle: Finding the Right Balance in Cross-Border Resolution"
          ],
          [
           "Governor Lael Brainard",
           "Cryptocurrencies, Digital Currencies, and Distributed Ledger Technologies: What Are We Learning?"
          ],
          [
           "Chairman Jerome H. Powell",
           "Monetary Policy Influences on Global Financial Conditions and International Capital Flows"
          ],
          [
           "Vice Chair for Supervision Randal K. Quarles",
           "Liquidity Regulation and the Size of the Fed's Balance Sheet"
          ],
          [
           "Chairman Jerome H. Powell",
           "Brief Remarks on the U.S. Economy"
          ],
          [
           "Governor Lael Brainard",
           "What Do We Mean by Neutral and What Role Does It Play in Monetary Policy?"
          ],
          [
           "Chairman Jerome H. Powell",
           "Monetary Policy in a Changing Economy"
          ],
          [
           "Governor Lael Brainard",
           "Assessing Financial Stability over the Cycle"
          ],
          [
           "Chairman Jerome H. Powell",
           "Welcoming Remarks"
          ],
          [
           "Vice Chair for Supervision Randal K. Quarles",
           "Banks as Vital Infrastructure for Rural Communities of the West"
          ],
          [
           "Governor Lael Brainard",
           "Celebrating Excellence in Community Development"
          ],
          [
           "Chairman Jerome H. Powell",
           "Celebrating Excellence in Community Development"
          ],
          [
           "Governor Lael Brainard",
           "The Structure of the Treasury Market:  What Are We Learning?"
          ],
          [
           "Chairman Jerome H. Powell",
           "The Federal Reserve's Framework for Monitoring Financial Stability"
          ],
          [
           "Vice Chairman Richard H. Clarida",
           "Data Dependence and U.S. Monetary Policy"
          ],
          [
           "Vice Chair for Supervision Randal K. Quarles",
           "Beginning Stress Testingâs New Chapter"
          ],
          [
           "Governor Lael Brainard",
           "What Are We Learning about Artificial Intelligence in Financial Services?"
          ],
          [
           "Vice Chair for Supervision Randal K. Quarles",
           "A New Chapter in Stress Testing"
          ]
         ],
         "fillcolor": "rgba(255,255,255,0)",
         "hoveron": "points",
         "hovertemplate": "action=increase<br>filter_text_len=%{x}<br>speaker=%{customdata[0]}<br>title=%{customdata[1]}<extra></extra>",
         "jitter": 0,
         "legendgroup": "increase",
         "line": {
          "color": "rgba(255,255,255,0)"
         },
         "marker": {
          "color": "#00cc96",
          "symbol": "line-ns-open"
         },
         "name": "increase",
         "offsetgroup": "increase",
         "showlegend": false,
         "type": "box",
         "x": [
          494,
          2609,
          2716,
          1171,
          1764,
          2727,
          1123,
          1301,
          1502,
          1079,
          1140,
          1162,
          1798,
          1849,
          1644,
          770,
          1151,
          5058,
          1269,
          2163,
          2110,
          2144,
          2525,
          2802,
          2180,
          3457,
          1491,
          642,
          1812,
          1613,
          2174,
          1690,
          1775,
          1609,
          1951,
          1820,
          1572,
          1891,
          1348,
          2360,
          1308,
          1542,
          1273,
          1478,
          1073,
          1175,
          1533,
          1522,
          1377,
          1565,
          2052,
          2287,
          1270,
          1343,
          933,
          2344,
          1854,
          855,
          2136,
          453,
          3204,
          374,
          2535,
          1567,
          2105,
          619,
          1416,
          2389,
          1728,
          1856,
          1944,
          2262,
          2108,
          1991,
          1553,
          356,
          1212,
          1442,
          1321,
          1617,
          167,
          2038,
          2503,
          1853,
          3801,
          1309,
          1367,
          1639,
          3063,
          1954,
          2472,
          597,
          2971,
          3271,
          2567,
          1635,
          1294,
          1941,
          1424,
          2277,
          3680,
          1288,
          1610,
          1704,
          3106,
          1027,
          3106,
          2326,
          1027,
          1748,
          2295,
          1175,
          1819,
          890,
          1359,
          1362,
          4175,
          2422,
          30,
          2279,
          835,
          3114,
          1684,
          2260,
          1744,
          1937,
          2492,
          1203,
          2775,
          2591,
          3935,
          2024,
          871,
          1415,
          2274,
          2314,
          2024,
          1598,
          55,
          1547,
          1666,
          801,
          1393,
          1530,
          2357,
          1567,
          1886,
          2164,
          1952,
          1783,
          1599,
          2321,
          1422,
          1667,
          960,
          3348,
          2740,
          1524,
          2204,
          433,
          1354,
          1662,
          299,
          1183,
          1866,
          1865,
          1874,
          1972,
          1972,
          1855,
          1236,
          2893,
          1446,
          485,
          1396,
          71,
          1202,
          815,
          2328,
          1294,
          2440,
          1112,
          2022,
          1957,
          1501,
          2338,
          1364,
          1878,
          1494,
          1747,
          655,
          1475,
          2208,
          2646,
          1653,
          948,
          1982,
          2197,
          2620,
          1745,
          1513,
          291,
          1581,
          2386,
          1358,
          2217,
          1599,
          1909,
          2212,
          725,
          1746,
          2353,
          999,
          2761,
          330,
          1811,
          1605,
          1481,
          2217,
          2491,
          2151,
          2175,
          2490,
          2191,
          1772,
          1963,
          2063,
          1717,
          1871,
          1952,
          886,
          1113,
          2596,
          2115,
          2276,
          1697,
          1370,
          1872,
          1626,
          620,
          2067,
          1389,
          2491,
          2140,
          2400,
          1049,
          2481,
          3255,
          408,
          2723,
          591,
          2308,
          2597,
          1848,
          1792,
          420,
          1846,
          3438,
          3732,
          3948,
          2019,
          2849,
          2148,
          694,
          2824,
          2841,
          2187,
          2534,
          477,
          2720,
          1803,
          1893,
          2359,
          3312,
          2729,
          2605,
          2564,
          4139,
          4281,
          2813,
          840,
          1786,
          4121,
          979,
          484,
          1032,
          1386,
          1957,
          437,
          2247,
          679,
          378,
          2268,
          1191,
          2440,
          1607,
          2076,
          1561,
          2748,
          267,
          2545,
          3100,
          2613,
          847,
          2076,
          821,
          615,
          2686,
          2479,
          1416,
          934,
          2640,
          1927
         ],
         "xaxis": "x2",
         "yaxis": "y2"
        }
       ],
       "layout": {
        "autosize": true,
        "barmode": "relative",
        "legend": {
         "title": {
          "text": "action"
         },
         "tracegroupgap": 0
        },
        "template": {
         "data": {
          "bar": [
           {
            "error_x": {
             "color": "#2a3f5f"
            },
            "error_y": {
             "color": "#2a3f5f"
            },
            "marker": {
             "line": {
              "color": "#E5ECF6",
              "width": 0.5
             },
             "pattern": {
              "fillmode": "overlay",
              "size": 10,
              "solidity": 0.2
             }
            },
            "type": "bar"
           }
          ],
          "barpolar": [
           {
            "marker": {
             "line": {
              "color": "#E5ECF6",
              "width": 0.5
             },
             "pattern": {
              "fillmode": "overlay",
              "size": 10,
              "solidity": 0.2
             }
            },
            "type": "barpolar"
           }
          ],
          "carpet": [
           {
            "aaxis": {
             "endlinecolor": "#2a3f5f",
             "gridcolor": "white",
             "linecolor": "white",
             "minorgridcolor": "white",
             "startlinecolor": "#2a3f5f"
            },
            "baxis": {
             "endlinecolor": "#2a3f5f",
             "gridcolor": "white",
             "linecolor": "white",
             "minorgridcolor": "white",
             "startlinecolor": "#2a3f5f"
            },
            "type": "carpet"
           }
          ],
          "choropleth": [
           {
            "colorbar": {
             "outlinewidth": 0,
             "ticks": ""
            },
            "type": "choropleth"
           }
          ],
          "contour": [
           {
            "colorbar": {
             "outlinewidth": 0,
             "ticks": ""
            },
            "colorscale": [
             [
              0,
              "#0d0887"
             ],
             [
              0.1111111111111111,
              "#46039f"
             ],
             [
              0.2222222222222222,
              "#7201a8"
             ],
             [
              0.3333333333333333,
              "#9c179e"
             ],
             [
              0.4444444444444444,
              "#bd3786"
             ],
             [
              0.5555555555555556,
              "#d8576b"
             ],
             [
              0.6666666666666666,
              "#ed7953"
             ],
             [
              0.7777777777777778,
              "#fb9f3a"
             ],
             [
              0.8888888888888888,
              "#fdca26"
             ],
             [
              1,
              "#f0f921"
             ]
            ],
            "type": "contour"
           }
          ],
          "contourcarpet": [
           {
            "colorbar": {
             "outlinewidth": 0,
             "ticks": ""
            },
            "type": "contourcarpet"
           }
          ],
          "heatmap": [
           {
            "colorbar": {
             "outlinewidth": 0,
             "ticks": ""
            },
            "colorscale": [
             [
              0,
              "#0d0887"
             ],
             [
              0.1111111111111111,
              "#46039f"
             ],
             [
              0.2222222222222222,
              "#7201a8"
             ],
             [
              0.3333333333333333,
              "#9c179e"
             ],
             [
              0.4444444444444444,
              "#bd3786"
             ],
             [
              0.5555555555555556,
              "#d8576b"
             ],
             [
              0.6666666666666666,
              "#ed7953"
             ],
             [
              0.7777777777777778,
              "#fb9f3a"
             ],
             [
              0.8888888888888888,
              "#fdca26"
             ],
             [
              1,
              "#f0f921"
             ]
            ],
            "type": "heatmap"
           }
          ],
          "heatmapgl": [
           {
            "colorbar": {
             "outlinewidth": 0,
             "ticks": ""
            },
            "colorscale": [
             [
              0,
              "#0d0887"
             ],
             [
              0.1111111111111111,
              "#46039f"
             ],
             [
              0.2222222222222222,
              "#7201a8"
             ],
             [
              0.3333333333333333,
              "#9c179e"
             ],
             [
              0.4444444444444444,
              "#bd3786"
             ],
             [
              0.5555555555555556,
              "#d8576b"
             ],
             [
              0.6666666666666666,
              "#ed7953"
             ],
             [
              0.7777777777777778,
              "#fb9f3a"
             ],
             [
              0.8888888888888888,
              "#fdca26"
             ],
             [
              1,
              "#f0f921"
             ]
            ],
            "type": "heatmapgl"
           }
          ],
          "histogram": [
           {
            "marker": {
             "pattern": {
              "fillmode": "overlay",
              "size": 10,
              "solidity": 0.2
             }
            },
            "type": "histogram"
           }
          ],
          "histogram2d": [
           {
            "colorbar": {
             "outlinewidth": 0,
             "ticks": ""
            },
            "colorscale": [
             [
              0,
              "#0d0887"
             ],
             [
              0.1111111111111111,
              "#46039f"
             ],
             [
              0.2222222222222222,
              "#7201a8"
             ],
             [
              0.3333333333333333,
              "#9c179e"
             ],
             [
              0.4444444444444444,
              "#bd3786"
             ],
             [
              0.5555555555555556,
              "#d8576b"
             ],
             [
              0.6666666666666666,
              "#ed7953"
             ],
             [
              0.7777777777777778,
              "#fb9f3a"
             ],
             [
              0.8888888888888888,
              "#fdca26"
             ],
             [
              1,
              "#f0f921"
             ]
            ],
            "type": "histogram2d"
           }
          ],
          "histogram2dcontour": [
           {
            "colorbar": {
             "outlinewidth": 0,
             "ticks": ""
            },
            "colorscale": [
             [
              0,
              "#0d0887"
             ],
             [
              0.1111111111111111,
              "#46039f"
             ],
             [
              0.2222222222222222,
              "#7201a8"
             ],
             [
              0.3333333333333333,
              "#9c179e"
             ],
             [
              0.4444444444444444,
              "#bd3786"
             ],
             [
              0.5555555555555556,
              "#d8576b"
             ],
             [
              0.6666666666666666,
              "#ed7953"
             ],
             [
              0.7777777777777778,
              "#fb9f3a"
             ],
             [
              0.8888888888888888,
              "#fdca26"
             ],
             [
              1,
              "#f0f921"
             ]
            ],
            "type": "histogram2dcontour"
           }
          ],
          "mesh3d": [
           {
            "colorbar": {
             "outlinewidth": 0,
             "ticks": ""
            },
            "type": "mesh3d"
           }
          ],
          "parcoords": [
           {
            "line": {
             "colorbar": {
              "outlinewidth": 0,
              "ticks": ""
             }
            },
            "type": "parcoords"
           }
          ],
          "pie": [
           {
            "automargin": true,
            "type": "pie"
           }
          ],
          "scatter": [
           {
            "marker": {
             "colorbar": {
              "outlinewidth": 0,
              "ticks": ""
             }
            },
            "type": "scatter"
           }
          ],
          "scatter3d": [
           {
            "line": {
             "colorbar": {
              "outlinewidth": 0,
              "ticks": ""
             }
            },
            "marker": {
             "colorbar": {
              "outlinewidth": 0,
              "ticks": ""
             }
            },
            "type": "scatter3d"
           }
          ],
          "scattercarpet": [
           {
            "marker": {
             "colorbar": {
              "outlinewidth": 0,
              "ticks": ""
             }
            },
            "type": "scattercarpet"
           }
          ],
          "scattergeo": [
           {
            "marker": {
             "colorbar": {
              "outlinewidth": 0,
              "ticks": ""
             }
            },
            "type": "scattergeo"
           }
          ],
          "scattergl": [
           {
            "marker": {
             "colorbar": {
              "outlinewidth": 0,
              "ticks": ""
             }
            },
            "type": "scattergl"
           }
          ],
          "scattermapbox": [
           {
            "marker": {
             "colorbar": {
              "outlinewidth": 0,
              "ticks": ""
             }
            },
            "type": "scattermapbox"
           }
          ],
          "scatterpolar": [
           {
            "marker": {
             "colorbar": {
              "outlinewidth": 0,
              "ticks": ""
             }
            },
            "type": "scatterpolar"
           }
          ],
          "scatterpolargl": [
           {
            "marker": {
             "colorbar": {
              "outlinewidth": 0,
              "ticks": ""
             }
            },
            "type": "scatterpolargl"
           }
          ],
          "scatterternary": [
           {
            "marker": {
             "colorbar": {
              "outlinewidth": 0,
              "ticks": ""
             }
            },
            "type": "scatterternary"
           }
          ],
          "surface": [
           {
            "colorbar": {
             "outlinewidth": 0,
             "ticks": ""
            },
            "colorscale": [
             [
              0,
              "#0d0887"
             ],
             [
              0.1111111111111111,
              "#46039f"
             ],
             [
              0.2222222222222222,
              "#7201a8"
             ],
             [
              0.3333333333333333,
              "#9c179e"
             ],
             [
              0.4444444444444444,
              "#bd3786"
             ],
             [
              0.5555555555555556,
              "#d8576b"
             ],
             [
              0.6666666666666666,
              "#ed7953"
             ],
             [
              0.7777777777777778,
              "#fb9f3a"
             ],
             [
              0.8888888888888888,
              "#fdca26"
             ],
             [
              1,
              "#f0f921"
             ]
            ],
            "type": "surface"
           }
          ],
          "table": [
           {
            "cells": {
             "fill": {
              "color": "#EBF0F8"
             },
             "line": {
              "color": "white"
             }
            },
            "header": {
             "fill": {
              "color": "#C8D4E3"
             },
             "line": {
              "color": "white"
             }
            },
            "type": "table"
           }
          ]
         },
         "layout": {
          "annotationdefaults": {
           "arrowcolor": "#2a3f5f",
           "arrowhead": 0,
           "arrowwidth": 1
          },
          "autotypenumbers": "strict",
          "coloraxis": {
           "colorbar": {
            "outlinewidth": 0,
            "ticks": ""
           }
          },
          "colorscale": {
           "diverging": [
            [
             0,
             "#8e0152"
            ],
            [
             0.1,
             "#c51b7d"
            ],
            [
             0.2,
             "#de77ae"
            ],
            [
             0.3,
             "#f1b6da"
            ],
            [
             0.4,
             "#fde0ef"
            ],
            [
             0.5,
             "#f7f7f7"
            ],
            [
             0.6,
             "#e6f5d0"
            ],
            [
             0.7,
             "#b8e186"
            ],
            [
             0.8,
             "#7fbc41"
            ],
            [
             0.9,
             "#4d9221"
            ],
            [
             1,
             "#276419"
            ]
           ],
           "sequential": [
            [
             0,
             "#0d0887"
            ],
            [
             0.1111111111111111,
             "#46039f"
            ],
            [
             0.2222222222222222,
             "#7201a8"
            ],
            [
             0.3333333333333333,
             "#9c179e"
            ],
            [
             0.4444444444444444,
             "#bd3786"
            ],
            [
             0.5555555555555556,
             "#d8576b"
            ],
            [
             0.6666666666666666,
             "#ed7953"
            ],
            [
             0.7777777777777778,
             "#fb9f3a"
            ],
            [
             0.8888888888888888,
             "#fdca26"
            ],
            [
             1,
             "#f0f921"
            ]
           ],
           "sequentialminus": [
            [
             0,
             "#0d0887"
            ],
            [
             0.1111111111111111,
             "#46039f"
            ],
            [
             0.2222222222222222,
             "#7201a8"
            ],
            [
             0.3333333333333333,
             "#9c179e"
            ],
            [
             0.4444444444444444,
             "#bd3786"
            ],
            [
             0.5555555555555556,
             "#d8576b"
            ],
            [
             0.6666666666666666,
             "#ed7953"
            ],
            [
             0.7777777777777778,
             "#fb9f3a"
            ],
            [
             0.8888888888888888,
             "#fdca26"
            ],
            [
             1,
             "#f0f921"
            ]
           ]
          },
          "colorway": [
           "#636efa",
           "#EF553B",
           "#00cc96",
           "#ab63fa",
           "#FFA15A",
           "#19d3f3",
           "#FF6692",
           "#B6E880",
           "#FF97FF",
           "#FECB52"
          ],
          "font": {
           "color": "#2a3f5f"
          },
          "geo": {
           "bgcolor": "white",
           "lakecolor": "white",
           "landcolor": "#E5ECF6",
           "showlakes": true,
           "showland": true,
           "subunitcolor": "white"
          },
          "hoverlabel": {
           "align": "left"
          },
          "hovermode": "closest",
          "mapbox": {
           "style": "light"
          },
          "paper_bgcolor": "white",
          "plot_bgcolor": "#E5ECF6",
          "polar": {
           "angularaxis": {
            "gridcolor": "white",
            "linecolor": "white",
            "ticks": ""
           },
           "bgcolor": "#E5ECF6",
           "radialaxis": {
            "gridcolor": "white",
            "linecolor": "white",
            "ticks": ""
           }
          },
          "scene": {
           "xaxis": {
            "backgroundcolor": "#E5ECF6",
            "gridcolor": "white",
            "gridwidth": 2,
            "linecolor": "white",
            "showbackground": true,
            "ticks": "",
            "zerolinecolor": "white"
           },
           "yaxis": {
            "backgroundcolor": "#E5ECF6",
            "gridcolor": "white",
            "gridwidth": 2,
            "linecolor": "white",
            "showbackground": true,
            "ticks": "",
            "zerolinecolor": "white"
           },
           "zaxis": {
            "backgroundcolor": "#E5ECF6",
            "gridcolor": "white",
            "gridwidth": 2,
            "linecolor": "white",
            "showbackground": true,
            "ticks": "",
            "zerolinecolor": "white"
           }
          },
          "shapedefaults": {
           "line": {
            "color": "#2a3f5f"
           }
          },
          "ternary": {
           "aaxis": {
            "gridcolor": "white",
            "linecolor": "white",
            "ticks": ""
           },
           "baxis": {
            "gridcolor": "white",
            "linecolor": "white",
            "ticks": ""
           },
           "bgcolor": "#E5ECF6",
           "caxis": {
            "gridcolor": "white",
            "linecolor": "white",
            "ticks": ""
           }
          },
          "title": {
           "x": 0.05
          },
          "xaxis": {
           "automargin": true,
           "gridcolor": "white",
           "linecolor": "white",
           "ticks": "",
           "title": {
            "standoff": 15
           },
           "zerolinecolor": "white",
           "zerolinewidth": 2
          },
          "yaxis": {
           "automargin": true,
           "gridcolor": "white",
           "linecolor": "white",
           "ticks": "",
           "title": {
            "standoff": 15
           },
           "zerolinecolor": "white",
           "zerolinewidth": 2
          }
         }
        },
        "title": {
         "text": "Length of Speach"
        },
        "xaxis": {
         "anchor": "y",
         "autorange": true,
         "domain": [
          0,
          1
         ],
         "range": [
          -342.6666666666667,
          7110.666666666667
         ],
         "title": {
          "text": "filter_text_len"
         },
         "type": "linear"
        },
        "xaxis2": {
         "anchor": "y2",
         "autorange": true,
         "domain": [
          0,
          1
         ],
         "matches": "x",
         "range": [
          -342.6666666666667,
          7110.666666666667
         ],
         "showgrid": true,
         "showticklabels": false,
         "type": "linear"
        },
        "yaxis": {
         "anchor": "x",
         "autorange": true,
         "domain": [
          0,
          0.7326
         ],
         "range": [
          0,
          48.421052631578945
         ],
         "title": {
          "text": "count"
         }
        },
        "yaxis2": {
         "anchor": "x2",
         "autorange": true,
         "domain": [
          0.7426,
          1
         ],
         "matches": "y2",
         "range": [
          -0.7076986984214899,
          2.5
         ],
         "showgrid": false,
         "showline": false,
         "showticklabels": false,
         "ticks": "",
         "type": "category"
        }
       }
      },
      "image/png": "[encoded data removed]",
      "text/html": [
       "<div>                            <div id=\"5a03dc7a-c8df-4c9e-90cf-d6c60392b33d\" class=\"plotly-graph-div\" style=\"height:525px; width:100%;\"></div>            <script type=\"text/javascript\">                require([\"plotly\"], function(Plotly) {                    window.PLOTLYENV=window.PLOTLYENV || {};                                    if (document.getElementById(\"5a03dc7a-c8df-4c9e-90cf-d6c60392b33d\")) {                    Plotly.newPlot(                        \"5a03dc7a-c8df-4c9e-90cf-d6c60392b33d\",                        [{\"alignmentgroup\":\"True\",\"bingroup\":\"x\",\"hovertemplate\":\"action=no change<br>filter_text_len=%{x}<br>count=%{y}<extra></extra>\",\"legendgroup\":\"no change\",\"marker\":{\"color\":\"#636efa\",\"pattern\":{\"shape\":\"\"}},\"name\":\"no change\",\"nbinsx\":150,\"offsetgroup\":\"no change\",\"orientation\":\"v\",\"showlegend\":true,\"x\":[1536,1837,1132,1441,1423,1720,942,2626,1918,670,1354,1262,1551,2379,1488,1281,2952,3369,2092,1256,1575,2678,2376,2795,1855,1288,1804,2157,1205,3666,1860,2383,1252,1100,1712,1285,2004,1823,1469,2375,1590,757,2185,1516,2172,1797,1455,1759,887,2989,1831,1616,1646,1497,401,1814,2413,2344,1249,2227,2402,2090,1676,1171,1380,1796,3384,1994,438,1873,1844,1592,2580,2262,1966,1968,1951,1266,1531,1296,2159,1422,1726,2160,1839,3648,1419,1884,4689,1901,1214,2342,2581,193,1609,1342,1861,1765,1746,2364,2176,1702,1935,1611,1411,1651,2238,725,1273,1569,1193,1568,976,1564,2613,1176,1501,1720,1124,1498,2600,1741,1563,2215,2943,1235,2540,1799,1684,1922,1233,1836,1715,1230,1903,1990,1033,376,1275,1746,3021,1173,1431,2537,3617,1858,2531,1725,1488,1888,226,1530,1598,1390,1756,1097,1111,1926,1872,1504,1625,1358,1659,403,2033,1185,1794,937,448,2895,1510,339,1220,1447,1781,1138,2152,1367,1575,2010,1953,1273,1031,1693,1075,1454,1628,1694,1997,1536,1300,1227,1352,1239,1593,1586,1932,1719,2189,1821,874,1535,1137,1543,892,870,1422,1841,1337,883,954,1903,940,3081,2191,1649,261,1739,1228,1516,1961,1732,1732,3191,1155,1943,2660,2083,1203,1683,2031,1444,1984,2168,3615,2310,2828,2016,1615,3133,1676,3709,2887,2127,3126,1985,1051,1595,2580,881,1143,1022,1160,1134,1902,2416,3870,2509,1010,1050,885,2006,1757,1630,1319,616,2349,2190,4092,2321,974,2163,1996,2570,1710,1507,2711,1797,2073,3334,1214,1887,1523,1667,1858,2407,2696,2152,6738,2423,2407,3517,3365,3311,2076,2076,1409,3650,2434,921,1224,1135,3311,2095,2852,2076,1273,1721,4233,2656,1842,2716,1331,2534,309,2615,1461,2614,1688,2318,3629,1953,2042,268,357,1148,1728,897,1978,981,1187,2236,2264,2295,1749,408,2452,2387,1927,2064,1880,1717,2098,2196,3207,2276,99,1679,2388,1970,3059,2135,1625,1532,2128,3338,2349,1980,1907,1480,3198,2918,1110,1197,3256,2727,1835,3542,2297,1858,3870,3241,4046,380,1497,2376,1760,3067,4155,1705,2137,4048,3103,941,2161,1183,1546,3337,2102,582,2315,1283,2451,2515,2112,2162,1855,2103,3276,2221,470,1951,2652,2162,2137,2309,1505,2205,2508,1952,2496,2082,3481,1878,2093,2508,1870,1928,318,4245,1984,2376,2219,2292,1052,399,1919,2336,3131,2749,539,1855,2326,2966,2523,2411,2342,2224,2445,2052,2550,2901,3353,2186,1759,2250,3725,1912,1700,3335,419,1940,1469,2341,2206,824,1576,370,3591,2193,1132,1493,3591,1693,1186,2717,1938,2461,2067,2415,3198,1873,711,1681,369,2150,1704,2443,2732,2375,1511,1839,1909,4604,1708,1827,2446,370,1553,1628,792,259,2299,394,1687,1290,2070,1852,592,2511,2480,1814,1509,2608,1785,1713,1655,506,2390,672,943,2851,3435,1332,2287,2222,1607,2190,343,1720,1257,2408,1470,1764,1924,3107,869,2267,175,2786,4079,2302,385,3919,319,2482,1371,1013,2757,1875,2061,1373,3946,2379,973,1835,2131,1320,1817,1769,2192,2705,2422,2847,2007,2461,2397,2169,1666,1254,2621,2642,2520,2232,1589,2547,312,2135,2422,2178,1699,711,2009,2272,365,1591,2325,2013,1792,2575,3765,2408,2291,3177,2293,1921,2186,1295,2444,775,2292,2394,2519,1481,2709,2659,1590,2297,3012,2090,3800,2031,2236,1747,2884,408,928,2396,4234,2466,1912,1924,1936,782,1624,4636,795,1098,1072,3533,855,6340,3637,2483,2547,1051,3231,2971,2328,4552,2816,1083,4496,3590,2696,3981,3339,2609,2812,1568,3184,3938,3330,3062,3281,1838,838,2315,2558,2738,384,1564,2768,2181,1127,921,1588,1986,2677,2265,3616,2540,4523,1058,998,2313,3191,1352,792,760,2843,1859,649,1740,4810,407,737,3139,2276,3794,318,731,1536,2880,2972,4513,3175,1678,3258,434,3231,703,3065,2254,3754,275,493,3212,3466,619,474,293,2883,1936,1965,3922,3041,2663,1990,3518,3338,2056,253,4214,4119,473,762,355,2659,396,3895,1110,3077,905,2096,493,926,2552,1190,3063,2480,508,2634,1796,2937,734,1956,2290,3908,3333,2024,1939,3279,2142,1756,1712,2015,195,2424,2507,2486,1031,2127,1859,893,1559,1560,419,968,1290,2548,686,3027,2948,642,2970,6630,3010,1796,3074,2792,4008,2421,1982,1069,1917,897,3216,2074,2445,2808,3437,1350,2500,1302,480,2756,4028,1395,520,2869,3589,4190,880,1456,2261,425,2080,1090,4703,1221,4054,1689,2317,708,1724,4070,819,935,2188,435,5010,2966,2500,818,3063,3062,2049,2088,1672,541,2603,2573,2340,1066,4350,2509,1021,2664,1825,1010,2438,2611,788,318,3658,2074,5462,3751,1495,1540,965,2398,2367,2404,949,1618,1713,1167,1494,1470,3296,648,2208,1654,2758,1753,1889,2252,341,2594,2588,1721,590,827,953,3570,2038,1081,1321,486,1007,819,1939,515,384,3857,1255,1125,2298,1526,1395,2003,927,574,1979,758,1398,2915,2104,1760,348,2410,1269,4312,454,1004,3343,463,1822,2099,282,2063,1222,3723,2634,1528,3049,696,4002,1874,1579,2973,1633,2393,1068,602,2644,250,213,1112,897,175,278,1418,1425],\"xaxis\":\"x\",\"yaxis\":\"y\",\"type\":\"histogram\"},{\"alignmentgroup\":\"True\",\"boxpoints\":\"all\",\"customdata\":[[\"Governor Edward W. Kelley, Jr.\",\"Developments in electronic money and banking\"],[\"Chairman Alan Greenspan\",\"Bank supervision in a world economy\"],[\"Chairman Alan Greenspan\",\"Regulation and electronic payment systems\"],[\"Governor Laurence H. Meyer\",\"Monetary policy objectives and strategy\"],[\"Governor Edward W. Kelley, Jr.\",\"The future of electronic payments\"],[\"Governor Susan M. Phillips\",\"Accounting and auditing standards and bank supervision\"],[\"Chairman Alan Greenspan\",\"Technological advances and productivity\"],[\"Governor Lawrence B. Lindsey\",\"How to grow faster\"],[\"Governor Lawrence B. Lindsey\",\"Here we go again?\"],[\"Chairman Alan Greenspan\",\"U.S. Treasury securities market: Lessons from Alexander Hamilton\"],[\"Chairman Alan Greenspan\",\"Bank supervision, regulation, and risk\"],[\"Governor Lawrence B. Lindsey\",\"Small business is big business\"],[\"Chairman Alan Greenspan\",\"Social security\"],[\"Chairman Alan Greenspan\",\"The challenge of central banking in a democratic society\"],[\"Governor Edward W. Kelley, Jr.\",\"Clearinghouses and risk management\"],[\"Governor Susan M. Phillips\",\"Supervisory and regulatory responses to financial innovation and industry dynamics\"],[\"Governor Laurence H. Meyer\",\"The transformation of the U.S. banking industry and resulting challenges to regulators\"],[\"Chairman Alan Greenspan\",\"Banking in the global marketplace\"],[\"Vice Chair Alice M. Rivlin\",\"Supervision of bank risk-taking\"],[\"Governor Edward W. Kelley, Jr.\",\"Are banks still special?\"],[\"Governor Susan M. Phillips\",\"International competition: Should we harmonize our national regulatory systems?\"],[\"Governor Laurence H. Meyer\",\"Financial modernization: Rationalizing the structure of the financial services industry\"],[\"Governor Laurence H. Meyer\",\"The economic outlook and challenges for monetary policy\"],[\"Chairman Alan Greenspan\",\"Central banking and global finance\"],[\"Governor Laurence H. Meyer\",\"The role of structural macroeconomic models\"],[\"Chairman Alan Greenspan\",\"Current monetary policy\"],[\"Chairman Alan Greenspan\",\"Financial reform and importance of the state charter\"],[\"Chairman Alan Greenspan\",\"Technological change and the design of bank supervisory policies\"],[\"Chairman Alan Greenspan\",\"G-7 economic summit meeting\"],[\"Governor Laurence H. Meyer\",\"The economic outlook and challenges facing monetary policy\"],[\"Chairman Alan Greenspan\",\"The evolution of banking in a market economy\"],[\"Governor Laurence H. Meyer\",\"Issues in financial modernization\"],[\"Vice Chair Alice M. Rivlin\",\"The challenges of macroeconomic policy\"],[\"Governor Laurence H. Meyer\",\"Models for neighborhood development and reinvestment\"],[\"Governor Susan M. Phillips\",\"The changing financial landscape and umbrella supervision\"],[\"Chairman Alan Greenspan\",\"The embrace of free markets\"],[\"Governor Laurence H. Meyer\",\"The role of banks in small business finance\"],[\"Governor Edward W. Kelley, Jr.\",\"The role of the Federal Reserve in the payments system\"],[\"Governor Susan M. Phillips\",\"Derivatives and risk management\"],[\"Governor Laurence H. Meyer\",\"The economic outlook and challenges facing monetary policy\"],[\"Governor Laurence H. Meyer\",\"Monetary policy and the bond market: Complements or substitutes\"],[\"Chairman Alan Greenspan\",\"Education, technology, and economic growth\"],[\"Chairman Alan Greenspan\",\"Rules vs. discretionary monetary policy\"],[\"Governor Laurence H. Meyer\",\"Affordable housing\"],[\"Chairman Alan Greenspan\",\"Price measurement\"],[\"Governor Susan M. Phillips\",\"Risk management\"],[\"Governor Laurence H. Meyer\",\"Community development: Changes and challenges\"],[\"Governor Susan M. Phillips\",\"Trends and challenges in Federal Reserve bank supervision\"],[\"Governor Susan M. Phillips\",\"Black Monday: 10 years later\"],[\"Governor Laurence H. Meyer\",\"Globalization and U.S. monetary policy\"],[\"Chairman Alan Greenspan\",\"Inaugural speech for economic seminar series\"],[\"Chairman Alan Greenspan\",\"Globalization of finance\"],[\"Chairman Alan Greenspan\",\"Consumer credit and financial modernization\"],[\"Chairman Alan Greenspan\",\"Technological change and the economy\"],[\"Governor Edward W. Kelley, Jr.\",\"The \\\"Millennium Bug\\\"\"],[\"Chairman Alan Greenspan\",\"The role of education during rapid economic change\"],[\"Chairman Alan Greenspan\",\"Growth and flexibility: Lessons from Asia\"],[\"Governor Laurence H. Meyer\",\"New approaches to small business development partnerships\"],[\"Chairman Alan Greenspan\",\"The underemployment of minorities\"],[\"Chairman Alan Greenspan\",\"Economic development in low- and moderate-income communities\"],[\"Governor Laurence H. Meyer\",\"The economic outlook and challenges facing monetary policy\"],[\"Chairman Alan Greenspan\",\"Problems of price measurement\"],[\"Governor Susan M. Phillips\",\"Lessons and perspectives\"],[\"Vice Chair Alice M. Rivlin\",\"Next steps for D.C.\"],[\"Governor Roger W. Ferguson, Jr.\",\"The changing banking environment and emerging questions for public policy\"],[\"Governor Susan M. Phillips\",\"Four themes of sound international supervision\"],[\"Governor Laurence H. Meyer\",\"The strategy of monetary policy\"],[\"Governor Roger W. Ferguson, Jr.\",\"Bank supervision: lessons from the consulting perspective\"],[\"Governor Edward M. Gramlich\",\"Capital budgeting\"],[\"Governor Roger W. Ferguson, Jr.\",\"The Asian crisis: lessons to be learned and relearned\"],[\"Chairman Alan Greenspan\",\"Implications of recent Asian developments for community banking\"],[\"Governor Laurence H. Meyer\",\"Financial globalization and efficient banking regulation\"],[\"Governor Edward M. Gramlich\",\"Monetary rules\"],[\"Chairman Alan Greenspan\",\"Risk management in the global financial system\"],[\"Chairman Alan Greenspan\",\"The role of capital in optimal banking supervision and regulation\"],[\"Vice Chair Alice M. Rivlin\",\"Does good policy analysis matter?\"],[\"Governor Edward W. Kelley, Jr.\",\"Year 2000: a worldwide concern\"],[\"Vice Chair Alice M. Rivlin\",\"Commencement address\"],[\"Governor Laurence H. Meyer\",\"Community reinvestment in an era of bank consolidation and deregulation\"],[\"Vice Chair Alice M. Rivlin\",\"The U.S. retail payments system\"],[\"Chairman Alan Greenspan\",\"Understanding today's international financial system\"],[\"Chairman Alan Greenspan\",\"Our banking history\"],[\"Governor Laurence H. Meyer\",\"Housing and the economy: sharing in the prosperity and broadening its base\"],[\"Vice Chair Alice M. Rivlin\",\"Toward a better class of financial crises: some lessons from Asia\"],[\"Governor Roger W. Ferguson, Jr.\",\"Are banks safe for the world and is the world safe for banks?\"],[\"Governor Laurence H. Meyer\",\"The Federal Reserve and bank supervision and regulation\"],[\"Governor Laurence H. Meyer\",\"The economic outlook and the challenges facing monetary policy\"],[\"Governor Roger W. Ferguson, Jr.\",\"The Federal Reserve's role in the payments system and its effect on competition\"],[\"Governor Laurence H. Meyer\",\"Come with me to the FOMC\"],[\"Chairman Alan Greenspan\",\"The ascendance of market capitalism\"],[\"Vice Chair Alice M. Rivlin\",\"Renewed confidence and vitality of the U.S. economy and the Asian crisis\"],[\"Governor Laurence H. Meyer\",\"Issues and trends in bank regulatory policy and financial modernization legislation\"],[\"Governor Laurence H. Meyer\",\"Economic forecasting\"],[\"Chairman Alan Greenspan\",\"On the announcement of a new currency design\"],[\"Governor Roger W. Ferguson, Jr.\",\"Themes in international bank supervision\"],[\"Chairman Alan Greenspan\",\"The implications of technological changes\"],[\"Governor Roger W. Ferguson, Jr.\",\"Exercising caution and vigilance in monetary policy\"],[\"Governor Roger W. Ferguson, Jr.\",\"The international millennium challenge\"],[\"Governor Roger W. Ferguson, Jr.\",\"The making of monetary policy\"],[\"Governor Laurence H. Meyer\",\"The transformation of the U.S. banking system\"],[\"Governor Laurence H. Meyer\",\"The transformation of the U.S. banking system\"],[\"Governor Roger W. Ferguson, Jr.\",\"Thoughts on the start of a new year\"],[\"Governor Edward W. Kelley, Jr.\",\"Thinking about Y2K\"],[\"Chairman Alan Greenspan\",\"Financial derivatives\"],[\"Governor Roger W. Ferguson, Jr.\",\"Small business access to capital: Current status and initiatives\"],[\"Chairman Alan Greenspan\",\"The farm economy\"],[\"Governor Laurence H. Meyer\",\"Financial modernization: The issues\"],[\"Governor Edward W. Kelley, Jr.\",\"Y2K and public confidence in the banking system\"],[\"Chairman Alan Greenspan\",\"Changes in small business finance\"],[\"Chairman Alan Greenspan\",\"Mortgage finance\"],[\"Governor Edward M. Gramlich\",\"Small business access to capital and credit\"],[\"Governor Roger W. Ferguson, Jr.\",\"Global financial integration\"],[\"Vice Chair Alice M. Rivlin\",\"Learning from financial market turbulence\"],[\"Governor Roger W. Ferguson, Jr.\",\"Evolution of financial institutions and markets: Private and policy implications\"],[\"Governor Laurence H. Meyer\",\"The global economic outlook and monetary policy challenges\"],[\"Vice Chair Alice M. Rivlin\",\"Dilemmas of an economic superpower\"],[\"Chairman Alan Greenspan\",\"The interaction of education and economic change\"],[\"Governor Roger W. Ferguson, Jr.\",\"Latin America: Lessons learned from the last twenty years\"],[\"Vice Chair Alice M. Rivlin\",\"On economic literacy\"],[\"Vice Chair Alice M. Rivlin\",\"On sustaining U.S. economic growth\"],[\"Chairman Alan Greenspan\",\"The American economy in a world context\"],[\"Chairman Alan Greenspan\",\"Currency reserves and debt\"],[\"Governor Laurence H. Meyer\",\"The euro in the international financial system\"],[\"Governor Edward M. Gramlich\",\"A stabilization policy strategy\"],[\"Governor Laurence H. Meyer\",\"Structure, instability, and the world economy\"],[\"Chairman Alan Greenspan\",\"Technology and trade\"],[\"Governor Laurence H. Meyer\",\"The global economic outlook and monetary policy challenges\"],[\"Governor Roger W. Ferguson, Jr.\",\"The payments system and Year 2000\"],[\"Vice Chair Alice M. Rivlin\",\"Social Security\"],[\"Governor Laurence H. Meyer\",\"Implications of recent global financial crises for bank supervision and regulation\"],[\"Chairman Alan Greenspan\",\"Trade and technology\"],[\"Governor Roger W. Ferguson, Jr.\",\"Year 2000: Ninety-four days and counting\"],[\"Chairman Alan Greenspan\",\"Lessons from the global crises\"],[\"Governor Laurence H. Meyer\",\"An agenda for bank supervision and regulation\"],[\"Governor Roger W. Ferguson, Jr.\",\"Is information technology the key to higher productivity growth in the United States and abroad?\"],[\"Governor Edward M. Gramlich\",\"Electronic money in the United States\"],[\"Chairman Alan Greenspan\",\"Status of Y2K preparedness\"],[\"Governor Edward W. Kelley, Jr.\",\"Readiness of financial institutions for the year 2000\"],[\"Governor Edward M. Gramlich\",\"Small businesses in the U.S. economy\"],[\"Governor Roger W. Ferguson, Jr.\",\"Transparency and responsibility in monetary policy\"],[\"Governor Laurence H. Meyer\",\"Q&A on the economic outlook and the challenges facing monetary policy\"],[\"Chairman Alan Greenspan\",\"Maintaining economic vitality\"],[\"Chairman Alan Greenspan\",\"New challenges for monetary policy\"],[\"Governor Laurence H. Meyer\",\"The implications of financial modernization legislation for bank supervision\"],[\"Governor Laurence H. Meyer\",\"Start with a paradigm, end with a story: The value of model-based forecasting and policy analysis\"],[\"Chairman Alan Greenspan\",\"Business data analysis\"],[\"Governor Laurence H. Meyer\",\"The new economy meets supply and demand\"],[\"Vice Chairman Roger W. Ferguson\",\"Umbrella supervision: Emerging approaches\"],[\"Chairman Alan Greenspan\",\"Evolving challenges for bankers and supervisors\"],[\"Vice Chairman Roger W. Ferguson\",\"Community banks: Opportunities and challenges in the \\\"post modernization era\\\"\"],[\"Chairman Alan Greenspan\",\"Permanent normal trade relations with China\"],[\"Chairman Alan Greenspan\",\"Global challenges\"],[\"Chairman Alan Greenspan\",\"Structural change in the new economy\"],[\"Chairman Alan Greenspan\",\"Banking supervision\"],[\"Vice Chairman Roger W. Ferguson\",\"Some recent findings regarding the economic condition of minority Americans\"],[\"Chairman Alan Greenspan\",\"Global economic integration: Opportunities and challenges\"],[\"Chairman Alan Greenspan\",\"Globalization\"],[\"Vice Chairman Roger W. Ferguson\",\"Opportunities and challenges in community banking\"],[\"Vice Chairman Roger W. Ferguson\",\"Information technology in banking and supervision\"],[\"Vice Chairman Roger W. Ferguson\",\"Financial education: The next chapter in community development\"],[\"Chairman Alan Greenspan\",\"Challenges for monetary policymakers\"],[\"Chairman Alan Greenspan\",\"Electronic finance\"],[\"Vice Chairman Roger W. Ferguson\",\"Perspectives on innovation in the retail payments system\"],[\"Chairman Alan Greenspan\",\"Productivity and efficiency in the Federal Reserve System\"],[\"Vice Chairman Roger W. Ferguson\",\"Technology, macroeconomics, and monetary policy\"],[\"Governor Edward M. Gramlich\",\"Subprime lending, predatory lending\"],[\"Chairman Alan Greenspan\",\"Structural changes in the economy and financial markets\"],[\"Governor Edward M. Gramlich\",\"Financial literacy\"],[\"Chairman Alan Greenspan\",\"Technology and banking\"],[\"Governor Laurence H. Meyer\",\"Financial stability in emerging markets: What have we accomplished and what remains to be done?\"],[\"Governor Edward M. Gramlich\",\"Predatory lending\"],[\"Chairman Alan Greenspan\",\"The history of money\"],[\"Governor Laurence H. Meyer\",\"Rules and discretion\"],[\"Vice Chairman Roger W. Ferguson\",\"Developments in the U.S. economy: Review and outlook\"],[\"Chairman Alan Greenspan\",\"The economy\"],[\"Chairman Alan Greenspan\",\"Economic development and financial literacy\"],[\"Vice Chairman Roger W. Ferguson\",\"Why central banks should talk\"],[\"Chairman Alan Greenspan\",\"The U.S. economy\"],[\"Governor Mark W. Olson\",\"Current industry issues\"],[\"Governor Edward M. Gramlich\",\"Macroeconomic policy in recessions--and other times\"],[\"Vice Chairman Roger W. Ferguson\",\"Back to the future in managing banking risk\"],[\"Vice Chairman Roger W. Ferguson\",\"A supervisory perspective on disaster recovery and business continuity\"],[\"Governor Edward M. Gramlich\",\"Lending to lower-income households\"],[\"Governor Susan S. Bies\",\"Strengthening the financial system of the 21st century through sound accounting and disclosure\"],[\"Chairman Alan Greenspan\",\"Saving for retirement\"],[\"Vice Chairman Roger W. Ferguson\",\"A review of economic developments in 2001 and the economic outlook\"],[\"Governor Edward M. Gramlich\",\"Consumption and the wealth effect: The United States and the United Kingdom\"],[\"Governor Mark W. Olson\",\"Implementing the Gramm-Leach-Bliley Act: Two years later\"],[\"Governor Mark W. Olson\",\"Observations on the evolution of the financial services industry and public policy\"],[\"Chairman Alan Greenspan\",\"Stock options and related matters\"],[\"Governor Edward M. Gramlich\",\"Financial literacy\"],[\"Governor Mark W. Olson\",\"Risk management in a changing economic environment\"],[\"Chairman Alan Greenspan\",\"Finance: United States and global\"],[\"Governor Edward M. Gramlich\",\"CRA at twenty-five\"],[\"Chairman Alan Greenspan\",\"Corporate governance\"],[\"Governor Mark W. Olson\",\"Career development in a changing economy\"],[\"Governor Susan S. Bies\",\"Current challenges of community banks\"],[\"Governor Susan S. Bies\",\"Banking supervision and its application in developing countries\"],[\"Governor Susan S. Bies\",\"Bank performance and corporate governance\"],[\"Governor Susan S. Bies\",\"Lessons to be re-learned from recent breakdowns in corporate accounting\"],[\"Governor Mark W. Olson\",\"The dual banking system and the current condition of the banking industry\"],[\"Vice Chairman Roger W. Ferguson\",\"Community and regional banks: Increasing complexity and risk-management needs\"],[\"Governor Mark W. Olson\",\"A look at the banking industry in 2002\"],[\"Governor Mark W. Olson\",\"Financing options for small business\"],[\"Vice Chairman Roger W. Ferguson\",\"Reflections on financial literacy\"],[\"Vice Chairman Roger W. Ferguson\",\"Thoughts on success in life\"],[\"Chairman Alan Greenspan\",\"Cyclicality and banking regulation\"],[\"Vice Chairman Roger W. Ferguson\",\"Implications of 9/11 for the financial services sector\"],[\"Governor Mark W. Olson\",\"Economic change in rural America\"],[\"Governor Mark W. Olson\",\"Financial markets regulation in the United States\"],[\"Governor Edward M. Gramlich\",\"Introductory remarks\"],[\"Chairman Alan Greenspan\",\"Economic volatility\"],[\"Governor Donald L. Kohn\",\"The U.S. current account deficit\"],[\"Governor Ben S. Bernanke\",\"Deflation: Making sure \\\"it\\\" doesn't happen here\"],[\"Vice Chairman Roger W. Ferguson\",\"Financial engineering and financial stability\"],[\"Chairman Alan Greenspan\",\"International financial risk management\"],[\"Chairman Alan Greenspan\",\"Opening remarks\"],[\"Governor Mark W. Olson\",\"Overcoming challenges and seizing opportunities in Indian Country\"],[\"Governor Susan S. Bies\",\"Opening remarks\"],[\"Governor Mark W. Olson\",\"The banking industry in 2002 after a decade of change\"],[\"Vice Chairman Roger W. Ferguson\",\"Economic progress and small business\"],[\"Vice Chairman Roger W. Ferguson\",\"Recent experience and economic outlook\"],[\"Chairman Alan Greenspan\",\"The wealth of nations revisited\"],[\"Governor Ben S. Bernanke\",\"On Milton Friedman's ninetieth birthday\"],[\"Governor Edward M. Gramlich\",\"Opening remarks\"],[\"Governor Susan S. Bies\",\"Effective accounting and disclosure for financial transactions and financial institutions\"],[\"Chairman Alan Greenspan\",\"Issues for monetary policy\"],[\"Governor Mark W. Olson\",\"The importance of market structure\"],[\"Governor Susan S. Bies\",\"Credit availability for small business\"],[\"Governor Mark W. Olson\",\"Community bank performance in the twenty-first century\"],[\"Chairman Alan Greenspan\",\"Global finance: Is it slowing?\"],[\"Chairman Alan Greenspan\",\"Home mortgage market\"],[\"Governor Donald L. Kohn\",\"The strength in consumer durables and housing: policy stabilization or problem in the making?\"],[\"Governor Susan S. Bies\",\"Retirement savings, equity ownership, and challenges to investors\"],[\"Governor Ben S. Bernanke\",\"Balance sheets and the recovery\"],[\"Vice Chairman Roger W. Ferguson\",\"Rules and flexibility in monetary policy\"],[\"Governor Susan S. Bies\",\"Financial markets and corporate governance in the United States and other countries\"],[\"Governor Mark W. Olson\",\"Gramm-Leach-Bliley Act and corporate misbehavior--coincidence or contributor?\"],[\"Vice Chairman Roger W. Ferguson\",\"September 11, the Federal Reserve, and the financial system\"],[\"Governor Ben S. Bernanke\",\"\\\"Constrained discretion\\\" and monetary policy\"],[\"Governor Edward M. Gramlich\",\"Conducting monetary policy\"],[\"Governor Ben S. Bernanke\",\"A perspective on inflation targeting\"],[\"Governor Donald L. Kohn\",\"Comments on Marvin Goodfriend's \\\"Inflation Targeting in the United States?\\\"\"],[\"Vice Chairman Roger W. Ferguson\",\"Basel II: A case study in risk management\"],[\"Governor Ben S. Bernanke\",\"Will business investment bounce back?\"],[\"Governor Edward M. Gramlich\",\"Loan guarantee programs\"],[\"Governor Mark W. Olson\",\"Basel II: Its implications for second-tier and community-size banks\"],[\"Chairman Alan Greenspan\",\"The Reagan legacy\"],[\"Vice Chairman Roger W. Ferguson\",\"Basel II: A realist's perspective\"],[\"Vice Chairman Roger W. Ferguson\",\"Patent policy in a broader context\"],[\"Chairman Alan Greenspan\",\"Market economies and rule of law\"],[\"Chairman Alan Greenspan\",\"Financial education\"],[\"Chairman Alan Greenspan\",\"Community economic development\"],[\"Governor Mark W. Olson\",\"Bank management challenges in a low-interest-rate environment\"],[\"Governor Susan S. Bies\",\"Effective corporate governance and the role of counsel\"],[\"Governor Susan S. Bies\",\"The role of community bank directors in strengthening corporate governance\"],[\"Governor Ben S. Bernanke\",\"An unwelcome fall in inflation?\"],[\"Governor Ben S. Bernanke\",\"The economic outlook\"],[\"Governor Edward M. Gramlich\",\"Economic and financial education\"],[\"Chairman Alan Greenspan\",\"Monetary policy under uncertainty\"],[\"Governor Edward M. Gramlich\",\"Remarks\"],[\"Governor Ben S. Bernanke\",\"Remarks\"],[\"Governor Donald L. Kohn\",\"Panel discussion\"],[\"Governor Ben S. Bernanke\",\"Panel discussion\"],[\"Governor Edward M. Gramlich\",\"An update on the predatory lending issue\"],[\"Vice Chairman Roger W. Ferguson\",\"Remarks\"],[\"Vice Chairman Roger W. Ferguson\",\"The future of financial services--Revisited\"],[\"Governor Susan S. Bies\",\"Comments on the current state of the economy\"],[\"Governor Ben S. Bernanke\",\"Monetary policy and the stock market: Some empirical results\"],[\"Governor Edward M. Gramlich\",\"Maintaining price stability\"],[\"Chairman Alan Greenspan\",\"Financial education\"],[\"Governor Donald L. Kohn\",\"Productivity and monetary policy\"],[\"Governor Mark W. Olson\",\"Increased availability of financial products and the need for improved financial literacy\"],[\"Vice Chairman Roger W. Ferguson\",\"Concerns and Considerations for the Practical Implementation of the New Basel Accord\"],[\"Governor Mark W. Olson\",\"Functional Regulation and Financial Modernization\"],[\"Vice Chairman Roger W. Ferguson\",\"Economic Outlook\"],[\"Chairman Alan Greenspan\",\"Current Account\"],[\"Governor Edward M. Gramlich\",\"Remarks on preserving and improving affordable rental housing\"],[\"Vice Chairman Roger W. Ferguson\",\"The Proposed U.S. Approach to Regulatory Capital: An Update\"],[\"Governor Ben S. Bernanke\",\"The jobless recovery\"],[\"Chairman Alan Greenspan\",\"Remarks\"],[\"Governor Susan S. Bies\",\"Effective Market Discipline: The Roles of Auditors, Companies, and Analysts\"],[\"Chairman Alan Greenspan\",\"Remarks\"],[\"Chairman Alan Greenspan\",\"Capitalism and the role of globalization\"],[\"Chairman Alan Greenspan\",\"Economic flexibility\"],[\"Governor Ben S. Bernanke\",\"Conducting Monetary Policy at Very Low Short-Term Interest Rates\"],[\"Chairman Alan Greenspan\",\"Globalization\"],[\"Governor Donald L. Kohn\",\"The United States in the World Economy\"],[\"Vice Chairman Roger W. Ferguson\",\"Lessons from Past Productivity Booms\"],[\"Governor Ben S. Bernanke\",\"Monetary Policy and the Economic Outlook: 2004\"],[\"Governor Ben S. Bernanke\",\"Conducting Monetary Policy at Very Low Short-Term Interest Rates\"],[\"Governor Ben S. Bernanke\",\"Fedspeak\"],[\"Chairman Alan Greenspan\",\"Risk and Uncertainty in Monetary Policy\"],[\"Governor Ben S. Bernanke\",\"Euro at Five: Ready for a Global Role?\"],[\"Governor Edward M. Gramlich\",\"Budget and Trade Deficits: Linked, Both Worrisome in the Long Run, but not Twins\"],[\"Governor Edward M. Gramlich\",\"Budget and Trade Deficits: Linked, Both Worrisome in the Long Run, but not Twins\"],[\"Chairman Alan Greenspan\",\"Education\"],[\"Governor Ben S. Bernanke\",\"Money, Gold, and the Great Depression\"],[\"Chairman Alan Greenspan\",\"Current account\"],[\"Governor Mark W. Olson\",\"U.S. Banking Industry Performance Highlights--2003\"],[\"Chairman Alan Greenspan\",\"Intellectual property rights\"],[\"Governor Mark W. Olson\",\"A Regulator's View of Emerging Issues in Community Banking\"],[\"Governor Ben S. Bernanke\",\"Euro at Five: Ready for a Global Role?\"],[\"Governor Susan S. Bies\",\"The Economic Outlook and the State of Household and Business Finances\"],[\"Governor Susan S. Bies\",\"Qualitative Aspects of Effective Risk Management\"],[\"Governor Edward M. Gramlich\",\"Budget and Trade Deficits: Linked, Both Worrisome in the Long Run, but not Twins\"],[\"Chairman Alan Greenspan\",\"Understanding household debt obligations\"],[\"Chairman Alan Greenspan\",\"The critical role of education in the nation's economy\"],[\"Governor Ben S. Bernanke\",\"The Great Moderation\"],[\"Governor Susan S. Bies\",\"Financial Markets and Corporate Governance\"],[\"Governor Susan S. Bies\",\"Enterprise-wide Compliance Programs\"],[\"Governor Susan S. Bies\",\"Innovation in Financial Markets and Banking Relationships\"],[\"Chairman Alan Greenspan\",\"Energy\"],[\"Governor Susan S. Bies\",\"Current Issues in Corporate Governance\"],[\"Governor Mark W. Olson\",\"Preview of the Redesigned Series 2004 U.S. $50 Note\"],[\"Governor Ben S. Bernanke\",\"The economic outlook and monetary policy\"],[\"Vice Chairman Roger W. Ferguson\",\"Global Imbalances\"],[\"Governor Ben S. Bernanke\",\"The economic outlook and monetary policy\"],[\"Governor Susan S. Bies\",\"The Economic Outlook and Financial Health of Bank Customers\"],[\"Governor Ben S. Bernanke\",\"Financial Access for Immigrants: The Case of Remittances\"],[\"Governor Ben S. Bernanke\",\"What Policymakers Can Learn from Asset Prices\"],[\"Vice Chairman Roger W. Ferguson\",\"Macroeconomic Outlook and Uncertainties\"],[\"Governor Donald L. Kohn\",\"Monetary Policy and Imbalances\"],[\"Governor Ben S. Bernanke\",\"Financial education and Jump$tart survey\"],[\"Governor Ben S. Bernanke\",\"Trade and Jobs\"],[\"Governor Ben S. Bernanke\",\"Monetary Policy Modeling: Where Are We and Where Should We Be Going?\"],[\"Governor Donald L. Kohn\",\"Research at the Federal Reserve Board: The Contributions of Henderson, Porter, and Tinsley\"],[\"Governor Edward M. Gramlich\",\"The Board's Modeling Work in the 1960s\"],[\"Governor Donald L. Kohn\",\"Monetary Policy in a Time of Macroeconomic Transition\"],[\"Chairman Alan Greenspan\",\"Rural economic issues\"],[\"Chairman Alan Greenspan\",\"Banking\"],[\"Governor Kevin Warsh\",\"Corporate Cash Balances and Economic Activity\"],[\"Vice Chairman Donald L. Kohn\",\"Reflections on Globalization and Policies\"],[\"Governor Susan S. Bies\",\"Addressing Challenges Raised by Basel II Implementation\"],[\"Vice Chairman Donald L. Kohn\",\"Evolution of Retail Payments and the Role of the Federal Reserve\"],[\"Chairman Ben S. Bernanke\",\"Remarks\"],[\"Chairman Ben S. Bernanke\",\"Productivity\"],[\"Chairman Ben S. Bernanke\",\"Global Economic Integration: What's New and What's Not?\"],[\"Governor Susan S. Bies\",\"A Supervisory Perspective on Enterprise Risk Management\"],[\"Chairman Ben S. Bernanke\",\"Bank Regulation and Supervision: Balancing Benefits and Costs\"],[\"Governor Frederic S. Mishkin\",\"Globalization: A Force for Good?\"],[\"Governor Susan S. Bies\",\"A U.S. Supervisor's Perspective on Current Banking Issues\"],[\"Vice Chairman Donald L. Kohn\",\"Economic Outlook\"],[\"Chairman Ben S. Bernanke\",\"The Coming Demographic Transition: Will We Treat Future Generations Fairly?\"],[\"Governor Randall S. Kroszner\",\"What Drives Productivity Growth?  Implications for the Economy and Prospects for the Future\"],[\"Vice Chairman Donald L. Kohn\",\"Monetary Policy and Uncertainty\"],[\"Chairman Ben S. Bernanke\",\"Welcoming remarks\"],[\"Governor Susan S. Bies\",\"A U.S. Perspective on Basel II Implementation\"],[\"Chairman Ben S. Bernanke\",\"The Economic Outlook\"],[\"Governor Kevin Warsh\",\"Financial Markets and the Federal Reserve\"],[\"Governor Randall S. Kroszner\",\"The Conquest of Worldwide Inflation: Currency Competition and Its Implications for Interest Rates and the Yield Curve\"],[\"Chairman Ben S. Bernanke\",\"Monetary Aggregates and Monetary Policy at the Federal Reserve: A Historical Perspective\"],[\"Vice Chairman Donald L. Kohn\",\"The Evolving Role of the Federal Reserve Banks\"],[\"Governor Susan S. Bies\",\"The Economic Outlook\"],[\"Chairman Ben S. Bernanke\",\"Community Development Financial Institutions: Promoting Economic Growth and Opportunity\"],[\"Chairman Ben S. Bernanke\",\"The Chinese Economy: Progress and Challenges\"],[\"Governor Susan S. Bies\",\"Economic Outlook and Developments in Mortgage Markets \"],[\"Governor Frederic S. Mishkin\",\"Enterprise Risk Management and Mortgage Lending\"],[\"Governor Susan S. Bies\",\"Enterprise Risk Management and Mortgage Lending\"],[\"Vice Chairman Donald L. Kohn\",\"The Economic Outlook \"],[\"Chairman Ben S. Bernanke\",\"Central Banking and Bank Supervision in the United States\"],[\"Governor Randall S. Kroszner\",\"The Changing Dynamics of Inflation\"],[\"Governor Randall S. Kroszner\",\"Liquidity and monetary policy\"],[\"Vice Chairman Donald L. Kohn\",\"Comments on \\u00e2\\u0080\\u009cUnderstanding the Evolving Inflation Process\\u00e2\\u0080\\u009d by Cecchetti, Hooper, Kasman, Schoenholtz, and Watson\"],[\"Chairman Ben S. Bernanke\",\"GSE Portfolios, Systemic Risk, and Affordable Housing\"],[\"Governor Kevin Warsh\",\"Market Liquidity: Definitions and Implications\"],[\"Governor Randall S. Kroszner\",\"Community Banks: The Continuing Importance of Relationship Finance\"],[\"Chairman Ben S. Bernanke\",\"Globalization and Monetary Policy\"],[\"Governor Susan S. Bies\",\"An Update on Basel II Implementation in the United States\"],[\"Vice Chairman Donald L. Kohn\",\"Financial Stability: Preventing and Managing Crises\"],[\"Chairman Ben S. Bernanke\",\"The Level and Distribution of Economic Well-Being\"],[\"Chairman Ben S. Bernanke\",\"Embracing the Challenge of Free Trade: Competing and Prospering in a Global Economy\"],[\"Governor Frederic S. Mishkin\",\"Globalization and Financial Development\"],[\"Chairman Ben S. Bernanke\",\"Welcoming remarks\"],[\"Governor Frederic S. Mishkin\",\"The U.S. Economic Outlook\"],[\"Chairman Ben S. Bernanke\",\"Financial Regulation and the Invisible Hand\"],[\"Governor Frederic S. Mishkin\",\"Monetary Policy and the Dual Mandate\"],[\"Chairman Ben S. Bernanke\",\"The Community Reinvestment Act: Its Evolution and New Challenges\"],[\"Governor Frederic S. Mishkin\",\"Inflation Dynamics\"],[\"Vice Chairman Donald L. Kohn\",\"Asset-Pricing Puzzles, Credit Risk, and Credit Derivatives\"],[\"Governor Randall S. Kroszner\",\"Recent Innovations in Credit Markets\"],[\"Governor Frederic S. Mishkin\",\"Globalization and Financial Development\"],[\"Chairman Ben S. Bernanke\",\"The Financial Accelerator and the Credit Channel\"],[\"Governor Randall S. Kroszner\",\"Encouraging Responsible Mortgage Lending: Prospective Rulemaking Initiatives\"],[\"Governor Kevin Warsh\",\"Financial Intermediation and Complete Markets \"],[\"Chairman Ben S. Bernanke\",\"The Housing Market and Subprime Lending\"],[\"Governor Randall S. Kroszner\",\"Outlook and Risks for the U.S. Economy\"],[\"Governor Frederic S. Mishkin\",\"Estimating Potential Output\"],[\"Governor Randall S. Kroszner\",\"Creating More Effective Consumer Disclosures\"],[\"Chairman Ben S. Bernanke\",\"Recognizing Leadership\"],[\"Chairman Ben S. Bernanke\",\"The Subprime Mortgage Market\"],[\"Vice Chairman Donald L. Kohn\",\"Financial stability and policy issues\"],[\"Governor Randall S. Kroszner\",\"Globalization and Capital Markets: Implications for Inflation and the Yield Curve\"],[\"Governor Randall S. Kroszner\",\"International Capital Flows and the Emerging-Market Economies\"],[\"Chairman Ben S. Bernanke\",\"Regulation and Financial Innovation\"],[\"Governor Randall S. Kroszner\",\"The Future of Payments: Challenges and Opportunities\"],[\"Governor Randall S. Kroszner\",\"Federal Reserve Initiatives to Support Minority-Owned Institutions and Expand Consumer Protection\"],[\"Governor Randall S. Kroszner\",\"Basel II Implementation in the United States\"],[\"Chairman Ben S. Bernanke\",\"Inflation Expectations and Inflation Forecasting\"],[\"Chairman Ben S. Bernanke\",\"Challenges for Health-Care Reform\"],[\"Chairman Ben S. Bernanke\",\"Dedication of the New Federal Reserve Bank of Kansas City Building\"],[\"Governor Randall S. Kroszner\",\"Protecting Consumers in the Credit Marketplace\"],[\"Vice Chairman Donald L. Kohn\",\"Lessons for Central Bankers from a Phillips Curve Framework\"],[\"Chairman Ben S. Bernanke\",\"Outstanding Issues in the Analysis of Inflation\"],[\"Governor Randall S. Kroszner\",\"Financial Market Developments and Credit Conditions\"],[\"Chairman Ben S. Bernanke\",\"Remarks on Class Day 2008\"],[\"Chairman Ben S. Bernanke\",\"Remarks on the economic outlook\"],[\"Vice Chairman Donald L. Kohn\",\"Money Markets and Financial Stability\"],[null,\"Liquidity Provision by the Federal Reserve \"],[\"Governor Randall S. Kroszner\",\"Prospects for Recovery and Repair of Mortgage Markets \"],[\"Governor Kevin Warsh\",\"The Federal Funds Rate in Extraordinary Times\"],[\"Vice Chairman Donald L. Kohn\",\"The Economic Outlook\"],[\"Governor Frederic S. Mishkin\",\"How Should We Respond to Asset Price Bubbles? \"],[\"Chairman Ben S. Bernanke\",\"Risk Management in Financial Institutions\"],[\"Governor Randall S. Kroszner\",\"Risk Management and Basel II\"],[\"Chairman Ben S. Bernanke\",\"Liquidity Provision by the Federal Reserve\"],[\"Governor Randall S. Kroszner\",\"Mitigating the Impact of Foreclosures on Neighborhoods\"],[\"Chairman Ben S. Bernanke\",\"Mortgage Delinquencies and Foreclosures\"],[\"Governor Kevin Warsh\",\"Remarks on covered bond framework\"],[\"Governor Frederic S. Mishkin\",\"Whither Federal Reserve Communications\"],[\"Governor Randall S. Kroszner\",\"Federal Reserve's Initiatives to Support Minority-Owned Institutions and Expand Consumer Protection\"],[\"Chairman Ben S. Bernanke\",\"Financial Regulation and Financial Stability\"],[\"Governor Frederic S. Mishkin\",\"Global Financial Turmoil and the World Economy\"],[\"Vice Chairman Donald L. Kohn\",\"Global Economic Integration and Decoupling\"],[\"Vice Chairman Donald L. Kohn\",\"Comments on \\u00e2\\u0080\\u009cFinancial Regulation in a System Context,\\u00e2\\u0080\\u009d \\u00e2\\u0080\\u009cBeyond Leveraged Losses: The Balance Sheet Effects of the Home Price Downturn,\\u00e2\\u0080\\u009d and \\u00e2\\u0080\\u009cThe Central Role of House Prices in the Financial Crisis: How Will the Market Clear?\\u00e2\\u0080\\u009d\"],[\"Chairman Ben S. Bernanke\",\"Remarks on historically black colleges and universities\"],[\"Governor Randall S. Kroszner\",\"The United States in the International Financial System:  A Separate Reality? Resolving Two Puzzles in the International Accounts\"],[\"Chairman Ben S. Bernanke\",\"Reducing Systemic Risk\"],[\"Chairman Ben S. Bernanke\",\"The Crisis and the Policy Response\"],[\"Chairman Ben S. Bernanke\",\"Financial Reform to Address Systemic Risk\"],[\"Chairman Ben S. Bernanke\",\"Brief Remarks\"],[\"Governor Elizabeth A. Duke\",\"CRA: A Framework for the Future\"],[\"Chairman Ben S. Bernanke\",\"Federal Reserve Policies to Ease Credit and Their Implications for the Fed's Balance Sheet\"],[\"Governor Elizabeth A. Duke\",\"Stabilizing the Housing Market: Focus on Communities\"],[\"Governor Elizabeth A. Duke\",\"Stabilizing the Housing Market:  Next Steps\"],[\"Vice Chairman Donald L. Kohn\",\"The Economic Outlook\"],[\"Vice Chairman Donald L. Kohn\",\"Monetary Policy in the Financial Crisis\"],[\"Chairman Ben S. Bernanke\",\"Financial Innovation and Consumer Protection\"],[\"Chairman Ben S. Bernanke\",\"Four Questions about the Financial Crisis\"],[\"Governor Kevin Warsh\",\"The Panic of 2008\"],[\"Chairman Ben S. Bernanke\",\"The Federal Reserve's Balance Sheet \"],[\"Vice Chairman Donald L. Kohn\",\"Policies to Bring Us Out of the Financial Crisis and Recession\"],[\"Governor Elizabeth A. Duke\",\"A Framework for Analyzing Bank Lending\"],[\"Chairman Ben S. Bernanke\",\"The Financial Crisis and Community Banking\"],[\"Chairman Ben S. Bernanke\",\"Community Development Financial Institutions: Challenges and Opportunities\"],[\"Governor Kevin Warsh\",\"Defining Deviancy\"],[\"Governor Elizabeth A. Duke\",\"Containing the Crisis and Promoting Economic Recovery\"],[\"Governor Daniel K. Tarullo\",\"Large Banks and Small Banks in an Era of Systemic Risk Regulation\"],[\"Governor Elizabeth A. Duke\",\"The Systemic Importance of Consumer Protection\"],[\"Governor Daniel K. Tarullo\",\"Financial Regulation in the Wake of the Crisis\"],[\"Chairman Ben S. Bernanke\",\"Welcoming Remarks\"],[\"Vice Chairman Donald L. Kohn\",\"Interactions between Monetary and Fiscal Policy in the Current Situation\"],[\"Chairman Ben S. Bernanke\",\"Commencement address\"],[\"Chairman Ben S. Bernanke\",\"The Supervisory Capital Assessment Program\"],[\"Chairman Ben S. Bernanke\",\"Lessons of the Financial Crisis for Banking Supervision\"],[\"Vice Chairman Donald L. Kohn\",\"Comments on \\\"Financial Intermediation and the Post-Crisis Financial System\\\"\"],[\"Governor Elizabeth A. Duke\",\"Federal Reserve's Initiatives to Support Minority-Owned Institutions \"],[\"Chairman Ben S. Bernanke\",\"Brief Remarks\"],[null,\"Reflections on a Year of Crisis \"],[\"Governor Elizabeth A. Duke\",\"Regulatory Perspectives on the Changing Accounting Landscape\"],[\"Vice Chairman Donald L. Kohn\",\"Comments on \\\"Interpreting the Unconventional U.S. Monetary Policy of 2007-2009\\\"\"],[\"Governor Daniel K. Tarullo\",\"The Community Affairs Function at the Federal Reserve\"],[\"Chairman Ben S. Bernanke\",\"Reflections on a Year of Crisis\"],[\"Governor Daniel K. Tarullo\",\"Incentive Compensation, Risk Management, and Safety and Soundness\"],[\"Vice Chairman Donald L. Kohn\",\"International Perspective on the Crisis and Response\"],[\"Chairman Ben S. Bernanke\",\"Financial Regulation and Supervision after the Crisis: The Role of the Federal Reserve\"],[\"Governor Daniel K. Tarullo\",\"Confronting Too Big to Fail\"],[\"Chairman Ben S. Bernanke\",\"Asia and the Global Financial Crisis\"],[\"Vice Chairman Donald L. Kohn\",\"The Economic Outlook\"],[\"Vice Chairman Donald L. Kohn\",\"Monetary Policy Research and the Financial Crisis: Strengths and Shortcomings\"],[\"Chairman Ben S. Bernanke\",\"The Federal Reserve's Balance Sheet: An Update\"],[\"Governor Daniel K. Tarullo\",\"In the Wake of the Crisis\"],[\"Vice Chairman Donald L. Kohn\",\"Central Bank Exit Policies\"],[\"Governor Kevin Warsh\",\"Longer Days, Fewer Weekends\"],[\"Chairman Ben S. Bernanke\",\"Brief Remarks\"],[\"Governor Elizabeth A. Duke\",\"Envisioning a Future for Housing Finance\"],[\"Governor Elizabeth A. Duke\",\"Keys to Successful Neighborhood Stabilization\"],[\"Chairman Ben S. Bernanke\",\"Frequently Asked Questions\"],[\"Vice Chairman Donald L. Kohn\",\"Policy Challenges for the Federal Reserve\"],[\"Chairman Ben S. Bernanke\",\"On the Outlook for the Economy and Policy\"],[\"Governor Daniel K. Tarullo\",\"Supervising and Resolving Large Financial Institutions\"],[\"Governor Daniel K. Tarullo\",\"Financial Regulation: Past and Future\"],[\"Governor Elizabeth A. Duke\",\"The Economic Outlook\"],[\"Chairman Ben S. Bernanke\",\"Monetary Policy and the Housing Bubble\"],[\"Vice Chairman Donald L. Kohn\",\"Monetary Policy in the Crisis: Past, Present, and Future\"],[\"Governor Daniel K. Tarullo\",\"Financial Regulatory Reform\"],[\"Governor Elizabeth A. Duke\",\"Unusual and Exigent: My First Year at the Fed\"],[\"Chairman Ben S. Bernanke\",\"Swearing-In Ceremony Remarks\"],[\"Governor Kevin Warsh\",\"Regulation and Its Discontents\"],[\"Vice Chairman Donald L. Kohn\",\"Focusing on Bank Interest Rate Risk Exposure\"],[\"Chairman Ben S. Bernanke\",\"Achieving Fiscal Sustainability\"],[\"Chairman Ben S. Bernanke\",\"Brief Remarks\"],[\"Governor Elizabeth A. Duke\",\"Issues in Economic Development\"],[\"Chairman Ben S. Bernanke\",\"Fostering Financial Literacy\"],[\"Governor Daniel K. Tarullo\",\"Involving Markets and the Public in Financial Regulation\"],[\"Chairman Ben S. Bernanke\",\"Economic Policy:  Lessons from History\"],[\"Vice Chairman Donald L. Kohn\",\"The Economic Outlook\"],[\"Governor Daniel K. Tarullo\",\"The Present and Future of Community Banking\"],[\"Governor Elizabeth A. Duke\",\"The Importance of Financial Education\"],[\"Chairman Ben S. Bernanke\",\"Economic Challenges: Past, Present, and Future\"],[\"Governor Elizabeth A. Duke\",\"Restoring Credit to Communities\"],[\"Governor Daniel K. Tarullo\",\"Lessons from the Crisis Stress Tests\"],[\"Governor Kevin Warsh\",\"An Ode to Independence\"],[\"Vice Chairman Donald L. Kohn\",\"Homework Assignments for Monetary Policymakers\"],[\"Chairman Ben S. Bernanke\",\"Preserving a Central Role for Community Banking\"],[\"Governor Daniel K. Tarullo\",\"Toward an Effective Resolution Regime for Large Financial Institutions\"],[\"Chairman Ben S. Bernanke\",\"Remarks on \\\"The Squam Lake Report: Fixing the Financial System\\\"\"],[\"Chairman Ben S. Bernanke\",\"Fostering Workforce Development\"],[\"Governor Elizabeth A. Duke\",\"Moving Beyond the Financial Crisis\"],[\"Chairman Ben S. Bernanke\",\"Brief Remarks\"],[\"Chairman Ben S. Bernanke\",\"The Policy Response to the Crisis in Korea and Other Emerging Market Economies\"],[\"Chairman Ben S. Bernanke\",\"Central Bank Independence, Transparency, and Accountability\"],[\"Vice Chairman Donald L. Kohn\",\"The Federal Reserve's Policy Actions during the Financial Crisis and Lessons for the Future\"],[\"Vice Chairman Donald L. Kohn\",\"Global Imbalances\"],[\"Chairman Ben S. Bernanke\",\"The Economics of Happiness\"],[\"Chairman Ben S. Bernanke\",\"The Supervisory Capital Assessment Program--One Year Later\"],[\"Governor Elizabeth A. Duke\",\"Women and Money: Challenging the Myths\"],[\"Chairman Ben S. Bernanke\",\"Challenges for the Economy and State Governments\"],[\"Governor Elizabeth A. Duke\",\"Opening Remarks\"],[\"Governor Elizabeth A. Duke\",\"Small Business Credit: Next Steps\"],[\"Chairman Ben S. Bernanke\",\"Restoring the Flow of Credit to Small Businesses\"],[\"Governor Elizabeth A. Duke\",\"Fostering a Healthy Credit Environment\"],[\"Governor Kevin Warsh\",\" It's Greek to Me\"],[\"Governor Daniel K. Tarullo\",\"Comments on \\\"Regulating the Shadow Banking System\\\"\"],[\"Governor Elizabeth A. Duke\",\"Stabilizing Neighborhoods:  Lessons Learned from the Field\"],[\"Chairman Ben S. Bernanke\",\"The Economic Outlook and Monetary Policy\"],[\"Chairman Ben S. Bernanke\",\"Welcoming Remarks\"],[\"Governor Elizabeth A. Duke\",\"Come with Me to the FOMC\"],[\"Chairman Ben S. Bernanke\",\"Brief Remarks\"],[\"Chairman Ben S. Bernanke\",\"Monetary Policy Objectives and Tools in a Low-Inflation Environment\"],[\"Vice Chair Janet L. Yellen\",\"Macroprudential Supervision and Monetary Policy in the Post-crisis World\"],[\"Chairman Ben S. Bernanke\",\"Fiscal Sustainability and Fiscal Rules\"],[\"Chairman Ben S. Bernanke\",\"Welcoming Remarks\"],[\"Chairman Ben S. Bernanke\",\" Implications of the Financial Crisis for Economics\"],[\"Governor Elizabeth A. Duke\",\"Opening Remarks\"],[\"Governor Elizabeth A. Duke\",\"Developments in the Landscape for Consumer Credit and Payments\"],[\"Vice Chair Janet L. Yellen\",\"Fiscal Responsibility and Global Rebalancing\"],[\"Chairman Ben S. Bernanke\",\"Emerging from the Crisis: Where Do We Stand?\"],[\"Chairman Ben S. Bernanke\",\"Rebalancing the Global Recovery\"],[\"Governor Sarah Bloom Raskin\",\"Problems in the Mortgage Servicing Industry\"],[\"Governor Daniel K. Tarullo\",\"Next Steps in Financial Regulatory Reform\"],[\"Governor Kevin Warsh\",\"Rejecting the Requiem\"],[\"Vice Chair Janet L. Yellen\",\"The Federal Reserve's Asset Purchase Program\"],[\"Governor Elizabeth A. Duke\",\"The Economic Outlook\"],[\"Vice Chair Janet L. Yellen\",\"Improving the International Monetary and Financial System\"],[\"Chairman Ben S. Bernanke\",\"Challenges for State and Local Governments\"],[\"Vice Chair Janet L. Yellen\",\"Unconventional Monetary Policy and Central Bank Communications\"],[\"Chairman Ben S. Bernanke\",\"Global Imbalances: Links to Economic and Financial Stability\"],[\"Governor Sarah Bloom Raskin\",\"Putting the Low Road Behind Us\"],[\"Chairman Ben S. Bernanke\",\"The Economic Outlook and Macroeconomic Policy\"],[\"Governor Elizabeth A. Duke\",\"From Community Banker to Central Banker--My Journey\"],[\"Chairman Ben S. Bernanke\",\"Housing Markets in Transition\"],[\"Governor Elizabeth A. Duke\",\"Small Business Credit Availability\"],[\"Vice Chair Janet L. Yellen\",\"Commodity Prices, the Economic Outlook, and Monetary Policy\"],[\"Governor Sarah Bloom Raskin\",\"Community Bankers and Supervisors: Seeking Balance\"],[\"Chairman Ben S. Bernanke\",\"Clearinghouses, Financial Stability, and Financial Reform\"],[\"Governor Daniel K. Tarullo\",\"Regulating Systemic Risk\"],[\"Governor Elizabeth A. Duke\",\"Changed Circumstances: The Impact of the Financial Crisis on the Economic Condition of Workers Near Retirement and of Business Owners\"],[\"Chairman Ben S. Bernanke\",\"Community Banking in a Period of Recovery and Change\"],[\"Chairman Ben S. Bernanke\",\"Fiscal Sustainability\"],[\"Vice Chair Janet L. Yellen\",\"Housing Market Developments and Their Effects on Low- and Moderate-Income Neighborhoods\"],[\"Chairman Ben S. Bernanke\",\"The U.S. Economic Outlook\"],[\"Governor Daniel K. Tarullo\",\"Regulating Systemically Important Financial Firms\"],[\"Vice Chair Janet L. Yellen\",\"Assessing Potential Financial Imbalances in an Era of Accommodative Monetary Policy\"],[\"Governor Elizabeth A. Duke\",\"Research, Policy, and the Future of Financial Education\"],[\"Chairman Ben S. Bernanke\",\"Promoting Research and Development: The Government's Role\"],[\"Chairman Ben S. Bernanke\",\"Brief remarks\"],[\"Governor Elizabeth A. Duke\",\"Fostering Innovation in Community Development Finance\"],[\"Vice Chair Janet L. Yellen\",\"Reaping the Full Benefits of Financial Openness\"],[\"Chairman Ben S. Bernanke\",\"Implementing a Macroprudential Approach to Supervision and Regulation\"],[\"Chairman Ben S. Bernanke\",\"Community Development in Challenging Times\"],[\"Governor Elizabeth A. Duke\",\"Community Voices: Promising Practices for Neighborhood Stabilization\"],[\"Governor Sarah Bloom Raskin\",\"Economic and Financial Inclusion in 2011: What it Means for Americans and our Economic Recovery\"],[\"Governor Daniel K. Tarullo\",\"Industrial Organization and Systemic Risk: An Agenda for Further Research\"],[\"Chairman Ben S. Bernanke\",\"Opening Remarks\"],[\"Chairman Ben S. Bernanke\",\"The U.S. Economic Outlook\"],[\"Governor Elizabeth A. Duke\",\"Rebalancing the Housing Market\"],[\"Chairman Ben S. Bernanke\",\"The Near- and Longer-Term Prospects for the U.S. Economy\"],[\"Governor Elizabeth A. Duke\",\"The Federal Reserve System and Individual Financial Planning\"],[\"Vice Chair Janet L. Yellen\",\"The Outlook for the U.S. Economy and Economic Policy\"],[\"Governor Daniel K. Tarullo\",\"Unemployment, the Labor Market, and the Economy\"],[\"Chairman Ben S. Bernanke\",\"The Effects of the Great Recession on Central Bank Doctrine and Practice\"],[\"Governor Sarah Bloom Raskin\",\"Legal Opportunities and Challenges in Crafting a Foreclosure Response\"],[\"Chairman Ben S. Bernanke\",\"Lessons from Emerging Market Economies on the Sources of Sustained Growth\"],[\"Governor Sarah Bloom Raskin\",\"Monetary Policy and Job Creation\"],[\"Vice Chair Janet L. Yellen\",\"Aggregate Demand and the Global Economic Recovery\"],[\"Vice Chair Janet L. Yellen\",\"Pursuing Financial Stability at the Federal Reserve\"],[\"Chairman Ben S. Bernanke\",\"Town Hall Meeting Remarks\"],[\"Governor Daniel K. Tarullo\",\"The Evolution of Capital Regulation\"],[\"Chairman Ben S. Bernanke\",\"Welcoming Remarks\"],[\"Governor Daniel K. Tarullo\",\"The International Agenda for Financial Regulation\"],[\"Governor Elizabeth A. Duke\",\"From Community Banker to Central Banker--My Journey\"],[\"Governor Elizabeth A. Duke\",\"Opportunities to Reduce Regulatory Burden and Improve Credit Availability\"],[\"Governor Sarah Bloom Raskin\",\"Creating and Implementing an Enforcement Response to the Foreclosure Crisis\"],[\"Governor Sarah Bloom Raskin\",\"Community Bank Examination and Supervision amid Economic Recovery\"],[\"Governor Elizabeth A. Duke\",\"Economic Developments, Risks to the Outlook, and Housing Market Policies\"],[\"Governor Sarah Bloom Raskin\",\"Accommodative Monetary Policy and Its Effects on Savers\"],[\"Chairman Ben S. Bernanke\",\"Community Banking\"],[\"Chairman Ben S. Bernanke\",\"Some Reflections on the Crisis and the Policy Response\"],[\"Governor Sarah Bloom Raskin\",\"Downturns and Recoveries: What the Economies in Los Angeles and the United States Tell Us\"],[\"Vice Chair Janet L. Yellen\",\"The Economic Outlook and Monetary Policy\"],[\"Governor Daniel K. Tarullo\",\"Developing Tools for Dynamic Capital Supervision\"],[\"Chairman Ben S. Bernanke\",\"Fostering Financial Stability\"],[\"Governor Elizabeth A. Duke\",\"Building Sustainable Communities\"],[\"Chairman Ben S. Bernanke\",\"Recent Developments in the Labor Market\"],[\"Chairman Ben S. Bernanke\",\"Opening Remarks\"],[\"Chairman Ben S. Bernanke\",\"Community Banking\"],[\"Governor Daniel K. Tarullo\",\"Shadow Banking After the Financial Crisis\"],[\"Vice Chair Janet L. Yellen\",\"Perspectives on Monetary Policy\"],[\"Governor Elizabeth A. Duke\",\"Prescriptions for Housing Recovery\"],[\"Chairman Ben S. Bernanke\",\"Banks and Bank Lending: The State of Play\"],[\"Governor Daniel K. Tarullo\",\"Regulatory Reform since the Financial Crisis\"],[\"Governor Sarah Bloom Raskin\",\"How Well Is Our Financial System Serving Us? Working Together to Find the High Road\"],[\"Chairman Ben S. Bernanke\",\"Early Childhood Education\"],[\"Governor Elizabeth A. Duke\",\"Central Bank Cooperation in Times of Crisis\"],[\"Chairman Ben S. Bernanke\",\"Monetary Policy since the Onset of the Crisis\"],[\"Chairman Ben S. Bernanke\",\"Financial Education\"],[\"Chairman Ben S. Bernanke\",\"Economic Measurement\"],[\"Chairman Ben S. Bernanke\",\"U.S. Monetary Policy and International Implications\"],[\"Governor Jeremy C. Stein\",\"Evaluating Large-Scale Asset Purchases\"],[\"Vice Chair Janet L. Yellen\",\"Japan in the Global Economy II\"],[\"Governor Daniel K. Tarullo\",\"Financial Stability Regulation\"],[\"Governor Elizabeth A. Duke\",\"Addressing Long-Term Vacant Properties to Support Neighborhood Stabilization\"],[\"Chairman Ben S. Bernanke\",\"Five Questions about the Federal Reserve and Monetary Policy\"],[\"Governor Daniel K. Tarullo\",\"Industry Structure and Systemic Risk Regulation\"],[\"Governor Jeremy C. Stein\",\"Large-Scale Asset Purchases\"],[\"Governor Daniel K. Tarullo\",\"Regulation of Foreign Banking Organizations\"],[\"Chairman Ben S. Bernanke\",\"The Economic Recovery and Economic Policy\"],[\"Chairman Ben S. Bernanke\",\"Challenges in Housing and Mortgage Markets\"],[\"Vice Chair Janet L. Yellen\",\"Revolution and Evolution in Central Bank Communications\"],[\"Governor Elizabeth A. Duke\",\"Community Banks and Mortgage Lending\"],[\"Governor Jeremy C. Stein\",\"Dollar Funding and Global Banks\"],[\"Vice Chair Janet L. Yellen\",\"Interconnectedness and Systemic Risk:  Lessons from the Financial Crisis and Policy Implications\"],[\"Governor Elizabeth A. Duke\",\"Comments on Housing and Mortgage Markets\"],[\"Governor Jerome H. Powell\",\"Ending \\\"Too Big to Fail\\\"\"],[\"Vice Chair Janet L. Yellen\",\"Challenges Confronting Monetary Policy\"],[\"Chairman Ben S. Bernanke\",\"Long-Term Interest Rates\"],[\"Governor Sarah Bloom Raskin\",\"Reflections on Reputation and its Consequences\"],[\"Governor Daniel K. Tarullo\",\"International Cooperation in Financial Regulation\"],[\"Governor Jerome H. Powell\",\"Discussion of \\\"Crunch Time: Fiscal Crises and the Role of Monetary Policy\\\"\"],[\"Vice Chair Janet L. Yellen\",\"A Painfully Slow Recovery for America's Workers: Causes, Implications, and the Federal Reserve's Response\"],[\"Governor Jeremy C. Stein\",\"Overheating in Credit Markets: Origins, Measurement, and Policy Responses\"],[\"Governor Elizabeth A. Duke\",\"The Future of Community Banking\"],[\"Governor Jeremy C. Stein\",\"Liquidity Regulation and Central Banking\"],[\"Governor Sarah Bloom Raskin\",\"Aspects of Inequality in the Recent Business Cycle\"],[\"Governor Jeremy C. Stein\",\"Regulating Large Financial Institutions\"],[\"Vice Chair Janet L. Yellen\",\"Panel Discussion on \\\"Monetary Policy: Many Targets, Many Instruments. Where Do We Stand?\\\"\"],[\"Chairman Ben S. Bernanke\",\"Creating Resilient Communities\"],[\"Chairman Ben S. Bernanke\",\"Stress Testing Banks: What Have We Learned?\"],[\"Vice Chair Janet L. Yellen\",\"Communication in Monetary Policy\"],[\"Chairman Ben S. Bernanke\",\"Financial and Economic Education\"],[\"Chairman Ben S. Bernanke\",\"Monetary Policy and the Global Economy\"],[\"Governor Sarah Bloom Raskin\",\"Focusing on Low- and Moderate-Income Working Americans\"],[\"Governor Sarah Bloom Raskin\",\"Let's Move Forward: The Case for Timely Implementation of Revised Capital Rules\"],[\"Vice Chair Janet L. Yellen\",\"Regulatory Landscapes: A U.S. Perspective\"],[\"Chairman Ben S. Bernanke\",\"The Ten Suggestions\"],[\"Chairman Ben S. Bernanke\",\"Economic Prospects for the Long Run\"],[\"Governor Sarah Bloom Raskin\",\"Prospects for a Stronger Recovery\"],[\"Chairman Ben S. Bernanke\",\"Monitoring the Financial System\"],[\"Governor Elizabeth A. Duke\",\"A View from the Federal Reserve Board: The Mortgage Market and Housing Conditions\"],[\"Governor Daniel K. Tarullo\",\"Evaluating Progress in Regulatory Reforms to Promote Financial Stability\"],[\"Governor Sarah Bloom Raskin\",\"Beyond Capital: The Case for a Harmonized Response to Asset Bubbles\"],[\"Chairman Ben S. Bernanke\",\"A Century of U.S. Central Banking: Goals, Frameworks, Accountability\"],[\"Governor Jerome H. Powell\",\"International Financial Regulatory Reform\"],[\"Governor Jeremy C. Stein\",\"Comments on Monetary Policy\"],[\"Governor Jerome H. Powell\",\"Thoughts on Unconventional Monetary Policy\"],[\"Governor Daniel K. Tarullo\",\"Toward Building a More Effective Resolution Regime: Progress and Challenges\"],[\"Governor Jeremy C. Stein\",\"Lean, Clean, and In-Between\"],[\"Chairman Ben S. Bernanke\",\"Celebrating 20 Years of the Bank of Mexico's Independence\"],[\"Governor Jerome H. Powell\",\"Communications Challenges and Quantitative Easing\"],[\"Governor Jeremy C. Stein\",\"The Fire-Sales Problem and Securities Financing Transactions\"],[\"Governor Jerome H. Powell\",\"Community Banking: Connecting Research and Policy\"],[\"Chairman Ben S. Bernanke\",\"Brief Welcoming Remarks\"],[\"Governor Jeremy C. Stein\",\"Yield-Oriented Investors and the Monetary Transmission Mechanism\"],[\"Governor Daniel K. Tarullo\",\"Macroprudential Regulation\"],[\"Chairman Ben S. Bernanke\",\"Concluding Remarks\"],[\"Chairman Ben S. Bernanke\",\"Opening Remarks\"],[\"Governor Daniel K. Tarullo\",\"Shadow Banking and Systemic Risk Regulation\"],[\"Governor Jerome H. Powell\",\"OTC Market Infrastructure Reform:  Opportunities and Challenges\"],[\"Chairman Ben S. Bernanke\",\"Communication and Monetary Policy\"],[\"Chairman Ben S. Bernanke\",\"40th Anniversary of the Annual Conference of the Union of Arab Banks\"],[\"Chairman Ben S. Bernanke\",\"Teaching and Learning about the Federal Reserve\"],[\"Chairman Ben S. Bernanke\",\"The Crisis as a Classic Financial Panic\"],[\"Governor Jeremy C. Stein\",\"The Fire-Sales Problem and Securities Financing Transactions\"],[\"Governor Jerome H. Powell\",\"Advanced Economy Monetary Policy and Emerging Market Economies\"],[\"Chairman Ben S. Bernanke\",\"The Federal Reserve:  Looking Back, Looking Forward\"],[\"Governor Jeremy C. Stein\",\"Banks as Patient Debt Investors\"],[\"Governor Jeremy C. Stein\",\"Comments on \\\"Market Tantrums and Monetary Policy\\\"\"],[\"Governor Daniel K. Tarullo\",\"Monetary Policy and Financial Stability\"],[\"Chair Janet L. Yellen\",\"Remarks at the Ceremonial Swearing-in\"],[\"Chair Janet L. Yellen\",\"Monetary Policy and the Economic Recovery\"],[\"Chair Janet L. Yellen\",\"Opening Remarks\"],[\"Governor Daniel K. Tarullo\",\"Longer-Term Challenges for the American Economy\"],[\"Chair Janet L. Yellen\",\"What the Federal Reserve Is Doing to Promote a Stronger Job Market\"],[\"Governor Daniel K. Tarullo\",\"Regulating Large Foreign Banking Organizations\"],[\"Chair Janet L. Yellen\",\"Remarks on Women's History Month\"],[\"Governor Jeremy C. Stein\",\"Welcoming Remarks\"],[\"Governor Jeremy C. Stein\",\"Incorporating Financial Stability Considerations into a Monetary Policy Framework\"],[\"Governor Daniel K. Tarullo\",\"Corporate Governance and Prudential Regulation\"],[\"Governor Jerome H. Powell\",\"A Conversation on Central Banking Issues\"],[\"Chair Janet L. Yellen\",\"Commencement Remarks\"],[\"Chair Janet L. Yellen\",\"Small Businesses and the Recovery\"],[\"Governor Daniel K. Tarullo\",\"Rethinking the Aims of Prudential Regulation\"],[\"Governor Jeremy C. Stein\",\"Challenges for Monetary Policy Communication\"],[\"Chair Janet L. Yellen\",\"Tailored Supervision of Community Banks\"],[\"Vice Chairman Stanley Fischer\",\"Financial Sector Reform: How Far Are We?\"],[\"Chair Janet L. Yellen\",\"Monetary Policy and Financial Stability\"],[\"Governor Daniel K. Tarullo\",\"Stress Testing after Five Years\"],[\"Governor Jerome H. Powell\",\"Reforming U.S. Dollar LIBOR:  The Path Forward\"],[\"Chair Janet L. Yellen\",\"Labor Market Dynamics and Monetary Policy\"],[\"Vice Chairman Stanley Fischer\",\"The Great Recession: Moving Ahead\"],[\"Governor Daniel K. Tarullo\",\"Good Compliance, Not Mere Compliance\"],[\"Governor Jerome H. Powell\",\"Opening Remarks\"],[\"Chair Janet L. Yellen\",\"Perspectives on Inequality and Opportunity from the Survey of Consumer Finances\"],[\"Vice Chairman Stanley Fischer\",\"The Federal Reserve and the Global Economy\"],[\"Governor Jerome H. Powell\",\"Remarks on \\\"Government Debt Management at the Zero Lower Bound\\\"\"],[\"Governor Jerome H. Powell\",\"Introductory Remarks\"],[\"Chair Janet L. Yellen\",\"The Importance of Asset Building for Low and Middle Income Households\"],[\"Governor Lael Brainard\",\"The Federal Reserve's Financial Stability Agenda\"],[\"Governor Lael Brainard\",\"Opening Remarks\"],[\"Governor Daniel K. Tarullo\",\"Liquidity Regulation\"],[\"Governor Jerome H. Powell\",\"Monetary Policy Accommodation, Risk-Taking, and Spillovers\"],[\"Governor Daniel K. Tarullo\",\"A Tiered Approach to Regulation and Supervision of Community Banks\"],[\"Chair Janet L. Yellen\",\"Remarks at the Panel Discussion on \\\"Shaping the Future of the Macroeconomic Policy Mix\\\"\"],[\"Governor Jerome H. Powell\",\"A Financial System Perspective on Central Clearing of Derivatives\"],[\"Chair Janet L. Yellen\",\"Welcoming Remarks\"],[\"Governor Jerome H. Powell\",\"Comments on the Fair and Effective Markets Review\"],[\"Chair Janet L. Yellen\",\"Improving the Oversight of Large Financial Institutions\"],[\"Vice Chairman Stanley Fischer\",\"Conducting Monetary Policy with a Large Balance Sheet\"],[\"Governor Jerome H. Powell\",\"Financial Institutions, Financial Markets, and Financial Stability\"],[\"Governor Jerome H. Powell\",\"\\\"Audit the Fed\\\" and Other Proposals\"],[\"Governor Jerome H. Powell\",\"Welcoming Remarks\"],[\"Governor Daniel K. Tarullo\",\"Advancing Macroprudential Policy Objectives\"],[\"Governor Jerome H. Powell\",\"Remarks on Monetary Policy\"],[\"Governor Lael Brainard\",\"Coming of Age in the Great Recession\"],[\"Chair Janet L. Yellen\",\"Opening Remarks\"],[\"Vice Chairman Stanley Fischer\",\"Nonbank Financial Intermediation, Financial Stability, and the Road Forward\"],[\"Vice Chairman Stanley Fischer\",\"The Importance of the Nonbank Financial Sector\"],[\"Chair Janet L. Yellen\",\"Normalizing Monetary Policy:  Prospects and Perspectives\"],[\"Vice Chairman Stanley Fischer\",\"Monetary Policy Lessons and the Way Ahead\"],[\"Governor Lael Brainard\",\"The U.S. Economic Outlook and Implications for Monetary Policy\"],[\"Vice Chairman Stanley Fischer\",\"What have we learned from the crises of the last 20 years?\"],[\"Vice Chairman Stanley Fischer\",\"The Federal Reserve and the Global Economy\"],[\"Chair Janet L. Yellen\",\"The Outlook for the Economy\"],[\"Vice Chairman Stanley Fischer\",\"Past, Present, and Future Challenges for the Euro Area\"],[\"Governor Jerome H. Powell\",\"Regulation and Supervision of Community Banks\"],[\"Chair Janet L. Yellen\",\"Finance and Society\"],[\"Governor Daniel K. Tarullo\",\"Opening Remarks\"],[\"Governor Daniel K. Tarullo\",\"Tailoring Community Bank Regulation and Supervision\"],[\"Chair Janet L. Yellen\",\"Recent Developments and the Outlook for the Economy\"],[\"Governor Lael Brainard\",\"Dodd-Frank at Five: Assessing Progress on Too Big to Fail\"],[\"Governor Lael Brainard\",\"Recent Changes in the Resilience of Market Liquidity\"],[\"Vice Chairman Stanley Fischer\",\"Monetary Policy in the United States and in Developing Countries\"],[\"Governor Jerome H. Powell\",\"Building a Safer Payment System\"],[\"Vice Chairman Stanley Fischer\",\"Supervisory Stress Testing of Large Systemic Financial Institutions\"],[\"Vice Chairman Stanley Fischer\",\"U.S. Inflation Developments\"],[\"Governor Jerome H. Powell\",\"Structure and Liquidity in Treasury Markets\"],[\"Chair Janet L. Yellen\",\"Brief Remarks\"],[\"Governor Jerome H. Powell\",\"The Evolving Structure of U.S. Treasury Markets\"],[\"Governor Lael Brainard\",\"Identifying Opportunities for Reducing Regulatory Burdens on Community Banks\"],[\"Governor Lael Brainard\",\"Economic Outlook and Monetary Policy\"],[\"Vice Chairman Stanley Fischer\",\"U.S. Economy and Monetary Policy\"],[\"Vice Chairman Stanley Fischer\",\"Macroprudential Policy in the U.S. Economy\"],[\"Governor Lael Brainard\",\"Community Banks, Small Business Credit, and Online Lending\"],[\"Chair Janet L. Yellen\",\"Welcoming Remarks\"],[\"Governor Daniel K. Tarullo\",\"Capital Regulation Across Financial Intermediaries\"],[\"Chair Janet L. Yellen\",\"Inflation Dynamics and Monetary Policy\"],[\"Vice Chairman Stanley Fischer\",\"Monetary Policy, Financial Stability, and the Zero Lower Bound\"],[\"Governor Lael Brainard\",\"The Use of Distributed Ledger Technologies in Payment, Clearing, and Settlement\"],[\"Chair Janet L. Yellen\",\"The Outlook, Uncertainty, and Monetary Policy\"],[\"Governor Lael Brainard\",\"An Update on the Outlook, Liquidity, and Resilience\"],[\"Vice Chairman Stanley Fischer\",\"Reflections on Macroeconomics Then and Now\"],[\"Governor Lael Brainard\",\"What Happened to the Great Divergence?\"],[\"Governor Jerome H. Powell\",\"Discussion of the paper \\\"Language after Liftoff: Fed Communication Away from the Zero Lower Bound\\\"\"],[\"Vice Chairman Stanley Fischer\",\"Recent Monetary Policy Developments\"],[\"Vice Chairman Stanley Fischer\",\"The Lender of Last Resort Function in the United States\"],[\"Vice Chairman Stanley Fischer\",\"Recent Monetary Policy\"],[\"Chair Janet L. Yellen\",\"Current Conditions and the Outlook for the U.S. Economy\"],[\"Governor Lael Brainard\",\"The Economic Outlook and Implications for Monetary Policy\"],[\"Governor Jerome H. Powell\",\"Recent Economic Developments, the Productive Potential of the Economy, and Monetary Policy\"],[\"Governor Daniel K. Tarullo\",\"Insurance Companies and the Role of the Federal Reserve\"],[\"Vice Chairman Stanley Fischer\",\"(Money), Interest and Prices: Patinkin and Woodford\"],[\"Governor Daniel K. Tarullo\",\"Opening Remarks\"],[\"Governor Jerome H. Powell\",\"Recent Economic Developments, Monetary Policy Considerations and Longer-term Prospects\"],[\"Vice Chairman Stanley Fischer\",\"Comments on the Resolution Framework for Banks and Bank Holding Companies in the United States\"],[\"Governor Jerome H. Powell\",\"Introductory Comments\"],[\"Governor Lael Brainard\",\"The \\\"New Normal\\\" and What It Means for Monetary Policy\"],[\"Chair Janet L. Yellen\",\"The Federal Reserve's Monetary Policy Toolkit: Past, Present, and Future\"],[\"Vice Chairman Stanley Fischer\",\"Remarks on the U.S. Economy\"],[\"Governor Jerome H. Powell\",\"Opening Remarks on Government Securities Settlement\"],[\"Governor Daniel K. Tarullo\",\"Pedagogy and Scholarship in a Post-Crisis World\"],[\"Vice Chairman Stanley Fischer\",\"Why Are Interest Rates So Low? Causes and Implications\"],[\"Chair Janet L. Yellen\",\"Macroeconomic Research After the Crisis\"],[\"Vice Chairman Stanley Fischer\",\"The U.S. Economy and Monetary Policy \"],[\"Governor Lael Brainard\",\"Distributed Ledger Technology: Implications for Payments, Clearing, and Settlement\"],[\"Vice Chairman Stanley Fischer\",\"Low Interest Rates\"],[\"Chair Janet L. Yellen\",\"Brief Remarks\"],[\"Governor Jerome H. Powell\",\"Trends in Community Bank Performance over the Past 20 Years\"],[\"Vice Chairman Stanley Fischer\",\"Why Study Economics?\"],[\"Governor Daniel K. Tarullo\",\"Next Steps in the Evolution of Stress Testing\"],[\"Chair Janet L. Yellen\",\"Commencement Remarks\"],[\"Chair Janet L. Yellen\",\"The Economic Outlook and the Conduct of Monetary Policy\"],[\"Chair Janet L. Yellen\",\"The Goals of Monetary Policy and How We Pursue Them\"],[\"Governor Lael Brainard\",\"Monetary Policy in a Time of Uncertainty\"],[\"Chair Janet L. Yellen\",\"Welcoming Remarks\"],[\"Governor Jerome H. Powell\",\"Low Interest Rates and the Financial System\"],[\"Governor Lael Brainard\",\"Where Do Banks Fit in the Fintech Stack?\"],[\"Governor Jerome H. Powell\",\"Brief Remarks\"],[\"Vice Chairman Stanley Fischer\",\" International Effects of Recent Policy Tightening\"],[\"Vice Chairman Stanley Fischer\",\"Monetary Policy Expectations and Surprises\"],[\"Governor Jerome H. Powell\",\"Welcoming Remarks\"],[\"Governor Daniel K. Tarullo\",\"Departing Thoughts\"],[\"Governor Jerome H. Powell\",\"America's Central Bank: The History and Structure of the Federal Reserve\"],[\"Chair Janet L. Yellen\",\"Addressing Workforce Development Challenges in Low-Income Communities\"],[\"Chair Janet L. Yellen\",\"Welcoming Remarks\"],[\"Governor Lael Brainard\",\"Cross-Border Spillovers of Balance Sheet Normalization\"],[\"Governor Lael Brainard\",\"Cross-Border Spillovers of Balance Sheet Normalization\"],[\"Vice Chairman Stanley Fischer\",\"Government Policy and Labor Productivity\"],[\"Governor Jerome H. Powell\",\"The Case for Housing Finance Reform\"],[\"Vice Chairman Stanley Fischer\",\"An Assessment of Financial Stability in the United States\"],[\"Governor Jerome H. Powell\",\"Remarks\"],[\"Governor Jerome H. Powell\",\"Central Clearing and Liquidity\"],[\"Vice Chairman Stanley Fischer\",\"Housing and Financial Stability\"],[\"Governor Lael Brainard\",\"Understanding the Disconnect between Employment and Inflation with a Low Neutral Rate\"],[\"Governor Jerome H. Powell\",\"The Role of Boards at Large Financial Firms\"],[\"Chair Janet L. Yellen\",\"Financial Stability a Decade after the Onset of the Crisis\"],[\"Vice Chairman Stanley Fischer\",\"The Low Level of Global Real Interest Rates\"],[\"Governor Lael Brainard\",\"Strengthening Diversity in Economics\"],[\"Chair Janet L. Yellen\",\"A Challenging Decade and a Question for the Future\"],[\"Governor Jerome H. Powell\",\"Financial Innovation: A World in Transition\"],[\"Chair Janet L. Yellen\",\"The U.S. Economy and Monetary Policy\"],[\"Governor Lael Brainard\",\"Rethinking Monetary Policy in a New Normal\"],[\"Governor Jerome H. Powell\",\"Prospects for Emerging Market Economies in a Normalizing Global Economy\"],[\"Governor Jerome H. Powell\",\"Treasury Markets and the TMPG\"],[\"Chair Janet L. Yellen\",\"Welcoming Remarks\"],[\"Vice Chairman Stanley Fischer\",\"The Independent Bank of England--20 Years On\"],[\"Governor Lael Brainard\",\"Labor Market Disparities and Economic Performance\"],[\"Chair Janet L. Yellen\",\"Inflation, Uncertainty, and Monetary Policy\"],[\"Governor Lael Brainard\",\"Why Persistent Employment Disparities Matter for the Economy's Health\"],[\"Vice Chair for Supervision Randal K. Quarles\",\"Early Observations on Improving the Effectiveness of Post-Crisis Regulation\"],[\"Governor Lael Brainard\",\"Safeguarding Financial Resilience through the Cycle\"],[\"Governor Lael Brainard\",\"Community Development in Baltimore and A Few Observations on Community Reinvestment Act Modernization\"],[\"Chairman Jerome H. Powell\",\"The Outlook for the U.S. Economy\"],[\"Governor Lael Brainard\",\"An Update on the Federal Reserve's Financial Stability Agenda\"],[\"Vice Chair for Supervision Randal K. Quarles\",\"The Roles of Consumer Protection and Small Business Access to Credit in Financial Inclusion\"],[\"Vice Chair for Supervision Randal K. Quarles\",\"Introductory Remarks\"],[\"Vice Chair for Supervision Randal K. Quarles\",\"Getting It Right: Factors for Tailoring Supervision and Regulation of Large Financial Institutions\"],[\"Vice Chair for Supervision Randal K. Quarles\",\"America's Vital Interest in Global Efforts to Promote Financial Stability\"],[\"Chairman Jerome H. Powell\",\"Monetary Policy at a Time of Uncertainty and Tight Labor Markets\"],[\"Vice Chairman Richard H. Clarida\",\"Outlook for the U.S. Economy and Monetary Policy\"],[\"Vice Chair for Supervision Randal K. Quarles\",\"Don\\u00e2\\u0080\\u0099t Chase the Needles: An Optimistic Assessment of the Economic Outlook and Monetary Policy\"],[\"Governor Lael Brainard\",\"FinTech and the Search for Full Stack Financial Inclusion\"],[\"Governor Lael Brainard\",\"Community Investment in Denver\"],[\"Vice Chair for Supervision Randal K. Quarles\",\"Trends in Urban and Rural Community Banks\"],[\"Governor Lael Brainard\",\"Supporting Fast Payments for All\"],[\"Chairman Jerome H. Powell\",\"Monetary Policy and Risk Management at a Time of Low Inflation and Low Unemployment\"],[\"Vice Chairman Richard H. Clarida\",\"Monetary Policy Outlook for 2019\"],[\"Vice Chair for Supervision Randal K. Quarles\",\"Insurance Supervision and International Engagement\"],[\"Governor Lael Brainard\",\"The Community Reinvestment Act: How Can We Preserve What Works and Make it Better?\"],[\"Chairman Jerome H. Powell\",\"Brief Remarks\"],[\"Chairman Jerome H. Powell\",\"Monetary Policy: Normalization and the Road Ahead\"],[\"Governor Lael Brainard\",\"Navigating Cautiously\"],[\"Chairman Jerome H. Powell\",\"Recent Economic Developments and Longer-Term Challenges\"],[\"Vice Chairman Richard H. Clarida\",\"U.S. Economic Outlook and Monetary Policy\"],[\"Governor Lael Brainard\",\"Is Economics for Me? Increasing the Participation of Black Women in Economics\"],[\"Vice Chair for Supervision Randal K. Quarles\",\"The Future of the Federal Reserve's Balance Sheet\"],[\"Vice Chairman Richard H. Clarida\",\"The Federal Reserve's Review of Its Monetary Policy Strategy, Tools, and Communication Practices\"],[\"Chairman Jerome H. Powell\",\"Encouraging Economic Development in High-Poverty Rural Communities\"],[\"Governor Michelle W. Bowman\",\"A Conversation on Community Banking\"],[\"Vice Chair for Supervision Randal K. Quarles\",\"Ideas of Order: Charting a Course for the Financial Stability Board\"],[\"Chairman Jerome H. Powell\",\"Welcoming Remarks\"],[\"Vice Chair for Supervision Randal K. Quarles\",\"Inviting Participation: The Public's Role in Stress Testing's Next Chapter\"],[\"Governor Lael Brainard\",\"Strengthening the Community Reinvestment Act: What Are We Learning?\"],[\"Governor Michelle W. Bowman\",\"Community Banking in the Age of Innovation\"],[\"Vice Chairman Richard H. Clarida\",\"U.S. Economic Outlook and Monetary Policy\"],[\"Vice Chair for Supervision Randal K. Quarles\",\"Progress on the Transition to Risk-Free Rates\"],[\"Vice Chairman Richard H. Clarida\",\"The Federal Reserve's Review of Its Monetary Policy Strategy, Tools, and Communication Practices\"],[\"Governor Michelle W. Bowman\",\"Fostering Closer Supervisory Communication\"],[\"Vice Chair for Supervision Randal K. Quarles\",\"The Financial Stability Board: Beyond the Fog of Battle\"],[\"Vice Chair for Supervision Randal K. Quarles\",\"Frameworks for the Countercyclical Capital Buffer \"],[\"Governor Michelle W. Bowman\",\"Agriculture and Community Banking\"],[\"Vice Chairman Richard H. Clarida\",\"Global Shocks and the U.S. Economy\"],[\"Vice Chair for Supervision Randal K. Quarles\",\"The Financial Stability Board in 2019\"],[\"Governor Michelle W. Bowman\",\"Welcoming Remarks\"],[\"Vice Chairman Richard H. Clarida\",\"The Federal Reserve's Review of Its Monetary Policy Strategy, Tools, and Communication Practices\"],[\"Chairman Jerome H. Powell\",\"Opening Remarks\"],[\"Vice Chair for Supervision Randal K. Quarles\",\"The Next Stage in the LIBOR Transition (via prerecorded video)\"],[\"Vice Chair for Supervision Randal K. Quarles\",\"Monetary Policy and Financial Stability\"],[\"Vice Chairman Richard H. Clarida\",\"Sustaining Maximum Employment and Price Stability\"],[\"Chairman Jerome H. Powell\",\"Business Debt and Our Dynamic Financial System\"],[\"Vice Chairman Richard H. Clarida\",\"The Federal Reserve's Review of Its Monetary Policy Strategy, Tools, and Communication Practices\"],[\"Vice Chairman Richard H. Clarida\",\"The Federal Reserve\\u00e2\\u0080\\u0099s Review of Its Monetary Policy Strategy, Tools, and Communication Practices\"],[\"Governor Lael Brainard\",\"The Disconnect between Inflation and Employment in the New Normal\"],[\"Vice Chairman Richard H. Clarida\",\"The Federal Reserve\\u00e2\\u0080\\u0099s Review of Its Monetary Policy Strategy, Tools, and Communication Practices\"],[\"Governor Lael Brainard\",\"Is the Middle Class within Reach for Middle-Income Families?\"],[\"Chairman Jerome H. Powell\",\"Welcoming Remarks\"],[\"Governor Lael Brainard\",\"\\\"Fed Listens\\\" in Richmond: How Does Monetary Policy Affect Your Community?\"],[\"Vice Chairman Richard H. Clarida\",\"Models, Markets, and Monetary Policy\"],[\"Chairman Jerome H. Powell\",\"Opening Remarks\"],[\"Vice Chair for Supervision Randal K. Quarles\",\"The Financial Stability Board at 10 Years\\u00e2\\u0080\\u0094Looking Back and Looking Ahead\"],[\"Governor Michelle W. Bowman\",\"Advancing Our Understanding of Community Banking\"],[\"Vice Chairman Richard H. Clarida\",\"Introductory Remarks\"],[\"Vice Chair for Supervision Randal K. Quarles\",\"Law and Macroeconomics: The Global Evolution of Macroprudential Regulation\"],[\"Vice Chair for Supervision Randal K. Quarles\",\"Government of Union: Achieving Certainty in Cross-Border Finance\"],[\"Vice Chairman Richard H. Clarida\",\"The Federal Reserve\\u00e2\\u0080\\u0099s Review of Its Monetary Policy Strategy, Tools, and Communication Practices\"],[\"Governor Lael Brainard\",\"Federal Reserve Review of Monetary Policy Strategy, Tools, and Communications: Some Preliminary Views\"],[\"Chairman Jerome H. Powell\",\"Building on the Gains from the Long Expansion\"],[\"Vice Chairman Richard H. Clarida\",\"The Federal Reserve\\u00e2\\u0080\\u0099s Review of Its Monetary Policy Strategy, Tools, and Communication Practices\"],[\"Vice Chair for Supervision Randal K. Quarles\",\"Brief Remarks (via pre-recorded video)\"],[\"Vice Chairman Richard H. Clarida\",\"Monetary Policy, Price Stability, and Equilibrium Bond Yields: Success and Consequences\"],[\"Governor Lael Brainard\",\"Why Climate Change Matters for Monetary Policy and Financial Stability\"],[\"Vice Chairman Richard H. Clarida\",\"The United States, Japan, and the Global Economy\"],[\"Vice Chair for Supervision Randal K. Quarles\",\"Friedrich Hayek and the Price System\"],[\"Governor Lael Brainard\",\"Update on Digital Currencies, Stablecoins, and the Challenges Ahead\"],[\"Vice Chair for Supervision Randal K. Quarles\",\"Spontaneity and Order: Transparency, Accountability, and Fairness in Bank Supervision\"],[\"Governor Michelle W. Bowman\",\"The Outlook for Housing\"],[\"Vice Chairman Richard H. Clarida\",\"U.S. Economic Outlook and Monetary Policy\"],[\"Governor Lael Brainard\",\"Strengthening the Community Reinvestment Act by Staying True to Its Core Purpose\"],[\"Chairman Jerome H. Powell\",\"Opening Remarks\"],[\"Governor Lael Brainard\",\"Introductory remarks for the Fed Listens panel on the COVID-19 pandemic\"],[\"Vice Chairman Richard H. Clarida\",\"U.S. Economic Outlook and Monetary Policy\"],[\"Chairman Jerome H. Powell\",\"Current Economic Issues\"],[\"Governor Lael Brainard\",\"Welcoming Remarks for Investment Connection \\u00e2\\u0080\\u0093 Response to COVID-19: Colorado\"],[\"Chairman Jerome H. Powell\",\"Introductory Comments\"],[\"Vice Chair for Supervision Randal K. Quarles\",\"The Adaptability of Stress Testing\"],[\"Vice Chairman Richard H. Clarida\",\"U.S. Economic Outlook and Monetary Policy (via prerecorded video)\"]],\"fillcolor\":\"rgba(255,255,255,0)\",\"hoveron\":\"points\",\"hovertemplate\":\"action=no change<br>filter_text_len=%{x}<br>speaker=%{customdata[0]}<br>title=%{customdata[1]}<extra></extra>\",\"jitter\":0,\"legendgroup\":\"no change\",\"line\":{\"color\":\"rgba(255,255,255,0)\"},\"marker\":{\"color\":\"#636efa\",\"symbol\":\"line-ns-open\"},\"name\":\"no change\",\"offsetgroup\":\"no change\",\"showlegend\":false,\"x\":[1536,1837,1132,1441,1423,1720,942,2626,1918,670,1354,1262,1551,2379,1488,1281,2952,3369,2092,1256,1575,2678,2376,2795,1855,1288,1804,2157,1205,3666,1860,2383,1252,1100,1712,1285,2004,1823,1469,2375,1590,757,2185,1516,2172,1797,1455,1759,887,2989,1831,1616,1646,1497,401,1814,2413,2344,1249,2227,2402,2090,1676,1171,1380,1796,3384,1994,438,1873,1844,1592,2580,2262,1966,1968,1951,1266,1531,1296,2159,1422,1726,2160,1839,3648,1419,1884,4689,1901,1214,2342,2581,193,1609,1342,1861,1765,1746,2364,2176,1702,1935,1611,1411,1651,2238,725,1273,1569,1193,1568,976,1564,2613,1176,1501,1720,1124,1498,2600,1741,1563,2215,2943,1235,2540,1799,1684,1922,1233,1836,1715,1230,1903,1990,1033,376,1275,1746,3021,1173,1431,2537,3617,1858,2531,1725,1488,1888,226,1530,1598,1390,1756,1097,1111,1926,1872,1504,1625,1358,1659,403,2033,1185,1794,937,448,2895,1510,339,1220,1447,1781,1138,2152,1367,1575,2010,1953,1273,1031,1693,1075,1454,1628,1694,1997,1536,1300,1227,1352,1239,1593,1586,1932,1719,2189,1821,874,1535,1137,1543,892,870,1422,1841,1337,883,954,1903,940,3081,2191,1649,261,1739,1228,1516,1961,1732,1732,3191,1155,1943,2660,2083,1203,1683,2031,1444,1984,2168,3615,2310,2828,2016,1615,3133,1676,3709,2887,2127,3126,1985,1051,1595,2580,881,1143,1022,1160,1134,1902,2416,3870,2509,1010,1050,885,2006,1757,1630,1319,616,2349,2190,4092,2321,974,2163,1996,2570,1710,1507,2711,1797,2073,3334,1214,1887,1523,1667,1858,2407,2696,2152,6738,2423,2407,3517,3365,3311,2076,2076,1409,3650,2434,921,1224,1135,3311,2095,2852,2076,1273,1721,4233,2656,1842,2716,1331,2534,309,2615,1461,2614,1688,2318,3629,1953,2042,268,357,1148,1728,897,1978,981,1187,2236,2264,2295,1749,408,2452,2387,1927,2064,1880,1717,2098,2196,3207,2276,99,1679,2388,1970,3059,2135,1625,1532,2128,3338,2349,1980,1907,1480,3198,2918,1110,1197,3256,2727,1835,3542,2297,1858,3870,3241,4046,380,1497,2376,1760,3067,4155,1705,2137,4048,3103,941,2161,1183,1546,3337,2102,582,2315,1283,2451,2515,2112,2162,1855,2103,3276,2221,470,1951,2652,2162,2137,2309,1505,2205,2508,1952,2496,2082,3481,1878,2093,2508,1870,1928,318,4245,1984,2376,2219,2292,1052,399,1919,2336,3131,2749,539,1855,2326,2966,2523,2411,2342,2224,2445,2052,2550,2901,3353,2186,1759,2250,3725,1912,1700,3335,419,1940,1469,2341,2206,824,1576,370,3591,2193,1132,1493,3591,1693,1186,2717,1938,2461,2067,2415,3198,1873,711,1681,369,2150,1704,2443,2732,2375,1511,1839,1909,4604,1708,1827,2446,370,1553,1628,792,259,2299,394,1687,1290,2070,1852,592,2511,2480,1814,1509,2608,1785,1713,1655,506,2390,672,943,2851,3435,1332,2287,2222,1607,2190,343,1720,1257,2408,1470,1764,1924,3107,869,2267,175,2786,4079,2302,385,3919,319,2482,1371,1013,2757,1875,2061,1373,3946,2379,973,1835,2131,1320,1817,1769,2192,2705,2422,2847,2007,2461,2397,2169,1666,1254,2621,2642,2520,2232,1589,2547,312,2135,2422,2178,1699,711,2009,2272,365,1591,2325,2013,1792,2575,3765,2408,2291,3177,2293,1921,2186,1295,2444,775,2292,2394,2519,1481,2709,2659,1590,2297,3012,2090,3800,2031,2236,1747,2884,408,928,2396,4234,2466,1912,1924,1936,782,1624,4636,795,1098,1072,3533,855,6340,3637,2483,2547,1051,3231,2971,2328,4552,2816,1083,4496,3590,2696,3981,3339,2609,2812,1568,3184,3938,3330,3062,3281,1838,838,2315,2558,2738,384,1564,2768,2181,1127,921,1588,1986,2677,2265,3616,2540,4523,1058,998,2313,3191,1352,792,760,2843,1859,649,1740,4810,407,737,3139,2276,3794,318,731,1536,2880,2972,4513,3175,1678,3258,434,3231,703,3065,2254,3754,275,493,3212,3466,619,474,293,2883,1936,1965,3922,3041,2663,1990,3518,3338,2056,253,4214,4119,473,762,355,2659,396,3895,1110,3077,905,2096,493,926,2552,1190,3063,2480,508,2634,1796,2937,734,1956,2290,3908,3333,2024,1939,3279,2142,1756,1712,2015,195,2424,2507,2486,1031,2127,1859,893,1559,1560,419,968,1290,2548,686,3027,2948,642,2970,6630,3010,1796,3074,2792,4008,2421,1982,1069,1917,897,3216,2074,2445,2808,3437,1350,2500,1302,480,2756,4028,1395,520,2869,3589,4190,880,1456,2261,425,2080,1090,4703,1221,4054,1689,2317,708,1724,4070,819,935,2188,435,5010,2966,2500,818,3063,3062,2049,2088,1672,541,2603,2573,2340,1066,4350,2509,1021,2664,1825,1010,2438,2611,788,318,3658,2074,5462,3751,1495,1540,965,2398,2367,2404,949,1618,1713,1167,1494,1470,3296,648,2208,1654,2758,1753,1889,2252,341,2594,2588,1721,590,827,953,3570,2038,1081,1321,486,1007,819,1939,515,384,3857,1255,1125,2298,1526,1395,2003,927,574,1979,758,1398,2915,2104,1760,348,2410,1269,4312,454,1004,3343,463,1822,2099,282,2063,1222,3723,2634,1528,3049,696,4002,1874,1579,2973,1633,2393,1068,602,2644,250,213,1112,897,175,278,1418,1425],\"xaxis\":\"x2\",\"yaxis\":\"y2\",\"type\":\"box\"},{\"alignmentgroup\":\"True\",\"bingroup\":\"x\",\"hovertemplate\":\"action=decrease<br>filter_text_len=%{x}<br>count=%{y}<extra></extra>\",\"legendgroup\":\"decrease\",\"marker\":{\"color\":\"#EF553B\",\"pattern\":{\"shape\":\"\"}},\"name\":\"decrease\",\"nbinsx\":150,\"offsetgroup\":\"decrease\",\"orientation\":\"v\",\"showlegend\":true,\"x\":[1507,1512,1147,1440,2380,1940,73,1090,2255,1847,1501,2731,1533,2878,1232,2333,2188,1758,1893,2010,2139,1008,1316,913,1837,2129,1739,1484,3561,2113,2971,2880,2118,1068,1998,791,5635,1367,1867,2065,2084,1857,1932,2856,1993,1474,1196,1699,2832,3348,2249,2810,2423,2010,1825,1535,1199,2001,5440,1983,312,1482,1629,1955,867,1742,1373,342,1828,2251,2759,755,4984,1736,1296,1878,3671,1747,1484,1390,1363,1515,1356,1653,2991,783,3894,2732,920,2012,1243,1458,2075,2260,1521,976,579,78,2338,1588,1340,1709,1877,1882,2691,1586,3620,1365,1580,1000,173,2047,2331,3674,1950,2286,3901,2839,1145,3214,1886,2729,1659,838,1937,1569,1420,2287,2756,3780,1674,1251,1952,1730,2931,1088,2324,2061,1875,1611,1885,2323,2866,2267,1444,1109,2065,2018,3532,996,2419,2001,2029,1690,701,2235,3195,1760,2475,2243,1777,2424,1770,2022,393,525,2320,3913,3718,2186,1938,3053,1811,2020,2113,2125,1774,1778,328,1400,536,1884,506,4136,756,631,1169,1817,445,2461,675,1666,581,696,469,2600,368,2575,442,2338,592,1241,2313,1382,1926,2470,2527,470],\"xaxis\":\"x\",\"yaxis\":\"y\",\"type\":\"histogram\"},{\"alignmentgroup\":\"True\",\"boxpoints\":\"all\",\"customdata\":[[\"Chairman Alan Greenspan\",\"Financial reform and the importance of a decentralized banking structure\"],[\"Vice Chair Alice M. Rivlin\",\"Sustaining CRA's success\"],[\"Chairman Alan Greenspan\",\"Privacy in the information age\"],[\"Governor Susan M. Phillips\",\"Recent developments in supervision and regulation and how they affect the debate on financial modernization\"],[\"Chairman Alan Greenspan\",\"Government regulation and derivative contracts\"],[\"Governor Susan M. Phillips\",\"Risk management for banks and banking regulators in the 21st century\"],[\"Governor Roger W. Ferguson, Jr.\",\"Electronic banking\"],[\"Vice Chair Alice M. Rivlin\",\"The Federal Reserve's roles in the payments system\"],[\"Governor Laurence H. Meyer\",\"Recent developments in banking and financial markets\"],[\"Governor Roger W. Ferguson, Jr.\",\"The state of the U.S. economy\"],[\"Governor Edward M. Gramlich\",\"World capital flows\"],[\"Chairman Alan Greenspan\",\"Is there a new economy?\"],[\"Governor Roger W. Ferguson, Jr.\",\"The role for small businesses as viewed by a macroeconomic policymaker\"],[\"Governor Laurence H. Meyer\",\"The economic outlook and the challenges facing monetary policy\"],[\"Governor Laurence H. Meyer\",\"Modernizing financial services regulation\"],[\"Governor Edward M. Gramlich\",\"Examining community reinvestment\"],[\"Chairman Alan Greenspan\",\"The structure of the international financial system\"],[\"Governor Edward W. Kelley, Jr.\",\"Countdown to Y2K: An economic assessment\"],[\"Governor Roger W. Ferguson, Jr.\",\"The future of the financial services sector and related public policy issues\"],[\"Vice Chair Alice M. Rivlin\",\"The world economy\"],[\"Governor Laurence H. Meyer\",\"Increasing global financial integrity\"],[\"Governor Roger W. Ferguson, Jr.\",\"Three themes in search of an audience\"],[\"Governor Roger W. Ferguson, Jr.\",\"The challenge of preparing for the Year 2000\"],[\"Vice Chairman Roger W. Ferguson\",\"G-10 study of financial sector consolidation\"],[\"Vice Chairman Roger W. Ferguson\",\"Domestic macroeconomic developments: Past, present, and future\"],[\"Governor Laurence H. Meyer\",\"Capital standards and community banks\"],[\"Vice Chairman Roger W. Ferguson\",\"Understanding financial consolidation\"],[\"Chairman Alan Greenspan\",\"Banking supervision\"],[\"Governor Laurence H. Meyer\",\"The new Basel capital proposal\"],[\"Vice Chairman Roger W. Ferguson\",\"Understanding financial consolidation\"],[\"Governor Edward M. Gramlich\",\"The productivity growth spurt in the United States\"],[\"Governor Laurence H. Meyer\",\"Implementing the Gramm-Leach-Bliley Act: One year later\"],[\"Vice Chairman Roger W. Ferguson\",\"E-commerce: Lessons learned to date\"],[\"Chairman Alan Greenspan\",\"The importance of education in today\\u0092s economy\"],[\"Vice Chairman Roger W. Ferguson\",\"Understanding financial consolidation\"],[\"Governor Edward M. Gramlich\",\"Research in the policy process\"],[\"Governor Laurence H. Meyer\",\"Does money matter?\"],[\"Chairman Alan Greenspan\",\"The challenge of measuring and modeling a dynamic economy\"],[\"Governor Edward M. Gramlich\",\"Tackling predatory lending: Regulation and education\"],[\"Governor Laurence H. Meyer\",\"Controlling the safety net\"],[\"Chairman Alan Greenspan\",\"The financial safety net\"],[\"Chairman Alan Greenspan\",\"The paydown of federal debt\"],[\"Vice Chairman Roger W. Ferguson\",\"Understanding financial consolidation\"],[\"Governor Edward M. Gramlich\",\"Social security reform in the twenty-first century\"],[\"Vice Chairman Roger W. Ferguson\",\"Transparency in central banking: Rationale and recent developments\"],[\"Governor Edward M. Gramlich\",\"Saving by low- and moderate-income households\"],[\"Chairman Alan Greenspan\",\"The growing need for skills in the 21st century\"],[\"Vice Chairman Roger W. Ferguson\",\"The productivity experience of the United States: Past, present, and future\"],[\"Governor Edward M. Gramlich\",\"National saving and Treasury debt\"],[\"Governor Laurence H. Meyer\",\"What happened to the new economy?\"],[\"Chairman Alan Greenspan\",\"Economic developments\"],[\"Governor Laurence H. Meyer\",\"Global outlook and challenges facing central banks around the world\"],[\"Governor Laurence H. Meyer\",\"Comparative central banking and the politics of monetary policy\"],[\"Vice Chairman Roger W. Ferguson\",\"A few thoughts on financial sector and payments activities\"],[\"Chairman Alan Greenspan\",\"Issues for bank regulators\"],[\"Governor Laurence H. Meyer\",\"The new Basel accord: Challenges for banks and their supervisors\"],[\"Governor Edward M. Gramlich\",\"Infrastructure and economic development\"],[\"Vice Chairman Roger W. Ferguson\",\"Reflections on the capital goods overhang\"],[\"Governor Laurence H. Meyer\",\"Inflation targets and inflation targeting\"],[\"Chairman Alan Greenspan\",\"Impact of energy on the economy\"],[\"Chairman Alan Greenspan\",\"The value of public outreach by the Federal Reserve\"],[\"Vice Chairman Roger W. Ferguson\",\"The evolving financial and payment system\"],[\"Vice Chairman Roger W. Ferguson\",\"Technology, information production, and market efficiency\"],[\"Chairman Alan Greenspan\",\"Opening remarks\"],[\"Chairman Alan Greenspan\",\"The importance of financial education and literacy\"],[\"Chairman Alan Greenspan\",\"Globalization\"],[\"Governor Edward M. Gramlich\",\"Preparing for CRA 2002\"],[\"Chairman Alan Greenspan\",\"The September 11 tragedy and the response of the financial industry\"],[\"Vice Chairman Roger W. Ferguson\",\"Credit risk management: Models and judgment\"],[\"Governor Laurence H. Meyer\",\"Basel II: Moving from concept toward implementation\"],[\"Governor Laurence H. Meyer\",\"Executing monetary policy without Treasuries\"],[\"Chairman Alan Greenspan\",\"Transparency in monetary policy\"],[\"Governor Laurence H. Meyer\",\"The future of money and of monetary policy\"],[\"Chairman Alan Greenspan\",\"Globalization\"],[\"Chairman Alan Greenspan\",\"The euro as an international currency\"],[\"Governor Edward M. Gramlich\",\"Asset prices and monetary policy\"],[\"Governor Laurence H. Meyer\",\"Before and after\"],[\"Chairman Alan Greenspan\",\"Energy supply\"],[\"Governor Edward M. Gramlich\",\"Promoting and sustaining home ownership\"],[\"Vice Chairman Roger W. Ferguson\",\"Certified public accountants: Partners in financial stability\"],[\"Chairman Alan Greenspan\",\"Education\"],[\"Vice Chairman Roger W. Ferguson\",\"Productivity growth: A realistic assessment\"],[\"Chairman Alan Greenspan\",\"Productivity\"],[\"Governor Mark W. Olson\",\"Urban revitalization: Shared responsibilities\"],[\"Governor Edward M. Gramlich\",\"The methodology of benefit-cost analysis\"],[\"Vice Chairman Roger W. Ferguson\",\"Remarks\"],[\"Vice Chairman Roger W. Ferguson\",\"Should financial stability be an explicit central bank objective?\"],[\"Governor Ben S. Bernanke\",\"Asset-price \\\"bubbles\\\" and monetary policy\"],[\"Vice Chairman Roger W. Ferguson\",\"Central banks and markets\"],[\"Governor Susan S. Bies\",\"Corporate governance and risk management\"],[\"Chairman Alan Greenspan\",\"Banking\"],[\"Vice Chairman Roger W. Ferguson\",\"Business continuity after September 11\"],[\"Governor Susan S. Bies\",\"The challenge for corporate governance posed by financial innovation\"],[\"Governor Susan S. Bies\",\"Bank performance and corporate governance\"],[\"Chairman Alan Greenspan\",\"World finance and risk management\"],[\"Chairman Alan Greenspan\",\"Regulation, innovation, and wealth creation\"],[\"Chairman Alan Greenspan\",\"Policy coordination\"],[\"Governor Donald L. Kohn\",\"Central bank talk: Does it matter and why?\"],[\"Vice Chairman Roger W. Ferguson\",\"Basel II: Some issues for implementation\"],[\"Governor Susan S. Bies\",\"Managing business risks\"],[\"Governor Edward M. Gramlich\",\"Community economic development\"],[\"Governor Ben S. Bernanke\",\"Soft hearts, hard data: The use of quantitative analysis in community development\"],[\"Vice Chairman Roger W. Ferguson\",\"Uncertain times: Economic challenges facing the United States and Japan\"],[\"Governor Susan S. Bies\",\"Strengthening compliance through effective corporate governance\"],[\"Vice Chairman Roger W. Ferguson\",\"Basel II: Scope of application in the United States\"],[\"Governor Donald L. Kohn\",\"Comment on \\u0093Good Policies for Bad Governments: Behavioral Political Economy\\u0094 by Daniel J. Benjamin and David I. Laibson\"],[\"Governor Ben S. Bernanke\",\"Some Thoughts on Monetary Policy in Japan\"],[\"Governor Susan S. Bies\",\"Restoring our confidence in bank controls and financial statements\"],[\"Governor Mark W. Olson\",\"Assessing prospects for economic growth in the United States\"],[\"Vice Chairman Roger W. Ferguson\",\"Commencement address\"],[\"Chairman Alan Greenspan\",\"Unveiling of the redesigned U.S. $20 note\"],[\"Chairman Alan Greenspan\",\"Corporate governance\"],[\"Governor Susan S. Bies\",\"Corporate governance\"],[\"Chairman Ben S. Bernanke\",\"Global Imbalances:  Recent Developments and Prospects\"],[\"Governor Frederic S. Mishkin\",\"Outlook and Risks for the U.S. Economy\"],[\"Governor Randall S. Kroszner\",\"Analyzing and Assessing Banking Crises\"],[\"Chairman Ben S. Bernanke\",\"Housing, Housing Finance, and Monetary Policy\"],[\"Governor Frederic S. Mishkin\",\"Financial Instability and the Federal Reserve as a Liquidity Provider\"],[\"Governor Randall S. Kroszner\",\"Recent Events in Financial Markets\"],[\"Governor Frederic S. Mishkin\",\"Headline versus Core Inflation in the Conduct of Monetary Policy\"],[\"Chairman Ben S. Bernanke\",\"Monetary Policy under Uncertainty\"],[\"Chairman Ben S. Bernanke\",\"The Recent Financial Turmoil and its Economic and Policy Consequences\"],[\"Vice Chairman Donald L. Kohn\",\"John Taylor Rules\"],[\"Chairman Ben S. Bernanke\",\"Opening remarks\"],[\"Governor Randall S. Kroszner\",\"Markets, Financial Institutions, and Consumers: The Roles of the Federal Reserve\"],[\"Governor Kevin Warsh\",\"Financial Stability and the Federal Reserve\"],[\"Vice Chairman Donald L. Kohn\",\" Economic Outlook\"],[\"Governor Frederic S. Mishkin\",\"Systemic Risk and the International Lender of Last Resort \"],[\"Governor Frederic S. Mishkin\",\"Globalization, Macroeconomic Performance, and Monetary Policy\"],[\"Chairman Ben S. Bernanke\",\"Education and Economic Competitiveness\"],[\"Governor Kevin Warsh\",\"Financial Market Developments\"],[\"Vice Chairman Donald L. Kohn\",\"Success and Failure of Monetary Policy since the 1950s\"],[\"Governor Randall S. Kroszner\",\"Innovation, Information, and Regulation in Financial Markets \"],[\"Chairman Ben S. Bernanke\",\"National and regional economic overview\"],[\"Governor Frederic S. Mishkin\",\"The Federal Reserve\\u00e2\\u0080\\u0099s Enhanced Communication Strategy and the Science of Monetary Policy \"],[\"Vice Chairman Donald L. Kohn\",\"Financial Markets and Central Banking\"],[\"Chairman Ben S. Bernanke\",\"Federal Reserve Communications\"],[\"Governor Randall S. Kroszner\",\"Implementing Basel II in the United States\"],[\"Governor Kevin Warsh\",\"The End of History?\"],[\"Chairman Ben S. Bernanke\",\"Microfinance in the United States\"],[\"Governor Randall S. Kroszner\",\"The Challenges Facing Subprime Mortgage Borrowers\"],[\"Governor Frederic S. Mishkin\",\"Financial Instability and Monetary Policy\"],[\"Governor Frederic S. Mishkin\",\"Monetary Policy Flexibility, Risk Management, and Financial Disruptions\"],[\"Chairman Ben S. Bernanke\",\"Financial Markets, the Economic Outlook, and Monetary Policy\"],[\"Vice Chairman Donald L. Kohn\",\"Recent and Prospective Developments in Monetary Policy Transparency and Communications:  A Global Perspective\"],[\"Vice Chairman Donald L. Kohn\",\"Expertise and Macroeconomic Policy, Comments on \\\"Insiders versus Outsiders in Monetary Policy-Making,\\\" by Timothy Besley, Neil Meads, and Paolo Surico\"],[\"Chairman Ben S. Bernanke\",\"Fostering Sustainable Homeownership\"],[\"Governor Randall S. Kroszner\",\"The Importance of Fundamentals in Risk Management\"],[\"Governor Frederic S. Mishkin\",\"Exchange Rate Pass-Through and Monetary Policy\"],[\"Vice Chairman Donald L. Kohn\",\"Implications of Globalization for the Conduct of Monetary Policy\"],[\"Governor Frederic S. Mishkin\",\"Outlook and Risks for the U.S. Economy\"],[\"Chairman Ben S. Bernanke\",\"Reducing Preventable Mortgage Foreclosures\"],[\"Governor Randall S. Kroszner\",\"Liquidity-Risk Management in the Business of Banking\"],[\"Governor Frederic S. Mishkin\",\"On \\\"Leveraged Losses: Lessons from the Mortgage Meltdown\\\"\"],[\"Governor Frederic S. Mishkin\",\"The Importance of Economic Education and Financial Literacy\"],[\"Vice Chairman Donald L. Kohn\",\"The U.S. Economy and Monetary Policy\"],[\"Governor Frederic S. Mishkin\",\"Does Stabilizing Inflation Contribute to Stabilizing Economic Activity?\"],[\"Governor Randall S. Kroszner\",\"Improving Risk Management in Light of Recent Market Events\"],[\"Governor Frederic S. Mishkin\",\"The Federal Reserve's Tools for Responding to Financial Disruptions\"],[\"Governor Randall S. Kroszner\",\"Protecting Homeowners and Sustaining Home Ownership\"],[\"Governor Randall S. Kroszner\",\"Developing Sustainable Capital for Community Investments\"],[\"Vice Chairman Donald L. Kohn\",\"The Changing Business of Banking: Implications for Financial Stability and Lessons from Recent Market Turmoil\"],[\"Governor Kevin Warsh\",\"Financial Market Turmoil and the Federal Reserve: The Plot Thickens\"],[\"Chairman Ben S. Bernanke\",\"Addressing Weaknesses in the Global Financial Markets: The Report of the President's Working Group on Financial Markets\"],[\"Chairman Ben S. Bernanke\",\"The Importance of Financial Education and the National Jump$tart Coalition Survey\"],[\"Vice Chairman Donald L. Kohn\",\"Dedication remarks\"],[\"Governor Randall S. Kroszner\",\"Global Economic and Financial Challenges: Implications for Latin America\"],[\"Governor Frederic S. Mishkin\",\"Central Bank Commitment and Communication\"],[\"Governor Frederic S. Mishkin\",\"Comfort Zones, Shmumfort Zones\"],[\"Governor Randall S. Kroszner\",\"Protecting Homeowners and Sustaining Homeownership\"],[\"Chairman Ben S. Bernanke\",\"Current Economic and Financial Conditions\"],[\"Vice Chairman Donald L. Kohn\",\"Monetary Policy and Asset Prices Revisited\"],[\"Vice Chairman Donald L. Kohn\",\"Productivity and Innovation in Financial Services \"],[\"Governor Kevin Warsh\",\"The Promise and Peril of the New Financial Architecture\"],[\"Chairman Ben S. Bernanke\",\"The Future of Mortgage Finance in the United States \"],[\"Governor Randall S. Kroszner\",\"Strategic Risk Management in an Interconnected World\"],[\"Vice Chairman Donald L. Kohn\",\"Economic Outlook\"],[\"Chairman Ben S. Bernanke\",\"Stabilizing the Financial Markets and the Economy\"],[\"Chairman Ben S. Bernanke\",\"Remarks\"],[\"Chairman Jerome H. Powell\",\"Monetary Policy in the Post-Crisis Era\"],[\"Governor Lael Brainard\",\"Perspectives on the Economy from Scranton\"],[\"Vice Chair for Supervision Randal K. Quarles\",\"Stress Testing: A Decade of Continuity and Change\"],[\"Chairman Jerome H. Powell\",\"Welcoming Remarks (via prerecorded video)\"],[\"Vice Chairman Richard H. Clarida\",\"The Federal Reserve's Review of Its Monetary Policy Strategy, Tools, and Communication Practices\"],[\"Chairman Jerome H. Powell\",\"Economic Outlook and Monetary Policy Review\"],[\"Governor Michelle W. Bowman\",\"Minority Depository Institutions\"],[\"Governor Lael Brainard\",\"Fed Listens in Cincinnati: How Does Monetary Policy Affect Your Community?\"],[\"Vice Chair for Supervision Randal K. Quarles\",\"Refining the Stress Capital Buffer\"],[\"Governor Michelle W. Bowman\",\"Introductory Remarks\"],[\"Chairman Jerome H. Powell\",\"Challenges for Monetary Policy\"],[\"Vice Chair for Supervision Randal K. Quarles\",\"A Decade of Building Stronger Communities\"],[\"Governor Lael Brainard\",\"Delivering Fast Payments for All\"],[\"Governor Michelle W. Bowman\",\"Closing Remarks\"],[\"Vice Chairman Richard H. Clarida\",\"U.S. Economic Outlook and Monetary Policy\"],[\"Governor Michelle W. Bowman\",\"Opening Remarks \"],[\"Governor Lael Brainard\",\"Digital Currencies, Stablecoins, and the Evolving Payments Landscape\"],[\"Chairman Jerome H. Powell\",\"Opening Remarks\"],[\"Chairman Jerome H. Powell\",\"Data-Dependent Monetary Policy in an Evolving Economy\"],[\"Chairman Jerome H. Powell\",\"Brief Remarks\"],[\"Governor Michelle W. Bowman\",\"Direction of Supervision: Impact of Payment System Innovation on Community Banks\"],[\"Vice Chairman Richard H. Clarida\",\"U.S. Economic Outlook and Monetary Policy\"],[\"Vice Chairman Richard H. Clarida\",\"Financial Markets and Monetary Policy: Is There a Hall of Mirrors Problem?\"],[\"Governor Lael Brainard\",\"Monetary Policy Strategies and Tools When Inflation and Interest Rates Are Low\"],[\"Vice Chair for Supervision Randal K. Quarles\",\"Spontaneity and Order:  Transparency, Accountability, and Fairness in Bank Supervision\"],[\"Governor Michelle W. Bowman\",\"Empowering Community Banks\"],[\"Vice Chair for Supervision Randal K. Quarles\",\"The Economic Outlook, Monetary Policy, and the Demand for Reserves\"],[\"Governor Lael Brainard\",\"The Digitalization of Payments and Currency: Some Issues for Consideration\"],[\"Chairman Jerome H. Powell\",\"COVID-19 and the Economy\"]],\"fillcolor\":\"rgba(255,255,255,0)\",\"hoveron\":\"points\",\"hovertemplate\":\"action=decrease<br>filter_text_len=%{x}<br>speaker=%{customdata[0]}<br>title=%{customdata[1]}<extra></extra>\",\"jitter\":0,\"legendgroup\":\"decrease\",\"line\":{\"color\":\"rgba(255,255,255,0)\"},\"marker\":{\"color\":\"#EF553B\",\"symbol\":\"line-ns-open\"},\"name\":\"decrease\",\"offsetgroup\":\"decrease\",\"showlegend\":false,\"x\":[1507,1512,1147,1440,2380,1940,73,1090,2255,1847,1501,2731,1533,2878,1232,2333,2188,1758,1893,2010,2139,1008,1316,913,1837,2129,1739,1484,3561,2113,2971,2880,2118,1068,1998,791,5635,1367,1867,2065,2084,1857,1932,2856,1993,1474,1196,1699,2832,3348,2249,2810,2423,2010,1825,1535,1199,2001,5440,1983,312,1482,1629,1955,867,1742,1373,342,1828,2251,2759,755,4984,1736,1296,1878,3671,1747,1484,1390,1363,1515,1356,1653,2991,783,3894,2732,920,2012,1243,1458,2075,2260,1521,976,579,78,2338,1588,1340,1709,1877,1882,2691,1586,3620,1365,1580,1000,173,2047,2331,3674,1950,2286,3901,2839,1145,3214,1886,2729,1659,838,1937,1569,1420,2287,2756,3780,1674,1251,1952,1730,2931,1088,2324,2061,1875,1611,1885,2323,2866,2267,1444,1109,2065,2018,3532,996,2419,2001,2029,1690,701,2235,3195,1760,2475,2243,1777,2424,1770,2022,393,525,2320,3913,3718,2186,1938,3053,1811,2020,2113,2125,1774,1778,328,1400,536,1884,506,4136,756,631,1169,1817,445,2461,675,1666,581,696,469,2600,368,2575,442,2338,592,1241,2313,1382,1926,2470,2527,470],\"xaxis\":\"x2\",\"yaxis\":\"y2\",\"type\":\"box\"},{\"alignmentgroup\":\"True\",\"bingroup\":\"x\",\"hovertemplate\":\"action=increase<br>filter_text_len=%{x}<br>count=%{y}<extra></extra>\",\"legendgroup\":\"increase\",\"marker\":{\"color\":\"#00cc96\",\"pattern\":{\"shape\":\"\"}},\"name\":\"increase\",\"nbinsx\":150,\"offsetgroup\":\"increase\",\"orientation\":\"v\",\"showlegend\":true,\"x\":[494,2609,2716,1171,1764,2727,1123,1301,1502,1079,1140,1162,1798,1849,1644,770,1151,5058,1269,2163,2110,2144,2525,2802,2180,3457,1491,642,1812,1613,2174,1690,1775,1609,1951,1820,1572,1891,1348,2360,1308,1542,1273,1478,1073,1175,1533,1522,1377,1565,2052,2287,1270,1343,933,2344,1854,855,2136,453,3204,374,2535,1567,2105,619,1416,2389,1728,1856,1944,2262,2108,1991,1553,356,1212,1442,1321,1617,167,2038,2503,1853,3801,1309,1367,1639,3063,1954,2472,597,2971,3271,2567,1635,1294,1941,1424,2277,3680,1288,1610,1704,3106,1027,3106,2326,1027,1748,2295,1175,1819,890,1359,1362,4175,2422,30,2279,835,3114,1684,2260,1744,1937,2492,1203,2775,2591,3935,2024,871,1415,2274,2314,2024,1598,55,1547,1666,801,1393,1530,2357,1567,1886,2164,1952,1783,1599,2321,1422,1667,960,3348,2740,1524,2204,433,1354,1662,299,1183,1866,1865,1874,1972,1972,1855,1236,2893,1446,485,1396,71,1202,815,2328,1294,2440,1112,2022,1957,1501,2338,1364,1878,1494,1747,655,1475,2208,2646,1653,948,1982,2197,2620,1745,1513,291,1581,2386,1358,2217,1599,1909,2212,725,1746,2353,999,2761,330,1811,1605,1481,2217,2491,2151,2175,2490,2191,1772,1963,2063,1717,1871,1952,886,1113,2596,2115,2276,1697,1370,1872,1626,620,2067,1389,2491,2140,2400,1049,2481,3255,408,2723,591,2308,2597,1848,1792,420,1846,3438,3732,3948,2019,2849,2148,694,2824,2841,2187,2534,477,2720,1803,1893,2359,3312,2729,2605,2564,4139,4281,2813,840,1786,4121,979,484,1032,1386,1957,437,2247,679,378,2268,1191,2440,1607,2076,1561,2748,267,2545,3100,2613,847,2076,821,615,2686,2479,1416,934,2640,1927],\"xaxis\":\"x\",\"yaxis\":\"y\",\"type\":\"histogram\"},{\"alignmentgroup\":\"True\",\"boxpoints\":\"all\",\"customdata\":[[\"Governor Roger W. Ferguson, Jr.\",\"Public information and public confidence in year 2000\"],[\"Governor Edward M. Gramlich\",\"A policy in Lampman's tradition: The Community Reinvestment Act\"],[\"Governor Laurence H. Meyer\",\"Market discipline as a complement to bank supervision and regulation\"],[\"Chairman Alan Greenspan\",\"Commencement address\"],[\"Governor Roger W. Ferguson, Jr.\",\"The making of monetary policy\"],[\"Governor Laurence H. Meyer\",\"Moving forward into the 21st century\"],[\"Chairman Alan Greenspan\",\"Trade and technology\"],[\"Vice Chair Alice M. Rivlin\",\"Dilemmas facing United States policymakers\"],[\"Governor Roger W. Ferguson, Jr.\",\"Continuing the countdown to year 2000: Focusing on public disclosure and public confidence\"],[\"Chairman Alan Greenspan\",\"Insurance companies and banks under the new regulatory law\"],[\"Governor Edward M. Gramlich\",\"Consumer credit in the 21st century\"],[\"Chairman Alan Greenspan\",\"Mortgage markets and economic activity\"],[\"Chairman Alan Greenspan\",\"Information, productivity, and capital investment\"],[\"Vice Chairman Roger W. Ferguson\",\"Financial market lessons for bankers and bank supervisors\"],[\"Chairman Alan Greenspan\",\"Do efficient financial markets mitigate financial crises?\"],[\"Chairman Alan Greenspan\",\"Business, the economy, and the new millenium\"],[\"Chairman Alan Greenspan\",\"Measuring financial risk in the twenty-first century\"],[\"Governor Laurence H. Meyer\",\"New challenges for monetary policy: The view from Jackson Hole\"],[\"Chairman Alan Greenspan\",\"The evolution of bank supervision\"],[\"Vice Chairman Roger W. Ferguson\",\"Year 2000: Eighty-six days and counting\"],[\"Governor Laurence H. Meyer\",\"Sustainability and monetary policy\"],[\"Governor Laurence H. Meyer\",\"Supervising LCBOs: Adapting to change\"],[\"Chairman Alan Greenspan\",\"Technology and the economy\"],[\"Governor Edward M. Gramlich\",\"Inflation targeting\"],[\"Vice Chairman Roger W. Ferguson\",\"Tale of two continents: A comparison of Asian and Latin American experiences during recent financial turmoil\"],[\"Governor Edward M. Gramlich\",\"Social security in the 21st century\"],[\"Chairman Alan Greenspan\",\"Challenges facing community banks\"],[\"Governor Edward M. Gramlich\",\"CRA and financial modernization\"],[\"Vice Chairman Roger W. Ferguson\",\"Convergence of regulatory standards: A work in process\"],[\"Chairman Alan Greenspan\",\"The revolution in information technology\"],[\"Governor Laurence H. Meyer\",\"How does a surplus affect the formulation and conduct of monetary policy?\"],[\"Vice Chairman Roger W. Ferguson\",\"The new economy: Unanswered questions for 2000\"],[\"Governor Laurence H. Meyer\",\"Implementing the Gramm-Leach-Bliley Act\"],[\"Vice Chairman Roger W. Ferguson\",\"Economic policy for our era: The Florida experience\"],[\"Vice Chairman Roger W. Ferguson\",\"The Ohio economy\"],[\"Vice Chairman Roger W. Ferguson\",\"Conversation with leaders of the \\\"New Economy\\\"\"],[\"Vice Chairman Roger W. Ferguson\",\"Electronic commerce, banking, and payments\"],[\"Chairman Alan Greenspan\",\"Banking evolution\"],[\"Chairman Alan Greenspan\",\"The economy of rural America\"],[\"Governor Edward M. Gramlich\",\"Investment and saving\"],[\"Governor Edward M. Gramlich\",\"The digital divide\"],[\"Governor Edward M. Gramlich\",\"Predatory lending\"],[\"Chairman Alan Greenspan\",\"Technology and financial services\"],[\"Chairman Alan Greenspan\",\"The evolving demand for skills\"],[\"Chairman Alan Greenspan\",\"Retail payment systems\"],[\"Chairman Alan Greenspan\",\"Technology innovation and its economic impact\"],[\"Vice Chairman Roger W. Ferguson\",\"Realism during times of opportunity\"],[\"Chairman Alan Greenspan\",\"Technological innovation and the economy\"],[\"Governor Edward W. Kelley, Jr.\",\"Learning from experience: Y2K revisited\"],[\"Chairman Alan Greenspan\",\"Economic challenges in the new century\"],[\"Governor Edward M. Gramlich\",\"Reducing Budget Deficits\"],[\"Governor Susan S. Bies\",\"Trends in Risk Management and Corporate Governance\"],[\"Governor Mark W. Olson\",\"Economic Outlook\"],[\"Governor Mark W. Olson\",\"Regulatory Update: Banking Industry, Insurance, and Securities Activities\"],[\"Chairman Alan Greenspan\",\"Central Bank panel discussion: economic developments\"],[\"Governor Donald L. Kohn\",\"The Outlook for Inflation\"],[\"Governor Susan S. Bies\",\"IASB reform\"],[\"Vice Chairman Roger W. Ferguson\",\"Economics and Ethical Behaviors\"],[\"Governor Edward M. Gramlich\",\"Subprime Mortgage Lending: Benefits, Costs, and Challenges\"],[\"Chairman Alan Greenspan\",\"Acceptance of the Eisenhower Medal for Leadership and Service\"],[\"Governor Ben S. Bernanke\",\"Gradualism\"],[\"Governor Edward M. Gramlich\",\"Workplace Financial Education\"],[\"Governor Susan S. Bies\",\"Corporate Governance: Where Do We Go From Here?\"],[\"Governor Susan S. Bies\",\"Corporate Governance and Community Banks\"],[\"Vice Chairman Roger W. Ferguson\",\"The Role of Central Banks in Fostering Efficiency and Stability in the Global Financial System\"],[\"Chairman Alan Greenspan\",\"Financial literacy\"],[\"Governor Mark W. Olson\",\"Panel discussion: The Competitive Edge of Community Banks\"],[\"Chairman Alan Greenspan\",\"Globalization and innovation\"],[\"Governor Susan S. Bies\",\"Financial Innovation and Effective Risk Management\"],[\"Governor Mark W. Olson\",\"The Federal Open Market Committee and the Formation of Monetary Policy\"],[\"Vice Chairman Roger W. Ferguson\",\"A Retrospective on Business-Cycle Recoveries: Are \\\"Jobless\\\" Recoveries the New Norm?\"],[\"Governor Susan S. Bies\",\"Using Enterprise-Wide Risk Management to Effectively Execute Business Strategies\"],[\"Governor Susan S. Bies\",\"Business Financial Conditions and Relationships with Bankers\"],[\"Vice Chairman Roger W. Ferguson\",\"Productivity: Past, Present, and Future\"],[\"Governor Edward M. Gramlich\",\"Oil Shocks and Monetary Policy\"],[\"Governor Edward M. Gramlich\",\"Introductory remarks\"],[\"Chairman Alan Greenspan\",\"Opening remarks\"],[\"Governor Susan S. Bies\",\"Corporate Governance and Risk Management at Community Banks\"],[\"Governor Edward M. Gramlich\",\"Rules for Assessing Social Security Reform\"],[\"Governor Susan S. Bies\",\"Financial Supervision Issues\"],[\"Vice Chairman Roger W. Ferguson\",\"Equilibrium Real Interest Rate: Theory and Application\"],[\"Vice Chairman Roger W. Ferguson\",\"Factors Influencing Business Investment\"],[\"Governor Susan S. Bies\",\"The Federal Reserve System and the Economy\"],[\"Governor Susan S. Bies\",\"Enterprise Perspectives in Financial Institution Supervision\"],[\"Governor Ben S. Bernanke\",\"Oil and the Economy\"],[\"Chairman Alan Greenspan\",\"The mortgage market and consumer debt\"],[\"Chairman Alan Greenspan\",\"Oil\"],[\"Governor Donald L. Kohn\",\"How Should Policymakers Deal with Low-Probability, High-Impact Events?\"],[\"Governor Ben S. Bernanke\",\"International Monetary Reform and Capital Freedom\"],[\"Vice Chairman Roger W. Ferguson\",\"Panel discussion: Safeguarding Good Policy Practice through Maintaining Flexibility\"],[\"Governor Ben S. Bernanke\",\"Panel discussion: What Have We Learned Since October 1979?\"],[\"Chairman Alan Greenspan\",\"Monetary policy twenty-five years after October 1979\"],[\"Governor Ben S. Bernanke\",\"Central Bank Talk and Monetary Policy\"],[\"Vice Chairman Roger W. Ferguson\",\"Free Trade: What Do Economists Really Know?\"],[\"Vice Chairman Roger W. Ferguson\",\"Questions and Reflections on the Personal Saving Rate\"],[\"Chairman Alan Greenspan\",\"Banking\"],[\"Governor Ben S. Bernanke\",\"The Implementation of Basel II: Some Issues for Cross-Border Banking\"],[\"Governor Susan S. Bies\",\"Developments in Financial Markets and Financial Management\"],[\"Governor Susan S. Bies\",\"Challenges Facing the Accounting Profession Today\"],[\"Governor Susan S. Bies\",\"It\\u0092s Not Just about the Models: Recognizing the Importance of Qualitative Factors in an Effective Risk-Management Process\"],[\"Governor Ben S. Bernanke\",\"The Logic of Monetary Policy\"],[\"Chairman Alan Greenspan\",\"Panel discussion: Euro in Wider Circles\"],[\"Governor Susan S. Bies\",\"Fair Value Accounting\"],[\"Governor Mark W. Olson\",\"Recent Economic Experience and Outlook\"],[\"Governor Ben S. Bernanke\",\"Productivity\"],[\"Vice Chairman Roger W. Ferguson\",\"Recessions and Recoveries Associated with Asset-Price Movements: What Do We Know?\"],[\"Governor Ben S. Bernanke\",\"Productivity\"],[\"Governor Susan S. Bies\",\"The Economy and Challenges in Retirement Savings\"],[\"Vice Chairman Roger W. Ferguson\",\"Recessions and Recoveries Associated with Asset-Price Movements: What Do We Know?\"],[\"Governor Donald L. Kohn\",\"Central Bank Communication\"],[\"Vice Chairman Roger W. Ferguson\",\"Interpreting Labor Market Statistics in the Context of Monetary Policy\"],[\"Governor Ben S. Bernanke\",\"Panel Discussion: The Transition from Academic to Policymaker\"],[\"Governor Donald L. Kohn\",\"Crisis Management: The Known, the Unknown, and the Unknowable\"],[\"Chairman Alan Greenspan\",\"Empowering Communities, Attracting Development Capital, and Creating Opportunities\"],[\"Governor Susan S. Bies\",\"Bank Secrecy Act and Capital Compliance Issues\"],[\"Chairman Alan Greenspan\",\"Bank regulation\"],[\"Governor Ben S. Bernanke\",\"The Global Saving Glut and the U.S. Current Account Deficit\"],[\"Chairman Alan Greenspan\",\"Globalization\"],[\"Governor Ben S. Bernanke\",\"The Economic Outlook\"],[\"Governor Edward M. Gramlich\",\"The Importance of Raising National Saving\"],[\"Governor Mark W. Olson\",\"Loan Quality and How It Reflects the Overall Economy\"],[\"Governor Ben S. Bernanke\",\"Inflation in Latin America: A New Era?\"],[\"Governor Susan S. Bies\",\"Behind the Scenes at the FOMC: How the Federal Reserve Determines Monetary Policy\"],[\"Chairman Alan Greenspan\",\"Adam Smith\"],[\"Chairman Alan Greenspan\",\"Current account\"],[\"Vice Chairman Roger W. Ferguson\",\"The Evolution of Central Banking in the United States\"],[\"Governor Donald L. Kohn\",\"Imbalances in the U.S. Economy\"],[\"Governor Edward M. Gramlich\",\"A First Step in Dealing with Growing Retirement Costs\"],[\"Vice Chairman Roger W. Ferguson\",\"U.S. Current Account Deficit: Causes and Consequences\"],[\"Governor Susan S. Bies\",\"The Economy and Managing Personal Finances\"],[\"Governor Ben S. Bernanke\",\"The Global Saving Glut and the U.S. Current Account Deficit\"],[\"Governor Donald L. Kohn\",\"Economic Outlook\"],[\"Chairman Alan Greenspan\",\"Consumer Finance\"],[\"Chairman Alan Greenspan\",\"Energy\"],[\"Governor Susan S. Bies\",\"Home Mortgage Disclosure Act, Bank Secrecy Act, and Capital Issues\"],[\"Governor Ben S. Bernanke\",\"Implementing Monetary Policy\"],[\"Governor Mark W. Olson\",\"Revisiting Traditional Paths to Ownership\"],[\"Governor Donald L. Kohn\",\"Managing Risk in a Changing Economic and Financial Landscape\"],[\"Governor Susan S. Bies\",\"Current Regulatory Issues\"],[\"Governor Susan S. Bies\",\"Enhancing Risk Management under Basel II\"],[\"Governor Susan S. Bies\",\"Community Banks: A Regulatory Update\"],[\"Chairman Alan Greenspan\",\"Central Bank panel discussion\"],[\"Governor Mark W. Olson\",\"The Health of the Banking Industry\"],[\"Governor Edward M. Gramlich\",\"HMDA Data and Their Effect on Mortgage Markets\"],[\"Vice Chairman Roger W. Ferguson\",\"Asset Prices and Monetary Liquidity\"],[\"Governor Susan S. Bies\",\"Capital and Risk Management\"],[\"Governor Edward M. Gramlich\",\"The Politics of Inflation Targeting\"],[\"Chairman Alan Greenspan\",\"Energy\"],[\"Governor Donald L. Kohn\",\"Modeling Inflation: A Policymaker\\u0092s Perspective\"],[\"Governor Mark W. Olson\",\"The Federal Reserve in an Electronic World\"],[\"Governor Susan S. Bies\",\"Observations on Measuring and Managing Operational Risk under Basel II\"],[\"Chairman Alan Greenspan\",\"Government-sponsored enterprises\"],[\"Governor Susan S. Bies\",\"Financial Stability Benefits and Implementation Challenges of Basel II\"],[\"Governor Mark W. Olson\",\"Basel II\"],[\"Chairman Alan Greenspan\",\"Commencement address\"],[\"Vice Chairman Roger W. Ferguson\",\"Globalization: Evidence and Policy Implications\"],[\"Chairman Alan Greenspan\",\"Risk Transfer and Financial Stability\"],[\"Governor Donald L. Kohn\",\"Monetary Policy Perspectives on Risk Premiums in Financial Markets\"],[\"Governor Mark W. Olson\",\"Business Trends and Management Challenges for the Banking Industry\"],[\"Chairman Alan Greenspan\",\"Closing remarks\"],[\"Governor Donald L. Kohn\",\"Panel discussion: Financial Markets, Financial Fragility, and Central Banking\"],[\"Chairman Alan Greenspan\",\"Reflections on central banking\"],[\"Chairman Alan Greenspan\",\"Opening remarks\"],[\"Chairman Alan Greenspan\",\"Remarks on receipt of the Truman Medal for Economic Policy\"],[\"Governor Donald L. Kohn\",\"The Economic Outlook\"],[\"Vice Chairman Roger W. Ferguson\",\"Economic Outlook for the United States\"],[\"Chairman Alan Greenspan\",\"Energy\"],[\"Governor Mark W. Olson\",\"Update on the U.S. Economy and Fiscal Outlook\"],[\"Governor Mark W. Olson\",\"Update on the U.S. Economy and Fiscal Outlook\"],[\"Governor Susan S. Bies\",\"Regulatory Issues\"],[\"Chairman Alan Greenspan\",\"Economic flexibility\"],[\"Governor Donald L. Kohn\",\"Globalization, Inflation, and Monetary Policy\"],[\"Governor Donald L. Kohn\",\"Inflation Modeling: A Policymaker\\u0092s Perspective\"],[\"Vice Chairman Roger W. Ferguson\",\"U.S. currency\"],[\"Chairman Alan Greenspan\",\"Economic flexibility\"],[\"Chairman Alan Greenspan\",\"Mortgage banking\"],[\"Governor Susan S. Bies\",\"Basel II Developments in the United States\"],[\"Vice Chairman Roger W. Ferguson\",\"The Financial Stability Forum meeting\"],[\"Governor Susan S. Bies\",\"Linkages between Internal Capital Measures and Regulatory Capital Requirements\"],[\"Governor Mark W. Olson\",\"Economic Growth: Lessons from the Sioux Falls Experience\"],[\"Chairman Alan Greenspan\",\"International imbalances\"],[\"Chairman Alan Greenspan\",\"Budget policy\"],[\"Governor Susan S. Bies\",\"Recent Developments in Regulatory Capital\"],[\"Vice Chairman Roger W. Ferguson\",\"Recent Changes in Household Finances and Home Lending\"],[\"Vice Chairman Roger W. Ferguson\",\"Financial Regulation: Seeking the Middle Way\"],[\"Vice Chairman Roger W. Ferguson\",\"Asset Price Levels and Volatility: Causes and Implications\"],[\"Governor Mark W. Olson\",\"Perspectives on the Development of a Unified National Payments System in the United States\"],[\"Chairman Alan Greenspan\",\"Stability and Economic Growth: The Role of the Central Bank\"],[\"Governor Mark W. Olson\",\"A Look at Fair Lending through the Lens of the New HMDA Data\"],[\"Vice Chairman Roger W. Ferguson\",\"Monetary Credibility, Inflation, and Economic Growth\"],[\"Chairman Alan Greenspan\",\"Remarks on receipt of honorary degree\"],[\"Governor Susan S. Bies\",\"Productivity and Economic Outlook\"],[\"Chairman Ben S. Bernanke\",\"Reflections on the Yield Curve and Monetary Policy\"],[\"Governor Donald L. Kohn\",\"Monetary policy and asset prices\"],[\"Governor Mark W. Olson\",\"Are Banks Still Special?\"],[\"Vice Chairman Roger W. Ferguson\",\"Remarks\"],[\"Chairman Ben S. Bernanke\",\"Community Banking and Community Bank Supervision \"],[\"Vice Chairman Roger W. Ferguson\",\"Economic Outlook for the United States\"],[\"Chairman Ben S. Bernanke\",\"The Benefits of Price Stability\"],[\"Vice Chairman Roger W. Ferguson\",\"The Importance of Education\"],[\"Vice Chairman Roger W. Ferguson\",\"Globalization, Insurers, and Regulators: Shared Challenges Call for Collaborative Solutions\"],[\"Chairman Ben S. Bernanke\",\"Remarks at ceremonial swearing-in by President Bush\"],[\"Governor Susan S. Bies\",\"The Continuous Challenges of Risk Management\"],[\"Governor Susan S. Bies\",\"Supervisory Perspective on Current Bank Capital, Market Risk, and Loan Product Issues\"],[\"Chairman Ben S. Bernanke\",\"Community Revitalization: Lessons from Anacostia\"],[\"Governor Susan S. Bies\",\"A Bank Supervisor's Perspective on Enterprise Risk Management\"],[\"Governor Donald L. Kohn\",\"Business Capital Spending\"],[\"Chairman Ben S. Bernanke\",\"By the Numbers: Data and Measurement in Community Economic Development\"],[\"Vice Chairman Roger W. Ferguson\",\"Thoughts on Financial Stability and Central Banking\"],[\"Governor Mark W. Olson\",\"Update on the U.S. economy\"],[\"Governor Donald L. Kohn\",\"Economic outlook\"],[\"Governor Susan S. Bies\",\"A Risk-Management Perspective on Recent Regulatory Proposals\"],[\"Governor Mark W. Olson\",\"Enterprise-Wide Compliance-Risk Management\"],[\"Governor Randall S. Kroszner\",\"The Effect of Removing Geographic Restrictions on Banking in the United States: Lessons for Europe\"],[\"Chairman Ben S. Bernanke\",\"Financial Education and the National Jump$tart Coalition Survey\"],[\"Governor Randall S. Kroszner\",\"Central Counterparty Clearing: History, Innovation, and Regulation\"],[\"Governor Susan S. Bies\",\"An Update on Regulatory Issues\"],[\"Vice Chairman Roger W. Ferguson\",\"Financial Regulation: Seeking the Middle Way\"],[\"Governor Susan S. Bies\",\"Sound Capital and Risk Management\"],[\"Governor Randall S. Kroszner\",\"Why Are Yield Curves So Flat and Long Rates So Low Globally?\"],[\"Governor Donald L. Kohn\",\"The Effects of Globalization on Inflation and Their Implications for Monetary Policy\"],[\"Chairman Ben S. Bernanke\",\"Energy and the Economy\"],[\"Governor Randall S. Kroszner\",\"Why Are Yield Curves So Flat and Long Rates So Low Globally?\"],[\"Governor Susan S. Bies\",\"A Supervisor's Perspective on Mortgage Markets and Mortgage Lending Practices\"],[\"Chairman Ben S. Bernanke\",\" Increasing Economic Opportunity: Challenges and Strategies\"],[\"Chairman Ben S. Bernanke\",\"Modern Risk Management and Banking Supervision\"],[\"Governor Susan S. Bies\",\"A Supervisor\\u00e2\\u0080\\u0099s Perspective on Enterprise Risk Management\"],[\"Governor Mark W. Olson\",\"What Are Examiners Looking for When They Examine Banks for Compliance?\"],[\"Chairman Ben S. Bernanke\",\"Commencement address\"],[\"Governor Susan S. Bies\",\"Challenges of Conducting Effective Risk Management in Community Banks\"],[\"Chairman Ben S. Bernanke\",\"Panel Discussion: Comments on the Outlook for the U.S. Economy and Monetary Policy\"],[\"Governor Mark W. Olson\",\"Community Development and the Bigger Picture\"],[\"Governor Randall S. Kroszner\",\"Innovative Statistics for a Dynamic Economy\"],[\"Governor Donald L. Kohn\",\"The Evolving Nature of the Financial System: Financial Crises and the Role of the Central Bank\"],[\"Chairman Ben S. Bernanke\",\"Basel II: Its Promise and Its Challenges\"],[\"Chairman Ben S. Bernanke\",\"Hedge Funds and Systemic Risk\"],[\"Governor Mark W. Olson\",\"Compliance Risk Management in a Diversified Environment\"],[\"Governor Susan S. Bies\",\"Implementing Basel II: Choices and Challenges\"],[\"Governor Donald L. Kohn\",\"Investing in Payment Innovations:  A Federal Reserve Perspective\"],[\"Vice Chairman Donald L. Kohn\",\"Restoring Financial Intermediation by Banks: The Role of Regulators\"],[\"Governor Randall S. Kroszner\",\"Assessing the Potential for Instability in Financial Markets\"],[\"Governor Randall S. Kroszner\",\"Improving the Infrastructure for Non-Agency Mortgage-Backed Securities\"],[\"Chairman Ben S. Bernanke\",\"Housing, Mortgage Markets, and Foreclosures\"],[\"Governor Randall S. Kroszner\",\"The Community Reinvestment Act and the Recent Mortgage Crisis\"],[\"Chairman Ben S. Bernanke\",\"Federal Reserve Policies in the Financial Crisis\"],[\"Chairman Ben S. Bernanke\",\"Policy Coordination Among Central Banks \"],[\"Vice Chairman Stanley Fischer\",\"Financial Stability and Shadow Banks: What We Don't Know Could Hurt Us\"],[\"Chair Janet L. Yellen\",\"The Economic Outlook and Monetary Policy\"],[\"Governor Daniel K. Tarullo\",\"Opening Remarks\"],[\"Governor Lael Brainard\",\"Normalizing Monetary Policy When the Neutral Interest Rate Is Low\"],[\"Governor Jerome H. Powell\",\"Opening Remarks\"],[\"Vice Chairman Stanley Fischer\",\"Emerging Asia in Transition\"],[\"Governor Daniel K. Tarullo\",\"Thinking Critically about Nonbank Financial Intermediation\"],[\"Governor Jerome H. Powell\",\"Central Clearing in an Interdependent World\"],[\"Vice Chairman Stanley Fischer\",\"The Transmission of Exchange Rate Changes to Output and Inflation\"],[\"Chair Janet L. Yellen\",\"Welcoming Remarks\"],[\"Governor Lael Brainard\",\"Unconventional Monetary Policy and Cross-Border Spillovers\"],[\"Governor Daniel K. Tarullo\",\"Shared Responsibility for the Regulation of International Banks\"],[\"Vice Chairman Stanley Fischer\",\"Central Bank Independence\"],[\"Governor Daniel K. Tarullo\",\"Financial Regulation Since the Crisis\"],[\"Governor Lael Brainard\",\"The Opportunities and Challenges of Fintech\"],[\"Governor Jerome H. Powell\",\"A View from the Fed\"],[\"Governor Jerome H. Powell\",\"Recent Economic Developments and Longer-Run Challenges\"],[\"Vice Chairman Stanley Fischer\",\"Longer-Term Challenges for the U.S. Economy\"],[\"Governor Jerome H. Powell\",\"The Global Trade Slowdown and Its Implications for Emerging Asia\"],[\"Governor Lael Brainard\",\"The \\\"Gig\\\" Economy: Implications of the Growth of Contingent Work\"],[\"Vice Chairman Stanley Fischer\",\"Is There a Liquidity Problem Post-Crisis?\"],[\"Vice Chairman Stanley Fischer\",\"U.S. Monetary Policy from an International Perspective\"],[\"Vice Chairman Stanley Fischer\",\"The Economic Outlook\"],[\"Chair Janet L. Yellen\",\"From Adding Accommodation to Scaling It Back\"],[\"Vice Chairman Stanley Fischer\",\"Monetary Policy: By Rule, By Committee, or By Both?\"],[\"Governor Jerome H. Powell\",\"Innovation, Technology, and the Payments System\"],[\"Governor Lael Brainard\",\"Transitions in the Outlook and Monetary Policy\"],[\"Governor Jerome H. Powell\",\"The Economic Outlook and Monetary Policy\"],[\"Vice Chairman Stanley Fischer\",\"\\\"I'd Rather Have Bob Solow Than an Econometric Model, But ...\\\"\"],[\"Governor Jerome H. Powell\",\"Thoughts on the Normalization of Monetary Policy\"],[\"Governor Lael Brainard\",\"Navigating the Different Signals from Inflation and Unemployment\"],[\"Governor Lael Brainard\",\"Why Opportunity and Inclusion Matter to America\\u00e2\\u0080\\u0099s Economic Strength\"],[\"Chair Janet L. Yellen\",\"So We All Can Succeed: 125 Years of Women's Participation in the Economy\"],[\"Vice Chairman Stanley Fischer\",\"Committee Decisions and Monetary Policy Rules\"],[\"Governor Lael Brainard\",\"Workforce Development in Today's Economy\"],[\"Vice Chair for Supervision Randal K. Quarles\",\"Thoughts on Prudent Innovation in the Payment System\"],[\"Governor Lael Brainard\",\"Where Do Consumers Fit in the Fintech Stack?\"],[\"Governor Lael Brainard\",\"Regional Food Systems and Community Development\"],[\"Chair Janet L. Yellen\",\"Remarks accepting the 2017 Paul H. Douglas Award for Ethics in Government\"],[\"Governor Jerome H. Powell\",\"Introductory Remarks\"],[\"Governor Lael Brainard\",\"Navigating Monetary Policy as Headwinds Shift to Tailwinds\"],[\"Vice Chair for Supervision Randal K. Quarles\",\"The Federal Reserve\\u00e2\\u0080\\u0099s Regulatory Agenda for Foreign Banking Organizations: What Lies Ahead for Enhanced Prudential Standards and the Volcker Rule\"],[\"Vice Chair for Supervision Randal K. Quarles\",\"Brief Thoughts on the Financial Regulatory System and Cybersecurity\"],[\"Vice Chair for Supervision Randal K. Quarles\",\"An Assessment of the U.S. Economy\"],[\"Vice Chair for Supervision Randal K. Quarles\",\"The U.S. Economy after the Global Financial Crisis\"],[\"Chairman Jerome H. Powell\",\"Remarks at the Ceremonial Swearing-in\"],[\"Governor Lael Brainard\",\"Sustaining Full Employment and Inflation around Target\"],[\"Chairman Jerome H. Powell\",\"Financial Stability and Central Bank Transparency\"],[\"Governor Lael Brainard\",\"Keeping Community at the Heart of the Community Reinvestment Act\"],[\"Vice Chair for Supervision Randal K. Quarles\",\"Trust Everyone--But Brand Your Cattle: Finding the Right Balance in Cross-Border Resolution\"],[\"Governor Lael Brainard\",\"Cryptocurrencies, Digital Currencies, and Distributed Ledger Technologies: What Are We Learning?\"],[\"Chairman Jerome H. Powell\",\"Monetary Policy Influences on Global Financial Conditions and International Capital Flows\"],[\"Vice Chair for Supervision Randal K. Quarles\",\"Liquidity Regulation and the Size of the Fed's Balance Sheet\"],[\"Chairman Jerome H. Powell\",\"Brief Remarks on the U.S. Economy\"],[\"Governor Lael Brainard\",\"What Do We Mean by Neutral and What Role Does It Play in Monetary Policy?\"],[\"Chairman Jerome H. Powell\",\"Monetary Policy in a Changing Economy\"],[\"Governor Lael Brainard\",\"Assessing Financial Stability over the Cycle\"],[\"Chairman Jerome H. Powell\",\"Welcoming Remarks\"],[\"Vice Chair for Supervision Randal K. Quarles\",\"Banks as Vital Infrastructure for Rural Communities of the West\"],[\"Governor Lael Brainard\",\"Celebrating Excellence in Community Development\"],[\"Chairman Jerome H. Powell\",\"Celebrating Excellence in Community Development\"],[\"Governor Lael Brainard\",\"The Structure of the Treasury Market:  What Are We Learning?\"],[\"Chairman Jerome H. Powell\",\"The Federal Reserve's Framework for Monitoring Financial Stability\"],[\"Vice Chairman Richard H. Clarida\",\"Data Dependence and U.S. Monetary Policy\"],[\"Vice Chair for Supervision Randal K. Quarles\",\"Beginning Stress Testing\\u00e2\\u0080\\u0099s New Chapter\"],[\"Governor Lael Brainard\",\"What Are We Learning about Artificial Intelligence in Financial Services?\"],[\"Vice Chair for Supervision Randal K. Quarles\",\"A New Chapter in Stress Testing\"]],\"fillcolor\":\"rgba(255,255,255,0)\",\"hoveron\":\"points\",\"hovertemplate\":\"action=increase<br>filter_text_len=%{x}<br>speaker=%{customdata[0]}<br>title=%{customdata[1]}<extra></extra>\",\"jitter\":0,\"legendgroup\":\"increase\",\"line\":{\"color\":\"rgba(255,255,255,0)\"},\"marker\":{\"color\":\"#00cc96\",\"symbol\":\"line-ns-open\"},\"name\":\"increase\",\"offsetgroup\":\"increase\",\"showlegend\":false,\"x\":[494,2609,2716,1171,1764,2727,1123,1301,1502,1079,1140,1162,1798,1849,1644,770,1151,5058,1269,2163,2110,2144,2525,2802,2180,3457,1491,642,1812,1613,2174,1690,1775,1609,1951,1820,1572,1891,1348,2360,1308,1542,1273,1478,1073,1175,1533,1522,1377,1565,2052,2287,1270,1343,933,2344,1854,855,2136,453,3204,374,2535,1567,2105,619,1416,2389,1728,1856,1944,2262,2108,1991,1553,356,1212,1442,1321,1617,167,2038,2503,1853,3801,1309,1367,1639,3063,1954,2472,597,2971,3271,2567,1635,1294,1941,1424,2277,3680,1288,1610,1704,3106,1027,3106,2326,1027,1748,2295,1175,1819,890,1359,1362,4175,2422,30,2279,835,3114,1684,2260,1744,1937,2492,1203,2775,2591,3935,2024,871,1415,2274,2314,2024,1598,55,1547,1666,801,1393,1530,2357,1567,1886,2164,1952,1783,1599,2321,1422,1667,960,3348,2740,1524,2204,433,1354,1662,299,1183,1866,1865,1874,1972,1972,1855,1236,2893,1446,485,1396,71,1202,815,2328,1294,2440,1112,2022,1957,1501,2338,1364,1878,1494,1747,655,1475,2208,2646,1653,948,1982,2197,2620,1745,1513,291,1581,2386,1358,2217,1599,1909,2212,725,1746,2353,999,2761,330,1811,1605,1481,2217,2491,2151,2175,2490,2191,1772,1963,2063,1717,1871,1952,886,1113,2596,2115,2276,1697,1370,1872,1626,620,2067,1389,2491,2140,2400,1049,2481,3255,408,2723,591,2308,2597,1848,1792,420,1846,3438,3732,3948,2019,2849,2148,694,2824,2841,2187,2534,477,2720,1803,1893,2359,3312,2729,2605,2564,4139,4281,2813,840,1786,4121,979,484,1032,1386,1957,437,2247,679,378,2268,1191,2440,1607,2076,1561,2748,267,2545,3100,2613,847,2076,821,615,2686,2479,1416,934,2640,1927],\"xaxis\":\"x2\",\"yaxis\":\"y2\",\"type\":\"box\"}],                        {\"template\":{\"data\":{\"bar\":[{\"error_x\":{\"color\":\"#2a3f5f\"},\"error_y\":{\"color\":\"#2a3f5f\"},\"marker\":{\"line\":{\"color\":\"#E5ECF6\",\"width\":0.5},\"pattern\":{\"fillmode\":\"overlay\",\"size\":10,\"solidity\":0.2}},\"type\":\"bar\"}],\"barpolar\":[{\"marker\":{\"line\":{\"color\":\"#E5ECF6\",\"width\":0.5},\"pattern\":{\"fillmode\":\"overlay\",\"size\":10,\"solidity\":0.2}},\"type\":\"barpolar\"}],\"carpet\":[{\"aaxis\":{\"endlinecolor\":\"#2a3f5f\",\"gridcolor\":\"white\",\"linecolor\":\"white\",\"minorgridcolor\":\"white\",\"startlinecolor\":\"#2a3f5f\"},\"baxis\":{\"endlinecolor\":\"#2a3f5f\",\"gridcolor\":\"white\",\"linecolor\":\"white\",\"minorgridcolor\":\"white\",\"startlinecolor\":\"#2a3f5f\"},\"type\":\"carpet\"}],\"choropleth\":[{\"colorbar\":{\"outlinewidth\":0,\"ticks\":\"\"},\"type\":\"choropleth\"}],\"contour\":[{\"colorbar\":{\"outlinewidth\":0,\"ticks\":\"\"},\"colorscale\":[[0.0,\"#0d0887\"],[0.1111111111111111,\"#46039f\"],[0.2222222222222222,\"#7201a8\"],[0.3333333333333333,\"#9c179e\"],[0.4444444444444444,\"#bd3786\"],[0.5555555555555556,\"#d8576b\"],[0.6666666666666666,\"#ed7953\"],[0.7777777777777778,\"#fb9f3a\"],[0.8888888888888888,\"#fdca26\"],[1.0,\"#f0f921\"]],\"type\":\"contour\"}],\"contourcarpet\":[{\"colorbar\":{\"outlinewidth\":0,\"ticks\":\"\"},\"type\":\"contourcarpet\"}],\"heatmap\":[{\"colorbar\":{\"outlinewidth\":0,\"ticks\":\"\"},\"colorscale\":[[0.0,\"#0d0887\"],[0.1111111111111111,\"#46039f\"],[0.2222222222222222,\"#7201a8\"],[0.3333333333333333,\"#9c179e\"],[0.4444444444444444,\"#bd3786\"],[0.5555555555555556,\"#d8576b\"],[0.6666666666666666,\"#ed7953\"],[0.7777777777777778,\"#fb9f3a\"],[0.8888888888888888,\"#fdca26\"],[1.0,\"#f0f921\"]],\"type\":\"heatmap\"}],\"heatmapgl\":[{\"colorbar\":{\"outlinewidth\":0,\"ticks\":\"\"},\"colorscale\":[[0.0,\"#0d0887\"],[0.1111111111111111,\"#46039f\"],[0.2222222222222222,\"#7201a8\"],[0.3333333333333333,\"#9c179e\"],[0.4444444444444444,\"#bd3786\"],[0.5555555555555556,\"#d8576b\"],[0.6666666666666666,\"#ed7953\"],[0.7777777777777778,\"#fb9f3a\"],[0.8888888888888888,\"#fdca26\"],[1.0,\"#f0f921\"]],\"type\":\"heatmapgl\"}],\"histogram\":[{\"marker\":{\"pattern\":{\"fillmode\":\"overlay\",\"size\":10,\"solidity\":0.2}},\"type\":\"histogram\"}],\"histogram2d\":[{\"colorbar\":{\"outlinewidth\":0,\"ticks\":\"\"},\"colorscale\":[[0.0,\"#0d0887\"],[0.1111111111111111,\"#46039f\"],[0.2222222222222222,\"#7201a8\"],[0.3333333333333333,\"#9c179e\"],[0.4444444444444444,\"#bd3786\"],[0.5555555555555556,\"#d8576b\"],[0.6666666666666666,\"#ed7953\"],[0.7777777777777778,\"#fb9f3a\"],[0.8888888888888888,\"#fdca26\"],[1.0,\"#f0f921\"]],\"type\":\"histogram2d\"}],\"histogram2dcontour\":[{\"colorbar\":{\"outlinewidth\":0,\"ticks\":\"\"},\"colorscale\":[[0.0,\"#0d0887\"],[0.1111111111111111,\"#46039f\"],[0.2222222222222222,\"#7201a8\"],[0.3333333333333333,\"#9c179e\"],[0.4444444444444444,\"#bd3786\"],[0.5555555555555556,\"#d8576b\"],[0.6666666666666666,\"#ed7953\"],[0.7777777777777778,\"#fb9f3a\"],[0.8888888888888888,\"#fdca26\"],[1.0,\"#f0f921\"]],\"type\":\"histogram2dcontour\"}],\"mesh3d\":[{\"colorbar\":{\"outlinewidth\":0,\"ticks\":\"\"},\"type\":\"mesh3d\"}],\"parcoords\":[{\"line\":{\"colorbar\":{\"outlinewidth\":0,\"ticks\":\"\"}},\"type\":\"parcoords\"}],\"pie\":[{\"automargin\":true,\"type\":\"pie\"}],\"scatter\":[{\"marker\":{\"colorbar\":{\"outlinewidth\":0,\"ticks\":\"\"}},\"type\":\"scatter\"}],\"scatter3d\":[{\"line\":{\"colorbar\":{\"outlinewidth\":0,\"ticks\":\"\"}},\"marker\":{\"colorbar\":{\"outlinewidth\":0,\"ticks\":\"\"}},\"type\":\"scatter3d\"}],\"scattercarpet\":[{\"marker\":{\"colorbar\":{\"outlinewidth\":0,\"ticks\":\"\"}},\"type\":\"scattercarpet\"}],\"scattergeo\":[{\"marker\":{\"colorbar\":{\"outlinewidth\":0,\"ticks\":\"\"}},\"type\":\"scattergeo\"}],\"scattergl\":[{\"marker\":{\"colorbar\":{\"outlinewidth\":0,\"ticks\":\"\"}},\"type\":\"scattergl\"}],\"scattermapbox\":[{\"marker\":{\"colorbar\":{\"outlinewidth\":0,\"ticks\":\"\"}},\"type\":\"scattermapbox\"}],\"scatterpolar\":[{\"marker\":{\"colorbar\":{\"outlinewidth\":0,\"ticks\":\"\"}},\"type\":\"scatterpolar\"}],\"scatterpolargl\":[{\"marker\":{\"colorbar\":{\"outlinewidth\":0,\"ticks\":\"\"}},\"type\":\"scatterpolargl\"}],\"scatterternary\":[{\"marker\":{\"colorbar\":{\"outlinewidth\":0,\"ticks\":\"\"}},\"type\":\"scatterternary\"}],\"surface\":[{\"colorbar\":{\"outlinewidth\":0,\"ticks\":\"\"},\"colorscale\":[[0.0,\"#0d0887\"],[0.1111111111111111,\"#46039f\"],[0.2222222222222222,\"#7201a8\"],[0.3333333333333333,\"#9c179e\"],[0.4444444444444444,\"#bd3786\"],[0.5555555555555556,\"#d8576b\"],[0.6666666666666666,\"#ed7953\"],[0.7777777777777778,\"#fb9f3a\"],[0.8888888888888888,\"#fdca26\"],[1.0,\"#f0f921\"]],\"type\":\"surface\"}],\"table\":[{\"cells\":{\"fill\":{\"color\":\"#EBF0F8\"},\"line\":{\"color\":\"white\"}},\"header\":{\"fill\":{\"color\":\"#C8D4E3\"},\"line\":{\"color\":\"white\"}},\"type\":\"table\"}]},\"layout\":{\"annotationdefaults\":{\"arrowcolor\":\"#2a3f5f\",\"arrowhead\":0,\"arrowwidth\":1},\"autotypenumbers\":\"strict\",\"coloraxis\":{\"colorbar\":{\"outlinewidth\":0,\"ticks\":\"\"}},\"colorscale\":{\"diverging\":[[0,\"#8e0152\"],[0.1,\"#c51b7d\"],[0.2,\"#de77ae\"],[0.3,\"#f1b6da\"],[0.4,\"#fde0ef\"],[0.5,\"#f7f7f7\"],[0.6,\"#e6f5d0\"],[0.7,\"#b8e186\"],[0.8,\"#7fbc41\"],[0.9,\"#4d9221\"],[1,\"#276419\"]],\"sequential\":[[0.0,\"#0d0887\"],[0.1111111111111111,\"#46039f\"],[0.2222222222222222,\"#7201a8\"],[0.3333333333333333,\"#9c179e\"],[0.4444444444444444,\"#bd3786\"],[0.5555555555555556,\"#d8576b\"],[0.6666666666666666,\"#ed7953\"],[0.7777777777777778,\"#fb9f3a\"],[0.8888888888888888,\"#fdca26\"],[1.0,\"#f0f921\"]],\"sequentialminus\":[[0.0,\"#0d0887\"],[0.1111111111111111,\"#46039f\"],[0.2222222222222222,\"#7201a8\"],[0.3333333333333333,\"#9c179e\"],[0.4444444444444444,\"#bd3786\"],[0.5555555555555556,\"#d8576b\"],[0.6666666666666666,\"#ed7953\"],[0.7777777777777778,\"#fb9f3a\"],[0.8888888888888888,\"#fdca26\"],[1.0,\"#f0f921\"]]},\"colorway\":[\"#636efa\",\"#EF553B\",\"#00cc96\",\"#ab63fa\",\"#FFA15A\",\"#19d3f3\",\"#FF6692\",\"#B6E880\",\"#FF97FF\",\"#FECB52\"],\"font\":{\"color\":\"#2a3f5f\"},\"geo\":{\"bgcolor\":\"white\",\"lakecolor\":\"white\",\"landcolor\":\"#E5ECF6\",\"showlakes\":true,\"showland\":true,\"subunitcolor\":\"white\"},\"hoverlabel\":{\"align\":\"left\"},\"hovermode\":\"closest\",\"mapbox\":{\"style\":\"light\"},\"paper_bgcolor\":\"white\",\"plot_bgcolor\":\"#E5ECF6\",\"polar\":{\"angularaxis\":{\"gridcolor\":\"white\",\"linecolor\":\"white\",\"ticks\":\"\"},\"bgcolor\":\"#E5ECF6\",\"radialaxis\":{\"gridcolor\":\"white\",\"linecolor\":\"white\",\"ticks\":\"\"}},\"scene\":{\"xaxis\":{\"backgroundcolor\":\"#E5ECF6\",\"gridcolor\":\"white\",\"gridwidth\":2,\"linecolor\":\"white\",\"showbackground\":true,\"ticks\":\"\",\"zerolinecolor\":\"white\"},\"yaxis\":{\"backgroundcolor\":\"#E5ECF6\",\"gridcolor\":\"white\",\"gridwidth\":2,\"linecolor\":\"white\",\"showbackground\":true,\"ticks\":\"\",\"zerolinecolor\":\"white\"},\"zaxis\":{\"backgroundcolor\":\"#E5ECF6\",\"gridcolor\":\"white\",\"gridwidth\":2,\"linecolor\":\"white\",\"showbackground\":true,\"ticks\":\"\",\"zerolinecolor\":\"white\"}},\"shapedefaults\":{\"line\":{\"color\":\"#2a3f5f\"}},\"ternary\":{\"aaxis\":{\"gridcolor\":\"white\",\"linecolor\":\"white\",\"ticks\":\"\"},\"baxis\":{\"gridcolor\":\"white\",\"linecolor\":\"white\",\"ticks\":\"\"},\"bgcolor\":\"#E5ECF6\",\"caxis\":{\"gridcolor\":\"white\",\"linecolor\":\"white\",\"ticks\":\"\"}},\"title\":{\"x\":0.05},\"xaxis\":{\"automargin\":true,\"gridcolor\":\"white\",\"linecolor\":\"white\",\"ticks\":\"\",\"title\":{\"standoff\":15},\"zerolinecolor\":\"white\",\"zerolinewidth\":2},\"yaxis\":{\"automargin\":true,\"gridcolor\":\"white\",\"linecolor\":\"white\",\"ticks\":\"\",\"title\":{\"standoff\":15},\"zerolinecolor\":\"white\",\"zerolinewidth\":2}}},\"xaxis\":{\"anchor\":\"y\",\"domain\":[0.0,1.0],\"title\":{\"text\":\"filter_text_len\"}},\"yaxis\":{\"anchor\":\"x\",\"domain\":[0.0,0.7326],\"title\":{\"text\":\"count\"}},\"xaxis2\":{\"anchor\":\"y2\",\"domain\":[0.0,1.0],\"matches\":\"x\",\"showticklabels\":false,\"showgrid\":true},\"yaxis2\":{\"anchor\":\"x2\",\"domain\":[0.7426,1.0],\"matches\":\"y2\",\"showticklabels\":false,\"showline\":false,\"ticks\":\"\",\"showgrid\":false},\"legend\":{\"title\":{\"text\":\"action\"},\"tracegroupgap\":0},\"title\":{\"text\":\"Length of Speach\"},\"barmode\":\"relative\"},                        {\"responsive\": true}                    ).then(function(){\n",
       "                            \n",
       "var gd = document.getElementById('5a03dc7a-c8df-4c9e-90cf-d6c60392b33d');\n",
       "var x = new MutationObserver(function (mutations, observer) {{\n",
       "        var display = window.getComputedStyle(gd).display;\n",
       "        if (!display || display === 'none') {{\n",
       "            console.log([gd, 'removed!']);\n",
       "            Plotly.purge(gd);\n",
       "            observer.disconnect();\n",
       "        }}\n",
       "}});\n",
       "\n",
       "// Listen for the removal of the full notebook cells\n",
       "var notebookContainer = gd.closest('#notebook-container');\n",
       "if (notebookContainer) {{\n",
       "    x.observe(notebookContainer, {childList: true});\n",
       "}}\n",
       "\n",
       "// Listen for the clearing of the current output cell\n",
       "var outputEl = gd.closest('.output');\n",
       "if (outputEl) {{\n",
       "    x.observe(outputEl, {childList: true});\n",
       "}}\n",
       "\n",
       "                        })                };                });            </script>        </div>"
      ]
     },
     "metadata": {},
     "output_type": "display_data"
    }
   ],
   "source": [
    "fig = px.histogram(df_merge, x=\"filter_text_len\", color='action' ,marginal=\"rug\",nbins=150, hover_data=['speaker','title']\n",
    "                  ,title=\"Length of Speach\")\n",
    "fig.show()"
   ]
  },
  {
   "cell_type": "code",
   "execution_count": null,
   "id": "f7804548-c893-4d04-8997-bbbd49740c60",
   "metadata": {},
   "outputs": [],
   "source": [
    "text = str(df_merge['text'])\n",
    "title = 'Speech WordCloud - All Text'\n",
    "\n",
    "w = text.split()\n",
    "\n",
    "words = ' '.join(w)\n",
    "\n",
    "wordcloud = WordCloud(\n",
    "                  background_color='white',\n",
    "                  width=5000,\n",
    "                  height=3000\n",
    "                 ).generate(words)\n",
    "plt.figure(1,figsize=(10, 7))\n",
    "plt.imshow(wordcloud)\n",
    "plt.axis('off')\n",
    "plt.title(title, fontsize=24)\n",
    "plt.show()"
   ]
  },
  {
   "cell_type": "code",
   "execution_count": null,
   "id": "e3a40382-c5e3-4ab7-9c88-6fb1ece3ec93",
   "metadata": {},
   "outputs": [],
   "source": [
    "text = str(df_merge['filter_text'])\n",
    "title = 'Speech WordCloud - Filtered Words'\n",
    "\n",
    "w = text.split()\n",
    "\n",
    "words = ' '.join(w)\n",
    "\n",
    "wordcloud = WordCloud(\n",
    "                  background_color='white',\n",
    "                  width=5000,\n",
    "                  height=3000\n",
    "                 ).generate(words)\n",
    "plt.figure(1,figsize=(10, 7))\n",
    "plt.imshow(wordcloud)\n",
    "plt.axis('off')\n",
    "plt.title(title, fontsize=24)\n",
    "plt.show()"
   ]
  },
  {
   "cell_type": "markdown",
   "id": "74eaa315-2def-4ca8-a831-f3295b6b89a2",
   "metadata": {},
   "source": [
    "<br>\n",
    "\n",
    "### merge speech and FOMC Meeting (events)"
   ]
  },
  {
   "cell_type": "code",
   "execution_count": null,
   "id": "a88cdc03-5682-4f22-8206-9027be673996",
   "metadata": {},
   "outputs": [],
   "source": []
  },
  {
   "cell_type": "code",
   "execution_count": null,
   "id": "c4960b83-b5ff-4d85-b7a5-147c743f6950",
   "metadata": {},
   "outputs": [],
   "source": []
  },
  {
   "cell_type": "code",
   "execution_count": null,
   "id": "0de1867a-d3f6-4aef-9e0b-376eba5d1447",
   "metadata": {},
   "outputs": [],
   "source": []
  },
  {
   "cell_type": "markdown",
   "id": "2408de68-2382-46ed-8160-10d6499820e7",
   "metadata": {},
   "source": [
    "## Model"
   ]
  },
  {
   "cell_type": "markdown",
   "id": "0498822a-5973-44c8-992d-31c6d09c0b36",
   "metadata": {},
   "source": [
    "### Predict FOMC Rate Decision (Naive Bayes Sentiment Analysis)"
   ]
  },
  {
   "cell_type": "code",
   "execution_count": null,
   "id": "7e276a3b-59ef-4ed6-a8d1-43d67cc65f61",
   "metadata": {},
   "outputs": [],
   "source": []
  },
  {
   "cell_type": "code",
   "execution_count": null,
   "id": "71a4b62e-d8ba-4e5e-b3ca-732b303d82e6",
   "metadata": {},
   "outputs": [],
   "source": [
    "set(df_merge['speaker'])"
   ]
  },
  {
   "cell_type": "markdown",
   "id": "e537c8d7-358b-45b0-899c-29b2ee8757d4",
   "metadata": {},
   "source": [
    "#### Chairman Alan Greenspan"
   ]
  },
  {
   "cell_type": "code",
   "execution_count": null,
   "id": "5ed48e41-2eeb-4483-a00f-2a16d7304693",
   "metadata": {},
   "outputs": [],
   "source": [
    "df_merge.columns"
   ]
  },
  {
   "cell_type": "code",
   "execution_count": null,
   "id": "801523f9-6124-414e-aaff-3ba00029a976",
   "metadata": {},
   "outputs": [],
   "source": [
    "set(df_merge['fed_chair'])"
   ]
  },
  {
   "cell_type": "code",
   "execution_count": null,
   "id": "1ddbbe31-171c-4311-a791-e4e29d1155bc",
   "metadata": {},
   "outputs": [],
   "source": [
    "df_merge['fed_chair'].value_counts(sort=True)"
   ]
  },
  {
   "cell_type": "code",
   "execution_count": null,
   "id": "e172149c-4df2-4e17-b514-cb581730c7b8",
   "metadata": {},
   "outputs": [],
   "source": [
    "greenspan_df = df_merge[df_merge['speaker'] == 'Chairman Alan Greenspan']"
   ]
  },
  {
   "cell_type": "code",
   "execution_count": null,
   "id": "5f904672-4099-4fe5-b090-c529c1a0754a",
   "metadata": {},
   "outputs": [],
   "source": [
    "fig = px.bar(greenspan_df, y=\"action\", color='rate_change', orientation='h',\n",
    "             hover_data=[\"action\", \"rate_change\"],\n",
    "             height=400,\n",
    "             title='Rate Changes by Fed Chair (Alan Greenspan)')\n",
    "fig.show()"
   ]
  },
  {
   "cell_type": "code",
   "execution_count": null,
   "id": "14d289f3-48a9-4764-b8e7-100251b99711",
   "metadata": {},
   "outputs": [],
   "source": [
    "# Create CountVectorizer object\n",
    "vectorizer = CountVectorizer(strip_accents='ascii', stop_words='english', lowercase=False)\n",
    "\n",
    "# Split into training and test sets\n",
    "#X_train, X_test, y_train, y_test = train_test_split(greenspan_df['filter_text'], greenspan_df['action'], test_size=0.25)\n",
    "X_train, X_test, y_train, y_test = train_test_split(greenspan_df['filter_text'], greenspan_df['rate_change'].astype(str), test_size=0.25)"
   ]
  },
  {
   "cell_type": "code",
   "execution_count": null,
   "id": "6d19e3ae-1d31-4588-a05e-00fcd17194f2",
   "metadata": {},
   "outputs": [],
   "source": [
    "# Generate training Bow vectors\n",
    "X_train_bow = vectorizer.fit_transform(X_train)\n",
    "\n",
    "# Generate test BoW vectors\n",
    "X_test_bow = vectorizer.transform(X_test)"
   ]
  },
  {
   "cell_type": "code",
   "execution_count": null,
   "id": "3cd3bd9b-c646-4a9d-b507-ccce6d73c5c7",
   "metadata": {},
   "outputs": [],
   "source": [
    "# Create MultinomialNB object\n",
    "clf = MultinomialNB()\n",
    "\n",
    "# Train clf\n",
    "clf.fit(X_train_bow, y_train)\n",
    "cv_results = cross_val_score(clf, X_train_bow, y_train, cv=5)"
   ]
  },
  {
   "cell_type": "code",
   "execution_count": null,
   "id": "2d40f481-1487-4216-854d-5987068cf484",
   "metadata": {},
   "outputs": [],
   "source": [
    "print(cv_results)"
   ]
  },
  {
   "cell_type": "code",
   "execution_count": null,
   "id": "3c26d51c-cf86-4eb7-98a7-36f657c02eb3",
   "metadata": {},
   "outputs": [],
   "source": [
    "print(\"Average 5-Fold CV Score: {}\".format(np.mean(cv_results)))"
   ]
  },
  {
   "cell_type": "code",
   "execution_count": null,
   "id": "f206c19d-391a-40f7-ab44-a86fdf157867",
   "metadata": {},
   "outputs": [],
   "source": [
    "# confusion matrix\n",
    "y_pred = clf.predict(X_test_bow)\n",
    "cm = confusion_matrix(y_test, y_pred)\n",
    "#print(cm)\n",
    "\n",
    "#cm = confusion_matrix(np.arange(25), np.arange(25))\n",
    "labels = np.unique(y_test)\n",
    "cmp = ConfusionMatrixDisplay(cm, display_labels=labels)\n",
    "fig, ax = plt.subplots(figsize=(10,10))\n",
    "_none = cmp.plot(ax=ax, cmap=plt.cm.Blues)"
   ]
  },
  {
   "cell_type": "code",
   "execution_count": null,
   "id": "ade02f5b-4e64-411f-8002-9346c2785af4",
   "metadata": {},
   "outputs": [],
   "source": [
    "print(classification_report(y_test, y_pred))"
   ]
  },
  {
   "cell_type": "markdown",
   "id": "ae91fa87-3ce8-4235-84b4-3c858e28af64",
   "metadata": {},
   "source": [
    "#### Chairman Ben S. Bernanke"
   ]
  },
  {
   "cell_type": "code",
   "execution_count": null,
   "id": "50a82293-2d56-4780-87e4-c990850adb6c",
   "metadata": {},
   "outputs": [],
   "source": [
    "ben_df = df_merge[df_merge['speaker'] == 'Chairman Ben S. Bernanke']"
   ]
  },
  {
   "cell_type": "code",
   "execution_count": null,
   "id": "22afd7e1-049e-4523-b0f8-1d00e0557684",
   "metadata": {},
   "outputs": [],
   "source": [
    "fig = px.bar(ben_df, y=\"action\", color='rate_change', orientation='h',\n",
    "             hover_data=[\"action\", \"rate_change\"],\n",
    "             height=400,\n",
    "             title='Rate Changes by Fed Chair (Ben Bernanke)')\n",
    "fig.show()"
   ]
  },
  {
   "cell_type": "code",
   "execution_count": null,
   "id": "7964bd89-9fb6-41ee-acc5-01bb0ca0771d",
   "metadata": {},
   "outputs": [],
   "source": [
    "# Create CountVectorizer object\n",
    "vectorizer = CountVectorizer(strip_accents='ascii', stop_words='english', lowercase=False)\n",
    "\n",
    "# Split into training and test sets\n",
    "X_train, X_test, y_train, y_test = train_test_split(ben_df['filter_text'], ben_df['action'], test_size=0.25)\n",
    "#X_train, X_test, y_train, y_test = train_test_split(ben_df['filter_text'], ben_df['rate_change'].astype(str), test_size=0.25)"
   ]
  },
  {
   "cell_type": "code",
   "execution_count": null,
   "id": "c26cfc5d-7ac5-4df4-a04f-e70288c8ff2b",
   "metadata": {},
   "outputs": [],
   "source": [
    "# Generate training Bow vectors\n",
    "X_train_bow = vectorizer.fit_transform(X_train)\n",
    "\n",
    "# Generate test BoW vectors\n",
    "X_test_bow = vectorizer.transform(X_test)"
   ]
  },
  {
   "cell_type": "code",
   "execution_count": null,
   "id": "349e0052-4d71-4702-a467-ba72941abe58",
   "metadata": {},
   "outputs": [],
   "source": [
    "# Create MultinomialNB object\n",
    "clf = MultinomialNB()\n",
    "\n",
    "# Train clf\n",
    "clf.fit(X_train_bow, y_train)\n",
    "cv_results = cross_val_score(clf, X_train_bow, y_train, cv=5)"
   ]
  },
  {
   "cell_type": "code",
   "execution_count": null,
   "id": "536ead8c-b68c-4776-9ee8-62094d6a5d3f",
   "metadata": {},
   "outputs": [],
   "source": [
    "print(cv_results)"
   ]
  },
  {
   "cell_type": "code",
   "execution_count": null,
   "id": "c88ad955-d008-4159-a18d-bfb1a999a190",
   "metadata": {},
   "outputs": [],
   "source": [
    "print(\"Average 5-Fold CV Score: {}\".format(np.mean(cv_results)))"
   ]
  },
  {
   "cell_type": "code",
   "execution_count": null,
   "id": "6784eedc-8ef6-4459-9ef2-1031af6ac331",
   "metadata": {},
   "outputs": [],
   "source": [
    "# confusion matrix\n",
    "y_pred = clf.predict(X_test_bow)\n",
    "cm = confusion_matrix(y_test, y_pred)\n",
    "#print(cm)\n",
    "\n",
    "#cm = confusion_matrix(np.arange(25), np.arange(25))\n",
    "labels = np.unique(y_test)\n",
    "cmp = ConfusionMatrixDisplay(cm, display_labels=labels)\n",
    "fig, ax = plt.subplots(figsize=(10,10))\n",
    "_none = cmp.plot(ax=ax, cmap=plt.cm.Blues)"
   ]
  },
  {
   "cell_type": "code",
   "execution_count": null,
   "id": "12a59ffb-e34e-4d6d-87f3-f232f67e8fae",
   "metadata": {},
   "outputs": [],
   "source": [
    "print(classification_report(y_test, y_pred))"
   ]
  },
  {
   "cell_type": "markdown",
   "id": "6a5c1b26-f408-44ac-9039-05b1a709c1cb",
   "metadata": {},
   "source": [
    "#### Chair Janet L. Yellen"
   ]
  },
  {
   "cell_type": "code",
   "execution_count": null,
   "id": "51692e38-2494-4dcd-9788-82e73edcbd9c",
   "metadata": {},
   "outputs": [],
   "source": [
    "yellen_df = df_merge[df_merge['speaker'] == 'Chair Janet L. Yellen']"
   ]
  },
  {
   "cell_type": "code",
   "execution_count": null,
   "id": "66ff3039-e39b-4796-9993-e05d66a56848",
   "metadata": {},
   "outputs": [],
   "source": [
    "fig = px.bar(yellen_df, y=\"action\", color='rate_change', orientation='h',\n",
    "             hover_data=[\"action\", \"rate_change\"],\n",
    "             height=400,\n",
    "             title='Rate Changes by Fed Chair (Janet L. Yellen)')\n",
    "fig.show()"
   ]
  },
  {
   "cell_type": "code",
   "execution_count": null,
   "id": "3b910b29-12e3-463d-a97e-32770949d55e",
   "metadata": {},
   "outputs": [],
   "source": [
    "#### Chairman Jerome H. Powell"
   ]
  },
  {
   "cell_type": "code",
   "execution_count": null,
   "id": "116740fb-b2c5-4585-bc73-45c671ffebc5",
   "metadata": {},
   "outputs": [],
   "source": [
    "powell_df = df_merge[df_merge['speaker'] == 'Chairman Jerome H. Powell']"
   ]
  },
  {
   "cell_type": "code",
   "execution_count": null,
   "id": "3a1aca93-9b0d-4e09-9016-c45dae230c9f",
   "metadata": {},
   "outputs": [],
   "source": [
    "fig = px.bar(powell_df, y=\"action\", color='rate_change', orientation='h',\n",
    "             hover_data=[\"action\", \"rate_change\"],\n",
    "             height=400,\n",
    "             title='Rate Changes by Fed Chair (Jerome H. Powell)')\n",
    "fig.show()"
   ]
  },
  {
   "cell_type": "code",
   "execution_count": null,
   "id": "50916a40-b7fd-437a-b6f4-fd258e0aeacc",
   "metadata": {},
   "outputs": [],
   "source": []
  },
  {
   "cell_type": "code",
   "execution_count": null,
   "id": "a567fc7c-feb8-4b57-80d7-6462179bce3c",
   "metadata": {},
   "outputs": [],
   "source": []
  },
  {
   "cell_type": "code",
   "execution_count": null,
   "id": "6a1b91c4-22b7-40de-b737-39a94d321be3",
   "metadata": {},
   "outputs": [],
   "source": []
  },
  {
   "cell_type": "code",
   "execution_count": null,
   "id": "3a7ca922-38f7-4519-ac66-28f09d4f8475",
   "metadata": {},
   "outputs": [],
   "source": []
  },
  {
   "cell_type": "code",
   "execution_count": null,
   "id": "e1697371-e210-4a4e-bf17-c31c1cc06db8",
   "metadata": {},
   "outputs": [],
   "source": []
  },
  {
   "cell_type": "code",
   "execution_count": null,
   "id": "3b56efa6-0aa4-4d01-a279-448861fb530f",
   "metadata": {},
   "outputs": [],
   "source": []
  },
  {
   "cell_type": "code",
   "execution_count": null,
   "id": "71965f47-677e-4442-b506-70fc322366b1",
   "metadata": {},
   "outputs": [],
   "source": []
  },
  {
   "cell_type": "markdown",
   "id": "ccb26b53-6531-4d62-b972-82a313c52b8e",
   "metadata": {},
   "source": [
    "### Predict FOMC Rate Decision (Naive Bayes Sentiment Analysis)"
   ]
  },
  {
   "cell_type": "code",
   "execution_count": null,
   "id": "d96e4f48-78c9-4416-a6a6-aa96c4347ff5",
   "metadata": {},
   "outputs": [],
   "source": []
  },
  {
   "cell_type": "code",
   "execution_count": null,
   "id": "8b3678cf-42bd-487a-8506-a91c36d6fd1c",
   "metadata": {},
   "outputs": [],
   "source": []
  },
  {
   "cell_type": "markdown",
   "id": "755e506a-632d-416d-aa06-7124110664e2",
   "metadata": {},
   "source": [
    "# confusion matrix\n",
    "y_pred = clf.predict(X_test_bow)\n",
    "cm = confusion_matrix(y_test, y_pred)\n",
    "#print(cm)\n",
    "\n",
    "#cm = confusion_matrix(np.arange(25), np.arange(25))\n",
    "labels = np.unique(y_test)\n",
    "cmp = ConfusionMatrixDisplay(cm, display_labels=labels)\n",
    "fig, ax = plt.subplots(figsize=(10,10))\n",
    "_none = cmp.plot(ax=ax, cmap=plt.cm.Blues)"
   ]
  },
  {
   "cell_type": "code",
   "execution_count": null,
   "id": "67173a30-81e2-4895-86cd-7d5992b309e4",
   "metadata": {},
   "outputs": [],
   "source": [
    "n_a = 28/len(y_test)\n",
    "\n",
    "print('A Naive model that always predicts no change would be accurate: ',round(n_a,4))"
   ]
  },
  {
   "cell_type": "code",
   "execution_count": null,
   "id": "de114bc6-a32f-43ac-bb9b-7c976124b342",
   "metadata": {},
   "outputs": [],
   "source": []
  },
  {
   "cell_type": "code",
   "execution_count": null,
   "id": "20453166-aa0a-4eab-89d4-85b4c1b63158",
   "metadata": {},
   "outputs": [],
   "source": []
  },
  {
   "cell_type": "code",
   "execution_count": null,
   "id": "a3dbe22c-9954-46ce-a2e0-2ee8a7af7df5",
   "metadata": {},
   "outputs": [],
   "source": []
  },
  {
   "cell_type": "code",
   "execution_count": null,
   "id": "e319edf6-6efe-4339-9627-901881537567",
   "metadata": {},
   "outputs": [],
   "source": []
  },
  {
   "cell_type": "code",
   "execution_count": null,
   "id": "72f5b8e2-4213-418c-aa5a-fc8acea9c59c",
   "metadata": {},
   "outputs": [],
   "source": []
  },
  {
   "cell_type": "markdown",
   "id": "7194ab81-8865-4712-9c52-6a9a1a896d45",
   "metadata": {},
   "source": [
    "## iNterpret"
   ]
  },
  {
   "cell_type": "code",
   "execution_count": null,
   "id": "6e51a4f1-9a79-425a-868b-412275935cdc",
   "metadata": {},
   "outputs": [],
   "source": []
  },
  {
   "cell_type": "markdown",
   "id": "d1722392-6626-41c8-b01d-57c36b761dee",
   "metadata": {},
   "source": [
    "# 3. Conclusion"
   ]
  }
 ],
 "metadata": {
  "kernelspec": {
   "display_name": "Python 3 (ipykernel)",
   "language": "python",
   "name": "python3"
  },
  "language_info": {
   "codemirror_mode": {
    "name": "ipython",
    "version": 3
   },
   "file_extension": ".py",
   "mimetype": "text/x-python",
   "name": "python",
   "nbconvert_exporter": "python",
   "pygments_lexer": "ipython3",
   "version": "3.8.12"
  }
 },
 "nbformat": 4,
 "nbformat_minor": 5
}
