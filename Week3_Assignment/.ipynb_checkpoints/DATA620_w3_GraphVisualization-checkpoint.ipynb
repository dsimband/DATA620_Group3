{
 "cells": [
  {
   "cell_type": "code",
   "execution_count": null,
   "id": "2085a9a8-ed53-4bea-8c82-48af18ef8e80",
   "metadata": {},
   "outputs": [],
   "source": [
    "###########################\n",
    "#\n",
    "#  Assignment 3: Graph Visualization\n",
    "#     - load a graph database\n",
    "#     - create a basic analysis of your graph\n",
    "#.    - visualize graph in Graph Visualization\n",
    "#\n",
    "###########################"
   ]
  },
  {
   "cell_type": "code",
   "execution_count": null,
   "id": "72f6adce-5c56-4ce2-bb91-6159e750ec7f",
   "metadata": {},
   "outputs": [],
   "source": [
    "###########################\n",
    "#\n",
    "#  Packages Used\n",
    "#    - python 3.6.13 \n",
    "#    - networkx 2.1 \n",
    "#    - matplotlib 2.0.2 \n",
    "#    - nltk 3.2.5 \n",
    "#    - numpy 1.13.3 \n",
    "#    - pandas 0.22.0 \n",
    "#    - pygraphviz 1.3 \n",
    "#    - scipy 1.0.1 \n",
    "#\n",
    "###########################"
   ]
  },
  {
   "cell_type": "code",
   "execution_count": null,
   "id": "33987352-ba3d-42b1-b45f-3ac43aed9441",
   "metadata": {},
   "outputs": [],
   "source": [
    "###########################\n",
    "#\n",
    "#  Import\n",
    "#\n",
    "###########################"
   ]
  },
  {
   "cell_type": "code",
   "execution_count": null,
   "id": "025adc23-6b34-4f47-a2b9-28f6ad6476d8",
   "metadata": {},
   "outputs": [],
   "source": [
    "import networkx as nx\n",
    "import matplotlib.pyplot as plt\n",
    "from networkx import algorithms \n",
    "import itertools \n",
    "\n",
    "from neo4j import GraphDatabase\n",
    "import nxneo4j as neo\n"
   ]
  },
  {
   "cell_type": "code",
   "execution_count": null,
   "id": "3db650be-a2c6-41b1-99aa-c0137d1037e0",
   "metadata": {},
   "outputs": [],
   "source": []
  },
  {
   "cell_type": "code",
   "execution_count": null,
   "id": "cb467811-48a3-4d6f-a963-af5b39a893df",
   "metadata": {},
   "outputs": [],
   "source": [
    "###########################\n",
    "#\n",
    "#  Load Graph from file\n",
    "#\n",
    "###########################"
   ]
  },
  {
   "cell_type": "code",
   "execution_count": null,
   "id": "e22283c3-7c62-4f0d-9102-c12c2741822b",
   "metadata": {},
   "outputs": [],
   "source": [
    "Data = open('data/facebook_combined_s.txt', \"r\")\n",
    "Graphtype = nx.Graph()"
   ]
  },
  {
   "cell_type": "code",
   "execution_count": null,
   "id": "b2d8eba7-1ad8-49fd-bd98-b4feb9ae01be",
   "metadata": {},
   "outputs": [],
   "source": [
    "g = nx.parse_edgelist(Data, delimiter=' ', create_using=Graphtype,\n",
    "                      nodetype=int, data=(('weight', float),))"
   ]
  },
  {
   "cell_type": "code",
   "execution_count": null,
   "id": "c3a12ce0-cfd4-46b0-93c8-8c714ba9c3d2",
   "metadata": {},
   "outputs": [],
   "source": [
    "type(g)"
   ]
  },
  {
   "cell_type": "code",
   "execution_count": null,
   "id": "9c54712e-36e0-4336-847e-613aa8632e81",
   "metadata": {},
   "outputs": [],
   "source": [
    "###########################\n",
    "#\n",
    "#  draw graph\n",
    "#\n",
    "###########################"
   ]
  },
  {
   "cell_type": "code",
   "execution_count": null,
   "id": "000b4de7-eafc-45e0-8e4e-b84be2dd509c",
   "metadata": {},
   "outputs": [],
   "source": [
    "plt.figure(figsize=(10,10))\n",
    "nx.draw(g, with_labels=True, node_size=400, font_color='black', font_weight='bold')"
   ]
  },
  {
   "cell_type": "code",
   "execution_count": null,
   "id": "e3b1d4ff-48de-4947-b8bf-f9a10f47d47b",
   "metadata": {},
   "outputs": [],
   "source": [
    "###########################\n",
    "#\n",
    "#  basic analysis\n",
    "#\n",
    "###########################"
   ]
  },
  {
   "cell_type": "code",
   "execution_count": null,
   "id": "3df5fb6d-1c2a-43d7-8545-44c582804ab7",
   "metadata": {},
   "outputs": [],
   "source": [
    "#####      diameter      #####\n",
    "algorithms.distance_measures.diameter(g)"
   ]
  },
  {
   "cell_type": "code",
   "execution_count": null,
   "id": "dd6e061f-0278-44e0-9e76-bf0ba750e550",
   "metadata": {},
   "outputs": [],
   "source": [
    "#####      k_nearest_neighbors      #####\n",
    "algorithms.k_nearest_neighbors(g)"
   ]
  },
  {
   "cell_type": "code",
   "execution_count": null,
   "id": "7720ac73-4625-4376-9420-99a0f6039f83",
   "metadata": {},
   "outputs": [],
   "source": [
    "#####      average neighbor      #####\n",
    "algorithms.average_neighbor_degree(g,44,310)"
   ]
  },
  {
   "cell_type": "code",
   "execution_count": null,
   "id": "caf9c49f-6e84-406a-bf17-03d913d94f35",
   "metadata": {},
   "outputs": [],
   "source": [
    "###########################\n",
    "#\n",
    "#  connect to neo4j using networkx\n",
    "#\n",
    "###########################"
   ]
  },
  {
   "cell_type": "code",
   "execution_count": null,
   "id": "b6b55596-215e-495d-9f0f-88231ff9dfc2",
   "metadata": {},
   "outputs": [],
   "source": [
    "driver = GraphDatabase.driver(uri=\"neo4j://localhost:7687\",auth=(\"neo4j\",\"AllAcd12\"))"
   ]
  },
  {
   "cell_type": "code",
   "execution_count": null,
   "id": "4dc282d4-abcd-4fa7-9be7-6e88053a79d2",
   "metadata": {},
   "outputs": [],
   "source": [
    "g_neo = neo.Graph(driver)"
   ]
  },
  {
   "cell_type": "code",
   "execution_count": null,
   "id": "a669aa40-6f83-4893-86a4-04426439bfa2",
   "metadata": {},
   "outputs": [],
   "source": [
    "g_neo.delete_all()"
   ]
  },
  {
   "cell_type": "code",
   "execution_count": null,
   "id": "97cfb420-7660-4758-a813-57c0c8dde12b",
   "metadata": {},
   "outputs": [],
   "source": [
    "g_neo.add_nodes_from(list(g.nodes))\n",
    "g_neo.add_edges_from(list(g.edges))"
   ]
  },
  {
   "cell_type": "code",
   "execution_count": null,
   "id": "b3f28eb7-d4ec-4edf-9d4f-e01e9628cb8b",
   "metadata": {},
   "outputs": [],
   "source": [
    "driver.close()"
   ]
  }
 ],
 "metadata": {
  "kernelspec": {
   "display_name": "Python 3",
   "language": "python",
   "name": "python3"
  },
  "language_info": {
   "codemirror_mode": {
    "name": "ipython",
    "version": 3
   },
   "file_extension": ".py",
   "mimetype": "text/x-python",
   "name": "python",
   "nbconvert_exporter": "python",
   "pygments_lexer": "ipython3",
   "version": "3.6.13"
  }
 },
 "nbformat": 4,
 "nbformat_minor": 5
}
