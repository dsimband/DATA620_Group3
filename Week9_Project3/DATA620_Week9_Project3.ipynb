{
 "cells": [
  {
   "cell_type": "markdown",
   "id": "925f984b",
   "metadata": {},
   "source": [
    "# DATA620: Project 3 - Gender Identification\n",
    "\n",
    "## Homework Team 3: David Simbandumwe, Eric Lehmphul and Lidiia Tronina"
   ]
  },
  {
   "cell_type": "markdown",
   "id": "e2419732",
   "metadata": {},
   "source": [
    "Using any of the three classifiers described in chapter 6 of Natural Language Processing with Python, and any features you can think of, build the best name gender classifier you can. Begin by splitting the Names Corpus into three subsets: 500 words for the test set, 500 words for the dev-test set, and the remaining 6900 words for the training set. Then, starting with the example name gender classifier, make incremental improvements. Use the dev-test set to check your progress. Once you are satisfied with your classifier, check its final performance on the test set. How does the performance on the test set compare to the performance on the dev-test set? Is this what you'd expect?\n",
    "\n",
    "<br>\n",
    "We chose to use the NaiveBayesClassifier machine learning method to categorize the names Corpus. "
   ]
  },
  {
   "cell_type": "markdown",
   "id": "7a9bb7cc",
   "metadata": {},
   "source": [
    "### Load Required Packages"
   ]
  },
  {
   "cell_type": "code",
   "execution_count": 28,
   "id": "b5300358",
   "metadata": {},
   "outputs": [],
   "source": [
    "import nltk\n",
    "from nltk.corpus import names\n",
    "from nltk.classify import apply_features\n",
    "from nltk.probability import FreqDist\n",
    "import pandas as pd\n",
    "import numpy as np\n",
    "import random\n",
    "import matplotlib.pyplot as plt\n",
    "from matplotlib_venn import venn2\n",
    "from sklearn.model_selection import KFold\n",
    "from statistics import mean\n",
    "import plotly.express as px\n"
   ]
  },
  {
   "cell_type": "markdown",
   "id": "70e72991-3f54-4509-8fa2-c6d60f17a347",
   "metadata": {
    "tags": []
   },
   "source": [
    "<br>\n",
    "\n",
    "### Model Base Class\n",
    "This is a Generic class with base model and boiler plate analysis code. It is used to simplify the analysis for each subsequent model."
   ]
  },
  {
   "cell_type": "code",
   "execution_count": 29,
   "id": "cd9cf75c-98dd-4b99-8dbc-25e1f710a0cf",
   "metadata": {},
   "outputs": [],
   "source": [
    "\n",
    "# generic class with base model\n",
    "class GenderAnalysis():\n",
    "    \n",
    "    # set corpus and training datasets\n",
    "    def __init__(self):\n",
    "       \n",
    "        random.seed(3210)\n",
    "        self._classifier = None\n",
    "        \n",
    "        # Import and Lable Names\n",
    "        self._names_lst = ([(name, 'male') for name in names.words('male.txt')] +\n",
    "                [(name, 'female') for name in names.words('female.txt')])\n",
    "        random.shuffle(self._names_lst)\n",
    "\n",
    "        # Split Corpus\n",
    "        self._train_names = self._names_lst[1000:]\n",
    "        self._devtest_names = self._names_lst[500:1000]\n",
    "        self._test_names = self._names_lst[:500]\n",
    "    \n",
    "        # apply features training, devtest and test corpus\n",
    "        self._train_set = apply_features(self.gender_features, self._train_names)\n",
    "        self._devtest_set = apply_features(self.gender_features, self._devtest_names)\n",
    "        self._test_set = apply_features(self.gender_features, self._test_names)          \n",
    "\n",
    " \n",
    "    # generate features\n",
    "    def gender_features(self, name):\n",
    "        pass\n",
    "    \n",
    "    \n",
    "    # get features dataframe \n",
    "    def get_names_features(self):\n",
    "        # analyze data\n",
    "        df = pd.DataFrame(self._names_lst, columns=['name','gender'])\n",
    "        return df\n",
    "    \n",
    "    \n",
    "    # get names that can be both male and female\n",
    "    def ambiguous_names(self):\n",
    "        # analyze data\n",
    "        df = pd.DataFrame(self._names_lst, columns=['name','gender'])\n",
    "        df2 = df.groupby(['name'])['name'].count().reset_index(name='count').sort_values(\n",
    "            ['count'], ascending=False)\n",
    "        df2 = df2[df2['count']>1]\n",
    "        name_df = pd.merge(df,df2,how=\"inner\", on=[\"name\"])\n",
    "        \n",
    "        #name_df = name_df.drop('count', 1)\n",
    "        name_df = name_df[['name']]\n",
    "        name_df = name_df.groupby('name').first().reset_index()\n",
    "        \n",
    "        return name_df\n",
    "    \n",
    "    \n",
    "    # train the model\n",
    "    def train(self):\n",
    "        self._classifier = nltk.NaiveBayesClassifier.train(self._train_set)\n",
    "        \n",
    "        \n",
    "    # return the accuracy of the dev test\n",
    "    def get_devtest_accuracy(self):     \n",
    "        return nltk.classify.accuracy(self._classifier, self._devtest_set)\n",
    "        \n",
    "\n",
    "    # return the features with the biggest impact\n",
    "    def show_inform_feature(self, n=20):\n",
    "        self._classifier.show_most_informative_features(n)\n",
    "        \n",
    "    \n",
    "    # return a dataframe with the errors\n",
    "    def get_errors(self):\n",
    "        errors = []\n",
    "        for (name, tag) in self._devtest_names:\n",
    "            guess = self._classifier.classify(self.gender_features(name))\n",
    "            if guess != tag:\n",
    "                errors.append((tag, guess, name))                \n",
    "          \n",
    "        errors_df = pd.DataFrame(errors, columns=['tag', 'guess', 'name'])\n",
    "        return errors_df\n",
    "    \n",
    "    \n",
    "    # print the model errors\n",
    "    def print_Errors(self):\n",
    "        for (tag, guess, name) in sorted(errors):\n",
    "            print ('correct=%-8s guess=%-8s name=%-30s' % (tag, guess, name))\n",
    "\n",
    "     \n",
    "    # print the errors that are driven by Unisex names\n",
    "    def get_ambiguous_errors(self):\n",
    "        df1 = self.ambiguous_names()\n",
    "        df2 = self.get_errors()\n",
    "        error_df = pd.merge(df1,df2,how=\"inner\", on=[\"name\"])\n",
    "        return error_df\n",
    "    \n",
    "    \n",
    "    # determint the accuracy of the model using test data\n",
    "    def get_test_accuracy(self):\n",
    "        return nltk.classify.accuracy(self._classifier, self._test_set)\n",
    "    \n",
    "    # explore of error records\n",
    "    def get_error_stats(self):\n",
    "              \n",
    "        df = self.get_errors()\n",
    "        \n",
    "        df['length'] = df['name'].str.len()\n",
    "        df['last_letter'] = df['name'].str[-1]\n",
    "        df['first_letter'] = df['name'].str[0]\n",
    "\n",
    "        df['vowels'] = df['name'].str.replace(r'[^aeiou]', '', regex=True)\n",
    "        df['vowel_last_letter'] = df['last_letter'].isin([*'aeiouy'])\n",
    "        df['vowel_first_letter'] = df['first_letter'].isin([*'AEIOUY'])\n",
    "\n",
    "        df['consonants'] = df['name'].str.replace(r'[aeiou]', '', regex=True)\n",
    "        df['consonant_last_letter'] = df['last_letter'].isin([*'qwrtplkjhgfdszxcvbnm'])\n",
    "        df['consonant_first_letter'] = df['first_letter'].isin([*'QWRTPLKJHGFDSZXCVBNM'])\n",
    "\n",
    "        df['num_vowels'] = df['vowels'].str.len()\n",
    "        df['num_consonants'] = df['consonants'].str.len()\n",
    "        \n",
    "        return df\n",
    "    "
   ]
  },
  {
   "cell_type": "markdown",
   "id": "2dba5203-f7d8-4899-a24a-3bfdbe5a6ac4",
   "metadata": {},
   "source": [
    "<br>\n",
    "\n",
    "### K-Fold Sub Class\n",
    "The K-Fold sub class adds a method to the generic class that genereates test stats for the k-fold validation"
   ]
  },
  {
   "cell_type": "code",
   "execution_count": 30,
   "id": "edb65aba-b9a1-4209-a475-68dcc08acaa8",
   "metadata": {},
   "outputs": [],
   "source": [
    "# generic class with base model\n",
    "class GenderAnalysisKFold(GenderAnalysis):\n",
    "\n",
    "       \n",
    "    # get kfold\n",
    "    def get_kfold(self, n=10):\n",
    "        \n",
    "        cross_val_names = self._names_lst[500:]\n",
    "\n",
    "        kf = KFold(n_splits=n)\n",
    "        variables = apply_features(self.gender_features, cross_val_names)\n",
    "        \n",
    "        \n",
    "        test_accuracy = {}\n",
    "        sum = 0\n",
    "        i = 1\n",
    "        for train, test in kf.split(variables):\n",
    "            train_data = np.array(variables)[train]\n",
    "            test_data = np.array(variables)[test]\n",
    "            classifier = nltk.NaiveBayesClassifier.train(train_data)\n",
    "            test_accuracy.update({'k_'+str(i):round(nltk.classify.accuracy(classifier, test_data),3)})           \n",
    "            i += 1\n",
    "        \n",
    "        test_accuracy.update({'k_average':round(mean(test_accuracy.values()),3)})        \n",
    "        return pd.DataFrame([test_accuracy])"
   ]
  },
  {
   "cell_type": "markdown",
   "id": "4008f1c6-e917-4a5f-a38a-5f92e35db9c1",
   "metadata": {},
   "source": [
    "<br>\n",
    "\n",
    "### Model Sub-classes\n",
    "Each Model class inherits from the GenderAnalusis base class. The key difference between each subclass is the implimention of the gender_features()."
   ]
  },
  {
   "cell_type": "code",
   "execution_count": 31,
   "id": "94e79fea-47a8-48dd-afad-6efea0f0cd7a",
   "metadata": {},
   "outputs": [],
   "source": [
    "\n",
    "# Uses the last letters as features \n",
    "class GenderAnalysis1(GenderAnalysisKFold):\n",
    "    \n",
    "    def gender_features(self, name):\n",
    "        features = {}\n",
    "        features[\"suffix1\"] = name[-1].lower()\n",
    "        return features\n",
    "\n",
    "\n",
    "\n",
    "# Uses the last 2 letters as features \n",
    "class GenderAnalysis2(GenderAnalysisKFold):\n",
    "    \n",
    "    def gender_features(self, name):\n",
    "        features = {}\n",
    "        features[\"suffix1\"] = name[-1].lower()\n",
    "        features[\"suffixLast2\"] = name[-2:].lower()\n",
    "\n",
    "        return features\n",
    "\n",
    "    \n",
    "# Use the last 2 letter and the first letter as features\n",
    "class GenderAnalysis3(GenderAnalysisKFold):\n",
    "    \n",
    "    def gender_features(self, name):\n",
    "        features = {}\n",
    "        features[\"firstLetter\"] = name[0].lower()\n",
    "        features[\"suffix1\"] = name[-1].lower()\n",
    "        features[\"suffixLast2\"] = name[-2:].lower()\n",
    "\n",
    "        return features\n",
    "    \n",
    "\n",
    "# Add the vowels as first and last charater and vowel count \n",
    "class GenderAnalysis4(GenderAnalysisKFold):\n",
    "    \n",
    "    \n",
    "    def gender_features(self, name):\n",
    "        features = {}\n",
    "        features[\"length\"] = len(name)\n",
    "        features[\"firstLetter\"] = name[0].lower()\n",
    "        features[\"lastLetter\"] = name[-1].lower()\n",
    "        features[\"firstVowel\"] = features['firstLetter'] in 'aeiouy'\n",
    "        features[\"lastVowel\"] = features['lastLetter'] in 'aeiouy'\n",
    "\n",
    "        # Gets num of vowels\n",
    "        count = 0\n",
    "        vowel = set(\"aeiouAEIOU\")\n",
    "\n",
    "        for i in name:\n",
    "            if i in vowel:\n",
    "                count = count + 1\n",
    "\n",
    "        features[\"numVowels\"] = count\n",
    "        features[\"suffixLast2\"] = name[-2:].lower()\n",
    "        features[\"suffixLast3\"] = name[-3:].lower()\n",
    "\n",
    "        return features"
   ]
  },
  {
   "cell_type": "markdown",
   "id": "21549b52-8eb1-4386-944f-3250cfbcee00",
   "metadata": {},
   "source": [
    "<br>\n",
    "\n",
    "### Analysis of Names Corpus\n",
    "The corpus includes 365 Unisex names that have both male and female records. "
   ]
  },
  {
   "cell_type": "code",
   "execution_count": 32,
   "id": "6c215b66-3da3-4a9f-b476-cfd5d0a5756b",
   "metadata": {},
   "outputs": [
    {
     "data": {
      "image/png": "[encoded data removed]",
      "text/plain": [
       "<Figure size 432x288 with 1 Axes>"
      ]
     },
     "metadata": {},
     "output_type": "display_data"
    }
   ],
   "source": [
    "ga1 = GenderAnalysis1()\n",
    "ga1.train()\n",
    "\n",
    "# Use the venn2 function\n",
    "df = ga1.get_names_features()\n",
    "s1 = set(df[df['gender'] == 'male']['name'])\n",
    "s2 = set(df[df['gender'] == 'female']['name'])\n",
    "venn2([s1, s2], set_labels = ('male', 'female'))\n",
    "plt.show()"
   ]
  },
  {
   "cell_type": "markdown",
   "id": "060264b4-32e5-4726-bcf7-aec8cd3f8b8d",
   "metadata": {},
   "source": [
    "This Venn diagram captures that overlap of unisex names between the male and female populations. Interestingly enough there are many more female names in the corpus than male names. "
   ]
  },
  {
   "cell_type": "markdown",
   "id": "3d03ab31-fe73-46ec-9331-bcf41eb12231",
   "metadata": {
    "tags": []
   },
   "source": [
    "<br>\n",
    "\n",
    "### Further Exploration of Names Corpus\n"
   ]
  },
  {
   "cell_type": "code",
   "execution_count": 33,
   "id": "2c131590-da5a-4dbe-83c7-850c3547a1c8",
   "metadata": {
    "tags": []
   },
   "outputs": [
    {
     "data": {
      "text/html": [
       "<div>\n",
       "<style scoped>\n",
       "    .dataframe tbody tr th:only-of-type {\n",
       "        vertical-align: middle;\n",
       "    }\n",
       "\n",
       "    .dataframe tbody tr th {\n",
       "        vertical-align: top;\n",
       "    }\n",
       "\n",
       "    .dataframe thead th {\n",
       "        text-align: right;\n",
       "    }\n",
       "</style>\n",
       "<table border=\"1\" class=\"dataframe\">\n",
       "  <thead>\n",
       "    <tr style=\"text-align: right;\">\n",
       "      <th></th>\n",
       "      <th>name</th>\n",
       "      <th>gender</th>\n",
       "      <th>length</th>\n",
       "      <th>last_letter</th>\n",
       "      <th>first_letter</th>\n",
       "      <th>vowels</th>\n",
       "      <th>vowel_last_letter</th>\n",
       "      <th>vowel_first_letter</th>\n",
       "      <th>consonants</th>\n",
       "      <th>consonant_last_letter</th>\n",
       "      <th>consonant_first_letter</th>\n",
       "      <th>num_vowels</th>\n",
       "      <th>num_consonants</th>\n",
       "    </tr>\n",
       "  </thead>\n",
       "  <tbody>\n",
       "    <tr>\n",
       "      <th>0</th>\n",
       "      <td>Merissa</td>\n",
       "      <td>female</td>\n",
       "      <td>7</td>\n",
       "      <td>a</td>\n",
       "      <td>M</td>\n",
       "      <td>eia</td>\n",
       "      <td>True</td>\n",
       "      <td>False</td>\n",
       "      <td>Mrss</td>\n",
       "      <td>False</td>\n",
       "      <td>True</td>\n",
       "      <td>3</td>\n",
       "      <td>4</td>\n",
       "    </tr>\n",
       "    <tr>\n",
       "      <th>1</th>\n",
       "      <td>Audy</td>\n",
       "      <td>female</td>\n",
       "      <td>4</td>\n",
       "      <td>y</td>\n",
       "      <td>A</td>\n",
       "      <td>Auy</td>\n",
       "      <td>True</td>\n",
       "      <td>True</td>\n",
       "      <td>d</td>\n",
       "      <td>False</td>\n",
       "      <td>False</td>\n",
       "      <td>3</td>\n",
       "      <td>1</td>\n",
       "    </tr>\n",
       "    <tr>\n",
       "      <th>2</th>\n",
       "      <td>Rene</td>\n",
       "      <td>female</td>\n",
       "      <td>4</td>\n",
       "      <td>e</td>\n",
       "      <td>R</td>\n",
       "      <td>ee</td>\n",
       "      <td>True</td>\n",
       "      <td>False</td>\n",
       "      <td>Rn</td>\n",
       "      <td>False</td>\n",
       "      <td>True</td>\n",
       "      <td>2</td>\n",
       "      <td>2</td>\n",
       "    </tr>\n",
       "    <tr>\n",
       "      <th>3</th>\n",
       "      <td>Elnore</td>\n",
       "      <td>female</td>\n",
       "      <td>6</td>\n",
       "      <td>e</td>\n",
       "      <td>E</td>\n",
       "      <td>Eoe</td>\n",
       "      <td>True</td>\n",
       "      <td>True</td>\n",
       "      <td>lnr</td>\n",
       "      <td>False</td>\n",
       "      <td>False</td>\n",
       "      <td>3</td>\n",
       "      <td>3</td>\n",
       "    </tr>\n",
       "    <tr>\n",
       "      <th>4</th>\n",
       "      <td>Cletus</td>\n",
       "      <td>male</td>\n",
       "      <td>6</td>\n",
       "      <td>s</td>\n",
       "      <td>C</td>\n",
       "      <td>eu</td>\n",
       "      <td>False</td>\n",
       "      <td>False</td>\n",
       "      <td>Clts</td>\n",
       "      <td>True</td>\n",
       "      <td>True</td>\n",
       "      <td>2</td>\n",
       "      <td>4</td>\n",
       "    </tr>\n",
       "  </tbody>\n",
       "</table>\n",
       "</div>"
      ],
      "text/plain": [
       "      name  gender  length last_letter first_letter vowels  vowel_last_letter  \\\n",
       "0  Merissa  female       7           a            M    eia               True   \n",
       "1     Audy  female       4           y            A    Auy               True   \n",
       "2     Rene  female       4           e            R     ee               True   \n",
       "3   Elnore  female       6           e            E    Eoe               True   \n",
       "4   Cletus    male       6           s            C     eu              False   \n",
       "\n",
       "   vowel_first_letter consonants  consonant_last_letter  \\\n",
       "0               False       Mrss                  False   \n",
       "1                True          d                  False   \n",
       "2               False         Rn                  False   \n",
       "3                True        lnr                  False   \n",
       "4               False       Clts                   True   \n",
       "\n",
       "   consonant_first_letter  num_vowels  num_consonants  \n",
       "0                    True           3               4  \n",
       "1                   False           3               1  \n",
       "2                    True           2               2  \n",
       "3                   False           3               3  \n",
       "4                    True           2               4  "
      ]
     },
     "execution_count": 33,
     "metadata": {},
     "output_type": "execute_result"
    }
   ],
   "source": [
    "# explore data further\n",
    "df['length'] = df['name'].str.len()\n",
    "df['last_letter'] = df['name'].str[-1]\n",
    "df['first_letter'] = df['name'].str[0]\n",
    "\n",
    "df['vowels'] = df['name'].str.replace(r'[^aeiouyAEIOUY]', '', regex=True)\n",
    "df['vowel_last_letter'] = df['last_letter'].isin([*'aeiouy'])\n",
    "df['vowel_first_letter'] = df['first_letter'].isin([*'AEIOUY'])\n",
    "\n",
    "df['consonants'] = df['name'].str.replace(r'[aeiouyAEIOUY]', '', regex=True)\n",
    "df['consonant_last_letter'] = df['last_letter'].isin([*'qwrtplkjhgfdszxcvbnm'])\n",
    "df['consonant_first_letter'] = df['first_letter'].isin([*'QWRTPLKJHGFDSZXCVBNM'])\n",
    "\n",
    "df['num_vowels'] = df['vowels'].str.len()\n",
    "df['num_consonants'] = df['consonants'].str.len()\n",
    "\n",
    "df.head()"
   ]
  },
  {
   "cell_type": "code",
   "execution_count": 34,
   "id": "49b39bef-82b5-4489-99c8-d6a970d12e86",
   "metadata": {},
   "outputs": [
    {
     "data": {
      "text/html": [
       "<div>\n",
       "<style scoped>\n",
       "    .dataframe tbody tr th:only-of-type {\n",
       "        vertical-align: middle;\n",
       "    }\n",
       "\n",
       "    .dataframe tbody tr th {\n",
       "        vertical-align: top;\n",
       "    }\n",
       "\n",
       "    .dataframe thead th {\n",
       "        text-align: right;\n",
       "    }\n",
       "</style>\n",
       "<table border=\"1\" class=\"dataframe\">\n",
       "  <thead>\n",
       "    <tr style=\"text-align: right;\">\n",
       "      <th></th>\n",
       "      <th>length</th>\n",
       "      <th>vowel_last_letter</th>\n",
       "      <th>vowel_first_letter</th>\n",
       "      <th>consonant_last_letter</th>\n",
       "      <th>consonant_first_letter</th>\n",
       "      <th>num_vowels</th>\n",
       "      <th>num_consonants</th>\n",
       "    </tr>\n",
       "    <tr>\n",
       "      <th>gender</th>\n",
       "      <th></th>\n",
       "      <th></th>\n",
       "      <th></th>\n",
       "      <th></th>\n",
       "      <th></th>\n",
       "      <th></th>\n",
       "      <th></th>\n",
       "    </tr>\n",
       "  </thead>\n",
       "  <tbody>\n",
       "    <tr>\n",
       "      <th>female</th>\n",
       "      <td>6.113777</td>\n",
       "      <td>0.804239</td>\n",
       "      <td>0.174965</td>\n",
       "      <td>0.195561</td>\n",
       "      <td>0.825035</td>\n",
       "      <td>2.835033</td>\n",
       "      <td>3.278744</td>\n",
       "    </tr>\n",
       "    <tr>\n",
       "      <th>male</th>\n",
       "      <td>5.895345</td>\n",
       "      <td>0.358818</td>\n",
       "      <td>0.158682</td>\n",
       "      <td>0.641182</td>\n",
       "      <td>0.841318</td>\n",
       "      <td>2.359497</td>\n",
       "      <td>3.535848</td>\n",
       "    </tr>\n",
       "  </tbody>\n",
       "</table>\n",
       "</div>"
      ],
      "text/plain": [
       "          length  vowel_last_letter  vowel_first_letter  \\\n",
       "gender                                                    \n",
       "female  6.113777           0.804239            0.174965   \n",
       "male    5.895345           0.358818            0.158682   \n",
       "\n",
       "        consonant_last_letter  consonant_first_letter  num_vowels  \\\n",
       "gender                                                              \n",
       "female               0.195561                0.825035    2.835033   \n",
       "male                 0.641182                0.841318    2.359497   \n",
       "\n",
       "        num_consonants  \n",
       "gender                  \n",
       "female        3.278744  \n",
       "male          3.535848  "
      ]
     },
     "execution_count": 34,
     "metadata": {},
     "output_type": "execute_result"
    }
   ],
   "source": [
    "df.groupby('gender').mean()"
   ]
  },
  {
   "cell_type": "markdown",
   "id": "46681edf-746e-4a1b-b821-691dc91ec55a",
   "metadata": {},
   "source": [
    "Notable differences between groups in the corpus:\n",
    "* Female names tend to be longer\n",
    "* Female names are much more likely to contain a vowel as the last letter\n",
    "* Female names are slightly more likely to have a vowel as a first letter\n",
    "* Males are much more likely to have a consonant for a last letter\n",
    "* Both groups are almost equally likely to have a consonant as a first letter\n",
    "* Females have more vowels on average\n",
    "* Males have more consonants on average\n",
    "\n",
    "This information provides us with a strong baseline for features to use in our gender name classifier."
   ]
  },
  {
   "cell_type": "code",
   "execution_count": 35,
   "id": "31245592-322f-4272-aee5-007045260221",
   "metadata": {},
   "outputs": [
    {
     "name": "stdout",
     "output_type": "stream",
     "text": [
      "Size Train Set 6944\n",
      "Size Development Set 500\n",
      "Size Test Set 500\n"
     ]
    }
   ],
   "source": [
    "print('Size Train Set',len(ga1._train_names))\n",
    "print('Size Development Set',len(ga1._devtest_names))\n",
    "print('Size Test Set',len(ga1._test_names))\n",
    "\n"
   ]
  },
  {
   "cell_type": "markdown",
   "id": "0940c25b-f15d-48cc-bb4a-ee8cfab1412d",
   "metadata": {},
   "source": [
    "<br>\n",
    "\n",
    "### Model 1\n",
    "This is a simple model the looks at the last character of a name to determine the associated gender. This model has a 80% accuracy if we use 3210 as the seed. We can also count the number of errors that are driven by unisex names. With Model 1 there are 27 errors that can be attributed to unisex names."
   ]
  },
  {
   "cell_type": "code",
   "execution_count": 36,
   "id": "967bb5e3-b76a-4990-bed4-56138fcb298b",
   "metadata": {},
   "outputs": [
    {
     "name": "stdout",
     "output_type": "stream",
     "text": [
      "devtest accuracy: 0.8\n",
      "ambiguous errors: 27\n"
     ]
    }
   ],
   "source": [
    "ga1 = GenderAnalysis1()\n",
    "ga1.train()\n",
    "print('devtest accuracy:', ga1.get_devtest_accuracy())\n",
    "print('ambiguous errors:',len(ga1.get_ambiguous_errors()))"
   ]
  },
  {
   "cell_type": "markdown",
   "id": "f795e7e7-dcab-4b62-aef0-c6c30791c6a9",
   "metadata": {},
   "source": [
    "<br>\n",
    "\n",
    "The feature list below identifies the features that have the biggest impact on the model. "
   ]
  },
  {
   "cell_type": "code",
   "execution_count": 37,
   "id": "d62d79f2-80f3-4370-b6ab-30a11cc06c1f",
   "metadata": {},
   "outputs": [
    {
     "name": "stdout",
     "output_type": "stream",
     "text": [
      "Most Informative Features\n",
      "                 suffix1 = 'a'            female : male   =     35.6 : 1.0\n",
      "                 suffix1 = 'k'              male : female =     30.3 : 1.0\n",
      "                 suffix1 = 'f'              male : female =     15.5 : 1.0\n",
      "                 suffix1 = 'v'              male : female =     11.4 : 1.0\n",
      "                 suffix1 = 'w'              male : female =     11.4 : 1.0\n",
      "                 suffix1 = 'p'              male : female =     10.7 : 1.0\n",
      "                 suffix1 = 'd'              male : female =      9.8 : 1.0\n",
      "                 suffix1 = 'm'              male : female =      9.4 : 1.0\n",
      "                 suffix1 = 'o'              male : female =      8.2 : 1.0\n",
      "                 suffix1 = 'r'              male : female =      6.5 : 1.0\n"
     ]
    }
   ],
   "source": [
    "ga1.show_inform_feature(10)"
   ]
  },
  {
   "cell_type": "markdown",
   "id": "cc55e2a5-81ca-44f0-ba43-44eea83b1113",
   "metadata": {},
   "source": [
    "<br>\n",
    "\n",
    "The table below summarizes the default model performance for each last letter. The accuracy levels and the resulting number of errors are high for:\n",
    "* n - all names that end with n are classified as male\n",
    "* e - all names that end in e are classified female\n",
    "* y - all names that end in y are classified female"
   ]
  },
  {
   "cell_type": "code",
   "execution_count": 38,
   "id": "8b149957-72f8-4ff5-90c7-f86ab5a6b01e",
   "metadata": {},
   "outputs": [
    {
     "data": {
      "text/html": [
       "<div>\n",
       "<style scoped>\n",
       "    .dataframe tbody tr th:only-of-type {\n",
       "        vertical-align: middle;\n",
       "    }\n",
       "\n",
       "    .dataframe tbody tr th {\n",
       "        vertical-align: top;\n",
       "    }\n",
       "\n",
       "    .dataframe thead th {\n",
       "        text-align: right;\n",
       "    }\n",
       "</style>\n",
       "<table border=\"1\" class=\"dataframe\">\n",
       "  <thead>\n",
       "    <tr style=\"text-align: right;\">\n",
       "      <th></th>\n",
       "      <th>last_letter</th>\n",
       "      <th>count</th>\n",
       "      <th>error_count</th>\n",
       "      <th>accuracy</th>\n",
       "    </tr>\n",
       "  </thead>\n",
       "  <tbody>\n",
       "    <tr>\n",
       "      <th>1</th>\n",
       "      <td>n</td>\n",
       "      <td>62</td>\n",
       "      <td>29</td>\n",
       "      <td>0.532</td>\n",
       "    </tr>\n",
       "    <tr>\n",
       "      <th>0</th>\n",
       "      <td>e</td>\n",
       "      <td>115</td>\n",
       "      <td>21</td>\n",
       "      <td>0.817</td>\n",
       "    </tr>\n",
       "    <tr>\n",
       "      <th>3</th>\n",
       "      <td>l</td>\n",
       "      <td>27</td>\n",
       "      <td>17</td>\n",
       "      <td>0.370</td>\n",
       "    </tr>\n",
       "    <tr>\n",
       "      <th>2</th>\n",
       "      <td>y</td>\n",
       "      <td>40</td>\n",
       "      <td>16</td>\n",
       "      <td>0.600</td>\n",
       "    </tr>\n",
       "    <tr>\n",
       "      <th>10</th>\n",
       "      <td>h</td>\n",
       "      <td>8</td>\n",
       "      <td>4</td>\n",
       "      <td>0.500</td>\n",
       "    </tr>\n",
       "    <tr>\n",
       "      <th>6</th>\n",
       "      <td>s</td>\n",
       "      <td>23</td>\n",
       "      <td>3</td>\n",
       "      <td>0.870</td>\n",
       "    </tr>\n",
       "    <tr>\n",
       "      <th>4</th>\n",
       "      <td>i</td>\n",
       "      <td>26</td>\n",
       "      <td>2</td>\n",
       "      <td>0.923</td>\n",
       "    </tr>\n",
       "    <tr>\n",
       "      <th>5</th>\n",
       "      <td>d</td>\n",
       "      <td>23</td>\n",
       "      <td>2</td>\n",
       "      <td>0.913</td>\n",
       "    </tr>\n",
       "    <tr>\n",
       "      <th>9</th>\n",
       "      <td>m</td>\n",
       "      <td>9</td>\n",
       "      <td>2</td>\n",
       "      <td>0.778</td>\n",
       "    </tr>\n",
       "    <tr>\n",
       "      <th>7</th>\n",
       "      <td>r</td>\n",
       "      <td>17</td>\n",
       "      <td>1</td>\n",
       "      <td>0.941</td>\n",
       "    </tr>\n",
       "    <tr>\n",
       "      <th>8</th>\n",
       "      <td>t</td>\n",
       "      <td>15</td>\n",
       "      <td>1</td>\n",
       "      <td>0.933</td>\n",
       "    </tr>\n",
       "    <tr>\n",
       "      <th>11</th>\n",
       "      <td>u</td>\n",
       "      <td>1</td>\n",
       "      <td>1</td>\n",
       "      <td>0.000</td>\n",
       "    </tr>\n",
       "    <tr>\n",
       "      <th>12</th>\n",
       "      <td>w</td>\n",
       "      <td>1</td>\n",
       "      <td>1</td>\n",
       "      <td>0.000</td>\n",
       "    </tr>\n",
       "  </tbody>\n",
       "</table>\n",
       "</div>"
      ],
      "text/plain": [
       "   last_letter  count  error_count  accuracy\n",
       "1            n     62           29     0.532\n",
       "0            e    115           21     0.817\n",
       "3            l     27           17     0.370\n",
       "2            y     40           16     0.600\n",
       "10           h      8            4     0.500\n",
       "6            s     23            3     0.870\n",
       "4            i     26            2     0.923\n",
       "5            d     23            2     0.913\n",
       "9            m      9            2     0.778\n",
       "7            r     17            1     0.941\n",
       "8            t     15            1     0.933\n",
       "11           u      1            1     0.000\n",
       "12           w      1            1     0.000"
      ]
     },
     "execution_count": 38,
     "metadata": {},
     "output_type": "execute_result"
    }
   ],
   "source": [
    "# calculate the number of names in devtest that end with each letter\n",
    "n_df = pd.DataFrame(ga1._devtest_names, columns=['name','gender'])\n",
    "n_df['last_letter'] = n_df['name'].str[-1]\n",
    "n_df = n_df.groupby(['last_letter'])['last_letter'].count().reset_index(name='count').sort_values(['count'], ascending=False)\n",
    "\n",
    "# calculate the errors\n",
    "e_df = ga1.get_errors()\n",
    "e_df['last_letter'] = e_df['name'].str[-1]\n",
    "e_df = e_df.groupby(['last_letter'])['last_letter'].count().reset_index(name='error_count')\n",
    "\n",
    "# merge the dataframes\n",
    "n_df = pd.merge(n_df,e_df,how=\"inner\", on=[\"last_letter\"])\n",
    "n_df['accuracy'] = round(1 - n_df['error_count'] / n_df['count'],3)\n",
    "\n",
    "# calculate the model accuracy for each letter\n",
    "n_df.sort_values(['error_count'], ascending=False)"
   ]
  },
  {
   "cell_type": "markdown",
   "id": "ffb32b10-c049-4e78-b772-6390024361fa",
   "metadata": {},
   "source": [
    " <br>\n",
    "\n",
    "### Model 2\n",
    "\n",
    "This model extends the simple model and uses the last letter and the last 2 letters as features for name categorization. This model has a 82.8% accuracy if we use 3210 as the seed. We can also count the number of errors that are driven by unisex names. With Model 2 there are 21 errors that can be attributed to unisex names."
   ]
  },
  {
   "cell_type": "code",
   "execution_count": 39,
   "id": "2222b22c-c04e-49cd-99f9-0bfc5e5dd69a",
   "metadata": {},
   "outputs": [
    {
     "name": "stdout",
     "output_type": "stream",
     "text": [
      "devtest accuracy: 0.828\n",
      "ambiguous errors: 21\n"
     ]
    }
   ],
   "source": [
    "ga2 = GenderAnalysis2()\n",
    "ga2.train()\n",
    "print('devtest accuracy:', ga2.get_devtest_accuracy())\n",
    "print('ambiguous errors:',len(ga2.get_ambiguous_errors()))"
   ]
  },
  {
   "cell_type": "markdown",
   "id": "95f728c5-b356-41bd-9caf-6028cd708486",
   "metadata": {},
   "source": [
    "<br>\n",
    "\n",
    "The feature list below identifies the features that have the biggest impact on the model. It should be noted that suffixLast2 features dominate the top features list. Indicating that using 2 of the last characters is more deterministic of gender. "
   ]
  },
  {
   "cell_type": "code",
   "execution_count": 40,
   "id": "80aef123-5586-42ab-ad8c-49ee3eba1491",
   "metadata": {},
   "outputs": [
    {
     "name": "stdout",
     "output_type": "stream",
     "text": [
      "Most Informative Features\n",
      "             suffixLast2 = 'na'           female : male   =     91.2 : 1.0\n",
      "             suffixLast2 = 'la'           female : male   =     69.6 : 1.0\n",
      "             suffixLast2 = 'ia'           female : male   =     36.9 : 1.0\n",
      "                 suffix1 = 'a'            female : male   =     35.6 : 1.0\n",
      "             suffixLast2 = 'ra'           female : male   =     33.2 : 1.0\n",
      "             suffixLast2 = 'sa'           female : male   =     30.9 : 1.0\n",
      "                 suffix1 = 'k'              male : female =     30.3 : 1.0\n",
      "             suffixLast2 = 'us'             male : female =     26.3 : 1.0\n",
      "             suffixLast2 = 'do'             male : female =     24.2 : 1.0\n",
      "             suffixLast2 = 'ta'           female : male   =     24.1 : 1.0\n"
     ]
    }
   ],
   "source": [
    "ga2.show_inform_feature(10)"
   ]
  },
  {
   "cell_type": "markdown",
   "id": "c8447ec7-4579-449b-9712-a406615e0901",
   "metadata": {},
   "source": [
    "<br>\n",
    "\n",
    "The errors in name gender categorization are summarized in the following data frame. It is difficult to identify patterns at the individual name level so we will run some sample stats"
   ]
  },
  {
   "cell_type": "code",
   "execution_count": 41,
   "id": "10fa5858-dd11-4e52-88ab-7a9103196f4d",
   "metadata": {},
   "outputs": [
    {
     "data": {
      "text/html": [
       "<div>\n",
       "<style scoped>\n",
       "    .dataframe tbody tr th:only-of-type {\n",
       "        vertical-align: middle;\n",
       "    }\n",
       "\n",
       "    .dataframe tbody tr th {\n",
       "        vertical-align: top;\n",
       "    }\n",
       "\n",
       "    .dataframe thead th {\n",
       "        text-align: right;\n",
       "    }\n",
       "</style>\n",
       "<table border=\"1\" class=\"dataframe\">\n",
       "  <thead>\n",
       "    <tr style=\"text-align: right;\">\n",
       "      <th></th>\n",
       "      <th>tag</th>\n",
       "      <th>guess</th>\n",
       "      <th>name</th>\n",
       "    </tr>\n",
       "  </thead>\n",
       "  <tbody>\n",
       "    <tr>\n",
       "      <th>0</th>\n",
       "      <td>male</td>\n",
       "      <td>female</td>\n",
       "      <td>Abdullah</td>\n",
       "    </tr>\n",
       "    <tr>\n",
       "      <th>1</th>\n",
       "      <td>female</td>\n",
       "      <td>male</td>\n",
       "      <td>Cam</td>\n",
       "    </tr>\n",
       "    <tr>\n",
       "      <th>2</th>\n",
       "      <td>male</td>\n",
       "      <td>female</td>\n",
       "      <td>Kelly</td>\n",
       "    </tr>\n",
       "    <tr>\n",
       "      <th>3</th>\n",
       "      <td>female</td>\n",
       "      <td>male</td>\n",
       "      <td>Shaun</td>\n",
       "    </tr>\n",
       "    <tr>\n",
       "      <th>4</th>\n",
       "      <td>female</td>\n",
       "      <td>male</td>\n",
       "      <td>Jaclin</td>\n",
       "    </tr>\n",
       "  </tbody>\n",
       "</table>\n",
       "</div>"
      ],
      "text/plain": [
       "      tag   guess      name\n",
       "0    male  female  Abdullah\n",
       "1  female    male       Cam\n",
       "2    male  female     Kelly\n",
       "3  female    male     Shaun\n",
       "4  female    male    Jaclin"
      ]
     },
     "execution_count": 41,
     "metadata": {},
     "output_type": "execute_result"
    }
   ],
   "source": [
    "e_df = ga2.get_errors()\n",
    "e_df.head()"
   ]
  },
  {
   "cell_type": "markdown",
   "id": "417f1a36-c153-4341-9178-3b974ee7cf41",
   "metadata": {},
   "source": [
    "<br>\n",
    "\n",
    "The error data still shows some discrepancy in the vowel as last letter and the constant as last letter."
   ]
  },
  {
   "cell_type": "code",
   "execution_count": 42,
   "id": "fda9f882-34bd-4416-98cd-b7ef06facefe",
   "metadata": {},
   "outputs": [
    {
     "data": {
      "text/html": [
       "<div>\n",
       "<style scoped>\n",
       "    .dataframe tbody tr th:only-of-type {\n",
       "        vertical-align: middle;\n",
       "    }\n",
       "\n",
       "    .dataframe tbody tr th {\n",
       "        vertical-align: top;\n",
       "    }\n",
       "\n",
       "    .dataframe thead th {\n",
       "        text-align: right;\n",
       "    }\n",
       "</style>\n",
       "<table border=\"1\" class=\"dataframe\">\n",
       "  <thead>\n",
       "    <tr style=\"text-align: right;\">\n",
       "      <th></th>\n",
       "      <th>length</th>\n",
       "      <th>vowel_last_letter</th>\n",
       "      <th>vowel_first_letter</th>\n",
       "      <th>consonant_last_letter</th>\n",
       "      <th>consonant_first_letter</th>\n",
       "      <th>num_vowels</th>\n",
       "      <th>num_consonants</th>\n",
       "    </tr>\n",
       "    <tr>\n",
       "      <th>tag</th>\n",
       "      <th></th>\n",
       "      <th></th>\n",
       "      <th></th>\n",
       "      <th></th>\n",
       "      <th></th>\n",
       "      <th></th>\n",
       "      <th></th>\n",
       "    </tr>\n",
       "  </thead>\n",
       "  <tbody>\n",
       "    <tr>\n",
       "      <th>female</th>\n",
       "      <td>5.734694</td>\n",
       "      <td>0.183673</td>\n",
       "      <td>0.183673</td>\n",
       "      <td>0.816327</td>\n",
       "      <td>0.816327</td>\n",
       "      <td>1.959184</td>\n",
       "      <td>3.775510</td>\n",
       "    </tr>\n",
       "    <tr>\n",
       "      <th>male</th>\n",
       "      <td>5.621622</td>\n",
       "      <td>0.783784</td>\n",
       "      <td>0.216216</td>\n",
       "      <td>0.216216</td>\n",
       "      <td>0.783784</td>\n",
       "      <td>2.054054</td>\n",
       "      <td>3.567568</td>\n",
       "    </tr>\n",
       "  </tbody>\n",
       "</table>\n",
       "</div>"
      ],
      "text/plain": [
       "          length  vowel_last_letter  vowel_first_letter  \\\n",
       "tag                                                       \n",
       "female  5.734694           0.183673            0.183673   \n",
       "male    5.621622           0.783784            0.216216   \n",
       "\n",
       "        consonant_last_letter  consonant_first_letter  num_vowels  \\\n",
       "tag                                                                 \n",
       "female               0.816327                0.816327    1.959184   \n",
       "male                 0.216216                0.783784    2.054054   \n",
       "\n",
       "        num_consonants  \n",
       "tag                     \n",
       "female        3.775510  \n",
       "male          3.567568  "
      ]
     },
     "execution_count": 42,
     "metadata": {},
     "output_type": "execute_result"
    }
   ],
   "source": [
    "e_df = ga2.get_error_stats()\n",
    "e_df.groupby('tag').mean()"
   ]
  },
  {
   "cell_type": "markdown",
   "id": "9fabf34a-395d-4b09-b5cb-745c49e4fde2",
   "metadata": {},
   "source": [
    "<br>\n",
    "\n",
    "### Model 3\n",
    "This model extends the simple model and uses first letter, the last letter, the last 2 letters as features for name categorization.  This model has a 84.4% accuracy if we use 3210 as the seed. We can also count the number of errors that are driven by unisex names. With Model 3 there are 24 errors that can be attributed to unisex names.\n"
   ]
  },
  {
   "cell_type": "code",
   "execution_count": 43,
   "id": "311f271d-f857-463b-83b9-fc615cbc83cc",
   "metadata": {},
   "outputs": [
    {
     "name": "stdout",
     "output_type": "stream",
     "text": [
      "devtest accuracy: 0.844\n",
      "ambiguous errors: 24\n"
     ]
    }
   ],
   "source": [
    "ga3 = GenderAnalysis3()\n",
    "ga3.train()\n",
    "\n",
    "print('devtest accuracy:', ga3.get_devtest_accuracy())\n",
    "print('ambiguous errors:',len(ga3.get_ambiguous_errors()))"
   ]
  },
  {
   "cell_type": "markdown",
   "id": "8bca3602-afb9-47ba-a554-4285c19ba46b",
   "metadata": {},
   "source": [
    "<br>\n",
    "\n",
    "The feature list below identifies the features that have the biggest impact on the model. It should be noted that suffixLast2 features dominate the top features list and the first letter does not appear as a top 20 feature . Indicating that using 2 of the last characters is more deterministic of gender."
   ]
  },
  {
   "cell_type": "code",
   "execution_count": 44,
   "id": "678085bf-cb22-4b16-bd30-3f92b20c3bcb",
   "metadata": {},
   "outputs": [
    {
     "name": "stdout",
     "output_type": "stream",
     "text": [
      "Most Informative Features\n",
      "             suffixLast2 = 'na'           female : male   =     91.2 : 1.0\n",
      "             suffixLast2 = 'la'           female : male   =     69.6 : 1.0\n",
      "             suffixLast2 = 'ia'           female : male   =     36.9 : 1.0\n",
      "                 suffix1 = 'a'            female : male   =     35.6 : 1.0\n",
      "             suffixLast2 = 'ra'           female : male   =     33.2 : 1.0\n",
      "             suffixLast2 = 'sa'           female : male   =     30.9 : 1.0\n",
      "                 suffix1 = 'k'              male : female =     30.3 : 1.0\n",
      "             suffixLast2 = 'us'             male : female =     26.3 : 1.0\n",
      "             suffixLast2 = 'do'             male : female =     24.2 : 1.0\n",
      "             suffixLast2 = 'ta'           female : male   =     24.1 : 1.0\n"
     ]
    }
   ],
   "source": [
    "ga3.show_inform_feature(10)"
   ]
  },
  {
   "cell_type": "markdown",
   "id": "d0c0e570-a8f4-495e-8852-4323d42fab76",
   "metadata": {},
   "source": [
    "<br>\n",
    "\n",
    "The errors in name gender categorization are summarized in the following data frame. It is difficult to identify patterns at the individual name level so we will run some sample stats"
   ]
  },
  {
   "cell_type": "code",
   "execution_count": 45,
   "id": "39c80e2d-c2fa-4f3a-b62c-1f2f945967a4",
   "metadata": {},
   "outputs": [
    {
     "data": {
      "text/html": [
       "<div>\n",
       "<style scoped>\n",
       "    .dataframe tbody tr th:only-of-type {\n",
       "        vertical-align: middle;\n",
       "    }\n",
       "\n",
       "    .dataframe tbody tr th {\n",
       "        vertical-align: top;\n",
       "    }\n",
       "\n",
       "    .dataframe thead th {\n",
       "        text-align: right;\n",
       "    }\n",
       "</style>\n",
       "<table border=\"1\" class=\"dataframe\">\n",
       "  <thead>\n",
       "    <tr style=\"text-align: right;\">\n",
       "      <th></th>\n",
       "      <th>tag</th>\n",
       "      <th>guess</th>\n",
       "      <th>name</th>\n",
       "    </tr>\n",
       "  </thead>\n",
       "  <tbody>\n",
       "    <tr>\n",
       "      <th>0</th>\n",
       "      <td>male</td>\n",
       "      <td>female</td>\n",
       "      <td>Abdullah</td>\n",
       "    </tr>\n",
       "    <tr>\n",
       "      <th>1</th>\n",
       "      <td>female</td>\n",
       "      <td>male</td>\n",
       "      <td>Cam</td>\n",
       "    </tr>\n",
       "    <tr>\n",
       "      <th>2</th>\n",
       "      <td>male</td>\n",
       "      <td>female</td>\n",
       "      <td>Kelly</td>\n",
       "    </tr>\n",
       "    <tr>\n",
       "      <th>3</th>\n",
       "      <td>female</td>\n",
       "      <td>male</td>\n",
       "      <td>Shaun</td>\n",
       "    </tr>\n",
       "    <tr>\n",
       "      <th>4</th>\n",
       "      <td>female</td>\n",
       "      <td>male</td>\n",
       "      <td>Jaclin</td>\n",
       "    </tr>\n",
       "  </tbody>\n",
       "</table>\n",
       "</div>"
      ],
      "text/plain": [
       "      tag   guess      name\n",
       "0    male  female  Abdullah\n",
       "1  female    male       Cam\n",
       "2    male  female     Kelly\n",
       "3  female    male     Shaun\n",
       "4  female    male    Jaclin"
      ]
     },
     "execution_count": 45,
     "metadata": {},
     "output_type": "execute_result"
    }
   ],
   "source": [
    "e_df = ga3.get_errors()\n",
    "e_df.head()"
   ]
  },
  {
   "cell_type": "markdown",
   "id": "01909bce-ca0b-4749-9970-6aa4738067ad",
   "metadata": {},
   "source": [
    "The error data analysis still shows two discrepancy in the vowel as last letter and the constant as last letter gender breakdown. "
   ]
  },
  {
   "cell_type": "code",
   "execution_count": 46,
   "id": "21a64970-3801-44e8-97a5-236d88b24199",
   "metadata": {},
   "outputs": [
    {
     "data": {
      "text/html": [
       "<div>\n",
       "<style scoped>\n",
       "    .dataframe tbody tr th:only-of-type {\n",
       "        vertical-align: middle;\n",
       "    }\n",
       "\n",
       "    .dataframe tbody tr th {\n",
       "        vertical-align: top;\n",
       "    }\n",
       "\n",
       "    .dataframe thead th {\n",
       "        text-align: right;\n",
       "    }\n",
       "</style>\n",
       "<table border=\"1\" class=\"dataframe\">\n",
       "  <thead>\n",
       "    <tr style=\"text-align: right;\">\n",
       "      <th></th>\n",
       "      <th>length</th>\n",
       "      <th>vowel_last_letter</th>\n",
       "      <th>vowel_first_letter</th>\n",
       "      <th>consonant_last_letter</th>\n",
       "      <th>consonant_first_letter</th>\n",
       "      <th>num_vowels</th>\n",
       "      <th>num_consonants</th>\n",
       "    </tr>\n",
       "    <tr>\n",
       "      <th>tag</th>\n",
       "      <th></th>\n",
       "      <th></th>\n",
       "      <th></th>\n",
       "      <th></th>\n",
       "      <th></th>\n",
       "      <th></th>\n",
       "      <th></th>\n",
       "    </tr>\n",
       "  </thead>\n",
       "  <tbody>\n",
       "    <tr>\n",
       "      <th>female</th>\n",
       "      <td>5.514286</td>\n",
       "      <td>0.057143</td>\n",
       "      <td>0.200000</td>\n",
       "      <td>0.942857</td>\n",
       "      <td>0.800000</td>\n",
       "      <td>1.971429</td>\n",
       "      <td>3.542857</td>\n",
       "    </tr>\n",
       "    <tr>\n",
       "      <th>male</th>\n",
       "      <td>5.511628</td>\n",
       "      <td>0.744186</td>\n",
       "      <td>0.255814</td>\n",
       "      <td>0.255814</td>\n",
       "      <td>0.744186</td>\n",
       "      <td>1.906977</td>\n",
       "      <td>3.604651</td>\n",
       "    </tr>\n",
       "  </tbody>\n",
       "</table>\n",
       "</div>"
      ],
      "text/plain": [
       "          length  vowel_last_letter  vowel_first_letter  \\\n",
       "tag                                                       \n",
       "female  5.514286           0.057143            0.200000   \n",
       "male    5.511628           0.744186            0.255814   \n",
       "\n",
       "        consonant_last_letter  consonant_first_letter  num_vowels  \\\n",
       "tag                                                                 \n",
       "female               0.942857                0.800000    1.971429   \n",
       "male                 0.255814                0.744186    1.906977   \n",
       "\n",
       "        num_consonants  \n",
       "tag                     \n",
       "female        3.542857  \n",
       "male          3.604651  "
      ]
     },
     "execution_count": 46,
     "metadata": {},
     "output_type": "execute_result"
    }
   ],
   "source": [
    "e_df = ga3.get_error_stats()\n",
    "e_df.groupby('tag').mean()"
   ]
  },
  {
   "cell_type": "markdown",
   "id": "40b16bbe-31ce-4622-99c9-ba0ba7ad948c",
   "metadata": {},
   "source": [
    "<br>\n",
    "\n",
    "### Model 4\n",
    "\n",
    "This model extends the simple model and uses first letter, the last letter, the last 2 letters as features for name categorization. It also uses the length of the name and the vowel counts as features for the name. This model has a 84.2% accuracy if we use 3210 as the seed. We can also count the number of errors that are driven by unisex names. With Model 4 there are 22 errors that can be attributed to unisex names."
   ]
  },
  {
   "cell_type": "code",
   "execution_count": 47,
   "id": "b08a10ae-a7d7-470a-ad19-ddc1abdf1c18",
   "metadata": {},
   "outputs": [
    {
     "name": "stdout",
     "output_type": "stream",
     "text": [
      "devtest accuracy: 0.842\n",
      "ambiguous errors: 22\n"
     ]
    }
   ],
   "source": [
    "ga4 = GenderAnalysis4()\n",
    "ga4.train()\n",
    "\n",
    "\n",
    "print('devtest accuracy:', ga4.get_devtest_accuracy())\n",
    "print('ambiguous errors:',len(ga4.get_ambiguous_errors()))\n"
   ]
  },
  {
   "cell_type": "markdown",
   "id": "08a9df12-44d6-4b12-b676-3c8ede0200a0",
   "metadata": {},
   "source": [
    "<br>\n",
    "\n",
    "The feature list below identifies the features that have the biggest impact on the model. It should be noted that suffixLast2 features dominate the top features list and the first letter or the vowel related features do not appear as a top 20 feature."
   ]
  },
  {
   "cell_type": "code",
   "execution_count": 48,
   "id": "f3b739cb-32d6-4b6c-9298-7bc24695e976",
   "metadata": {},
   "outputs": [
    {
     "name": "stdout",
     "output_type": "stream",
     "text": [
      "Most Informative Features\n",
      "             suffixLast2 = 'na'           female : male   =     91.2 : 1.0\n",
      "             suffixLast2 = 'la'           female : male   =     69.6 : 1.0\n",
      "             suffixLast2 = 'ia'           female : male   =     36.9 : 1.0\n",
      "              lastLetter = 'a'            female : male   =     35.6 : 1.0\n",
      "             suffixLast2 = 'ra'           female : male   =     33.2 : 1.0\n",
      "             suffixLast2 = 'sa'           female : male   =     30.9 : 1.0\n",
      "              lastLetter = 'k'              male : female =     30.3 : 1.0\n",
      "             suffixLast2 = 'us'             male : female =     26.3 : 1.0\n",
      "             suffixLast3 = 'ana'          female : male   =     24.3 : 1.0\n",
      "             suffixLast3 = 'tta'          female : male   =     24.3 : 1.0\n"
     ]
    }
   ],
   "source": [
    "ga4.show_inform_feature(10)"
   ]
  },
  {
   "cell_type": "markdown",
   "id": "d89981d3-520b-4eeb-8b35-7e16fbf48a4e",
   "metadata": {},
   "source": [
    "The errors in name gender categorization are summarized in the following data frame. It is difficult to identify patterns at the individual name level so we will run some sample stats"
   ]
  },
  {
   "cell_type": "code",
   "execution_count": 49,
   "id": "5e6ccaf9-34d2-46a9-983f-743cbd3658ec",
   "metadata": {},
   "outputs": [
    {
     "data": {
      "text/html": [
       "<div>\n",
       "<style scoped>\n",
       "    .dataframe tbody tr th:only-of-type {\n",
       "        vertical-align: middle;\n",
       "    }\n",
       "\n",
       "    .dataframe tbody tr th {\n",
       "        vertical-align: top;\n",
       "    }\n",
       "\n",
       "    .dataframe thead th {\n",
       "        text-align: right;\n",
       "    }\n",
       "</style>\n",
       "<table border=\"1\" class=\"dataframe\">\n",
       "  <thead>\n",
       "    <tr style=\"text-align: right;\">\n",
       "      <th></th>\n",
       "      <th>tag</th>\n",
       "      <th>guess</th>\n",
       "      <th>name</th>\n",
       "    </tr>\n",
       "  </thead>\n",
       "  <tbody>\n",
       "    <tr>\n",
       "      <th>0</th>\n",
       "      <td>male</td>\n",
       "      <td>female</td>\n",
       "      <td>Abdullah</td>\n",
       "    </tr>\n",
       "    <tr>\n",
       "      <th>1</th>\n",
       "      <td>female</td>\n",
       "      <td>male</td>\n",
       "      <td>Cam</td>\n",
       "    </tr>\n",
       "    <tr>\n",
       "      <th>2</th>\n",
       "      <td>male</td>\n",
       "      <td>female</td>\n",
       "      <td>Kelly</td>\n",
       "    </tr>\n",
       "    <tr>\n",
       "      <th>3</th>\n",
       "      <td>female</td>\n",
       "      <td>male</td>\n",
       "      <td>Adah</td>\n",
       "    </tr>\n",
       "    <tr>\n",
       "      <th>4</th>\n",
       "      <td>female</td>\n",
       "      <td>male</td>\n",
       "      <td>Shaun</td>\n",
       "    </tr>\n",
       "  </tbody>\n",
       "</table>\n",
       "</div>"
      ],
      "text/plain": [
       "      tag   guess      name\n",
       "0    male  female  Abdullah\n",
       "1  female    male       Cam\n",
       "2    male  female     Kelly\n",
       "3  female    male      Adah\n",
       "4  female    male     Shaun"
      ]
     },
     "execution_count": 49,
     "metadata": {},
     "output_type": "execute_result"
    }
   ],
   "source": [
    "e_df = ga4.get_errors()\n",
    "e_df.head()"
   ]
  },
  {
   "cell_type": "markdown",
   "id": "bf755093-9516-4f91-8d67-8c5f2f418a53",
   "metadata": {},
   "source": [
    "The error data analysis still shows two discrepancy in the vowel as last letter and the constant as last letter gender breakdown."
   ]
  },
  {
   "cell_type": "code",
   "execution_count": 50,
   "id": "43a0a13f-653c-4616-be39-70e4befcfbda",
   "metadata": {},
   "outputs": [
    {
     "data": {
      "text/html": [
       "<div>\n",
       "<style scoped>\n",
       "    .dataframe tbody tr th:only-of-type {\n",
       "        vertical-align: middle;\n",
       "    }\n",
       "\n",
       "    .dataframe tbody tr th {\n",
       "        vertical-align: top;\n",
       "    }\n",
       "\n",
       "    .dataframe thead th {\n",
       "        text-align: right;\n",
       "    }\n",
       "</style>\n",
       "<table border=\"1\" class=\"dataframe\">\n",
       "  <thead>\n",
       "    <tr style=\"text-align: right;\">\n",
       "      <th></th>\n",
       "      <th>length</th>\n",
       "      <th>vowel_last_letter</th>\n",
       "      <th>vowel_first_letter</th>\n",
       "      <th>consonant_last_letter</th>\n",
       "      <th>consonant_first_letter</th>\n",
       "      <th>num_vowels</th>\n",
       "      <th>num_consonants</th>\n",
       "    </tr>\n",
       "    <tr>\n",
       "      <th>tag</th>\n",
       "      <th></th>\n",
       "      <th></th>\n",
       "      <th></th>\n",
       "      <th></th>\n",
       "      <th></th>\n",
       "      <th></th>\n",
       "      <th></th>\n",
       "    </tr>\n",
       "  </thead>\n",
       "  <tbody>\n",
       "    <tr>\n",
       "      <th>female</th>\n",
       "      <td>5.514286</td>\n",
       "      <td>0.057143</td>\n",
       "      <td>0.200000</td>\n",
       "      <td>0.942857</td>\n",
       "      <td>0.800000</td>\n",
       "      <td>1.971429</td>\n",
       "      <td>3.542857</td>\n",
       "    </tr>\n",
       "    <tr>\n",
       "      <th>male</th>\n",
       "      <td>5.511628</td>\n",
       "      <td>0.744186</td>\n",
       "      <td>0.255814</td>\n",
       "      <td>0.255814</td>\n",
       "      <td>0.744186</td>\n",
       "      <td>1.906977</td>\n",
       "      <td>3.604651</td>\n",
       "    </tr>\n",
       "  </tbody>\n",
       "</table>\n",
       "</div>"
      ],
      "text/plain": [
       "          length  vowel_last_letter  vowel_first_letter  \\\n",
       "tag                                                       \n",
       "female  5.514286           0.057143            0.200000   \n",
       "male    5.511628           0.744186            0.255814   \n",
       "\n",
       "        consonant_last_letter  consonant_first_letter  num_vowels  \\\n",
       "tag                                                                 \n",
       "female               0.942857                0.800000    1.971429   \n",
       "male                 0.255814                0.744186    1.906977   \n",
       "\n",
       "        num_consonants  \n",
       "tag                     \n",
       "female        3.542857  \n",
       "male          3.604651  "
      ]
     },
     "execution_count": 50,
     "metadata": {},
     "output_type": "execute_result"
    }
   ],
   "source": [
    "e_df = ga3.get_error_stats()\n",
    "e_df.groupby('tag').mean()"
   ]
  },
  {
   "cell_type": "markdown",
   "id": "70572547-deba-403f-8b4c-2d1b0e26e421",
   "metadata": {},
   "source": [
    "<br>\n",
    "\n",
    "### Model Accuracy\n",
    "The accuracy for name categorization estimates seems to platau at roughly 85%. There appears to be some room to improve based on the treatment of vowels and consonants as the last letter. "
   ]
  },
  {
   "cell_type": "code",
   "execution_count": 51,
   "id": "59cac622-168c-4512-b53b-cf1d4e7a158f",
   "metadata": {},
   "outputs": [
    {
     "data": {
      "text/html": [
       "<div>\n",
       "<style scoped>\n",
       "    .dataframe tbody tr th:only-of-type {\n",
       "        vertical-align: middle;\n",
       "    }\n",
       "\n",
       "    .dataframe tbody tr th {\n",
       "        vertical-align: top;\n",
       "    }\n",
       "\n",
       "    .dataframe thead th {\n",
       "        text-align: right;\n",
       "    }\n",
       "</style>\n",
       "<table border=\"1\" class=\"dataframe\">\n",
       "  <thead>\n",
       "    <tr style=\"text-align: right;\">\n",
       "      <th></th>\n",
       "      <th>id</th>\n",
       "      <th>dt_accuracy</th>\n",
       "      <th>errors</th>\n",
       "      <th>ambiguous_errors</th>\n",
       "      <th>test_accuracy</th>\n",
       "    </tr>\n",
       "  </thead>\n",
       "  <tbody>\n",
       "    <tr>\n",
       "      <th>0</th>\n",
       "      <td>ga1</td>\n",
       "      <td>0.800</td>\n",
       "      <td>100</td>\n",
       "      <td>27</td>\n",
       "      <td>0.754</td>\n",
       "    </tr>\n",
       "    <tr>\n",
       "      <th>1</th>\n",
       "      <td>ga2</td>\n",
       "      <td>0.828</td>\n",
       "      <td>86</td>\n",
       "      <td>21</td>\n",
       "      <td>0.790</td>\n",
       "    </tr>\n",
       "    <tr>\n",
       "      <th>2</th>\n",
       "      <td>ga3</td>\n",
       "      <td>0.844</td>\n",
       "      <td>78</td>\n",
       "      <td>24</td>\n",
       "      <td>0.794</td>\n",
       "    </tr>\n",
       "    <tr>\n",
       "      <th>3</th>\n",
       "      <td>ga4</td>\n",
       "      <td>0.842</td>\n",
       "      <td>79</td>\n",
       "      <td>22</td>\n",
       "      <td>0.810</td>\n",
       "    </tr>\n",
       "  </tbody>\n",
       "</table>\n",
       "</div>"
      ],
      "text/plain": [
       "    id  dt_accuracy  errors  ambiguous_errors  test_accuracy\n",
       "0  ga1        0.800     100                27          0.754\n",
       "1  ga2        0.828      86                21          0.790\n",
       "2  ga3        0.844      78                24          0.794\n",
       "3  ga4        0.842      79                22          0.810"
      ]
     },
     "execution_count": 51,
     "metadata": {},
     "output_type": "execute_result"
    }
   ],
   "source": [
    "result_lst = []\n",
    "result_lst.append(['ga1',ga1.get_devtest_accuracy(),len(ga1.get_errors()),len(ga1.get_ambiguous_errors()),ga1.get_test_accuracy()])\n",
    "result_lst.append(['ga2',ga2.get_devtest_accuracy(),len(ga2.get_errors()),len(ga2.get_ambiguous_errors()),ga2.get_test_accuracy()])\n",
    "result_lst.append(['ga3',ga3.get_devtest_accuracy(),len(ga3.get_errors()),len(ga3.get_ambiguous_errors()),ga3.get_test_accuracy()])\n",
    "result_lst.append(['ga4',ga4.get_devtest_accuracy(),len(ga4.get_errors()),len(ga4.get_ambiguous_errors()),ga4.get_test_accuracy()])\n",
    "\n",
    "#result_df = pd.DataFrame(result_lst)\n",
    "result_df = pd.DataFrame(result_lst, columns=['id','dt_accuracy','errors','ambiguous_errors','test_accuracy'])\n",
    "result_df"
   ]
  },
  {
   "cell_type": "markdown",
   "id": "13aa9c9f-6551-4242-9ddd-4ffbd8e22ad9",
   "metadata": {},
   "source": [
    "<br>\n",
    "\n",
    "### K-Fold Cross Validation\n",
    "Using the K-fold method for cross validation we can examine how widely the performance varies across different training sets. K-fold cross validation will help us Identify the most \"stable\" model on out of sample data.\n",
    "\n",
    "- First k fold produced the highest accuracy for each model\n",
    "- Sixth k fold produced the lowest accuracy for each model\n",
    "- Most of Model 1's results are within 1.5% of mean accuracy with the largest being 2.4%\n",
    "- Most of Model 2's results are within 2% of mean accuracy with the largest being 3.7%\n",
    "- Most of Model 3's results are within 2% of mean accuracy with the largest being 4.3%\n",
    "- Most of Model 4's results are within 1.25% of mean accuracy with the largest being 3.7%"
   ]
  },
  {
   "cell_type": "code",
   "execution_count": 52,
   "id": "9db84c30-5f58-45c4-9d34-749cf2dcaf8c",
   "metadata": {},
   "outputs": [],
   "source": [
    "# list\n",
    "lst = []\n",
    "\n",
    "# model 1\n",
    "dict = ga1.get_kfold().to_dict(orient='index')[0]\n",
    "dict.update({'id':'ga1'})\n",
    "lst.append(dict)\n",
    "\n",
    "# model 2\n",
    "dict = ga2.get_kfold().to_dict(orient='index')[0]\n",
    "dict.update({'id':'ga2'})\n",
    "lst.append(dict)\n",
    "\n",
    "# model 3\n",
    "dict = ga3.get_kfold().to_dict(orient='index')[0]\n",
    "dict.update({'id':'ga3'})\n",
    "lst.append(dict)\n",
    "\n",
    "# model 4\n",
    "dict = ga4.get_kfold().to_dict(orient='index')[0]\n",
    "dict.update({'id':'ga4'})\n",
    "lst.append(dict)\n",
    "\n",
    "# k folds dataframe\n",
    "df = pd.DataFrame(lst)"
   ]
  },
  {
   "cell_type": "code",
   "execution_count": 53,
   "id": "ab2e339f-2ed6-4a70-97a3-394b3815e4ad",
   "metadata": {},
   "outputs": [
    {
     "data": {
      "application/vnd.plotly.v1+json": {
       "config": {
        "plotlyServerURL": "https://plotly.com"
       },
       "data": [
        {
         "alignmentgroup": "True",
         "hovertemplate": "id=ga1<br>accuracy=%{y}<extra></extra>",
         "legendgroup": "ga1",
         "marker": {
          "color": "#636efa"
         },
         "name": "ga1",
         "notched": false,
         "offsetgroup": "ga1",
         "orientation": "v",
         "showlegend": true,
         "type": "box",
         "x0": " ",
         "xaxis": "x",
         "y": [
          0.787,
          0.76,
          0.757,
          0.752,
          0.758,
          0.751,
          0.77,
          0.757,
          0.762,
          0.767
         ],
         "y0": " ",
         "yaxis": "y"
        },
        {
         "alignmentgroup": "True",
         "hovertemplate": "id=ga2<br>accuracy=%{y}<extra></extra>",
         "legendgroup": "ga2",
         "marker": {
          "color": "#EF553B"
         },
         "name": "ga2",
         "notched": false,
         "offsetgroup": "ga2",
         "orientation": "v",
         "showlegend": true,
         "type": "box",
         "x0": " ",
         "xaxis": "x",
         "y": [
          0.816,
          0.774,
          0.766,
          0.77,
          0.766,
          0.755,
          0.785,
          0.782,
          0.79,
          0.78
         ],
         "y0": " ",
         "yaxis": "y"
        },
        {
         "alignmentgroup": "True",
         "hovertemplate": "id=ga3<br>accuracy=%{y}<extra></extra>",
         "legendgroup": "ga3",
         "marker": {
          "color": "#00cc96"
         },
         "name": "ga3",
         "notched": false,
         "offsetgroup": "ga3",
         "orientation": "v",
         "showlegend": true,
         "type": "box",
         "x0": " ",
         "xaxis": "x",
         "y": [
          0.834,
          0.791,
          0.781,
          0.776,
          0.778,
          0.767,
          0.794,
          0.788,
          0.793,
          0.801
         ],
         "y0": " ",
         "yaxis": "y"
        },
        {
         "alignmentgroup": "True",
         "hovertemplate": "id=ga4<br>accuracy=%{y}<extra></extra>",
         "legendgroup": "ga4",
         "marker": {
          "color": "#ab63fa"
         },
         "name": "ga4",
         "notched": false,
         "offsetgroup": "ga4",
         "orientation": "v",
         "showlegend": true,
         "type": "box",
         "x0": " ",
         "xaxis": "x",
         "y": [
          0.831,
          0.781,
          0.787,
          0.78,
          0.781,
          0.774,
          0.804,
          0.797,
          0.797,
          0.806
         ],
         "y0": " ",
         "yaxis": "y"
        }
       ],
       "layout": {
        "autosize": true,
        "boxmode": "group",
        "legend": {
         "title": {
          "text": "id"
         },
         "tracegroupgap": 0
        },
        "template": {
         "data": {
          "bar": [
           {
            "error_x": {
             "color": "#2a3f5f"
            },
            "error_y": {
             "color": "#2a3f5f"
            },
            "marker": {
             "line": {
              "color": "#E5ECF6",
              "width": 0.5
             },
             "pattern": {
              "fillmode": "overlay",
              "size": 10,
              "solidity": 0.2
             }
            },
            "type": "bar"
           }
          ],
          "barpolar": [
           {
            "marker": {
             "line": {
              "color": "#E5ECF6",
              "width": 0.5
             },
             "pattern": {
              "fillmode": "overlay",
              "size": 10,
              "solidity": 0.2
             }
            },
            "type": "barpolar"
           }
          ],
          "carpet": [
           {
            "aaxis": {
             "endlinecolor": "#2a3f5f",
             "gridcolor": "white",
             "linecolor": "white",
             "minorgridcolor": "white",
             "startlinecolor": "#2a3f5f"
            },
            "baxis": {
             "endlinecolor": "#2a3f5f",
             "gridcolor": "white",
             "linecolor": "white",
             "minorgridcolor": "white",
             "startlinecolor": "#2a3f5f"
            },
            "type": "carpet"
           }
          ],
          "choropleth": [
           {
            "colorbar": {
             "outlinewidth": 0,
             "ticks": ""
            },
            "type": "choropleth"
           }
          ],
          "contour": [
           {
            "colorbar": {
             "outlinewidth": 0,
             "ticks": ""
            },
            "colorscale": [
             [
              0,
              "#0d0887"
             ],
             [
              0.1111111111111111,
              "#46039f"
             ],
             [
              0.2222222222222222,
              "#7201a8"
             ],
             [
              0.3333333333333333,
              "#9c179e"
             ],
             [
              0.4444444444444444,
              "#bd3786"
             ],
             [
              0.5555555555555556,
              "#d8576b"
             ],
             [
              0.6666666666666666,
              "#ed7953"
             ],
             [
              0.7777777777777778,
              "#fb9f3a"
             ],
             [
              0.8888888888888888,
              "#fdca26"
             ],
             [
              1,
              "#f0f921"
             ]
            ],
            "type": "contour"
           }
          ],
          "contourcarpet": [
           {
            "colorbar": {
             "outlinewidth": 0,
             "ticks": ""
            },
            "type": "contourcarpet"
           }
          ],
          "heatmap": [
           {
            "colorbar": {
             "outlinewidth": 0,
             "ticks": ""
            },
            "colorscale": [
             [
              0,
              "#0d0887"
             ],
             [
              0.1111111111111111,
              "#46039f"
             ],
             [
              0.2222222222222222,
              "#7201a8"
             ],
             [
              0.3333333333333333,
              "#9c179e"
             ],
             [
              0.4444444444444444,
              "#bd3786"
             ],
             [
              0.5555555555555556,
              "#d8576b"
             ],
             [
              0.6666666666666666,
              "#ed7953"
             ],
             [
              0.7777777777777778,
              "#fb9f3a"
             ],
             [
              0.8888888888888888,
              "#fdca26"
             ],
             [
              1,
              "#f0f921"
             ]
            ],
            "type": "heatmap"
           }
          ],
          "heatmapgl": [
           {
            "colorbar": {
             "outlinewidth": 0,
             "ticks": ""
            },
            "colorscale": [
             [
              0,
              "#0d0887"
             ],
             [
              0.1111111111111111,
              "#46039f"
             ],
             [
              0.2222222222222222,
              "#7201a8"
             ],
             [
              0.3333333333333333,
              "#9c179e"
             ],
             [
              0.4444444444444444,
              "#bd3786"
             ],
             [
              0.5555555555555556,
              "#d8576b"
             ],
             [
              0.6666666666666666,
              "#ed7953"
             ],
             [
              0.7777777777777778,
              "#fb9f3a"
             ],
             [
              0.8888888888888888,
              "#fdca26"
             ],
             [
              1,
              "#f0f921"
             ]
            ],
            "type": "heatmapgl"
           }
          ],
          "histogram": [
           {
            "marker": {
             "pattern": {
              "fillmode": "overlay",
              "size": 10,
              "solidity": 0.2
             }
            },
            "type": "histogram"
           }
          ],
          "histogram2d": [
           {
            "colorbar": {
             "outlinewidth": 0,
             "ticks": ""
            },
            "colorscale": [
             [
              0,
              "#0d0887"
             ],
             [
              0.1111111111111111,
              "#46039f"
             ],
             [
              0.2222222222222222,
              "#7201a8"
             ],
             [
              0.3333333333333333,
              "#9c179e"
             ],
             [
              0.4444444444444444,
              "#bd3786"
             ],
             [
              0.5555555555555556,
              "#d8576b"
             ],
             [
              0.6666666666666666,
              "#ed7953"
             ],
             [
              0.7777777777777778,
              "#fb9f3a"
             ],
             [
              0.8888888888888888,
              "#fdca26"
             ],
             [
              1,
              "#f0f921"
             ]
            ],
            "type": "histogram2d"
           }
          ],
          "histogram2dcontour": [
           {
            "colorbar": {
             "outlinewidth": 0,
             "ticks": ""
            },
            "colorscale": [
             [
              0,
              "#0d0887"
             ],
             [
              0.1111111111111111,
              "#46039f"
             ],
             [
              0.2222222222222222,
              "#7201a8"
             ],
             [
              0.3333333333333333,
              "#9c179e"
             ],
             [
              0.4444444444444444,
              "#bd3786"
             ],
             [
              0.5555555555555556,
              "#d8576b"
             ],
             [
              0.6666666666666666,
              "#ed7953"
             ],
             [
              0.7777777777777778,
              "#fb9f3a"
             ],
             [
              0.8888888888888888,
              "#fdca26"
             ],
             [
              1,
              "#f0f921"
             ]
            ],
            "type": "histogram2dcontour"
           }
          ],
          "mesh3d": [
           {
            "colorbar": {
             "outlinewidth": 0,
             "ticks": ""
            },
            "type": "mesh3d"
           }
          ],
          "parcoords": [
           {
            "line": {
             "colorbar": {
              "outlinewidth": 0,
              "ticks": ""
             }
            },
            "type": "parcoords"
           }
          ],
          "pie": [
           {
            "automargin": true,
            "type": "pie"
           }
          ],
          "scatter": [
           {
            "marker": {
             "colorbar": {
              "outlinewidth": 0,
              "ticks": ""
             }
            },
            "type": "scatter"
           }
          ],
          "scatter3d": [
           {
            "line": {
             "colorbar": {
              "outlinewidth": 0,
              "ticks": ""
             }
            },
            "marker": {
             "colorbar": {
              "outlinewidth": 0,
              "ticks": ""
             }
            },
            "type": "scatter3d"
           }
          ],
          "scattercarpet": [
           {
            "marker": {
             "colorbar": {
              "outlinewidth": 0,
              "ticks": ""
             }
            },
            "type": "scattercarpet"
           }
          ],
          "scattergeo": [
           {
            "marker": {
             "colorbar": {
              "outlinewidth": 0,
              "ticks": ""
             }
            },
            "type": "scattergeo"
           }
          ],
          "scattergl": [
           {
            "marker": {
             "colorbar": {
              "outlinewidth": 0,
              "ticks": ""
             }
            },
            "type": "scattergl"
           }
          ],
          "scattermapbox": [
           {
            "marker": {
             "colorbar": {
              "outlinewidth": 0,
              "ticks": ""
             }
            },
            "type": "scattermapbox"
           }
          ],
          "scatterpolar": [
           {
            "marker": {
             "colorbar": {
              "outlinewidth": 0,
              "ticks": ""
             }
            },
            "type": "scatterpolar"
           }
          ],
          "scatterpolargl": [
           {
            "marker": {
             "colorbar": {
              "outlinewidth": 0,
              "ticks": ""
             }
            },
            "type": "scatterpolargl"
           }
          ],
          "scatterternary": [
           {
            "marker": {
             "colorbar": {
              "outlinewidth": 0,
              "ticks": ""
             }
            },
            "type": "scatterternary"
           }
          ],
          "surface": [
           {
            "colorbar": {
             "outlinewidth": 0,
             "ticks": ""
            },
            "colorscale": [
             [
              0,
              "#0d0887"
             ],
             [
              0.1111111111111111,
              "#46039f"
             ],
             [
              0.2222222222222222,
              "#7201a8"
             ],
             [
              0.3333333333333333,
              "#9c179e"
             ],
             [
              0.4444444444444444,
              "#bd3786"
             ],
             [
              0.5555555555555556,
              "#d8576b"
             ],
             [
              0.6666666666666666,
              "#ed7953"
             ],
             [
              0.7777777777777778,
              "#fb9f3a"
             ],
             [
              0.8888888888888888,
              "#fdca26"
             ],
             [
              1,
              "#f0f921"
             ]
            ],
            "type": "surface"
           }
          ],
          "table": [
           {
            "cells": {
             "fill": {
              "color": "#EBF0F8"
             },
             "line": {
              "color": "white"
             }
            },
            "header": {
             "fill": {
              "color": "#C8D4E3"
             },
             "line": {
              "color": "white"
             }
            },
            "type": "table"
           }
          ]
         },
         "layout": {
          "annotationdefaults": {
           "arrowcolor": "#2a3f5f",
           "arrowhead": 0,
           "arrowwidth": 1
          },
          "autotypenumbers": "strict",
          "coloraxis": {
           "colorbar": {
            "outlinewidth": 0,
            "ticks": ""
           }
          },
          "colorscale": {
           "diverging": [
            [
             0,
             "#8e0152"
            ],
            [
             0.1,
             "#c51b7d"
            ],
            [
             0.2,
             "#de77ae"
            ],
            [
             0.3,
             "#f1b6da"
            ],
            [
             0.4,
             "#fde0ef"
            ],
            [
             0.5,
             "#f7f7f7"
            ],
            [
             0.6,
             "#e6f5d0"
            ],
            [
             0.7,
             "#b8e186"
            ],
            [
             0.8,
             "#7fbc41"
            ],
            [
             0.9,
             "#4d9221"
            ],
            [
             1,
             "#276419"
            ]
           ],
           "sequential": [
            [
             0,
             "#0d0887"
            ],
            [
             0.1111111111111111,
             "#46039f"
            ],
            [
             0.2222222222222222,
             "#7201a8"
            ],
            [
             0.3333333333333333,
             "#9c179e"
            ],
            [
             0.4444444444444444,
             "#bd3786"
            ],
            [
             0.5555555555555556,
             "#d8576b"
            ],
            [
             0.6666666666666666,
             "#ed7953"
            ],
            [
             0.7777777777777778,
             "#fb9f3a"
            ],
            [
             0.8888888888888888,
             "#fdca26"
            ],
            [
             1,
             "#f0f921"
            ]
           ],
           "sequentialminus": [
            [
             0,
             "#0d0887"
            ],
            [
             0.1111111111111111,
             "#46039f"
            ],
            [
             0.2222222222222222,
             "#7201a8"
            ],
            [
             0.3333333333333333,
             "#9c179e"
            ],
            [
             0.4444444444444444,
             "#bd3786"
            ],
            [
             0.5555555555555556,
             "#d8576b"
            ],
            [
             0.6666666666666666,
             "#ed7953"
            ],
            [
             0.7777777777777778,
             "#fb9f3a"
            ],
            [
             0.8888888888888888,
             "#fdca26"
            ],
            [
             1,
             "#f0f921"
            ]
           ]
          },
          "colorway": [
           "#636efa",
           "#EF553B",
           "#00cc96",
           "#ab63fa",
           "#FFA15A",
           "#19d3f3",
           "#FF6692",
           "#B6E880",
           "#FF97FF",
           "#FECB52"
          ],
          "font": {
           "color": "#2a3f5f"
          },
          "geo": {
           "bgcolor": "white",
           "lakecolor": "white",
           "landcolor": "#E5ECF6",
           "showlakes": true,
           "showland": true,
           "subunitcolor": "white"
          },
          "hoverlabel": {
           "align": "left"
          },
          "hovermode": "closest",
          "mapbox": {
           "style": "light"
          },
          "paper_bgcolor": "white",
          "plot_bgcolor": "#E5ECF6",
          "polar": {
           "angularaxis": {
            "gridcolor": "white",
            "linecolor": "white",
            "ticks": ""
           },
           "bgcolor": "#E5ECF6",
           "radialaxis": {
            "gridcolor": "white",
            "linecolor": "white",
            "ticks": ""
           }
          },
          "scene": {
           "xaxis": {
            "backgroundcolor": "#E5ECF6",
            "gridcolor": "white",
            "gridwidth": 2,
            "linecolor": "white",
            "showbackground": true,
            "ticks": "",
            "zerolinecolor": "white"
           },
           "yaxis": {
            "backgroundcolor": "#E5ECF6",
            "gridcolor": "white",
            "gridwidth": 2,
            "linecolor": "white",
            "showbackground": true,
            "ticks": "",
            "zerolinecolor": "white"
           },
           "zaxis": {
            "backgroundcolor": "#E5ECF6",
            "gridcolor": "white",
            "gridwidth": 2,
            "linecolor": "white",
            "showbackground": true,
            "ticks": "",
            "zerolinecolor": "white"
           }
          },
          "shapedefaults": {
           "line": {
            "color": "#2a3f5f"
           }
          },
          "ternary": {
           "aaxis": {
            "gridcolor": "white",
            "linecolor": "white",
            "ticks": ""
           },
           "baxis": {
            "gridcolor": "white",
            "linecolor": "white",
            "ticks": ""
           },
           "bgcolor": "#E5ECF6",
           "caxis": {
            "gridcolor": "white",
            "linecolor": "white",
            "ticks": ""
           }
          },
          "title": {
           "x": 0.05
          },
          "xaxis": {
           "automargin": true,
           "gridcolor": "white",
           "linecolor": "white",
           "ticks": "",
           "title": {
            "standoff": 15
           },
           "zerolinecolor": "white",
           "zerolinewidth": 2
          },
          "yaxis": {
           "automargin": true,
           "gridcolor": "white",
           "linecolor": "white",
           "ticks": "",
           "title": {
            "standoff": 15
           },
           "zerolinecolor": "white",
           "zerolinewidth": 2
          }
         }
        },
        "title": {
         "text": "Model Validation"
        },
        "xaxis": {
         "anchor": "y",
         "autorange": true,
         "domain": [
          0,
          1
         ],
         "range": [
          -0.50418410041841,
          0.50418410041841
         ],
         "type": "category"
        },
        "yaxis": {
         "anchor": "x",
         "autorange": true,
         "domain": [
          0,
          1
         ],
         "range": [
          0.7463888888888889,
          0.8386111111111111
         ],
         "title": {
          "text": "accuracy"
         },
         "type": "linear"
        }
       }
      },
      "image/png": "[encoded data removed]",
      "text/html": [
       "<div>                            <div id=\"08b02fe1-4a68-4d42-8610-3a303e940da9\" class=\"plotly-graph-div\" style=\"height:525px; width:100%;\"></div>            <script type=\"text/javascript\">                require([\"plotly\"], function(Plotly) {                    window.PLOTLYENV=window.PLOTLYENV || {};                                    if (document.getElementById(\"08b02fe1-4a68-4d42-8610-3a303e940da9\")) {                    Plotly.newPlot(                        \"08b02fe1-4a68-4d42-8610-3a303e940da9\",                        [{\"alignmentgroup\":\"True\",\"hovertemplate\":\"id=ga1<br>accuracy=%{y}<extra></extra>\",\"legendgroup\":\"ga1\",\"marker\":{\"color\":\"#636efa\"},\"name\":\"ga1\",\"notched\":false,\"offsetgroup\":\"ga1\",\"orientation\":\"v\",\"showlegend\":true,\"x0\":\" \",\"xaxis\":\"x\",\"y\":[0.787,0.76,0.757,0.752,0.758,0.751,0.77,0.757,0.762,0.767],\"y0\":\" \",\"yaxis\":\"y\",\"type\":\"box\"},{\"alignmentgroup\":\"True\",\"hovertemplate\":\"id=ga2<br>accuracy=%{y}<extra></extra>\",\"legendgroup\":\"ga2\",\"marker\":{\"color\":\"#EF553B\"},\"name\":\"ga2\",\"notched\":false,\"offsetgroup\":\"ga2\",\"orientation\":\"v\",\"showlegend\":true,\"x0\":\" \",\"xaxis\":\"x\",\"y\":[0.816,0.774,0.766,0.77,0.766,0.755,0.785,0.782,0.79,0.78],\"y0\":\" \",\"yaxis\":\"y\",\"type\":\"box\"},{\"alignmentgroup\":\"True\",\"hovertemplate\":\"id=ga3<br>accuracy=%{y}<extra></extra>\",\"legendgroup\":\"ga3\",\"marker\":{\"color\":\"#00cc96\"},\"name\":\"ga3\",\"notched\":false,\"offsetgroup\":\"ga3\",\"orientation\":\"v\",\"showlegend\":true,\"x0\":\" \",\"xaxis\":\"x\",\"y\":[0.834,0.791,0.781,0.776,0.778,0.767,0.794,0.788,0.793,0.801],\"y0\":\" \",\"yaxis\":\"y\",\"type\":\"box\"},{\"alignmentgroup\":\"True\",\"hovertemplate\":\"id=ga4<br>accuracy=%{y}<extra></extra>\",\"legendgroup\":\"ga4\",\"marker\":{\"color\":\"#ab63fa\"},\"name\":\"ga4\",\"notched\":false,\"offsetgroup\":\"ga4\",\"orientation\":\"v\",\"showlegend\":true,\"x0\":\" \",\"xaxis\":\"x\",\"y\":[0.831,0.781,0.787,0.78,0.781,0.774,0.804,0.797,0.797,0.806],\"y0\":\" \",\"yaxis\":\"y\",\"type\":\"box\"}],                        {\"template\":{\"data\":{\"bar\":[{\"error_x\":{\"color\":\"#2a3f5f\"},\"error_y\":{\"color\":\"#2a3f5f\"},\"marker\":{\"line\":{\"color\":\"#E5ECF6\",\"width\":0.5},\"pattern\":{\"fillmode\":\"overlay\",\"size\":10,\"solidity\":0.2}},\"type\":\"bar\"}],\"barpolar\":[{\"marker\":{\"line\":{\"color\":\"#E5ECF6\",\"width\":0.5},\"pattern\":{\"fillmode\":\"overlay\",\"size\":10,\"solidity\":0.2}},\"type\":\"barpolar\"}],\"carpet\":[{\"aaxis\":{\"endlinecolor\":\"#2a3f5f\",\"gridcolor\":\"white\",\"linecolor\":\"white\",\"minorgridcolor\":\"white\",\"startlinecolor\":\"#2a3f5f\"},\"baxis\":{\"endlinecolor\":\"#2a3f5f\",\"gridcolor\":\"white\",\"linecolor\":\"white\",\"minorgridcolor\":\"white\",\"startlinecolor\":\"#2a3f5f\"},\"type\":\"carpet\"}],\"choropleth\":[{\"colorbar\":{\"outlinewidth\":0,\"ticks\":\"\"},\"type\":\"choropleth\"}],\"contour\":[{\"colorbar\":{\"outlinewidth\":0,\"ticks\":\"\"},\"colorscale\":[[0.0,\"#0d0887\"],[0.1111111111111111,\"#46039f\"],[0.2222222222222222,\"#7201a8\"],[0.3333333333333333,\"#9c179e\"],[0.4444444444444444,\"#bd3786\"],[0.5555555555555556,\"#d8576b\"],[0.6666666666666666,\"#ed7953\"],[0.7777777777777778,\"#fb9f3a\"],[0.8888888888888888,\"#fdca26\"],[1.0,\"#f0f921\"]],\"type\":\"contour\"}],\"contourcarpet\":[{\"colorbar\":{\"outlinewidth\":0,\"ticks\":\"\"},\"type\":\"contourcarpet\"}],\"heatmap\":[{\"colorbar\":{\"outlinewidth\":0,\"ticks\":\"\"},\"colorscale\":[[0.0,\"#0d0887\"],[0.1111111111111111,\"#46039f\"],[0.2222222222222222,\"#7201a8\"],[0.3333333333333333,\"#9c179e\"],[0.4444444444444444,\"#bd3786\"],[0.5555555555555556,\"#d8576b\"],[0.6666666666666666,\"#ed7953\"],[0.7777777777777778,\"#fb9f3a\"],[0.8888888888888888,\"#fdca26\"],[1.0,\"#f0f921\"]],\"type\":\"heatmap\"}],\"heatmapgl\":[{\"colorbar\":{\"outlinewidth\":0,\"ticks\":\"\"},\"colorscale\":[[0.0,\"#0d0887\"],[0.1111111111111111,\"#46039f\"],[0.2222222222222222,\"#7201a8\"],[0.3333333333333333,\"#9c179e\"],[0.4444444444444444,\"#bd3786\"],[0.5555555555555556,\"#d8576b\"],[0.6666666666666666,\"#ed7953\"],[0.7777777777777778,\"#fb9f3a\"],[0.8888888888888888,\"#fdca26\"],[1.0,\"#f0f921\"]],\"type\":\"heatmapgl\"}],\"histogram\":[{\"marker\":{\"pattern\":{\"fillmode\":\"overlay\",\"size\":10,\"solidity\":0.2}},\"type\":\"histogram\"}],\"histogram2d\":[{\"colorbar\":{\"outlinewidth\":0,\"ticks\":\"\"},\"colorscale\":[[0.0,\"#0d0887\"],[0.1111111111111111,\"#46039f\"],[0.2222222222222222,\"#7201a8\"],[0.3333333333333333,\"#9c179e\"],[0.4444444444444444,\"#bd3786\"],[0.5555555555555556,\"#d8576b\"],[0.6666666666666666,\"#ed7953\"],[0.7777777777777778,\"#fb9f3a\"],[0.8888888888888888,\"#fdca26\"],[1.0,\"#f0f921\"]],\"type\":\"histogram2d\"}],\"histogram2dcontour\":[{\"colorbar\":{\"outlinewidth\":0,\"ticks\":\"\"},\"colorscale\":[[0.0,\"#0d0887\"],[0.1111111111111111,\"#46039f\"],[0.2222222222222222,\"#7201a8\"],[0.3333333333333333,\"#9c179e\"],[0.4444444444444444,\"#bd3786\"],[0.5555555555555556,\"#d8576b\"],[0.6666666666666666,\"#ed7953\"],[0.7777777777777778,\"#fb9f3a\"],[0.8888888888888888,\"#fdca26\"],[1.0,\"#f0f921\"]],\"type\":\"histogram2dcontour\"}],\"mesh3d\":[{\"colorbar\":{\"outlinewidth\":0,\"ticks\":\"\"},\"type\":\"mesh3d\"}],\"parcoords\":[{\"line\":{\"colorbar\":{\"outlinewidth\":0,\"ticks\":\"\"}},\"type\":\"parcoords\"}],\"pie\":[{\"automargin\":true,\"type\":\"pie\"}],\"scatter\":[{\"marker\":{\"colorbar\":{\"outlinewidth\":0,\"ticks\":\"\"}},\"type\":\"scatter\"}],\"scatter3d\":[{\"line\":{\"colorbar\":{\"outlinewidth\":0,\"ticks\":\"\"}},\"marker\":{\"colorbar\":{\"outlinewidth\":0,\"ticks\":\"\"}},\"type\":\"scatter3d\"}],\"scattercarpet\":[{\"marker\":{\"colorbar\":{\"outlinewidth\":0,\"ticks\":\"\"}},\"type\":\"scattercarpet\"}],\"scattergeo\":[{\"marker\":{\"colorbar\":{\"outlinewidth\":0,\"ticks\":\"\"}},\"type\":\"scattergeo\"}],\"scattergl\":[{\"marker\":{\"colorbar\":{\"outlinewidth\":0,\"ticks\":\"\"}},\"type\":\"scattergl\"}],\"scattermapbox\":[{\"marker\":{\"colorbar\":{\"outlinewidth\":0,\"ticks\":\"\"}},\"type\":\"scattermapbox\"}],\"scatterpolar\":[{\"marker\":{\"colorbar\":{\"outlinewidth\":0,\"ticks\":\"\"}},\"type\":\"scatterpolar\"}],\"scatterpolargl\":[{\"marker\":{\"colorbar\":{\"outlinewidth\":0,\"ticks\":\"\"}},\"type\":\"scatterpolargl\"}],\"scatterternary\":[{\"marker\":{\"colorbar\":{\"outlinewidth\":0,\"ticks\":\"\"}},\"type\":\"scatterternary\"}],\"surface\":[{\"colorbar\":{\"outlinewidth\":0,\"ticks\":\"\"},\"colorscale\":[[0.0,\"#0d0887\"],[0.1111111111111111,\"#46039f\"],[0.2222222222222222,\"#7201a8\"],[0.3333333333333333,\"#9c179e\"],[0.4444444444444444,\"#bd3786\"],[0.5555555555555556,\"#d8576b\"],[0.6666666666666666,\"#ed7953\"],[0.7777777777777778,\"#fb9f3a\"],[0.8888888888888888,\"#fdca26\"],[1.0,\"#f0f921\"]],\"type\":\"surface\"}],\"table\":[{\"cells\":{\"fill\":{\"color\":\"#EBF0F8\"},\"line\":{\"color\":\"white\"}},\"header\":{\"fill\":{\"color\":\"#C8D4E3\"},\"line\":{\"color\":\"white\"}},\"type\":\"table\"}]},\"layout\":{\"annotationdefaults\":{\"arrowcolor\":\"#2a3f5f\",\"arrowhead\":0,\"arrowwidth\":1},\"autotypenumbers\":\"strict\",\"coloraxis\":{\"colorbar\":{\"outlinewidth\":0,\"ticks\":\"\"}},\"colorscale\":{\"diverging\":[[0,\"#8e0152\"],[0.1,\"#c51b7d\"],[0.2,\"#de77ae\"],[0.3,\"#f1b6da\"],[0.4,\"#fde0ef\"],[0.5,\"#f7f7f7\"],[0.6,\"#e6f5d0\"],[0.7,\"#b8e186\"],[0.8,\"#7fbc41\"],[0.9,\"#4d9221\"],[1,\"#276419\"]],\"sequential\":[[0.0,\"#0d0887\"],[0.1111111111111111,\"#46039f\"],[0.2222222222222222,\"#7201a8\"],[0.3333333333333333,\"#9c179e\"],[0.4444444444444444,\"#bd3786\"],[0.5555555555555556,\"#d8576b\"],[0.6666666666666666,\"#ed7953\"],[0.7777777777777778,\"#fb9f3a\"],[0.8888888888888888,\"#fdca26\"],[1.0,\"#f0f921\"]],\"sequentialminus\":[[0.0,\"#0d0887\"],[0.1111111111111111,\"#46039f\"],[0.2222222222222222,\"#7201a8\"],[0.3333333333333333,\"#9c179e\"],[0.4444444444444444,\"#bd3786\"],[0.5555555555555556,\"#d8576b\"],[0.6666666666666666,\"#ed7953\"],[0.7777777777777778,\"#fb9f3a\"],[0.8888888888888888,\"#fdca26\"],[1.0,\"#f0f921\"]]},\"colorway\":[\"#636efa\",\"#EF553B\",\"#00cc96\",\"#ab63fa\",\"#FFA15A\",\"#19d3f3\",\"#FF6692\",\"#B6E880\",\"#FF97FF\",\"#FECB52\"],\"font\":{\"color\":\"#2a3f5f\"},\"geo\":{\"bgcolor\":\"white\",\"lakecolor\":\"white\",\"landcolor\":\"#E5ECF6\",\"showlakes\":true,\"showland\":true,\"subunitcolor\":\"white\"},\"hoverlabel\":{\"align\":\"left\"},\"hovermode\":\"closest\",\"mapbox\":{\"style\":\"light\"},\"paper_bgcolor\":\"white\",\"plot_bgcolor\":\"#E5ECF6\",\"polar\":{\"angularaxis\":{\"gridcolor\":\"white\",\"linecolor\":\"white\",\"ticks\":\"\"},\"bgcolor\":\"#E5ECF6\",\"radialaxis\":{\"gridcolor\":\"white\",\"linecolor\":\"white\",\"ticks\":\"\"}},\"scene\":{\"xaxis\":{\"backgroundcolor\":\"#E5ECF6\",\"gridcolor\":\"white\",\"gridwidth\":2,\"linecolor\":\"white\",\"showbackground\":true,\"ticks\":\"\",\"zerolinecolor\":\"white\"},\"yaxis\":{\"backgroundcolor\":\"#E5ECF6\",\"gridcolor\":\"white\",\"gridwidth\":2,\"linecolor\":\"white\",\"showbackground\":true,\"ticks\":\"\",\"zerolinecolor\":\"white\"},\"zaxis\":{\"backgroundcolor\":\"#E5ECF6\",\"gridcolor\":\"white\",\"gridwidth\":2,\"linecolor\":\"white\",\"showbackground\":true,\"ticks\":\"\",\"zerolinecolor\":\"white\"}},\"shapedefaults\":{\"line\":{\"color\":\"#2a3f5f\"}},\"ternary\":{\"aaxis\":{\"gridcolor\":\"white\",\"linecolor\":\"white\",\"ticks\":\"\"},\"baxis\":{\"gridcolor\":\"white\",\"linecolor\":\"white\",\"ticks\":\"\"},\"bgcolor\":\"#E5ECF6\",\"caxis\":{\"gridcolor\":\"white\",\"linecolor\":\"white\",\"ticks\":\"\"}},\"title\":{\"x\":0.05},\"xaxis\":{\"automargin\":true,\"gridcolor\":\"white\",\"linecolor\":\"white\",\"ticks\":\"\",\"title\":{\"standoff\":15},\"zerolinecolor\":\"white\",\"zerolinewidth\":2},\"yaxis\":{\"automargin\":true,\"gridcolor\":\"white\",\"linecolor\":\"white\",\"ticks\":\"\",\"title\":{\"standoff\":15},\"zerolinecolor\":\"white\",\"zerolinewidth\":2}}},\"xaxis\":{\"anchor\":\"y\",\"domain\":[0.0,1.0]},\"yaxis\":{\"anchor\":\"x\",\"domain\":[0.0,1.0],\"title\":{\"text\":\"accuracy\"}},\"legend\":{\"title\":{\"text\":\"id\"},\"tracegroupgap\":0},\"title\":{\"text\":\"Model Validation\"},\"boxmode\":\"group\"},                        {\"responsive\": true}                    ).then(function(){\n",
       "                            \n",
       "var gd = document.getElementById('08b02fe1-4a68-4d42-8610-3a303e940da9');\n",
       "var x = new MutationObserver(function (mutations, observer) {{\n",
       "        var display = window.getComputedStyle(gd).display;\n",
       "        if (!display || display === 'none') {{\n",
       "            console.log([gd, 'removed!']);\n",
       "            Plotly.purge(gd);\n",
       "            observer.disconnect();\n",
       "        }}\n",
       "}});\n",
       "\n",
       "// Listen for the removal of the full notebook cells\n",
       "var notebookContainer = gd.closest('#notebook-container');\n",
       "if (notebookContainer) {{\n",
       "    x.observe(notebookContainer, {childList: true});\n",
       "}}\n",
       "\n",
       "// Listen for the clearing of the current output cell\n",
       "var outputEl = gd.closest('.output');\n",
       "if (outputEl) {{\n",
       "    x.observe(outputEl, {childList: true});\n",
       "}}\n",
       "\n",
       "                        })                };                });            </script>        </div>"
      ]
     },
     "metadata": {},
     "output_type": "display_data"
    }
   ],
   "source": [
    "columns = list(df.columns[pd.Series(df.columns).str.startswith('k_')])\n",
    "columns.remove('k_average')\n",
    "l_df = pd.melt(df, id_vars =['id'], value_vars = columns, var_name ='fold', value_name ='accuracy' )\n",
    "\n",
    "fig = px.box(\n",
    "    data_frame=l_df, \n",
    "    title='Model Validation',\n",
    "    y='accuracy',\n",
    "    color='id')\n",
    "\n",
    "# Show your work\n",
    "fig.show()"
   ]
  },
  {
   "cell_type": "code",
   "execution_count": 54,
   "id": "53af49e5-27db-441c-a5b0-9cb382330366",
   "metadata": {},
   "outputs": [
    {
     "data": {
      "text/html": [
       "<div>\n",
       "<style scoped>\n",
       "    .dataframe tbody tr th:only-of-type {\n",
       "        vertical-align: middle;\n",
       "    }\n",
       "\n",
       "    .dataframe tbody tr th {\n",
       "        vertical-align: top;\n",
       "    }\n",
       "\n",
       "    .dataframe thead th {\n",
       "        text-align: right;\n",
       "    }\n",
       "</style>\n",
       "<table border=\"1\" class=\"dataframe\">\n",
       "  <thead>\n",
       "    <tr style=\"text-align: right;\">\n",
       "      <th></th>\n",
       "      <th>id</th>\n",
       "      <th>dt_accuracy</th>\n",
       "      <th>errors</th>\n",
       "      <th>ambiguous_errors</th>\n",
       "      <th>test_accuracy</th>\n",
       "      <th>k_1</th>\n",
       "      <th>k_2</th>\n",
       "      <th>k_3</th>\n",
       "      <th>k_4</th>\n",
       "      <th>k_5</th>\n",
       "      <th>k_6</th>\n",
       "      <th>k_7</th>\n",
       "      <th>k_8</th>\n",
       "      <th>k_9</th>\n",
       "      <th>k_10</th>\n",
       "      <th>k_average</th>\n",
       "    </tr>\n",
       "  </thead>\n",
       "  <tbody>\n",
       "    <tr>\n",
       "      <th>0</th>\n",
       "      <td>ga1</td>\n",
       "      <td>0.800</td>\n",
       "      <td>100</td>\n",
       "      <td>27</td>\n",
       "      <td>0.754</td>\n",
       "      <td>0.787</td>\n",
       "      <td>0.760</td>\n",
       "      <td>0.757</td>\n",
       "      <td>0.752</td>\n",
       "      <td>0.758</td>\n",
       "      <td>0.751</td>\n",
       "      <td>0.770</td>\n",
       "      <td>0.757</td>\n",
       "      <td>0.762</td>\n",
       "      <td>0.767</td>\n",
       "      <td>0.762</td>\n",
       "    </tr>\n",
       "    <tr>\n",
       "      <th>1</th>\n",
       "      <td>ga2</td>\n",
       "      <td>0.828</td>\n",
       "      <td>86</td>\n",
       "      <td>21</td>\n",
       "      <td>0.790</td>\n",
       "      <td>0.816</td>\n",
       "      <td>0.774</td>\n",
       "      <td>0.766</td>\n",
       "      <td>0.770</td>\n",
       "      <td>0.766</td>\n",
       "      <td>0.755</td>\n",
       "      <td>0.785</td>\n",
       "      <td>0.782</td>\n",
       "      <td>0.790</td>\n",
       "      <td>0.780</td>\n",
       "      <td>0.778</td>\n",
       "    </tr>\n",
       "    <tr>\n",
       "      <th>2</th>\n",
       "      <td>ga3</td>\n",
       "      <td>0.844</td>\n",
       "      <td>78</td>\n",
       "      <td>24</td>\n",
       "      <td>0.794</td>\n",
       "      <td>0.834</td>\n",
       "      <td>0.791</td>\n",
       "      <td>0.781</td>\n",
       "      <td>0.776</td>\n",
       "      <td>0.778</td>\n",
       "      <td>0.767</td>\n",
       "      <td>0.794</td>\n",
       "      <td>0.788</td>\n",
       "      <td>0.793</td>\n",
       "      <td>0.801</td>\n",
       "      <td>0.790</td>\n",
       "    </tr>\n",
       "    <tr>\n",
       "      <th>3</th>\n",
       "      <td>ga4</td>\n",
       "      <td>0.842</td>\n",
       "      <td>79</td>\n",
       "      <td>22</td>\n",
       "      <td>0.810</td>\n",
       "      <td>0.831</td>\n",
       "      <td>0.781</td>\n",
       "      <td>0.787</td>\n",
       "      <td>0.780</td>\n",
       "      <td>0.781</td>\n",
       "      <td>0.774</td>\n",
       "      <td>0.804</td>\n",
       "      <td>0.797</td>\n",
       "      <td>0.797</td>\n",
       "      <td>0.806</td>\n",
       "      <td>0.794</td>\n",
       "    </tr>\n",
       "  </tbody>\n",
       "</table>\n",
       "</div>"
      ],
      "text/plain": [
       "    id  dt_accuracy  errors  ambiguous_errors  test_accuracy    k_1    k_2  \\\n",
       "0  ga1        0.800     100                27          0.754  0.787  0.760   \n",
       "1  ga2        0.828      86                21          0.790  0.816  0.774   \n",
       "2  ga3        0.844      78                24          0.794  0.834  0.791   \n",
       "3  ga4        0.842      79                22          0.810  0.831  0.781   \n",
       "\n",
       "     k_3    k_4    k_5    k_6    k_7    k_8    k_9   k_10  k_average  \n",
       "0  0.757  0.752  0.758  0.751  0.770  0.757  0.762  0.767      0.762  \n",
       "1  0.766  0.770  0.766  0.755  0.785  0.782  0.790  0.780      0.778  \n",
       "2  0.781  0.776  0.778  0.767  0.794  0.788  0.793  0.801      0.790  \n",
       "3  0.787  0.780  0.781  0.774  0.804  0.797  0.797  0.806      0.794  "
      ]
     },
     "execution_count": 54,
     "metadata": {},
     "output_type": "execute_result"
    }
   ],
   "source": [
    "# summary data\n",
    "pd.merge(left=result_df,right=df,left_on='id',right_on='id')"
   ]
  },
  {
   "cell_type": "markdown",
   "id": "1219b1eb-f2d9-4bb9-a79e-7376bdf33159",
   "metadata": {},
   "source": [
    "From the analysis we can see that Model 3 and Model 4 both perform well on all accuracy metrics, compared to the other models. Model 4 appears to be the better of the two models on out of sample performance, as it has the highest testing data accuracy and best average k-fold cross validation accuracy. Model 4 also had a fairly consistent accuracy across all k fold training sets, indicating that we can be fairly confident that the score is accurate. However it should be noted that this number can fluctuate depending on the ramdom seed selected.\n"
   ]
  },
  {
   "cell_type": "markdown",
   "id": "6969dc00-cdd4-4899-a647-7c119e01cef3",
   "metadata": {},
   "source": [
    "<br>\n",
    "\n",
    "### Conclusion\n",
    "The difficulties associated with getting better accuracy in the gender classification names is impacted by the prevalence of unisex names. With 365 unisex names in the corpus it is common to see 24% to 28% of the errors are generated by unisex names that appear in corpus as both male and female names. "
   ]
  }
 ],
 "metadata": {
  "kernelspec": {
   "display_name": "Python 3 (ipykernel)",
   "language": "python",
   "name": "python3"
  },
  "language_info": {
   "codemirror_mode": {
    "name": "ipython",
    "version": 3
   },
   "file_extension": ".py",
   "mimetype": "text/x-python",
   "name": "python",
   "nbconvert_exporter": "python",
   "pygments_lexer": "ipython3",
   "version": "3.8.12"
  }
 },
 "nbformat": 4,
 "nbformat_minor": 5
}
