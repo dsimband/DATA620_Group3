{
 "cells": [
  {
   "cell_type": "markdown",
   "id": "925f984b",
   "metadata": {},
   "source": [
    "# DATA620: Project 3 - Gender Identification\n",
    "\n",
    "## Homework Team 3: David Simbandumwe, Eric Lehmphul and Lidiia Tronina"
   ]
  },
  {
   "cell_type": "markdown",
   "id": "e2419732",
   "metadata": {},
   "source": [
    "Your project should be submitted (as an Jupyter Notebook via GitHub). The team members should all submit a link to the same repository. If any of you don't submit the link to GitHub, I will assume you didn't collaborate.\n",
    "Using any of the three classifiers described in chapter 6 of Natural Language Processing with Python, and any features you can think of, build the best name gender classifier you can. Begin by splitting the Names Corpus into three subsets: 500 words for the test set, 500 words for the dev-test set, and the remaining 6900 words for the training set. Then, starting with the example name gender classifier, make incremental improvements. Use the dev-test set to check your progress. Once you are satisfied with your classifier, check its final performance on the test set. How does the performance on the test set compare to the performance on the dev-test set? Is this what you'd expect?"
   ]
  },
  {
   "cell_type": "markdown",
   "id": "7a9bb7cc",
   "metadata": {},
   "source": [
    "### Load Required Packages"
   ]
  },
  {
   "cell_type": "code",
   "execution_count": 20,
   "id": "b5300358",
   "metadata": {},
   "outputs": [],
   "source": [
    "import nltk\n",
    "from nltk.corpus import names\n",
    "from nltk.classify import apply_features\n",
    "\n",
    "import random"
   ]
  },
  {
   "cell_type": "markdown",
   "id": "962482a5-76f9-4a28-9aca-2e26baed503e",
   "metadata": {},
   "source": [
    "### Functions"
   ]
  },
  {
   "cell_type": "code",
   "execution_count": 21,
   "id": "a8dd6acb-c902-4536-a061-3908fbd8c049",
   "metadata": {},
   "outputs": [],
   "source": [
    "# extract features\n",
    "def gender_features1(name):\n",
    "    features = {}\n",
    "    #features[\"firstletter\"] = name[0].lower()\n",
    "    features[\"suffix1\"] = name[-1].lower()\n",
    "    features[\"suffix2\"] = name[-2].lower()\n",
    "\n",
    "    return features"
   ]
  },
  {
   "cell_type": "markdown",
   "id": "7109e486-8624-4158-99d8-15e6397b73f4",
   "metadata": {},
   "source": [
    "### Import and Lable Names"
   ]
  },
  {
   "cell_type": "code",
   "execution_count": 22,
   "id": "a92dd13e-0aa1-44d6-82c5-f86e63e6f825",
   "metadata": {},
   "outputs": [],
   "source": [
    "names = ([(name, 'male') for name in names.words('male.txt')] +\n",
    "        [(name, 'female') for name in names.words('female.txt')])\n",
    "random.shuffle(names)"
   ]
  },
  {
   "cell_type": "markdown",
   "id": "339d5a6d-2789-403d-9f80-ebd439d5f40b",
   "metadata": {},
   "source": [
    "### Split Corpus"
   ]
  },
  {
   "cell_type": "code",
   "execution_count": 23,
   "id": "bd33442e-b247-424e-9c9d-9892e4087256",
   "metadata": {},
   "outputs": [],
   "source": [
    "train_names = names[1500:]\n",
    "devtest_names = names[500:1500]\n",
    "test_names = names[:500]"
   ]
  },
  {
   "cell_type": "code",
   "execution_count": 24,
   "id": "4e51d097-db60-4c59-a3c4-8de3cfae84f3",
   "metadata": {},
   "outputs": [],
   "source": [
    "train_set = apply_features(gender_features1, train_names)\n",
    "devtest_set = apply_features(gender_features1, devtest_names)\n",
    "test_set = apply_features(gender_features1, test_names)"
   ]
  },
  {
   "cell_type": "markdown",
   "id": "67f2471e-8890-4791-baf6-730b5266a4f6",
   "metadata": {},
   "source": [
    "### Train Classifier"
   ]
  },
  {
   "cell_type": "code",
   "execution_count": 25,
   "id": "96a3d9d3-f1c7-4528-aa42-44a2a4df2eca",
   "metadata": {},
   "outputs": [],
   "source": [
    "classifier = nltk.NaiveBayesClassifier.train(train_set) "
   ]
  },
  {
   "cell_type": "markdown",
   "id": "c9b10d25-d2c6-4001-a749-e44a20ae08bb",
   "metadata": {},
   "source": [
    "### Analyze Errors "
   ]
  },
  {
   "cell_type": "code",
   "execution_count": 26,
   "id": "22077fed-ed15-4741-bf65-25af170a0cfb",
   "metadata": {},
   "outputs": [
    {
     "data": {
      "text/plain": [
       "0.759"
      ]
     },
     "execution_count": 26,
     "metadata": {},
     "output_type": "execute_result"
    }
   ],
   "source": [
    "nltk.classify.accuracy(classifier, devtest_set)"
   ]
  },
  {
   "cell_type": "code",
   "execution_count": 27,
   "id": "475df4cd-cfb6-4be9-b285-f28d1d0aba5e",
   "metadata": {},
   "outputs": [],
   "source": [
    "errors = []\n",
    "for (name, tag) in devtest_names:\n",
    "    guess = classifier.classify(gender_features1(name))\n",
    "    if guess != tag:\n",
    "        errors.append( (tag, guess, name) ) "
   ]
  },
  {
   "cell_type": "code",
   "execution_count": 28,
   "id": "9e56a151-f136-4634-86ff-82492c3658aa",
   "metadata": {},
   "outputs": [
    {
     "name": "stdout",
     "output_type": "stream",
     "text": [
      "correct=female   guess=male     name=Abbey                         \n",
      "correct=female   guess=male     name=Addis                         \n",
      "correct=female   guess=male     name=Aeriel                        \n",
      "correct=female   guess=male     name=Agnes                         \n",
      "correct=female   guess=male     name=Alanah                        \n",
      "correct=female   guess=male     name=Alyson                        \n",
      "correct=female   guess=male     name=Amabel                        \n",
      "correct=female   guess=male     name=Angel                         \n",
      "correct=female   guess=male     name=Ariel                         \n",
      "correct=female   guess=male     name=Arleen                        \n",
      "correct=female   guess=male     name=Audry                         \n",
      "correct=female   guess=male     name=Aurel                         \n",
      "correct=female   guess=male     name=Beret                         \n",
      "correct=female   guess=male     name=Brigit                        \n",
      "correct=female   guess=male     name=Briney                        \n",
      "correct=female   guess=male     name=Brit                          \n",
      "correct=female   guess=male     name=Cameo                         \n",
      "correct=female   guess=male     name=Carleen                       \n",
      "correct=female   guess=male     name=Charis                        \n",
      "correct=female   guess=male     name=Charmion                      \n",
      "correct=female   guess=male     name=Cherry                        \n",
      "correct=female   guess=male     name=Ciel                          \n",
      "correct=female   guess=male     name=Clair                         \n",
      "correct=female   guess=male     name=Cybel                         \n",
      "correct=female   guess=male     name=Dael                          \n",
      "correct=female   guess=male     name=Darcey                        \n",
      "correct=female   guess=male     name=Darcy                         \n",
      "correct=female   guess=male     name=Dareen                        \n",
      "correct=female   guess=male     name=Darleen                       \n",
      "correct=female   guess=male     name=Deb                           \n",
      "correct=female   guess=male     name=Doe                           \n",
      "correct=female   guess=male     name=Dominique                     \n",
      "correct=female   guess=male     name=Dory                          \n",
      "correct=female   guess=male     name=Eleanor                       \n",
      "correct=female   guess=male     name=Elisabet                      \n",
      "correct=female   guess=male     name=Fan                           \n",
      "correct=female   guess=male     name=Fancy                         \n",
      "correct=female   guess=male     name=Fawn                          \n",
      "correct=female   guess=male     name=Fay                           \n",
      "correct=female   guess=male     name=Francis                       \n",
      "correct=female   guess=male     name=Gabbey                        \n",
      "correct=female   guess=male     name=Gen                           \n",
      "correct=female   guess=male     name=Gui                           \n",
      "correct=female   guess=male     name=Gwen                          \n",
      "correct=female   guess=male     name=Happy                         \n",
      "correct=female   guess=male     name=Hayley                        \n",
      "correct=female   guess=male     name=Hazel                         \n",
      "correct=female   guess=male     name=Ines                          \n",
      "correct=female   guess=male     name=Isador                        \n",
      "correct=female   guess=male     name=Isobel                        \n",
      "correct=female   guess=male     name=Jannel                        \n",
      "correct=female   guess=male     name=Janot                         \n",
      "correct=female   guess=male     name=Jenifer                       \n",
      "correct=female   guess=male     name=Jewel                         \n",
      "correct=female   guess=male     name=Josey                         \n",
      "correct=female   guess=male     name=Kailey                        \n",
      "correct=female   guess=male     name=Karel                         \n",
      "correct=female   guess=male     name=Karrah                        \n",
      "correct=female   guess=male     name=Katleen                       \n",
      "correct=female   guess=male     name=Kerry                         \n",
      "correct=female   guess=male     name=Kiersten                      \n",
      "correct=female   guess=male     name=Koren                         \n",
      "correct=female   guess=male     name=Lacy                          \n",
      "correct=female   guess=male     name=Leorah                        \n",
      "correct=female   guess=male     name=Lou                           \n",
      "correct=female   guess=male     name=Maisey                        \n",
      "correct=female   guess=male     name=Mallory                       \n",
      "correct=female   guess=male     name=Margy                         \n",
      "correct=female   guess=male     name=Mariam                        \n",
      "correct=female   guess=male     name=Marigold                      \n",
      "correct=female   guess=male     name=Marjory                       \n",
      "correct=female   guess=male     name=Marley                        \n",
      "correct=female   guess=male     name=Maryellen                     \n",
      "correct=female   guess=male     name=Maryjo                        \n",
      "correct=female   guess=male     name=Marylou                       \n",
      "correct=female   guess=male     name=Meris                         \n",
      "correct=female   guess=male     name=Michal                        \n",
      "correct=female   guess=male     name=Monah                         \n",
      "correct=female   guess=male     name=Muriel                        \n",
      "correct=female   guess=male     name=Myrah                         \n",
      "correct=female   guess=male     name=Nanon                         \n",
      "correct=female   guess=male     name=Pearl                         \n",
      "correct=female   guess=male     name=Philis                        \n",
      "correct=female   guess=male     name=Phillis                       \n",
      "correct=female   guess=male     name=Ragnhild                      \n",
      "correct=female   guess=male     name=Ranique                       \n",
      "correct=female   guess=male     name=Raven                         \n",
      "correct=female   guess=male     name=Rebekkah                      \n",
      "correct=female   guess=male     name=Roch                          \n",
      "correct=female   guess=male     name=Rosalind                      \n",
      "correct=female   guess=male     name=Rosemary                      \n",
      "correct=female   guess=male     name=Rozamond                      \n",
      "correct=female   guess=male     name=Scarlet                       \n",
      "correct=female   guess=male     name=Shannah                       \n",
      "correct=female   guess=male     name=Sharon                        \n",
      "correct=female   guess=male     name=Sibeal                        \n",
      "correct=female   guess=male     name=Sibel                         \n",
      "correct=female   guess=male     name=Sigrid                        \n",
      "correct=female   guess=male     name=Sioux                         \n",
      "correct=female   guess=male     name=Sophey                        \n",
      "correct=female   guess=male     name=Star                          \n",
      "correct=female   guess=male     name=Suellen                       \n",
      "correct=female   guess=male     name=Sukey                         \n",
      "correct=female   guess=male     name=Ted                           \n",
      "correct=female   guess=male     name=Tobey                         \n",
      "correct=female   guess=male     name=Umeko                         \n",
      "correct=female   guess=male     name=Venus                         \n",
      "correct=male     guess=female   name=Alfonse                       \n",
      "correct=male     guess=female   name=Alvin                         \n",
      "correct=male     guess=female   name=Anatoly                       \n",
      "correct=male     guess=female   name=Antone                        \n",
      "correct=male     guess=female   name=Augie                         \n",
      "correct=male     guess=female   name=Bailie                        \n",
      "correct=male     guess=female   name=Barth                         \n",
      "correct=male     guess=female   name=Beale                         \n",
      "correct=male     guess=female   name=Berkie                        \n",
      "correct=male     guess=female   name=Bertie                        \n",
      "correct=male     guess=female   name=Blaine                        \n",
      "correct=male     guess=female   name=Blayne                        \n",
      "correct=male     guess=female   name=Bobbie                        \n",
      "correct=male     guess=female   name=Brady                         \n",
      "correct=male     guess=female   name=Brice                         \n",
      "correct=male     guess=female   name=Bruce                         \n",
      "correct=male     guess=female   name=Burke                         \n",
      "correct=male     guess=female   name=Burnaby                       \n",
      "correct=male     guess=female   name=Cain                          \n",
      "correct=male     guess=female   name=Chaddy                        \n",
      "correct=male     guess=female   name=Chane                         \n",
      "correct=male     guess=female   name=Clarance                      \n",
      "correct=male     guess=female   name=Collin                        \n",
      "correct=male     guess=female   name=Constantin                    \n",
      "correct=male     guess=female   name=Corby                         \n",
      "correct=male     guess=female   name=Dani                          \n",
      "correct=male     guess=female   name=Demetre                       \n",
      "correct=male     guess=female   name=Denny                         \n",
      "correct=male     guess=female   name=Duane                         \n",
      "correct=male     guess=female   name=Dustin                        \n",
      "correct=male     guess=female   name=Emil                          \n",
      "correct=male     guess=female   name=Emmy                          \n",
      "correct=male     guess=female   name=Ervin                         \n",
      "correct=male     guess=female   name=Fitz                          \n",
      "correct=male     guess=female   name=Flemming                      \n",
      "correct=male     guess=female   name=Forrest                       \n",
      "correct=male     guess=female   name=Franklin                      \n",
      "correct=male     guess=female   name=Garcia                        \n",
      "correct=male     guess=female   name=Gavin                         \n",
      "correct=male     guess=female   name=Gayle                         \n",
      "correct=male     guess=female   name=Gere                          \n",
      "correct=male     guess=female   name=Gerome                        \n",
      "correct=male     guess=female   name=Graehme                       \n",
      "correct=male     guess=female   name=Guillaume                     \n",
      "correct=male     guess=female   name=Harvie                        \n",
      "correct=male     guess=female   name=Hasty                         \n",
      "correct=male     guess=female   name=Herrmann                      \n",
      "correct=male     guess=female   name=Hewitt                        \n",
      "correct=male     guess=female   name=Hodge                         \n",
      "correct=male     guess=female   name=Hoyt                          \n",
      "correct=male     guess=female   name=Husain                        \n",
      "correct=male     guess=female   name=Iggie                         \n",
      "correct=male     guess=female   name=Jackie                        \n",
      "correct=male     guess=female   name=Jaime                         \n",
      "correct=male     guess=female   name=Jerri                         \n",
      "correct=male     guess=female   name=Jerrie                        \n",
      "correct=male     guess=female   name=Jimmie                        \n",
      "correct=male     guess=female   name=Jimmy                         \n",
      "correct=male     guess=female   name=Jordy                         \n",
      "correct=male     guess=female   name=Jude                          \n",
      "correct=male     guess=female   name=Keith                         \n",
      "correct=male     guess=female   name=Kendall                       \n",
      "correct=male     guess=female   name=Kermie                        \n",
      "correct=male     guess=female   name=King                          \n",
      "correct=male     guess=female   name=Krishna                       \n",
      "correct=male     guess=female   name=Lamont                        \n",
      "correct=male     guess=female   name=Laurance                      \n",
      "correct=male     guess=female   name=Lefty                         \n",
      "correct=male     guess=female   name=Lin                           \n",
      "correct=male     guess=female   name=Llewellyn                     \n",
      "correct=male     guess=female   name=Lonny                         \n",
      "correct=male     guess=female   name=Louie                         \n",
      "correct=male     guess=female   name=Luigi                         \n",
      "correct=male     guess=female   name=Lyn                           \n",
      "correct=male     guess=female   name=Manish                        \n",
      "correct=male     guess=female   name=Marsh                         \n",
      "correct=male     guess=female   name=Merril                        \n",
      "correct=male     guess=female   name=Mervin                        \n",
      "correct=male     guess=female   name=Michele                       \n",
      "correct=male     guess=female   name=Moise                         \n",
      "correct=male     guess=female   name=Moishe                        \n",
      "correct=male     guess=female   name=Moore                         \n",
      "correct=male     guess=female   name=Mustafa                       \n",
      "correct=male     guess=female   name=Myke                          \n",
      "correct=male     guess=female   name=Nealy                         \n",
      "correct=male     guess=female   name=Neville                       \n",
      "correct=male     guess=female   name=Nicky                         \n",
      "correct=male     guess=female   name=Olin                          \n",
      "correct=male     guess=female   name=Ossie                         \n",
      "correct=male     guess=female   name=Pasquale                      \n",
      "correct=male     guess=female   name=Prentiss                      \n",
      "correct=male     guess=female   name=Quentin                       \n",
      "correct=male     guess=female   name=Quill                         \n",
      "correct=male     guess=female   name=Rabbi                         \n",
      "correct=male     guess=female   name=Radcliffe                     \n",
      "correct=male     guess=female   name=Randie                        \n",
      "correct=male     guess=female   name=Ransell                       \n",
      "correct=male     guess=female   name=Ravi                          \n",
      "correct=male     guess=female   name=Reggie                        \n",
      "correct=male     guess=female   name=Reube                         \n",
      "correct=male     guess=female   name=Richy                         \n",
      "correct=male     guess=female   name=Rolfe                         \n",
      "correct=male     guess=female   name=Rudy                          \n",
      "correct=male     guess=female   name=Salvatore                     \n",
      "correct=male     guess=female   name=Samuele                       \n",
      "correct=male     guess=female   name=Sascha                        \n",
      "correct=male     guess=female   name=Sawyere                       \n",
      "correct=male     guess=female   name=Shaughn                       \n",
      "correct=male     guess=female   name=Shell                         \n",
      "correct=male     guess=female   name=Sidnee                        \n",
      "correct=male     guess=female   name=Skye                          \n",
      "correct=male     guess=female   name=Tate                          \n",
      "correct=male     guess=female   name=Terrill                       \n",
      "correct=male     guess=female   name=Thaine                        \n",
      "correct=male     guess=female   name=Timmie                        \n",
      "correct=male     guess=female   name=Toby                          \n",
      "correct=male     guess=female   name=Toddy                         \n",
      "correct=male     guess=female   name=Tonnie                        \n",
      "correct=male     guess=female   name=Townie                        \n",
      "correct=male     guess=female   name=Towny                         \n",
      "correct=male     guess=female   name=Tremain                       \n",
      "correct=male     guess=female   name=Uri                           \n",
      "correct=male     guess=female   name=Vale                          \n",
      "correct=male     guess=female   name=Verne                         \n",
      "correct=male     guess=female   name=Vince                         \n",
      "correct=male     guess=female   name=Virgil                        \n",
      "correct=male     guess=female   name=Wadsworth                     \n",
      "correct=male     guess=female   name=Waite                         \n",
      "correct=male     guess=female   name=Wallache                      \n",
      "correct=male     guess=female   name=Wash                          \n",
      "correct=male     guess=female   name=Westbrooke                    \n",
      "correct=male     guess=female   name=Worthy                        \n",
      "correct=male     guess=female   name=Wynn                          \n",
      "correct=male     guess=female   name=Yale                          \n"
     ]
    }
   ],
   "source": [
    "for (tag, guess, name) in sorted(errors): # doctest: +ELLIPSIS +NORMALIZE_WHITESPACE \n",
    "    print ('correct=%-8s guess=%-8s name=%-30s' % (tag, guess, name))"
   ]
  },
  {
   "cell_type": "code",
   "execution_count": null,
   "id": "7cfa901f-da15-4794-aca2-054333889d1a",
   "metadata": {},
   "outputs": [],
   "source": []
  },
  {
   "cell_type": "code",
   "execution_count": null,
   "id": "c7026934-58e5-4195-8622-02a25de29618",
   "metadata": {},
   "outputs": [],
   "source": []
  },
  {
   "cell_type": "code",
   "execution_count": null,
   "id": "494693e4-613e-4d26-ad22-581d651e16b2",
   "metadata": {},
   "outputs": [],
   "source": []
  }
 ],
 "metadata": {
  "kernelspec": {
   "display_name": "Python 3 (ipykernel)",
   "language": "python",
   "name": "python3"
  },
  "language_info": {
   "codemirror_mode": {
    "name": "ipython",
    "version": 3
   },
   "file_extension": ".py",
   "mimetype": "text/x-python",
   "name": "python",
   "nbconvert_exporter": "python",
   "pygments_lexer": "ipython3",
   "version": "3.8.12"
  }
 },
 "nbformat": 4,
 "nbformat_minor": 5
}
