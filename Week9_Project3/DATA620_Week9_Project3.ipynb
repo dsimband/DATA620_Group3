{
 "cells": [
  {
   "cell_type": "markdown",
   "id": "925f984b",
   "metadata": {},
   "source": [
    "# DATA620: Project 3 - Gender Identification\n",
    "\n",
    "## Homework Team 3: David Simbandumwe, Eric Lehmphul and Lidiia Tronina"
   ]
  },
  {
   "cell_type": "markdown",
   "id": "e2419732",
   "metadata": {},
   "source": [
    "Your project should be submitted (as an Jupyter Notebook via GitHub). The team members should all submit a link to the same repository. If any of you don't submit the link to GitHub, I will assume you didn't collaborate.\n",
    "Using any of the three classifiers described in chapter 6 of Natural Language Processing with Python, and any features you can think of, build the best name gender classifier you can. Begin by splitting the Names Corpus into three subsets: 500 words for the test set, 500 words for the dev-test set, and the remaining 6900 words for the training set. Then, starting with the example name gender classifier, make incremental improvements. Use the dev-test set to check your progress. Once you are satisfied with your classifier, check its final performance on the test set. How does the performance on the test set compare to the performance on the dev-test set? Is this what you'd expect?"
   ]
  },
  {
   "cell_type": "markdown",
   "id": "7a9bb7cc",
   "metadata": {},
   "source": [
    "### Load Required Packages"
   ]
  },
  {
   "cell_type": "code",
   "execution_count": 29,
   "id": "b5300358",
   "metadata": {},
   "outputs": [],
   "source": [
    "import nltk\n",
    "from nltk.corpus import names\n",
    "from nltk.classify import apply_features\n",
    "from nltk.probability import FreqDist\n",
    "import pandas as pd\n",
    "import random\n",
    "import matplotlib.pyplot as plt\n",
    "from matplotlib_venn import venn2"
   ]
  },
  {
   "cell_type": "markdown",
   "id": "962482a5-76f9-4a28-9aca-2e26baed503e",
   "metadata": {},
   "source": [
    "### Functions"
   ]
  },
  {
   "cell_type": "code",
   "execution_count": 30,
   "id": "a8dd6acb-c902-4536-a061-3908fbd8c049",
   "metadata": {},
   "outputs": [],
   "source": [
    "# extract features\n",
    "def gender_features1(name):\n",
    "    features = {}\n",
    "    #features[\"firstletter\"] = name[0].lower()\n",
    "    features[\"suffix1\"] = name[-1].lower()\n",
    "    features[\"suffix2\"] = name[-2].lower()\n",
    "\n",
    "    return features"
   ]
  },
  {
   "cell_type": "markdown",
   "id": "7109e486-8624-4158-99d8-15e6397b73f4",
   "metadata": {},
   "source": [
    "### Import and Lable Names"
   ]
  },
  {
   "cell_type": "code",
   "execution_count": 31,
   "id": "a92dd13e-0aa1-44d6-82c5-f86e63e6f825",
   "metadata": {},
   "outputs": [],
   "source": [
    "names = ([(name, 'male') for name in names.words('male.txt')] +\n",
    "        [(name, 'female') for name in names.words('female.txt')])\n",
    "random.shuffle(names)"
   ]
  },
  {
   "cell_type": "code",
   "execution_count": 32,
   "id": "aa402c89-038d-475b-9964-6ad8950f9557",
   "metadata": {},
   "outputs": [
    {
     "data": {
      "text/html": [
       "<div>\n",
       "<style scoped>\n",
       "    .dataframe tbody tr th:only-of-type {\n",
       "        vertical-align: middle;\n",
       "    }\n",
       "\n",
       "    .dataframe tbody tr th {\n",
       "        vertical-align: top;\n",
       "    }\n",
       "\n",
       "    .dataframe thead th {\n",
       "        text-align: right;\n",
       "    }\n",
       "</style>\n",
       "<table border=\"1\" class=\"dataframe\">\n",
       "  <thead>\n",
       "    <tr style=\"text-align: right;\">\n",
       "      <th></th>\n",
       "      <th>name</th>\n",
       "      <th>gender</th>\n",
       "      <th>count</th>\n",
       "    </tr>\n",
       "  </thead>\n",
       "  <tbody>\n",
       "    <tr>\n",
       "      <th>0</th>\n",
       "      <td>Danny</td>\n",
       "      <td>male</td>\n",
       "      <td>2</td>\n",
       "    </tr>\n",
       "    <tr>\n",
       "      <th>1</th>\n",
       "      <td>Danny</td>\n",
       "      <td>female</td>\n",
       "      <td>2</td>\n",
       "    </tr>\n",
       "    <tr>\n",
       "      <th>2</th>\n",
       "      <td>Del</td>\n",
       "      <td>male</td>\n",
       "      <td>2</td>\n",
       "    </tr>\n",
       "    <tr>\n",
       "      <th>3</th>\n",
       "      <td>Del</td>\n",
       "      <td>female</td>\n",
       "      <td>2</td>\n",
       "    </tr>\n",
       "    <tr>\n",
       "      <th>4</th>\n",
       "      <td>Evelyn</td>\n",
       "      <td>female</td>\n",
       "      <td>2</td>\n",
       "    </tr>\n",
       "    <tr>\n",
       "      <th>...</th>\n",
       "      <td>...</td>\n",
       "      <td>...</td>\n",
       "      <td>...</td>\n",
       "    </tr>\n",
       "    <tr>\n",
       "      <th>725</th>\n",
       "      <td>Toby</td>\n",
       "      <td>female</td>\n",
       "      <td>2</td>\n",
       "    </tr>\n",
       "    <tr>\n",
       "      <th>726</th>\n",
       "      <td>Maurise</td>\n",
       "      <td>female</td>\n",
       "      <td>2</td>\n",
       "    </tr>\n",
       "    <tr>\n",
       "      <th>727</th>\n",
       "      <td>Maurise</td>\n",
       "      <td>male</td>\n",
       "      <td>2</td>\n",
       "    </tr>\n",
       "    <tr>\n",
       "      <th>728</th>\n",
       "      <td>Lindsey</td>\n",
       "      <td>male</td>\n",
       "      <td>2</td>\n",
       "    </tr>\n",
       "    <tr>\n",
       "      <th>729</th>\n",
       "      <td>Lindsey</td>\n",
       "      <td>female</td>\n",
       "      <td>2</td>\n",
       "    </tr>\n",
       "  </tbody>\n",
       "</table>\n",
       "<p>730 rows × 3 columns</p>\n",
       "</div>"
      ],
      "text/plain": [
       "        name  gender  count\n",
       "0      Danny    male      2\n",
       "1      Danny  female      2\n",
       "2        Del    male      2\n",
       "3        Del  female      2\n",
       "4     Evelyn  female      2\n",
       "..       ...     ...    ...\n",
       "725     Toby  female      2\n",
       "726  Maurise  female      2\n",
       "727  Maurise    male      2\n",
       "728  Lindsey    male      2\n",
       "729  Lindsey  female      2\n",
       "\n",
       "[730 rows x 3 columns]"
      ]
     },
     "execution_count": 32,
     "metadata": {},
     "output_type": "execute_result"
    }
   ],
   "source": [
    "# analyze data\n",
    "df = pd.DataFrame(names, columns=['name','gender'])\n",
    "df2 = df.groupby(['name'])['name'].count().reset_index(name='count').sort_values(['count'], ascending=False)\n",
    "df2 = df2[df2['count']>1]\n",
    "name_df = pd.merge(df,df2,how=\"inner\", on=[\"name\"])\n",
    "name_df"
   ]
  },
  {
   "cell_type": "code",
   "execution_count": 33,
   "id": "d81d657e-6de5-443f-899d-69e00554d9f5",
   "metadata": {},
   "outputs": [
    {
     "data": {
      "image/png": "[encoded data removed]",
      "text/plain": [
       "<Figure size 432x288 with 1 Axes>"
      ]
     },
     "metadata": {},
     "output_type": "display_data"
    }
   ],
   "source": [
    "# Use the venn2 function\n",
    "s1 = set(df[df['gender'] == 'male']['name'])\n",
    "s2 = set(df[df['gender'] == 'female']['name'])\n",
    "venn2([s1, s2], set_labels = ('male', 'female'))\n",
    "plt.show()"
   ]
  },
  {
   "cell_type": "markdown",
   "id": "339d5a6d-2789-403d-9f80-ebd439d5f40b",
   "metadata": {},
   "source": [
    "### Split Corpus"
   ]
  },
  {
   "cell_type": "code",
   "execution_count": 34,
   "id": "bd33442e-b247-424e-9c9d-9892e4087256",
   "metadata": {},
   "outputs": [],
   "source": [
    "train_names = names[1000:]\n",
    "devtest_names = names[500:1000]\n",
    "test_names = names[:500]"
   ]
  },
  {
   "cell_type": "code",
   "execution_count": 35,
   "id": "df974793-2f09-4cfe-8746-22bd44b0e7ed",
   "metadata": {},
   "outputs": [
    {
     "name": "stdout",
     "output_type": "stream",
     "text": [
      "Size Train Set 6944\n",
      "Size Development Set 500\n",
      "Size Test Set 500\n"
     ]
    }
   ],
   "source": [
    "print('Size Train Set',len(train_names))\n",
    "print('Size Development Set',len(devtest_names))\n",
    "print('Size Test Set',len(test_names))"
   ]
  },
  {
   "cell_type": "code",
   "execution_count": 36,
   "id": "4e51d097-db60-4c59-a3c4-8de3cfae84f3",
   "metadata": {},
   "outputs": [],
   "source": [
    "train_set = apply_features(gender_features1, train_names)\n",
    "devtest_set = apply_features(gender_features1, devtest_names)\n",
    "test_set = apply_features(gender_features1, test_names)"
   ]
  },
  {
   "cell_type": "markdown",
   "id": "67f2471e-8890-4791-baf6-730b5266a4f6",
   "metadata": {},
   "source": [
    "### Train Classifier"
   ]
  },
  {
   "cell_type": "code",
   "execution_count": 37,
   "id": "96a3d9d3-f1c7-4528-aa42-44a2a4df2eca",
   "metadata": {},
   "outputs": [],
   "source": [
    "classifier = nltk.NaiveBayesClassifier.train(train_set) "
   ]
  },
  {
   "cell_type": "markdown",
   "id": "c9b10d25-d2c6-4001-a749-e44a20ae08bb",
   "metadata": {},
   "source": [
    "### Analyze Errors "
   ]
  },
  {
   "cell_type": "code",
   "execution_count": 38,
   "id": "22077fed-ed15-4741-bf65-25af170a0cfb",
   "metadata": {},
   "outputs": [
    {
     "data": {
      "text/plain": [
       "0.786"
      ]
     },
     "execution_count": 38,
     "metadata": {},
     "output_type": "execute_result"
    }
   ],
   "source": [
    "nltk.classify.accuracy(classifier, devtest_set)"
   ]
  },
  {
   "cell_type": "code",
   "execution_count": 39,
   "id": "475df4cd-cfb6-4be9-b285-f28d1d0aba5e",
   "metadata": {},
   "outputs": [],
   "source": [
    "errors = []\n",
    "for (name, tag) in devtest_names:\n",
    "    guess = classifier.classify(gender_features1(name))\n",
    "    if guess != tag:\n",
    "        errors.append( (tag, guess, name) ) "
   ]
  },
  {
   "cell_type": "code",
   "execution_count": 40,
   "id": "9e56a151-f136-4634-86ff-82492c3658aa",
   "metadata": {},
   "outputs": [
    {
     "name": "stdout",
     "output_type": "stream",
     "text": [
      "correct=female   guess=male     name=Ainsley                       \n",
      "correct=female   guess=male     name=Alex                          \n",
      "correct=female   guess=male     name=Alexis                        \n",
      "correct=female   guess=male     name=Angel                         \n",
      "correct=female   guess=male     name=Ariel                         \n",
      "correct=female   guess=male     name=Astrix                        \n",
      "correct=female   guess=male     name=Bidget                        \n",
      "correct=female   guess=male     name=Cam                           \n",
      "correct=female   guess=male     name=Caron                         \n",
      "correct=female   guess=male     name=Cat                           \n",
      "correct=female   guess=male     name=Cordey                        \n",
      "correct=female   guess=male     name=Crystal                       \n",
      "correct=female   guess=male     name=Dian                          \n",
      "correct=female   guess=male     name=Dix                           \n",
      "correct=female   guess=male     name=Doris                         \n",
      "correct=female   guess=male     name=Dory                          \n",
      "correct=female   guess=male     name=Flo                           \n",
      "correct=female   guess=male     name=Fran                          \n",
      "correct=female   guess=male     name=Gabey                         \n",
      "correct=female   guess=male     name=Gretchen                      \n",
      "correct=female   guess=male     name=Haleigh                       \n",
      "correct=female   guess=male     name=Hedwig                        \n",
      "correct=female   guess=male     name=Ingaborg                      \n",
      "correct=female   guess=male     name=Isabeau                       \n",
      "correct=female   guess=male     name=Jacqui                        \n",
      "correct=female   guess=male     name=Jonis                         \n",
      "correct=female   guess=male     name=Kameko                        \n",
      "correct=female   guess=male     name=Katey                         \n",
      "correct=female   guess=male     name=Keeley                        \n",
      "correct=female   guess=male     name=Kristin                       \n",
      "correct=female   guess=male     name=Leigh                         \n",
      "correct=female   guess=male     name=Lesley                        \n",
      "correct=female   guess=male     name=Lou                           \n",
      "correct=female   guess=male     name=Lyndsey                       \n",
      "correct=female   guess=male     name=Lynsey                        \n",
      "correct=female   guess=male     name=Madelon                       \n",
      "correct=female   guess=male     name=Margalit                      \n",
      "correct=female   guess=male     name=Marigold                      \n",
      "correct=female   guess=male     name=May                           \n",
      "correct=female   guess=male     name=Mildred                       \n",
      "correct=female   guess=male     name=Murial                        \n",
      "correct=female   guess=male     name=Muriel                        \n",
      "correct=female   guess=male     name=Myriam                        \n",
      "correct=female   guess=male     name=Noreen                        \n",
      "correct=female   guess=male     name=Robbin                        \n",
      "correct=female   guess=male     name=Roselin                       \n",
      "correct=female   guess=male     name=Rowe                          \n",
      "correct=female   guess=male     name=Shannah                       \n",
      "correct=female   guess=male     name=Shaylah                       \n",
      "correct=female   guess=male     name=Shirley                       \n",
      "correct=female   guess=male     name=Suzan                         \n",
      "correct=female   guess=male     name=Tierney                       \n",
      "correct=female   guess=male     name=Tim                           \n",
      "correct=female   guess=male     name=Tuesday                       \n",
      "correct=female   guess=male     name=Wenonah                       \n",
      "correct=female   guess=male     name=Yoko                          \n",
      "correct=male     guess=female   name=Andrea                        \n",
      "correct=male     guess=female   name=Antoni                        \n",
      "correct=male     guess=female   name=Basil                         \n",
      "correct=male     guess=female   name=Bennett                       \n",
      "correct=male     guess=female   name=Brody                         \n",
      "correct=male     guess=female   name=Bruce                         \n",
      "correct=male     guess=female   name=Carmine                       \n",
      "correct=male     guess=female   name=Chance                        \n",
      "correct=male     guess=female   name=Clint                         \n",
      "correct=male     guess=female   name=Douglass                      \n",
      "correct=male     guess=female   name=George                        \n",
      "correct=male     guess=female   name=Georgia                       \n",
      "correct=male     guess=female   name=Grace                         \n",
      "correct=male     guess=female   name=Hall                          \n",
      "correct=male     guess=female   name=Heath                         \n",
      "correct=male     guess=female   name=Herculie                      \n",
      "correct=male     guess=female   name=Howie                         \n",
      "correct=male     guess=female   name=Jackie                        \n",
      "correct=male     guess=female   name=Jere                          \n",
      "correct=male     guess=female   name=Jess                          \n",
      "correct=male     guess=female   name=Lamont                        \n",
      "correct=male     guess=female   name=Lanny                         \n",
      "correct=male     guess=female   name=Lawrence                      \n",
      "correct=male     guess=female   name=Lennie                        \n",
      "correct=male     guess=female   name=Locke                         \n",
      "correct=male     guess=female   name=Luke                          \n",
      "correct=male     guess=female   name=Merell                        \n",
      "correct=male     guess=female   name=Mikhail                       \n",
      "correct=male     guess=female   name=Monty                         \n",
      "correct=male     guess=female   name=Myke                          \n",
      "correct=male     guess=female   name=Natale                        \n",
      "correct=male     guess=female   name=Nevil                         \n",
      "correct=male     guess=female   name=Oswell                        \n",
      "correct=male     guess=female   name=Parrnell                      \n",
      "correct=male     guess=female   name=Randi                         \n",
      "correct=male     guess=female   name=Sarge                         \n",
      "correct=male     guess=female   name=Simone                        \n",
      "correct=male     guess=female   name=Sky                           \n",
      "correct=male     guess=female   name=Sparky                        \n",
      "correct=male     guess=female   name=Tallie                        \n",
      "correct=male     guess=female   name=Tannie                        \n",
      "correct=male     guess=female   name=Terrill                       \n",
      "correct=male     guess=female   name=Tirrell                       \n",
      "correct=male     guess=female   name=Toddie                        \n",
      "correct=male     guess=female   name=Tyrone                        \n",
      "correct=male     guess=female   name=Vail                          \n",
      "correct=male     guess=female   name=Wallace                       \n",
      "correct=male     guess=female   name=Welbie                        \n",
      "correct=male     guess=female   name=Winny                         \n",
      "correct=male     guess=female   name=Zeke                          \n",
      "correct=male     guess=female   name=Zolly                         \n"
     ]
    }
   ],
   "source": [
    "for (tag, guess, name) in sorted(errors): # doctest: +ELLIPSIS +NORMALIZE_WHITESPACE \n",
    "    print ('correct=%-8s guess=%-8s name=%-30s' % (tag, guess, name))"
   ]
  },
  {
   "cell_type": "code",
   "execution_count": null,
   "id": "7cfa901f-da15-4794-aca2-054333889d1a",
   "metadata": {},
   "outputs": [],
   "source": []
  },
  {
   "cell_type": "code",
   "execution_count": null,
   "id": "c7026934-58e5-4195-8622-02a25de29618",
   "metadata": {},
   "outputs": [],
   "source": []
  },
  {
   "cell_type": "code",
   "execution_count": null,
   "id": "494693e4-613e-4d26-ad22-581d651e16b2",
   "metadata": {},
   "outputs": [],
   "source": []
  }
 ],
 "metadata": {
  "kernelspec": {
   "display_name": "Python 3 (ipykernel)",
   "language": "python",
   "name": "python3"
  },
  "language_info": {
   "codemirror_mode": {
    "name": "ipython",
    "version": 3
   },
   "file_extension": ".py",
   "mimetype": "text/x-python",
   "name": "python",
   "nbconvert_exporter": "python",
   "pygments_lexer": "ipython3",
   "version": "3.8.12"
  }
 },
 "nbformat": 4,
 "nbformat_minor": 5
}
