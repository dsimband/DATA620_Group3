{
 "cells": [
  {
   "cell_type": "markdown",
   "id": "925f984b",
   "metadata": {},
   "source": [
    "# DATA620: Project 3 - Gender Identification\n",
    "\n",
    "## Homework Team 3: David Simbandumwe, Eric Lehmphul and Lidiia Tronina"
   ]
  },
  {
   "cell_type": "markdown",
   "id": "e2419732",
   "metadata": {},
   "source": [
    "Your project should be submitted (as an Jupyter Notebook via GitHub). The team members should all submit a link to the same repository. If any of you don't submit the link to GitHub, I will assume you didn't collaborate.\n",
    "Using any of the three classifiers described in chapter 6 of Natural Language Processing with Python, and any features you can think of, build the best name gender classifier you can. Begin by splitting the Names Corpus into three subsets: 500 words for the test set, 500 words for the dev-test set, and the remaining 6900 words for the training set. Then, starting with the example name gender classifier, make incremental improvements. Use the dev-test set to check your progress. Once you are satisfied with your classifier, check its final performance on the test set. How does the performance on the test set compare to the performance on the dev-test set? Is this what you'd expect?"
   ]
  },
  {
   "cell_type": "markdown",
   "id": "7a9bb7cc",
   "metadata": {},
   "source": [
    "### Load Required Packages"
   ]
  },
  {
   "cell_type": "code",
   "execution_count": 146,
   "id": "b5300358",
   "metadata": {},
   "outputs": [],
   "source": [
    "import nltk\n",
    "from nltk.corpus import names\n",
    "from nltk.classify import apply_features\n",
    "from nltk.probability import FreqDist\n",
    "import pandas as pd\n",
    "import random"
   ]
  },
  {
   "cell_type": "markdown",
   "id": "962482a5-76f9-4a28-9aca-2e26baed503e",
   "metadata": {},
   "source": [
    "### Functions"
   ]
  },
  {
   "cell_type": "code",
   "execution_count": 147,
   "id": "a8dd6acb-c902-4536-a061-3908fbd8c049",
   "metadata": {},
   "outputs": [],
   "source": [
    "# extract features\n",
    "def gender_features1(name):\n",
    "    features = {}\n",
    "    #features[\"firstletter\"] = name[0].lower()\n",
    "    features[\"suffix1\"] = name[-1].lower()\n",
    "    features[\"suffix2\"] = name[-2].lower()\n",
    "\n",
    "    return features"
   ]
  },
  {
   "cell_type": "markdown",
   "id": "7109e486-8624-4158-99d8-15e6397b73f4",
   "metadata": {},
   "source": [
    "### Import and Lable Names"
   ]
  },
  {
   "cell_type": "code",
   "execution_count": 148,
   "id": "a92dd13e-0aa1-44d6-82c5-f86e63e6f825",
   "metadata": {},
   "outputs": [],
   "source": [
    "names = ([(name, 'male') for name in names.words('male.txt')] +\n",
    "        [(name, 'female') for name in names.words('female.txt')])\n",
    "random.shuffle(names)"
   ]
  },
  {
   "cell_type": "code",
   "execution_count": 149,
   "id": "aa402c89-038d-475b-9964-6ad8950f9557",
   "metadata": {},
   "outputs": [
    {
     "data": {
      "text/html": [
       "<div>\n",
       "<style scoped>\n",
       "    .dataframe tbody tr th:only-of-type {\n",
       "        vertical-align: middle;\n",
       "    }\n",
       "\n",
       "    .dataframe tbody tr th {\n",
       "        vertical-align: top;\n",
       "    }\n",
       "\n",
       "    .dataframe thead th {\n",
       "        text-align: right;\n",
       "    }\n",
       "</style>\n",
       "<table border=\"1\" class=\"dataframe\">\n",
       "  <thead>\n",
       "    <tr style=\"text-align: right;\">\n",
       "      <th></th>\n",
       "      <th>name</th>\n",
       "      <th>sex</th>\n",
       "    </tr>\n",
       "  </thead>\n",
       "  <tbody>\n",
       "    <tr>\n",
       "      <th>0</th>\n",
       "      <td>Inessa</td>\n",
       "      <td>female</td>\n",
       "    </tr>\n",
       "    <tr>\n",
       "      <th>1</th>\n",
       "      <td>Ida</td>\n",
       "      <td>female</td>\n",
       "    </tr>\n",
       "    <tr>\n",
       "      <th>2</th>\n",
       "      <td>Horatius</td>\n",
       "      <td>male</td>\n",
       "    </tr>\n",
       "    <tr>\n",
       "      <th>3</th>\n",
       "      <td>Tessie</td>\n",
       "      <td>female</td>\n",
       "    </tr>\n",
       "    <tr>\n",
       "      <th>4</th>\n",
       "      <td>Geraldo</td>\n",
       "      <td>male</td>\n",
       "    </tr>\n",
       "  </tbody>\n",
       "</table>\n",
       "</div>"
      ],
      "text/plain": [
       "       name     sex\n",
       "0    Inessa  female\n",
       "1       Ida  female\n",
       "2  Horatius    male\n",
       "3    Tessie  female\n",
       "4   Geraldo    male"
      ]
     },
     "execution_count": 149,
     "metadata": {},
     "output_type": "execute_result"
    }
   ],
   "source": [
    "#\n",
    "df = pd.DataFrame(names, columns=['name','sex'])\n",
    "df2 = df.groupby(['name'])['name'].count().reset_index(name='count').sort_values(['count'], ascending=False)\n",
    "df2 = df2[df2['count']>1]\n",
    "\n",
    "df.head()\n"
   ]
  },
  {
   "cell_type": "code",
   "execution_count": 150,
   "id": "03a984ee-7cd1-44af-8c04-c203a57ba091",
   "metadata": {},
   "outputs": [
    {
     "data": {
      "text/html": [
       "<div>\n",
       "<style scoped>\n",
       "    .dataframe tbody tr th:only-of-type {\n",
       "        vertical-align: middle;\n",
       "    }\n",
       "\n",
       "    .dataframe tbody tr th {\n",
       "        vertical-align: top;\n",
       "    }\n",
       "\n",
       "    .dataframe thead th {\n",
       "        text-align: right;\n",
       "    }\n",
       "</style>\n",
       "<table border=\"1\" class=\"dataframe\">\n",
       "  <thead>\n",
       "    <tr style=\"text-align: right;\">\n",
       "      <th></th>\n",
       "      <th>name</th>\n",
       "      <th>count</th>\n",
       "    </tr>\n",
       "  </thead>\n",
       "  <tbody>\n",
       "    <tr>\n",
       "      <th>329</th>\n",
       "      <td>Andie</td>\n",
       "      <td>2</td>\n",
       "    </tr>\n",
       "    <tr>\n",
       "      <th>5030</th>\n",
       "      <td>Michele</td>\n",
       "      <td>2</td>\n",
       "    </tr>\n",
       "    <tr>\n",
       "      <th>5940</th>\n",
       "      <td>Rey</td>\n",
       "      <td>2</td>\n",
       "    </tr>\n",
       "    <tr>\n",
       "      <th>851</th>\n",
       "      <td>Bill</td>\n",
       "      <td>2</td>\n",
       "    </tr>\n",
       "    <tr>\n",
       "      <th>1339</th>\n",
       "      <td>Chris</td>\n",
       "      <td>2</td>\n",
       "    </tr>\n",
       "  </tbody>\n",
       "</table>\n",
       "</div>"
      ],
      "text/plain": [
       "         name  count\n",
       "329     Andie      2\n",
       "5030  Michele      2\n",
       "5940      Rey      2\n",
       "851      Bill      2\n",
       "1339    Chris      2"
      ]
     },
     "execution_count": 150,
     "metadata": {},
     "output_type": "execute_result"
    }
   ],
   "source": [
    "\n",
    "\n",
    "df2.head()"
   ]
  },
  {
   "cell_type": "code",
   "execution_count": 151,
   "id": "164cadcb-3b89-4441-a138-fe40d950b2e2",
   "metadata": {},
   "outputs": [],
   "source": []
  },
  {
   "cell_type": "code",
   "execution_count": 152,
   "id": "80315704-2433-48a3-9146-a8d8b968ea75",
   "metadata": {},
   "outputs": [],
   "source": [
    "name_df = pd.merge(df,df2,how=\"inner\", on=[\"name\"])"
   ]
  },
  {
   "cell_type": "code",
   "execution_count": 153,
   "id": "97864f5f-7732-4477-acd2-f5cea15a743b",
   "metadata": {},
   "outputs": [
    {
     "data": {
      "text/plain": [
       "(730, 3)"
      ]
     },
     "execution_count": 153,
     "metadata": {},
     "output_type": "execute_result"
    }
   ],
   "source": [
    "name_df.shape"
   ]
  },
  {
   "cell_type": "code",
   "execution_count": 161,
   "id": "de5b4574-e22b-417f-9e4d-ccb32bbbe2c2",
   "metadata": {},
   "outputs": [
    {
     "data": {
      "text/html": [
       "<div>\n",
       "<style scoped>\n",
       "    .dataframe tbody tr th:only-of-type {\n",
       "        vertical-align: middle;\n",
       "    }\n",
       "\n",
       "    .dataframe tbody tr th {\n",
       "        vertical-align: top;\n",
       "    }\n",
       "\n",
       "    .dataframe thead th {\n",
       "        text-align: right;\n",
       "    }\n",
       "</style>\n",
       "<table border=\"1\" class=\"dataframe\">\n",
       "  <thead>\n",
       "    <tr style=\"text-align: right;\">\n",
       "      <th></th>\n",
       "      <th>name</th>\n",
       "      <th>sex</th>\n",
       "      <th>count</th>\n",
       "    </tr>\n",
       "  </thead>\n",
       "  <tbody>\n",
       "    <tr>\n",
       "      <th>0</th>\n",
       "      <td>Allie</td>\n",
       "      <td>female</td>\n",
       "      <td>2</td>\n",
       "    </tr>\n",
       "    <tr>\n",
       "      <th>1</th>\n",
       "      <td>Allie</td>\n",
       "      <td>male</td>\n",
       "      <td>2</td>\n",
       "    </tr>\n",
       "    <tr>\n",
       "      <th>2</th>\n",
       "      <td>Darby</td>\n",
       "      <td>male</td>\n",
       "      <td>2</td>\n",
       "    </tr>\n",
       "    <tr>\n",
       "      <th>3</th>\n",
       "      <td>Darby</td>\n",
       "      <td>female</td>\n",
       "      <td>2</td>\n",
       "    </tr>\n",
       "    <tr>\n",
       "      <th>4</th>\n",
       "      <td>Wynn</td>\n",
       "      <td>male</td>\n",
       "      <td>2</td>\n",
       "    </tr>\n",
       "    <tr>\n",
       "      <th>...</th>\n",
       "      <td>...</td>\n",
       "      <td>...</td>\n",
       "      <td>...</td>\n",
       "    </tr>\n",
       "    <tr>\n",
       "      <th>725</th>\n",
       "      <td>Jo</td>\n",
       "      <td>male</td>\n",
       "      <td>2</td>\n",
       "    </tr>\n",
       "    <tr>\n",
       "      <th>726</th>\n",
       "      <td>Matty</td>\n",
       "      <td>male</td>\n",
       "      <td>2</td>\n",
       "    </tr>\n",
       "    <tr>\n",
       "      <th>727</th>\n",
       "      <td>Matty</td>\n",
       "      <td>female</td>\n",
       "      <td>2</td>\n",
       "    </tr>\n",
       "    <tr>\n",
       "      <th>728</th>\n",
       "      <td>Mel</td>\n",
       "      <td>female</td>\n",
       "      <td>2</td>\n",
       "    </tr>\n",
       "    <tr>\n",
       "      <th>729</th>\n",
       "      <td>Mel</td>\n",
       "      <td>male</td>\n",
       "      <td>2</td>\n",
       "    </tr>\n",
       "  </tbody>\n",
       "</table>\n",
       "<p>730 rows × 3 columns</p>\n",
       "</div>"
      ],
      "text/plain": [
       "      name     sex  count\n",
       "0    Allie  female      2\n",
       "1    Allie    male      2\n",
       "2    Darby    male      2\n",
       "3    Darby  female      2\n",
       "4     Wynn    male      2\n",
       "..     ...     ...    ...\n",
       "725     Jo    male      2\n",
       "726  Matty    male      2\n",
       "727  Matty  female      2\n",
       "728    Mel  female      2\n",
       "729    Mel    male      2\n",
       "\n",
       "[730 rows x 3 columns]"
      ]
     },
     "execution_count": 161,
     "metadata": {},
     "output_type": "execute_result"
    }
   ],
   "source": [
    "name_df"
   ]
  },
  {
   "cell_type": "code",
   "execution_count": null,
   "id": "b4bf3c36-6602-4ec5-acc6-3eb834e36cae",
   "metadata": {},
   "outputs": [],
   "source": []
  },
  {
   "cell_type": "code",
   "execution_count": null,
   "id": "9a57bb84-4329-4439-ad98-5e0156d5fda1",
   "metadata": {},
   "outputs": [],
   "source": []
  },
  {
   "cell_type": "markdown",
   "id": "339d5a6d-2789-403d-9f80-ebd439d5f40b",
   "metadata": {},
   "source": [
    "### Split Corpus"
   ]
  },
  {
   "cell_type": "code",
   "execution_count": 154,
   "id": "bd33442e-b247-424e-9c9d-9892e4087256",
   "metadata": {},
   "outputs": [],
   "source": [
    "train_names = names[1000:]\n",
    "devtest_names = names[500:1000]\n",
    "test_names = names[:500]"
   ]
  },
  {
   "cell_type": "code",
   "execution_count": 155,
   "id": "df974793-2f09-4cfe-8746-22bd44b0e7ed",
   "metadata": {},
   "outputs": [
    {
     "name": "stdout",
     "output_type": "stream",
     "text": [
      "Size Train Set 6944\n",
      "Size Development Set 500\n",
      "Size Test Set 500\n"
     ]
    }
   ],
   "source": [
    "print('Size Train Set',len(train_names))\n",
    "print('Size Development Set',len(devtest_names))\n",
    "print('Size Test Set',len(test_names))"
   ]
  },
  {
   "cell_type": "code",
   "execution_count": 156,
   "id": "4e51d097-db60-4c59-a3c4-8de3cfae84f3",
   "metadata": {},
   "outputs": [],
   "source": [
    "train_set = apply_features(gender_features1, train_names)\n",
    "devtest_set = apply_features(gender_features1, devtest_names)\n",
    "test_set = apply_features(gender_features1, test_names)"
   ]
  },
  {
   "cell_type": "markdown",
   "id": "67f2471e-8890-4791-baf6-730b5266a4f6",
   "metadata": {},
   "source": [
    "### Train Classifier"
   ]
  },
  {
   "cell_type": "code",
   "execution_count": 157,
   "id": "96a3d9d3-f1c7-4528-aa42-44a2a4df2eca",
   "metadata": {},
   "outputs": [],
   "source": [
    "classifier = nltk.NaiveBayesClassifier.train(train_set) "
   ]
  },
  {
   "cell_type": "markdown",
   "id": "c9b10d25-d2c6-4001-a749-e44a20ae08bb",
   "metadata": {},
   "source": [
    "### Analyze Errors "
   ]
  },
  {
   "cell_type": "code",
   "execution_count": 158,
   "id": "22077fed-ed15-4741-bf65-25af170a0cfb",
   "metadata": {},
   "outputs": [
    {
     "data": {
      "text/plain": [
       "0.73"
      ]
     },
     "execution_count": 158,
     "metadata": {},
     "output_type": "execute_result"
    }
   ],
   "source": [
    "nltk.classify.accuracy(classifier, devtest_set)"
   ]
  },
  {
   "cell_type": "code",
   "execution_count": 159,
   "id": "475df4cd-cfb6-4be9-b285-f28d1d0aba5e",
   "metadata": {},
   "outputs": [],
   "source": [
    "errors = []\n",
    "for (name, tag) in devtest_names:\n",
    "    guess = classifier.classify(gender_features1(name))\n",
    "    if guess != tag:\n",
    "        errors.append( (tag, guess, name) ) "
   ]
  },
  {
   "cell_type": "code",
   "execution_count": 160,
   "id": "9e56a151-f136-4634-86ff-82492c3658aa",
   "metadata": {},
   "outputs": [
    {
     "name": "stdout",
     "output_type": "stream",
     "text": [
      "correct=female   guess=male     name=Adrian                        \n",
      "correct=female   guess=male     name=Aigneis                       \n",
      "correct=female   guess=male     name=Ajay                          \n",
      "correct=female   guess=male     name=Alisun                        \n",
      "correct=female   guess=male     name=Angel                         \n",
      "correct=female   guess=male     name=Annabel                       \n",
      "correct=female   guess=male     name=Anne-Mar                      \n",
      "correct=female   guess=male     name=Ardelis                       \n",
      "correct=female   guess=male     name=Aubrey                        \n",
      "correct=female   guess=male     name=Britaney                      \n",
      "correct=female   guess=male     name=Cherry                        \n",
      "correct=female   guess=male     name=Christan                      \n",
      "correct=female   guess=male     name=Colleen                       \n",
      "correct=female   guess=male     name=Cristin                       \n",
      "correct=female   guess=male     name=Dawn                          \n",
      "correct=female   guess=male     name=Devan                         \n",
      "correct=female   guess=male     name=Dian                          \n",
      "correct=female   guess=male     name=Dynah                         \n",
      "correct=female   guess=male     name=Farand                        \n",
      "correct=female   guess=male     name=Ginnifer                      \n",
      "correct=female   guess=male     name=Gretchen                      \n",
      "correct=female   guess=male     name=Gretel                        \n",
      "correct=female   guess=male     name=Grissel                       \n",
      "correct=female   guess=male     name=Gui                           \n",
      "correct=female   guess=male     name=Ines                          \n",
      "correct=female   guess=male     name=Iseabal                       \n",
      "correct=female   guess=male     name=Janis                         \n",
      "correct=female   guess=male     name=Jen                           \n",
      "correct=female   guess=male     name=Jess                          \n",
      "correct=female   guess=male     name=Joellen                       \n",
      "correct=female   guess=male     name=Kacey                         \n",
      "correct=female   guess=male     name=Karleen                       \n",
      "correct=female   guess=male     name=Kayley                        \n",
      "correct=female   guess=male     name=Kip                           \n",
      "correct=female   guess=male     name=Kissiah                       \n",
      "correct=female   guess=male     name=Lulu                          \n",
      "correct=female   guess=male     name=Lyndsey                       \n",
      "correct=female   guess=male     name=Madelin                       \n",
      "correct=female   guess=male     name=Mag                           \n",
      "correct=female   guess=male     name=Maggy                         \n",
      "correct=female   guess=male     name=Manon                         \n",
      "correct=female   guess=male     name=Margo                         \n",
      "correct=female   guess=male     name=Margret                       \n",
      "correct=female   guess=male     name=Marigold                      \n",
      "correct=female   guess=male     name=Maris                         \n",
      "correct=female   guess=male     name=Mary                          \n",
      "correct=female   guess=male     name=Meagan                        \n",
      "correct=female   guess=male     name=Mercedes                      \n",
      "correct=female   guess=male     name=Murial                        \n",
      "correct=female   guess=male     name=Noreen                        \n",
      "correct=female   guess=male     name=Pooh                          \n",
      "correct=female   guess=male     name=Reiko                         \n",
      "correct=female   guess=male     name=Revkah                        \n",
      "correct=female   guess=male     name=Rhiamon                       \n",
      "correct=female   guess=male     name=Rivkah                        \n",
      "correct=female   guess=male     name=Row                           \n",
      "correct=female   guess=male     name=Sheilah                       \n",
      "correct=female   guess=male     name=Shelley                       \n",
      "correct=female   guess=male     name=Shirl                         \n",
      "correct=female   guess=male     name=Sioux                         \n",
      "correct=female   guess=male     name=Tamar                         \n",
      "correct=female   guess=male     name=Umeko                         \n",
      "correct=female   guess=male     name=Veronique                     \n",
      "correct=female   guess=male     name=Wileen                        \n",
      "correct=male     guess=female   name=Adolphe                       \n",
      "correct=male     guess=female   name=Alix                          \n",
      "correct=male     guess=female   name=Aristotle                     \n",
      "correct=male     guess=female   name=August                        \n",
      "correct=male     guess=female   name=Barnabe                       \n",
      "correct=male     guess=female   name=Barrie                        \n",
      "correct=male     guess=female   name=Bartlett                      \n",
      "correct=male     guess=female   name=Clayborne                     \n",
      "correct=male     guess=female   name=Cobby                         \n",
      "correct=male     guess=female   name=Curtice                       \n",
      "correct=male     guess=female   name=Dannie                        \n",
      "correct=male     guess=female   name=Dante                         \n",
      "correct=male     guess=female   name=Daryle                        \n",
      "correct=male     guess=female   name=Donnie                        \n",
      "correct=male     guess=female   name=Dwane                         \n",
      "correct=male     guess=female   name=Earle                         \n",
      "correct=male     guess=female   name=Elliott                       \n",
      "correct=male     guess=female   name=Emmett                        \n",
      "correct=male     guess=female   name=Ferdie                        \n",
      "correct=male     guess=female   name=Freddy                        \n",
      "correct=male     guess=female   name=Gere                          \n",
      "correct=male     guess=female   name=Gil                           \n",
      "correct=male     guess=female   name=Hewie                         \n",
      "correct=male     guess=female   name=Hill                          \n",
      "correct=male     guess=female   name=Hodge                         \n",
      "correct=male     guess=female   name=Hy                            \n",
      "correct=male     guess=female   name=Jake                          \n",
      "correct=male     guess=female   name=Jeramie                       \n",
      "correct=male     guess=female   name=Jerri                         \n",
      "correct=male     guess=female   name=Jessee                        \n",
      "correct=male     guess=female   name=Judith                        \n",
      "correct=male     guess=female   name=Kenneth                       \n",
      "correct=male     guess=female   name=Kimball                       \n",
      "correct=male     guess=female   name=Lamont                        \n",
      "correct=male     guess=female   name=Laurie                        \n",
      "correct=male     guess=female   name=Lenny                         \n",
      "correct=male     guess=female   name=Lovell                        \n",
      "correct=male     guess=female   name=Lyle                          \n",
      "correct=male     guess=female   name=Martainn                      \n",
      "correct=male     guess=female   name=Maurise                       \n",
      "correct=male     guess=female   name=Mauritz                       \n",
      "correct=male     guess=female   name=Melvyn                        \n",
      "correct=male     guess=female   name=Merell                        \n",
      "correct=male     guess=female   name=Mordecai                      \n",
      "correct=male     guess=female   name=Morrie                        \n",
      "correct=male     guess=female   name=Nichole                       \n",
      "correct=male     guess=female   name=Niki                          \n",
      "correct=male     guess=female   name=Pascale                       \n",
      "correct=male     guess=female   name=Patsy                         \n",
      "correct=male     guess=female   name=Pete                          \n",
      "correct=male     guess=female   name=Prentice                      \n",
      "correct=male     guess=female   name=Ravi                          \n",
      "correct=male     guess=female   name=Roarke                        \n",
      "correct=male     guess=female   name=Roth                          \n",
      "correct=male     guess=female   name=Sascha                        \n",
      "correct=male     guess=female   name=Scotty                        \n",
      "correct=male     guess=female   name=Sergent                       \n",
      "correct=male     guess=female   name=Simone                        \n",
      "correct=male     guess=female   name=Slade                         \n",
      "correct=male     guess=female   name=Sly                           \n",
      "correct=male     guess=female   name=Spike                         \n",
      "correct=male     guess=female   name=Stearne                       \n",
      "correct=male     guess=female   name=Stinky                        \n",
      "correct=male     guess=female   name=Taite                         \n",
      "correct=male     guess=female   name=Tann                          \n",
      "correct=male     guess=female   name=Uri                           \n",
      "correct=male     guess=female   name=Vasili                        \n",
      "correct=male     guess=female   name=Wye                           \n",
      "correct=male     guess=female   name=Yule                          \n",
      "correct=male     guess=female   name=Zane                          \n",
      "correct=male     guess=female   name=Zollie                        \n"
     ]
    }
   ],
   "source": [
    "for (tag, guess, name) in sorted(errors): # doctest: +ELLIPSIS +NORMALIZE_WHITESPACE \n",
    "    print ('correct=%-8s guess=%-8s name=%-30s' % (tag, guess, name))"
   ]
  },
  {
   "cell_type": "code",
   "execution_count": null,
   "id": "7cfa901f-da15-4794-aca2-054333889d1a",
   "metadata": {},
   "outputs": [],
   "source": []
  },
  {
   "cell_type": "code",
   "execution_count": null,
   "id": "c7026934-58e5-4195-8622-02a25de29618",
   "metadata": {},
   "outputs": [],
   "source": []
  },
  {
   "cell_type": "code",
   "execution_count": null,
   "id": "494693e4-613e-4d26-ad22-581d651e16b2",
   "metadata": {},
   "outputs": [],
   "source": []
  }
 ],
 "metadata": {
  "kernelspec": {
   "display_name": "Python 3 (ipykernel)",
   "language": "python",
   "name": "python3"
  },
  "language_info": {
   "codemirror_mode": {
    "name": "ipython",
    "version": 3
   },
   "file_extension": ".py",
   "mimetype": "text/x-python",
   "name": "python",
   "nbconvert_exporter": "python",
   "pygments_lexer": "ipython3",
   "version": "3.8.12"
  }
 },
 "nbformat": 4,
 "nbformat_minor": 5
}
