{
 "cells": [
  {
   "cell_type": "markdown",
   "id": "925f984b",
   "metadata": {},
   "source": [
    "# DATA620: Project 3 - Gender Identification\n",
    "\n",
    "## Homework Team 3: David Simbandumwe, Eric Lehmphul and Lidiia Tronina"
   ]
  },
  {
   "cell_type": "markdown",
   "id": "e2419732",
   "metadata": {},
   "source": [
    "Your project should be submitted (as an Jupyter Notebook via GitHub). The team members should all submit a link to the same repository. If any of you don't submit the link to GitHub, I will assume you didn't collaborate.\n",
    "Using any of the three classifiers described in chapter 6 of Natural Language Processing with Python, and any features you can think of, build the best name gender classifier you can. Begin by splitting the Names Corpus into three subsets: 500 words for the test set, 500 words for the dev-test set, and the remaining 6900 words for the training set. Then, starting with the example name gender classifier, make incremental improvements. Use the dev-test set to check your progress. Once you are satisfied with your classifier, check its final performance on the test set. How does the performance on the test set compare to the performance on the dev-test set? Is this what you'd expect?"
   ]
  },
  {
   "cell_type": "markdown",
   "id": "7a9bb7cc",
   "metadata": {},
   "source": [
    "### Load Required Packages"
   ]
  },
  {
   "cell_type": "code",
   "execution_count": 47,
   "id": "b5300358",
   "metadata": {},
   "outputs": [],
   "source": [
    "import nltk\n",
    "from nltk.corpus import names\n",
    "from nltk.classify import apply_features\n",
    "from nltk.probability import FreqDist\n",
    "import pandas as pd\n",
    "import random\n",
    "import matplotlib.pyplot as plt\n",
    "from matplotlib_venn import venn2"
   ]
  },
  {
   "cell_type": "markdown",
   "id": "70e72991-3f54-4509-8fa2-c6d60f17a347",
   "metadata": {},
   "source": [
    "### Objects"
   ]
  },
  {
   "cell_type": "code",
   "execution_count": 49,
   "id": "cd9cf75c-98dd-4b99-8dbc-25e1f710a0cf",
   "metadata": {},
   "outputs": [],
   "source": [
    "class GenderAnalysis():\n",
    "    \n",
    "    def __init__(self):\n",
    "       \n",
    "        # Import and Lable Names\n",
    "        self._names_lst = ([(name, 'male') for name in names.words('male.txt')] +\n",
    "                [(name, 'female') for name in names.words('female.txt')])\n",
    "        random.shuffle(self._names_lst)\n",
    "\n",
    "        # Split Corpus\n",
    "        self._train_names = self._names_lst[1000:]\n",
    "        self._devtest_names = self._names_lst[500:1000]\n",
    "        self._test_names = self._names_lst[:500]\n",
    "    \n",
    "        # apply features training, devtest and test corpus\n",
    "        self._train_set = apply_features(self.gender_features, self._train_names)\n",
    "        self._devtest_set = apply_features(self.gender_features, self._devtest_names)\n",
    "        self._test_set = apply_features(self.gender_features, self._test_names)\n",
    "        \n",
    "        self._classifier = None\n",
    "        \n",
    "    \n",
    "    # generate features\n",
    "    def gender_features(self, name):\n",
    "        features = {}\n",
    "        features[\"suffix1\"] = name[-1].lower()\n",
    "        return features\n",
    "    \n",
    "    \n",
    "    # get features dataframe \n",
    "    def get_names_features(self):\n",
    "        # analyze data\n",
    "        df = pd.DataFrame(self._names_lst, columns=['name','gender'])\n",
    "        return df\n",
    "    \n",
    "    \n",
    "    # get names that can be both male and female\n",
    "    def ambiguous_features(self):\n",
    "        # analyze data\n",
    "        df = pd.DataFrame(self._names_lst, columns=['name','gender'])\n",
    "        df2 = df.groupby(['name'])['name'].count().reset_index(name='count').sort_values(\n",
    "            ['count'], ascending=False)\n",
    "        df2 = df2[df2['count']>1]\n",
    "        name_df = pd.merge(df,df2,how=\"inner\", on=[\"name\"])\n",
    "        return name_df\n",
    "    \n",
    "    \n",
    "    def train(self):\n",
    "        self._classifier = nltk.NaiveBayesClassifier.train(self._train_set)\n",
    "        \n",
    "        \n",
    "    def get_DevTest_accuracty(self):     \n",
    "        return nltk.classify.accuracy(self._classifier, self._devtest_set)\n",
    "        \n",
    "\n",
    "    def show_Inform_feature(self, n=20):\n",
    "        self._classifier.show_most_informative_features(n)\n",
    "        \n",
    "        \n",
    "    def get_Errors(self):\n",
    "        errors = []\n",
    "        for (name, tag) in self._devtest_names:\n",
    "            guess = self._classifier.classify(self.gender_features(name))\n",
    "            if guess != tag:\n",
    "                errors.append((tag, guess, name))                \n",
    "          \n",
    "        errors_df = pd.DataFrame(errors, columns=['tag', 'guess', 'name'])\n",
    "        return errors_df\n",
    "    \n",
    "    \n",
    "    def print_Errors(self):\n",
    "        for (tag, guess, name) in sorted(errors):\n",
    "            print ('correct=%-8s guess=%-8s name=%-30s' % (tag, guess, name))\n",
    "\n",
    "      \n",
    "    "
   ]
  },
  {
   "cell_type": "code",
   "execution_count": 50,
   "id": "94e79fea-47a8-48dd-afad-6efea0f0cd7a",
   "metadata": {},
   "outputs": [],
   "source": [
    "class GenderAnalysis2(GenderAnalysis):\n",
    "    \n",
    "    def gender_features(self, name):\n",
    "        features = {}\n",
    "        #features[\"firstletter\"] = name[0].lower()\n",
    "        features[\"suffix1\"] = name[-1].lower()\n",
    "        features[\"suffix2\"] = name[-2].lower()\n",
    "\n",
    "        return features\n",
    "\n",
    "    \n",
    "    \n",
    "class GenderAnalysis3(GenderAnalysis):\n",
    "    \n",
    "    def gender_features(self, name):\n",
    "        features = {}\n",
    "        features[\"firstletter\"] = name[0].lower()\n",
    "        features[\"suffix1\"] = name[-1].lower()\n",
    "        features[\"suffix2\"] = name[-2].lower()\n",
    "\n",
    "        return features"
   ]
  },
  {
   "cell_type": "markdown",
   "id": "21549b52-8eb1-4386-944f-3250cfbcee00",
   "metadata": {},
   "source": [
    "### Analysis of Names Corpus"
   ]
  },
  {
   "cell_type": "code",
   "execution_count": 51,
   "id": "6c215b66-3da3-4a9f-b476-cfd5d0a5756b",
   "metadata": {},
   "outputs": [
    {
     "data": {
      "image/png": "[encoded data removed]",
      "text/plain": [
       "<Figure size 432x288 with 1 Axes>"
      ]
     },
     "metadata": {},
     "output_type": "display_data"
    }
   ],
   "source": [
    "ga1 = GenderAnalysis()\n",
    "\n",
    "# Use the venn2 function\n",
    "df = ga1.get_names_features()\n",
    "s1 = set(df[df['gender'] == 'male']['name'])\n",
    "s2 = set(df[df['gender'] == 'female']['name'])\n",
    "venn2([s1, s2], set_labels = ('male', 'female'))\n",
    "plt.show()"
   ]
  },
  {
   "cell_type": "code",
   "execution_count": 52,
   "id": "31245592-322f-4272-aee5-007045260221",
   "metadata": {},
   "outputs": [
    {
     "name": "stdout",
     "output_type": "stream",
     "text": [
      "Size Train Set 6944\n",
      "Size Development Set 500\n",
      "Size Test Set 500\n"
     ]
    }
   ],
   "source": [
    "print('Size Train Set',len(ga1._train_names))\n",
    "print('Size Development Set',len(ga1._devtest_names))\n",
    "print('Size Test Set',len(ga1._test_names))\n",
    "\n"
   ]
  },
  {
   "cell_type": "markdown",
   "id": "0940c25b-f15d-48cc-bb4a-ee8cfab1412d",
   "metadata": {},
   "source": [
    "### Feature 1"
   ]
  },
  {
   "cell_type": "code",
   "execution_count": 53,
   "id": "967bb5e3-b76a-4990-bed4-56138fcb298b",
   "metadata": {},
   "outputs": [
    {
     "name": "stdout",
     "output_type": "stream",
     "text": [
      "0.758\n"
     ]
    },
    {
     "data": {
      "text/html": [
       "<div>\n",
       "<style scoped>\n",
       "    .dataframe tbody tr th:only-of-type {\n",
       "        vertical-align: middle;\n",
       "    }\n",
       "\n",
       "    .dataframe tbody tr th {\n",
       "        vertical-align: top;\n",
       "    }\n",
       "\n",
       "    .dataframe thead th {\n",
       "        text-align: right;\n",
       "    }\n",
       "</style>\n",
       "<table border=\"1\" class=\"dataframe\">\n",
       "  <thead>\n",
       "    <tr style=\"text-align: right;\">\n",
       "      <th></th>\n",
       "      <th>tag</th>\n",
       "      <th>guess</th>\n",
       "      <th>name</th>\n",
       "    </tr>\n",
       "  </thead>\n",
       "  <tbody>\n",
       "    <tr>\n",
       "      <th>0</th>\n",
       "      <td>female</td>\n",
       "      <td>male</td>\n",
       "      <td>Jill</td>\n",
       "    </tr>\n",
       "    <tr>\n",
       "      <th>1</th>\n",
       "      <td>male</td>\n",
       "      <td>female</td>\n",
       "      <td>Binky</td>\n",
       "    </tr>\n",
       "    <tr>\n",
       "      <th>2</th>\n",
       "      <td>male</td>\n",
       "      <td>female</td>\n",
       "      <td>Georgia</td>\n",
       "    </tr>\n",
       "    <tr>\n",
       "      <th>3</th>\n",
       "      <td>female</td>\n",
       "      <td>male</td>\n",
       "      <td>Enid</td>\n",
       "    </tr>\n",
       "    <tr>\n",
       "      <th>4</th>\n",
       "      <td>male</td>\n",
       "      <td>female</td>\n",
       "      <td>Roni</td>\n",
       "    </tr>\n",
       "    <tr>\n",
       "      <th>...</th>\n",
       "      <td>...</td>\n",
       "      <td>...</td>\n",
       "      <td>...</td>\n",
       "    </tr>\n",
       "    <tr>\n",
       "      <th>116</th>\n",
       "      <td>female</td>\n",
       "      <td>male</td>\n",
       "      <td>Jaquelin</td>\n",
       "    </tr>\n",
       "    <tr>\n",
       "      <th>117</th>\n",
       "      <td>female</td>\n",
       "      <td>male</td>\n",
       "      <td>Harriot</td>\n",
       "    </tr>\n",
       "    <tr>\n",
       "      <th>118</th>\n",
       "      <td>male</td>\n",
       "      <td>female</td>\n",
       "      <td>Rikki</td>\n",
       "    </tr>\n",
       "    <tr>\n",
       "      <th>119</th>\n",
       "      <td>female</td>\n",
       "      <td>male</td>\n",
       "      <td>Colleen</td>\n",
       "    </tr>\n",
       "    <tr>\n",
       "      <th>120</th>\n",
       "      <td>male</td>\n",
       "      <td>female</td>\n",
       "      <td>Nevile</td>\n",
       "    </tr>\n",
       "  </tbody>\n",
       "</table>\n",
       "<p>121 rows × 3 columns</p>\n",
       "</div>"
      ],
      "text/plain": [
       "        tag   guess      name\n",
       "0    female    male      Jill\n",
       "1      male  female     Binky\n",
       "2      male  female   Georgia\n",
       "3    female    male      Enid\n",
       "4      male  female      Roni\n",
       "..      ...     ...       ...\n",
       "116  female    male  Jaquelin\n",
       "117  female    male   Harriot\n",
       "118    male  female     Rikki\n",
       "119  female    male   Colleen\n",
       "120    male  female    Nevile\n",
       "\n",
       "[121 rows x 3 columns]"
      ]
     },
     "execution_count": 53,
     "metadata": {},
     "output_type": "execute_result"
    }
   ],
   "source": [
    "ga1.train()\n",
    "print(ga1.get_DevTest_accuracty())\n",
    "e_df = ga1.get_Errors()\n",
    "e_df"
   ]
  },
  {
   "cell_type": "code",
   "execution_count": 54,
   "id": "e9dc503e-51a4-41b7-aefb-bde1972af7d8",
   "metadata": {},
   "outputs": [
    {
     "name": "stdout",
     "output_type": "stream",
     "text": [
      "Most Informative Features\n",
      "                 suffix1 = 'a'            female : male   =     33.2 : 1.0\n",
      "                 suffix1 = 'k'              male : female =     30.3 : 1.0\n",
      "                 suffix1 = 'f'              male : female =     13.4 : 1.0\n",
      "                 suffix1 = 'v'              male : female =     13.2 : 1.0\n",
      "                 suffix1 = 'p'              male : female =     10.0 : 1.0\n",
      "                 suffix1 = 'd'              male : female =      9.7 : 1.0\n",
      "                 suffix1 = 'o'              male : female =      9.4 : 1.0\n",
      "                 suffix1 = 'm'              male : female =      8.2 : 1.0\n",
      "                 suffix1 = 'r'              male : female =      6.5 : 1.0\n",
      "                 suffix1 = 'w'              male : female =      4.9 : 1.0\n",
      "                 suffix1 = 'g'              male : female =      4.8 : 1.0\n",
      "                 suffix1 = 't'              male : female =      4.4 : 1.0\n",
      "                 suffix1 = 's'              male : female =      4.3 : 1.0\n",
      "                 suffix1 = 'i'            female : male   =      4.2 : 1.0\n",
      "                 suffix1 = 'b'              male : female =      4.2 : 1.0\n",
      "                 suffix1 = 'u'              male : female =      3.6 : 1.0\n",
      "                 suffix1 = 'z'              male : female =      3.3 : 1.0\n",
      "                 suffix1 = 'n'              male : female =      2.1 : 1.0\n",
      "                 suffix1 = 'l'              male : female =      1.8 : 1.0\n",
      "                 suffix1 = 'e'            female : male   =      1.7 : 1.0\n"
     ]
    }
   ],
   "source": [
    "ga1.show_Inform_feature()"
   ]
  },
  {
   "cell_type": "markdown",
   "id": "ffb32b10-c049-4e78-b772-6390024361fa",
   "metadata": {},
   "source": [
    "### Feature 2"
   ]
  },
  {
   "cell_type": "code",
   "execution_count": 55,
   "id": "2222b22c-c04e-49cd-99f9-0bfc5e5dd69a",
   "metadata": {},
   "outputs": [
    {
     "name": "stdout",
     "output_type": "stream",
     "text": [
      "0.78\n"
     ]
    },
    {
     "data": {
      "text/html": [
       "<div>\n",
       "<style scoped>\n",
       "    .dataframe tbody tr th:only-of-type {\n",
       "        vertical-align: middle;\n",
       "    }\n",
       "\n",
       "    .dataframe tbody tr th {\n",
       "        vertical-align: top;\n",
       "    }\n",
       "\n",
       "    .dataframe thead th {\n",
       "        text-align: right;\n",
       "    }\n",
       "</style>\n",
       "<table border=\"1\" class=\"dataframe\">\n",
       "  <thead>\n",
       "    <tr style=\"text-align: right;\">\n",
       "      <th></th>\n",
       "      <th>tag</th>\n",
       "      <th>guess</th>\n",
       "      <th>name</th>\n",
       "    </tr>\n",
       "  </thead>\n",
       "  <tbody>\n",
       "    <tr>\n",
       "      <th>0</th>\n",
       "      <td>male</td>\n",
       "      <td>female</td>\n",
       "      <td>Toddie</td>\n",
       "    </tr>\n",
       "    <tr>\n",
       "      <th>1</th>\n",
       "      <td>female</td>\n",
       "      <td>male</td>\n",
       "      <td>Annabel</td>\n",
       "    </tr>\n",
       "    <tr>\n",
       "      <th>2</th>\n",
       "      <td>male</td>\n",
       "      <td>female</td>\n",
       "      <td>Terri</td>\n",
       "    </tr>\n",
       "    <tr>\n",
       "      <th>3</th>\n",
       "      <td>female</td>\n",
       "      <td>male</td>\n",
       "      <td>Bird</td>\n",
       "    </tr>\n",
       "    <tr>\n",
       "      <th>4</th>\n",
       "      <td>female</td>\n",
       "      <td>male</td>\n",
       "      <td>Laural</td>\n",
       "    </tr>\n",
       "    <tr>\n",
       "      <th>...</th>\n",
       "      <td>...</td>\n",
       "      <td>...</td>\n",
       "      <td>...</td>\n",
       "    </tr>\n",
       "    <tr>\n",
       "      <th>105</th>\n",
       "      <td>female</td>\n",
       "      <td>male</td>\n",
       "      <td>Laureen</td>\n",
       "    </tr>\n",
       "    <tr>\n",
       "      <th>106</th>\n",
       "      <td>male</td>\n",
       "      <td>female</td>\n",
       "      <td>Mika</td>\n",
       "    </tr>\n",
       "    <tr>\n",
       "      <th>107</th>\n",
       "      <td>male</td>\n",
       "      <td>female</td>\n",
       "      <td>Wally</td>\n",
       "    </tr>\n",
       "    <tr>\n",
       "      <th>108</th>\n",
       "      <td>female</td>\n",
       "      <td>male</td>\n",
       "      <td>Ingeberg</td>\n",
       "    </tr>\n",
       "    <tr>\n",
       "      <th>109</th>\n",
       "      <td>female</td>\n",
       "      <td>male</td>\n",
       "      <td>Wallis</td>\n",
       "    </tr>\n",
       "  </tbody>\n",
       "</table>\n",
       "<p>110 rows × 3 columns</p>\n",
       "</div>"
      ],
      "text/plain": [
       "        tag   guess      name\n",
       "0      male  female    Toddie\n",
       "1    female    male   Annabel\n",
       "2      male  female     Terri\n",
       "3    female    male      Bird\n",
       "4    female    male    Laural\n",
       "..      ...     ...       ...\n",
       "105  female    male   Laureen\n",
       "106    male  female      Mika\n",
       "107    male  female     Wally\n",
       "108  female    male  Ingeberg\n",
       "109  female    male    Wallis\n",
       "\n",
       "[110 rows x 3 columns]"
      ]
     },
     "execution_count": 55,
     "metadata": {},
     "output_type": "execute_result"
    }
   ],
   "source": [
    "ga2 = GenderAnalysis2()\n",
    "ga2.train()\n",
    "print(ga2.get_DevTest_accuracty())\n",
    "e_df = ga2.get_Errors()\n",
    "e_df"
   ]
  },
  {
   "cell_type": "code",
   "execution_count": 56,
   "id": "80aef123-5586-42ab-ad8c-49ee3eba1491",
   "metadata": {},
   "outputs": [
    {
     "name": "stdout",
     "output_type": "stream",
     "text": [
      "Most Informative Features\n",
      "                 suffix1 = 'a'            female : male   =     33.0 : 1.0\n",
      "                 suffix1 = 'k'              male : female =     31.0 : 1.0\n",
      "                 suffix1 = 'f'              male : female =     26.8 : 1.0\n",
      "                 suffix1 = 'p'              male : female =     10.6 : 1.0\n",
      "                 suffix1 = 'd'              male : female =     10.2 : 1.0\n",
      "                 suffix1 = 'v'              male : female =      9.2 : 1.0\n",
      "                 suffix1 = 'o'              male : female =      8.2 : 1.0\n",
      "                 suffix2 = 'u'              male : female =      8.0 : 1.0\n",
      "                 suffix1 = 'm'              male : female =      7.3 : 1.0\n",
      "                 suffix2 = 'o'              male : female =      6.8 : 1.0\n",
      "                 suffix1 = 'r'              male : female =      6.6 : 1.0\n",
      "                 suffix1 = 'z'              male : female =      5.6 : 1.0\n",
      "                 suffix1 = 'w'              male : female =      4.8 : 1.0\n",
      "                 suffix1 = 'g'              male : female =      4.8 : 1.0\n",
      "                 suffix1 = 't'              male : female =      4.4 : 1.0\n",
      "                 suffix1 = 's'              male : female =      4.3 : 1.0\n",
      "                 suffix1 = 'j'              male : female =      4.0 : 1.0\n",
      "                 suffix1 = 'i'            female : male   =      3.8 : 1.0\n",
      "                 suffix2 = 'y'            female : male   =      3.4 : 1.0\n",
      "                 suffix2 = 'f'              male : female =      3.3 : 1.0\n"
     ]
    }
   ],
   "source": [
    "ga2.show_Inform_feature()"
   ]
  },
  {
   "cell_type": "markdown",
   "id": "9fabf34a-395d-4b09-b5cb-745c49e4fde2",
   "metadata": {},
   "source": [
    "### Feature 3"
   ]
  },
  {
   "cell_type": "code",
   "execution_count": 57,
   "id": "311f271d-f857-463b-83b9-fc615cbc83cc",
   "metadata": {},
   "outputs": [
    {
     "name": "stdout",
     "output_type": "stream",
     "text": [
      "0.754\n"
     ]
    },
    {
     "data": {
      "text/html": [
       "<div>\n",
       "<style scoped>\n",
       "    .dataframe tbody tr th:only-of-type {\n",
       "        vertical-align: middle;\n",
       "    }\n",
       "\n",
       "    .dataframe tbody tr th {\n",
       "        vertical-align: top;\n",
       "    }\n",
       "\n",
       "    .dataframe thead th {\n",
       "        text-align: right;\n",
       "    }\n",
       "</style>\n",
       "<table border=\"1\" class=\"dataframe\">\n",
       "  <thead>\n",
       "    <tr style=\"text-align: right;\">\n",
       "      <th></th>\n",
       "      <th>tag</th>\n",
       "      <th>guess</th>\n",
       "      <th>name</th>\n",
       "    </tr>\n",
       "  </thead>\n",
       "  <tbody>\n",
       "    <tr>\n",
       "      <th>0</th>\n",
       "      <td>female</td>\n",
       "      <td>male</td>\n",
       "      <td>Evaleen</td>\n",
       "    </tr>\n",
       "    <tr>\n",
       "      <th>1</th>\n",
       "      <td>female</td>\n",
       "      <td>male</td>\n",
       "      <td>Nicol</td>\n",
       "    </tr>\n",
       "    <tr>\n",
       "      <th>2</th>\n",
       "      <td>male</td>\n",
       "      <td>female</td>\n",
       "      <td>Benny</td>\n",
       "    </tr>\n",
       "    <tr>\n",
       "      <th>3</th>\n",
       "      <td>male</td>\n",
       "      <td>female</td>\n",
       "      <td>Sunny</td>\n",
       "    </tr>\n",
       "    <tr>\n",
       "      <th>4</th>\n",
       "      <td>female</td>\n",
       "      <td>male</td>\n",
       "      <td>Chrysler</td>\n",
       "    </tr>\n",
       "    <tr>\n",
       "      <th>...</th>\n",
       "      <td>...</td>\n",
       "      <td>...</td>\n",
       "      <td>...</td>\n",
       "    </tr>\n",
       "    <tr>\n",
       "      <th>118</th>\n",
       "      <td>female</td>\n",
       "      <td>male</td>\n",
       "      <td>Mabel</td>\n",
       "    </tr>\n",
       "    <tr>\n",
       "      <th>119</th>\n",
       "      <td>female</td>\n",
       "      <td>male</td>\n",
       "      <td>Joleen</td>\n",
       "    </tr>\n",
       "    <tr>\n",
       "      <th>120</th>\n",
       "      <td>female</td>\n",
       "      <td>male</td>\n",
       "      <td>Kessiah</td>\n",
       "    </tr>\n",
       "    <tr>\n",
       "      <th>121</th>\n",
       "      <td>male</td>\n",
       "      <td>female</td>\n",
       "      <td>Deryl</td>\n",
       "    </tr>\n",
       "    <tr>\n",
       "      <th>122</th>\n",
       "      <td>female</td>\n",
       "      <td>male</td>\n",
       "      <td>Shel</td>\n",
       "    </tr>\n",
       "  </tbody>\n",
       "</table>\n",
       "<p>123 rows × 3 columns</p>\n",
       "</div>"
      ],
      "text/plain": [
       "        tag   guess      name\n",
       "0    female    male   Evaleen\n",
       "1    female    male     Nicol\n",
       "2      male  female     Benny\n",
       "3      male  female     Sunny\n",
       "4    female    male  Chrysler\n",
       "..      ...     ...       ...\n",
       "118  female    male     Mabel\n",
       "119  female    male    Joleen\n",
       "120  female    male   Kessiah\n",
       "121    male  female     Deryl\n",
       "122  female    male      Shel\n",
       "\n",
       "[123 rows x 3 columns]"
      ]
     },
     "execution_count": 57,
     "metadata": {},
     "output_type": "execute_result"
    }
   ],
   "source": [
    "ga3 = GenderAnalysis3()\n",
    "ga3.train()\n",
    "print(ga3.get_DevTest_accuracty())\n",
    "e_df = ga3.get_Errors()\n",
    "e_df"
   ]
  },
  {
   "cell_type": "code",
   "execution_count": 58,
   "id": "678085bf-cb22-4b16-bd30-3f92b20c3bcb",
   "metadata": {},
   "outputs": [
    {
     "name": "stdout",
     "output_type": "stream",
     "text": [
      "Most Informative Features\n",
      "                 suffix1 = 'a'            female : male   =     33.3 : 1.0\n",
      "                 suffix1 = 'k'              male : female =     31.4 : 1.0\n",
      "                 suffix1 = 'f'              male : female =     17.4 : 1.0\n",
      "                 suffix1 = 'p'              male : female =     10.6 : 1.0\n",
      "                 suffix1 = 'd'              male : female =     10.4 : 1.0\n",
      "                 suffix1 = 'm'              male : female =      9.3 : 1.0\n",
      "                 suffix1 = 'v'              male : female =      9.2 : 1.0\n",
      "                 suffix2 = 'u'              male : female =      7.9 : 1.0\n",
      "                 suffix2 = 'o'              male : female =      7.8 : 1.0\n",
      "                 suffix1 = 'o'              male : female =      7.7 : 1.0\n",
      "                 suffix1 = 'r'              male : female =      7.2 : 1.0\n",
      "                 suffix1 = 'z'              male : female =      7.2 : 1.0\n",
      "                 suffix1 = 'w'              male : female =      5.5 : 1.0\n",
      "                 suffix1 = 'b'              male : female =      5.1 : 1.0\n",
      "                 suffix1 = 'g'              male : female =      4.8 : 1.0\n",
      "             firstletter = 'w'              male : female =      4.5 : 1.0\n",
      "                 suffix1 = 't'              male : female =      4.1 : 1.0\n",
      "                 suffix1 = 's'              male : female =      4.0 : 1.0\n",
      "                 suffix1 = 'i'            female : male   =      4.0 : 1.0\n",
      "                 suffix1 = 'u'              male : female =      4.0 : 1.0\n"
     ]
    }
   ],
   "source": [
    "ga3.show_Inform_feature()"
   ]
  }
 ],
 "metadata": {
  "kernelspec": {
   "display_name": "Python 3 (ipykernel)",
   "language": "python",
   "name": "python3"
  },
  "language_info": {
   "codemirror_mode": {
    "name": "ipython",
    "version": 3
   },
   "file_extension": ".py",
   "mimetype": "text/x-python",
   "name": "python",
   "nbconvert_exporter": "python",
   "pygments_lexer": "ipython3",
   "version": "3.8.12"
  }
 },
 "nbformat": 4,
 "nbformat_minor": 5
}
