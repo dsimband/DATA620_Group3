{
 "cells": [
  {
   "cell_type": "markdown",
   "id": "925f984b",
   "metadata": {},
   "source": [
    "# DATA620: Project 3 - Gender Identification\n",
    "\n",
    "## Homework Team 3: David Simbandumwe, Eric Lehmphul and Lidiia Tronina"
   ]
  },
  {
   "cell_type": "markdown",
   "id": "e2419732",
   "metadata": {},
   "source": [
    "Your project should be submitted (as an Jupyter Notebook via GitHub). The team members should all submit a link to the same repository. If any of you don't submit the link to GitHub, I will assume you didn't collaborate.\n",
    "Using any of the three classifiers described in chapter 6 of Natural Language Processing with Python, and any features you can think of, build the best name gender classifier you can. Begin by splitting the Names Corpus into three subsets: 500 words for the test set, 500 words for the dev-test set, and the remaining 6900 words for the training set. Then, starting with the example name gender classifier, make incremental improvements. Use the dev-test set to check your progress. Once you are satisfied with your classifier, check its final performance on the test set. How does the performance on the test set compare to the performance on the dev-test set? Is this what you'd expect?"
   ]
  },
  {
   "cell_type": "markdown",
   "id": "7a9bb7cc",
   "metadata": {},
   "source": [
    "### Load Required Packages"
   ]
  },
  {
   "cell_type": "code",
   "execution_count": 1,
   "id": "b5300358",
   "metadata": {},
   "outputs": [],
   "source": [
    "import nltk\n",
    "from nltk.corpus import names\n",
    "from nltk.classify import apply_features\n",
    "from nltk.probability import FreqDist\n",
    "import pandas as pd\n",
    "import random\n",
    "import matplotlib.pyplot as plt\n",
    "from matplotlib_venn import venn2"
   ]
  },
  {
   "cell_type": "markdown",
   "id": "7109e486-8624-4158-99d8-15e6397b73f4",
   "metadata": {},
   "source": [
    "### Import and Lable Names"
   ]
  },
  {
   "cell_type": "code",
   "execution_count": 2,
   "id": "a92dd13e-0aa1-44d6-82c5-f86e63e6f825",
   "metadata": {},
   "outputs": [],
   "source": [
    "names = ([(name, 'male') for name in names.words('male.txt')] +\n",
    "        [(name, 'female') for name in names.words('female.txt')])\n",
    "\n",
    "random.seed(100)\n",
    "random.shuffle(names)"
   ]
  },
  {
   "cell_type": "markdown",
   "id": "8c23f155",
   "metadata": {},
   "source": [
    "## Data Exploration"
   ]
  },
  {
   "cell_type": "code",
   "execution_count": 3,
   "id": "aa402c89-038d-475b-9964-6ad8950f9557",
   "metadata": {
    "scrolled": true
   },
   "outputs": [
    {
     "data": {
      "text/html": [
       "<div>\n",
       "<style scoped>\n",
       "    .dataframe tbody tr th:only-of-type {\n",
       "        vertical-align: middle;\n",
       "    }\n",
       "\n",
       "    .dataframe tbody tr th {\n",
       "        vertical-align: top;\n",
       "    }\n",
       "\n",
       "    .dataframe thead th {\n",
       "        text-align: right;\n",
       "    }\n",
       "</style>\n",
       "<table border=\"1\" class=\"dataframe\">\n",
       "  <thead>\n",
       "    <tr style=\"text-align: right;\">\n",
       "      <th></th>\n",
       "      <th>name</th>\n",
       "      <th>gender</th>\n",
       "      <th>count</th>\n",
       "    </tr>\n",
       "  </thead>\n",
       "  <tbody>\n",
       "    <tr>\n",
       "      <th>0</th>\n",
       "      <td>Danny</td>\n",
       "      <td>male</td>\n",
       "      <td>2</td>\n",
       "    </tr>\n",
       "    <tr>\n",
       "      <th>1</th>\n",
       "      <td>Danny</td>\n",
       "      <td>female</td>\n",
       "      <td>2</td>\n",
       "    </tr>\n",
       "    <tr>\n",
       "      <th>2</th>\n",
       "      <td>Blair</td>\n",
       "      <td>female</td>\n",
       "      <td>2</td>\n",
       "    </tr>\n",
       "    <tr>\n",
       "      <th>3</th>\n",
       "      <td>Blair</td>\n",
       "      <td>male</td>\n",
       "      <td>2</td>\n",
       "    </tr>\n",
       "    <tr>\n",
       "      <th>4</th>\n",
       "      <td>Ali</td>\n",
       "      <td>male</td>\n",
       "      <td>2</td>\n",
       "    </tr>\n",
       "    <tr>\n",
       "      <th>...</th>\n",
       "      <td>...</td>\n",
       "      <td>...</td>\n",
       "      <td>...</td>\n",
       "    </tr>\n",
       "    <tr>\n",
       "      <th>725</th>\n",
       "      <td>Holly</td>\n",
       "      <td>male</td>\n",
       "      <td>2</td>\n",
       "    </tr>\n",
       "    <tr>\n",
       "      <th>726</th>\n",
       "      <td>Lyn</td>\n",
       "      <td>female</td>\n",
       "      <td>2</td>\n",
       "    </tr>\n",
       "    <tr>\n",
       "      <th>727</th>\n",
       "      <td>Lyn</td>\n",
       "      <td>male</td>\n",
       "      <td>2</td>\n",
       "    </tr>\n",
       "    <tr>\n",
       "      <th>728</th>\n",
       "      <td>Hilary</td>\n",
       "      <td>male</td>\n",
       "      <td>2</td>\n",
       "    </tr>\n",
       "    <tr>\n",
       "      <th>729</th>\n",
       "      <td>Hilary</td>\n",
       "      <td>female</td>\n",
       "      <td>2</td>\n",
       "    </tr>\n",
       "  </tbody>\n",
       "</table>\n",
       "<p>730 rows × 3 columns</p>\n",
       "</div>"
      ],
      "text/plain": [
       "       name  gender  count\n",
       "0     Danny    male      2\n",
       "1     Danny  female      2\n",
       "2     Blair  female      2\n",
       "3     Blair    male      2\n",
       "4       Ali    male      2\n",
       "..      ...     ...    ...\n",
       "725   Holly    male      2\n",
       "726     Lyn  female      2\n",
       "727     Lyn    male      2\n",
       "728  Hilary    male      2\n",
       "729  Hilary  female      2\n",
       "\n",
       "[730 rows x 3 columns]"
      ]
     },
     "execution_count": 3,
     "metadata": {},
     "output_type": "execute_result"
    }
   ],
   "source": [
    "# analyze data\n",
    "df = pd.DataFrame(names, columns=['name','gender'])\n",
    "df2 = df.groupby(['name'])['name'].count().reset_index(name='count').sort_values(['count'], ascending=False)\n",
    "df2 = df2[df2['count']>1]\n",
    "name_df = pd.merge(df,df2,how=\"inner\", on=[\"name\"])\n",
    "name_df"
   ]
  },
  {
   "cell_type": "code",
   "execution_count": 4,
   "id": "d81d657e-6de5-443f-899d-69e00554d9f5",
   "metadata": {},
   "outputs": [
    {
     "data": {
      "image/png": "[encoded data removed]",
      "text/plain": [
       "<Figure size 432x288 with 1 Axes>"
      ]
     },
     "metadata": {},
     "output_type": "display_data"
    }
   ],
   "source": [
    "# Use the venn2 function\n",
    "s1 = set(df[df['gender'] == 'male']['name'])\n",
    "s2 = set(df[df['gender'] == 'female']['name'])\n",
    "venn2([s1, s2], set_labels = ('male', 'female'))\n",
    "plt.show()"
   ]
  },
  {
   "cell_type": "code",
   "execution_count": 5,
   "id": "60f57f89",
   "metadata": {},
   "outputs": [
    {
     "name": "stderr",
     "output_type": "stream",
     "text": [
      "C:\\Users\\ericl\\anaconda3\\envs\\DATA620\\lib\\site-packages\\ipykernel_launcher.py:7: FutureWarning: The default value of regex will change from True to False in a future version.\n",
      "  import sys\n",
      "C:\\Users\\ericl\\anaconda3\\envs\\DATA620\\lib\\site-packages\\ipykernel_launcher.py:11: FutureWarning: The default value of regex will change from True to False in a future version.\n",
      "  # This is added back by InteractiveShellApp.init_path()\n"
     ]
    },
    {
     "data": {
      "text/html": [
       "<div>\n",
       "<style scoped>\n",
       "    .dataframe tbody tr th:only-of-type {\n",
       "        vertical-align: middle;\n",
       "    }\n",
       "\n",
       "    .dataframe tbody tr th {\n",
       "        vertical-align: top;\n",
       "    }\n",
       "\n",
       "    .dataframe thead th {\n",
       "        text-align: right;\n",
       "    }\n",
       "</style>\n",
       "<table border=\"1\" class=\"dataframe\">\n",
       "  <thead>\n",
       "    <tr style=\"text-align: right;\">\n",
       "      <th></th>\n",
       "      <th>name</th>\n",
       "      <th>gender</th>\n",
       "      <th>length</th>\n",
       "      <th>last_letter</th>\n",
       "      <th>first_letter</th>\n",
       "      <th>vowels</th>\n",
       "      <th>vowel_last_letter</th>\n",
       "      <th>vowel_first_letter</th>\n",
       "      <th>consonants</th>\n",
       "      <th>consonant_last_letter</th>\n",
       "      <th>consonant_first_letter</th>\n",
       "      <th>num_vowels</th>\n",
       "      <th>num_consonants</th>\n",
       "    </tr>\n",
       "  </thead>\n",
       "  <tbody>\n",
       "    <tr>\n",
       "      <th>0</th>\n",
       "      <td>Pembroke</td>\n",
       "      <td>male</td>\n",
       "      <td>8</td>\n",
       "      <td>e</td>\n",
       "      <td>P</td>\n",
       "      <td>eoe</td>\n",
       "      <td>True</td>\n",
       "      <td>False</td>\n",
       "      <td>Pmbrk</td>\n",
       "      <td>False</td>\n",
       "      <td>True</td>\n",
       "      <td>3</td>\n",
       "      <td>5</td>\n",
       "    </tr>\n",
       "    <tr>\n",
       "      <th>1</th>\n",
       "      <td>Bryant</td>\n",
       "      <td>male</td>\n",
       "      <td>6</td>\n",
       "      <td>t</td>\n",
       "      <td>B</td>\n",
       "      <td>a</td>\n",
       "      <td>False</td>\n",
       "      <td>False</td>\n",
       "      <td>Brynt</td>\n",
       "      <td>True</td>\n",
       "      <td>True</td>\n",
       "      <td>1</td>\n",
       "      <td>5</td>\n",
       "    </tr>\n",
       "    <tr>\n",
       "      <th>2</th>\n",
       "      <td>Pier</td>\n",
       "      <td>female</td>\n",
       "      <td>4</td>\n",
       "      <td>r</td>\n",
       "      <td>P</td>\n",
       "      <td>ie</td>\n",
       "      <td>False</td>\n",
       "      <td>False</td>\n",
       "      <td>Pr</td>\n",
       "      <td>True</td>\n",
       "      <td>True</td>\n",
       "      <td>2</td>\n",
       "      <td>2</td>\n",
       "    </tr>\n",
       "    <tr>\n",
       "      <th>3</th>\n",
       "      <td>Florice</td>\n",
       "      <td>female</td>\n",
       "      <td>7</td>\n",
       "      <td>e</td>\n",
       "      <td>F</td>\n",
       "      <td>oie</td>\n",
       "      <td>True</td>\n",
       "      <td>False</td>\n",
       "      <td>Flrc</td>\n",
       "      <td>False</td>\n",
       "      <td>True</td>\n",
       "      <td>3</td>\n",
       "      <td>4</td>\n",
       "    </tr>\n",
       "    <tr>\n",
       "      <th>4</th>\n",
       "      <td>Clint</td>\n",
       "      <td>male</td>\n",
       "      <td>5</td>\n",
       "      <td>t</td>\n",
       "      <td>C</td>\n",
       "      <td>i</td>\n",
       "      <td>False</td>\n",
       "      <td>False</td>\n",
       "      <td>Clnt</td>\n",
       "      <td>True</td>\n",
       "      <td>True</td>\n",
       "      <td>1</td>\n",
       "      <td>4</td>\n",
       "    </tr>\n",
       "  </tbody>\n",
       "</table>\n",
       "</div>"
      ],
      "text/plain": [
       "       name  gender  length last_letter first_letter vowels  \\\n",
       "0  Pembroke    male       8           e            P    eoe   \n",
       "1    Bryant    male       6           t            B      a   \n",
       "2      Pier  female       4           r            P     ie   \n",
       "3   Florice  female       7           e            F    oie   \n",
       "4     Clint    male       5           t            C      i   \n",
       "\n",
       "   vowel_last_letter  vowel_first_letter consonants  consonant_last_letter  \\\n",
       "0               True               False      Pmbrk                  False   \n",
       "1              False               False      Brynt                   True   \n",
       "2              False               False         Pr                   True   \n",
       "3               True               False       Flrc                  False   \n",
       "4              False               False       Clnt                   True   \n",
       "\n",
       "   consonant_first_letter  num_vowels  num_consonants  \n",
       "0                    True           3               5  \n",
       "1                    True           1               5  \n",
       "2                    True           2               2  \n",
       "3                    True           3               4  \n",
       "4                    True           1               4  "
      ]
     },
     "execution_count": 5,
     "metadata": {},
     "output_type": "execute_result"
    }
   ],
   "source": [
    "# explore data further\n",
    "\n",
    "df['length'] = df['name'].str.len()\n",
    "df['last_letter'] = df['name'].str[-1]\n",
    "df['first_letter'] = df['name'].str[0]\n",
    "\n",
    "df['vowels'] = df['name'].str.replace(r'[^aeiou]', '')\n",
    "df['vowel_last_letter'] = df['last_letter'].isin([*'aeiouy'])\n",
    "df['vowel_first_letter'] = df['first_letter'].isin([*'AEIOUY'])\n",
    "\n",
    "df['consonants'] = df['name'].str.replace(r'[aeiou]', '')\n",
    "df['consonant_last_letter'] = df['last_letter'].isin([*'qwrtplkjhgfdszxcvbnm'])\n",
    "df['consonant_first_letter'] = df['first_letter'].isin([*'QWRTPLKJHGFDSZXCVBNM'])\n",
    "\n",
    "df['num_vowels'] = df['vowels'].str.len()\n",
    "df['num_consonants'] = df['consonants'].str.len()\n",
    "\n",
    "df.head()"
   ]
  },
  {
   "cell_type": "code",
   "execution_count": 6,
   "id": "62d8f60b",
   "metadata": {},
   "outputs": [
    {
     "data": {
      "text/html": [
       "<div>\n",
       "<style scoped>\n",
       "    .dataframe tbody tr th:only-of-type {\n",
       "        vertical-align: middle;\n",
       "    }\n",
       "\n",
       "    .dataframe tbody tr th {\n",
       "        vertical-align: top;\n",
       "    }\n",
       "\n",
       "    .dataframe thead th {\n",
       "        text-align: right;\n",
       "    }\n",
       "</style>\n",
       "<table border=\"1\" class=\"dataframe\">\n",
       "  <thead>\n",
       "    <tr style=\"text-align: right;\">\n",
       "      <th></th>\n",
       "      <th>length</th>\n",
       "      <th>vowel_last_letter</th>\n",
       "      <th>vowel_first_letter</th>\n",
       "      <th>consonant_last_letter</th>\n",
       "      <th>consonant_first_letter</th>\n",
       "      <th>num_vowels</th>\n",
       "      <th>num_consonants</th>\n",
       "    </tr>\n",
       "    <tr>\n",
       "      <th>gender</th>\n",
       "      <th></th>\n",
       "      <th></th>\n",
       "      <th></th>\n",
       "      <th></th>\n",
       "      <th></th>\n",
       "      <th></th>\n",
       "      <th></th>\n",
       "    </tr>\n",
       "  </thead>\n",
       "  <tbody>\n",
       "    <tr>\n",
       "      <th>female</th>\n",
       "      <td>6.113777</td>\n",
       "      <td>0.804239</td>\n",
       "      <td>0.174965</td>\n",
       "      <td>0.195561</td>\n",
       "      <td>0.825035</td>\n",
       "      <td>2.475705</td>\n",
       "      <td>3.638072</td>\n",
       "    </tr>\n",
       "    <tr>\n",
       "      <th>male</th>\n",
       "      <td>5.895345</td>\n",
       "      <td>0.358818</td>\n",
       "      <td>0.158682</td>\n",
       "      <td>0.641182</td>\n",
       "      <td>0.841318</td>\n",
       "      <td>2.039076</td>\n",
       "      <td>3.856269</td>\n",
       "    </tr>\n",
       "  </tbody>\n",
       "</table>\n",
       "</div>"
      ],
      "text/plain": [
       "          length  vowel_last_letter  vowel_first_letter  \\\n",
       "gender                                                    \n",
       "female  6.113777           0.804239            0.174965   \n",
       "male    5.895345           0.358818            0.158682   \n",
       "\n",
       "        consonant_last_letter  consonant_first_letter  num_vowels  \\\n",
       "gender                                                              \n",
       "female               0.195561                0.825035    2.475705   \n",
       "male                 0.641182                0.841318    2.039076   \n",
       "\n",
       "        num_consonants  \n",
       "gender                  \n",
       "female        3.638072  \n",
       "male          3.856269  "
      ]
     },
     "execution_count": 6,
     "metadata": {},
     "output_type": "execute_result"
    }
   ],
   "source": [
    "df.groupby('gender').mean()"
   ]
  },
  {
   "cell_type": "markdown",
   "id": "1740f744",
   "metadata": {},
   "source": [
    "Notable differences between groups in the corpus:\n",
    "* Female names tend to be longer\n",
    "* Female names are much more likely to contain a vowel as the last letter\n",
    "* Female names are slightly more likely to have a vowel as a first letter\n",
    "* Males are much more likely to have a consonant for a last letter\n",
    "* Both groups are almost equally likely to have a consonant as a first letter\n",
    "* Females have more vowels on average\n",
    "* Males have more consonants on average\n",
    "\n",
    "This information provides us with a strong baseline for features to use in our gender name classifier."
   ]
  },
  {
   "cell_type": "markdown",
   "id": "339d5a6d-2789-403d-9f80-ebd439d5f40b",
   "metadata": {},
   "source": [
    "### Split Corpus"
   ]
  },
  {
   "cell_type": "code",
   "execution_count": 7,
   "id": "bd33442e-b247-424e-9c9d-9892e4087256",
   "metadata": {},
   "outputs": [],
   "source": [
    "train_names = names[1000:]\n",
    "devtest_names = names[500:1000]\n",
    "test_names = names[:500]"
   ]
  },
  {
   "cell_type": "code",
   "execution_count": 8,
   "id": "df974793-2f09-4cfe-8746-22bd44b0e7ed",
   "metadata": {},
   "outputs": [
    {
     "name": "stdout",
     "output_type": "stream",
     "text": [
      "Size Train Set 6944\n",
      "Size Development Set 500\n",
      "Size Test Set 500\n"
     ]
    }
   ],
   "source": [
    "print('Size Train Set',len(train_names))\n",
    "print('Size Development Set',len(devtest_names))\n",
    "print('Size Test Set',len(test_names))"
   ]
  },
  {
   "cell_type": "markdown",
   "id": "40ee7e2c",
   "metadata": {},
   "source": [
    "## Model Creation\n",
    "\n",
    "We will create multiple models to see how well we can predict a person's gender based on their name."
   ]
  },
  {
   "cell_type": "markdown",
   "id": "fcb7ca15",
   "metadata": {},
   "source": [
    "### Model 1\n",
    "\n",
    "This model will use the following features:\n",
    "* name length\n",
    "* first letter\n",
    "* last letter\n",
    "* first letter is a vowel\n",
    "* last letter is a vowel\n",
    "* number of vowels\n",
    "* number of consonants"
   ]
  },
  {
   "cell_type": "code",
   "execution_count": 9,
   "id": "891f614e",
   "metadata": {},
   "outputs": [
    {
     "data": {
      "text/plain": [
       "{'length': 5,\n",
       " 'firstLetter': 'a',\n",
       " 'lastLetter': 'e',\n",
       " 'firstVowel': True,\n",
       " 'lastVowel': True,\n",
       " 'numVowels': 3}"
      ]
     },
     "execution_count": 9,
     "metadata": {},
     "output_type": "execute_result"
    }
   ],
   "source": [
    "def gender_features1(name):\n",
    "    features = {}\n",
    "    features[\"length\"] = len(name)\n",
    "    features[\"firstLetter\"] = name[0].lower()\n",
    "    features[\"lastLetter\"] = name[-1].lower()\n",
    "    features[\"firstVowel\"] = features['firstLetter'] in 'aeiouy'\n",
    "    features[\"lastVowel\"] = features['lastLetter'] in 'aeiouy'\n",
    "    \n",
    "    count = 0\n",
    "    vowel = set(\"aeiouAEIOU\")\n",
    "    \n",
    "    for i in name:\n",
    "        if i in vowel:\n",
    "            count = count + 1\n",
    "    \n",
    "    features[\"numVowels\"] = count\n",
    "\n",
    "    return features\n",
    "\n",
    "gender_features1(\"Annie\")"
   ]
  },
  {
   "cell_type": "code",
   "execution_count": 10,
   "id": "c9aa314a",
   "metadata": {},
   "outputs": [],
   "source": [
    "train_set = apply_features(gender_features1, train_names)\n",
    "devtest_set = apply_features(gender_features1, devtest_names)\n",
    "test_set = apply_features(gender_features1, test_names)"
   ]
  },
  {
   "cell_type": "markdown",
   "id": "67f2471e-8890-4791-baf6-730b5266a4f6",
   "metadata": {},
   "source": [
    "#### Train Classifier"
   ]
  },
  {
   "cell_type": "code",
   "execution_count": 11,
   "id": "96a3d9d3-f1c7-4528-aa42-44a2a4df2eca",
   "metadata": {},
   "outputs": [],
   "source": [
    "classifier = nltk.NaiveBayesClassifier.train(train_set) "
   ]
  },
  {
   "cell_type": "markdown",
   "id": "c9b10d25-d2c6-4001-a749-e44a20ae08bb",
   "metadata": {},
   "source": [
    "#### Analyze Errors "
   ]
  },
  {
   "cell_type": "markdown",
   "id": "c67c1ef7",
   "metadata": {},
   "source": [
    "We managed to correctly assign 76.4% of people to their gender using only their name and features derived from their name. \n",
    "\n",
    "Looking at the error log our model has not accounted for common ending to names (ex. Ailyn, Ashleigh, Pascale, Steve etc.). To fix this weakness in predictive power, we decided to add suffixes to our features in Model 2."
   ]
  },
  {
   "cell_type": "code",
   "execution_count": 12,
   "id": "22077fed-ed15-4741-bf65-25af170a0cfb",
   "metadata": {},
   "outputs": [
    {
     "data": {
      "text/plain": [
       "0.764"
      ]
     },
     "execution_count": 12,
     "metadata": {},
     "output_type": "execute_result"
    }
   ],
   "source": [
    "nltk.classify.accuracy(classifier, devtest_set)"
   ]
  },
  {
   "cell_type": "code",
   "execution_count": 13,
   "id": "475df4cd-cfb6-4be9-b285-f28d1d0aba5e",
   "metadata": {},
   "outputs": [],
   "source": [
    "errors = []\n",
    "for (name, tag) in devtest_names:\n",
    "    guess = classifier.classify(gender_features1(name))\n",
    "    if guess != tag:\n",
    "        errors.append( (tag, guess, name) ) "
   ]
  },
  {
   "cell_type": "code",
   "execution_count": 14,
   "id": "9e56a151-f136-4634-86ff-82492c3658aa",
   "metadata": {},
   "outputs": [
    {
     "name": "stdout",
     "output_type": "stream",
     "text": [
      "correct=male     guess=female   name=Bentley                       \n",
      "correct=male     guess=female   name=Slade                         \n",
      "correct=female   guess=male     name=Maridel                       \n",
      "correct=male     guess=female   name=Toddie                        \n",
      "correct=male     guess=female   name=Morty                         \n",
      "correct=female   guess=male     name=Sibel                         \n",
      "correct=male     guess=female   name=Towny                         \n",
      "correct=male     guess=female   name=Cy                            \n",
      "correct=female   guess=male     name=Elyn                          \n"
     ]
    }
   ],
   "source": [
    "# subset of errors (15 random errors to look to see if there is a pattern)\n",
    "for (tag, guess, name) in errors[:14]: # doctest: +ELLIPSIS +NORMALIZE_WHITESPACE \n",
    "    print ('correct=%-8s guess=%-8s name=%-30s' % (tag, guess, name))"
   ]
  },
  {
   "cell_type": "markdown",
   "id": "86000d1c",
   "metadata": {},
   "source": [
    "### Model 2"
   ]
  },
  {
   "cell_type": "code",
   "execution_count": 15,
   "id": "c7026934-58e5-4195-8622-02a25de29618",
   "metadata": {},
   "outputs": [
    {
     "data": {
      "text/plain": [
       "{'length': 6,\n",
       " 'firstLetter': 'a',\n",
       " 'lastLetter': 'n',\n",
       " 'firstVowel': True,\n",
       " 'lastVowel': False,\n",
       " 'numVowels': 3,\n",
       " 'suffix2': 'en',\n",
       " 'suffix3': 'een'}"
      ]
     },
     "execution_count": 15,
     "metadata": {},
     "output_type": "execute_result"
    }
   ],
   "source": [
    "def gender_features2(name):\n",
    "    features = {}\n",
    "    features[\"length\"] = len(name)\n",
    "    features[\"firstLetter\"] = name[0].lower()\n",
    "    features[\"lastLetter\"] = name[-1].lower()\n",
    "    features[\"firstVowel\"] = features['firstLetter'] in 'aeiouy'\n",
    "    features[\"lastVowel\"] = features['lastLetter'] in 'aeiouy'\n",
    "    \n",
    "    # Gets num of vowels\n",
    "    count = 0\n",
    "    vowel = set(\"aeiouAEIOU\")\n",
    "    \n",
    "    for i in name:\n",
    "        if i in vowel:\n",
    "            count = count + 1\n",
    "    \n",
    "    features[\"numVowels\"] = count\n",
    "    features[\"suffix2\"] = name[-2:].lower()\n",
    "    features[\"suffix3\"] = name[-3:].lower()\n",
    "\n",
    "    return features\n",
    "\n",
    "gender_features2(\"Arleen\")"
   ]
  },
  {
   "cell_type": "code",
   "execution_count": null,
   "id": "494693e4-613e-4d26-ad22-581d651e16b2",
   "metadata": {},
   "outputs": [],
   "source": []
  }
 ],
 "metadata": {
  "kernelspec": {
   "display_name": "Python 3 (ipykernel)",
   "language": "python",
   "name": "python3"
  },
  "language_info": {
   "codemirror_mode": {
    "name": "ipython",
    "version": 3
   },
   "file_extension": ".py",
   "mimetype": "text/x-python",
   "name": "python",
   "nbconvert_exporter": "python",
   "pygments_lexer": "ipython3",
   "version": "3.7.11"
  }
 },
 "nbformat": 4,
 "nbformat_minor": 5
}
