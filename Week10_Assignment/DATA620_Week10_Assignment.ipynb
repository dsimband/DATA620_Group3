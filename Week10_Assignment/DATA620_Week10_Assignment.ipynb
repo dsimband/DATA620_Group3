{
 "cells": [
  {
   "cell_type": "markdown",
   "metadata": {},
   "source": [
    "# DATA620: Assignment 10 - Document Classification\n",
    "\n",
    "## Homework Team 3: David Simbandumwe, Eric Lehmphul and Lidiia Tronina"
   ]
  },
  {
   "cell_type": "markdown",
   "metadata": {},
   "source": [
    "### Assignment:"
   ]
  },
  {
   "cell_type": "markdown",
   "metadata": {},
   "source": [
    "It can be useful to be able to classify new \"test\" documents using already classified \"training\" documents.  A common example is using a corpus of labeled spam and ham (non-spam) e-mails to predict whether or not a new document is spam.  Here is one example of such data: [UCI Machine Learning Repository: Spambase Data Set](http://archive.ics.uci.edu/ml/datasets/Spambase)\n",
    "For this project, you can either use the above dataset to predict the class of new documents (either withheld from the training dataset or from another source such as your own spam folder).\n",
    "For more adventurous students, you are welcome to come up a different set of documents that have already been classified , then analyze these documents to predict how new documents should be classified."
   ]
  },
  {
   "cell_type": "markdown",
   "metadata": {},
   "source": [
    "### Load Required Packages"
   ]
  },
  {
   "cell_type": "code",
   "execution_count": 1,
   "metadata": {},
   "outputs": [
    {
     "name": "stdout",
     "output_type": "stream",
     "text": [
      "[nltk_data] Error loading inagural: Package 'inagural' not found in\n",
      "[nltk_data]     index\n",
      "[nltk_data] Downloading package stopwords to\n",
      "[nltk_data]     /Users/lidiiatronina/nltk_data...\n",
      "[nltk_data]   Package stopwords is already up-to-date!\n"
     ]
    },
    {
     "data": {
      "text/plain": [
       "True"
      ]
     },
     "execution_count": 1,
     "metadata": {},
     "output_type": "execute_result"
    }
   ],
   "source": [
    "import numpy as np\n",
    "import pandas as pd\n",
    "import matplotlib.pyplot as plt\n",
    "import warnings\n",
    "import random\n",
    "import nltk\n",
    "\n",
    "import plotly.express as px\n",
    "from nltk.corpus import inaugural\n",
    "from nltk.corpus import stopwords\n",
    "from sklearn.feature_extraction import text\n",
    "from sklearn.feature_extraction.text import TfidfVectorizer\n",
    "from sklearn.neighbors import KNeighborsClassifier\n",
    "from sklearn.ensemble import RandomForestClassifier\n",
    "from sklearn.utils.extmath import density\n",
    "from sklearn import metrics\n",
    "from sklearn.model_selection import train_test_split\n",
    "from sklearn.linear_model import LogisticRegression\n",
    "from sklearn import metrics\n",
    "\n",
    "\n",
    "from nltk.corpus import inaugural\n",
    "from operator import itemgetter\n",
    "warnings.filterwarnings(\"ignore\")\n",
    "nltk.download('inagural')\n",
    "nltk.download('stopwords')"
   ]
  },
  {
   "cell_type": "code",
   "execution_count": 2,
   "metadata": {},
   "outputs": [],
   "source": [
    "random.seed(137)"
   ]
  },
  {
   "cell_type": "markdown",
   "metadata": {},
   "source": [
    "## Choose a corpus of interest for classification."
   ]
  },
  {
   "cell_type": "markdown",
   "metadata": {},
   "source": [
    "Presidents’ words matter. For better or worse, presidential rhetoric tells the American people who they are. That's why we decided to look at the inaugural speeches from the freely available library that can be downloaded from the NLTK package. The corpus is a collection of 55 texts, one for each presidential address.\n",
    "\n",
    "We want to classify presidential speeches as Republican/Democrat. Most presidents have belonged to one of these two parties (except some who were Whigs and National Union), and we can start as early as Andrew Jackson's 1829 speech. It will be interesting to see if the two parties have different word use in their addresses and if we can identify the president's party by word choices.\n",
    "\n",
    "Let's look at available texts in the corpus."
   ]
  },
  {
   "cell_type": "code",
   "execution_count": 3,
   "metadata": {},
   "outputs": [
    {
     "data": {
      "text/plain": [
       "['1789-Washington.txt',\n",
       " '1793-Washington.txt',\n",
       " '1797-Adams.txt',\n",
       " '1801-Jefferson.txt',\n",
       " '1805-Jefferson.txt',\n",
       " '1809-Madison.txt',\n",
       " '1813-Madison.txt',\n",
       " '1817-Monroe.txt',\n",
       " '1821-Monroe.txt',\n",
       " '1825-Adams.txt',\n",
       " '1829-Jackson.txt',\n",
       " '1833-Jackson.txt',\n",
       " '1837-VanBuren.txt',\n",
       " '1841-Harrison.txt',\n",
       " '1845-Polk.txt',\n",
       " '1849-Taylor.txt',\n",
       " '1853-Pierce.txt',\n",
       " '1857-Buchanan.txt',\n",
       " '1861-Lincoln.txt',\n",
       " '1865-Lincoln.txt',\n",
       " '1869-Grant.txt',\n",
       " '1873-Grant.txt',\n",
       " '1877-Hayes.txt',\n",
       " '1881-Garfield.txt',\n",
       " '1885-Cleveland.txt',\n",
       " '1889-Harrison.txt',\n",
       " '1893-Cleveland.txt',\n",
       " '1897-McKinley.txt',\n",
       " '1901-McKinley.txt',\n",
       " '1905-Roosevelt.txt',\n",
       " '1909-Taft.txt',\n",
       " '1913-Wilson.txt',\n",
       " '1917-Wilson.txt',\n",
       " '1921-Harding.txt',\n",
       " '1925-Coolidge.txt',\n",
       " '1929-Hoover.txt',\n",
       " '1933-Roosevelt.txt',\n",
       " '1937-Roosevelt.txt',\n",
       " '1941-Roosevelt.txt',\n",
       " '1945-Roosevelt.txt',\n",
       " '1949-Truman.txt',\n",
       " '1953-Eisenhower.txt',\n",
       " '1957-Eisenhower.txt',\n",
       " '1961-Kennedy.txt',\n",
       " '1965-Johnson.txt',\n",
       " '1969-Nixon.txt',\n",
       " '1973-Nixon.txt',\n",
       " '1977-Carter.txt',\n",
       " '1981-Reagan.txt',\n",
       " '1985-Reagan.txt',\n",
       " '1989-Bush.txt',\n",
       " '1993-Clinton.txt',\n",
       " '1997-Clinton.txt',\n",
       " '2001-Bush.txt',\n",
       " '2005-Bush.txt',\n",
       " '2009-Obama.txt',\n",
       " '2013-Obama.txt',\n",
       " '2017-Trump.txt',\n",
       " '2021-Biden.txt']"
      ]
     },
     "execution_count": 3,
     "metadata": {},
     "output_type": "execute_result"
    }
   ],
   "source": [
    "inaugural.fileids()"
   ]
  },
  {
   "cell_type": "code",
   "execution_count": 4,
   "metadata": {},
   "outputs": [
    {
     "data": {
      "text/html": [
       "<div>\n",
       "<style>\n",
       "    .dataframe thead tr:only-child th {\n",
       "        text-align: right;\n",
       "    }\n",
       "\n",
       "    .dataframe thead th {\n",
       "        text-align: left;\n",
       "    }\n",
       "\n",
       "    .dataframe tbody tr th {\n",
       "        vertical-align: top;\n",
       "    }\n",
       "</style>\n",
       "<table border=\"1\" class=\"dataframe\">\n",
       "  <thead>\n",
       "    <tr style=\"text-align: right;\">\n",
       "      <th></th>\n",
       "      <th>year</th>\n",
       "      <th>president</th>\n",
       "      <th>party</th>\n",
       "    </tr>\n",
       "  </thead>\n",
       "  <tbody>\n",
       "    <tr>\n",
       "      <th>0</th>\n",
       "      <td>1789</td>\n",
       "      <td>Washington</td>\n",
       "      <td>None</td>\n",
       "    </tr>\n",
       "    <tr>\n",
       "      <th>1</th>\n",
       "      <td>1793</td>\n",
       "      <td>Washington</td>\n",
       "      <td>None</td>\n",
       "    </tr>\n",
       "    <tr>\n",
       "      <th>2</th>\n",
       "      <td>1797</td>\n",
       "      <td>Adams</td>\n",
       "      <td>Federalist</td>\n",
       "    </tr>\n",
       "    <tr>\n",
       "      <th>3</th>\n",
       "      <td>1801</td>\n",
       "      <td>Jefferson</td>\n",
       "      <td>Democrat-Republican</td>\n",
       "    </tr>\n",
       "    <tr>\n",
       "      <th>4</th>\n",
       "      <td>1805</td>\n",
       "      <td>Jefferson</td>\n",
       "      <td>Democrat-Republican</td>\n",
       "    </tr>\n",
       "    <tr>\n",
       "      <th>5</th>\n",
       "      <td>1809</td>\n",
       "      <td>Madison</td>\n",
       "      <td>Democrat-Republican</td>\n",
       "    </tr>\n",
       "    <tr>\n",
       "      <th>6</th>\n",
       "      <td>1813</td>\n",
       "      <td>Madison</td>\n",
       "      <td>Democrat-Republican</td>\n",
       "    </tr>\n",
       "    <tr>\n",
       "      <th>7</th>\n",
       "      <td>1817</td>\n",
       "      <td>Monroe</td>\n",
       "      <td>Democrat-Republican</td>\n",
       "    </tr>\n",
       "    <tr>\n",
       "      <th>8</th>\n",
       "      <td>1821</td>\n",
       "      <td>Monroe</td>\n",
       "      <td>Democrat-Republican</td>\n",
       "    </tr>\n",
       "    <tr>\n",
       "      <th>9</th>\n",
       "      <td>1825</td>\n",
       "      <td>Adams</td>\n",
       "      <td>Democrat-Republican</td>\n",
       "    </tr>\n",
       "    <tr>\n",
       "      <th>10</th>\n",
       "      <td>1829</td>\n",
       "      <td>Jackson</td>\n",
       "      <td>Democrat</td>\n",
       "    </tr>\n",
       "    <tr>\n",
       "      <th>11</th>\n",
       "      <td>1833</td>\n",
       "      <td>Jackson</td>\n",
       "      <td>Democrat</td>\n",
       "    </tr>\n",
       "    <tr>\n",
       "      <th>12</th>\n",
       "      <td>1837</td>\n",
       "      <td>VanBuren</td>\n",
       "      <td>Democrat</td>\n",
       "    </tr>\n",
       "    <tr>\n",
       "      <th>13</th>\n",
       "      <td>1841</td>\n",
       "      <td>Harrison</td>\n",
       "      <td>Whig</td>\n",
       "    </tr>\n",
       "    <tr>\n",
       "      <th>14</th>\n",
       "      <td>1845</td>\n",
       "      <td>Polk</td>\n",
       "      <td>Democrat</td>\n",
       "    </tr>\n",
       "    <tr>\n",
       "      <th>15</th>\n",
       "      <td>1849</td>\n",
       "      <td>Taylor</td>\n",
       "      <td>Whig</td>\n",
       "    </tr>\n",
       "    <tr>\n",
       "      <th>16</th>\n",
       "      <td>1853</td>\n",
       "      <td>Pierce</td>\n",
       "      <td>Democrat</td>\n",
       "    </tr>\n",
       "    <tr>\n",
       "      <th>17</th>\n",
       "      <td>1857</td>\n",
       "      <td>Buchanan</td>\n",
       "      <td>Democrat</td>\n",
       "    </tr>\n",
       "    <tr>\n",
       "      <th>18</th>\n",
       "      <td>1861</td>\n",
       "      <td>Lincoln</td>\n",
       "      <td>Republican</td>\n",
       "    </tr>\n",
       "    <tr>\n",
       "      <th>19</th>\n",
       "      <td>1865</td>\n",
       "      <td>Lincoln</td>\n",
       "      <td>Republican</td>\n",
       "    </tr>\n",
       "  </tbody>\n",
       "</table>\n",
       "</div>"
      ],
      "text/plain": [
       "    year   president                party\n",
       "0   1789  Washington                 None\n",
       "1   1793  Washington                 None\n",
       "2   1797       Adams           Federalist\n",
       "3   1801   Jefferson  Democrat-Republican\n",
       "4   1805   Jefferson  Democrat-Republican\n",
       "5   1809     Madison  Democrat-Republican\n",
       "6   1813     Madison  Democrat-Republican\n",
       "7   1817      Monroe  Democrat-Republican\n",
       "8   1821      Monroe  Democrat-Republican\n",
       "9   1825       Adams  Democrat-Republican\n",
       "10  1829     Jackson             Democrat\n",
       "11  1833     Jackson             Democrat\n",
       "12  1837    VanBuren             Democrat\n",
       "13  1841    Harrison                 Whig\n",
       "14  1845        Polk             Democrat\n",
       "15  1849      Taylor                 Whig\n",
       "16  1853      Pierce             Democrat\n",
       "17  1857    Buchanan             Democrat\n",
       "18  1861     Lincoln           Republican\n",
       "19  1865     Lincoln           Republican"
      ]
     },
     "execution_count": 4,
     "metadata": {},
     "output_type": "execute_result"
    }
   ],
   "source": [
    "party = pd.read_csv('https://raw.githubusercontent.com/dsimband/DATA620_Group3/main/Week10_Assignment/presidents.csv',index_col=None)\n",
    "\n",
    "party.head(20)"
   ]
  },
  {
   "cell_type": "markdown",
   "metadata": {},
   "source": [
    "## Data Exploration"
   ]
  },
  {
   "cell_type": "markdown",
   "metadata": {},
   "source": [
    "There are a total of 152901 words in the corpus."
   ]
  },
  {
   "cell_type": "code",
   "execution_count": 5,
   "metadata": {},
   "outputs": [
    {
     "data": {
      "text/plain": [
       "152901"
      ]
     },
     "execution_count": 5,
     "metadata": {},
     "output_type": "execute_result"
    }
   ],
   "source": [
    "# Count ALL words\n",
    "all_words = inaugural.words()\n",
    "len(all_words)"
   ]
  },
  {
   "cell_type": "code",
   "execution_count": 6,
   "metadata": {},
   "outputs": [
    {
     "data": {
      "text/plain": [
       "['Fellow', '-', 'Citizens', 'of', 'the', 'Senate', ...]"
      ]
     },
     "execution_count": 6,
     "metadata": {},
     "output_type": "execute_result"
    }
   ],
   "source": [
    "#Washington's speech\n",
    "inaugural.words('1789-Washington.txt')"
   ]
  },
  {
   "cell_type": "code",
   "execution_count": 7,
   "metadata": {},
   "outputs": [
    {
     "name": "stdout",
     "output_type": "stream",
     "text": [
      "For text 1985-Reagan.txt, the number of unique words is 876\n",
      "For text 1989-Bush.txt, the number of unique words is 754\n",
      "For text 1993-Clinton.txt, the number of unique words is 604\n",
      "For text 1997-Clinton.txt, the number of unique words is 727\n",
      "For text 2001-Bush.txt, the number of unique words is 593\n",
      "For text 2005-Bush.txt, the number of unique words is 742\n",
      "For text 2009-Obama.txt, the number of unique words is 900\n",
      "For text 2013-Obama.txt, the number of unique words is 792\n",
      "For text 2017-Trump.txt, the number of unique words is 547\n",
      "For text 2021-Biden.txt, the number of unique words is 783\n"
     ]
    }
   ],
   "source": [
    "recent_list = inaugural.fileids()[-10:] \n",
    "for text in recent_list:\n",
    "    word_list = inaugural.words(text)\n",
    "    word_list = [w.lower() for w in word_list]  # handle the case sensitivity\n",
    "    unique_words = len(set(word_list))\n",
    "    print (\"For text \" + text + \", the number of unique words is\", str(unique_words))"
   ]
  },
  {
   "cell_type": "code",
   "execution_count": 8,
   "metadata": {},
   "outputs": [],
   "source": [
    "text_data = pd.DataFrame(columns = ['filename','year','length','unique'])\n",
    "#remove stopwords \n",
    "stop_words = set(stopwords.words('english')) \n",
    "#remove punctuation and common words\n",
    "custom_stopwords = set((',',' ','.', ';', '?', '-', '!', '(', ')','--','\"',\"'\", ':', '¡¦', '¡','', '9', '/', '11','ii', '400','1863','','people','shall','may','country','government','world', 'nation', 'must', 'great','upon','america','new','one','states','peace','every','us',',\"'))\n",
    "for file in inaugural.fileids():\n",
    "    \n",
    "    word_list = inaugural.words(file)\n",
    "    word_list = [w.lower() for w in word_list] \n",
    "    word_list = [word.lower() for word in word_list if word.lower() not in stop_words] \n",
    "    word_list = [word.lower() for word in word_list if word.lower() not in custom_stopwords]\n",
    "    \n",
    "    this_file = pd.DataFrame(data = {\"filename\":[file], \\\n",
    "                                     \"president\" : [str(file[5:])], \\\n",
    "                                     \"year\" : [int(file[:4])], \\\n",
    "                                     \"length\" : [len(word_list)], \\\n",
    "                                     \"unique\" : [len(set(word_list))], \\\n",
    "                                     \"words\" : ' '.join(word_list)})\n",
    "    text_data = text_data.append(this_file, ignore_index=True)"
   ]
  },
  {
   "cell_type": "code",
   "execution_count": 9,
   "metadata": {},
   "outputs": [
    {
     "data": {
      "text/html": [
       "<div>\n",
       "<style>\n",
       "    .dataframe thead tr:only-child th {\n",
       "        text-align: right;\n",
       "    }\n",
       "\n",
       "    .dataframe thead th {\n",
       "        text-align: left;\n",
       "    }\n",
       "\n",
       "    .dataframe tbody tr th {\n",
       "        vertical-align: top;\n",
       "    }\n",
       "</style>\n",
       "<table border=\"1\" class=\"dataframe\">\n",
       "  <thead>\n",
       "    <tr style=\"text-align: right;\">\n",
       "      <th></th>\n",
       "      <th>filename</th>\n",
       "      <th>length</th>\n",
       "      <th>president</th>\n",
       "      <th>unique</th>\n",
       "      <th>words</th>\n",
       "      <th>year</th>\n",
       "      <th>party</th>\n",
       "      <th>id</th>\n",
       "    </tr>\n",
       "  </thead>\n",
       "  <tbody>\n",
       "    <tr>\n",
       "      <th>49</th>\n",
       "      <td>1985-Reagan.txt</td>\n",
       "      <td>1152</td>\n",
       "      <td>Reagan</td>\n",
       "      <td>747</td>\n",
       "      <td>senator mathias chief justice burger vice pres...</td>\n",
       "      <td>1985</td>\n",
       "      <td>Republican</td>\n",
       "      <td>49</td>\n",
       "    </tr>\n",
       "    <tr>\n",
       "      <th>50</th>\n",
       "      <td>1989-Bush.txt</td>\n",
       "      <td>987</td>\n",
       "      <td>Bush</td>\n",
       "      <td>625</td>\n",
       "      <td>mr chief justice mr president vice president q...</td>\n",
       "      <td>1989</td>\n",
       "      <td>Republican</td>\n",
       "      <td>50</td>\n",
       "    </tr>\n",
       "    <tr>\n",
       "      <th>51</th>\n",
       "      <td>1993-Clinton.txt</td>\n",
       "      <td>686</td>\n",
       "      <td>Clinton</td>\n",
       "      <td>498</td>\n",
       "      <td>fellow citizens today celebrate mystery americ...</td>\n",
       "      <td>1993</td>\n",
       "      <td>Democrat</td>\n",
       "      <td>51</td>\n",
       "    </tr>\n",
       "    <tr>\n",
       "      <th>52</th>\n",
       "      <td>1997-Clinton.txt</td>\n",
       "      <td>954</td>\n",
       "      <td>Clinton</td>\n",
       "      <td>615</td>\n",
       "      <td>fellow citizens last presidential inauguration...</td>\n",
       "      <td>1997</td>\n",
       "      <td>Democrat</td>\n",
       "      <td>52</td>\n",
       "    </tr>\n",
       "    <tr>\n",
       "      <th>53</th>\n",
       "      <td>2001-Bush.txt</td>\n",
       "      <td>704</td>\n",
       "      <td>Bush</td>\n",
       "      <td>487</td>\n",
       "      <td>president clinton distinguished guests fellow ...</td>\n",
       "      <td>2001</td>\n",
       "      <td>Republican</td>\n",
       "      <td>53</td>\n",
       "    </tr>\n",
       "    <tr>\n",
       "      <th>54</th>\n",
       "      <td>2005-Bush.txt</td>\n",
       "      <td>952</td>\n",
       "      <td>Bush</td>\n",
       "      <td>634</td>\n",
       "      <td>vice president cheney mr chief justice preside...</td>\n",
       "      <td>2005</td>\n",
       "      <td>Republican</td>\n",
       "      <td>54</td>\n",
       "    </tr>\n",
       "    <tr>\n",
       "      <th>55</th>\n",
       "      <td>2009-Obama.txt</td>\n",
       "      <td>1062</td>\n",
       "      <td>Obama</td>\n",
       "      <td>781</td>\n",
       "      <td>fellow citizens stand today humbled task grate...</td>\n",
       "      <td>2009</td>\n",
       "      <td>Democrat</td>\n",
       "      <td>55</td>\n",
       "    </tr>\n",
       "    <tr>\n",
       "      <th>56</th>\n",
       "      <td>2013-Obama.txt</td>\n",
       "      <td>930</td>\n",
       "      <td>Obama</td>\n",
       "      <td>672</td>\n",
       "      <td>thank thank much vice president biden mr chief...</td>\n",
       "      <td>2013</td>\n",
       "      <td>Democrat</td>\n",
       "      <td>56</td>\n",
       "    </tr>\n",
       "    <tr>\n",
       "      <th>57</th>\n",
       "      <td>2017-Trump.txt</td>\n",
       "      <td>626</td>\n",
       "      <td>Trump</td>\n",
       "      <td>444</td>\n",
       "      <td>chief justice roberts president carter preside...</td>\n",
       "      <td>2017</td>\n",
       "      <td>Republican</td>\n",
       "      <td>57</td>\n",
       "    </tr>\n",
       "    <tr>\n",
       "      <th>58</th>\n",
       "      <td>2021-Biden.txt</td>\n",
       "      <td>1067</td>\n",
       "      <td>Biden</td>\n",
       "      <td>647</td>\n",
       "      <td>chief justice roberts vice president harris sp...</td>\n",
       "      <td>2021</td>\n",
       "      <td>Democrat</td>\n",
       "      <td>58</td>\n",
       "    </tr>\n",
       "  </tbody>\n",
       "</table>\n",
       "</div>"
      ],
      "text/plain": [
       "            filename length president unique  \\\n",
       "49   1985-Reagan.txt   1152    Reagan    747   \n",
       "50     1989-Bush.txt    987      Bush    625   \n",
       "51  1993-Clinton.txt    686   Clinton    498   \n",
       "52  1997-Clinton.txt    954   Clinton    615   \n",
       "53     2001-Bush.txt    704      Bush    487   \n",
       "54     2005-Bush.txt    952      Bush    634   \n",
       "55    2009-Obama.txt   1062     Obama    781   \n",
       "56    2013-Obama.txt    930     Obama    672   \n",
       "57    2017-Trump.txt    626     Trump    444   \n",
       "58    2021-Biden.txt   1067     Biden    647   \n",
       "\n",
       "                                                words  year       party  id  \n",
       "49  senator mathias chief justice burger vice pres...  1985  Republican  49  \n",
       "50  mr chief justice mr president vice president q...  1989  Republican  50  \n",
       "51  fellow citizens today celebrate mystery americ...  1993    Democrat  51  \n",
       "52  fellow citizens last presidential inauguration...  1997    Democrat  52  \n",
       "53  president clinton distinguished guests fellow ...  2001  Republican  53  \n",
       "54  vice president cheney mr chief justice preside...  2005  Republican  54  \n",
       "55  fellow citizens stand today humbled task grate...  2009    Democrat  55  \n",
       "56  thank thank much vice president biden mr chief...  2013    Democrat  56  \n",
       "57  chief justice roberts president carter preside...  2017  Republican  57  \n",
       "58  chief justice roberts vice president harris sp...  2021    Democrat  58  "
      ]
     },
     "execution_count": 9,
     "metadata": {},
     "output_type": "execute_result"
    }
   ],
   "source": [
    "text_data['president'] = text_data['president'].str.replace('.txt','')\n",
    "speech_df = pd.merge(text_data, party, on=['year','president'], how='left')\n",
    "speech_df['id'] = speech_df.index\n",
    "speech_df = speech_df.loc[speech_df['party'].isin(['Democrat', 'Republican'] )] \n",
    "speech_df[-10:]"
   ]
  },
  {
   "cell_type": "code",
   "execution_count": 10,
   "metadata": {},
   "outputs": [
    {
     "data": {
      "text/plain": [
       "47"
      ]
     },
     "execution_count": 10,
     "metadata": {},
     "output_type": "execute_result"
    }
   ],
   "source": [
    "len(speech_df)"
   ]
  },
  {
   "cell_type": "code",
   "execution_count": 11,
   "metadata": {},
   "outputs": [
    {
     "data": {
      "text/plain": [
       "{'Democrat', 'Republican'}"
      ]
     },
     "execution_count": 11,
     "metadata": {},
     "output_type": "execute_result"
    }
   ],
   "source": [
    "set(speech_df['party'])"
   ]
  },
  {
   "cell_type": "markdown",
   "metadata": {},
   "source": [
    "## Preparing Documents for Classification"
   ]
  },
  {
   "cell_type": "markdown",
   "metadata": {},
   "source": [
    "First we need to take all Democrat/Republican speeches and combine them to create one text. We will also remove punctuation and convert everything to lowercase to eliminate duplicate words. \n",
    "We also want to remove some of the common words for both parties such as - people, nation, world, country, etc.\n",
    "Then we can take that and create a list of text segments. Each segment will be 1000 words long."
   ]
  },
  {
   "cell_type": "code",
   "execution_count": 12,
   "metadata": {},
   "outputs": [],
   "source": [
    "democrat = inaugural.words('1833-Jackson.txt')+inaugural.words('1837-VanBuren.txt')+inaugural.words('1845-Polk.txt')+inaugural.words('1853-Pierce.txt')+inaugural.words('1857-Buchanan.txt')+inaugural.words('1885-Cleveland.txt')+inaugural.words('1893-Cleveland.txt')+inaugural.words('1905-Roosevelt.txt')+inaugural.words('1933-Roosevelt.txt')+inaugural.words('1937-Roosevelt.txt')+inaugural.words('1941-Roosevelt.txt')+inaugural.words('1945-Roosevelt.txt')+inaugural.words('1913-Wilson.txt')+inaugural.words('1917-Wilson.txt')+inaugural.words('1949-Truman.txt')+inaugural.words('1961-Kennedy.txt')+inaugural.words('1965-Johnson.txt')+inaugural.words('1969-Nixon.txt')+inaugural.words('1973-Nixon.txt')+inaugural.words('1977-Carter.txt')+inaugural.words('1993-Clinton.txt')+inaugural.words('1997-Clinton.txt')+inaugural.words('2009-Obama.txt')+inaugural.words('2013-Obama.txt')+inaugural.words('2021-Biden.txt')"
   ]
  },
  {
   "cell_type": "code",
   "execution_count": 13,
   "metadata": {},
   "outputs": [],
   "source": [
    "republican = inaugural.words('1841-Harrison.txt')+inaugural.words('1889-Harrison.txt')+inaugural.words('1861-Lincoln.txt')+inaugural.words('1865-Lincoln.txt')+inaugural.words('1869-Grant.txt')+inaugural.words('1873-Grant.txt')+inaugural.words('1877-Hayes.txt')+inaugural.words('1881-Garfield.txt')+inaugural.words('1897-McKinley.txt')+inaugural.words('1901-McKinley.txt')+inaugural.words('1905-Roosevelt.txt')+inaugural.words('1933-Roosevelt.txt')+inaugural.words('1937-Roosevelt.txt')+inaugural.words('1941-Roosevelt.txt')+inaugural.words('1945-Roosevelt.txt')+inaugural.words('1909-Taft.txt')+inaugural.words('1921-Harding.txt')+inaugural.words('1925-Coolidge.txt')+inaugural.words('1929-Hoover.txt')+inaugural.words('1953-Eisenhower.txt')+inaugural.words('1957-Eisenhower.txt')+inaugural.words('1969-Nixon.txt')+inaugural.words('1973-Nixon.txt')+inaugural.words('1981-Reagan.txt')+inaugural.words('1985-Reagan.txt')+inaugural.words('1989-Bush.txt')+inaugural.words('2001-Bush.txt')+inaugural.words('2005-Bush.txt')+inaugural.words('2017-Trump.txt') "
   ]
  },
  {
   "cell_type": "code",
   "execution_count": 14,
   "metadata": {},
   "outputs": [],
   "source": [
    "#remove stopwords \n",
    "from nltk.corpus import stopwords\n",
    "stop_words = set(stopwords.words('english')) \n",
    "#remove punctuation and common words\n",
    "custom_stopwords = set((',',' ','.', ';', '?', '-', '!', '(', ')','--','\"',\"'\", ':', '¡¦', '¡','', '9', '/', '11','ii', '400','1863','','people','shall','may','country','government','world', 'nation', 'must', 'great','upon','america','new','one','states','peace','every','us',',\"'))"
   ]
  },
  {
   "cell_type": "code",
   "execution_count": 15,
   "metadata": {},
   "outputs": [],
   "source": [
    "dem_filtered = [word.lower() for word in democrat if word.lower() not in stop_words] "
   ]
  },
  {
   "cell_type": "code",
   "execution_count": 16,
   "metadata": {},
   "outputs": [],
   "source": [
    "dem_filtered2 = [ word.lower() for word in dem_filtered if word.lower() not in custom_stopwords ] "
   ]
  },
  {
   "cell_type": "code",
   "execution_count": 17,
   "metadata": {},
   "outputs": [
    {
     "data": {
      "text/plain": [
       "21901"
      ]
     },
     "execution_count": 17,
     "metadata": {},
     "output_type": "execute_result"
    }
   ],
   "source": [
    "len(dem_filtered2)"
   ]
  },
  {
   "cell_type": "code",
   "execution_count": 18,
   "metadata": {},
   "outputs": [],
   "source": [
    "democrat1=[]\n",
    "for i in range(21):\n",
    "    democrat1.append([dem_filtered2[i*1000:(i+1)*1000],'dem'])"
   ]
  },
  {
   "cell_type": "code",
   "execution_count": 19,
   "metadata": {},
   "outputs": [
    {
     "data": {
      "text/plain": [
       "21"
      ]
     },
     "execution_count": 19,
     "metadata": {},
     "output_type": "execute_result"
    }
   ],
   "source": [
    "len(democrat1)"
   ]
  },
  {
   "cell_type": "code",
   "execution_count": 20,
   "metadata": {},
   "outputs": [],
   "source": [
    "rep_filtered = [word.lower() for word in republican if word.lower() not in stop_words] "
   ]
  },
  {
   "cell_type": "code",
   "execution_count": 21,
   "metadata": {},
   "outputs": [],
   "source": [
    "rep_filtered2 = [ word.lower() for word in rep_filtered if word.lower() not in custom_stopwords ] "
   ]
  },
  {
   "cell_type": "code",
   "execution_count": 22,
   "metadata": {},
   "outputs": [
    {
     "data": {
      "text/plain": [
       "32344"
      ]
     },
     "execution_count": 22,
     "metadata": {},
     "output_type": "execute_result"
    }
   ],
   "source": [
    "len(rep_filtered2)"
   ]
  },
  {
   "cell_type": "code",
   "execution_count": 23,
   "metadata": {},
   "outputs": [],
   "source": [
    "republican1=[]\n",
    "for i in range(32):\n",
    "    republican1.append([rep_filtered2[i*1000:(i+1)*1000],'rep'])"
   ]
  },
  {
   "cell_type": "code",
   "execution_count": 24,
   "metadata": {},
   "outputs": [
    {
     "data": {
      "text/plain": [
       "32"
      ]
     },
     "execution_count": 24,
     "metadata": {},
     "output_type": "execute_result"
    }
   ],
   "source": [
    "len(republican1)"
   ]
  },
  {
   "cell_type": "markdown",
   "metadata": {},
   "source": [
    "We now have a list of 21 Democrat and 32 Republican 1000-word segments. These are the most common words for each party:"
   ]
  },
  {
   "cell_type": "code",
   "execution_count": 25,
   "metadata": {},
   "outputs": [
    {
     "data": {
      "image/png": "[encoded data removed]",
      "text/plain": [
       "<Figure size 1080x576 with 1 Axes>"
      ]
     },
     "metadata": {
      "needs_background": "light"
     },
     "output_type": "display_data"
    }
   ],
   "source": [
    "fdist1 = nltk.FreqDist(dem_filtered2)\n",
    "d = fdist1.most_common(40) \n",
    "\n",
    "d_df = pd.DataFrame(d, columns=['word','freq'])\n",
    "\n",
    "plt.figure(figsize=(15,8))\n",
    "plt.bar(d_df['word'], d_df['freq'], align='center', alpha=0.5)\n",
    "plt.xticks(rotation='vertical')\n",
    "plt.ylabel('frequency')\n",
    "plt.xlabel('word')\n",
    "plt.title('Frequency of words democratic')\n",
    "plt.show()"
   ]
  },
  {
   "cell_type": "code",
   "execution_count": 26,
   "metadata": {},
   "outputs": [
    {
     "data": {
      "image/png": "[encoded data removed]",
      "text/plain": [
       "<Figure size 1080x576 with 1 Axes>"
      ]
     },
     "metadata": {
      "needs_background": "light"
     },
     "output_type": "display_data"
    }
   ],
   "source": [
    "fdist1 = nltk.FreqDist(rep_filtered2)\n",
    "r = fdist1.most_common(40) \n",
    "\n",
    "r_df = pd.DataFrame(r, columns=['word','freq'])\n",
    "\n",
    "plt.figure(figsize=(15,8))\n",
    "plt.bar(r_df['word'], r_df['freq'], align='center', alpha=0.5)\n",
    "plt.xticks(rotation='vertical')\n",
    "plt.ylabel('frequency')\n",
    "plt.xlabel('word')\n",
    "plt.title('Frequency of words republican')\n",
    "plt.show()"
   ]
  },
  {
   "cell_type": "markdown",
   "metadata": {},
   "source": [
    "## Feature Extraction"
   ]
  },
  {
   "cell_type": "markdown",
   "metadata": {},
   "source": [
    "We use a method from Natural Language Processing with Python to define a feature extractor for documents, so the classifier will know which aspects of the data it should pay attention to. We can define a feature for each word, indicating whether the segment contains that word. To limit the number of features that the classifier needs to process, we begin by constructing a list of the 2000 most frequent words in the overall corpus. We can then define a feature extractor that simply checks whether each of these words is present in a given document. "
   ]
  },
  {
   "cell_type": "code",
   "execution_count": 27,
   "metadata": {},
   "outputs": [],
   "source": [
    "all=dem_filtered2+rep_filtered2\n",
    "all_words = nltk.FreqDist(w.lower() for w in all)\n",
    "word_features = list(all_words)[:2000] \n",
    "\n",
    "def document_features(document): \n",
    "    document_words = set(document) \n",
    "    features = {}\n",
    "    for word in word_features:\n",
    "        features['contains({})'.format(word)] = (word in document_words)\n",
    "    return features"
   ]
  },
  {
   "cell_type": "code",
   "execution_count": 28,
   "metadata": {},
   "outputs": [
    {
     "data": {
      "text/plain": [
       "[('contains(fellow)', True),\n",
       " ('contains(citizens)', True),\n",
       " ('contains(american)', True),\n",
       " ('contains(expressed)', True),\n",
       " ('contains(unsolicited)', True),\n",
       " ('contains(suffrages)', True),\n",
       " ('contains(calls)', True),\n",
       " ('contains(pass)', True),\n",
       " ('contains(solemnities)', True),\n",
       " ('contains(preparatory)', True),\n",
       " ('contains(taking)', True),\n",
       " ('contains(duties)', True),\n",
       " ('contains(president)', True),\n",
       " ('contains(united)', True),\n",
       " ('contains(another)', True),\n",
       " ('contains(term)', True),\n",
       " ('contains(approbation)', True),\n",
       " ('contains(public)', True),\n",
       " ('contains(conduct)', True),\n",
       " ('contains(period)', True)]"
      ]
     },
     "execution_count": 28,
     "metadata": {},
     "output_type": "execute_result"
    }
   ],
   "source": [
    "features = document_features(dem_filtered2)\n",
    "list(features.items())[:20]"
   ]
  },
  {
   "cell_type": "markdown",
   "metadata": {},
   "source": [
    "Now that we've defined our feature extractor, we can use it to train a classifier to label each speech segment."
   ]
  },
  {
   "cell_type": "code",
   "execution_count": 29,
   "metadata": {},
   "outputs": [],
   "source": [
    "documents=republican1+democrat1"
   ]
  },
  {
   "cell_type": "markdown",
   "metadata": {},
   "source": [
    "## Create Test and Train Dataset"
   ]
  },
  {
   "cell_type": "markdown",
   "metadata": {},
   "source": [
    "Now we create a list of all text segments from both Republican and Democrat and shuffle them to create the text corpus that we will use to train and test our classifier model. We will use 47 segments to train our model and leave 15 segments for testing."
   ]
  },
  {
   "cell_type": "code",
   "execution_count": 30,
   "metadata": {},
   "outputs": [],
   "source": [
    "random.shuffle(documents)\n",
    "featuresets = [(document_features(d), c) for (d,c) in documents]\n",
    "size = int(len(featuresets) * 0.3)\n",
    "train_set, test_set = featuresets[size:], featuresets[:size]"
   ]
  },
  {
   "cell_type": "code",
   "execution_count": 31,
   "metadata": {},
   "outputs": [
    {
     "name": "stdout",
     "output_type": "stream",
     "text": [
      "size of train: 32\n",
      "size of test: 15\n"
     ]
    }
   ],
   "source": [
    "vectorizer = TfidfVectorizer(sublinear_tf=True, max_df=0.5, stop_words=\"english\")\n",
    "bag = vectorizer.fit_transform(list(speech_df['words']))\n",
    "X = bag.toarray()\n",
    "y = np.array(list(speech_df['party']))\n",
    "X_train, X_test, y_train, y_test = train_test_split(X, y, test_size=0.30, random_state=137)\n",
    "print('size of train:',len(X_train))\n",
    "print('size of test:',len(X_test))"
   ]
  },
  {
   "cell_type": "markdown",
   "metadata": {},
   "source": [
    "## naive Bayes Classifier "
   ]
  },
  {
   "cell_type": "markdown",
   "metadata": {},
   "source": [
    "We use naive Bayes classifier to train our first model. To choose a label for an input value, the naive Bayes classifier begins by calculating the prior probability of each label, which is determined by checking frequency of each label in the training set. The contribution from each feature is then combined with this prior probability, to arrive at a likelihood estimate for each label. \n",
    "(Natural Language Processing with Python https://www.nltk.org/book/ch06.html)"
   ]
  },
  {
   "cell_type": "code",
   "execution_count": 32,
   "metadata": {},
   "outputs": [],
   "source": [
    "classifier = nltk.NaiveBayesClassifier.train(train_set)"
   ]
  },
  {
   "cell_type": "code",
   "execution_count": 33,
   "metadata": {},
   "outputs": [
    {
     "name": "stdout",
     "output_type": "stream",
     "text": [
      "0.7333333333333333\n"
     ]
    }
   ],
   "source": [
    "print(nltk.classify.accuracy(classifier, test_set))"
   ]
  },
  {
   "cell_type": "markdown",
   "metadata": {},
   "source": [
    "This model has a 73,3% accuracy."
   ]
  },
  {
   "cell_type": "markdown",
   "metadata": {},
   "source": [
    "Let's see what features are most important in training our model."
   ]
  },
  {
   "cell_type": "code",
   "execution_count": 43,
   "metadata": {},
   "outputs": [
    {
     "name": "stdout",
     "output_type": "stream",
     "text": [
      "Most Informative Features\n",
      "        contains(energy) = True              dem : rep    =      6.9 : 1.0\n",
      "         contains(minds) = True              dem : rep    =      5.3 : 1.0\n",
      "    contains(protecting) = True              dem : rep    =      5.3 : 1.0\n",
      "    contains(concession) = True              dem : rep    =      5.3 : 1.0\n",
      "         contains(enjoy) = True              dem : rep    =      5.3 : 1.0\n",
      "         contains(fully) = True              rep : dem    =      5.2 : 1.0\n",
      "     contains(dangerous) = True              rep : dem    =      4.6 : 1.0\n",
      "        contains(spirit) = False             rep : dem    =      4.6 : 1.0\n",
      "   contains(confederacy) = True              dem : rep    =      4.5 : 1.0\n",
      "      contains(believed) = True              dem : rep    =      4.5 : 1.0\n",
      "     contains(conferred) = True              dem : rep    =      4.5 : 1.0\n",
      "   contains(dissolution) = True              dem : rep    =      4.5 : 1.0\n",
      "       contains(however) = False             dem : rep    =      4.4 : 1.0\n",
      "         contains(happy) = True              dem : rep    =      4.2 : 1.0\n",
      "        contains(fellow) = False             rep : dem    =      4.1 : 1.0\n",
      "       contains(section) = True              rep : dem    =      4.1 : 1.0\n",
      "      contains(revenues) = True              rep : dem    =      4.1 : 1.0\n",
      "       contains(prevent) = True              rep : dem    =      4.1 : 1.0\n",
      "     contains(violation) = True              rep : dem    =      4.1 : 1.0\n",
      "        contains(common) = False             rep : dem    =      3.8 : 1.0\n"
     ]
    }
   ],
   "source": [
    "classifier.show_most_informative_features(20)"
   ]
  },
  {
   "cell_type": "markdown",
   "metadata": {},
   "source": [
    "Interestingly enough, the most informative of the party words for Democrats are concession, energy, protecting, enjoy, believed, happy. \n",
    "Words such as dangerous, prevent, revenues, violation, spirit seem to play an important role in identifying Republican speeches."
   ]
  },
  {
   "cell_type": "markdown",
   "metadata": {},
   "source": [
    "## Decision Tree Classifier"
   ]
  },
  {
   "cell_type": "code",
   "execution_count": 36,
   "metadata": {},
   "outputs": [
    {
     "data": {
      "text/plain": [
       "0.4"
      ]
     },
     "execution_count": 36,
     "metadata": {},
     "output_type": "execute_result"
    }
   ],
   "source": [
    "classifier_2 = nltk.DecisionTreeClassifier.train(train_set)\n",
    "nltk.classify.accuracy(classifier_2, test_set)"
   ]
  },
  {
   "cell_type": "markdown",
   "metadata": {},
   "source": [
    "The Decision Tree Clasifier is a rather weak classifier for our dataset. The accuracy is only 40%. It may overfit due to the amount of training data which is quite small for this algorithm."
   ]
  },
  {
   "cell_type": "markdown",
   "metadata": {},
   "source": [
    "## Logistic Regression Classifier"
   ]
  },
  {
   "cell_type": "markdown",
   "metadata": {},
   "source": [
    "In the next 3 models we use a different module. First, we try to build a Logistic Regression Classifier. The accuracy is still low at 46.7%. It looks like the model creates a lot of false positives for the Democratic party. "
   ]
  },
  {
   "cell_type": "code",
   "execution_count": 44,
   "metadata": {},
   "outputs": [
    {
     "name": "stdout",
     "output_type": "stream",
     "text": [
      "LogisticRegression Accuracy 0.467\n",
      "             precision    recall  f1-score   support\n",
      "\n",
      "   Democrat       0.60      0.33      0.43         9\n",
      " Republican       0.40      0.67      0.50         6\n",
      "\n",
      "avg / total       0.52      0.47      0.46        15\n",
      "\n",
      "[[3 6]\n",
      " [2 4]]\n"
     ]
    }
   ],
   "source": [
    "# Create an instance of LogisticRegression classifier\n",
    "lr = LogisticRegression(C=100.0, random_state=1, solver='lbfgs', multi_class='ovr')\n",
    "\n",
    "# Fit the model\n",
    "lr.fit(X_train, y_train)\n",
    "\n",
    "# Create the predictions\n",
    "y_predict = lr.predict(X_test)\n",
    "  \n",
    "# Use metrics.accuracy_score to measure the score\n",
    "print(\"LogisticRegression Accuracy %.3f\" %metrics.accuracy_score(y_test, y_predict))\n",
    "print(metrics.classification_report(y_test, y_predict))\n",
    "print(metrics.confusion_matrix(y_test, y_predict))"
   ]
  },
  {
   "cell_type": "markdown",
   "metadata": {},
   "source": [
    "## K Nearest Neighbors Classifier"
   ]
  },
  {
   "cell_type": "markdown",
   "metadata": {},
   "source": [
    "The classifier implementing the k-nearest neighbors vote has a slightly higher performance. The accuracy goes up to 53.3%,  but we still see the same problem with classification of Democrats."
   ]
  },
  {
   "cell_type": "code",
   "execution_count": 40,
   "metadata": {},
   "outputs": [
    {
     "name": "stdout",
     "output_type": "stream",
     "text": [
      "KNeighbors Accuracy 0.533\n",
      "             precision    recall  f1-score   support\n",
      "\n",
      "   Democrat       0.67      0.44      0.53         9\n",
      " Republican       0.44      0.67      0.53         6\n",
      "\n",
      "avg / total       0.58      0.53      0.53        15\n",
      "\n",
      "[[4 5]\n",
      " [2 4]]\n"
     ]
    }
   ],
   "source": [
    "knn = KNeighborsClassifier(n_neighbors=10)\n",
    "knn.fit(X_train, y_train)\n",
    "y_predict = knn.predict(X_test)\n",
    "score = metrics.accuracy_score(y_test, y_predict)\n",
    "print(\"KNeighbors Accuracy %.3f\" %metrics.accuracy_score(y_test, y_predict))\n",
    "print(metrics.classification_report(y_test, y_predict))\n",
    "print(metrics.confusion_matrix(y_test, y_predict))"
   ]
  },
  {
   "cell_type": "markdown",
   "metadata": {},
   "source": [
    "## Random Forest Classifier"
   ]
  },
  {
   "cell_type": "code",
   "execution_count": 41,
   "metadata": {},
   "outputs": [
    {
     "name": "stdout",
     "output_type": "stream",
     "text": [
      "Random Forest Classifier Accuracy 0.600\n",
      "             precision    recall  f1-score   support\n",
      "\n",
      "   Democrat       0.71      0.56      0.63         9\n",
      " Republican       0.50      0.67      0.57         6\n",
      "\n",
      "avg / total       0.63      0.60      0.60        15\n",
      "\n",
      "[[5 4]\n",
      " [2 4]]\n"
     ]
    }
   ],
   "source": [
    "rf = RandomForestClassifier()\n",
    "rf.fit(X_train, y_train)\n",
    "y_predict = rf.predict(X_test)\n",
    "score = metrics.accuracy_score(y_test, y_predict)\n",
    "print(\"Random Forest Classifier Accuracy %.3f\" %metrics.accuracy_score(y_test, y_predict))\n",
    "print(metrics.classification_report(y_test, y_predict))\n",
    "print(metrics.confusion_matrix(y_test, y_predict))"
   ]
  },
  {
   "cell_type": "markdown",
   "metadata": {},
   "source": [
    "So as Decision Trees, we couldn't achieve high performance. Hovewer, Random Forest Classifier performs better than other models in sklearn module. The accuracy is 60%. "
   ]
  },
  {
   "cell_type": "markdown",
   "metadata": {},
   "source": [
    "## Conclusion"
   ]
  },
  {
   "cell_type": "markdown",
   "metadata": {},
   "source": [
    "From the analysis, we can see that the Naive Bayes is the preferred classifier for presidential speech party identification.\n",
    "As for other methods, Random Forest has an advantage over Decision Trees but is still lower in accuracy compared to Naive Bayes.  K nearest Neighbor and Logistic Regression are on the same scale, and both classifiers overfit for Democratic party. \n",
    "\n",
    "We can also conclude that presidents' words matter, and most of the time, they represent the ideals of their party.\n",
    "More uplifting words in Democratic speeches make a selection for the Naive Bayes Classifier, whereas Republicans' most important feature words are focused on power."
   ]
  }
 ],
 "metadata": {
  "kernelspec": {
   "display_name": "Python 3",
   "language": "python",
   "name": "python3"
  },
  "language_info": {
   "codemirror_mode": {
    "name": "ipython",
    "version": 3
   },
   "file_extension": ".py",
   "mimetype": "text/x-python",
   "name": "python",
   "nbconvert_exporter": "python",
   "pygments_lexer": "ipython3",
   "version": "3.6.5"
  }
 },
 "nbformat": 4,
 "nbformat_minor": 5
}
