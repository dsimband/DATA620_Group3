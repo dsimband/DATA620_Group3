{
 "cells": [
  {
   "cell_type": "markdown",
   "metadata": {},
   "source": [
    "# DATA620: Assignment 6\n",
    "\n",
    "## Homework Team 3: David Simbandumwe, Eric Lehmphul and Lidiia Tronina"
   ]
  },
  {
   "cell_type": "markdown",
   "metadata": {},
   "source": [
    "### Data"
   ]
  },
  {
   "cell_type": "markdown",
   "metadata": {},
   "source": [
    "For this project, we will be working with Davis Southern Club Women network dataset obtained from a previously collected data by Davis et al in 1930s. It represent observed attendance of 18 southern women at 14 social events. It's a simple 2-node network.\n",
    "\n",
    "* [Brief Description](http://vlado.fmf.uni-lj.si/pub/networks/data/ucinet/ucidata.htm#davis)\n",
    "* [Dataset](http://vlado.fmf.uni-lj.si/pub/networks/data/Ucinet/davis.dat)\n",
    "* [Python code to create dataset](https://networkx.github.io/documentation/stable/auto_examples/algorithms/plot_davis_club.html)\n",
    "\n",
    "\n",
    "The objective of this week's assignment is:\n",
    "\n",
    "* Load a dataset\n",
    "* Create basic analysis\n",
    "* Explore the relationship between (1) the women, and (2) the social events"
   ]
  },
  {
   "cell_type": "markdown",
   "metadata": {},
   "source": [
    "### Load Required Packages"
   ]
  },
  {
   "cell_type": "code",
   "execution_count": 7,
   "metadata": {},
   "outputs": [],
   "source": [
    "import networkx as nx\n",
    "from networkx import algorithms \n",
    "import matplotlib.pyplot as plt\n",
    "import pandas as pd\n",
    "import networkx.algorithms.bipartite as bipartite"
   ]
  },
  {
   "cell_type": "markdown",
   "metadata": {},
   "source": [
    "### Exploratory Data Analysis"
   ]
  },
  {
   "cell_type": "code",
   "execution_count": 14,
   "metadata": {},
   "outputs": [
    {
     "data": {
      "text/plain": [
       "['Evelyn Jefferson',\n",
       " 'Laura Mandeville',\n",
       " 'Theresa Anderson',\n",
       " 'Brenda Rogers',\n",
       " 'Charlotte McDowd',\n",
       " 'Frances Anderson',\n",
       " 'Eleanor Nye',\n",
       " 'Pearl Oglethorpe',\n",
       " 'Ruth DeSand',\n",
       " 'Verne Sanderson',\n",
       " 'Myra Liddel',\n",
       " 'Katherina Rogers',\n",
       " 'Sylvia Avondale',\n",
       " 'Nora Fayette',\n",
       " 'Helen Lloyd',\n",
       " 'Dorothy Murchison',\n",
       " 'Olivia Carleton',\n",
       " 'Flora Price']"
      ]
     },
     "execution_count": 14,
     "metadata": {},
     "output_type": "execute_result"
    }
   ],
   "source": [
    "# Import data\n",
    "G = nx.davis_southern_women_graph()\n",
    "women = G.graph[\"top\"]\n",
    "clubs = G.graph[\"bottom\"]\n",
    "women"
   ]
  },
  {
   "cell_type": "code",
   "execution_count": 15,
   "metadata": {},
   "outputs": [
    {
     "data": {
      "text/plain": [
       "['E1',\n",
       " 'E2',\n",
       " 'E3',\n",
       " 'E4',\n",
       " 'E5',\n",
       " 'E6',\n",
       " 'E7',\n",
       " 'E8',\n",
       " 'E9',\n",
       " 'E10',\n",
       " 'E11',\n",
       " 'E12',\n",
       " 'E13',\n",
       " 'E14']"
      ]
     },
     "execution_count": 15,
     "metadata": {},
     "output_type": "execute_result"
    }
   ],
   "source": [
    "clubs"
   ]
  },
  {
   "cell_type": "code",
   "execution_count": 13,
   "metadata": {},
   "outputs": [
    {
     "name": "stdout",
     "output_type": "stream",
     "text": [
      "Biadjacency matrix\n",
      "  (0, 0)\t1\n",
      "  (0, 1)\t1\n",
      "  (0, 2)\t1\n",
      "  (0, 3)\t1\n",
      "  (0, 4)\t1\n",
      "  (0, 5)\t1\n",
      "  (0, 7)\t1\n",
      "  (0, 8)\t1\n",
      "  (1, 0)\t1\n",
      "  (1, 1)\t1\n",
      "  (1, 2)\t1\n",
      "  (1, 4)\t1\n",
      "  (1, 5)\t1\n",
      "  (1, 6)\t1\n",
      "  (1, 7)\t1\n",
      "  (2, 1)\t1\n",
      "  (2, 2)\t1\n",
      "  (2, 3)\t1\n",
      "  (2, 4)\t1\n",
      "  (2, 5)\t1\n",
      "  (2, 6)\t1\n",
      "  (2, 7)\t1\n",
      "  (2, 8)\t1\n",
      "  (3, 0)\t1\n",
      "  (3, 2)\t1\n",
      "  :\t:\n",
      "  (12, 7)\t1\n",
      "  (12, 8)\t1\n",
      "  (12, 9)\t1\n",
      "  (12, 11)\t1\n",
      "  (12, 12)\t1\n",
      "  (12, 13)\t1\n",
      "  (13, 5)\t1\n",
      "  (13, 6)\t1\n",
      "  (13, 8)\t1\n",
      "  (13, 9)\t1\n",
      "  (13, 10)\t1\n",
      "  (13, 11)\t1\n",
      "  (13, 12)\t1\n",
      "  (13, 13)\t1\n",
      "  (14, 6)\t1\n",
      "  (14, 7)\t1\n",
      "  (14, 9)\t1\n",
      "  (14, 10)\t1\n",
      "  (14, 11)\t1\n",
      "  (15, 7)\t1\n",
      "  (15, 8)\t1\n",
      "  (16, 8)\t1\n",
      "  (16, 10)\t1\n",
      "  (17, 8)\t1\n",
      "  (17, 10)\t1\n"
     ]
    }
   ],
   "source": [
    "print(\"Biadjacency matrix\")\n",
    "print(bipartite.biadjacency_matrix(G, women, clubs))"
   ]
  },
  {
   "cell_type": "code",
   "execution_count": 10,
   "metadata": {},
   "outputs": [
    {
     "name": "stdout",
     "output_type": "stream",
     "text": [
      "\n",
      "#Friends, Member\n",
      "17 Evelyn Jefferson\n",
      "15 Laura Mandeville\n",
      "17 Theresa Anderson\n",
      "15 Brenda Rogers\n",
      "11 Charlotte McDowd\n",
      "15 Frances Anderson\n",
      "15 Eleanor Nye\n",
      "16 Pearl Oglethorpe\n",
      "17 Ruth DeSand\n",
      "17 Verne Sanderson\n",
      "16 Myra Liddel\n",
      "16 Katherina Rogers\n",
      "17 Sylvia Avondale\n",
      "17 Nora Fayette\n",
      "17 Helen Lloyd\n",
      "16 Dorothy Murchison\n",
      "12 Olivia Carleton\n",
      "12 Flora Price\n"
     ]
    }
   ],
   "source": [
    "# project bipartite graph onto women nodes\n",
    "W = bipartite.projected_graph(G, women)\n",
    "print()\n",
    "print(\"#Friends, Member\")\n",
    "for w in women:\n",
    "    print(f\"{W.degree(w)} {w}\")"
   ]
  },
  {
   "cell_type": "code",
   "execution_count": 23,
   "metadata": {},
   "outputs": [
    {
     "name": "stdout",
     "output_type": "stream",
     "text": [
      "\n",
      "#Friends, Clubs\n",
      "8 E1\n",
      "8 E2\n",
      "8 E3\n",
      "8 E4\n",
      "8 E5\n",
      "13 E6\n",
      "13 E7\n",
      "13 E8\n",
      "13 E9\n",
      "8 E10\n",
      "8 E11\n",
      "8 E12\n",
      "8 E13\n",
      "8 E14\n"
     ]
    }
   ],
   "source": [
    "# project bipartite graph onto club nodes\n",
    "C = bipartite.projected_graph(G, clubs)\n",
    "print()\n",
    "print(\"#Friends, Clubs\")\n",
    "for c in clubs:\n",
    "    print(f\"{C.degree(c)} {c}\")"
   ]
  },
  {
   "cell_type": "markdown",
   "metadata": {},
   "source": [
    "### Degree Centrality"
   ]
  },
  {
   "cell_type": "code",
   "execution_count": 24,
   "metadata": {},
   "outputs": [
    {
     "name": "stdout",
     "output_type": "stream",
     "text": [
      "\n",
      "#Friend meetings, Member\n",
      "50 Evelyn Jefferson\n",
      "45 Laura Mandeville\n",
      "57 Theresa Anderson\n",
      "46 Brenda Rogers\n",
      "24 Charlotte McDowd\n",
      "32 Frances Anderson\n",
      "36 Eleanor Nye\n",
      "31 Pearl Oglethorpe\n",
      "40 Ruth DeSand\n",
      "38 Verne Sanderson\n",
      "33 Myra Liddel\n",
      "37 Katherina Rogers\n",
      "46 Sylvia Avondale\n",
      "43 Nora Fayette\n",
      "34 Helen Lloyd\n",
      "24 Dorothy Murchison\n",
      "14 Olivia Carleton\n",
      "14 Flora Price\n"
     ]
    }
   ],
   "source": [
    "# project bipartite graph onto women nodes keeping number of co-occurence\n",
    "# the degree computed is weighted and counts the total number of shared contacts\n",
    "W = bipartite.weighted_projected_graph(G, women)\n",
    "print()\n",
    "print(\"#Friend meetings, Member\")\n",
    "for w in women:\n",
    "    print(f\"{W.degree(w, weight='weight')} {w}\")\n"
   ]
  },
  {
   "cell_type": "code",
   "execution_count": 27,
   "metadata": {},
   "outputs": [
    {
     "name": "stdout",
     "output_type": "stream",
     "text": [
      "\n",
      "#Friend Meetings, Clubs\n",
      "19 E1\n",
      "20 E2\n",
      "32 E3\n",
      "23 E4\n",
      "38 E5\n",
      "41 E6\n",
      "48 E7\n",
      "59 E8\n",
      "46 E9\n",
      "25 E10\n",
      "13 E11\n",
      "28 E12\n",
      "18 E13\n",
      "18 E14\n"
     ]
    }
   ],
   "source": [
    "C = bipartite.weighted_projected_graph(G, clubs)\n",
    "print()\n",
    "print(\"#Friend Meetings, Clubs\")\n",
    "for c in clubs:\n",
    "    print(f\"{C.degree(c, weight='weight')} {c}\")"
   ]
  },
  {
   "cell_type": "code",
   "execution_count": 16,
   "metadata": {},
   "outputs": [
    {
     "data": {
      "image/png": "[encoded data removed]",
      "text/plain": [
       "<Figure size 432x288 with 1 Axes>"
      ]
     },
     "metadata": {},
     "output_type": "display_data"
    }
   ],
   "source": [
    "pos = nx.spring_layout(G, seed=123)  # Seed layout for reproducible node positions\n",
    "nx.draw(G, pos)\n",
    "plt.show()"
   ]
  },
  {
   "cell_type": "code",
   "execution_count": null,
   "metadata": {},
   "outputs": [],
   "source": []
  },
  {
   "cell_type": "code",
   "execution_count": null,
   "metadata": {},
   "outputs": [],
   "source": []
  },
  {
   "cell_type": "code",
   "execution_count": null,
   "metadata": {},
   "outputs": [],
   "source": []
  },
  {
   "cell_type": "code",
   "execution_count": null,
   "metadata": {},
   "outputs": [],
   "source": []
  },
  {
   "cell_type": "code",
   "execution_count": null,
   "metadata": {},
   "outputs": [],
   "source": []
  }
 ],
 "metadata": {
  "kernelspec": {
   "display_name": "Python 3",
   "language": "python",
   "name": "python3"
  },
  "language_info": {
   "codemirror_mode": {
    "name": "ipython",
    "version": 3
   },
   "file_extension": ".py",
   "mimetype": "text/x-python",
   "name": "python",
   "nbconvert_exporter": "python",
   "pygments_lexer": "ipython3",
   "version": "3.6.5"
  }
 },
 "nbformat": 4,
 "nbformat_minor": 5
}
