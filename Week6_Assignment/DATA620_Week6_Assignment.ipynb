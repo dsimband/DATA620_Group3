{
 "cells": [
  {
   "cell_type": "markdown",
   "id": "21b1a4c7",
   "metadata": {},
   "source": [
    "# DATA620: Assignment 6\n",
    "\n",
    "## Homework Team 3: David Simbandumwe, Eric Lehmphul and Lidiia Tronina"
   ]
  },
  {
   "cell_type": "markdown",
   "id": "87df6229",
   "metadata": {},
   "source": [
    "### Data"
   ]
  },
  {
   "cell_type": "markdown",
   "id": "cac889bf",
   "metadata": {},
   "source": [
    "For this project, we will be working with Davis Southern Club Women network dataset obtained from a previously collected data by Davis et al in 1930s. It represent observed attendance of 18 southern women at 14 social events. It's a simple 2-node network.\n",
    "\n",
    "* [Brief Description](http://vlado.fmf.uni-lj.si/pub/networks/data/ucinet/ucidata.htm#davis)\n",
    "* [Dataset](http://vlado.fmf.uni-lj.si/pub/networks/data/Ucinet/davis.dat)\n",
    "* [Python code to create dataset](https://networkx.github.io/documentation/stable/auto_examples/algorithms/plot_davis_club.html)\n",
    "\n",
    "The objective of this week's assignment is:\n",
    "\n",
    "* Load a dataset\n",
    "* Create basic analysis\n",
    "* Explore the relationship between (1) the women, and (2) the social events"
   ]
  },
  {
   "cell_type": "markdown",
   "id": "8dc5904a",
   "metadata": {},
   "source": [
    "### Load Required Packages"
   ]
  },
  {
   "cell_type": "code",
   "execution_count": 1,
   "id": "44060c86",
   "metadata": {},
   "outputs": [],
   "source": [
    "import networkx as nx\n",
    "from networkx import algorithms \n",
    "import matplotlib.pyplot as plt\n",
    "import pandas as pd\n",
    "import plotly.express as px\n",
    "import networkx.algorithms.bipartite as bipartite"
   ]
  },
  {
   "cell_type": "markdown",
   "id": "95f5a1c8",
   "metadata": {},
   "source": [
    "### Exploratory Data Analysis"
   ]
  },
  {
   "cell_type": "markdown",
   "id": "ed2e3783",
   "metadata": {},
   "source": [
    "We have two kinds of nodes: women, and events."
   ]
  },
  {
   "cell_type": "code",
   "execution_count": 2,
   "id": "90a8f468",
   "metadata": {},
   "outputs": [
    {
     "data": {
      "text/plain": [
       "['Evelyn Jefferson',\n",
       " 'Laura Mandeville',\n",
       " 'Theresa Anderson',\n",
       " 'Brenda Rogers',\n",
       " 'Charlotte McDowd',\n",
       " 'Frances Anderson',\n",
       " 'Eleanor Nye',\n",
       " 'Pearl Oglethorpe',\n",
       " 'Ruth DeSand',\n",
       " 'Verne Sanderson',\n",
       " 'Myra Liddel',\n",
       " 'Katherina Rogers',\n",
       " 'Sylvia Avondale',\n",
       " 'Nora Fayette',\n",
       " 'Helen Lloyd',\n",
       " 'Dorothy Murchison',\n",
       " 'Olivia Carleton',\n",
       " 'Flora Price']"
      ]
     },
     "execution_count": 2,
     "metadata": {},
     "output_type": "execute_result"
    }
   ],
   "source": [
    "# Import data\n",
    "G = nx.davis_southern_women_graph()\n",
    "women = G.graph[\"top\"]\n",
    "clubs = G.graph[\"bottom\"]\n",
    "women"
   ]
  },
  {
   "cell_type": "code",
   "execution_count": 3,
   "id": "a7089957",
   "metadata": {},
   "outputs": [
    {
     "data": {
      "text/plain": [
       "['E1',\n",
       " 'E2',\n",
       " 'E3',\n",
       " 'E4',\n",
       " 'E5',\n",
       " 'E6',\n",
       " 'E7',\n",
       " 'E8',\n",
       " 'E9',\n",
       " 'E10',\n",
       " 'E11',\n",
       " 'E12',\n",
       " 'E13',\n",
       " 'E14']"
      ]
     },
     "execution_count": 3,
     "metadata": {},
     "output_type": "execute_result"
    }
   ],
   "source": [
    "clubs"
   ]
  },
  {
   "cell_type": "code",
   "execution_count": 4,
   "id": "fd0a8f83",
   "metadata": {},
   "outputs": [
    {
     "name": "stdout",
     "output_type": "stream",
     "text": [
      "Biadjacency matrix\n",
      "  (0, 0)\t1\n",
      "  (0, 1)\t1\n",
      "  (0, 2)\t1\n",
      "  (0, 3)\t1\n",
      "  (0, 4)\t1\n",
      "  (0, 5)\t1\n",
      "  (0, 7)\t1\n",
      "  (0, 8)\t1\n",
      "  (1, 0)\t1\n",
      "  (1, 1)\t1\n",
      "  (1, 2)\t1\n",
      "  (1, 4)\t1\n",
      "  (1, 5)\t1\n",
      "  (1, 6)\t1\n",
      "  (1, 7)\t1\n",
      "  (2, 1)\t1\n",
      "  (2, 2)\t1\n",
      "  (2, 3)\t1\n",
      "  (2, 4)\t1\n",
      "  (2, 5)\t1\n",
      "  (2, 6)\t1\n",
      "  (2, 7)\t1\n",
      "  (2, 8)\t1\n",
      "  (3, 0)\t1\n",
      "  (3, 2)\t1\n",
      "  :\t:\n",
      "  (12, 7)\t1\n",
      "  (12, 8)\t1\n",
      "  (12, 9)\t1\n",
      "  (12, 11)\t1\n",
      "  (12, 12)\t1\n",
      "  (12, 13)\t1\n",
      "  (13, 5)\t1\n",
      "  (13, 6)\t1\n",
      "  (13, 8)\t1\n",
      "  (13, 9)\t1\n",
      "  (13, 10)\t1\n",
      "  (13, 11)\t1\n",
      "  (13, 12)\t1\n",
      "  (13, 13)\t1\n",
      "  (14, 6)\t1\n",
      "  (14, 7)\t1\n",
      "  (14, 9)\t1\n",
      "  (14, 10)\t1\n",
      "  (14, 11)\t1\n",
      "  (15, 7)\t1\n",
      "  (15, 8)\t1\n",
      "  (16, 8)\t1\n",
      "  (16, 10)\t1\n",
      "  (17, 8)\t1\n",
      "  (17, 10)\t1\n"
     ]
    }
   ],
   "source": [
    "print(\"Biadjacency matrix\")\n",
    "print(bipartite.biadjacency_matrix(G, women, clubs))"
   ]
  },
  {
   "cell_type": "markdown",
   "id": "f97903f9",
   "metadata": {},
   "source": [
    "### Degree Centrality"
   ]
  },
  {
   "cell_type": "code",
   "execution_count": 5,
   "id": "c2244073",
   "metadata": {},
   "outputs": [],
   "source": [
    "womenDegree = nx.degree(G, women, weight='weight') \n",
    "clubsDegree = nx.degree(G, clubs)"
   ]
  },
  {
   "cell_type": "code",
   "execution_count": 6,
   "id": "203ef16b",
   "metadata": {},
   "outputs": [
    {
     "data": {
      "text/plain": [
       "{'Evelyn Jefferson': 8,\n",
       " 'Theresa Anderson': 8,\n",
       " 'Nora Fayette': 8,\n",
       " 'Laura Mandeville': 7,\n",
       " 'Brenda Rogers': 7,\n",
       " 'Sylvia Avondale': 7,\n",
       " 'Katherina Rogers': 6,\n",
       " 'Helen Lloyd': 5,\n",
       " 'Charlotte McDowd': 4,\n",
       " 'Frances Anderson': 4,\n",
       " 'Eleanor Nye': 4,\n",
       " 'Ruth DeSand': 4,\n",
       " 'Verne Sanderson': 4,\n",
       " 'Myra Liddel': 4,\n",
       " 'Pearl Oglethorpe': 3,\n",
       " 'Dorothy Murchison': 2,\n",
       " 'Olivia Carleton': 2,\n",
       " 'Flora Price': 2}"
      ]
     },
     "execution_count": 6,
     "metadata": {},
     "output_type": "execute_result"
    }
   ],
   "source": [
    "#womenDegree\n",
    "deg_w = dict(sorted(dict(womenDegree).items(), key=lambda item: item[1],reverse=True))\n",
    "deg_w"
   ]
  },
  {
   "cell_type": "code",
   "execution_count": 7,
   "id": "2ae11fde",
   "metadata": {},
   "outputs": [
    {
     "data": {
      "text/plain": [
       "{'E8': 14,\n",
       " 'E9': 12,\n",
       " 'E7': 10,\n",
       " 'E5': 8,\n",
       " 'E6': 8,\n",
       " 'E3': 6,\n",
       " 'E12': 6,\n",
       " 'E10': 5,\n",
       " 'E4': 4,\n",
       " 'E11': 4,\n",
       " 'E1': 3,\n",
       " 'E2': 3,\n",
       " 'E13': 3,\n",
       " 'E14': 3}"
      ]
     },
     "execution_count": 7,
     "metadata": {},
     "output_type": "execute_result"
    }
   ],
   "source": [
    "#womenDegree\n",
    "deg_c = dict(sorted(dict(clubsDegree).items(), key=lambda item: item[1],reverse=True))\n",
    "deg_c"
   ]
  },
  {
   "cell_type": "markdown",
   "id": "db316872",
   "metadata": {},
   "source": [
    "### Visualize the network"
   ]
  },
  {
   "cell_type": "code",
   "execution_count": 8,
   "id": "6af976f4",
   "metadata": {},
   "outputs": [
    {
     "ename": "NameError",
     "evalue": "name 'pos' is not defined",
     "output_type": "error",
     "traceback": [
      "\u001b[0;31m---------------------------------------------------------------------------\u001b[0m",
      "\u001b[0;31mNameError\u001b[0m                                 Traceback (most recent call last)",
      "\u001b[0;32m<ipython-input-8-56c98ad900fb>\u001b[0m in \u001b[0;36m<module>\u001b[0;34m\u001b[0m\n\u001b[1;32m      1\u001b[0m \u001b[0mplt\u001b[0m\u001b[0;34m.\u001b[0m\u001b[0mfigure\u001b[0m\u001b[0;34m(\u001b[0m\u001b[0;36m1\u001b[0m\u001b[0;34m,\u001b[0m\u001b[0mfigsize\u001b[0m\u001b[0;34m=\u001b[0m\u001b[0;34m(\u001b[0m\u001b[0;36m15\u001b[0m\u001b[0;34m,\u001b[0m\u001b[0;36m10\u001b[0m\u001b[0;34m)\u001b[0m\u001b[0;34m)\u001b[0m\u001b[0;34m\u001b[0m\u001b[0;34m\u001b[0m\u001b[0m\n\u001b[1;32m      2\u001b[0m \u001b[0;34m\u001b[0m\u001b[0m\n\u001b[0;32m----> 3\u001b[0;31m nx.draw_networkx_nodes(G,pos,\n\u001b[0m\u001b[1;32m      4\u001b[0m                        \u001b[0mnodelist\u001b[0m\u001b[0;34m=\u001b[0m\u001b[0mwomen\u001b[0m\u001b[0;34m,\u001b[0m\u001b[0;34m\u001b[0m\u001b[0;34m\u001b[0m\u001b[0m\n\u001b[1;32m      5\u001b[0m                        \u001b[0mnode_color\u001b[0m\u001b[0;34m=\u001b[0m\u001b[0;34m'#FF66CC'\u001b[0m\u001b[0;34m,\u001b[0m\u001b[0;34m\u001b[0m\u001b[0;34m\u001b[0m\u001b[0m\n",
      "\u001b[0;31mNameError\u001b[0m: name 'pos' is not defined"
     ]
    },
    {
     "data": {
      "text/plain": [
       "<matplotlib.figure.Figure at 0x7fbd237b9fd0>"
      ]
     },
     "metadata": {},
     "output_type": "display_data"
    }
   ],
   "source": [
    "plt.figure(1,figsize=(15,10)) \n",
    "\n",
    "nx.draw_networkx_nodes(G,pos,\n",
    "                       nodelist=women,\n",
    "                       node_color='#FF66CC',\n",
    "                       node_size=[v * 100 for v in dict(womenDegree).values()],\n",
    "                   alpha=0.8)\n",
    "nx.draw_networkx_nodes(G,pos,\n",
    "                       nodelist=clubs,\n",
    "                       node_color='#3399FF',\n",
    "                       node_size=[v * 200 for v in dict(clubsDegree).values()],\n",
    "                   alpha=0.8)\n",
    "\n",
    "# edges\n",
    "nx.draw(G,pos,with_labels = True, font_size = 11, width=1.0,alpha=0.5)"
   ]
  },
  {
   "cell_type": "markdown",
   "id": "a5f97b90-c3fb-46f3-ba80-8a40f3374717",
   "metadata": {},
   "source": [
    "# Analysis of Bipartite\n",
    "* project the bipartite graph on the women node\n",
    "* calculate measures of centrality (Degrees, Closeness, Betweenness and Eigenvector)"
   ]
  },
  {
   "cell_type": "code",
   "execution_count": 9,
   "id": "6332c47b-6dfc-4ab3-995f-d41bc128d9d0",
   "metadata": {},
   "outputs": [],
   "source": [
    "W = bipartite.weighted_projected_graph(G, women)"
   ]
  },
  {
   "cell_type": "code",
   "execution_count": null,
   "id": "7c14ecdd-3fd1-4f00-9421-aac929ccffee",
   "metadata": {},
   "outputs": [],
   "source": [
    "deg = nx.degree(W, weight='weight')\n",
    "c = nx.closeness_centrality(W)\n",
    "b=nx.betweenness_centrality(W)\n",
    "e = nx.eigenvector_centrality(W, max_iter=100) "
   ]
  },
  {
   "cell_type": "code",
   "execution_count": null,
   "id": "312d638c-2bf5-486b-acdb-762456f0a339",
   "metadata": {},
   "outputs": [],
   "source": [
    "df = pd.DataFrame(women, columns=['name'])"
   ]
  },
  {
   "cell_type": "code",
   "execution_count": null,
   "id": "c8b73f38-b9b6-44aa-8146-60a199ef2cc9",
   "metadata": {},
   "outputs": [],
   "source": [
    "df['Degree'] = df['name'].map(dict(deg))\n",
    "df['Closeness'] = df['name'].map(dict(c))\n",
    "df['Betweenness'] = df['name'].map(dict(b))\n",
    "df['Eigenvector'] = df['name'].map(dict(e))\n",
    "df.round(decimals=4)"
   ]
  },
  {
   "cell_type": "code",
   "execution_count": null,
   "id": "f5869e75-15bd-4ab1-9422-7f5c30fb30c4",
   "metadata": {},
   "outputs": [],
   "source": [
    "fig = px.scatter(df, x=\"Closeness\", y=\"Betweenness\", size=\"Degree\", color=\"Eigenvector\", \n",
    "                    hover_name=\"name\", width=1000, height=600, title=\"Davis Southern Club Women (measures of centrality)\")\n",
    "fig.show()"
   ]
  },
  {
   "cell_type": "code",
   "execution_count": null,
   "id": "0f1c2720-904e-4b62-87c2-09802852e5c7",
   "metadata": {},
   "outputs": [],
   "source": [
    "fig = px.scatter(df, x=\"Closeness\", y=\"Eigenvector\", size=\"Degree\", color=\"Betweenness\", \n",
    "                    hover_name=\"name\", width=1000, height=600, title=\"Davis Southern Club Women (measures of centrality)\")\n",
    "fig.show()"
   ]
  },
  {
   "cell_type": "markdown",
   "id": "4ad0eec8-6ec2-43c3-bcf4-bc000bbaf578",
   "metadata": {},
   "source": [
    "# Conclusions\n",
    "There are several clusters of centrality measures\n",
    "* The centrality measure can be divided into the following 4 groups (g1 - g4)\n",
    "* g1 - overall low measures of connectivity and centrality\n",
    "* g4 - high measures of connectivity and centrality"
   ]
  },
  {
   "cell_type": "code",
   "execution_count": null,
   "id": "f3379785-e853-4a07-a48b-b304ad741f4a",
   "metadata": {},
   "outputs": [],
   "source": [
    "df_g1 = df[df['Closeness'] < 0.8]\n",
    "df_g1"
   ]
  },
  {
   "cell_type": "code",
   "execution_count": null,
   "id": "51327c14-8a25-4832-bb81-33880974dc28",
   "metadata": {},
   "outputs": [],
   "source": [
    "import numpy as np\n",
    "df_g2 = df[np.logical_and(df['Closeness'] > 0.8, df['Closeness'] < 0.9)]\n",
    "df_g2"
   ]
  },
  {
   "cell_type": "code",
   "execution_count": null,
   "id": "47b134f0-839c-4e3d-9a6a-2c15a7c10156",
   "metadata": {},
   "outputs": [],
   "source": [
    "df_g3 = df[np.logical_and(df['Closeness'] > 0.9, df['Closeness'] < 0.95)]\n",
    "df_g3"
   ]
  },
  {
   "cell_type": "code",
   "execution_count": null,
   "id": "7fc9fe83-a8cc-4125-9d0b-075c9828ddf1",
   "metadata": {},
   "outputs": [],
   "source": [
    "df_g4 = df[np.logical_and(df['Closeness'] > 0.95, df['Closeness'] < 1.2)]\n",
    "df_g4"
   ]
  }
 ],
 "metadata": {
  "kernelspec": {
   "display_name": "Python 3",
   "language": "python",
   "name": "python3"
  },
  "language_info": {
   "codemirror_mode": {
    "name": "ipython",
    "version": 3
   },
   "file_extension": ".py",
   "mimetype": "text/x-python",
   "name": "python",
   "nbconvert_exporter": "python",
   "pygments_lexer": "ipython3",
   "version": "3.6.13"
  }
 },
 "nbformat": 4,
 "nbformat_minor": 5
}
